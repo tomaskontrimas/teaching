{
 "cells": [
  {
   "cell_type": "code",
   "execution_count": 1,
   "metadata": {
    "slideshow": {
     "slide_type": "skip"
    }
   },
   "outputs": [],
   "source": [
    "%matplotlib notebook"
   ]
  },
  {
   "cell_type": "markdown",
   "metadata": {
    "slideshow": {
     "slide_type": "slide"
    }
   },
   "source": [
    "# Advanced Python Programming\n",
    "\n",
    "Dr. Martin Wolf, Tomas Kontrimas\n",
    "\n",
    "Advanced Python Programming, WS 2022/23"
   ]
  },
  {
   "cell_type": "code",
   "execution_count": 2,
   "metadata": {
    "slideshow": {
     "slide_type": "fragment"
    }
   },
   "outputs": [
    {
     "name": "stdout",
     "output_type": "stream",
     "text": [
      "Hello World\n"
     ]
    }
   ],
   "source": [
    "class Word:\n",
    "    def __init__(self, word):\n",
    "        self.word = word\n",
    "    def __add__(self, rhs):\n",
    "        return Word(self.word + ' ' + str(rhs))\n",
    "    def __str__(self):\n",
    "        return self.word\n",
    "    \n",
    "hello = Word('Hello')\n",
    "world = Word('World')\n",
    "print(hello + world)"
   ]
  },
  {
   "cell_type": "markdown",
   "metadata": {
    "slideshow": {
     "slide_type": "slide"
    }
   },
   "source": [
    "# Learning objectives of this course\n",
    "\n",
    "* Understanding the concepts of object-oriented programming (OOP), in particular in Python\n",
    "* Understanding inheritance in OOP\n",
    "* Some useful software packages for data processing and plotting\n",
    "* Working with version-control systems like `git` and `github.com`"
   ]
  },
  {
   "cell_type": "markdown",
   "metadata": {
    "slideshow": {
     "slide_type": "slide"
    }
   },
   "source": [
    "# Technical Prerequisites Of This Course\n",
    "\n",
    "* Computer with Python and Jupyter Notebook support\n",
    "\n",
    "    - Linux, Windows, Mac\n",
    "    \n",
    "* Alternatively, create and use Jupyter notebooks on google: https://colab.research.google.com\n",
    "    \n",
    "* *github.com* account"
   ]
  },
  {
   "cell_type": "markdown",
   "metadata": {
    "slideshow": {
     "slide_type": "slide"
    }
   },
   "source": [
    "# Why do we need to be able to develop software, in particular in physics?"
   ]
  },
  {
   "cell_type": "markdown",
   "metadata": {
    "slideshow": {
     "slide_type": "subslide"
    }
   },
   "source": [
    "* For most of our professional time we work with ...\n",
    "\n",
    "    * data taking\n",
    "    * data simulation\n",
    "    * data management\n",
    "    * data selection\n",
    "    * data analysis\n",
    "    \n",
    "* All of the above needs software that is ...\n",
    "\n",
    "    * efficient\n",
    "    * modular\n",
    "    * well maintainable\n",
    "    * scalable"
   ]
  },
  {
   "cell_type": "markdown",
   "metadata": {
    "slideshow": {
     "slide_type": "subslide"
    }
   },
   "source": [
    "**Example: Trigger rate of the IceCube Neutrino Detector at South Pole:**\n",
    "\n",
    "![Trigger rate of the Icecube Neutrino Detector at South Pole](figures/icecube_trigger_rate.png)"
   ]
  },
  {
   "cell_type": "markdown",
   "metadata": {
    "slideshow": {
     "slide_type": "slide"
    }
   },
   "source": [
    "# Overview\n",
    "\n",
    "DON'T PANIC!  \n",
    "Just read the instructions:\n",
    "<https://docs.python.org/3/>\n",
    "\n",
    "## Intro and course setup\n",
    "* Jupyter Notebook and virtual Python environments on your own computer\n",
    "* Jupyter Notebook on Google Colab"
   ]
  },
  {
   "cell_type": "markdown",
   "metadata": {
    "slideshow": {
     "slide_type": "subslide"
    }
   },
   "source": [
    "## The basics of Python (recap)\n",
    "* Data types in Python\n",
    "* Python as a calculator\n",
    "* String formatting\n",
    "* Loops and Conditions\n",
    "* List comprehension\n",
    "* Working with files\n",
    "* Functions\n",
    "* Lambda functions\n",
    "* Exceptions\n",
    "* Decorators\n",
    "* PEP8 Coding Style\n",
    "* Common pitfalls\n",
    "\n",
    "## Object-Oriented Programming (OOP)\n",
    "* Classes\n",
    "* Properties\n",
    "* Class methods\n",
    "* Static methods\n",
    "* Operator methods\n",
    "* Inheritance\n",
    "* Multiple inheritance\n",
    "* Abstract base classes\n",
    "* Iterator protocol\n",
    "* Generators"
   ]
  },
  {
   "cell_type": "markdown",
   "metadata": {
    "slideshow": {
     "slide_type": "subslide"
    }
   },
   "source": [
    "## Advanced packages\n",
    "* `numpy` for data processing\n",
    "* `pandas` for structural data processing\n",
    "* `matplotlib` for plotting\n",
    "\n",
    "## Working with version control systems (git)\n",
    "* What is a version control system?\n",
    "* What is `git`?\n",
    "* Cloning a repository\n",
    "* Working with branches\n",
    "* Commiting code changes\n",
    "* Merging two branches\n",
    "* Resolving merge conflicts\n",
    "* Pull requests on github.com"
   ]
  },
  {
   "cell_type": "markdown",
   "metadata": {
    "slideshow": {
     "slide_type": "slide"
    }
   },
   "source": [
    "# Jupyter Notebook and virtual Python environments on your own computer"
   ]
  },
  {
   "cell_type": "markdown",
   "metadata": {
    "slideshow": {
     "slide_type": "subslide"
    }
   },
   "source": [
    "This shows the installation of Jupyter and Python virtual environments on Linux (Ubuntu).\n",
    "\n",
    "First, let's install Jupyter via `apt-get`:\n",
    "\n",
    "```bash\n",
    "sudo apt-get install python3-notebook python3-ipykernel\n",
    "```\n",
    "\n",
    "For this course, I recommend to setup a dedicated virtual Python 3 environment:\n",
    "    \n",
    "```bash\n",
    "sudo apt-get install virtualenvwrapper\n",
    "source /usr/share/virtualenvwrapper/virtualenvwrapper.sh\n",
    "```\n",
    "  \n",
    "The environment is created via:\n",
    "  \n",
    "```bash\n",
    "mkvirtualenv -p /usr/bin/python3 --system-site-packages adv-py3-course\n",
    "pip install -U astropy matplotlib numpy scipy\n",
    "```\n",
    "\n",
    "The final step is to add the virtual Python environment to Jupyter Notebook:\n",
    "\n",
    "```bash\n",
    "python -m ipykernel install --user \\\n",
    "    --name adv-py3-course --display-name \"Python 3 (adv-py3-course)\"\n",
    "```"
   ]
  },
  {
   "cell_type": "markdown",
   "metadata": {
    "slideshow": {
     "slide_type": "subslide"
    }
   },
   "source": [
    "I further recommend to put the\n",
    "\n",
    "```bash\n",
    "source /usr/share/virtualenvwrapper/virtualenvwrapper.sh\n",
    "```\n",
    "\n",
    "line into your `.profile` and launch a new terminal window.\n",
    "\n",
    "You can start a Jupyter Notebook via:\n",
    "\n",
    "```bash\n",
    "jupyter notebook\n",
    "```\n",
    "\n",
    "and create a new `py3-astro` notebook.\n",
    "\n",
    "For executing Python scripts, you can activate the `py3-astro` environment via:\n",
    "\n",
    "```bash\n",
    "workon py3-astro\n",
    "```\n",
    "\n",
    "and deactivate it via:\n",
    "\n",
    "```bash\n",
    "deactivate\n",
    "```"
   ]
  },
  {
   "cell_type": "markdown",
   "metadata": {
    "slideshow": {
     "slide_type": "slide"
    }
   },
   "source": [
    "# Jupyter Notebook on Google Colab"
   ]
  },
  {
   "cell_type": "markdown",
   "metadata": {
    "slideshow": {
     "slide_type": "fragment"
    }
   },
   "source": [
    "* Goto https://colab.research.google.com and create a new notebook\n",
    "* To install new packages, type `!pip install <package>`"
   ]
  },
  {
   "cell_type": "markdown",
   "metadata": {
    "slideshow": {
     "slide_type": "slide"
    }
   },
   "source": [
    "# The basics of Python"
   ]
  },
  {
   "cell_type": "markdown",
   "metadata": {
    "slideshow": {
     "slide_type": "subslide"
    }
   },
   "source": [
    "* Python is an interpreted (no compilation) and loosely typed programming language.\n",
    "* The latest major version of Python is **Python3**. Don't use Python2 anymore!"
   ]
  },
  {
   "cell_type": "code",
   "execution_count": 3,
   "metadata": {
    "slideshow": {
     "slide_type": "skip"
    }
   },
   "outputs": [],
   "source": [
    "%matplotlib notebook"
   ]
  },
  {
   "cell_type": "code",
   "execution_count": 4,
   "metadata": {
    "slideshow": {
     "slide_type": "fragment"
    }
   },
   "outputs": [],
   "source": [
    "# Comments start with '#'."
   ]
  },
  {
   "cell_type": "code",
   "execution_count": 5,
   "metadata": {
    "slideshow": {
     "slide_type": "fragment"
    }
   },
   "outputs": [],
   "source": [
    "# Import modules.\n",
    "import os\n",
    "\n",
    "import matplotlib.pyplot\n",
    "import numpy as np"
   ]
  },
  {
   "cell_type": "code",
   "execution_count": 6,
   "metadata": {
    "slideshow": {
     "slide_type": "fragment"
    }
   },
   "outputs": [],
   "source": [
    "# Import only specific functions from a module.\n",
    "from __future__ import print_function, division"
   ]
  },
  {
   "cell_type": "code",
   "execution_count": 7,
   "metadata": {
    "slideshow": {
     "slide_type": "fragment"
    }
   },
   "outputs": [],
   "source": [
    "# Remember: never ever do 'from foo import *'"
   ]
  },
  {
   "cell_type": "code",
   "execution_count": 8,
   "metadata": {
    "slideshow": {
     "slide_type": "fragment"
    }
   },
   "outputs": [],
   "source": [
    "# Declare a variable.\n",
    "a = 5.\n",
    "a = \"Hello World!\""
   ]
  },
  {
   "cell_type": "markdown",
   "metadata": {
    "slideshow": {
     "slide_type": "slide"
    }
   },
   "source": [
    "## Data types"
   ]
  },
  {
   "cell_type": "markdown",
   "metadata": {
    "slideshow": {
     "slide_type": "subslide"
    }
   },
   "source": [
    "* Numeric types:  \n",
    "  `int, float, complex`\n",
    "* Sequence types:  \n",
    "  `str, unicode, list, tuple, bytearray, buffer`\n",
    "* Set types:  \n",
    "  `set, frozenset`\n",
    "* Map types:  \n",
    "  `dict`\n",
    "* Boolean types:\n",
    "  `bool`\n",
    "* The None type object: `None`\n",
    "* Mutable data types like `list` and `dict` are copied by reference.\n",
    "* Immutable data types like `int` and `float` are copied by value.\n",
    "* Full list:  \n",
    "  <https://docs.python.org/3.7/library/stdtypes.html#>"
   ]
  },
  {
   "cell_type": "markdown",
   "metadata": {
    "slideshow": {
     "slide_type": "slide"
    }
   },
   "source": [
    "## Python as a calculator"
   ]
  },
  {
   "cell_type": "code",
   "execution_count": 9,
   "metadata": {
    "slideshow": {
     "slide_type": "subslide"
    }
   },
   "outputs": [
    {
     "name": "stdout",
     "output_type": "stream",
     "text": [
      "5.  + 5. = 10.0\n",
      "10. - 5. = 5.0\n"
     ]
    }
   ],
   "source": [
    "# Addition and substraction\n",
    "print(\"5.  + 5. =\", 5. + 5.)\n",
    "print(\"10. - 5. =\", 10. - 5.)"
   ]
  },
  {
   "cell_type": "code",
   "execution_count": 10,
   "metadata": {
    "slideshow": {
     "slide_type": "fragment"
    }
   },
   "outputs": [
    {
     "name": "stdout",
     "output_type": "stream",
     "text": [
      "5.  * 5. = 25.0\n",
      "25. / 5. = 5.0\n"
     ]
    }
   ],
   "source": [
    "# Multiplication and division\n",
    "print(\"5.  * 5. =\", 5. * 5.)\n",
    "print(\"25. / 5. =\", 25. / 5.)"
   ]
  },
  {
   "cell_type": "code",
   "execution_count": 11,
   "metadata": {
    "slideshow": {
     "slide_type": "fragment"
    }
   },
   "outputs": [
    {
     "name": "stdout",
     "output_type": "stream",
     "text": [
      "25. % 4. = 1.0\n",
      "5.**2    = 25.0\n"
     ]
    }
   ],
   "source": [
    "# Modulo and exponentiation\n",
    "print(\"25. % 4. =\", 25. % 4.)\n",
    "print(\"5.**2    =\", 5.**2)"
   ]
  },
  {
   "cell_type": "code",
   "execution_count": 12,
   "metadata": {
    "slideshow": {
     "slide_type": "subslide"
    }
   },
   "outputs": [
    {
     "name": "stdout",
     "output_type": "stream",
     "text": [
      "a + 5. = 10.0\n"
     ]
    }
   ],
   "source": [
    "# Do calculations with variables.\n",
    "a = 5.\n",
    "print(\"a + 5. =\", a + 5.)"
   ]
  },
  {
   "cell_type": "code",
   "execution_count": 13,
   "metadata": {
    "slideshow": {
     "slide_type": "fragment"
    }
   },
   "outputs": [
    {
     "name": "stdout",
     "output_type": "stream",
     "text": [
      "c = a + b = 9.0\n"
     ]
    }
   ],
   "source": [
    "b = 4.\n",
    "c = a + b\n",
    "print(\"c = a + b =\", c)"
   ]
  },
  {
   "cell_type": "code",
   "execution_count": 14,
   "metadata": {
    "slideshow": {
     "slide_type": "fragment"
    }
   },
   "outputs": [
    {
     "name": "stdout",
     "output_type": "stream",
     "text": [
      "a = 10.0\n"
     ]
    }
   ],
   "source": [
    "# In-place modifications\n",
    "a += 5.\n",
    "print(\"a =\", a)"
   ]
  },
  {
   "cell_type": "code",
   "execution_count": 15,
   "metadata": {
    "slideshow": {
     "slide_type": "fragment"
    }
   },
   "outputs": [
    {
     "name": "stdout",
     "output_type": "stream",
     "text": [
      "exp(2.5)   = 12.182493960703473\n",
      "sin(pi/2.) = 1.0\n"
     ]
    }
   ],
   "source": [
    "# Call mathematical functions like sin, exp, log, ...\n",
    "# Instead of NumPy, you can also use the 'math' module.\n",
    "print(\"exp(2.5)   =\", np.exp(2.5))\n",
    "print(\"sin(pi/2.) =\", np.sin(np.pi/2.))"
   ]
  },
  {
   "cell_type": "markdown",
   "metadata": {
    "slideshow": {
     "slide_type": "slide"
    }
   },
   "source": [
    "## String formatting"
   ]
  },
  {
   "cell_type": "markdown",
   "metadata": {
    "slideshow": {
     "slide_type": "subslide"
    }
   },
   "source": [
    "General form:\n",
    "\n",
    "```\n",
    "[fill][align][sign][#][0][width][,][.precision][type]\n",
    "```\n",
    "\n",
    "See:  \n",
    "<https://docs.python.org/3/library/string.html#format-string-syntax>"
   ]
  },
  {
   "cell_type": "code",
   "execution_count": 16,
   "metadata": {
    "slideshow": {
     "slide_type": "fragment"
    }
   },
   "outputs": [
    {
     "name": "stdout",
     "output_type": "stream",
     "text": [
      "     +3.14\n",
      "0000000003\n"
     ]
    }
   ],
   "source": [
    "# Some examples\n",
    "print(\"{:>+10.2f}\".format(np.pi))\n",
    "print(\"{:010d}\".format(3))"
   ]
  },
  {
   "cell_type": "code",
   "execution_count": 17,
   "metadata": {
    "slideshow": {
     "slide_type": "fragment"
    }
   },
   "outputs": [
    {
     "name": "stdout",
     "output_type": "stream",
     "text": [
      "0, 1, 2, 3\n",
      "4\n"
     ]
    }
   ],
   "source": [
    "# Some more examples\n",
    "s = \"{0}, {1[0]}, {1[1]}, {2[a]}\"\n",
    "print(s.format(0, [1, 2], {\"a\": 3}))\n",
    "print(\"{key}\".format(key=4))"
   ]
  },
  {
   "cell_type": "markdown",
   "metadata": {
    "slideshow": {
     "slide_type": "subslide"
    }
   },
   "source": [
    "F-string (formatted string literal) introduced in Python 3.6 supports the same sting formatting form as `.format()`.\n",
    "They can embed Python expressions directly inside them using `f\"string example {expression:format}\"` syntax."
   ]
  },
  {
   "cell_type": "code",
   "execution_count": 18,
   "metadata": {
    "slideshow": {
     "slide_type": "fragment"
    }
   },
   "outputs": [
    {
     "name": "stdout",
     "output_type": "stream",
     "text": [
      "a = 10.5\n",
      "a = 10\n",
      "Evaluate some code: 25.00\n",
      "Evaluate some more code: 3\n"
     ]
    }
   ],
   "source": [
    "# f-string examples\n",
    "a = 10.5\n",
    "print(f\"a = {a}\")\n",
    "print(f\"a = {a:.0f}\")\n",
    "print(f\"Evaluate some code: {5*5:.2f}\")\n",
    "print(f\"Evaluate some more code: {np.sqrt(9):.0f}\")"
   ]
  },
  {
   "cell_type": "markdown",
   "metadata": {
    "slideshow": {
     "slide_type": "slide"
    }
   },
   "source": [
    "## Loops and Conditions"
   ]
  },
  {
   "cell_type": "code",
   "execution_count": 19,
   "metadata": {
    "slideshow": {
     "slide_type": "subslide"
    }
   },
   "outputs": [
    {
     "name": "stdout",
     "output_type": "stream",
     "text": [
      "Skip 0.\n",
      "1 is an odd  number.\n",
      "2 is an even number.\n"
     ]
    }
   ],
   "source": [
    "# Example for-loop with conditions\n",
    "for i in range(3):\n",
    "    if i == 0:\n",
    "        print(\"Skip 0.\")\n",
    "    elif i % 2 > 0:\n",
    "        print(\"{} is an odd  number.\".format(i))\n",
    "    else:\n",
    "        print(\"{} is an even number.\".format(i))"
   ]
  },
  {
   "cell_type": "code",
   "execution_count": 20,
   "metadata": {
    "slideshow": {
     "slide_type": "fragment"
    }
   },
   "outputs": [],
   "source": [
    "# Example while-loop\n",
    "d = {\"a\": 0, \"b\": 1}\n",
    "\n",
    "while len(d) > 0:\n",
    "    d.popitem()"
   ]
  },
  {
   "cell_type": "markdown",
   "metadata": {
    "slideshow": {
     "slide_type": "fragment"
    }
   },
   "source": [
    "* You can break out of a loop via `break`.\n",
    "* Iterations can be skipped via `continue`.\n",
    "* Remember that Python does not really know about scopes."
   ]
  },
  {
   "cell_type": "markdown",
   "metadata": {
    "slideshow": {
     "slide_type": "slide"
    }
   },
   "source": [
    "## List comprehension"
   ]
  },
  {
   "cell_type": "markdown",
   "metadata": {
    "slideshow": {
     "slide_type": "subslide"
    }
   },
   "source": [
    "An easy way to create iterables from existing ones."
   ]
  },
  {
   "cell_type": "code",
   "execution_count": 21,
   "metadata": {
    "slideshow": {
     "slide_type": "fragment"
    }
   },
   "outputs": [],
   "source": [
    "# List comprehension examples\n",
    "l = [i**2 for i in range(10)]\n",
    "l = [10. / i for i in range(10) if i > 0]\n",
    "l = [10. / i if i > 0 else np.inf for n in range(10)]\n",
    "l = [[a*i for a in [1, 2]] for i in range(1, 11)]"
   ]
  },
  {
   "cell_type": "code",
   "execution_count": 22,
   "metadata": {
    "slideshow": {
     "slide_type": "fragment"
    }
   },
   "outputs": [],
   "source": [
    "# The same works for dictionaries.\n",
    "d = {\"a\": 2., \"b\": 3.}\n",
    "d = {k: v**2 for k, v in d.items()}"
   ]
  },
  {
   "cell_type": "code",
   "execution_count": 23,
   "metadata": {
    "slideshow": {
     "slide_type": "fragment"
    }
   },
   "outputs": [],
   "source": [
    "# And of course sets\n",
    "s = {i**2 for i in range(10)}"
   ]
  },
  {
   "cell_type": "code",
   "execution_count": 24,
   "metadata": {
    "slideshow": {
     "slide_type": "fragment"
    }
   },
   "outputs": [
    {
     "name": "stdout",
     "output_type": "stream",
     "text": [
      "285\n"
     ]
    }
   ],
   "source": [
    "# Some generator magic\n",
    "g = (i**2 for i in range(10))\n",
    "r = sum(g)\n",
    "\n",
    "# We can also do this in one line.\n",
    "print(sum(i**2 for i in range(10)))"
   ]
  },
  {
   "cell_type": "markdown",
   "metadata": {
    "slideshow": {
     "slide_type": "slide"
    }
   },
   "source": [
    "## Working with files"
   ]
  },
  {
   "cell_type": "code",
   "execution_count": 25,
   "metadata": {
    "slideshow": {
     "slide_type": "subslide"
    }
   },
   "outputs": [],
   "source": [
    "# Create a text file and give it some input.\n",
    "with open(\"example.txt\", \"w\") as stream:\n",
    "    stream.write(\"This is a line.\\n\")\n",
    "    stream.write(\"This is another line.\")"
   ]
  },
  {
   "cell_type": "code",
   "execution_count": 26,
   "metadata": {
    "slideshow": {
     "slide_type": "fragment"
    }
   },
   "outputs": [
    {
     "name": "stdout",
     "output_type": "stream",
     "text": [
      "This is a line.\n",
      "This is another line.\n"
     ]
    }
   ],
   "source": [
    "# Read the content of the text file.\n",
    "with open(\"example.txt\", \"r\") as stream:\n",
    "    lines = stream.readlines()\n",
    "    \n",
    "print(\"\".join(lines))"
   ]
  },
  {
   "cell_type": "code",
   "execution_count": 27,
   "metadata": {
    "slideshow": {
     "slide_type": "skip"
    }
   },
   "outputs": [],
   "source": [
    "os.remove(\"example.txt\")"
   ]
  },
  {
   "cell_type": "markdown",
   "metadata": {
    "slideshow": {
     "slide_type": "slide"
    }
   },
   "source": [
    "## Functions"
   ]
  },
  {
   "cell_type": "code",
   "execution_count": 28,
   "metadata": {
    "slideshow": {
     "slide_type": "subslide"
    }
   },
   "outputs": [],
   "source": [
    "# A simple function that takes two arguments.\n",
    "def power(a, e=2.):\n",
    "    r\"\"\"Exponentiation\n",
    "    \n",
    "    Calculate: ``a**e``.\n",
    "    \n",
    "    Parameters\n",
    "    ----------\n",
    "    a : float\n",
    "        Some number\n",
    "    e : float, optional\n",
    "        Exponent\n",
    "        \n",
    "    Returns\n",
    "    -------\n",
    "    float\n",
    "        Result of ``a**e``\n",
    "    \n",
    "    \"\"\"\n",
    "    return a**e"
   ]
  },
  {
   "cell_type": "code",
   "execution_count": 29,
   "metadata": {
    "slideshow": {
     "slide_type": "fragment"
    }
   },
   "outputs": [
    {
     "name": "stdout",
     "output_type": "stream",
     "text": [
      "5.**2 = 25.0\n"
     ]
    }
   ],
   "source": [
    "print(\"5.**2 =\", power(5.))"
   ]
  },
  {
   "cell_type": "code",
   "execution_count": 30,
   "metadata": {
    "slideshow": {
     "slide_type": "subslide"
    }
   },
   "outputs": [],
   "source": [
    "# Alternative ways to call the function\n",
    "results = [\n",
    "    power(5., 2.),\n",
    "    power(5., e=2.),\n",
    "    power(a=5., e=2.),\n",
    "    power(e=2., a=5.),\n",
    "    power(*[5., 2.]),\n",
    "    power(**{\"a\": 5., \"e\": 2.})\n",
    "    ]"
   ]
  },
  {
   "cell_type": "code",
   "execution_count": 31,
   "metadata": {
    "slideshow": {
     "slide_type": "fragment"
    }
   },
   "outputs": [
    {
     "name": "stdout",
     "output_type": "stream",
     "text": [
      "Results: 25.0, 25.0, 25.0, 25.0, 25.0, 25.0\n"
     ]
    }
   ],
   "source": [
    "print(\"Results:\", \", \".join(\"{}\".format(r) for r in results))"
   ]
  },
  {
   "cell_type": "code",
   "execution_count": 32,
   "metadata": {
    "slideshow": {
     "slide_type": "fragment"
    }
   },
   "outputs": [],
   "source": [
    "# General syntax\n",
    "def func(*args, **kwargs):\n",
    "    print(f'args: {args}')\n",
    "    print(f'kwargs: {kwargs}')"
   ]
  },
  {
   "cell_type": "code",
   "execution_count": 33,
   "metadata": {
    "slideshow": {
     "slide_type": "fragment"
    }
   },
   "outputs": [
    {
     "name": "stdout",
     "output_type": "stream",
     "text": [
      "args: (3, 'a')\n",
      "kwargs: {'a': 2, 'b': '1'}\n"
     ]
    }
   ],
   "source": [
    "func(3 ,'a', a=2, b='1')"
   ]
  },
  {
   "cell_type": "markdown",
   "metadata": {
    "slideshow": {
     "slide_type": "fragment"
    }
   },
   "source": [
    "A few words about doc strings:\n",
    "\n",
    "* **Do write** them because they help to better understand your code.\n",
    "* We recommend the NumPy style:  \n",
    "  <https://sphinxcontrib-napoleon.readthedocs.io/en/latest/example_numpy.html>"
   ]
  },
  {
   "cell_type": "markdown",
   "metadata": {
    "slideshow": {
     "slide_type": "slide"
    }
   },
   "source": [
    "## Lambda functions"
   ]
  },
  {
   "cell_type": "markdown",
   "metadata": {
    "slideshow": {
     "slide_type": "subslide"
    }
   },
   "source": [
    "Lambdas are unnamed in-line functions."
   ]
  },
  {
   "cell_type": "code",
   "execution_count": 34,
   "metadata": {
    "slideshow": {
     "slide_type": "fragment"
    }
   },
   "outputs": [
    {
     "name": "stdout",
     "output_type": "stream",
     "text": [
      "['S', 'g', 'i', 'n', 'r', 't']\n",
      "['g', 'i', 'n', 'r', 'S', 't']\n"
     ]
    }
   ],
   "source": [
    "# Example for lambda usage\n",
    "print(sorted(\"String\"))\n",
    "print(sorted(\"String\", key=lambda s: s.lower()))"
   ]
  },
  {
   "cell_type": "code",
   "execution_count": 35,
   "metadata": {
    "slideshow": {
     "slide_type": "fragment"
    }
   },
   "outputs": [
    {
     "name": "stdout",
     "output_type": "stream",
     "text": [
      "5**2 = 25.0\n"
     ]
    }
   ],
   "source": [
    "# A lambda function can be assigned to a variable.\n",
    "square = lambda x: x**2\n",
    "print(\"5**2 =\", square(5.))"
   ]
  },
  {
   "cell_type": "markdown",
   "metadata": {
    "slideshow": {
     "slide_type": "slide"
    }
   },
   "source": [
    "## Exceptions"
   ]
  },
  {
   "cell_type": "code",
   "execution_count": 36,
   "metadata": {
    "slideshow": {
     "slide_type": "subslide"
    }
   },
   "outputs": [],
   "source": [
    "# Write a function that can raise an exception.\n",
    "def division(a, b):\n",
    "    r\"\"\"Divide `a` by `b`.\n",
    "    \n",
    "    Parameters\n",
    "    ----------\n",
    "    a,b : float\n",
    "        Nominator and denominator\n",
    "        \n",
    "    Returns\n",
    "    -------\n",
    "    float\n",
    "        The result of ``a/b``\n",
    "        \n",
    "    Raises\n",
    "    ------\n",
    "    ValueError\n",
    "        If the denominator `b` is zero.\n",
    "    \"\"\"\n",
    "    if np.fabs(b) > 0.:\n",
    "        return a / b\n",
    "    else:\n",
    "        raise ValueError(\"The denominator should not be zero.\")"
   ]
  },
  {
   "cell_type": "code",
   "execution_count": 37,
   "metadata": {
    "slideshow": {
     "slide_type": "subslide"
    }
   },
   "outputs": [
    {
     "name": "stdout",
     "output_type": "stream",
     "text": [
      "The denominator should not be zero.\n",
      "The result is inf.\n"
     ]
    }
   ],
   "source": [
    "# Catch the exception.\n",
    "try:\n",
    "    r = division(5., 0.)\n",
    "except ValueError as e:\n",
    "    print(e)\n",
    "    r = np.inf\n",
    "finally:\n",
    "    print(\"The result is {}.\".format(r))"
   ]
  },
  {
   "cell_type": "markdown",
   "metadata": {
    "slideshow": {
     "slide_type": "fragment"
    }
   },
   "source": [
    "A full list of built-in exceptions can be found here:  \n",
    "<https://docs.python.org/3/library/exceptions.html>"
   ]
  },
  {
   "cell_type": "markdown",
   "metadata": {
    "slideshow": {
     "slide_type": "fragment"
    }
   },
   "source": [
    "The most common exception types that one wants to raise are:\n",
    "* `TypeError`\n",
    "* `ValueError`\n",
    "* `NameError`\n",
    "* `IndexError`\n",
    "* `KeyError`\n",
    "* `NotImplementedError`"
   ]
  },
  {
   "cell_type": "markdown",
   "metadata": {
    "slideshow": {
     "slide_type": "slide"
    }
   },
   "source": [
    "## Decorators"
   ]
  },
  {
   "cell_type": "markdown",
   "metadata": {
    "slideshow": {
     "slide_type": "subslide"
    }
   },
   "source": [
    "Decorators are syntactic sugar for functions that are *decorating* other functions.\n",
    "\n",
    "* Decorator functions take a **callable** as argument.\n",
    "* Decorator functions should call the given callable argument."
   ]
  },
  {
   "cell_type": "code",
   "execution_count": 38,
   "metadata": {
    "slideshow": {
     "slide_type": "fragment"
    }
   },
   "outputs": [],
   "source": [
    "# Example of a simple decorating function.\n",
    "def paragraph(f):\n",
    "    return lambda name: \"<p>{}</p>\".format(f(name))"
   ]
  },
  {
   "cell_type": "code",
   "execution_count": 39,
   "metadata": {
    "slideshow": {
     "slide_type": "fragment"
    }
   },
   "outputs": [],
   "source": [
    "@paragraph\n",
    "def greet(name):\n",
    "    return \"Hello {}, how are you?\".format(name)"
   ]
  },
  {
   "cell_type": "code",
   "execution_count": 40,
   "metadata": {
    "slideshow": {
     "slide_type": "fragment"
    }
   },
   "outputs": [
    {
     "name": "stdout",
     "output_type": "stream",
     "text": [
      "<p>Hello John, how are you?</p>\n"
     ]
    }
   ],
   "source": [
    "print(greet(\"John\"))"
   ]
  },
  {
   "cell_type": "markdown",
   "metadata": {
    "slideshow": {
     "slide_type": "slide"
    }
   },
   "source": [
    "## PEP8 Coding style"
   ]
  },
  {
   "cell_type": "markdown",
   "metadata": {
    "slideshow": {
     "slide_type": "fragment"
    }
   },
   "source": [
    "Please stick to the 'official' style guide for Python code:  \n",
    "<https://www.python.org/dev/peps/pep-0008/>\n",
    "\n",
    "Useful software tools:\n",
    "- [flake8](https://flake8.pycqa.org/en/latest/) is a popular linter for python. It checks against PEP8 coding style and for programming errors.\n",
    "- [black](https://black.readthedocs.io/en/stable/index.html) is the uncompromising Python code formatter. It automatically formats code to conform to the PEP8 compliant coding style."
   ]
  },
  {
   "cell_type": "markdown",
   "metadata": {
    "slideshow": {
     "slide_type": "slide"
    }
   },
   "source": [
    "## Common pitfalls\n",
    "\n",
    "The Python language has some particular properties that might lead to some not-so obvious pitfalls."
   ]
  },
  {
   "cell_type": "markdown",
   "metadata": {
    "slideshow": {
     "slide_type": "subslide"
    }
   },
   "source": [
    "* Objects are passed by reference (not by copy!)\n",
    "    * except scalar data types like int, float, complex"
   ]
  },
  {
   "cell_type": "code",
   "execution_count": 41,
   "metadata": {
    "slideshow": {
     "slide_type": "fragment"
    }
   },
   "outputs": [
    {
     "name": "stdout",
     "output_type": "stream",
     "text": [
      "42\n"
     ]
    }
   ],
   "source": [
    "a = 42\n",
    "def f(b):\n",
    "    b = 11\n",
    "f(a)\n",
    "print(a)"
   ]
  },
  {
   "cell_type": "markdown",
   "metadata": {
    "slideshow": {
     "slide_type": "fragment"
    }
   },
   "source": [
    "The scalar variable is passed as copy."
   ]
  },
  {
   "cell_type": "code",
   "execution_count": 42,
   "metadata": {
    "slideshow": {
     "slide_type": "fragment"
    }
   },
   "outputs": [
    {
     "name": "stdout",
     "output_type": "stream",
     "text": [
      "[42, 11]\n"
     ]
    }
   ],
   "source": [
    "a = [42]\n",
    "def f(b):\n",
    "    c = b\n",
    "    c.append(11)\n",
    "f(a)\n",
    "print(a)"
   ]
  },
  {
   "cell_type": "markdown",
   "metadata": {
    "slideshow": {
     "slide_type": "fragment"
    }
   },
   "source": [
    "The list `a` is passed as reference. Hence, `b` referes to the same object `a` in memory. The same applies for name changes of variables. `c` refers to the same object as `b`."
   ]
  },
  {
   "cell_type": "markdown",
   "metadata": {
    "slideshow": {
     "slide_type": "subslide"
    }
   },
   "source": [
    "* Function keyword argument default values are instanciated only once\n",
    "    * lists as keyword argument default values can be tricky"
   ]
  },
  {
   "cell_type": "code",
   "execution_count": 43,
   "metadata": {
    "slideshow": {
     "slide_type": "fragment"
    }
   },
   "outputs": [],
   "source": [
    "def f(a=[0]):\n",
    "    # Append a new element with the value as\n",
    "    # the maximum of all list values plus 1.\n",
    "    a.append(max(a) + 1)\n",
    "    return a"
   ]
  },
  {
   "cell_type": "code",
   "execution_count": 44,
   "metadata": {
    "slideshow": {
     "slide_type": "fragment"
    }
   },
   "outputs": [
    {
     "name": "stdout",
     "output_type": "stream",
     "text": [
      "[0, 1]\n"
     ]
    }
   ],
   "source": [
    "print(f())"
   ]
  },
  {
   "cell_type": "code",
   "execution_count": 45,
   "metadata": {
    "slideshow": {
     "slide_type": "fragment"
    }
   },
   "outputs": [
    {
     "name": "stdout",
     "output_type": "stream",
     "text": [
      "[0, 1, 2]\n"
     ]
    }
   ],
   "source": [
    "print(f())"
   ]
  },
  {
   "cell_type": "markdown",
   "metadata": {
    "slideshow": {
     "slide_type": "fragment"
    }
   },
   "source": [
    "The function changes the one-and-only list object that was instantiated as default keyword argument value."
   ]
  },
  {
   "cell_type": "markdown",
   "metadata": {
    "slideshow": {
     "slide_type": "slide"
    }
   },
   "source": [
    "## Object-Oriented Programming (OOP)"
   ]
  },
  {
   "cell_type": "markdown",
   "metadata": {
    "slideshow": {
     "slide_type": "subslide"
    }
   },
   "source": [
    "From Wikipedia:\n",
    "    \n",
    "    Object-oriented programming (OOP) is a programming paradigm based on the concept of \"objects\", which can\n",
    "    contain data and code: data in the form of fields (often known as attributes or properties), and code,\n",
    "    in the form of procedures (often known as methods).\n",
    "\n",
    "In contrast to sequential global programming, object-oriented programming allows to encapsulate sets of functionalities into classes.\n",
    "\n",
    "Classes can be instantiated as **instances**, i.e. objects of a particular class."
   ]
  },
  {
   "cell_type": "markdown",
   "metadata": {
    "slideshow": {
     "slide_type": "fragment"
    }
   },
   "source": [
    "Example:\n",
    "\n",
    "Given class `Animal`, the object `cat` and object `dog` could be instances of class `Animal`. \n",
    "\n",
    "The class `Animal` can have data fields, i.e. properties, like `name`, and `color`."
   ]
  },
  {
   "cell_type": "markdown",
   "metadata": {
    "slideshow": {
     "slide_type": "slide"
    }
   },
   "source": [
    "## Classes"
   ]
  },
  {
   "cell_type": "markdown",
   "metadata": {
    "slideshow": {
     "slide_type": "fragment"
    }
   },
   "source": [
    "* A class is an object in Python, i.e. a **class object**.\n",
    "* A class always has a **constructor**.\n",
    "* A class can have **attributes**.\n",
    "    * In Python everything is accessible, i.e. **public**.\n",
    "    * Convention: Private attributes start with an underscore (`_`). \n",
    "* A class can have **instance methods** (functions of the class available to an instance of the class).\n",
    "* A class can have **class methods** (functions of the class available to the class object and an instance of the class).\n",
    "* A class can have **special methods** like `__str__`.\n",
    "* Classes can be derived from other classes (one or many) (see inheritance)."
   ]
  },
  {
   "cell_type": "code",
   "execution_count": 46,
   "metadata": {
    "slideshow": {
     "slide_type": "fragment"
    }
   },
   "outputs": [],
   "source": [
    "# A not very useful class.\n",
    "class MyClass(object):\n",
    "    pass"
   ]
  },
  {
   "cell_type": "code",
   "execution_count": 47,
   "metadata": {
    "slideshow": {
     "slide_type": "fragment"
    }
   },
   "outputs": [
    {
     "data": {
      "text/plain": [
       "['__class__',\n",
       " '__delattr__',\n",
       " '__dict__',\n",
       " '__dir__',\n",
       " '__doc__',\n",
       " '__eq__',\n",
       " '__format__',\n",
       " '__ge__',\n",
       " '__getattribute__',\n",
       " '__gt__',\n",
       " '__hash__',\n",
       " '__init__',\n",
       " '__init_subclass__',\n",
       " '__le__',\n",
       " '__lt__',\n",
       " '__module__',\n",
       " '__ne__',\n",
       " '__new__',\n",
       " '__reduce__',\n",
       " '__reduce_ex__',\n",
       " '__repr__',\n",
       " '__setattr__',\n",
       " '__sizeof__',\n",
       " '__str__',\n",
       " '__subclasshook__',\n",
       " '__weakref__']"
      ]
     },
     "execution_count": 47,
     "metadata": {},
     "output_type": "execute_result"
    }
   ],
   "source": [
    "# MyClass is a class object!\n",
    "# Let's look at its attributes:\n",
    "dir(MyClass)"
   ]
  },
  {
   "cell_type": "code",
   "execution_count": 48,
   "metadata": {
    "slideshow": {
     "slide_type": "subslide"
    }
   },
   "outputs": [],
   "source": [
    "# A simple class with a constructor, two attributes, and a special method.\n",
    "class Direction(object):\n",
    "    r\"\"\"Direction\n",
    "    \n",
    "    Directional vector in spherical coordinates \n",
    "    \n",
    "    Attributes\n",
    "    ----------\n",
    "    azimuth : float\n",
    "        Azimuth angle in rad\n",
    "    zenith : float\n",
    "        Zenith angle in rad\n",
    "    \n",
    "    \"\"\"\n",
    "    def __init__(self, azimuth, zenith):\n",
    "        \"\"\"This is the constructor method.\n",
    "        \"\"\"\n",
    "        self.azimuth = azimuth\n",
    "        self.zenith = zenith\n",
    "        \n",
    "    def __str__(self):\n",
    "        \"\"\"This is a special class method to generate output for `str(obj)`.\n",
    "        \"\"\"\n",
    "        return f\"({self.azimuth}, {self.zenith})\""
   ]
  },
  {
   "cell_type": "code",
   "execution_count": 49,
   "metadata": {
    "slideshow": {
     "slide_type": "fragment"
    }
   },
   "outputs": [
    {
     "name": "stdout",
     "output_type": "stream",
     "text": [
      "Direction: (1.0471975511965976, 1.5707963267948966)\n"
     ]
    }
   ],
   "source": [
    "d = Direction(np.pi/3., np.pi/2.)\n",
    "print(\"Direction:\", d)"
   ]
  },
  {
   "cell_type": "markdown",
   "metadata": {
    "slideshow": {
     "slide_type": "slide"
    }
   },
   "source": [
    "## Properties"
   ]
  },
  {
   "cell_type": "markdown",
   "metadata": {
    "slideshow": {
     "slide_type": "subslide"
    }
   },
   "source": [
    "* Properties tie data attributes to setter, getter, deleter methods.\n",
    "    * Allows for data attribute control"
   ]
  },
  {
   "cell_type": "code",
   "execution_count": 50,
   "metadata": {
    "slideshow": {
     "slide_type": "fragment"
    }
   },
   "outputs": [],
   "source": [
    "class A(object):\n",
    "    r\"\"\"Class `A` with the property `a`, which must be a positive number.\n",
    "    \"\"\"\n",
    "    def __init__(self):\n",
    "        self._a = 0\n",
    "    \n",
    "    @property\n",
    "    def a(self):\n",
    "        r\"\"\"int: A positive number\n",
    "        \"\"\"\n",
    "        return self._a\n",
    "    \n",
    "    @a.setter\n",
    "    def a(self, val):\n",
    "        if val >= 0:\n",
    "            self._a = val\n",
    "        else:\n",
    "            raise ValueError(\n",
    "                \"Expect a positive number.\")"
   ]
  },
  {
   "cell_type": "code",
   "execution_count": 51,
   "metadata": {
    "slideshow": {
     "slide_type": "fragment"
    }
   },
   "outputs": [
    {
     "name": "stdout",
     "output_type": "stream",
     "text": [
      "42\n"
     ]
    }
   ],
   "source": [
    "a = A()\n",
    "a.a = 42\n",
    "print(a.a)"
   ]
  },
  {
   "cell_type": "code",
   "execution_count": 52,
   "metadata": {
    "slideshow": {
     "slide_type": "fragment"
    }
   },
   "outputs": [
    {
     "ename": "ValueError",
     "evalue": "Expect a positive number.",
     "output_type": "error",
     "traceback": [
      "\u001b[0;31m---------------------------------------------------------------------------\u001b[0m",
      "\u001b[0;31mValueError\u001b[0m                                Traceback (most recent call last)",
      "\u001b[0;32m<ipython-input-52-9af0c80ce669>\u001b[0m in \u001b[0;36m<module>\u001b[0;34m\u001b[0m\n\u001b[0;32m----> 1\u001b[0;31m \u001b[0ma\u001b[0m\u001b[0;34m.\u001b[0m\u001b[0ma\u001b[0m \u001b[0;34m=\u001b[0m \u001b[0;34m-\u001b[0m\u001b[0;36m1\u001b[0m\u001b[0;34m\u001b[0m\u001b[0;34m\u001b[0m\u001b[0m\n\u001b[0m",
      "\u001b[0;32m<ipython-input-50-82114fcdf6c8>\u001b[0m in \u001b[0;36ma\u001b[0;34m(self, val)\u001b[0m\n\u001b[1;32m     16\u001b[0m             \u001b[0mself\u001b[0m\u001b[0;34m.\u001b[0m\u001b[0m_a\u001b[0m \u001b[0;34m=\u001b[0m \u001b[0mval\u001b[0m\u001b[0;34m\u001b[0m\u001b[0;34m\u001b[0m\u001b[0m\n\u001b[1;32m     17\u001b[0m         \u001b[0;32melse\u001b[0m\u001b[0;34m:\u001b[0m\u001b[0;34m\u001b[0m\u001b[0;34m\u001b[0m\u001b[0m\n\u001b[0;32m---> 18\u001b[0;31m             raise ValueError(\n\u001b[0m\u001b[1;32m     19\u001b[0m                 \"Expect a positive number.\")\n",
      "\u001b[0;31mValueError\u001b[0m: Expect a positive number."
     ]
    }
   ],
   "source": [
    "a.a = -1"
   ]
  },
  {
   "cell_type": "markdown",
   "metadata": {
    "slideshow": {
     "slide_type": "slide"
    }
   },
   "source": [
    "## Instance methods"
   ]
  },
  {
   "cell_type": "markdown",
   "metadata": {
    "slideshow": {
     "slide_type": "fragment"
    }
   },
   "source": [
    "Instance methods have the reference `self` to the class instance as first argument. By definition the constructor method is an instance method as well."
   ]
  },
  {
   "cell_type": "code",
   "execution_count": 53,
   "metadata": {
    "slideshow": {
     "slide_type": "fragment"
    }
   },
   "outputs": [
    {
     "name": "stdout",
     "output_type": "stream",
     "text": [
      "42\n"
     ]
    }
   ],
   "source": [
    "class A(object):\n",
    "    r\"\"\"A class with an instance method.\n",
    "    \"\"\"\n",
    "    def __init__(self, a):\n",
    "        self.a = a\n",
    "\n",
    "a = A(42)\n",
    "print(a.a)"
   ]
  },
  {
   "cell_type": "markdown",
   "metadata": {
    "slideshow": {
     "slide_type": "slide"
    }
   },
   "source": [
    "## The @classmethod decorator"
   ]
  },
  {
   "cell_type": "markdown",
   "metadata": {
    "slideshow": {
     "slide_type": "subslide"
    }
   },
   "source": [
    "The `@classmethod` decorator defines **class methods**. Class methods have a reference to a class object as first argument, i.e. a reference to the class object of the class instance itself. This allows for example to implement more than one constructor for a class."
   ]
  },
  {
   "cell_type": "code",
   "execution_count": 54,
   "metadata": {
    "slideshow": {
     "slide_type": "fragment"
    }
   },
   "outputs": [],
   "source": [
    "class A(object):\n",
    "    r\"\"\"A class with class method.\n",
    "    \n",
    "    \"\"\"\n",
    "    def __init__(self, a, b):\n",
    "        self.a = a\n",
    "        self.b = b\n",
    "        \n",
    "    def __str__(self):\n",
    "        return \"a = {o.a}, b = {o.b}\".format(o=self)\n",
    "    \n",
    "    @classmethod\n",
    "    def from_tuple(cls, t):\n",
    "        return cls(t[0], t[1])"
   ]
  },
  {
   "cell_type": "code",
   "execution_count": 55,
   "metadata": {
    "slideshow": {
     "slide_type": "fragment"
    }
   },
   "outputs": [
    {
     "name": "stdout",
     "output_type": "stream",
     "text": [
      "a = 1.0, b = 2.0\n"
     ]
    }
   ],
   "source": [
    "a = A.from_tuple((1., 2.))\n",
    "print(a)"
   ]
  },
  {
   "cell_type": "markdown",
   "metadata": {
    "slideshow": {
     "slide_type": "slide"
    }
   },
   "source": [
    "## The @staticmethod decorator"
   ]
  },
  {
   "cell_type": "markdown",
   "metadata": {
    "slideshow": {
     "slide_type": "subslide"
    }
   },
   "source": [
    "The `@staticmethod` decorator defines static methods. Static methods can have no arguments at all. Static methods live inside the namespace of a class object. They can be called either from the class object or an instance of the class."
   ]
  },
  {
   "cell_type": "code",
   "execution_count": 56,
   "metadata": {
    "slideshow": {
     "slide_type": "fragment"
    }
   },
   "outputs": [],
   "source": [
    "class Angle(object):\n",
    "    r\"\"\"A class with a static method\n",
    "    \n",
    "    \"\"\"\n",
    "    def __init__(self, value=0.):\n",
    "        self.value = value\n",
    "    \n",
    "    @staticmethod\n",
    "    def deg2rad(angle):\n",
    "        return angle * np.pi / 180."
   ]
  },
  {
   "cell_type": "code",
   "execution_count": 57,
   "metadata": {
    "slideshow": {
     "slide_type": "fragment"
    }
   },
   "outputs": [
    {
     "name": "stdout",
     "output_type": "stream",
     "text": [
      "30deg = 0.52rad\n"
     ]
    }
   ],
   "source": [
    "print(\"30deg = {:.2f}rad\".format(Angle.deg2rad(30.)))"
   ]
  },
  {
   "cell_type": "code",
   "execution_count": 58,
   "metadata": {
    "slideshow": {
     "slide_type": "fragment"
    }
   },
   "outputs": [
    {
     "name": "stdout",
     "output_type": "stream",
     "text": [
      "30deg = 0.52rad\n"
     ]
    }
   ],
   "source": [
    "a = Angle()\n",
    "print(\"30deg = {:.2f}rad\".format(a.deg2rad(30.)))"
   ]
  },
  {
   "cell_type": "markdown",
   "metadata": {
    "slideshow": {
     "slide_type": "slide"
    }
   },
   "source": [
    "## Operator methods\n",
    "\n",
    "* Python classes define magic methods for implementing operators, like `+`, `-`, `*`, etc.\n",
    "* See [emulating numeric types](https://docs.python.org/3/reference/datamodel.html#emulating-numeric-types) for a full list of possible operators.\n",
    "* Binary arithmetic operators:\n",
    "    \n",
    "    * `+`: `__add__(self, rhs)`\n",
    "    * `-`: `__sub__(self, rhs)`\n",
    "    * `*`: `__mul__(self, rhs)`\n",
    "    * `/`: `__div__(self, rhs)`\n",
    "    * `@`: `__matmul__(self, rhs)`\n",
    "    * `%`: `__mod__(self, rhs)`\n",
    "    * `&`: `__and__(self, rhs)`\n",
    "    * `|`: `__or__(self, rhs)`\n",
    "* Reflected (swapped) binary operators use `__r<op>__(self, lhs)`, e.g. `__radd__(self, lhs)`."
   ]
  },
  {
   "cell_type": "code",
   "execution_count": 59,
   "metadata": {
    "slideshow": {
     "slide_type": "subslide"
    }
   },
   "outputs": [
    {
     "name": "stdout",
     "output_type": "stream",
     "text": [
      "Hello World\n",
      "Hello World\n"
     ]
    },
    {
     "ename": "TypeError",
     "evalue": "can only concatenate str (not \"Text\") to str",
     "output_type": "error",
     "traceback": [
      "\u001b[0;31m---------------------------------------------------------------------------\u001b[0m",
      "\u001b[0;31mTypeError\u001b[0m                                 Traceback (most recent call last)",
      "\u001b[0;32m<ipython-input-59-4a6eeadbd374>\u001b[0m in \u001b[0;36m<module>\u001b[0;34m\u001b[0m\n\u001b[1;32m     14\u001b[0m \u001b[0mprint\u001b[0m\u001b[0;34m(\u001b[0m\u001b[0mt1\u001b[0m \u001b[0;34m+\u001b[0m \u001b[0mt2\u001b[0m \u001b[0;34m+\u001b[0m \u001b[0mt3\u001b[0m\u001b[0;34m)\u001b[0m\u001b[0;34m\u001b[0m\u001b[0;34m\u001b[0m\u001b[0m\n\u001b[1;32m     15\u001b[0m \u001b[0mprint\u001b[0m\u001b[0;34m(\u001b[0m\u001b[0mt1\u001b[0m \u001b[0;34m+\u001b[0m \u001b[0;34m' '\u001b[0m \u001b[0;34m+\u001b[0m \u001b[0mt3\u001b[0m\u001b[0;34m)\u001b[0m\u001b[0;34m\u001b[0m\u001b[0;34m\u001b[0m\u001b[0m\n\u001b[0;32m---> 16\u001b[0;31m \u001b[0mprint\u001b[0m\u001b[0;34m(\u001b[0m\u001b[0;34m'Hello'\u001b[0m \u001b[0;34m+\u001b[0m \u001b[0mt2\u001b[0m \u001b[0;34m+\u001b[0m \u001b[0mt3\u001b[0m\u001b[0;34m)\u001b[0m\u001b[0;34m\u001b[0m\u001b[0;34m\u001b[0m\u001b[0m\n\u001b[0m",
      "\u001b[0;31mTypeError\u001b[0m: can only concatenate str (not \"Text\") to str"
     ]
    }
   ],
   "source": [
    "# Example for addition operator:\n",
    "class Text(object):\n",
    "    def __init__(self, value):\n",
    "        self.value = value\n",
    "    def __add__(self, rhs):\n",
    "        return Text(self.value + str(rhs))\n",
    "    def __str__(self):\n",
    "        return self.value\n",
    "    \n",
    "t1 = Text('Hello')\n",
    "t2 = Text(' ')\n",
    "t3 = Text('World')\n",
    "\n",
    "print(t1 + t2 + t3)\n",
    "print(t1 + ' ' + t3)\n",
    "print('Hello' + t2 + t3)"
   ]
  },
  {
   "cell_type": "markdown",
   "metadata": {
    "slideshow": {
     "slide_type": "subslide"
    }
   },
   "source": [
    "The last expression `print('Hello' + t2 + t3)` can be supported via a reflected add operator:"
   ]
  },
  {
   "cell_type": "code",
   "execution_count": 60,
   "metadata": {
    "slideshow": {
     "slide_type": "fragment"
    }
   },
   "outputs": [
    {
     "name": "stdout",
     "output_type": "stream",
     "text": [
      "Hello World\n"
     ]
    }
   ],
   "source": [
    "# Example for addition operator with reflected addition operator:\n",
    "class Text(object):\n",
    "    def __init__(self, value):\n",
    "        self.value = value\n",
    "    def __add__(self, rhs):\n",
    "        return Text(self.value + str(rhs))\n",
    "    def __radd__(self, lhs):\n",
    "        return Text(str(lhs) + self.value)\n",
    "    def __str__(self):\n",
    "        return self.value\n",
    "    \n",
    "t2 = Text(' ')\n",
    "t3 = Text('World')\n",
    "\n",
    "print('Hello' + t2 + t3)"
   ]
  },
  {
   "cell_type": "markdown",
   "metadata": {
    "slideshow": {
     "slide_type": "subslide"
    }
   },
   "source": [
    "* Rich comparison operators and their corresponding magic class methods:\n",
    "    * `>`: `__gt__(self, rhs)`\n",
    "    * `>=`: `__ge__(self, rhs)`\n",
    "    * `<`: `__lt__(self, rhs)`\n",
    "    * `<=`: `__le__(self, rhs)`\n",
    "    * `==`: `__eq__(self, rhs)`\n",
    "    * `!=`: `__ne__(self, rhs)`\n",
    "    * Should return `True` or `False`.\n",
    "* Augmented arithmetic assignments (in-place operators): `__i<op>__(self, rhs)`, e.g. `__iadd__(self, rhs)`.\n",
    "    * `+=`: `__iadd__(self, rhs)`\n",
    "    * `-=`: `__isub__(self, rhs)`\n",
    "    * `*=`: `__imul__(self, rhs)`\n",
    "    * Should return the object itself."
   ]
  },
  {
   "cell_type": "markdown",
   "metadata": {
    "slideshow": {
     "slide_type": "slide"
    }
   },
   "source": [
    "## Inheritance"
   ]
  },
  {
   "cell_type": "markdown",
   "metadata": {
    "slideshow": {
     "slide_type": "subslide"
    }
   },
   "source": [
    "In order to evolve classes in OOP, **inheritance** exists. Classes can be **derived** from **base classes** and **inherit** their properties and methods. This way code can be reused and development time can be saved.\n",
    "\n",
    "* Methods can be overwritten by derived classes.\n",
    "* The `super()` function can be used to call methods of the parent class."
   ]
  },
  {
   "cell_type": "code",
   "execution_count": 61,
   "metadata": {
    "slideshow": {
     "slide_type": "fragment"
    }
   },
   "outputs": [],
   "source": [
    "class Animal(object):\n",
    "    \"\"\"This is the base class.\n",
    "    \"\"\"\n",
    "    def __init__(self, species, age):\n",
    "        self.species = species\n",
    "        self.age = age\n",
    "        \n",
    "    # Instance method.\n",
    "    def description(self):\n",
    "        print(f'{self.species} is {self.age} years old')\n",
    "\n",
    "    @property\n",
    "    def age(self):\n",
    "        return self._age\n",
    "    @age.setter\n",
    "    def age(self, age):\n",
    "        if age >= 0:\n",
    "            self._age = age\n",
    "        else:\n",
    "            raise ValueError(\n",
    "                f'Provided {age} age has to be a positive number.')"
   ]
  },
  {
   "cell_type": "code",
   "execution_count": 62,
   "metadata": {
    "slideshow": {
     "slide_type": "fragment"
    }
   },
   "outputs": [],
   "source": [
    "class Dog(Animal):\n",
    "    \"\"\"The Dog class is derived from the base class `Animal`.\n",
    "    \"\"\"\n",
    "    def __init__(self, age):\n",
    "        # Call the constructor of the parent class.\n",
    "        # This first creates an animal object, which is then extended.\n",
    "        super().__init__('dog', age)\n",
    "        \n",
    "class Cat(Animal):\n",
    "    def __init__(self, age):\n",
    "        super().__init__('cat', age)\n",
    "    \n",
    "    def description(self):\n",
    "        \"\"\"This methods overwrites the parent's description method.\n",
    "        \"\"\"\n",
    "        print(f'I am a {self.species}')"
   ]
  },
  {
   "cell_type": "code",
   "execution_count": 63,
   "metadata": {
    "slideshow": {
     "slide_type": "fragment"
    }
   },
   "outputs": [
    {
     "name": "stdout",
     "output_type": "stream",
     "text": [
      "dog is 5 years old\n"
     ]
    }
   ],
   "source": [
    "dog = Dog(5)\n",
    "dog.description()"
   ]
  },
  {
   "cell_type": "code",
   "execution_count": 64,
   "metadata": {
    "slideshow": {
     "slide_type": "fragment"
    }
   },
   "outputs": [
    {
     "name": "stdout",
     "output_type": "stream",
     "text": [
      "I am a cat\n"
     ]
    }
   ],
   "source": [
    "cat = Cat(6)\n",
    "cat.description()"
   ]
  },
  {
   "cell_type": "code",
   "execution_count": 65,
   "metadata": {
    "slideshow": {
     "slide_type": "fragment"
    }
   },
   "outputs": [
    {
     "name": "stdout",
     "output_type": "stream",
     "text": [
      "<class '__main__.Cat'>\n",
      "<class 'int'>\n",
      "<class 'method'>\n"
     ]
    }
   ],
   "source": [
    "print(type(cat))\n",
    "print(type(cat.age))\n",
    "print(type(cat.description))"
   ]
  },
  {
   "cell_type": "markdown",
   "metadata": {
    "slideshow": {
     "slide_type": "subslide"
    }
   },
   "source": [
    "### isinstance and issubclass"
   ]
  },
  {
   "cell_type": "markdown",
   "metadata": {
    "slideshow": {
     "slide_type": "fragment"
    }
   },
   "source": [
    "To check if an instance is of some class we can use the built-in function `isinstance()` which takes two arguments, an instance object and a class object and returns `True` if the given class is anywhere in the inheritance chain of the instance's class:"
   ]
  },
  {
   "cell_type": "code",
   "execution_count": 66,
   "metadata": {
    "slideshow": {
     "slide_type": "fragment"
    }
   },
   "outputs": [
    {
     "name": "stdout",
     "output_type": "stream",
     "text": [
      "True\n",
      "False\n",
      "True\n"
     ]
    }
   ],
   "source": [
    "print(isinstance(cat, Cat))\n",
    "print(isinstance(cat, Dog))\n",
    "print(isinstance(cat, Animal))"
   ]
  },
  {
   "cell_type": "markdown",
   "metadata": {
    "slideshow": {
     "slide_type": "fragment"
    }
   },
   "source": [
    "We can also check if the given class is a subclass of another class with the built-in function `issublass()`."
   ]
  },
  {
   "cell_type": "code",
   "execution_count": 67,
   "metadata": {
    "slideshow": {
     "slide_type": "fragment"
    }
   },
   "outputs": [
    {
     "name": "stdout",
     "output_type": "stream",
     "text": [
      "True\n",
      "True\n",
      "False\n"
     ]
    }
   ],
   "source": [
    "print(issubclass(Cat, Animal))\n",
    "print(issubclass(Cat, Cat))\n",
    "print(issubclass(Cat, Dog))"
   ]
  },
  {
   "cell_type": "markdown",
   "metadata": {
    "slideshow": {
     "slide_type": "fragment"
    }
   },
   "source": [
    "## Multiple inheritance"
   ]
  },
  {
   "cell_type": "markdown",
   "metadata": {
    "slideshow": {
     "slide_type": "fragment"
    }
   },
   "source": [
    "* A class can be derived from more than one base class.\n",
    "* The parent class constructor should always be called.\n",
    "* Additional argumets `*args` and keyword arguments `**kwargs` need to be passed on to the parent."
   ]
  },
  {
   "cell_type": "code",
   "execution_count": 68,
   "metadata": {
    "slideshow": {
     "slide_type": "fragment"
    }
   },
   "outputs": [],
   "source": [
    "class IsPuppy(object):\n",
    "    def __init__(self, *args, **kwargs):\n",
    "        # We need to call the parent's constructor\n",
    "        # to call the constructor of ALL base classes of a derived class. \n",
    "        super().__init__(*args, **kwargs)\n",
    "\n",
    "    def description(self):\n",
    "        print(f'I am a puppy.')\n",
    "        \n",
    "class Puppy(Dog, IsPuppy):\n",
    "    def __init__(self, age):\n",
    "        super().__init__(age)"
   ]
  },
  {
   "cell_type": "code",
   "execution_count": 69,
   "metadata": {
    "slideshow": {
     "slide_type": "fragment"
    }
   },
   "outputs": [
    {
     "name": "stdout",
     "output_type": "stream",
     "text": [
      "dog is 1 years old\n"
     ]
    }
   ],
   "source": [
    "puppy_dog = Puppy(1)\n",
    "puppy_dog.description()"
   ]
  },
  {
   "cell_type": "markdown",
   "metadata": {
    "slideshow": {
     "slide_type": "fragment"
    }
   },
   "source": [
    "Python determines which description to call using *Method Resolution Order (MRO)*. We can check the order using the `mro()` method:"
   ]
  },
  {
   "cell_type": "code",
   "execution_count": 70,
   "metadata": {
    "slideshow": {
     "slide_type": "fragment"
    }
   },
   "outputs": [
    {
     "name": "stdout",
     "output_type": "stream",
     "text": [
      "[<class '__main__.Puppy'>, <class '__main__.Dog'>, <class '__main__.Animal'>, <class '__main__.IsPuppy'>, <class 'object'>]\n"
     ]
    }
   ],
   "source": [
    "print(Puppy.mro())"
   ]
  },
  {
   "cell_type": "markdown",
   "metadata": {
    "slideshow": {
     "slide_type": "subslide"
    }
   },
   "source": [
    "Changing the MRO to call `IsPuppy`'s description first."
   ]
  },
  {
   "cell_type": "code",
   "execution_count": 71,
   "metadata": {
    "slideshow": {
     "slide_type": "fragment"
    }
   },
   "outputs": [],
   "source": [
    "class Puppy(IsPuppy, Dog):\n",
    "    def __init__(self, age):\n",
    "        super().__init__(age)"
   ]
  },
  {
   "cell_type": "code",
   "execution_count": 72,
   "metadata": {
    "slideshow": {
     "slide_type": "fragment"
    }
   },
   "outputs": [
    {
     "name": "stdout",
     "output_type": "stream",
     "text": [
      "[<class '__main__.Puppy'>, <class '__main__.IsPuppy'>, <class '__main__.Dog'>, <class '__main__.Animal'>, <class 'object'>]\n",
      "I am a puppy.\n"
     ]
    }
   ],
   "source": [
    "print(Puppy.mro())\n",
    "\n",
    "puppy_dog = Puppy(1)\n",
    "puppy_dog.description()"
   ]
  },
  {
   "cell_type": "markdown",
   "metadata": {
    "slideshow": {
     "slide_type": "slide"
    }
   },
   "source": [
    "## Abstract Base Classes"
   ]
  },
  {
   "cell_type": "markdown",
   "metadata": {
    "slideshow": {
     "slide_type": "fragment"
    }
   },
   "source": [
    "* Abstract base classes can be used to define **interfaces**.\n",
    "* Methods can be declared *abstract* and must be implemented by derived classes before a class can be instantiated.\n",
    "* The `abc` package provides abstract base class functionality.\n",
    "    * See https://docs.python.org/3/library/abc.html\n",
    "* Abstract base classes are defined by setting the class's `metaclass` keyword with `metaclass=abs.ABCMeta`.\n",
    "* Abstract methods (instance methods, class methods, properties) are defined with `@abstractmethod` decorator."
   ]
  },
  {
   "cell_type": "code",
   "execution_count": 73,
   "metadata": {
    "slideshow": {
     "slide_type": "subslide"
    }
   },
   "outputs": [],
   "source": [
    "import abc\n",
    "\n",
    "class AnimalBase(object, metaclass=abc.ABCMeta):\n",
    "    def __init__(self, species, age):\n",
    "        self.species = species\n",
    "        self.age = age\n",
    "\n",
    "    # Abstract instance method.\n",
    "    @abc.abstractmethod\n",
    "    def description(self):\n",
    "        # We use `pass` as a placeholder for the\n",
    "        # implementation by the derived class.\n",
    "        pass\n",
    "\n",
    "    # Define age property with abstract setter method.\n",
    "    @property\n",
    "    def age(self):\n",
    "        return self._age\n",
    "    @age.setter\n",
    "    @abc.abstractmethod\n",
    "    def age(self, age):\n",
    "        pass"
   ]
  },
  {
   "cell_type": "markdown",
   "metadata": {
    "slideshow": {
     "slide_type": "fragment"
    }
   },
   "source": [
    "Class derived from `abc.ABCMeta` cannot be instantiated unless all of its abstract methods and properties are implemented."
   ]
  },
  {
   "cell_type": "code",
   "execution_count": 74,
   "metadata": {
    "slideshow": {
     "slide_type": "fragment"
    }
   },
   "outputs": [],
   "source": [
    "class Dog(AnimalBase):\n",
    "    def __init__(self, age):\n",
    "        super().__init__('dog', age)"
   ]
  },
  {
   "cell_type": "code",
   "execution_count": 75,
   "metadata": {
    "slideshow": {
     "slide_type": "fragment"
    }
   },
   "outputs": [
    {
     "ename": "TypeError",
     "evalue": "Can't instantiate abstract class Dog with abstract methods age, description",
     "output_type": "error",
     "traceback": [
      "\u001b[0;31m---------------------------------------------------------------------------\u001b[0m",
      "\u001b[0;31mTypeError\u001b[0m                                 Traceback (most recent call last)",
      "\u001b[0;32m<ipython-input-75-8c735f9acb69>\u001b[0m in \u001b[0;36m<module>\u001b[0;34m\u001b[0m\n\u001b[0;32m----> 1\u001b[0;31m \u001b[0mdog\u001b[0m \u001b[0;34m=\u001b[0m \u001b[0mDog\u001b[0m\u001b[0;34m(\u001b[0m\u001b[0;36m5\u001b[0m\u001b[0;34m)\u001b[0m\u001b[0;34m\u001b[0m\u001b[0;34m\u001b[0m\u001b[0m\n\u001b[0m\u001b[1;32m      2\u001b[0m \u001b[0mdog\u001b[0m\u001b[0;34m.\u001b[0m\u001b[0mdescription\u001b[0m\u001b[0;34m(\u001b[0m\u001b[0;34m)\u001b[0m\u001b[0;34m\u001b[0m\u001b[0;34m\u001b[0m\u001b[0m\n",
      "\u001b[0;31mTypeError\u001b[0m: Can't instantiate abstract class Dog with abstract methods age, description"
     ]
    }
   ],
   "source": [
    "dog = Dog(5)\n",
    "dog.description()"
   ]
  },
  {
   "cell_type": "markdown",
   "metadata": {
    "slideshow": {
     "slide_type": "fragment"
    }
   },
   "source": [
    "Lets fix it by implementing the `description` and `age` methods."
   ]
  },
  {
   "cell_type": "code",
   "execution_count": 76,
   "metadata": {
    "slideshow": {
     "slide_type": "fragment"
    }
   },
   "outputs": [],
   "source": [
    "class Dog(AnimalBase):\n",
    "    def __init__(self, age):\n",
    "      super().__init__('dog', age)\n",
    "\n",
    "    # Implement the description instance method.\n",
    "    def description(self):\n",
    "        print('I am the implementation of the description instance method.')\n",
    "        print(f'The {self.species} is of age {self.age}.')\n",
    "    \n",
    "    # Implement the setter method of the age property.\n",
    "    @AnimalBase.age.setter\n",
    "    def age(self, age):\n",
    "        if age < 0:\n",
    "            print(f'Provided {age} age has to be positive number.')\n",
    "            self._age = None\n",
    "        else:\n",
    "            self._age = age"
   ]
  },
  {
   "cell_type": "code",
   "execution_count": 77,
   "metadata": {
    "slideshow": {
     "slide_type": "fragment"
    }
   },
   "outputs": [
    {
     "name": "stdout",
     "output_type": "stream",
     "text": [
      "Provided -5 age has to be positive number.\n",
      "I am the implementation of the description instance method.\n",
      "The dog is of age None.\n"
     ]
    }
   ],
   "source": [
    "dog = Dog(-5)\n",
    "dog.description()"
   ]
  },
  {
   "cell_type": "code",
   "execution_count": 78,
   "metadata": {
    "slideshow": {
     "slide_type": "fragment"
    }
   },
   "outputs": [
    {
     "name": "stdout",
     "output_type": "stream",
     "text": [
      "I am the implementation of the description instance method.\n",
      "The dog is of age 2.\n"
     ]
    }
   ],
   "source": [
    "dog = Dog(2)\n",
    "dog.description()"
   ]
  },
  {
   "cell_type": "markdown",
   "metadata": {
    "slideshow": {
     "slide_type": "slide"
    }
   },
   "source": [
    "## Iterator protocol"
   ]
  },
  {
   "cell_type": "markdown",
   "metadata": {
    "slideshow": {
     "slide_type": "fragment"
    }
   },
   "source": [
    "If a class implements a container, the iterator protocol can be used to iterate over the items of the container. See <https://docs.python.org/3/library/stdtypes.html#iterator-types> for details.\n",
    "\n",
    "The interator protocol consists of two special instance methods: `__iter__` and `__next__`.\n",
    "\n",
    "The `__iter__` instance method must return the iterator object, usually the class instance itself.\n",
    "\n",
    "The `iter()` built-in function can be used to get an iterator of an object.\n",
    "\n",
    "The `__next__` instance method must return the next element of the container. If it raises the `StopIteration` exception, the iteration stops."
   ]
  },
  {
   "cell_type": "code",
   "execution_count": 79,
   "metadata": {
    "slideshow": {
     "slide_type": "subslide"
    }
   },
   "outputs": [],
   "source": [
    "# Example of a container with the iterator protocol supported.\n",
    "class MyBox(object):\n",
    "    def __init__(self, items):\n",
    "        self.items = items\n",
    "    def __iter__(self):\n",
    "        return MyBoxIterator(self)\n",
    "\n",
    "# We define an iterator class that knows how to iterate through\n",
    "# the items of the box.\n",
    "class MyBoxIterator(object):\n",
    "    def __init__(self, box):\n",
    "        self.box = box\n",
    "        # The index attribute points to the next item in the box.\n",
    "        self.index = 0\n",
    "    def __iter__(self):\n",
    "        return self\n",
    "    def __next__(self):\n",
    "        # Check if we reached the end of the item sequence.\n",
    "        if self.index == len(self.box.items):\n",
    "            raise StopIteration()\n",
    "        self.index += 1\n",
    "        return self.box.items[self.index-1]"
   ]
  },
  {
   "cell_type": "code",
   "execution_count": 80,
   "metadata": {
    "slideshow": {
     "slide_type": "fragment"
    }
   },
   "outputs": [
    {
     "name": "stdout",
     "output_type": "stream",
     "text": [
      "8\n",
      "a\n",
      "42\n",
      "hello\n"
     ]
    }
   ],
   "source": [
    "box = MyBox([8, 'a', 42, 'hello'])\n",
    "for item in box:\n",
    "    print(item)"
   ]
  },
  {
   "cell_type": "markdown",
   "metadata": {
    "slideshow": {
     "slide_type": "subslide"
    }
   },
   "source": [
    "Our box class uses a sequence for storing the items. Sequences have iterators already implemented in Python, hence we can simplify the previous example by utilizing the iterator of the item sequence using the `iter()` built-in function."
   ]
  },
  {
   "cell_type": "code",
   "execution_count": 81,
   "metadata": {
    "slideshow": {
     "slide_type": "fragment"
    }
   },
   "outputs": [],
   "source": [
    "class MySimpleBox(object):\n",
    "    def __init__(self, items):\n",
    "        self.items = items\n",
    "    def __iter__(self):\n",
    "        return iter(self.items)"
   ]
  },
  {
   "cell_type": "code",
   "execution_count": 82,
   "metadata": {},
   "outputs": [
    {
     "name": "stdout",
     "output_type": "stream",
     "text": [
      "8\n",
      "a\n",
      "42\n",
      "hello\n"
     ]
    }
   ],
   "source": [
    "box = MySimpleBox([8, 'a', 42, 'hello'])\n",
    "for item in box:\n",
    "    print(item)"
   ]
  },
  {
   "cell_type": "markdown",
   "metadata": {
    "slideshow": {
     "slide_type": "slide"
    }
   },
   "source": [
    "## Generators"
   ]
  },
  {
   "cell_type": "markdown",
   "metadata": {
    "slideshow": {
     "slide_type": "fragment"
    }
   },
   "source": [
    "### Recap:\n",
    "\n",
    "There are a couple of useful extra functions for loops (also called generators). The two most common generators are:\n",
    "\n",
    "*   `range(start (default=0), stop, stepsize (default=1))` -> creates a counting iterable, ie. 0, 1, 2, 3, ... stop. For a large number of iterations, range is much more memory-efficient than looping over the corresponding list of [0, 1, 2, ...], because the items are generated on the fly. \n",
    "*   `enumerate(iterable)` -> returns the index and the value of an iterable\n",
    "\n",
    "For more info on where generators are useful and how to write your own generator functions, see e.g. https://realpython.com/introduction-to-python-generators/\n"
   ]
  },
  {
   "cell_type": "markdown",
   "metadata": {
    "slideshow": {
     "slide_type": "slide"
    }
   },
   "source": [
    "### Generator function\n",
    "A function which returns a generator iterator. It looks like a normal function except that it contains `yield` expressions for producing a series of values usable in a for-loop or that can be retrieved one at a time with the `next()` function."
   ]
  },
  {
   "cell_type": "code",
   "execution_count": 83,
   "metadata": {
    "slideshow": {
     "slide_type": "fragment"
    }
   },
   "outputs": [],
   "source": [
    "def custom_range_generator(n):\n",
    "    i = 0\n",
    "    while i < n:\n",
    "        yield i\n",
    "        i += 1"
   ]
  },
  {
   "cell_type": "code",
   "execution_count": 84,
   "metadata": {
    "slideshow": {
     "slide_type": "subslide"
    }
   },
   "outputs": [
    {
     "name": "stdout",
     "output_type": "stream",
     "text": [
      "next(): 0\n",
      "type: <class 'generator'>\n",
      "list remaining numbers: [1, 2, 3, 4]\n"
     ]
    }
   ],
   "source": [
    "range_generator = custom_range_generator(5)\n",
    "print(\"next():\", next(range_generator))\n",
    "print(\"type:\", type(range_generator))\n",
    "print(\"list remaining numbers:\", list(range_generator))"
   ]
  },
  {
   "cell_type": "code",
   "execution_count": 85,
   "metadata": {
    "slideshow": {
     "slide_type": "fragment"
    }
   },
   "outputs": [
    {
     "name": "stdout",
     "output_type": "stream",
     "text": [
      "0\n",
      "1\n",
      "2\n",
      "3\n",
      "4\n"
     ]
    }
   ],
   "source": [
    "# We have to create the generator again as we exhausted its items by calling\n",
    "# `list` function earlier.\n",
    "range_generator = custom_range_generator(5)\n",
    "# Example in for loops\n",
    "for i in range_generator:\n",
    "    print(i)"
   ]
  },
  {
   "cell_type": "markdown",
   "metadata": {
    "slideshow": {
     "slide_type": "slide"
    }
   },
   "source": [
    "# Advanced packages"
   ]
  },
  {
   "cell_type": "markdown",
   "metadata": {
    "slideshow": {
     "slide_type": "slide"
    }
   },
   "source": [
    "## NumPy"
   ]
  },
  {
   "cell_type": "markdown",
   "metadata": {
    "slideshow": {
     "slide_type": "subslide"
    }
   },
   "source": [
    "From the [NumPy webpage](http://www.numpy.org/):\n",
    "\n",
    "> NumPy is the fundamental package for scientific computing with Python.\n",
    "> It contains among other things:\n",
    ">\n",
    "> * a powerful N-dimensional array object\n",
    "> * sophisticated (broadcasting) functions\n",
    "> * tools for integrating C/C++ and Fortran code\n",
    "> * useful linear algebra, Fourier transform, and random number capabilities\n",
    ">\n",
    "> Besides its obvious scientific uses, NumPy can also be used as an efficient\n",
    "> multi-dimensional container of generic data. Arbitrary data-types can be defined.\n",
    "> This allows NumPy to seamlessly and speedily integrate with a wide variety of databases.\n",
    "\n",
    "NumPy tutorial (pay special attention to the section about broadcasting rules):  \n",
    "<https://docs.scipy.org/doc/numpy/user/quickstart.html>"
   ]
  },
  {
   "cell_type": "markdown",
   "metadata": {
    "slideshow": {
     "slide_type": "subslide"
    }
   },
   "source": [
    "### Broadcasting of numpy arrays\n",
    "\n",
    "Two numpy arrays of different dimensions can be used in an expression by broadcasting the array elements of the smaller dimensional array by repeatedly prepending a dimension of length 1 to smaller array to allow element-wise operation:"
   ]
  },
  {
   "cell_type": "code",
   "execution_count": 86,
   "metadata": {
    "slideshow": {
     "slide_type": "fragment"
    }
   },
   "outputs": [
    {
     "name": "stdout",
     "output_type": "stream",
     "text": [
      "shape of a: (2, 3)\n",
      "shape of b: (3,)\n",
      "shape of c: (2, 3)\n",
      "[[ 8 10 12]\n",
      " [11 13 15]]\n"
     ]
    }
   ],
   "source": [
    "a = np.array([[1,2,3], [4,5,6]])\n",
    "b = np.array([7,8,9])\n",
    "c = a + b\n",
    "print('shape of a:', a.shape)\n",
    "print('shape of b:', b.shape)\n",
    "print('shape of c:', c.shape)\n",
    "print(c)"
   ]
  },
  {
   "cell_type": "markdown",
   "metadata": {
    "slideshow": {
     "slide_type": "subslide"
    }
   },
   "source": [
    "### Indexing / Slicing of numpy arrays\n",
    "\n",
    "Elements of a numpy arrays can be accessed via indexing or slicing:"
   ]
  },
  {
   "cell_type": "code",
   "execution_count": 87,
   "metadata": {
    "slideshow": {
     "slide_type": "fragment"
    }
   },
   "outputs": [
    {
     "name": "stdout",
     "output_type": "stream",
     "text": [
      "3\n",
      "[1 5 6]\n"
     ]
    }
   ],
   "source": [
    "# Access by index (indices start with 0!):\n",
    "print(a[0,2])\n",
    "print(a[ [0,1,1], [0,1,2] ])"
   ]
  },
  {
   "cell_type": "code",
   "execution_count": 88,
   "metadata": {
    "slideshow": {
     "slide_type": "fragment"
    }
   },
   "outputs": [
    {
     "name": "stdout",
     "output_type": "stream",
     "text": [
      "[0 1 2 3 4 5 6 7 8 9]\n",
      "[3 4 5 6]\n",
      "[3 5]\n",
      "[7 5]\n"
     ]
    }
   ],
   "source": [
    "# Access by slice: start:end:step:\n",
    "# Note: The start index is included, but the end index is excluded!\n",
    "a = np.arange(0, 10)\n",
    "print(a)\n",
    "print(a[3:7])\n",
    "print(a[3:7:2])\n",
    "# Step can be negative to reverse the slice.\n",
    "print(a[7:3:-2])"
   ]
  },
  {
   "cell_type": "markdown",
   "metadata": {
    "slideshow": {
     "slide_type": "subslide"
    }
   },
   "source": [
    "### Masking of numpy arrays\n",
    "\n",
    "A mask for an array is a boolean array selecting elements of an array."
   ]
  },
  {
   "cell_type": "code",
   "execution_count": 89,
   "metadata": {
    "slideshow": {
     "slide_type": "fragment"
    }
   },
   "outputs": [
    {
     "name": "stdout",
     "output_type": "stream",
     "text": [
      "[0 1 2 3 4]\n",
      "[0 3 4]\n"
     ]
    }
   ],
   "source": [
    "a = np.arange(0, 5)\n",
    "mask = np.array([True, False, False, True, True])\n",
    "print(a)\n",
    "print(a[mask])"
   ]
  },
  {
   "cell_type": "code",
   "execution_count": 90,
   "metadata": {
    "slideshow": {
     "slide_type": "fragment"
    }
   },
   "outputs": [
    {
     "name": "stdout",
     "output_type": "stream",
     "text": [
      "[ True False False  True  True]\n",
      "[0 3 4]\n"
     ]
    }
   ],
   "source": [
    "mask = (a == 0) | (a > 2) \n",
    "print(mask)\n",
    "print(a[mask])"
   ]
  },
  {
   "cell_type": "markdown",
   "metadata": {
    "slideshow": {
     "slide_type": "slide"
    }
   },
   "source": [
    "## Matplotlib"
   ]
  },
  {
   "cell_type": "markdown",
   "metadata": {
    "slideshow": {
     "slide_type": "subslide"
    }
   },
   "source": [
    "From the [Matplotlib webpage](https://matplotlib.org/):\n",
    "\n",
    "> Matplotlib is a Python 2D plotting library which produces publication quality figures\n",
    "> in a variety of hardcopy formats and interactive environments across platforms."
   ]
  },
  {
   "cell_type": "code",
   "execution_count": 91,
   "metadata": {
    "slideshow": {
     "slide_type": "fragment"
    }
   },
   "outputs": [],
   "source": [
    "# Call this magic function in the first line of your Jupyter notebook:\n",
    "# %matplotlib notebook"
   ]
  },
  {
   "cell_type": "code",
   "execution_count": 92,
   "metadata": {
    "slideshow": {
     "slide_type": "subslide"
    }
   },
   "outputs": [
    {
     "data": {
      "application/javascript": [
       "/* Put everything inside the global mpl namespace */\n",
       "/* global mpl */\n",
       "window.mpl = {};\n",
       "\n",
       "mpl.get_websocket_type = function () {\n",
       "    if (typeof WebSocket !== 'undefined') {\n",
       "        return WebSocket;\n",
       "    } else if (typeof MozWebSocket !== 'undefined') {\n",
       "        return MozWebSocket;\n",
       "    } else {\n",
       "        alert(\n",
       "            'Your browser does not have WebSocket support. ' +\n",
       "                'Please try Chrome, Safari or Firefox ≥ 6. ' +\n",
       "                'Firefox 4 and 5 are also supported but you ' +\n",
       "                'have to enable WebSockets in about:config.'\n",
       "        );\n",
       "    }\n",
       "};\n",
       "\n",
       "mpl.figure = function (figure_id, websocket, ondownload, parent_element) {\n",
       "    this.id = figure_id;\n",
       "\n",
       "    this.ws = websocket;\n",
       "\n",
       "    this.supports_binary = this.ws.binaryType !== undefined;\n",
       "\n",
       "    if (!this.supports_binary) {\n",
       "        var warnings = document.getElementById('mpl-warnings');\n",
       "        if (warnings) {\n",
       "            warnings.style.display = 'block';\n",
       "            warnings.textContent =\n",
       "                'This browser does not support binary websocket messages. ' +\n",
       "                'Performance may be slow.';\n",
       "        }\n",
       "    }\n",
       "\n",
       "    this.imageObj = new Image();\n",
       "\n",
       "    this.context = undefined;\n",
       "    this.message = undefined;\n",
       "    this.canvas = undefined;\n",
       "    this.rubberband_canvas = undefined;\n",
       "    this.rubberband_context = undefined;\n",
       "    this.format_dropdown = undefined;\n",
       "\n",
       "    this.image_mode = 'full';\n",
       "\n",
       "    this.root = document.createElement('div');\n",
       "    this.root.setAttribute('style', 'display: inline-block');\n",
       "    this._root_extra_style(this.root);\n",
       "\n",
       "    parent_element.appendChild(this.root);\n",
       "\n",
       "    this._init_header(this);\n",
       "    this._init_canvas(this);\n",
       "    this._init_toolbar(this);\n",
       "\n",
       "    var fig = this;\n",
       "\n",
       "    this.waiting = false;\n",
       "\n",
       "    this.ws.onopen = function () {\n",
       "        fig.send_message('supports_binary', { value: fig.supports_binary });\n",
       "        fig.send_message('send_image_mode', {});\n",
       "        if (fig.ratio !== 1) {\n",
       "            fig.send_message('set_device_pixel_ratio', {\n",
       "                device_pixel_ratio: fig.ratio,\n",
       "            });\n",
       "        }\n",
       "        fig.send_message('refresh', {});\n",
       "    };\n",
       "\n",
       "    this.imageObj.onload = function () {\n",
       "        if (fig.image_mode === 'full') {\n",
       "            // Full images could contain transparency (where diff images\n",
       "            // almost always do), so we need to clear the canvas so that\n",
       "            // there is no ghosting.\n",
       "            fig.context.clearRect(0, 0, fig.canvas.width, fig.canvas.height);\n",
       "        }\n",
       "        fig.context.drawImage(fig.imageObj, 0, 0);\n",
       "    };\n",
       "\n",
       "    this.imageObj.onunload = function () {\n",
       "        fig.ws.close();\n",
       "    };\n",
       "\n",
       "    this.ws.onmessage = this._make_on_message_function(this);\n",
       "\n",
       "    this.ondownload = ondownload;\n",
       "};\n",
       "\n",
       "mpl.figure.prototype._init_header = function () {\n",
       "    var titlebar = document.createElement('div');\n",
       "    titlebar.classList =\n",
       "        'ui-dialog-titlebar ui-widget-header ui-corner-all ui-helper-clearfix';\n",
       "    var titletext = document.createElement('div');\n",
       "    titletext.classList = 'ui-dialog-title';\n",
       "    titletext.setAttribute(\n",
       "        'style',\n",
       "        'width: 100%; text-align: center; padding: 3px;'\n",
       "    );\n",
       "    titlebar.appendChild(titletext);\n",
       "    this.root.appendChild(titlebar);\n",
       "    this.header = titletext;\n",
       "};\n",
       "\n",
       "mpl.figure.prototype._canvas_extra_style = function (_canvas_div) {};\n",
       "\n",
       "mpl.figure.prototype._root_extra_style = function (_canvas_div) {};\n",
       "\n",
       "mpl.figure.prototype._init_canvas = function () {\n",
       "    var fig = this;\n",
       "\n",
       "    var canvas_div = (this.canvas_div = document.createElement('div'));\n",
       "    canvas_div.setAttribute(\n",
       "        'style',\n",
       "        'border: 1px solid #ddd;' +\n",
       "            'box-sizing: content-box;' +\n",
       "            'clear: both;' +\n",
       "            'min-height: 1px;' +\n",
       "            'min-width: 1px;' +\n",
       "            'outline: 0;' +\n",
       "            'overflow: hidden;' +\n",
       "            'position: relative;' +\n",
       "            'resize: both;'\n",
       "    );\n",
       "\n",
       "    function on_keyboard_event_closure(name) {\n",
       "        return function (event) {\n",
       "            return fig.key_event(event, name);\n",
       "        };\n",
       "    }\n",
       "\n",
       "    canvas_div.addEventListener(\n",
       "        'keydown',\n",
       "        on_keyboard_event_closure('key_press')\n",
       "    );\n",
       "    canvas_div.addEventListener(\n",
       "        'keyup',\n",
       "        on_keyboard_event_closure('key_release')\n",
       "    );\n",
       "\n",
       "    this._canvas_extra_style(canvas_div);\n",
       "    this.root.appendChild(canvas_div);\n",
       "\n",
       "    var canvas = (this.canvas = document.createElement('canvas'));\n",
       "    canvas.classList.add('mpl-canvas');\n",
       "    canvas.setAttribute('style', 'box-sizing: content-box;');\n",
       "\n",
       "    this.context = canvas.getContext('2d');\n",
       "\n",
       "    var backingStore =\n",
       "        this.context.backingStorePixelRatio ||\n",
       "        this.context.webkitBackingStorePixelRatio ||\n",
       "        this.context.mozBackingStorePixelRatio ||\n",
       "        this.context.msBackingStorePixelRatio ||\n",
       "        this.context.oBackingStorePixelRatio ||\n",
       "        this.context.backingStorePixelRatio ||\n",
       "        1;\n",
       "\n",
       "    this.ratio = (window.devicePixelRatio || 1) / backingStore;\n",
       "\n",
       "    var rubberband_canvas = (this.rubberband_canvas = document.createElement(\n",
       "        'canvas'\n",
       "    ));\n",
       "    rubberband_canvas.setAttribute(\n",
       "        'style',\n",
       "        'box-sizing: content-box; position: absolute; left: 0; top: 0; z-index: 1;'\n",
       "    );\n",
       "\n",
       "    // Apply a ponyfill if ResizeObserver is not implemented by browser.\n",
       "    if (this.ResizeObserver === undefined) {\n",
       "        if (window.ResizeObserver !== undefined) {\n",
       "            this.ResizeObserver = window.ResizeObserver;\n",
       "        } else {\n",
       "            var obs = _JSXTOOLS_RESIZE_OBSERVER({});\n",
       "            this.ResizeObserver = obs.ResizeObserver;\n",
       "        }\n",
       "    }\n",
       "\n",
       "    this.resizeObserverInstance = new this.ResizeObserver(function (entries) {\n",
       "        var nentries = entries.length;\n",
       "        for (var i = 0; i < nentries; i++) {\n",
       "            var entry = entries[i];\n",
       "            var width, height;\n",
       "            if (entry.contentBoxSize) {\n",
       "                if (entry.contentBoxSize instanceof Array) {\n",
       "                    // Chrome 84 implements new version of spec.\n",
       "                    width = entry.contentBoxSize[0].inlineSize;\n",
       "                    height = entry.contentBoxSize[0].blockSize;\n",
       "                } else {\n",
       "                    // Firefox implements old version of spec.\n",
       "                    width = entry.contentBoxSize.inlineSize;\n",
       "                    height = entry.contentBoxSize.blockSize;\n",
       "                }\n",
       "            } else {\n",
       "                // Chrome <84 implements even older version of spec.\n",
       "                width = entry.contentRect.width;\n",
       "                height = entry.contentRect.height;\n",
       "            }\n",
       "\n",
       "            // Keep the size of the canvas and rubber band canvas in sync with\n",
       "            // the canvas container.\n",
       "            if (entry.devicePixelContentBoxSize) {\n",
       "                // Chrome 84 implements new version of spec.\n",
       "                canvas.setAttribute(\n",
       "                    'width',\n",
       "                    entry.devicePixelContentBoxSize[0].inlineSize\n",
       "                );\n",
       "                canvas.setAttribute(\n",
       "                    'height',\n",
       "                    entry.devicePixelContentBoxSize[0].blockSize\n",
       "                );\n",
       "            } else {\n",
       "                canvas.setAttribute('width', width * fig.ratio);\n",
       "                canvas.setAttribute('height', height * fig.ratio);\n",
       "            }\n",
       "            canvas.setAttribute(\n",
       "                'style',\n",
       "                'width: ' + width + 'px; height: ' + height + 'px;'\n",
       "            );\n",
       "\n",
       "            rubberband_canvas.setAttribute('width', width);\n",
       "            rubberband_canvas.setAttribute('height', height);\n",
       "\n",
       "            // And update the size in Python. We ignore the initial 0/0 size\n",
       "            // that occurs as the element is placed into the DOM, which should\n",
       "            // otherwise not happen due to the minimum size styling.\n",
       "            if (fig.ws.readyState == 1 && width != 0 && height != 0) {\n",
       "                fig.request_resize(width, height);\n",
       "            }\n",
       "        }\n",
       "    });\n",
       "    this.resizeObserverInstance.observe(canvas_div);\n",
       "\n",
       "    function on_mouse_event_closure(name) {\n",
       "        return function (event) {\n",
       "            return fig.mouse_event(event, name);\n",
       "        };\n",
       "    }\n",
       "\n",
       "    rubberband_canvas.addEventListener(\n",
       "        'mousedown',\n",
       "        on_mouse_event_closure('button_press')\n",
       "    );\n",
       "    rubberband_canvas.addEventListener(\n",
       "        'mouseup',\n",
       "        on_mouse_event_closure('button_release')\n",
       "    );\n",
       "    rubberband_canvas.addEventListener(\n",
       "        'dblclick',\n",
       "        on_mouse_event_closure('dblclick')\n",
       "    );\n",
       "    // Throttle sequential mouse events to 1 every 20ms.\n",
       "    rubberband_canvas.addEventListener(\n",
       "        'mousemove',\n",
       "        on_mouse_event_closure('motion_notify')\n",
       "    );\n",
       "\n",
       "    rubberband_canvas.addEventListener(\n",
       "        'mouseenter',\n",
       "        on_mouse_event_closure('figure_enter')\n",
       "    );\n",
       "    rubberband_canvas.addEventListener(\n",
       "        'mouseleave',\n",
       "        on_mouse_event_closure('figure_leave')\n",
       "    );\n",
       "\n",
       "    canvas_div.addEventListener('wheel', function (event) {\n",
       "        if (event.deltaY < 0) {\n",
       "            event.step = 1;\n",
       "        } else {\n",
       "            event.step = -1;\n",
       "        }\n",
       "        on_mouse_event_closure('scroll')(event);\n",
       "    });\n",
       "\n",
       "    canvas_div.appendChild(canvas);\n",
       "    canvas_div.appendChild(rubberband_canvas);\n",
       "\n",
       "    this.rubberband_context = rubberband_canvas.getContext('2d');\n",
       "    this.rubberband_context.strokeStyle = '#000000';\n",
       "\n",
       "    this._resize_canvas = function (width, height, forward) {\n",
       "        if (forward) {\n",
       "            canvas_div.style.width = width + 'px';\n",
       "            canvas_div.style.height = height + 'px';\n",
       "        }\n",
       "    };\n",
       "\n",
       "    // Disable right mouse context menu.\n",
       "    this.rubberband_canvas.addEventListener('contextmenu', function (_e) {\n",
       "        event.preventDefault();\n",
       "        return false;\n",
       "    });\n",
       "\n",
       "    function set_focus() {\n",
       "        canvas.focus();\n",
       "        canvas_div.focus();\n",
       "    }\n",
       "\n",
       "    window.setTimeout(set_focus, 100);\n",
       "};\n",
       "\n",
       "mpl.figure.prototype._init_toolbar = function () {\n",
       "    var fig = this;\n",
       "\n",
       "    var toolbar = document.createElement('div');\n",
       "    toolbar.classList = 'mpl-toolbar';\n",
       "    this.root.appendChild(toolbar);\n",
       "\n",
       "    function on_click_closure(name) {\n",
       "        return function (_event) {\n",
       "            return fig.toolbar_button_onclick(name);\n",
       "        };\n",
       "    }\n",
       "\n",
       "    function on_mouseover_closure(tooltip) {\n",
       "        return function (event) {\n",
       "            if (!event.currentTarget.disabled) {\n",
       "                return fig.toolbar_button_onmouseover(tooltip);\n",
       "            }\n",
       "        };\n",
       "    }\n",
       "\n",
       "    fig.buttons = {};\n",
       "    var buttonGroup = document.createElement('div');\n",
       "    buttonGroup.classList = 'mpl-button-group';\n",
       "    for (var toolbar_ind in mpl.toolbar_items) {\n",
       "        var name = mpl.toolbar_items[toolbar_ind][0];\n",
       "        var tooltip = mpl.toolbar_items[toolbar_ind][1];\n",
       "        var image = mpl.toolbar_items[toolbar_ind][2];\n",
       "        var method_name = mpl.toolbar_items[toolbar_ind][3];\n",
       "\n",
       "        if (!name) {\n",
       "            /* Instead of a spacer, we start a new button group. */\n",
       "            if (buttonGroup.hasChildNodes()) {\n",
       "                toolbar.appendChild(buttonGroup);\n",
       "            }\n",
       "            buttonGroup = document.createElement('div');\n",
       "            buttonGroup.classList = 'mpl-button-group';\n",
       "            continue;\n",
       "        }\n",
       "\n",
       "        var button = (fig.buttons[name] = document.createElement('button'));\n",
       "        button.classList = 'mpl-widget';\n",
       "        button.setAttribute('role', 'button');\n",
       "        button.setAttribute('aria-disabled', 'false');\n",
       "        button.addEventListener('click', on_click_closure(method_name));\n",
       "        button.addEventListener('mouseover', on_mouseover_closure(tooltip));\n",
       "\n",
       "        var icon_img = document.createElement('img');\n",
       "        icon_img.src = '_images/' + image + '.png';\n",
       "        icon_img.srcset = '_images/' + image + '_large.png 2x';\n",
       "        icon_img.alt = tooltip;\n",
       "        button.appendChild(icon_img);\n",
       "\n",
       "        buttonGroup.appendChild(button);\n",
       "    }\n",
       "\n",
       "    if (buttonGroup.hasChildNodes()) {\n",
       "        toolbar.appendChild(buttonGroup);\n",
       "    }\n",
       "\n",
       "    var fmt_picker = document.createElement('select');\n",
       "    fmt_picker.classList = 'mpl-widget';\n",
       "    toolbar.appendChild(fmt_picker);\n",
       "    this.format_dropdown = fmt_picker;\n",
       "\n",
       "    for (var ind in mpl.extensions) {\n",
       "        var fmt = mpl.extensions[ind];\n",
       "        var option = document.createElement('option');\n",
       "        option.selected = fmt === mpl.default_extension;\n",
       "        option.innerHTML = fmt;\n",
       "        fmt_picker.appendChild(option);\n",
       "    }\n",
       "\n",
       "    var status_bar = document.createElement('span');\n",
       "    status_bar.classList = 'mpl-message';\n",
       "    toolbar.appendChild(status_bar);\n",
       "    this.message = status_bar;\n",
       "};\n",
       "\n",
       "mpl.figure.prototype.request_resize = function (x_pixels, y_pixels) {\n",
       "    // Request matplotlib to resize the figure. Matplotlib will then trigger a resize in the client,\n",
       "    // which will in turn request a refresh of the image.\n",
       "    this.send_message('resize', { width: x_pixels, height: y_pixels });\n",
       "};\n",
       "\n",
       "mpl.figure.prototype.send_message = function (type, properties) {\n",
       "    properties['type'] = type;\n",
       "    properties['figure_id'] = this.id;\n",
       "    this.ws.send(JSON.stringify(properties));\n",
       "};\n",
       "\n",
       "mpl.figure.prototype.send_draw_message = function () {\n",
       "    if (!this.waiting) {\n",
       "        this.waiting = true;\n",
       "        this.ws.send(JSON.stringify({ type: 'draw', figure_id: this.id }));\n",
       "    }\n",
       "};\n",
       "\n",
       "mpl.figure.prototype.handle_save = function (fig, _msg) {\n",
       "    var format_dropdown = fig.format_dropdown;\n",
       "    var format = format_dropdown.options[format_dropdown.selectedIndex].value;\n",
       "    fig.ondownload(fig, format);\n",
       "};\n",
       "\n",
       "mpl.figure.prototype.handle_resize = function (fig, msg) {\n",
       "    var size = msg['size'];\n",
       "    if (size[0] !== fig.canvas.width || size[1] !== fig.canvas.height) {\n",
       "        fig._resize_canvas(size[0], size[1], msg['forward']);\n",
       "        fig.send_message('refresh', {});\n",
       "    }\n",
       "};\n",
       "\n",
       "mpl.figure.prototype.handle_rubberband = function (fig, msg) {\n",
       "    var x0 = msg['x0'] / fig.ratio;\n",
       "    var y0 = (fig.canvas.height - msg['y0']) / fig.ratio;\n",
       "    var x1 = msg['x1'] / fig.ratio;\n",
       "    var y1 = (fig.canvas.height - msg['y1']) / fig.ratio;\n",
       "    x0 = Math.floor(x0) + 0.5;\n",
       "    y0 = Math.floor(y0) + 0.5;\n",
       "    x1 = Math.floor(x1) + 0.5;\n",
       "    y1 = Math.floor(y1) + 0.5;\n",
       "    var min_x = Math.min(x0, x1);\n",
       "    var min_y = Math.min(y0, y1);\n",
       "    var width = Math.abs(x1 - x0);\n",
       "    var height = Math.abs(y1 - y0);\n",
       "\n",
       "    fig.rubberband_context.clearRect(\n",
       "        0,\n",
       "        0,\n",
       "        fig.canvas.width / fig.ratio,\n",
       "        fig.canvas.height / fig.ratio\n",
       "    );\n",
       "\n",
       "    fig.rubberband_context.strokeRect(min_x, min_y, width, height);\n",
       "};\n",
       "\n",
       "mpl.figure.prototype.handle_figure_label = function (fig, msg) {\n",
       "    // Updates the figure title.\n",
       "    fig.header.textContent = msg['label'];\n",
       "};\n",
       "\n",
       "mpl.figure.prototype.handle_cursor = function (fig, msg) {\n",
       "    fig.rubberband_canvas.style.cursor = msg['cursor'];\n",
       "};\n",
       "\n",
       "mpl.figure.prototype.handle_message = function (fig, msg) {\n",
       "    fig.message.textContent = msg['message'];\n",
       "};\n",
       "\n",
       "mpl.figure.prototype.handle_draw = function (fig, _msg) {\n",
       "    // Request the server to send over a new figure.\n",
       "    fig.send_draw_message();\n",
       "};\n",
       "\n",
       "mpl.figure.prototype.handle_image_mode = function (fig, msg) {\n",
       "    fig.image_mode = msg['mode'];\n",
       "};\n",
       "\n",
       "mpl.figure.prototype.handle_history_buttons = function (fig, msg) {\n",
       "    for (var key in msg) {\n",
       "        if (!(key in fig.buttons)) {\n",
       "            continue;\n",
       "        }\n",
       "        fig.buttons[key].disabled = !msg[key];\n",
       "        fig.buttons[key].setAttribute('aria-disabled', !msg[key]);\n",
       "    }\n",
       "};\n",
       "\n",
       "mpl.figure.prototype.handle_navigate_mode = function (fig, msg) {\n",
       "    if (msg['mode'] === 'PAN') {\n",
       "        fig.buttons['Pan'].classList.add('active');\n",
       "        fig.buttons['Zoom'].classList.remove('active');\n",
       "    } else if (msg['mode'] === 'ZOOM') {\n",
       "        fig.buttons['Pan'].classList.remove('active');\n",
       "        fig.buttons['Zoom'].classList.add('active');\n",
       "    } else {\n",
       "        fig.buttons['Pan'].classList.remove('active');\n",
       "        fig.buttons['Zoom'].classList.remove('active');\n",
       "    }\n",
       "};\n",
       "\n",
       "mpl.figure.prototype.updated_canvas_event = function () {\n",
       "    // Called whenever the canvas gets updated.\n",
       "    this.send_message('ack', {});\n",
       "};\n",
       "\n",
       "// A function to construct a web socket function for onmessage handling.\n",
       "// Called in the figure constructor.\n",
       "mpl.figure.prototype._make_on_message_function = function (fig) {\n",
       "    return function socket_on_message(evt) {\n",
       "        if (evt.data instanceof Blob) {\n",
       "            var img = evt.data;\n",
       "            if (img.type !== 'image/png') {\n",
       "                /* FIXME: We get \"Resource interpreted as Image but\n",
       "                 * transferred with MIME type text/plain:\" errors on\n",
       "                 * Chrome.  But how to set the MIME type?  It doesn't seem\n",
       "                 * to be part of the websocket stream */\n",
       "                img.type = 'image/png';\n",
       "            }\n",
       "\n",
       "            /* Free the memory for the previous frames */\n",
       "            if (fig.imageObj.src) {\n",
       "                (window.URL || window.webkitURL).revokeObjectURL(\n",
       "                    fig.imageObj.src\n",
       "                );\n",
       "            }\n",
       "\n",
       "            fig.imageObj.src = (window.URL || window.webkitURL).createObjectURL(\n",
       "                img\n",
       "            );\n",
       "            fig.updated_canvas_event();\n",
       "            fig.waiting = false;\n",
       "            return;\n",
       "        } else if (\n",
       "            typeof evt.data === 'string' &&\n",
       "            evt.data.slice(0, 21) === 'data:image/png;base64'\n",
       "        ) {\n",
       "            fig.imageObj.src = evt.data;\n",
       "            fig.updated_canvas_event();\n",
       "            fig.waiting = false;\n",
       "            return;\n",
       "        }\n",
       "\n",
       "        var msg = JSON.parse(evt.data);\n",
       "        var msg_type = msg['type'];\n",
       "\n",
       "        // Call the  \"handle_{type}\" callback, which takes\n",
       "        // the figure and JSON message as its only arguments.\n",
       "        try {\n",
       "            var callback = fig['handle_' + msg_type];\n",
       "        } catch (e) {\n",
       "            console.log(\n",
       "                \"No handler for the '\" + msg_type + \"' message type: \",\n",
       "                msg\n",
       "            );\n",
       "            return;\n",
       "        }\n",
       "\n",
       "        if (callback) {\n",
       "            try {\n",
       "                // console.log(\"Handling '\" + msg_type + \"' message: \", msg);\n",
       "                callback(fig, msg);\n",
       "            } catch (e) {\n",
       "                console.log(\n",
       "                    \"Exception inside the 'handler_\" + msg_type + \"' callback:\",\n",
       "                    e,\n",
       "                    e.stack,\n",
       "                    msg\n",
       "                );\n",
       "            }\n",
       "        }\n",
       "    };\n",
       "};\n",
       "\n",
       "// from https://stackoverflow.com/questions/1114465/getting-mouse-location-in-canvas\n",
       "mpl.findpos = function (e) {\n",
       "    //this section is from http://www.quirksmode.org/js/events_properties.html\n",
       "    var targ;\n",
       "    if (!e) {\n",
       "        e = window.event;\n",
       "    }\n",
       "    if (e.target) {\n",
       "        targ = e.target;\n",
       "    } else if (e.srcElement) {\n",
       "        targ = e.srcElement;\n",
       "    }\n",
       "    if (targ.nodeType === 3) {\n",
       "        // defeat Safari bug\n",
       "        targ = targ.parentNode;\n",
       "    }\n",
       "\n",
       "    // pageX,Y are the mouse positions relative to the document\n",
       "    var boundingRect = targ.getBoundingClientRect();\n",
       "    var x = e.pageX - (boundingRect.left + document.body.scrollLeft);\n",
       "    var y = e.pageY - (boundingRect.top + document.body.scrollTop);\n",
       "\n",
       "    return { x: x, y: y };\n",
       "};\n",
       "\n",
       "/*\n",
       " * return a copy of an object with only non-object keys\n",
       " * we need this to avoid circular references\n",
       " * https://stackoverflow.com/a/24161582/3208463\n",
       " */\n",
       "function simpleKeys(original) {\n",
       "    return Object.keys(original).reduce(function (obj, key) {\n",
       "        if (typeof original[key] !== 'object') {\n",
       "            obj[key] = original[key];\n",
       "        }\n",
       "        return obj;\n",
       "    }, {});\n",
       "}\n",
       "\n",
       "mpl.figure.prototype.mouse_event = function (event, name) {\n",
       "    var canvas_pos = mpl.findpos(event);\n",
       "\n",
       "    if (name === 'button_press') {\n",
       "        this.canvas.focus();\n",
       "        this.canvas_div.focus();\n",
       "    }\n",
       "\n",
       "    var x = canvas_pos.x * this.ratio;\n",
       "    var y = canvas_pos.y * this.ratio;\n",
       "\n",
       "    this.send_message(name, {\n",
       "        x: x,\n",
       "        y: y,\n",
       "        button: event.button,\n",
       "        step: event.step,\n",
       "        guiEvent: simpleKeys(event),\n",
       "    });\n",
       "\n",
       "    /* This prevents the web browser from automatically changing to\n",
       "     * the text insertion cursor when the button is pressed.  We want\n",
       "     * to control all of the cursor setting manually through the\n",
       "     * 'cursor' event from matplotlib */\n",
       "    event.preventDefault();\n",
       "    return false;\n",
       "};\n",
       "\n",
       "mpl.figure.prototype._key_event_extra = function (_event, _name) {\n",
       "    // Handle any extra behaviour associated with a key event\n",
       "};\n",
       "\n",
       "mpl.figure.prototype.key_event = function (event, name) {\n",
       "    // Prevent repeat events\n",
       "    if (name === 'key_press') {\n",
       "        if (event.key === this._key) {\n",
       "            return;\n",
       "        } else {\n",
       "            this._key = event.key;\n",
       "        }\n",
       "    }\n",
       "    if (name === 'key_release') {\n",
       "        this._key = null;\n",
       "    }\n",
       "\n",
       "    var value = '';\n",
       "    if (event.ctrlKey && event.key !== 'Control') {\n",
       "        value += 'ctrl+';\n",
       "    }\n",
       "    else if (event.altKey && event.key !== 'Alt') {\n",
       "        value += 'alt+';\n",
       "    }\n",
       "    else if (event.shiftKey && event.key !== 'Shift') {\n",
       "        value += 'shift+';\n",
       "    }\n",
       "\n",
       "    value += 'k' + event.key;\n",
       "\n",
       "    this._key_event_extra(event, name);\n",
       "\n",
       "    this.send_message(name, { key: value, guiEvent: simpleKeys(event) });\n",
       "    return false;\n",
       "};\n",
       "\n",
       "mpl.figure.prototype.toolbar_button_onclick = function (name) {\n",
       "    if (name === 'download') {\n",
       "        this.handle_save(this, null);\n",
       "    } else {\n",
       "        this.send_message('toolbar_button', { name: name });\n",
       "    }\n",
       "};\n",
       "\n",
       "mpl.figure.prototype.toolbar_button_onmouseover = function (tooltip) {\n",
       "    this.message.textContent = tooltip;\n",
       "};\n",
       "\n",
       "///////////////// REMAINING CONTENT GENERATED BY embed_js.py /////////////////\n",
       "// prettier-ignore\n",
       "var _JSXTOOLS_RESIZE_OBSERVER=function(A){var t,i=new WeakMap,n=new WeakMap,a=new WeakMap,r=new WeakMap,o=new Set;function s(e){if(!(this instanceof s))throw new TypeError(\"Constructor requires 'new' operator\");i.set(this,e)}function h(){throw new TypeError(\"Function is not a constructor\")}function c(e,t,i,n){e=0 in arguments?Number(arguments[0]):0,t=1 in arguments?Number(arguments[1]):0,i=2 in arguments?Number(arguments[2]):0,n=3 in arguments?Number(arguments[3]):0,this.right=(this.x=this.left=e)+(this.width=i),this.bottom=(this.y=this.top=t)+(this.height=n),Object.freeze(this)}function d(){t=requestAnimationFrame(d);var s=new WeakMap,p=new Set;o.forEach((function(t){r.get(t).forEach((function(i){var r=t instanceof window.SVGElement,o=a.get(t),d=r?0:parseFloat(o.paddingTop),f=r?0:parseFloat(o.paddingRight),l=r?0:parseFloat(o.paddingBottom),u=r?0:parseFloat(o.paddingLeft),g=r?0:parseFloat(o.borderTopWidth),m=r?0:parseFloat(o.borderRightWidth),w=r?0:parseFloat(o.borderBottomWidth),b=u+f,F=d+l,v=(r?0:parseFloat(o.borderLeftWidth))+m,W=g+w,y=r?0:t.offsetHeight-W-t.clientHeight,E=r?0:t.offsetWidth-v-t.clientWidth,R=b+v,z=F+W,M=r?t.width:parseFloat(o.width)-R-E,O=r?t.height:parseFloat(o.height)-z-y;if(n.has(t)){var k=n.get(t);if(k[0]===M&&k[1]===O)return}n.set(t,[M,O]);var S=Object.create(h.prototype);S.target=t,S.contentRect=new c(u,d,M,O),s.has(i)||(s.set(i,[]),p.add(i)),s.get(i).push(S)}))})),p.forEach((function(e){i.get(e).call(e,s.get(e),e)}))}return s.prototype.observe=function(i){if(i instanceof window.Element){r.has(i)||(r.set(i,new Set),o.add(i),a.set(i,window.getComputedStyle(i)));var n=r.get(i);n.has(this)||n.add(this),cancelAnimationFrame(t),t=requestAnimationFrame(d)}},s.prototype.unobserve=function(i){if(i instanceof window.Element&&r.has(i)){var n=r.get(i);n.has(this)&&(n.delete(this),n.size||(r.delete(i),o.delete(i))),n.size||r.delete(i),o.size||cancelAnimationFrame(t)}},A.DOMRectReadOnly=c,A.ResizeObserver=s,A.ResizeObserverEntry=h,A}; // eslint-disable-line\n",
       "mpl.toolbar_items = [[\"Home\", \"Reset original view\", \"fa fa-home\", \"home\"], [\"Back\", \"Back to previous view\", \"fa fa-arrow-left\", \"back\"], [\"Forward\", \"Forward to next view\", \"fa fa-arrow-right\", \"forward\"], [\"\", \"\", \"\", \"\"], [\"Pan\", \"Left button pans, Right button zooms\\nx/y fixes axis, CTRL fixes aspect\", \"fa fa-arrows\", \"pan\"], [\"Zoom\", \"Zoom to rectangle\\nx/y fixes axis\", \"fa fa-square-o\", \"zoom\"], [\"\", \"\", \"\", \"\"], [\"Download\", \"Download plot\", \"fa fa-floppy-o\", \"download\"]];\n",
       "\n",
       "mpl.extensions = [\"eps\", \"jpeg\", \"pgf\", \"pdf\", \"png\", \"ps\", \"raw\", \"svg\", \"tif\", \"webp\"];\n",
       "\n",
       "mpl.default_extension = \"png\";/* global mpl */\n",
       "\n",
       "var comm_websocket_adapter = function (comm) {\n",
       "    // Create a \"websocket\"-like object which calls the given IPython comm\n",
       "    // object with the appropriate methods. Currently this is a non binary\n",
       "    // socket, so there is still some room for performance tuning.\n",
       "    var ws = {};\n",
       "\n",
       "    ws.binaryType = comm.kernel.ws.binaryType;\n",
       "    ws.readyState = comm.kernel.ws.readyState;\n",
       "    function updateReadyState(_event) {\n",
       "        if (comm.kernel.ws) {\n",
       "            ws.readyState = comm.kernel.ws.readyState;\n",
       "        } else {\n",
       "            ws.readyState = 3; // Closed state.\n",
       "        }\n",
       "    }\n",
       "    comm.kernel.ws.addEventListener('open', updateReadyState);\n",
       "    comm.kernel.ws.addEventListener('close', updateReadyState);\n",
       "    comm.kernel.ws.addEventListener('error', updateReadyState);\n",
       "\n",
       "    ws.close = function () {\n",
       "        comm.close();\n",
       "    };\n",
       "    ws.send = function (m) {\n",
       "        //console.log('sending', m);\n",
       "        comm.send(m);\n",
       "    };\n",
       "    // Register the callback with on_msg.\n",
       "    comm.on_msg(function (msg) {\n",
       "        //console.log('receiving', msg['content']['data'], msg);\n",
       "        var data = msg['content']['data'];\n",
       "        if (data['blob'] !== undefined) {\n",
       "            data = {\n",
       "                data: new Blob(msg['buffers'], { type: data['blob'] }),\n",
       "            };\n",
       "        }\n",
       "        // Pass the mpl event to the overridden (by mpl) onmessage function.\n",
       "        ws.onmessage(data);\n",
       "    });\n",
       "    return ws;\n",
       "};\n",
       "\n",
       "mpl.mpl_figure_comm = function (comm, msg) {\n",
       "    // This is the function which gets called when the mpl process\n",
       "    // starts-up an IPython Comm through the \"matplotlib\" channel.\n",
       "\n",
       "    var id = msg.content.data.id;\n",
       "    // Get hold of the div created by the display call when the Comm\n",
       "    // socket was opened in Python.\n",
       "    var element = document.getElementById(id);\n",
       "    var ws_proxy = comm_websocket_adapter(comm);\n",
       "\n",
       "    function ondownload(figure, _format) {\n",
       "        window.open(figure.canvas.toDataURL());\n",
       "    }\n",
       "\n",
       "    var fig = new mpl.figure(id, ws_proxy, ondownload, element);\n",
       "\n",
       "    // Call onopen now - mpl needs it, as it is assuming we've passed it a real\n",
       "    // web socket which is closed, not our websocket->open comm proxy.\n",
       "    ws_proxy.onopen();\n",
       "\n",
       "    fig.parent_element = element;\n",
       "    fig.cell_info = mpl.find_output_cell(\"<div id='\" + id + \"'></div>\");\n",
       "    if (!fig.cell_info) {\n",
       "        console.error('Failed to find cell for figure', id, fig);\n",
       "        return;\n",
       "    }\n",
       "    fig.cell_info[0].output_area.element.on(\n",
       "        'cleared',\n",
       "        { fig: fig },\n",
       "        fig._remove_fig_handler\n",
       "    );\n",
       "};\n",
       "\n",
       "mpl.figure.prototype.handle_close = function (fig, msg) {\n",
       "    var width = fig.canvas.width / fig.ratio;\n",
       "    fig.cell_info[0].output_area.element.off(\n",
       "        'cleared',\n",
       "        fig._remove_fig_handler\n",
       "    );\n",
       "    fig.resizeObserverInstance.unobserve(fig.canvas_div);\n",
       "\n",
       "    // Update the output cell to use the data from the current canvas.\n",
       "    fig.push_to_output();\n",
       "    var dataURL = fig.canvas.toDataURL();\n",
       "    // Re-enable the keyboard manager in IPython - without this line, in FF,\n",
       "    // the notebook keyboard shortcuts fail.\n",
       "    IPython.keyboard_manager.enable();\n",
       "    fig.parent_element.innerHTML =\n",
       "        '<img src=\"' + dataURL + '\" width=\"' + width + '\">';\n",
       "    fig.close_ws(fig, msg);\n",
       "};\n",
       "\n",
       "mpl.figure.prototype.close_ws = function (fig, msg) {\n",
       "    fig.send_message('closing', msg);\n",
       "    // fig.ws.close()\n",
       "};\n",
       "\n",
       "mpl.figure.prototype.push_to_output = function (_remove_interactive) {\n",
       "    // Turn the data on the canvas into data in the output cell.\n",
       "    var width = this.canvas.width / this.ratio;\n",
       "    var dataURL = this.canvas.toDataURL();\n",
       "    this.cell_info[1]['text/html'] =\n",
       "        '<img src=\"' + dataURL + '\" width=\"' + width + '\">';\n",
       "};\n",
       "\n",
       "mpl.figure.prototype.updated_canvas_event = function () {\n",
       "    // Tell IPython that the notebook contents must change.\n",
       "    IPython.notebook.set_dirty(true);\n",
       "    this.send_message('ack', {});\n",
       "    var fig = this;\n",
       "    // Wait a second, then push the new image to the DOM so\n",
       "    // that it is saved nicely (might be nice to debounce this).\n",
       "    setTimeout(function () {\n",
       "        fig.push_to_output();\n",
       "    }, 1000);\n",
       "};\n",
       "\n",
       "mpl.figure.prototype._init_toolbar = function () {\n",
       "    var fig = this;\n",
       "\n",
       "    var toolbar = document.createElement('div');\n",
       "    toolbar.classList = 'btn-toolbar';\n",
       "    this.root.appendChild(toolbar);\n",
       "\n",
       "    function on_click_closure(name) {\n",
       "        return function (_event) {\n",
       "            return fig.toolbar_button_onclick(name);\n",
       "        };\n",
       "    }\n",
       "\n",
       "    function on_mouseover_closure(tooltip) {\n",
       "        return function (event) {\n",
       "            if (!event.currentTarget.disabled) {\n",
       "                return fig.toolbar_button_onmouseover(tooltip);\n",
       "            }\n",
       "        };\n",
       "    }\n",
       "\n",
       "    fig.buttons = {};\n",
       "    var buttonGroup = document.createElement('div');\n",
       "    buttonGroup.classList = 'btn-group';\n",
       "    var button;\n",
       "    for (var toolbar_ind in mpl.toolbar_items) {\n",
       "        var name = mpl.toolbar_items[toolbar_ind][0];\n",
       "        var tooltip = mpl.toolbar_items[toolbar_ind][1];\n",
       "        var image = mpl.toolbar_items[toolbar_ind][2];\n",
       "        var method_name = mpl.toolbar_items[toolbar_ind][3];\n",
       "\n",
       "        if (!name) {\n",
       "            /* Instead of a spacer, we start a new button group. */\n",
       "            if (buttonGroup.hasChildNodes()) {\n",
       "                toolbar.appendChild(buttonGroup);\n",
       "            }\n",
       "            buttonGroup = document.createElement('div');\n",
       "            buttonGroup.classList = 'btn-group';\n",
       "            continue;\n",
       "        }\n",
       "\n",
       "        button = fig.buttons[name] = document.createElement('button');\n",
       "        button.classList = 'btn btn-default';\n",
       "        button.href = '#';\n",
       "        button.title = name;\n",
       "        button.innerHTML = '<i class=\"fa ' + image + ' fa-lg\"></i>';\n",
       "        button.addEventListener('click', on_click_closure(method_name));\n",
       "        button.addEventListener('mouseover', on_mouseover_closure(tooltip));\n",
       "        buttonGroup.appendChild(button);\n",
       "    }\n",
       "\n",
       "    if (buttonGroup.hasChildNodes()) {\n",
       "        toolbar.appendChild(buttonGroup);\n",
       "    }\n",
       "\n",
       "    // Add the status bar.\n",
       "    var status_bar = document.createElement('span');\n",
       "    status_bar.classList = 'mpl-message pull-right';\n",
       "    toolbar.appendChild(status_bar);\n",
       "    this.message = status_bar;\n",
       "\n",
       "    // Add the close button to the window.\n",
       "    var buttongrp = document.createElement('div');\n",
       "    buttongrp.classList = 'btn-group inline pull-right';\n",
       "    button = document.createElement('button');\n",
       "    button.classList = 'btn btn-mini btn-primary';\n",
       "    button.href = '#';\n",
       "    button.title = 'Stop Interaction';\n",
       "    button.innerHTML = '<i class=\"fa fa-power-off icon-remove icon-large\"></i>';\n",
       "    button.addEventListener('click', function (_evt) {\n",
       "        fig.handle_close(fig, {});\n",
       "    });\n",
       "    button.addEventListener(\n",
       "        'mouseover',\n",
       "        on_mouseover_closure('Stop Interaction')\n",
       "    );\n",
       "    buttongrp.appendChild(button);\n",
       "    var titlebar = this.root.querySelector('.ui-dialog-titlebar');\n",
       "    titlebar.insertBefore(buttongrp, titlebar.firstChild);\n",
       "};\n",
       "\n",
       "mpl.figure.prototype._remove_fig_handler = function (event) {\n",
       "    var fig = event.data.fig;\n",
       "    if (event.target !== this) {\n",
       "        // Ignore bubbled events from children.\n",
       "        return;\n",
       "    }\n",
       "    fig.close_ws(fig, {});\n",
       "};\n",
       "\n",
       "mpl.figure.prototype._root_extra_style = function (el) {\n",
       "    el.style.boxSizing = 'content-box'; // override notebook setting of border-box.\n",
       "};\n",
       "\n",
       "mpl.figure.prototype._canvas_extra_style = function (el) {\n",
       "    // this is important to make the div 'focusable\n",
       "    el.setAttribute('tabindex', 0);\n",
       "    // reach out to IPython and tell the keyboard manager to turn it's self\n",
       "    // off when our div gets focus\n",
       "\n",
       "    // location in version 3\n",
       "    if (IPython.notebook.keyboard_manager) {\n",
       "        IPython.notebook.keyboard_manager.register_events(el);\n",
       "    } else {\n",
       "        // location in version 2\n",
       "        IPython.keyboard_manager.register_events(el);\n",
       "    }\n",
       "};\n",
       "\n",
       "mpl.figure.prototype._key_event_extra = function (event, _name) {\n",
       "    // Check for shift+enter\n",
       "    if (event.shiftKey && event.which === 13) {\n",
       "        this.canvas_div.blur();\n",
       "        // select the cell after this one\n",
       "        var index = IPython.notebook.find_cell_index(this.cell_info[0]);\n",
       "        IPython.notebook.select(index + 1);\n",
       "    }\n",
       "};\n",
       "\n",
       "mpl.figure.prototype.handle_save = function (fig, _msg) {\n",
       "    fig.ondownload(fig, null);\n",
       "};\n",
       "\n",
       "mpl.find_output_cell = function (html_output) {\n",
       "    // Return the cell and output element which can be found *uniquely* in the notebook.\n",
       "    // Note - this is a bit hacky, but it is done because the \"notebook_saving.Notebook\"\n",
       "    // IPython event is triggered only after the cells have been serialised, which for\n",
       "    // our purposes (turning an active figure into a static one), is too late.\n",
       "    var cells = IPython.notebook.get_cells();\n",
       "    var ncells = cells.length;\n",
       "    for (var i = 0; i < ncells; i++) {\n",
       "        var cell = cells[i];\n",
       "        if (cell.cell_type === 'code') {\n",
       "            for (var j = 0; j < cell.output_area.outputs.length; j++) {\n",
       "                var data = cell.output_area.outputs[j];\n",
       "                if (data.data) {\n",
       "                    // IPython >= 3 moved mimebundle to data attribute of output\n",
       "                    data = data.data;\n",
       "                }\n",
       "                if (data['text/html'] === html_output) {\n",
       "                    return [cell, data, j];\n",
       "                }\n",
       "            }\n",
       "        }\n",
       "    }\n",
       "};\n",
       "\n",
       "// Register the function which deals with the matplotlib target/channel.\n",
       "// The kernel may be null if the page has been refreshed.\n",
       "if (IPython.notebook.kernel !== null) {\n",
       "    IPython.notebook.kernel.comm_manager.register_target(\n",
       "        'matplotlib',\n",
       "        mpl.mpl_figure_comm\n",
       "    );\n",
       "}\n"
      ],
      "text/plain": [
       "<IPython.core.display.Javascript object>"
      ]
     },
     "metadata": {},
     "output_type": "display_data"
    },
    {
     "data": {
      "text/html": [
       "<img src=\"data:image/png;base64,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\" width=\"640\">"
      ],
      "text/plain": [
       "<IPython.core.display.HTML object>"
      ]
     },
     "metadata": {},
     "output_type": "display_data"
    }
   ],
   "source": [
    "# Example: the final plot looks like this:\n",
    "fig = matplotlib.pyplot.figure()"
   ]
  },
  {
   "cell_type": "code",
   "execution_count": 96,
   "metadata": {
    "slideshow": {
     "slide_type": "subslide"
    }
   },
   "outputs": [],
   "source": [
    "# Split the figure into an array of fields: ncols x nrows.\n",
    "grid = matplotlib.pyplot.GridSpec(ncols=1, nrows=1)"
   ]
  },
  {
   "cell_type": "code",
   "execution_count": 97,
   "metadata": {
    "slideshow": {
     "slide_type": "fragment"
    }
   },
   "outputs": [],
   "source": [
    "# Add a subplot by specifying column and row.\n",
    "# You can also use slicing here for combining fields.\n",
    "ax = fig.add_subplot(grid[0, 0])"
   ]
  },
  {
   "cell_type": "code",
   "execution_count": 98,
   "metadata": {
    "slideshow": {
     "slide_type": "fragment"
    }
   },
   "outputs": [],
   "source": [
    "# Input data\n",
    "xval = np.linspace(0., 2.*np.pi, 101)\n",
    "yval = np.sin(xval)"
   ]
  },
  {
   "cell_type": "code",
   "execution_count": 99,
   "metadata": {
    "slideshow": {
     "slide_type": "fragment"
    }
   },
   "outputs": [
    {
     "data": {
      "text/plain": [
       "[<matplotlib.lines.Line2D at 0x7f7011e0faf0>]"
      ]
     },
     "execution_count": 99,
     "metadata": {},
     "output_type": "execute_result"
    }
   ],
   "source": [
    "# Plot the input data:\n",
    "# Combine the data points with a solid line.\n",
    "ax.plot(xval, yval, \"-\", label=\"This is the sine function.\")"
   ]
  },
  {
   "cell_type": "code",
   "execution_count": 100,
   "metadata": {
    "slideshow": {
     "slide_type": "subslide"
    }
   },
   "outputs": [
    {
     "data": {
      "text/plain": [
       "(-1.0, 1.0)"
      ]
     },
     "execution_count": 100,
     "metadata": {},
     "output_type": "execute_result"
    }
   ],
   "source": [
    "# Axes formatting\n",
    "ax.set_xlim(xval[0], xval[-1])\n",
    "ax.set_ylim(-1., 1.)"
   ]
  },
  {
   "cell_type": "code",
   "execution_count": 101,
   "metadata": {
    "slideshow": {
     "slide_type": "fragment"
    }
   },
   "outputs": [],
   "source": [
    "# Set the major ticks location and format of the x-axis.\n",
    "ax.xaxis.set_major_locator(matplotlib.ticker.FixedLocator([0, np.pi/2, np.pi, 3/2*np.pi, 2*np.pi]))\n",
    "ax.xaxis.set_major_formatter(matplotlib.ticker.FixedFormatter(\n",
    "    [\"$0$\", r\"$\\frac{\\pi}{2}$\", r\"$\\pi$\", r\"$\\frac{3\\pi}{2}$\", r\"$2\\pi$\"]))"
   ]
  },
  {
   "cell_type": "code",
   "execution_count": 102,
   "metadata": {
    "slideshow": {
     "slide_type": "fragment"
    }
   },
   "outputs": [],
   "source": [
    "# For linear ticks, Matplotlib is pretty good in figuring out the location \n",
    "# of minor ticks.\n",
    "ax.yaxis.set_major_locator(matplotlib.ticker.LinearLocator(numticks=5))\n",
    "ax.yaxis.set_minor_locator(matplotlib.ticker.AutoMinorLocator())"
   ]
  },
  {
   "cell_type": "code",
   "execution_count": 103,
   "metadata": {
    "slideshow": {
     "slide_type": "fragment"
    }
   },
   "outputs": [
    {
     "data": {
      "text/plain": [
       "Text(31.097222222222214, 0.5, '$\\\\sin(\\\\alpha)$')"
      ]
     },
     "execution_count": 103,
     "metadata": {},
     "output_type": "execute_result"
    }
   ],
   "source": [
    "# Labels\n",
    "ax.set_xlabel(r\"$\\alpha$\")\n",
    "ax.set_ylabel(r\"$\\sin(\\alpha)$\")"
   ]
  },
  {
   "cell_type": "code",
   "execution_count": 104,
   "metadata": {
    "slideshow": {
     "slide_type": "fragment"
    }
   },
   "outputs": [
    {
     "data": {
      "text/plain": [
       "<matplotlib.legend.Legend at 0x7f7011cfbd60>"
      ]
     },
     "execution_count": 104,
     "metadata": {},
     "output_type": "execute_result"
    }
   ],
   "source": [
    "# Legend\n",
    "ax.legend(loc=\"upper right\")"
   ]
  },
  {
   "cell_type": "code",
   "execution_count": 105,
   "metadata": {
    "slideshow": {
     "slide_type": "subslide"
    }
   },
   "outputs": [
    {
     "name": "stderr",
     "output_type": "stream",
     "text": [
      "<ipython-input-105-b20d22375b02>:2: UserWarning: This figure includes Axes that are not compatible with tight_layout, so results might be incorrect.\n",
      "  grid.tight_layout(fig)\n"
     ]
    }
   ],
   "source": [
    "# Shrink the axes in order to fit in the labels.\n",
    "grid.tight_layout(fig)"
   ]
  },
  {
   "cell_type": "code",
   "execution_count": 106,
   "metadata": {
    "slideshow": {
     "slide_type": "fragment"
    }
   },
   "outputs": [],
   "source": [
    "# Save the figure.\n",
    "fig.savefig(\"example.pdf\")"
   ]
  },
  {
   "cell_type": "code",
   "execution_count": 107,
   "metadata": {
    "slideshow": {
     "slide_type": "skip"
    }
   },
   "outputs": [],
   "source": [
    "os.remove(\"example.pdf\")"
   ]
  },
  {
   "cell_type": "markdown",
   "metadata": {
    "slideshow": {
     "slide_type": "subslide"
    }
   },
   "source": [
    "### Creating a matplotlib animation\n",
    "\n",
    "Matplotlib has the module `matplotlib.animation` which provides functionality to create animated plots."
   ]
  },
  {
   "cell_type": "markdown",
   "metadata": {
    "slideshow": {
     "slide_type": "fragment"
    }
   },
   "source": [
    "* After a plot is drawn, an animation function can be defined that updates the artists of the plot.\n",
    "* The `matplotlib.animation.FuncAnimation` class can be used to animate a function of the form `func(frame_number)`."
   ]
  },
  {
   "cell_type": "markdown",
   "metadata": {
    "slideshow": {
     "slide_type": "subslide"
    }
   },
   "source": [
    "Let's animate a point within a plot. The point will move forward on the x-axis."
   ]
  },
  {
   "cell_type": "code",
   "execution_count": 108,
   "metadata": {
    "slideshow": {
     "slide_type": "fragment"
    }
   },
   "outputs": [
    {
     "data": {
      "application/javascript": [
       "/* Put everything inside the global mpl namespace */\n",
       "/* global mpl */\n",
       "window.mpl = {};\n",
       "\n",
       "mpl.get_websocket_type = function () {\n",
       "    if (typeof WebSocket !== 'undefined') {\n",
       "        return WebSocket;\n",
       "    } else if (typeof MozWebSocket !== 'undefined') {\n",
       "        return MozWebSocket;\n",
       "    } else {\n",
       "        alert(\n",
       "            'Your browser does not have WebSocket support. ' +\n",
       "                'Please try Chrome, Safari or Firefox ≥ 6. ' +\n",
       "                'Firefox 4 and 5 are also supported but you ' +\n",
       "                'have to enable WebSockets in about:config.'\n",
       "        );\n",
       "    }\n",
       "};\n",
       "\n",
       "mpl.figure = function (figure_id, websocket, ondownload, parent_element) {\n",
       "    this.id = figure_id;\n",
       "\n",
       "    this.ws = websocket;\n",
       "\n",
       "    this.supports_binary = this.ws.binaryType !== undefined;\n",
       "\n",
       "    if (!this.supports_binary) {\n",
       "        var warnings = document.getElementById('mpl-warnings');\n",
       "        if (warnings) {\n",
       "            warnings.style.display = 'block';\n",
       "            warnings.textContent =\n",
       "                'This browser does not support binary websocket messages. ' +\n",
       "                'Performance may be slow.';\n",
       "        }\n",
       "    }\n",
       "\n",
       "    this.imageObj = new Image();\n",
       "\n",
       "    this.context = undefined;\n",
       "    this.message = undefined;\n",
       "    this.canvas = undefined;\n",
       "    this.rubberband_canvas = undefined;\n",
       "    this.rubberband_context = undefined;\n",
       "    this.format_dropdown = undefined;\n",
       "\n",
       "    this.image_mode = 'full';\n",
       "\n",
       "    this.root = document.createElement('div');\n",
       "    this.root.setAttribute('style', 'display: inline-block');\n",
       "    this._root_extra_style(this.root);\n",
       "\n",
       "    parent_element.appendChild(this.root);\n",
       "\n",
       "    this._init_header(this);\n",
       "    this._init_canvas(this);\n",
       "    this._init_toolbar(this);\n",
       "\n",
       "    var fig = this;\n",
       "\n",
       "    this.waiting = false;\n",
       "\n",
       "    this.ws.onopen = function () {\n",
       "        fig.send_message('supports_binary', { value: fig.supports_binary });\n",
       "        fig.send_message('send_image_mode', {});\n",
       "        if (fig.ratio !== 1) {\n",
       "            fig.send_message('set_device_pixel_ratio', {\n",
       "                device_pixel_ratio: fig.ratio,\n",
       "            });\n",
       "        }\n",
       "        fig.send_message('refresh', {});\n",
       "    };\n",
       "\n",
       "    this.imageObj.onload = function () {\n",
       "        if (fig.image_mode === 'full') {\n",
       "            // Full images could contain transparency (where diff images\n",
       "            // almost always do), so we need to clear the canvas so that\n",
       "            // there is no ghosting.\n",
       "            fig.context.clearRect(0, 0, fig.canvas.width, fig.canvas.height);\n",
       "        }\n",
       "        fig.context.drawImage(fig.imageObj, 0, 0);\n",
       "    };\n",
       "\n",
       "    this.imageObj.onunload = function () {\n",
       "        fig.ws.close();\n",
       "    };\n",
       "\n",
       "    this.ws.onmessage = this._make_on_message_function(this);\n",
       "\n",
       "    this.ondownload = ondownload;\n",
       "};\n",
       "\n",
       "mpl.figure.prototype._init_header = function () {\n",
       "    var titlebar = document.createElement('div');\n",
       "    titlebar.classList =\n",
       "        'ui-dialog-titlebar ui-widget-header ui-corner-all ui-helper-clearfix';\n",
       "    var titletext = document.createElement('div');\n",
       "    titletext.classList = 'ui-dialog-title';\n",
       "    titletext.setAttribute(\n",
       "        'style',\n",
       "        'width: 100%; text-align: center; padding: 3px;'\n",
       "    );\n",
       "    titlebar.appendChild(titletext);\n",
       "    this.root.appendChild(titlebar);\n",
       "    this.header = titletext;\n",
       "};\n",
       "\n",
       "mpl.figure.prototype._canvas_extra_style = function (_canvas_div) {};\n",
       "\n",
       "mpl.figure.prototype._root_extra_style = function (_canvas_div) {};\n",
       "\n",
       "mpl.figure.prototype._init_canvas = function () {\n",
       "    var fig = this;\n",
       "\n",
       "    var canvas_div = (this.canvas_div = document.createElement('div'));\n",
       "    canvas_div.setAttribute(\n",
       "        'style',\n",
       "        'border: 1px solid #ddd;' +\n",
       "            'box-sizing: content-box;' +\n",
       "            'clear: both;' +\n",
       "            'min-height: 1px;' +\n",
       "            'min-width: 1px;' +\n",
       "            'outline: 0;' +\n",
       "            'overflow: hidden;' +\n",
       "            'position: relative;' +\n",
       "            'resize: both;'\n",
       "    );\n",
       "\n",
       "    function on_keyboard_event_closure(name) {\n",
       "        return function (event) {\n",
       "            return fig.key_event(event, name);\n",
       "        };\n",
       "    }\n",
       "\n",
       "    canvas_div.addEventListener(\n",
       "        'keydown',\n",
       "        on_keyboard_event_closure('key_press')\n",
       "    );\n",
       "    canvas_div.addEventListener(\n",
       "        'keyup',\n",
       "        on_keyboard_event_closure('key_release')\n",
       "    );\n",
       "\n",
       "    this._canvas_extra_style(canvas_div);\n",
       "    this.root.appendChild(canvas_div);\n",
       "\n",
       "    var canvas = (this.canvas = document.createElement('canvas'));\n",
       "    canvas.classList.add('mpl-canvas');\n",
       "    canvas.setAttribute('style', 'box-sizing: content-box;');\n",
       "\n",
       "    this.context = canvas.getContext('2d');\n",
       "\n",
       "    var backingStore =\n",
       "        this.context.backingStorePixelRatio ||\n",
       "        this.context.webkitBackingStorePixelRatio ||\n",
       "        this.context.mozBackingStorePixelRatio ||\n",
       "        this.context.msBackingStorePixelRatio ||\n",
       "        this.context.oBackingStorePixelRatio ||\n",
       "        this.context.backingStorePixelRatio ||\n",
       "        1;\n",
       "\n",
       "    this.ratio = (window.devicePixelRatio || 1) / backingStore;\n",
       "\n",
       "    var rubberband_canvas = (this.rubberband_canvas = document.createElement(\n",
       "        'canvas'\n",
       "    ));\n",
       "    rubberband_canvas.setAttribute(\n",
       "        'style',\n",
       "        'box-sizing: content-box; position: absolute; left: 0; top: 0; z-index: 1;'\n",
       "    );\n",
       "\n",
       "    // Apply a ponyfill if ResizeObserver is not implemented by browser.\n",
       "    if (this.ResizeObserver === undefined) {\n",
       "        if (window.ResizeObserver !== undefined) {\n",
       "            this.ResizeObserver = window.ResizeObserver;\n",
       "        } else {\n",
       "            var obs = _JSXTOOLS_RESIZE_OBSERVER({});\n",
       "            this.ResizeObserver = obs.ResizeObserver;\n",
       "        }\n",
       "    }\n",
       "\n",
       "    this.resizeObserverInstance = new this.ResizeObserver(function (entries) {\n",
       "        var nentries = entries.length;\n",
       "        for (var i = 0; i < nentries; i++) {\n",
       "            var entry = entries[i];\n",
       "            var width, height;\n",
       "            if (entry.contentBoxSize) {\n",
       "                if (entry.contentBoxSize instanceof Array) {\n",
       "                    // Chrome 84 implements new version of spec.\n",
       "                    width = entry.contentBoxSize[0].inlineSize;\n",
       "                    height = entry.contentBoxSize[0].blockSize;\n",
       "                } else {\n",
       "                    // Firefox implements old version of spec.\n",
       "                    width = entry.contentBoxSize.inlineSize;\n",
       "                    height = entry.contentBoxSize.blockSize;\n",
       "                }\n",
       "            } else {\n",
       "                // Chrome <84 implements even older version of spec.\n",
       "                width = entry.contentRect.width;\n",
       "                height = entry.contentRect.height;\n",
       "            }\n",
       "\n",
       "            // Keep the size of the canvas and rubber band canvas in sync with\n",
       "            // the canvas container.\n",
       "            if (entry.devicePixelContentBoxSize) {\n",
       "                // Chrome 84 implements new version of spec.\n",
       "                canvas.setAttribute(\n",
       "                    'width',\n",
       "                    entry.devicePixelContentBoxSize[0].inlineSize\n",
       "                );\n",
       "                canvas.setAttribute(\n",
       "                    'height',\n",
       "                    entry.devicePixelContentBoxSize[0].blockSize\n",
       "                );\n",
       "            } else {\n",
       "                canvas.setAttribute('width', width * fig.ratio);\n",
       "                canvas.setAttribute('height', height * fig.ratio);\n",
       "            }\n",
       "            canvas.setAttribute(\n",
       "                'style',\n",
       "                'width: ' + width + 'px; height: ' + height + 'px;'\n",
       "            );\n",
       "\n",
       "            rubberband_canvas.setAttribute('width', width);\n",
       "            rubberband_canvas.setAttribute('height', height);\n",
       "\n",
       "            // And update the size in Python. We ignore the initial 0/0 size\n",
       "            // that occurs as the element is placed into the DOM, which should\n",
       "            // otherwise not happen due to the minimum size styling.\n",
       "            if (fig.ws.readyState == 1 && width != 0 && height != 0) {\n",
       "                fig.request_resize(width, height);\n",
       "            }\n",
       "        }\n",
       "    });\n",
       "    this.resizeObserverInstance.observe(canvas_div);\n",
       "\n",
       "    function on_mouse_event_closure(name) {\n",
       "        return function (event) {\n",
       "            return fig.mouse_event(event, name);\n",
       "        };\n",
       "    }\n",
       "\n",
       "    rubberband_canvas.addEventListener(\n",
       "        'mousedown',\n",
       "        on_mouse_event_closure('button_press')\n",
       "    );\n",
       "    rubberband_canvas.addEventListener(\n",
       "        'mouseup',\n",
       "        on_mouse_event_closure('button_release')\n",
       "    );\n",
       "    rubberband_canvas.addEventListener(\n",
       "        'dblclick',\n",
       "        on_mouse_event_closure('dblclick')\n",
       "    );\n",
       "    // Throttle sequential mouse events to 1 every 20ms.\n",
       "    rubberband_canvas.addEventListener(\n",
       "        'mousemove',\n",
       "        on_mouse_event_closure('motion_notify')\n",
       "    );\n",
       "\n",
       "    rubberband_canvas.addEventListener(\n",
       "        'mouseenter',\n",
       "        on_mouse_event_closure('figure_enter')\n",
       "    );\n",
       "    rubberband_canvas.addEventListener(\n",
       "        'mouseleave',\n",
       "        on_mouse_event_closure('figure_leave')\n",
       "    );\n",
       "\n",
       "    canvas_div.addEventListener('wheel', function (event) {\n",
       "        if (event.deltaY < 0) {\n",
       "            event.step = 1;\n",
       "        } else {\n",
       "            event.step = -1;\n",
       "        }\n",
       "        on_mouse_event_closure('scroll')(event);\n",
       "    });\n",
       "\n",
       "    canvas_div.appendChild(canvas);\n",
       "    canvas_div.appendChild(rubberband_canvas);\n",
       "\n",
       "    this.rubberband_context = rubberband_canvas.getContext('2d');\n",
       "    this.rubberband_context.strokeStyle = '#000000';\n",
       "\n",
       "    this._resize_canvas = function (width, height, forward) {\n",
       "        if (forward) {\n",
       "            canvas_div.style.width = width + 'px';\n",
       "            canvas_div.style.height = height + 'px';\n",
       "        }\n",
       "    };\n",
       "\n",
       "    // Disable right mouse context menu.\n",
       "    this.rubberband_canvas.addEventListener('contextmenu', function (_e) {\n",
       "        event.preventDefault();\n",
       "        return false;\n",
       "    });\n",
       "\n",
       "    function set_focus() {\n",
       "        canvas.focus();\n",
       "        canvas_div.focus();\n",
       "    }\n",
       "\n",
       "    window.setTimeout(set_focus, 100);\n",
       "};\n",
       "\n",
       "mpl.figure.prototype._init_toolbar = function () {\n",
       "    var fig = this;\n",
       "\n",
       "    var toolbar = document.createElement('div');\n",
       "    toolbar.classList = 'mpl-toolbar';\n",
       "    this.root.appendChild(toolbar);\n",
       "\n",
       "    function on_click_closure(name) {\n",
       "        return function (_event) {\n",
       "            return fig.toolbar_button_onclick(name);\n",
       "        };\n",
       "    }\n",
       "\n",
       "    function on_mouseover_closure(tooltip) {\n",
       "        return function (event) {\n",
       "            if (!event.currentTarget.disabled) {\n",
       "                return fig.toolbar_button_onmouseover(tooltip);\n",
       "            }\n",
       "        };\n",
       "    }\n",
       "\n",
       "    fig.buttons = {};\n",
       "    var buttonGroup = document.createElement('div');\n",
       "    buttonGroup.classList = 'mpl-button-group';\n",
       "    for (var toolbar_ind in mpl.toolbar_items) {\n",
       "        var name = mpl.toolbar_items[toolbar_ind][0];\n",
       "        var tooltip = mpl.toolbar_items[toolbar_ind][1];\n",
       "        var image = mpl.toolbar_items[toolbar_ind][2];\n",
       "        var method_name = mpl.toolbar_items[toolbar_ind][3];\n",
       "\n",
       "        if (!name) {\n",
       "            /* Instead of a spacer, we start a new button group. */\n",
       "            if (buttonGroup.hasChildNodes()) {\n",
       "                toolbar.appendChild(buttonGroup);\n",
       "            }\n",
       "            buttonGroup = document.createElement('div');\n",
       "            buttonGroup.classList = 'mpl-button-group';\n",
       "            continue;\n",
       "        }\n",
       "\n",
       "        var button = (fig.buttons[name] = document.createElement('button'));\n",
       "        button.classList = 'mpl-widget';\n",
       "        button.setAttribute('role', 'button');\n",
       "        button.setAttribute('aria-disabled', 'false');\n",
       "        button.addEventListener('click', on_click_closure(method_name));\n",
       "        button.addEventListener('mouseover', on_mouseover_closure(tooltip));\n",
       "\n",
       "        var icon_img = document.createElement('img');\n",
       "        icon_img.src = '_images/' + image + '.png';\n",
       "        icon_img.srcset = '_images/' + image + '_large.png 2x';\n",
       "        icon_img.alt = tooltip;\n",
       "        button.appendChild(icon_img);\n",
       "\n",
       "        buttonGroup.appendChild(button);\n",
       "    }\n",
       "\n",
       "    if (buttonGroup.hasChildNodes()) {\n",
       "        toolbar.appendChild(buttonGroup);\n",
       "    }\n",
       "\n",
       "    var fmt_picker = document.createElement('select');\n",
       "    fmt_picker.classList = 'mpl-widget';\n",
       "    toolbar.appendChild(fmt_picker);\n",
       "    this.format_dropdown = fmt_picker;\n",
       "\n",
       "    for (var ind in mpl.extensions) {\n",
       "        var fmt = mpl.extensions[ind];\n",
       "        var option = document.createElement('option');\n",
       "        option.selected = fmt === mpl.default_extension;\n",
       "        option.innerHTML = fmt;\n",
       "        fmt_picker.appendChild(option);\n",
       "    }\n",
       "\n",
       "    var status_bar = document.createElement('span');\n",
       "    status_bar.classList = 'mpl-message';\n",
       "    toolbar.appendChild(status_bar);\n",
       "    this.message = status_bar;\n",
       "};\n",
       "\n",
       "mpl.figure.prototype.request_resize = function (x_pixels, y_pixels) {\n",
       "    // Request matplotlib to resize the figure. Matplotlib will then trigger a resize in the client,\n",
       "    // which will in turn request a refresh of the image.\n",
       "    this.send_message('resize', { width: x_pixels, height: y_pixels });\n",
       "};\n",
       "\n",
       "mpl.figure.prototype.send_message = function (type, properties) {\n",
       "    properties['type'] = type;\n",
       "    properties['figure_id'] = this.id;\n",
       "    this.ws.send(JSON.stringify(properties));\n",
       "};\n",
       "\n",
       "mpl.figure.prototype.send_draw_message = function () {\n",
       "    if (!this.waiting) {\n",
       "        this.waiting = true;\n",
       "        this.ws.send(JSON.stringify({ type: 'draw', figure_id: this.id }));\n",
       "    }\n",
       "};\n",
       "\n",
       "mpl.figure.prototype.handle_save = function (fig, _msg) {\n",
       "    var format_dropdown = fig.format_dropdown;\n",
       "    var format = format_dropdown.options[format_dropdown.selectedIndex].value;\n",
       "    fig.ondownload(fig, format);\n",
       "};\n",
       "\n",
       "mpl.figure.prototype.handle_resize = function (fig, msg) {\n",
       "    var size = msg['size'];\n",
       "    if (size[0] !== fig.canvas.width || size[1] !== fig.canvas.height) {\n",
       "        fig._resize_canvas(size[0], size[1], msg['forward']);\n",
       "        fig.send_message('refresh', {});\n",
       "    }\n",
       "};\n",
       "\n",
       "mpl.figure.prototype.handle_rubberband = function (fig, msg) {\n",
       "    var x0 = msg['x0'] / fig.ratio;\n",
       "    var y0 = (fig.canvas.height - msg['y0']) / fig.ratio;\n",
       "    var x1 = msg['x1'] / fig.ratio;\n",
       "    var y1 = (fig.canvas.height - msg['y1']) / fig.ratio;\n",
       "    x0 = Math.floor(x0) + 0.5;\n",
       "    y0 = Math.floor(y0) + 0.5;\n",
       "    x1 = Math.floor(x1) + 0.5;\n",
       "    y1 = Math.floor(y1) + 0.5;\n",
       "    var min_x = Math.min(x0, x1);\n",
       "    var min_y = Math.min(y0, y1);\n",
       "    var width = Math.abs(x1 - x0);\n",
       "    var height = Math.abs(y1 - y0);\n",
       "\n",
       "    fig.rubberband_context.clearRect(\n",
       "        0,\n",
       "        0,\n",
       "        fig.canvas.width / fig.ratio,\n",
       "        fig.canvas.height / fig.ratio\n",
       "    );\n",
       "\n",
       "    fig.rubberband_context.strokeRect(min_x, min_y, width, height);\n",
       "};\n",
       "\n",
       "mpl.figure.prototype.handle_figure_label = function (fig, msg) {\n",
       "    // Updates the figure title.\n",
       "    fig.header.textContent = msg['label'];\n",
       "};\n",
       "\n",
       "mpl.figure.prototype.handle_cursor = function (fig, msg) {\n",
       "    fig.rubberband_canvas.style.cursor = msg['cursor'];\n",
       "};\n",
       "\n",
       "mpl.figure.prototype.handle_message = function (fig, msg) {\n",
       "    fig.message.textContent = msg['message'];\n",
       "};\n",
       "\n",
       "mpl.figure.prototype.handle_draw = function (fig, _msg) {\n",
       "    // Request the server to send over a new figure.\n",
       "    fig.send_draw_message();\n",
       "};\n",
       "\n",
       "mpl.figure.prototype.handle_image_mode = function (fig, msg) {\n",
       "    fig.image_mode = msg['mode'];\n",
       "};\n",
       "\n",
       "mpl.figure.prototype.handle_history_buttons = function (fig, msg) {\n",
       "    for (var key in msg) {\n",
       "        if (!(key in fig.buttons)) {\n",
       "            continue;\n",
       "        }\n",
       "        fig.buttons[key].disabled = !msg[key];\n",
       "        fig.buttons[key].setAttribute('aria-disabled', !msg[key]);\n",
       "    }\n",
       "};\n",
       "\n",
       "mpl.figure.prototype.handle_navigate_mode = function (fig, msg) {\n",
       "    if (msg['mode'] === 'PAN') {\n",
       "        fig.buttons['Pan'].classList.add('active');\n",
       "        fig.buttons['Zoom'].classList.remove('active');\n",
       "    } else if (msg['mode'] === 'ZOOM') {\n",
       "        fig.buttons['Pan'].classList.remove('active');\n",
       "        fig.buttons['Zoom'].classList.add('active');\n",
       "    } else {\n",
       "        fig.buttons['Pan'].classList.remove('active');\n",
       "        fig.buttons['Zoom'].classList.remove('active');\n",
       "    }\n",
       "};\n",
       "\n",
       "mpl.figure.prototype.updated_canvas_event = function () {\n",
       "    // Called whenever the canvas gets updated.\n",
       "    this.send_message('ack', {});\n",
       "};\n",
       "\n",
       "// A function to construct a web socket function for onmessage handling.\n",
       "// Called in the figure constructor.\n",
       "mpl.figure.prototype._make_on_message_function = function (fig) {\n",
       "    return function socket_on_message(evt) {\n",
       "        if (evt.data instanceof Blob) {\n",
       "            var img = evt.data;\n",
       "            if (img.type !== 'image/png') {\n",
       "                /* FIXME: We get \"Resource interpreted as Image but\n",
       "                 * transferred with MIME type text/plain:\" errors on\n",
       "                 * Chrome.  But how to set the MIME type?  It doesn't seem\n",
       "                 * to be part of the websocket stream */\n",
       "                img.type = 'image/png';\n",
       "            }\n",
       "\n",
       "            /* Free the memory for the previous frames */\n",
       "            if (fig.imageObj.src) {\n",
       "                (window.URL || window.webkitURL).revokeObjectURL(\n",
       "                    fig.imageObj.src\n",
       "                );\n",
       "            }\n",
       "\n",
       "            fig.imageObj.src = (window.URL || window.webkitURL).createObjectURL(\n",
       "                img\n",
       "            );\n",
       "            fig.updated_canvas_event();\n",
       "            fig.waiting = false;\n",
       "            return;\n",
       "        } else if (\n",
       "            typeof evt.data === 'string' &&\n",
       "            evt.data.slice(0, 21) === 'data:image/png;base64'\n",
       "        ) {\n",
       "            fig.imageObj.src = evt.data;\n",
       "            fig.updated_canvas_event();\n",
       "            fig.waiting = false;\n",
       "            return;\n",
       "        }\n",
       "\n",
       "        var msg = JSON.parse(evt.data);\n",
       "        var msg_type = msg['type'];\n",
       "\n",
       "        // Call the  \"handle_{type}\" callback, which takes\n",
       "        // the figure and JSON message as its only arguments.\n",
       "        try {\n",
       "            var callback = fig['handle_' + msg_type];\n",
       "        } catch (e) {\n",
       "            console.log(\n",
       "                \"No handler for the '\" + msg_type + \"' message type: \",\n",
       "                msg\n",
       "            );\n",
       "            return;\n",
       "        }\n",
       "\n",
       "        if (callback) {\n",
       "            try {\n",
       "                // console.log(\"Handling '\" + msg_type + \"' message: \", msg);\n",
       "                callback(fig, msg);\n",
       "            } catch (e) {\n",
       "                console.log(\n",
       "                    \"Exception inside the 'handler_\" + msg_type + \"' callback:\",\n",
       "                    e,\n",
       "                    e.stack,\n",
       "                    msg\n",
       "                );\n",
       "            }\n",
       "        }\n",
       "    };\n",
       "};\n",
       "\n",
       "// from https://stackoverflow.com/questions/1114465/getting-mouse-location-in-canvas\n",
       "mpl.findpos = function (e) {\n",
       "    //this section is from http://www.quirksmode.org/js/events_properties.html\n",
       "    var targ;\n",
       "    if (!e) {\n",
       "        e = window.event;\n",
       "    }\n",
       "    if (e.target) {\n",
       "        targ = e.target;\n",
       "    } else if (e.srcElement) {\n",
       "        targ = e.srcElement;\n",
       "    }\n",
       "    if (targ.nodeType === 3) {\n",
       "        // defeat Safari bug\n",
       "        targ = targ.parentNode;\n",
       "    }\n",
       "\n",
       "    // pageX,Y are the mouse positions relative to the document\n",
       "    var boundingRect = targ.getBoundingClientRect();\n",
       "    var x = e.pageX - (boundingRect.left + document.body.scrollLeft);\n",
       "    var y = e.pageY - (boundingRect.top + document.body.scrollTop);\n",
       "\n",
       "    return { x: x, y: y };\n",
       "};\n",
       "\n",
       "/*\n",
       " * return a copy of an object with only non-object keys\n",
       " * we need this to avoid circular references\n",
       " * https://stackoverflow.com/a/24161582/3208463\n",
       " */\n",
       "function simpleKeys(original) {\n",
       "    return Object.keys(original).reduce(function (obj, key) {\n",
       "        if (typeof original[key] !== 'object') {\n",
       "            obj[key] = original[key];\n",
       "        }\n",
       "        return obj;\n",
       "    }, {});\n",
       "}\n",
       "\n",
       "mpl.figure.prototype.mouse_event = function (event, name) {\n",
       "    var canvas_pos = mpl.findpos(event);\n",
       "\n",
       "    if (name === 'button_press') {\n",
       "        this.canvas.focus();\n",
       "        this.canvas_div.focus();\n",
       "    }\n",
       "\n",
       "    var x = canvas_pos.x * this.ratio;\n",
       "    var y = canvas_pos.y * this.ratio;\n",
       "\n",
       "    this.send_message(name, {\n",
       "        x: x,\n",
       "        y: y,\n",
       "        button: event.button,\n",
       "        step: event.step,\n",
       "        guiEvent: simpleKeys(event),\n",
       "    });\n",
       "\n",
       "    /* This prevents the web browser from automatically changing to\n",
       "     * the text insertion cursor when the button is pressed.  We want\n",
       "     * to control all of the cursor setting manually through the\n",
       "     * 'cursor' event from matplotlib */\n",
       "    event.preventDefault();\n",
       "    return false;\n",
       "};\n",
       "\n",
       "mpl.figure.prototype._key_event_extra = function (_event, _name) {\n",
       "    // Handle any extra behaviour associated with a key event\n",
       "};\n",
       "\n",
       "mpl.figure.prototype.key_event = function (event, name) {\n",
       "    // Prevent repeat events\n",
       "    if (name === 'key_press') {\n",
       "        if (event.key === this._key) {\n",
       "            return;\n",
       "        } else {\n",
       "            this._key = event.key;\n",
       "        }\n",
       "    }\n",
       "    if (name === 'key_release') {\n",
       "        this._key = null;\n",
       "    }\n",
       "\n",
       "    var value = '';\n",
       "    if (event.ctrlKey && event.key !== 'Control') {\n",
       "        value += 'ctrl+';\n",
       "    }\n",
       "    else if (event.altKey && event.key !== 'Alt') {\n",
       "        value += 'alt+';\n",
       "    }\n",
       "    else if (event.shiftKey && event.key !== 'Shift') {\n",
       "        value += 'shift+';\n",
       "    }\n",
       "\n",
       "    value += 'k' + event.key;\n",
       "\n",
       "    this._key_event_extra(event, name);\n",
       "\n",
       "    this.send_message(name, { key: value, guiEvent: simpleKeys(event) });\n",
       "    return false;\n",
       "};\n",
       "\n",
       "mpl.figure.prototype.toolbar_button_onclick = function (name) {\n",
       "    if (name === 'download') {\n",
       "        this.handle_save(this, null);\n",
       "    } else {\n",
       "        this.send_message('toolbar_button', { name: name });\n",
       "    }\n",
       "};\n",
       "\n",
       "mpl.figure.prototype.toolbar_button_onmouseover = function (tooltip) {\n",
       "    this.message.textContent = tooltip;\n",
       "};\n",
       "\n",
       "///////////////// REMAINING CONTENT GENERATED BY embed_js.py /////////////////\n",
       "// prettier-ignore\n",
       "var _JSXTOOLS_RESIZE_OBSERVER=function(A){var t,i=new WeakMap,n=new WeakMap,a=new WeakMap,r=new WeakMap,o=new Set;function s(e){if(!(this instanceof s))throw new TypeError(\"Constructor requires 'new' operator\");i.set(this,e)}function h(){throw new TypeError(\"Function is not a constructor\")}function c(e,t,i,n){e=0 in arguments?Number(arguments[0]):0,t=1 in arguments?Number(arguments[1]):0,i=2 in arguments?Number(arguments[2]):0,n=3 in arguments?Number(arguments[3]):0,this.right=(this.x=this.left=e)+(this.width=i),this.bottom=(this.y=this.top=t)+(this.height=n),Object.freeze(this)}function d(){t=requestAnimationFrame(d);var s=new WeakMap,p=new Set;o.forEach((function(t){r.get(t).forEach((function(i){var r=t instanceof window.SVGElement,o=a.get(t),d=r?0:parseFloat(o.paddingTop),f=r?0:parseFloat(o.paddingRight),l=r?0:parseFloat(o.paddingBottom),u=r?0:parseFloat(o.paddingLeft),g=r?0:parseFloat(o.borderTopWidth),m=r?0:parseFloat(o.borderRightWidth),w=r?0:parseFloat(o.borderBottomWidth),b=u+f,F=d+l,v=(r?0:parseFloat(o.borderLeftWidth))+m,W=g+w,y=r?0:t.offsetHeight-W-t.clientHeight,E=r?0:t.offsetWidth-v-t.clientWidth,R=b+v,z=F+W,M=r?t.width:parseFloat(o.width)-R-E,O=r?t.height:parseFloat(o.height)-z-y;if(n.has(t)){var k=n.get(t);if(k[0]===M&&k[1]===O)return}n.set(t,[M,O]);var S=Object.create(h.prototype);S.target=t,S.contentRect=new c(u,d,M,O),s.has(i)||(s.set(i,[]),p.add(i)),s.get(i).push(S)}))})),p.forEach((function(e){i.get(e).call(e,s.get(e),e)}))}return s.prototype.observe=function(i){if(i instanceof window.Element){r.has(i)||(r.set(i,new Set),o.add(i),a.set(i,window.getComputedStyle(i)));var n=r.get(i);n.has(this)||n.add(this),cancelAnimationFrame(t),t=requestAnimationFrame(d)}},s.prototype.unobserve=function(i){if(i instanceof window.Element&&r.has(i)){var n=r.get(i);n.has(this)&&(n.delete(this),n.size||(r.delete(i),o.delete(i))),n.size||r.delete(i),o.size||cancelAnimationFrame(t)}},A.DOMRectReadOnly=c,A.ResizeObserver=s,A.ResizeObserverEntry=h,A}; // eslint-disable-line\n",
       "mpl.toolbar_items = [[\"Home\", \"Reset original view\", \"fa fa-home\", \"home\"], [\"Back\", \"Back to previous view\", \"fa fa-arrow-left\", \"back\"], [\"Forward\", \"Forward to next view\", \"fa fa-arrow-right\", \"forward\"], [\"\", \"\", \"\", \"\"], [\"Pan\", \"Left button pans, Right button zooms\\nx/y fixes axis, CTRL fixes aspect\", \"fa fa-arrows\", \"pan\"], [\"Zoom\", \"Zoom to rectangle\\nx/y fixes axis\", \"fa fa-square-o\", \"zoom\"], [\"\", \"\", \"\", \"\"], [\"Download\", \"Download plot\", \"fa fa-floppy-o\", \"download\"]];\n",
       "\n",
       "mpl.extensions = [\"eps\", \"jpeg\", \"pgf\", \"pdf\", \"png\", \"ps\", \"raw\", \"svg\", \"tif\", \"webp\"];\n",
       "\n",
       "mpl.default_extension = \"png\";/* global mpl */\n",
       "\n",
       "var comm_websocket_adapter = function (comm) {\n",
       "    // Create a \"websocket\"-like object which calls the given IPython comm\n",
       "    // object with the appropriate methods. Currently this is a non binary\n",
       "    // socket, so there is still some room for performance tuning.\n",
       "    var ws = {};\n",
       "\n",
       "    ws.binaryType = comm.kernel.ws.binaryType;\n",
       "    ws.readyState = comm.kernel.ws.readyState;\n",
       "    function updateReadyState(_event) {\n",
       "        if (comm.kernel.ws) {\n",
       "            ws.readyState = comm.kernel.ws.readyState;\n",
       "        } else {\n",
       "            ws.readyState = 3; // Closed state.\n",
       "        }\n",
       "    }\n",
       "    comm.kernel.ws.addEventListener('open', updateReadyState);\n",
       "    comm.kernel.ws.addEventListener('close', updateReadyState);\n",
       "    comm.kernel.ws.addEventListener('error', updateReadyState);\n",
       "\n",
       "    ws.close = function () {\n",
       "        comm.close();\n",
       "    };\n",
       "    ws.send = function (m) {\n",
       "        //console.log('sending', m);\n",
       "        comm.send(m);\n",
       "    };\n",
       "    // Register the callback with on_msg.\n",
       "    comm.on_msg(function (msg) {\n",
       "        //console.log('receiving', msg['content']['data'], msg);\n",
       "        var data = msg['content']['data'];\n",
       "        if (data['blob'] !== undefined) {\n",
       "            data = {\n",
       "                data: new Blob(msg['buffers'], { type: data['blob'] }),\n",
       "            };\n",
       "        }\n",
       "        // Pass the mpl event to the overridden (by mpl) onmessage function.\n",
       "        ws.onmessage(data);\n",
       "    });\n",
       "    return ws;\n",
       "};\n",
       "\n",
       "mpl.mpl_figure_comm = function (comm, msg) {\n",
       "    // This is the function which gets called when the mpl process\n",
       "    // starts-up an IPython Comm through the \"matplotlib\" channel.\n",
       "\n",
       "    var id = msg.content.data.id;\n",
       "    // Get hold of the div created by the display call when the Comm\n",
       "    // socket was opened in Python.\n",
       "    var element = document.getElementById(id);\n",
       "    var ws_proxy = comm_websocket_adapter(comm);\n",
       "\n",
       "    function ondownload(figure, _format) {\n",
       "        window.open(figure.canvas.toDataURL());\n",
       "    }\n",
       "\n",
       "    var fig = new mpl.figure(id, ws_proxy, ondownload, element);\n",
       "\n",
       "    // Call onopen now - mpl needs it, as it is assuming we've passed it a real\n",
       "    // web socket which is closed, not our websocket->open comm proxy.\n",
       "    ws_proxy.onopen();\n",
       "\n",
       "    fig.parent_element = element;\n",
       "    fig.cell_info = mpl.find_output_cell(\"<div id='\" + id + \"'></div>\");\n",
       "    if (!fig.cell_info) {\n",
       "        console.error('Failed to find cell for figure', id, fig);\n",
       "        return;\n",
       "    }\n",
       "    fig.cell_info[0].output_area.element.on(\n",
       "        'cleared',\n",
       "        { fig: fig },\n",
       "        fig._remove_fig_handler\n",
       "    );\n",
       "};\n",
       "\n",
       "mpl.figure.prototype.handle_close = function (fig, msg) {\n",
       "    var width = fig.canvas.width / fig.ratio;\n",
       "    fig.cell_info[0].output_area.element.off(\n",
       "        'cleared',\n",
       "        fig._remove_fig_handler\n",
       "    );\n",
       "    fig.resizeObserverInstance.unobserve(fig.canvas_div);\n",
       "\n",
       "    // Update the output cell to use the data from the current canvas.\n",
       "    fig.push_to_output();\n",
       "    var dataURL = fig.canvas.toDataURL();\n",
       "    // Re-enable the keyboard manager in IPython - without this line, in FF,\n",
       "    // the notebook keyboard shortcuts fail.\n",
       "    IPython.keyboard_manager.enable();\n",
       "    fig.parent_element.innerHTML =\n",
       "        '<img src=\"' + dataURL + '\" width=\"' + width + '\">';\n",
       "    fig.close_ws(fig, msg);\n",
       "};\n",
       "\n",
       "mpl.figure.prototype.close_ws = function (fig, msg) {\n",
       "    fig.send_message('closing', msg);\n",
       "    // fig.ws.close()\n",
       "};\n",
       "\n",
       "mpl.figure.prototype.push_to_output = function (_remove_interactive) {\n",
       "    // Turn the data on the canvas into data in the output cell.\n",
       "    var width = this.canvas.width / this.ratio;\n",
       "    var dataURL = this.canvas.toDataURL();\n",
       "    this.cell_info[1]['text/html'] =\n",
       "        '<img src=\"' + dataURL + '\" width=\"' + width + '\">';\n",
       "};\n",
       "\n",
       "mpl.figure.prototype.updated_canvas_event = function () {\n",
       "    // Tell IPython that the notebook contents must change.\n",
       "    IPython.notebook.set_dirty(true);\n",
       "    this.send_message('ack', {});\n",
       "    var fig = this;\n",
       "    // Wait a second, then push the new image to the DOM so\n",
       "    // that it is saved nicely (might be nice to debounce this).\n",
       "    setTimeout(function () {\n",
       "        fig.push_to_output();\n",
       "    }, 1000);\n",
       "};\n",
       "\n",
       "mpl.figure.prototype._init_toolbar = function () {\n",
       "    var fig = this;\n",
       "\n",
       "    var toolbar = document.createElement('div');\n",
       "    toolbar.classList = 'btn-toolbar';\n",
       "    this.root.appendChild(toolbar);\n",
       "\n",
       "    function on_click_closure(name) {\n",
       "        return function (_event) {\n",
       "            return fig.toolbar_button_onclick(name);\n",
       "        };\n",
       "    }\n",
       "\n",
       "    function on_mouseover_closure(tooltip) {\n",
       "        return function (event) {\n",
       "            if (!event.currentTarget.disabled) {\n",
       "                return fig.toolbar_button_onmouseover(tooltip);\n",
       "            }\n",
       "        };\n",
       "    }\n",
       "\n",
       "    fig.buttons = {};\n",
       "    var buttonGroup = document.createElement('div');\n",
       "    buttonGroup.classList = 'btn-group';\n",
       "    var button;\n",
       "    for (var toolbar_ind in mpl.toolbar_items) {\n",
       "        var name = mpl.toolbar_items[toolbar_ind][0];\n",
       "        var tooltip = mpl.toolbar_items[toolbar_ind][1];\n",
       "        var image = mpl.toolbar_items[toolbar_ind][2];\n",
       "        var method_name = mpl.toolbar_items[toolbar_ind][3];\n",
       "\n",
       "        if (!name) {\n",
       "            /* Instead of a spacer, we start a new button group. */\n",
       "            if (buttonGroup.hasChildNodes()) {\n",
       "                toolbar.appendChild(buttonGroup);\n",
       "            }\n",
       "            buttonGroup = document.createElement('div');\n",
       "            buttonGroup.classList = 'btn-group';\n",
       "            continue;\n",
       "        }\n",
       "\n",
       "        button = fig.buttons[name] = document.createElement('button');\n",
       "        button.classList = 'btn btn-default';\n",
       "        button.href = '#';\n",
       "        button.title = name;\n",
       "        button.innerHTML = '<i class=\"fa ' + image + ' fa-lg\"></i>';\n",
       "        button.addEventListener('click', on_click_closure(method_name));\n",
       "        button.addEventListener('mouseover', on_mouseover_closure(tooltip));\n",
       "        buttonGroup.appendChild(button);\n",
       "    }\n",
       "\n",
       "    if (buttonGroup.hasChildNodes()) {\n",
       "        toolbar.appendChild(buttonGroup);\n",
       "    }\n",
       "\n",
       "    // Add the status bar.\n",
       "    var status_bar = document.createElement('span');\n",
       "    status_bar.classList = 'mpl-message pull-right';\n",
       "    toolbar.appendChild(status_bar);\n",
       "    this.message = status_bar;\n",
       "\n",
       "    // Add the close button to the window.\n",
       "    var buttongrp = document.createElement('div');\n",
       "    buttongrp.classList = 'btn-group inline pull-right';\n",
       "    button = document.createElement('button');\n",
       "    button.classList = 'btn btn-mini btn-primary';\n",
       "    button.href = '#';\n",
       "    button.title = 'Stop Interaction';\n",
       "    button.innerHTML = '<i class=\"fa fa-power-off icon-remove icon-large\"></i>';\n",
       "    button.addEventListener('click', function (_evt) {\n",
       "        fig.handle_close(fig, {});\n",
       "    });\n",
       "    button.addEventListener(\n",
       "        'mouseover',\n",
       "        on_mouseover_closure('Stop Interaction')\n",
       "    );\n",
       "    buttongrp.appendChild(button);\n",
       "    var titlebar = this.root.querySelector('.ui-dialog-titlebar');\n",
       "    titlebar.insertBefore(buttongrp, titlebar.firstChild);\n",
       "};\n",
       "\n",
       "mpl.figure.prototype._remove_fig_handler = function (event) {\n",
       "    var fig = event.data.fig;\n",
       "    if (event.target !== this) {\n",
       "        // Ignore bubbled events from children.\n",
       "        return;\n",
       "    }\n",
       "    fig.close_ws(fig, {});\n",
       "};\n",
       "\n",
       "mpl.figure.prototype._root_extra_style = function (el) {\n",
       "    el.style.boxSizing = 'content-box'; // override notebook setting of border-box.\n",
       "};\n",
       "\n",
       "mpl.figure.prototype._canvas_extra_style = function (el) {\n",
       "    // this is important to make the div 'focusable\n",
       "    el.setAttribute('tabindex', 0);\n",
       "    // reach out to IPython and tell the keyboard manager to turn it's self\n",
       "    // off when our div gets focus\n",
       "\n",
       "    // location in version 3\n",
       "    if (IPython.notebook.keyboard_manager) {\n",
       "        IPython.notebook.keyboard_manager.register_events(el);\n",
       "    } else {\n",
       "        // location in version 2\n",
       "        IPython.keyboard_manager.register_events(el);\n",
       "    }\n",
       "};\n",
       "\n",
       "mpl.figure.prototype._key_event_extra = function (event, _name) {\n",
       "    // Check for shift+enter\n",
       "    if (event.shiftKey && event.which === 13) {\n",
       "        this.canvas_div.blur();\n",
       "        // select the cell after this one\n",
       "        var index = IPython.notebook.find_cell_index(this.cell_info[0]);\n",
       "        IPython.notebook.select(index + 1);\n",
       "    }\n",
       "};\n",
       "\n",
       "mpl.figure.prototype.handle_save = function (fig, _msg) {\n",
       "    fig.ondownload(fig, null);\n",
       "};\n",
       "\n",
       "mpl.find_output_cell = function (html_output) {\n",
       "    // Return the cell and output element which can be found *uniquely* in the notebook.\n",
       "    // Note - this is a bit hacky, but it is done because the \"notebook_saving.Notebook\"\n",
       "    // IPython event is triggered only after the cells have been serialised, which for\n",
       "    // our purposes (turning an active figure into a static one), is too late.\n",
       "    var cells = IPython.notebook.get_cells();\n",
       "    var ncells = cells.length;\n",
       "    for (var i = 0; i < ncells; i++) {\n",
       "        var cell = cells[i];\n",
       "        if (cell.cell_type === 'code') {\n",
       "            for (var j = 0; j < cell.output_area.outputs.length; j++) {\n",
       "                var data = cell.output_area.outputs[j];\n",
       "                if (data.data) {\n",
       "                    // IPython >= 3 moved mimebundle to data attribute of output\n",
       "                    data = data.data;\n",
       "                }\n",
       "                if (data['text/html'] === html_output) {\n",
       "                    return [cell, data, j];\n",
       "                }\n",
       "            }\n",
       "        }\n",
       "    }\n",
       "};\n",
       "\n",
       "// Register the function which deals with the matplotlib target/channel.\n",
       "// The kernel may be null if the page has been refreshed.\n",
       "if (IPython.notebook.kernel !== null) {\n",
       "    IPython.notebook.kernel.comm_manager.register_target(\n",
       "        'matplotlib',\n",
       "        mpl.mpl_figure_comm\n",
       "    );\n",
       "}\n"
      ],
      "text/plain": [
       "<IPython.core.display.Javascript object>"
      ]
     },
     "metadata": {},
     "output_type": "display_data"
    },
    {
     "data": {
      "text/html": [
       "<img src=\"data:image/png;base64,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\" width=\"640\">"
      ],
      "text/plain": [
       "<IPython.core.display.HTML object>"
      ]
     },
     "metadata": {},
     "output_type": "display_data"
    }
   ],
   "source": [
    "from matplotlib import pyplot as plt\n",
    "from matplotlib import animation\n",
    "\n",
    "def draw_point():\n",
    "    # Plot a blue point at (0,0). The plt.plot function returns a list of Line2D objects.\n",
    "    point = plt.plot(0, 0, marker='o', color='blue')[0]\n",
    "    return point\n",
    "\n",
    "def prepare_animation():\n",
    "    point = draw_point()\n",
    "    \n",
    "    def animate(frame_number):\n",
    "        point.set_xdata([frame_number])\n",
    "        return [point]\n",
    "    \n",
    "    return animate\n",
    "\n",
    "(fig, ax) = plt.subplots()\n",
    "plt.title('Simple Animation')\n",
    "plt.xlim(-1, 100)\n",
    "\n",
    "# Prepare the anumation by plotting the point.\n",
    "animation_func = prepare_animation()\n",
    "\n",
    "# Animate the animation function.\n",
    "ani = animation.FuncAnimation(\n",
    "    fig,\n",
    "    animation_func,\n",
    "    frames=50,\n",
    "    repeat=False,\n",
    "    blit=True)\n",
    "plt.show()\n",
    "\n",
    "# To convert the animation into a HTML5 video one can do:\n",
    "#from IPython.display import HTML\n",
    "#HTML(ani.to_html5_video())"
   ]
  },
  {
   "cell_type": "code",
   "execution_count": 110,
   "metadata": {
    "slideshow": {
     "slide_type": "skip"
    }
   },
   "outputs": [
    {
     "data": {
      "application/javascript": [
       "/* Put everything inside the global mpl namespace */\n",
       "/* global mpl */\n",
       "window.mpl = {};\n",
       "\n",
       "mpl.get_websocket_type = function () {\n",
       "    if (typeof WebSocket !== 'undefined') {\n",
       "        return WebSocket;\n",
       "    } else if (typeof MozWebSocket !== 'undefined') {\n",
       "        return MozWebSocket;\n",
       "    } else {\n",
       "        alert(\n",
       "            'Your browser does not have WebSocket support. ' +\n",
       "                'Please try Chrome, Safari or Firefox ≥ 6. ' +\n",
       "                'Firefox 4 and 5 are also supported but you ' +\n",
       "                'have to enable WebSockets in about:config.'\n",
       "        );\n",
       "    }\n",
       "};\n",
       "\n",
       "mpl.figure = function (figure_id, websocket, ondownload, parent_element) {\n",
       "    this.id = figure_id;\n",
       "\n",
       "    this.ws = websocket;\n",
       "\n",
       "    this.supports_binary = this.ws.binaryType !== undefined;\n",
       "\n",
       "    if (!this.supports_binary) {\n",
       "        var warnings = document.getElementById('mpl-warnings');\n",
       "        if (warnings) {\n",
       "            warnings.style.display = 'block';\n",
       "            warnings.textContent =\n",
       "                'This browser does not support binary websocket messages. ' +\n",
       "                'Performance may be slow.';\n",
       "        }\n",
       "    }\n",
       "\n",
       "    this.imageObj = new Image();\n",
       "\n",
       "    this.context = undefined;\n",
       "    this.message = undefined;\n",
       "    this.canvas = undefined;\n",
       "    this.rubberband_canvas = undefined;\n",
       "    this.rubberband_context = undefined;\n",
       "    this.format_dropdown = undefined;\n",
       "\n",
       "    this.image_mode = 'full';\n",
       "\n",
       "    this.root = document.createElement('div');\n",
       "    this.root.setAttribute('style', 'display: inline-block');\n",
       "    this._root_extra_style(this.root);\n",
       "\n",
       "    parent_element.appendChild(this.root);\n",
       "\n",
       "    this._init_header(this);\n",
       "    this._init_canvas(this);\n",
       "    this._init_toolbar(this);\n",
       "\n",
       "    var fig = this;\n",
       "\n",
       "    this.waiting = false;\n",
       "\n",
       "    this.ws.onopen = function () {\n",
       "        fig.send_message('supports_binary', { value: fig.supports_binary });\n",
       "        fig.send_message('send_image_mode', {});\n",
       "        if (fig.ratio !== 1) {\n",
       "            fig.send_message('set_device_pixel_ratio', {\n",
       "                device_pixel_ratio: fig.ratio,\n",
       "            });\n",
       "        }\n",
       "        fig.send_message('refresh', {});\n",
       "    };\n",
       "\n",
       "    this.imageObj.onload = function () {\n",
       "        if (fig.image_mode === 'full') {\n",
       "            // Full images could contain transparency (where diff images\n",
       "            // almost always do), so we need to clear the canvas so that\n",
       "            // there is no ghosting.\n",
       "            fig.context.clearRect(0, 0, fig.canvas.width, fig.canvas.height);\n",
       "        }\n",
       "        fig.context.drawImage(fig.imageObj, 0, 0);\n",
       "    };\n",
       "\n",
       "    this.imageObj.onunload = function () {\n",
       "        fig.ws.close();\n",
       "    };\n",
       "\n",
       "    this.ws.onmessage = this._make_on_message_function(this);\n",
       "\n",
       "    this.ondownload = ondownload;\n",
       "};\n",
       "\n",
       "mpl.figure.prototype._init_header = function () {\n",
       "    var titlebar = document.createElement('div');\n",
       "    titlebar.classList =\n",
       "        'ui-dialog-titlebar ui-widget-header ui-corner-all ui-helper-clearfix';\n",
       "    var titletext = document.createElement('div');\n",
       "    titletext.classList = 'ui-dialog-title';\n",
       "    titletext.setAttribute(\n",
       "        'style',\n",
       "        'width: 100%; text-align: center; padding: 3px;'\n",
       "    );\n",
       "    titlebar.appendChild(titletext);\n",
       "    this.root.appendChild(titlebar);\n",
       "    this.header = titletext;\n",
       "};\n",
       "\n",
       "mpl.figure.prototype._canvas_extra_style = function (_canvas_div) {};\n",
       "\n",
       "mpl.figure.prototype._root_extra_style = function (_canvas_div) {};\n",
       "\n",
       "mpl.figure.prototype._init_canvas = function () {\n",
       "    var fig = this;\n",
       "\n",
       "    var canvas_div = (this.canvas_div = document.createElement('div'));\n",
       "    canvas_div.setAttribute(\n",
       "        'style',\n",
       "        'border: 1px solid #ddd;' +\n",
       "            'box-sizing: content-box;' +\n",
       "            'clear: both;' +\n",
       "            'min-height: 1px;' +\n",
       "            'min-width: 1px;' +\n",
       "            'outline: 0;' +\n",
       "            'overflow: hidden;' +\n",
       "            'position: relative;' +\n",
       "            'resize: both;'\n",
       "    );\n",
       "\n",
       "    function on_keyboard_event_closure(name) {\n",
       "        return function (event) {\n",
       "            return fig.key_event(event, name);\n",
       "        };\n",
       "    }\n",
       "\n",
       "    canvas_div.addEventListener(\n",
       "        'keydown',\n",
       "        on_keyboard_event_closure('key_press')\n",
       "    );\n",
       "    canvas_div.addEventListener(\n",
       "        'keyup',\n",
       "        on_keyboard_event_closure('key_release')\n",
       "    );\n",
       "\n",
       "    this._canvas_extra_style(canvas_div);\n",
       "    this.root.appendChild(canvas_div);\n",
       "\n",
       "    var canvas = (this.canvas = document.createElement('canvas'));\n",
       "    canvas.classList.add('mpl-canvas');\n",
       "    canvas.setAttribute('style', 'box-sizing: content-box;');\n",
       "\n",
       "    this.context = canvas.getContext('2d');\n",
       "\n",
       "    var backingStore =\n",
       "        this.context.backingStorePixelRatio ||\n",
       "        this.context.webkitBackingStorePixelRatio ||\n",
       "        this.context.mozBackingStorePixelRatio ||\n",
       "        this.context.msBackingStorePixelRatio ||\n",
       "        this.context.oBackingStorePixelRatio ||\n",
       "        this.context.backingStorePixelRatio ||\n",
       "        1;\n",
       "\n",
       "    this.ratio = (window.devicePixelRatio || 1) / backingStore;\n",
       "\n",
       "    var rubberband_canvas = (this.rubberband_canvas = document.createElement(\n",
       "        'canvas'\n",
       "    ));\n",
       "    rubberband_canvas.setAttribute(\n",
       "        'style',\n",
       "        'box-sizing: content-box; position: absolute; left: 0; top: 0; z-index: 1;'\n",
       "    );\n",
       "\n",
       "    // Apply a ponyfill if ResizeObserver is not implemented by browser.\n",
       "    if (this.ResizeObserver === undefined) {\n",
       "        if (window.ResizeObserver !== undefined) {\n",
       "            this.ResizeObserver = window.ResizeObserver;\n",
       "        } else {\n",
       "            var obs = _JSXTOOLS_RESIZE_OBSERVER({});\n",
       "            this.ResizeObserver = obs.ResizeObserver;\n",
       "        }\n",
       "    }\n",
       "\n",
       "    this.resizeObserverInstance = new this.ResizeObserver(function (entries) {\n",
       "        var nentries = entries.length;\n",
       "        for (var i = 0; i < nentries; i++) {\n",
       "            var entry = entries[i];\n",
       "            var width, height;\n",
       "            if (entry.contentBoxSize) {\n",
       "                if (entry.contentBoxSize instanceof Array) {\n",
       "                    // Chrome 84 implements new version of spec.\n",
       "                    width = entry.contentBoxSize[0].inlineSize;\n",
       "                    height = entry.contentBoxSize[0].blockSize;\n",
       "                } else {\n",
       "                    // Firefox implements old version of spec.\n",
       "                    width = entry.contentBoxSize.inlineSize;\n",
       "                    height = entry.contentBoxSize.blockSize;\n",
       "                }\n",
       "            } else {\n",
       "                // Chrome <84 implements even older version of spec.\n",
       "                width = entry.contentRect.width;\n",
       "                height = entry.contentRect.height;\n",
       "            }\n",
       "\n",
       "            // Keep the size of the canvas and rubber band canvas in sync with\n",
       "            // the canvas container.\n",
       "            if (entry.devicePixelContentBoxSize) {\n",
       "                // Chrome 84 implements new version of spec.\n",
       "                canvas.setAttribute(\n",
       "                    'width',\n",
       "                    entry.devicePixelContentBoxSize[0].inlineSize\n",
       "                );\n",
       "                canvas.setAttribute(\n",
       "                    'height',\n",
       "                    entry.devicePixelContentBoxSize[0].blockSize\n",
       "                );\n",
       "            } else {\n",
       "                canvas.setAttribute('width', width * fig.ratio);\n",
       "                canvas.setAttribute('height', height * fig.ratio);\n",
       "            }\n",
       "            canvas.setAttribute(\n",
       "                'style',\n",
       "                'width: ' + width + 'px; height: ' + height + 'px;'\n",
       "            );\n",
       "\n",
       "            rubberband_canvas.setAttribute('width', width);\n",
       "            rubberband_canvas.setAttribute('height', height);\n",
       "\n",
       "            // And update the size in Python. We ignore the initial 0/0 size\n",
       "            // that occurs as the element is placed into the DOM, which should\n",
       "            // otherwise not happen due to the minimum size styling.\n",
       "            if (fig.ws.readyState == 1 && width != 0 && height != 0) {\n",
       "                fig.request_resize(width, height);\n",
       "            }\n",
       "        }\n",
       "    });\n",
       "    this.resizeObserverInstance.observe(canvas_div);\n",
       "\n",
       "    function on_mouse_event_closure(name) {\n",
       "        return function (event) {\n",
       "            return fig.mouse_event(event, name);\n",
       "        };\n",
       "    }\n",
       "\n",
       "    rubberband_canvas.addEventListener(\n",
       "        'mousedown',\n",
       "        on_mouse_event_closure('button_press')\n",
       "    );\n",
       "    rubberband_canvas.addEventListener(\n",
       "        'mouseup',\n",
       "        on_mouse_event_closure('button_release')\n",
       "    );\n",
       "    rubberband_canvas.addEventListener(\n",
       "        'dblclick',\n",
       "        on_mouse_event_closure('dblclick')\n",
       "    );\n",
       "    // Throttle sequential mouse events to 1 every 20ms.\n",
       "    rubberband_canvas.addEventListener(\n",
       "        'mousemove',\n",
       "        on_mouse_event_closure('motion_notify')\n",
       "    );\n",
       "\n",
       "    rubberband_canvas.addEventListener(\n",
       "        'mouseenter',\n",
       "        on_mouse_event_closure('figure_enter')\n",
       "    );\n",
       "    rubberband_canvas.addEventListener(\n",
       "        'mouseleave',\n",
       "        on_mouse_event_closure('figure_leave')\n",
       "    );\n",
       "\n",
       "    canvas_div.addEventListener('wheel', function (event) {\n",
       "        if (event.deltaY < 0) {\n",
       "            event.step = 1;\n",
       "        } else {\n",
       "            event.step = -1;\n",
       "        }\n",
       "        on_mouse_event_closure('scroll')(event);\n",
       "    });\n",
       "\n",
       "    canvas_div.appendChild(canvas);\n",
       "    canvas_div.appendChild(rubberband_canvas);\n",
       "\n",
       "    this.rubberband_context = rubberband_canvas.getContext('2d');\n",
       "    this.rubberband_context.strokeStyle = '#000000';\n",
       "\n",
       "    this._resize_canvas = function (width, height, forward) {\n",
       "        if (forward) {\n",
       "            canvas_div.style.width = width + 'px';\n",
       "            canvas_div.style.height = height + 'px';\n",
       "        }\n",
       "    };\n",
       "\n",
       "    // Disable right mouse context menu.\n",
       "    this.rubberband_canvas.addEventListener('contextmenu', function (_e) {\n",
       "        event.preventDefault();\n",
       "        return false;\n",
       "    });\n",
       "\n",
       "    function set_focus() {\n",
       "        canvas.focus();\n",
       "        canvas_div.focus();\n",
       "    }\n",
       "\n",
       "    window.setTimeout(set_focus, 100);\n",
       "};\n",
       "\n",
       "mpl.figure.prototype._init_toolbar = function () {\n",
       "    var fig = this;\n",
       "\n",
       "    var toolbar = document.createElement('div');\n",
       "    toolbar.classList = 'mpl-toolbar';\n",
       "    this.root.appendChild(toolbar);\n",
       "\n",
       "    function on_click_closure(name) {\n",
       "        return function (_event) {\n",
       "            return fig.toolbar_button_onclick(name);\n",
       "        };\n",
       "    }\n",
       "\n",
       "    function on_mouseover_closure(tooltip) {\n",
       "        return function (event) {\n",
       "            if (!event.currentTarget.disabled) {\n",
       "                return fig.toolbar_button_onmouseover(tooltip);\n",
       "            }\n",
       "        };\n",
       "    }\n",
       "\n",
       "    fig.buttons = {};\n",
       "    var buttonGroup = document.createElement('div');\n",
       "    buttonGroup.classList = 'mpl-button-group';\n",
       "    for (var toolbar_ind in mpl.toolbar_items) {\n",
       "        var name = mpl.toolbar_items[toolbar_ind][0];\n",
       "        var tooltip = mpl.toolbar_items[toolbar_ind][1];\n",
       "        var image = mpl.toolbar_items[toolbar_ind][2];\n",
       "        var method_name = mpl.toolbar_items[toolbar_ind][3];\n",
       "\n",
       "        if (!name) {\n",
       "            /* Instead of a spacer, we start a new button group. */\n",
       "            if (buttonGroup.hasChildNodes()) {\n",
       "                toolbar.appendChild(buttonGroup);\n",
       "            }\n",
       "            buttonGroup = document.createElement('div');\n",
       "            buttonGroup.classList = 'mpl-button-group';\n",
       "            continue;\n",
       "        }\n",
       "\n",
       "        var button = (fig.buttons[name] = document.createElement('button'));\n",
       "        button.classList = 'mpl-widget';\n",
       "        button.setAttribute('role', 'button');\n",
       "        button.setAttribute('aria-disabled', 'false');\n",
       "        button.addEventListener('click', on_click_closure(method_name));\n",
       "        button.addEventListener('mouseover', on_mouseover_closure(tooltip));\n",
       "\n",
       "        var icon_img = document.createElement('img');\n",
       "        icon_img.src = '_images/' + image + '.png';\n",
       "        icon_img.srcset = '_images/' + image + '_large.png 2x';\n",
       "        icon_img.alt = tooltip;\n",
       "        button.appendChild(icon_img);\n",
       "\n",
       "        buttonGroup.appendChild(button);\n",
       "    }\n",
       "\n",
       "    if (buttonGroup.hasChildNodes()) {\n",
       "        toolbar.appendChild(buttonGroup);\n",
       "    }\n",
       "\n",
       "    var fmt_picker = document.createElement('select');\n",
       "    fmt_picker.classList = 'mpl-widget';\n",
       "    toolbar.appendChild(fmt_picker);\n",
       "    this.format_dropdown = fmt_picker;\n",
       "\n",
       "    for (var ind in mpl.extensions) {\n",
       "        var fmt = mpl.extensions[ind];\n",
       "        var option = document.createElement('option');\n",
       "        option.selected = fmt === mpl.default_extension;\n",
       "        option.innerHTML = fmt;\n",
       "        fmt_picker.appendChild(option);\n",
       "    }\n",
       "\n",
       "    var status_bar = document.createElement('span');\n",
       "    status_bar.classList = 'mpl-message';\n",
       "    toolbar.appendChild(status_bar);\n",
       "    this.message = status_bar;\n",
       "};\n",
       "\n",
       "mpl.figure.prototype.request_resize = function (x_pixels, y_pixels) {\n",
       "    // Request matplotlib to resize the figure. Matplotlib will then trigger a resize in the client,\n",
       "    // which will in turn request a refresh of the image.\n",
       "    this.send_message('resize', { width: x_pixels, height: y_pixels });\n",
       "};\n",
       "\n",
       "mpl.figure.prototype.send_message = function (type, properties) {\n",
       "    properties['type'] = type;\n",
       "    properties['figure_id'] = this.id;\n",
       "    this.ws.send(JSON.stringify(properties));\n",
       "};\n",
       "\n",
       "mpl.figure.prototype.send_draw_message = function () {\n",
       "    if (!this.waiting) {\n",
       "        this.waiting = true;\n",
       "        this.ws.send(JSON.stringify({ type: 'draw', figure_id: this.id }));\n",
       "    }\n",
       "};\n",
       "\n",
       "mpl.figure.prototype.handle_save = function (fig, _msg) {\n",
       "    var format_dropdown = fig.format_dropdown;\n",
       "    var format = format_dropdown.options[format_dropdown.selectedIndex].value;\n",
       "    fig.ondownload(fig, format);\n",
       "};\n",
       "\n",
       "mpl.figure.prototype.handle_resize = function (fig, msg) {\n",
       "    var size = msg['size'];\n",
       "    if (size[0] !== fig.canvas.width || size[1] !== fig.canvas.height) {\n",
       "        fig._resize_canvas(size[0], size[1], msg['forward']);\n",
       "        fig.send_message('refresh', {});\n",
       "    }\n",
       "};\n",
       "\n",
       "mpl.figure.prototype.handle_rubberband = function (fig, msg) {\n",
       "    var x0 = msg['x0'] / fig.ratio;\n",
       "    var y0 = (fig.canvas.height - msg['y0']) / fig.ratio;\n",
       "    var x1 = msg['x1'] / fig.ratio;\n",
       "    var y1 = (fig.canvas.height - msg['y1']) / fig.ratio;\n",
       "    x0 = Math.floor(x0) + 0.5;\n",
       "    y0 = Math.floor(y0) + 0.5;\n",
       "    x1 = Math.floor(x1) + 0.5;\n",
       "    y1 = Math.floor(y1) + 0.5;\n",
       "    var min_x = Math.min(x0, x1);\n",
       "    var min_y = Math.min(y0, y1);\n",
       "    var width = Math.abs(x1 - x0);\n",
       "    var height = Math.abs(y1 - y0);\n",
       "\n",
       "    fig.rubberband_context.clearRect(\n",
       "        0,\n",
       "        0,\n",
       "        fig.canvas.width / fig.ratio,\n",
       "        fig.canvas.height / fig.ratio\n",
       "    );\n",
       "\n",
       "    fig.rubberband_context.strokeRect(min_x, min_y, width, height);\n",
       "};\n",
       "\n",
       "mpl.figure.prototype.handle_figure_label = function (fig, msg) {\n",
       "    // Updates the figure title.\n",
       "    fig.header.textContent = msg['label'];\n",
       "};\n",
       "\n",
       "mpl.figure.prototype.handle_cursor = function (fig, msg) {\n",
       "    fig.rubberband_canvas.style.cursor = msg['cursor'];\n",
       "};\n",
       "\n",
       "mpl.figure.prototype.handle_message = function (fig, msg) {\n",
       "    fig.message.textContent = msg['message'];\n",
       "};\n",
       "\n",
       "mpl.figure.prototype.handle_draw = function (fig, _msg) {\n",
       "    // Request the server to send over a new figure.\n",
       "    fig.send_draw_message();\n",
       "};\n",
       "\n",
       "mpl.figure.prototype.handle_image_mode = function (fig, msg) {\n",
       "    fig.image_mode = msg['mode'];\n",
       "};\n",
       "\n",
       "mpl.figure.prototype.handle_history_buttons = function (fig, msg) {\n",
       "    for (var key in msg) {\n",
       "        if (!(key in fig.buttons)) {\n",
       "            continue;\n",
       "        }\n",
       "        fig.buttons[key].disabled = !msg[key];\n",
       "        fig.buttons[key].setAttribute('aria-disabled', !msg[key]);\n",
       "    }\n",
       "};\n",
       "\n",
       "mpl.figure.prototype.handle_navigate_mode = function (fig, msg) {\n",
       "    if (msg['mode'] === 'PAN') {\n",
       "        fig.buttons['Pan'].classList.add('active');\n",
       "        fig.buttons['Zoom'].classList.remove('active');\n",
       "    } else if (msg['mode'] === 'ZOOM') {\n",
       "        fig.buttons['Pan'].classList.remove('active');\n",
       "        fig.buttons['Zoom'].classList.add('active');\n",
       "    } else {\n",
       "        fig.buttons['Pan'].classList.remove('active');\n",
       "        fig.buttons['Zoom'].classList.remove('active');\n",
       "    }\n",
       "};\n",
       "\n",
       "mpl.figure.prototype.updated_canvas_event = function () {\n",
       "    // Called whenever the canvas gets updated.\n",
       "    this.send_message('ack', {});\n",
       "};\n",
       "\n",
       "// A function to construct a web socket function for onmessage handling.\n",
       "// Called in the figure constructor.\n",
       "mpl.figure.prototype._make_on_message_function = function (fig) {\n",
       "    return function socket_on_message(evt) {\n",
       "        if (evt.data instanceof Blob) {\n",
       "            var img = evt.data;\n",
       "            if (img.type !== 'image/png') {\n",
       "                /* FIXME: We get \"Resource interpreted as Image but\n",
       "                 * transferred with MIME type text/plain:\" errors on\n",
       "                 * Chrome.  But how to set the MIME type?  It doesn't seem\n",
       "                 * to be part of the websocket stream */\n",
       "                img.type = 'image/png';\n",
       "            }\n",
       "\n",
       "            /* Free the memory for the previous frames */\n",
       "            if (fig.imageObj.src) {\n",
       "                (window.URL || window.webkitURL).revokeObjectURL(\n",
       "                    fig.imageObj.src\n",
       "                );\n",
       "            }\n",
       "\n",
       "            fig.imageObj.src = (window.URL || window.webkitURL).createObjectURL(\n",
       "                img\n",
       "            );\n",
       "            fig.updated_canvas_event();\n",
       "            fig.waiting = false;\n",
       "            return;\n",
       "        } else if (\n",
       "            typeof evt.data === 'string' &&\n",
       "            evt.data.slice(0, 21) === 'data:image/png;base64'\n",
       "        ) {\n",
       "            fig.imageObj.src = evt.data;\n",
       "            fig.updated_canvas_event();\n",
       "            fig.waiting = false;\n",
       "            return;\n",
       "        }\n",
       "\n",
       "        var msg = JSON.parse(evt.data);\n",
       "        var msg_type = msg['type'];\n",
       "\n",
       "        // Call the  \"handle_{type}\" callback, which takes\n",
       "        // the figure and JSON message as its only arguments.\n",
       "        try {\n",
       "            var callback = fig['handle_' + msg_type];\n",
       "        } catch (e) {\n",
       "            console.log(\n",
       "                \"No handler for the '\" + msg_type + \"' message type: \",\n",
       "                msg\n",
       "            );\n",
       "            return;\n",
       "        }\n",
       "\n",
       "        if (callback) {\n",
       "            try {\n",
       "                // console.log(\"Handling '\" + msg_type + \"' message: \", msg);\n",
       "                callback(fig, msg);\n",
       "            } catch (e) {\n",
       "                console.log(\n",
       "                    \"Exception inside the 'handler_\" + msg_type + \"' callback:\",\n",
       "                    e,\n",
       "                    e.stack,\n",
       "                    msg\n",
       "                );\n",
       "            }\n",
       "        }\n",
       "    };\n",
       "};\n",
       "\n",
       "// from https://stackoverflow.com/questions/1114465/getting-mouse-location-in-canvas\n",
       "mpl.findpos = function (e) {\n",
       "    //this section is from http://www.quirksmode.org/js/events_properties.html\n",
       "    var targ;\n",
       "    if (!e) {\n",
       "        e = window.event;\n",
       "    }\n",
       "    if (e.target) {\n",
       "        targ = e.target;\n",
       "    } else if (e.srcElement) {\n",
       "        targ = e.srcElement;\n",
       "    }\n",
       "    if (targ.nodeType === 3) {\n",
       "        // defeat Safari bug\n",
       "        targ = targ.parentNode;\n",
       "    }\n",
       "\n",
       "    // pageX,Y are the mouse positions relative to the document\n",
       "    var boundingRect = targ.getBoundingClientRect();\n",
       "    var x = e.pageX - (boundingRect.left + document.body.scrollLeft);\n",
       "    var y = e.pageY - (boundingRect.top + document.body.scrollTop);\n",
       "\n",
       "    return { x: x, y: y };\n",
       "};\n",
       "\n",
       "/*\n",
       " * return a copy of an object with only non-object keys\n",
       " * we need this to avoid circular references\n",
       " * https://stackoverflow.com/a/24161582/3208463\n",
       " */\n",
       "function simpleKeys(original) {\n",
       "    return Object.keys(original).reduce(function (obj, key) {\n",
       "        if (typeof original[key] !== 'object') {\n",
       "            obj[key] = original[key];\n",
       "        }\n",
       "        return obj;\n",
       "    }, {});\n",
       "}\n",
       "\n",
       "mpl.figure.prototype.mouse_event = function (event, name) {\n",
       "    var canvas_pos = mpl.findpos(event);\n",
       "\n",
       "    if (name === 'button_press') {\n",
       "        this.canvas.focus();\n",
       "        this.canvas_div.focus();\n",
       "    }\n",
       "\n",
       "    var x = canvas_pos.x * this.ratio;\n",
       "    var y = canvas_pos.y * this.ratio;\n",
       "\n",
       "    this.send_message(name, {\n",
       "        x: x,\n",
       "        y: y,\n",
       "        button: event.button,\n",
       "        step: event.step,\n",
       "        guiEvent: simpleKeys(event),\n",
       "    });\n",
       "\n",
       "    /* This prevents the web browser from automatically changing to\n",
       "     * the text insertion cursor when the button is pressed.  We want\n",
       "     * to control all of the cursor setting manually through the\n",
       "     * 'cursor' event from matplotlib */\n",
       "    event.preventDefault();\n",
       "    return false;\n",
       "};\n",
       "\n",
       "mpl.figure.prototype._key_event_extra = function (_event, _name) {\n",
       "    // Handle any extra behaviour associated with a key event\n",
       "};\n",
       "\n",
       "mpl.figure.prototype.key_event = function (event, name) {\n",
       "    // Prevent repeat events\n",
       "    if (name === 'key_press') {\n",
       "        if (event.key === this._key) {\n",
       "            return;\n",
       "        } else {\n",
       "            this._key = event.key;\n",
       "        }\n",
       "    }\n",
       "    if (name === 'key_release') {\n",
       "        this._key = null;\n",
       "    }\n",
       "\n",
       "    var value = '';\n",
       "    if (event.ctrlKey && event.key !== 'Control') {\n",
       "        value += 'ctrl+';\n",
       "    }\n",
       "    else if (event.altKey && event.key !== 'Alt') {\n",
       "        value += 'alt+';\n",
       "    }\n",
       "    else if (event.shiftKey && event.key !== 'Shift') {\n",
       "        value += 'shift+';\n",
       "    }\n",
       "\n",
       "    value += 'k' + event.key;\n",
       "\n",
       "    this._key_event_extra(event, name);\n",
       "\n",
       "    this.send_message(name, { key: value, guiEvent: simpleKeys(event) });\n",
       "    return false;\n",
       "};\n",
       "\n",
       "mpl.figure.prototype.toolbar_button_onclick = function (name) {\n",
       "    if (name === 'download') {\n",
       "        this.handle_save(this, null);\n",
       "    } else {\n",
       "        this.send_message('toolbar_button', { name: name });\n",
       "    }\n",
       "};\n",
       "\n",
       "mpl.figure.prototype.toolbar_button_onmouseover = function (tooltip) {\n",
       "    this.message.textContent = tooltip;\n",
       "};\n",
       "\n",
       "///////////////// REMAINING CONTENT GENERATED BY embed_js.py /////////////////\n",
       "// prettier-ignore\n",
       "var _JSXTOOLS_RESIZE_OBSERVER=function(A){var t,i=new WeakMap,n=new WeakMap,a=new WeakMap,r=new WeakMap,o=new Set;function s(e){if(!(this instanceof s))throw new TypeError(\"Constructor requires 'new' operator\");i.set(this,e)}function h(){throw new TypeError(\"Function is not a constructor\")}function c(e,t,i,n){e=0 in arguments?Number(arguments[0]):0,t=1 in arguments?Number(arguments[1]):0,i=2 in arguments?Number(arguments[2]):0,n=3 in arguments?Number(arguments[3]):0,this.right=(this.x=this.left=e)+(this.width=i),this.bottom=(this.y=this.top=t)+(this.height=n),Object.freeze(this)}function d(){t=requestAnimationFrame(d);var s=new WeakMap,p=new Set;o.forEach((function(t){r.get(t).forEach((function(i){var r=t instanceof window.SVGElement,o=a.get(t),d=r?0:parseFloat(o.paddingTop),f=r?0:parseFloat(o.paddingRight),l=r?0:parseFloat(o.paddingBottom),u=r?0:parseFloat(o.paddingLeft),g=r?0:parseFloat(o.borderTopWidth),m=r?0:parseFloat(o.borderRightWidth),w=r?0:parseFloat(o.borderBottomWidth),b=u+f,F=d+l,v=(r?0:parseFloat(o.borderLeftWidth))+m,W=g+w,y=r?0:t.offsetHeight-W-t.clientHeight,E=r?0:t.offsetWidth-v-t.clientWidth,R=b+v,z=F+W,M=r?t.width:parseFloat(o.width)-R-E,O=r?t.height:parseFloat(o.height)-z-y;if(n.has(t)){var k=n.get(t);if(k[0]===M&&k[1]===O)return}n.set(t,[M,O]);var S=Object.create(h.prototype);S.target=t,S.contentRect=new c(u,d,M,O),s.has(i)||(s.set(i,[]),p.add(i)),s.get(i).push(S)}))})),p.forEach((function(e){i.get(e).call(e,s.get(e),e)}))}return s.prototype.observe=function(i){if(i instanceof window.Element){r.has(i)||(r.set(i,new Set),o.add(i),a.set(i,window.getComputedStyle(i)));var n=r.get(i);n.has(this)||n.add(this),cancelAnimationFrame(t),t=requestAnimationFrame(d)}},s.prototype.unobserve=function(i){if(i instanceof window.Element&&r.has(i)){var n=r.get(i);n.has(this)&&(n.delete(this),n.size||(r.delete(i),o.delete(i))),n.size||r.delete(i),o.size||cancelAnimationFrame(t)}},A.DOMRectReadOnly=c,A.ResizeObserver=s,A.ResizeObserverEntry=h,A}; // eslint-disable-line\n",
       "mpl.toolbar_items = [[\"Home\", \"Reset original view\", \"fa fa-home\", \"home\"], [\"Back\", \"Back to previous view\", \"fa fa-arrow-left\", \"back\"], [\"Forward\", \"Forward to next view\", \"fa fa-arrow-right\", \"forward\"], [\"\", \"\", \"\", \"\"], [\"Pan\", \"Left button pans, Right button zooms\\nx/y fixes axis, CTRL fixes aspect\", \"fa fa-arrows\", \"pan\"], [\"Zoom\", \"Zoom to rectangle\\nx/y fixes axis\", \"fa fa-square-o\", \"zoom\"], [\"\", \"\", \"\", \"\"], [\"Download\", \"Download plot\", \"fa fa-floppy-o\", \"download\"]];\n",
       "\n",
       "mpl.extensions = [\"eps\", \"jpeg\", \"pgf\", \"pdf\", \"png\", \"ps\", \"raw\", \"svg\", \"tif\", \"webp\"];\n",
       "\n",
       "mpl.default_extension = \"png\";/* global mpl */\n",
       "\n",
       "var comm_websocket_adapter = function (comm) {\n",
       "    // Create a \"websocket\"-like object which calls the given IPython comm\n",
       "    // object with the appropriate methods. Currently this is a non binary\n",
       "    // socket, so there is still some room for performance tuning.\n",
       "    var ws = {};\n",
       "\n",
       "    ws.binaryType = comm.kernel.ws.binaryType;\n",
       "    ws.readyState = comm.kernel.ws.readyState;\n",
       "    function updateReadyState(_event) {\n",
       "        if (comm.kernel.ws) {\n",
       "            ws.readyState = comm.kernel.ws.readyState;\n",
       "        } else {\n",
       "            ws.readyState = 3; // Closed state.\n",
       "        }\n",
       "    }\n",
       "    comm.kernel.ws.addEventListener('open', updateReadyState);\n",
       "    comm.kernel.ws.addEventListener('close', updateReadyState);\n",
       "    comm.kernel.ws.addEventListener('error', updateReadyState);\n",
       "\n",
       "    ws.close = function () {\n",
       "        comm.close();\n",
       "    };\n",
       "    ws.send = function (m) {\n",
       "        //console.log('sending', m);\n",
       "        comm.send(m);\n",
       "    };\n",
       "    // Register the callback with on_msg.\n",
       "    comm.on_msg(function (msg) {\n",
       "        //console.log('receiving', msg['content']['data'], msg);\n",
       "        var data = msg['content']['data'];\n",
       "        if (data['blob'] !== undefined) {\n",
       "            data = {\n",
       "                data: new Blob(msg['buffers'], { type: data['blob'] }),\n",
       "            };\n",
       "        }\n",
       "        // Pass the mpl event to the overridden (by mpl) onmessage function.\n",
       "        ws.onmessage(data);\n",
       "    });\n",
       "    return ws;\n",
       "};\n",
       "\n",
       "mpl.mpl_figure_comm = function (comm, msg) {\n",
       "    // This is the function which gets called when the mpl process\n",
       "    // starts-up an IPython Comm through the \"matplotlib\" channel.\n",
       "\n",
       "    var id = msg.content.data.id;\n",
       "    // Get hold of the div created by the display call when the Comm\n",
       "    // socket was opened in Python.\n",
       "    var element = document.getElementById(id);\n",
       "    var ws_proxy = comm_websocket_adapter(comm);\n",
       "\n",
       "    function ondownload(figure, _format) {\n",
       "        window.open(figure.canvas.toDataURL());\n",
       "    }\n",
       "\n",
       "    var fig = new mpl.figure(id, ws_proxy, ondownload, element);\n",
       "\n",
       "    // Call onopen now - mpl needs it, as it is assuming we've passed it a real\n",
       "    // web socket which is closed, not our websocket->open comm proxy.\n",
       "    ws_proxy.onopen();\n",
       "\n",
       "    fig.parent_element = element;\n",
       "    fig.cell_info = mpl.find_output_cell(\"<div id='\" + id + \"'></div>\");\n",
       "    if (!fig.cell_info) {\n",
       "        console.error('Failed to find cell for figure', id, fig);\n",
       "        return;\n",
       "    }\n",
       "    fig.cell_info[0].output_area.element.on(\n",
       "        'cleared',\n",
       "        { fig: fig },\n",
       "        fig._remove_fig_handler\n",
       "    );\n",
       "};\n",
       "\n",
       "mpl.figure.prototype.handle_close = function (fig, msg) {\n",
       "    var width = fig.canvas.width / fig.ratio;\n",
       "    fig.cell_info[0].output_area.element.off(\n",
       "        'cleared',\n",
       "        fig._remove_fig_handler\n",
       "    );\n",
       "    fig.resizeObserverInstance.unobserve(fig.canvas_div);\n",
       "\n",
       "    // Update the output cell to use the data from the current canvas.\n",
       "    fig.push_to_output();\n",
       "    var dataURL = fig.canvas.toDataURL();\n",
       "    // Re-enable the keyboard manager in IPython - without this line, in FF,\n",
       "    // the notebook keyboard shortcuts fail.\n",
       "    IPython.keyboard_manager.enable();\n",
       "    fig.parent_element.innerHTML =\n",
       "        '<img src=\"' + dataURL + '\" width=\"' + width + '\">';\n",
       "    fig.close_ws(fig, msg);\n",
       "};\n",
       "\n",
       "mpl.figure.prototype.close_ws = function (fig, msg) {\n",
       "    fig.send_message('closing', msg);\n",
       "    // fig.ws.close()\n",
       "};\n",
       "\n",
       "mpl.figure.prototype.push_to_output = function (_remove_interactive) {\n",
       "    // Turn the data on the canvas into data in the output cell.\n",
       "    var width = this.canvas.width / this.ratio;\n",
       "    var dataURL = this.canvas.toDataURL();\n",
       "    this.cell_info[1]['text/html'] =\n",
       "        '<img src=\"' + dataURL + '\" width=\"' + width + '\">';\n",
       "};\n",
       "\n",
       "mpl.figure.prototype.updated_canvas_event = function () {\n",
       "    // Tell IPython that the notebook contents must change.\n",
       "    IPython.notebook.set_dirty(true);\n",
       "    this.send_message('ack', {});\n",
       "    var fig = this;\n",
       "    // Wait a second, then push the new image to the DOM so\n",
       "    // that it is saved nicely (might be nice to debounce this).\n",
       "    setTimeout(function () {\n",
       "        fig.push_to_output();\n",
       "    }, 1000);\n",
       "};\n",
       "\n",
       "mpl.figure.prototype._init_toolbar = function () {\n",
       "    var fig = this;\n",
       "\n",
       "    var toolbar = document.createElement('div');\n",
       "    toolbar.classList = 'btn-toolbar';\n",
       "    this.root.appendChild(toolbar);\n",
       "\n",
       "    function on_click_closure(name) {\n",
       "        return function (_event) {\n",
       "            return fig.toolbar_button_onclick(name);\n",
       "        };\n",
       "    }\n",
       "\n",
       "    function on_mouseover_closure(tooltip) {\n",
       "        return function (event) {\n",
       "            if (!event.currentTarget.disabled) {\n",
       "                return fig.toolbar_button_onmouseover(tooltip);\n",
       "            }\n",
       "        };\n",
       "    }\n",
       "\n",
       "    fig.buttons = {};\n",
       "    var buttonGroup = document.createElement('div');\n",
       "    buttonGroup.classList = 'btn-group';\n",
       "    var button;\n",
       "    for (var toolbar_ind in mpl.toolbar_items) {\n",
       "        var name = mpl.toolbar_items[toolbar_ind][0];\n",
       "        var tooltip = mpl.toolbar_items[toolbar_ind][1];\n",
       "        var image = mpl.toolbar_items[toolbar_ind][2];\n",
       "        var method_name = mpl.toolbar_items[toolbar_ind][3];\n",
       "\n",
       "        if (!name) {\n",
       "            /* Instead of a spacer, we start a new button group. */\n",
       "            if (buttonGroup.hasChildNodes()) {\n",
       "                toolbar.appendChild(buttonGroup);\n",
       "            }\n",
       "            buttonGroup = document.createElement('div');\n",
       "            buttonGroup.classList = 'btn-group';\n",
       "            continue;\n",
       "        }\n",
       "\n",
       "        button = fig.buttons[name] = document.createElement('button');\n",
       "        button.classList = 'btn btn-default';\n",
       "        button.href = '#';\n",
       "        button.title = name;\n",
       "        button.innerHTML = '<i class=\"fa ' + image + ' fa-lg\"></i>';\n",
       "        button.addEventListener('click', on_click_closure(method_name));\n",
       "        button.addEventListener('mouseover', on_mouseover_closure(tooltip));\n",
       "        buttonGroup.appendChild(button);\n",
       "    }\n",
       "\n",
       "    if (buttonGroup.hasChildNodes()) {\n",
       "        toolbar.appendChild(buttonGroup);\n",
       "    }\n",
       "\n",
       "    // Add the status bar.\n",
       "    var status_bar = document.createElement('span');\n",
       "    status_bar.classList = 'mpl-message pull-right';\n",
       "    toolbar.appendChild(status_bar);\n",
       "    this.message = status_bar;\n",
       "\n",
       "    // Add the close button to the window.\n",
       "    var buttongrp = document.createElement('div');\n",
       "    buttongrp.classList = 'btn-group inline pull-right';\n",
       "    button = document.createElement('button');\n",
       "    button.classList = 'btn btn-mini btn-primary';\n",
       "    button.href = '#';\n",
       "    button.title = 'Stop Interaction';\n",
       "    button.innerHTML = '<i class=\"fa fa-power-off icon-remove icon-large\"></i>';\n",
       "    button.addEventListener('click', function (_evt) {\n",
       "        fig.handle_close(fig, {});\n",
       "    });\n",
       "    button.addEventListener(\n",
       "        'mouseover',\n",
       "        on_mouseover_closure('Stop Interaction')\n",
       "    );\n",
       "    buttongrp.appendChild(button);\n",
       "    var titlebar = this.root.querySelector('.ui-dialog-titlebar');\n",
       "    titlebar.insertBefore(buttongrp, titlebar.firstChild);\n",
       "};\n",
       "\n",
       "mpl.figure.prototype._remove_fig_handler = function (event) {\n",
       "    var fig = event.data.fig;\n",
       "    if (event.target !== this) {\n",
       "        // Ignore bubbled events from children.\n",
       "        return;\n",
       "    }\n",
       "    fig.close_ws(fig, {});\n",
       "};\n",
       "\n",
       "mpl.figure.prototype._root_extra_style = function (el) {\n",
       "    el.style.boxSizing = 'content-box'; // override notebook setting of border-box.\n",
       "};\n",
       "\n",
       "mpl.figure.prototype._canvas_extra_style = function (el) {\n",
       "    // this is important to make the div 'focusable\n",
       "    el.setAttribute('tabindex', 0);\n",
       "    // reach out to IPython and tell the keyboard manager to turn it's self\n",
       "    // off when our div gets focus\n",
       "\n",
       "    // location in version 3\n",
       "    if (IPython.notebook.keyboard_manager) {\n",
       "        IPython.notebook.keyboard_manager.register_events(el);\n",
       "    } else {\n",
       "        // location in version 2\n",
       "        IPython.keyboard_manager.register_events(el);\n",
       "    }\n",
       "};\n",
       "\n",
       "mpl.figure.prototype._key_event_extra = function (event, _name) {\n",
       "    // Check for shift+enter\n",
       "    if (event.shiftKey && event.which === 13) {\n",
       "        this.canvas_div.blur();\n",
       "        // select the cell after this one\n",
       "        var index = IPython.notebook.find_cell_index(this.cell_info[0]);\n",
       "        IPython.notebook.select(index + 1);\n",
       "    }\n",
       "};\n",
       "\n",
       "mpl.figure.prototype.handle_save = function (fig, _msg) {\n",
       "    fig.ondownload(fig, null);\n",
       "};\n",
       "\n",
       "mpl.find_output_cell = function (html_output) {\n",
       "    // Return the cell and output element which can be found *uniquely* in the notebook.\n",
       "    // Note - this is a bit hacky, but it is done because the \"notebook_saving.Notebook\"\n",
       "    // IPython event is triggered only after the cells have been serialised, which for\n",
       "    // our purposes (turning an active figure into a static one), is too late.\n",
       "    var cells = IPython.notebook.get_cells();\n",
       "    var ncells = cells.length;\n",
       "    for (var i = 0; i < ncells; i++) {\n",
       "        var cell = cells[i];\n",
       "        if (cell.cell_type === 'code') {\n",
       "            for (var j = 0; j < cell.output_area.outputs.length; j++) {\n",
       "                var data = cell.output_area.outputs[j];\n",
       "                if (data.data) {\n",
       "                    // IPython >= 3 moved mimebundle to data attribute of output\n",
       "                    data = data.data;\n",
       "                }\n",
       "                if (data['text/html'] === html_output) {\n",
       "                    return [cell, data, j];\n",
       "                }\n",
       "            }\n",
       "        }\n",
       "    }\n",
       "};\n",
       "\n",
       "// Register the function which deals with the matplotlib target/channel.\n",
       "// The kernel may be null if the page has been refreshed.\n",
       "if (IPython.notebook.kernel !== null) {\n",
       "    IPython.notebook.kernel.comm_manager.register_target(\n",
       "        'matplotlib',\n",
       "        mpl.mpl_figure_comm\n",
       "    );\n",
       "}\n"
      ],
      "text/plain": [
       "<IPython.core.display.Javascript object>"
      ]
     },
     "metadata": {},
     "output_type": "display_data"
    },
    {
     "data": {
      "text/html": [
       "<img src=\"data:image/png;base64,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\" width=\"640\">"
      ],
      "text/plain": [
       "<IPython.core.display.HTML object>"
      ]
     },
     "metadata": {},
     "output_type": "display_data"
    }
   ],
   "source": [
    "class Car(object):\n",
    "    def __init__(self, color, v_kmh=50):\n",
    "        self.x = 0\n",
    "        self.color = color\n",
    "        self.v_kmh = v_kmh\n",
    "    def drive(self, dt):\n",
    "        v_ms = self.v_kmh * 1000 / (60*60)\n",
    "        ds = v_ms * dt\n",
    "        self.x += ds \n",
    "        \n",
    "def draw_car(y, car):\n",
    "    x = car.x\n",
    "    color = car.color\n",
    "    car_line = plt.hlines(y, 0, x, color=color)\n",
    "    car_marker = plt.plot(x, y, marker='o', color=color)[0]\n",
    "    return (car_line, car_marker)\n",
    "    \n",
    "def prepare_car_animation(ys, cars, fps):\n",
    "    car_list = cars\n",
    "    car_line_collection_list = []\n",
    "    car_marker_list = []\n",
    "    for (y, car) in zip(ys, car_list):\n",
    "        (car_line_collection, car_marker) = draw_car(y, car)\n",
    "        car_line_collection_list.append(car_line_collection)\n",
    "        car_marker_list.append(car_marker)\n",
    "    \n",
    "    def animate(frame_number):\n",
    "        # Calculate elapsed animation time in seconds.\n",
    "        dt = 0\n",
    "        if frame_number > 0:\n",
    "            t0 = (frame_number-1) / fps\n",
    "            t1 = frame_number / fps\n",
    "            dt = t1 - t0\n",
    "            \n",
    "        for (i, car) in enumerate(car_list):\n",
    "            car.drive(dt)\n",
    "            \n",
    "            # Update line.\n",
    "            car_line_collection = car_line_collection_list[i]\n",
    "            segs = car_line_collection.get_segments()\n",
    "            segs[0][1,0] = car.x\n",
    "            car_line_collection.set_segments(segs)\n",
    "            \n",
    "            # Update marker.\n",
    "            car_marker_list[i].set_xdata([car.x])\n",
    "        \n",
    "        artists = car_line_collection_list + car_marker_list\n",
    "        return artists\n",
    "    \n",
    "    return animate\n",
    "    \n",
    "red_car = Car(color='red', v_kmh=50)\n",
    "blue_car = Car(color='blue', v_kmh=25)\n",
    "\n",
    "from matplotlib import pyplot as plt\n",
    "from matplotlib import animation\n",
    "\n",
    "(fig, ax) = plt.subplots()\n",
    "plt.xlim(0, 200)\n",
    "plt.xlabel('length [m]')\n",
    "plt.yticks([])\n",
    "plt.title('Car Race')\n",
    "\n",
    "fps = 5\n",
    "time_length = 10 # s\n",
    "\n",
    "animation_func = prepare_car_animation(\n",
    "    cars=(red_car, blue_car),\n",
    "    ys=(1,2),\n",
    "    fps=fps\n",
    ")\n",
    "\n",
    "ani = animation.FuncAnimation(\n",
    "    fig,\n",
    "    animation_func,\n",
    "    frames=int(fps*time_length),\n",
    "    repeat=False,\n",
    "    blit=True)\n",
    "\n",
    "plt.show()\n",
    "# To convert the animation into a HTML5 video one can do:\n",
    "#from IPython.display import HTML\n",
    "#HTML(ani.to_html5_video())"
   ]
  },
  {
   "cell_type": "markdown",
   "metadata": {
    "slideshow": {
     "slide_type": "slide"
    }
   },
   "source": [
    "# Working with version control systems (git)"
   ]
  },
  {
   "cell_type": "markdown",
   "metadata": {
    "slideshow": {
     "slide_type": "fragment"
    }
   },
   "source": [
    "## What is a version control system?\n",
    "\n",
    "![Version Control](figures/version_control.png)\n",
    "\n",
    "* Allows to keep track of changes (versions) of files.\n",
    "* Tracks the history of a file.\n",
    "* Manages a **repository**, i.e. a collection of files, usually a directory tree.\n",
    "* Allows collaborating on same files by several people.\n",
    "    * Conflict resolution\n",
    "* Allows branching-off from the main development path, i.e. **branches**.\n",
    "    * Branches can be merged"
   ]
  },
  {
   "cell_type": "markdown",
   "metadata": {
    "slideshow": {
     "slide_type": "subslide"
    }
   },
   "source": [
    "## What is `git`?\n",
    "\n",
    "* A version control system developed by the inventor of the Linux kernel, Linus Torvalds.\n",
    "* A decentralized system\n",
    "    * repositories are stored locally on the user's computer\n",
    "    * a central (remote) repository might exists, e.g. github.com"
   ]
  },
  {
   "cell_type": "markdown",
   "metadata": {
    "slideshow": {
     "slide_type": "subslide"
    }
   },
   "source": [
    "## Cloning a repository\n",
    "\n",
    "To clone a repository use the `git clone <repo_url>.git <local_dir>` command:\n",
    "\n",
    "```bash\n",
    "git clone https://github.com/icecube/skyllh.git skyllh\n",
    "```\n",
    "\n",
    "This copies (clones) the **master** branch of the repository from the remote location to the local disk."
   ]
  },
  {
   "cell_type": "markdown",
   "metadata": {
    "slideshow": {
     "slide_type": "subslide"
    }
   },
   "source": [
    "## Working with branches\n",
    "\n",
    "![Git Branches](figures/git_branches.png)\n",
    "\n",
    "* A branch represents an independent line of development.\n",
    "* Always use a new branch when making large code changes, e.g. new feature development or bug fix! \n",
    "\n",
    "### List available branches\n",
    "To list all available remote branches type:\n",
    "\n",
    "```bash\n",
    "git branch -a\n",
    "```"
   ]
  },
  {
   "cell_type": "markdown",
   "metadata": {
    "slideshow": {
     "slide_type": "subslide"
    }
   },
   "source": [
    "### Creating a new branch\n",
    "\n",
    "To work on a new feature or bug fix, one should create a new branch from the *master* branch.\n",
    "\n",
    "* Clone the repository.\n",
    "* Checkout a new branch via the `git checkout -b <branch>` command.\n",
    "\n",
    "```bash\n",
    "git clone https://github.com/icecube/skyllh.git skyllh.my_new_feature\n",
    "cd skyllh.my_new_feature/\n",
    "git checkout -b my_new_feature\n",
    "```\n",
    "\n",
    "After creating the new branch it lives in your local repository. In order to copy it to the remote repository one uses the `git push --set-upstream origin <branch>` command:\n",
    "\n",
    "```bash\n",
    "git push --set-upstream origin my_new_feature\n",
    "```\n",
    "\n",
    "To see on which branch you are currently working on use\n",
    "\n",
    "```bash\n",
    "git branch\n",
    "```\n",
    "to get the list of available branches."
   ]
  },
  {
   "cell_type": "markdown",
   "metadata": {
    "slideshow": {
     "slide_type": "subslide"
    }
   },
   "source": [
    "## Commiting code changes\n",
    "\n",
    "After making code changes, these changes must be committed to the branch as a commit.\n",
    "\n",
    "To see the changed files:\n",
    "\n",
    "```bash\n",
    "git status\n",
    "```\n",
    "\n",
    "To stage a changed file for a commit, use the `git add` command:\n",
    "\n",
    "```bash\n",
    "git add <file>\n",
    "```\n",
    "\n",
    "To commit all staged files:\n",
    "\n",
    "```bash\n",
    "git commit -m \"My commit description\"\n",
    "```\n"
   ]
  },
  {
   "cell_type": "markdown",
   "metadata": {
    "slideshow": {
     "slide_type": "subslide"
    }
   },
   "source": [
    "## Merging two branches\n",
    "\n",
    "After a bug was fixed or a new feature was implemented the development branch needs to be merged with the *master* branch."
   ]
  },
  {
   "cell_type": "markdown",
   "metadata": {
    "slideshow": {
     "slide_type": "fragment"
    }
   },
   "source": [
    "![Merging two branches](figures/git_branch_merge.png)"
   ]
  },
  {
   "cell_type": "markdown",
   "metadata": {
    "slideshow": {
     "slide_type": "subslide"
    }
   },
   "source": [
    "* Make sure to be in the correct receiving branch, e.g. master:\n",
    "\n",
    "```bash\n",
    "git checkout master\n",
    "```\n",
    "\n",
    "* Fetch and pull the latest updates of the receiving branch:\n",
    "\n",
    "```bash\n",
    "git fetch\n",
    "git pull\n",
    "```\n",
    "\n",
    "* Marge the feature branch into the master branch:\n",
    "\n",
    "```bash\n",
    "git merge my_new_feature\n",
    "```\n",
    "\n",
    "* Delete the feature branch:\n",
    "\n",
    "```bash\n",
    "git branch -d my_new_feature\n",
    "```"
   ]
  },
  {
   "cell_type": "markdown",
   "metadata": {
    "slideshow": {
     "slide_type": "subslide"
    }
   },
   "source": [
    "## Resolving merge conflicts\n",
    "\n",
    "* Merge conflicts occur when the **same part of the same file** was **changed by both branches**.\n",
    "* `git merge` will fail before creating the merge commit.\n",
    "* `git status` will tell where merge conflics are."
   ]
  },
  {
   "cell_type": "markdown",
   "metadata": {
    "slideshow": {
     "slide_type": "fragment"
    }
   },
   "source": [
    "```\n",
    "here is some content not affected by the conflict\n",
    "<<<<<<< master\n",
    "this is conflicted text from master\n",
    "=======\n",
    "this is conflicted text from my_new_feature branch\n",
    ">>>>>>> my_new_feature;\n",
    "```"
   ]
  },
  {
   "cell_type": "markdown",
   "metadata": {
    "slideshow": {
     "slide_type": "fragment"
    }
   },
   "source": [
    "* Edit the conflicting files to resolve the conflict.\n",
    "* Stage the changed files with `git add`.\n",
    "* Perform a final merge commit with `git commit`."
   ]
  },
  {
   "cell_type": "markdown",
   "metadata": {
    "slideshow": {
     "slide_type": "subslide"
    }
   },
   "source": [
    "## Pull requests on github.com\n",
    "\n",
    "* *github.com* provides the functionality to create **pull requests**.\n",
    "* Pull requests are branches that **ask to be pulled** into the master branch via a merge operation.\n",
    "* Pull requests can be **code-reviewed** before merging."
   ]
  },
  {
   "cell_type": "code",
   "execution_count": null,
   "metadata": {},
   "outputs": [],
   "source": []
  }
 ],
 "metadata": {
  "celltoolbar": "Slideshow",
  "kernelspec": {
   "display_name": "Python 3 (adv-py3-course)",
   "language": "python",
   "name": "adv-py3-course"
  },
  "language_info": {
   "codemirror_mode": {
    "name": "ipython",
    "version": 3
   },
   "file_extension": ".py",
   "mimetype": "text/x-python",
   "name": "python",
   "nbconvert_exporter": "python",
   "pygments_lexer": "ipython3",
   "version": "3.8.10"
  },
  "vscode": {
   "interpreter": {
    "hash": "e102847df13f8d4f78ffc3ddea38cd104aed51a5e856d7b4f01bdb1a8bbde3be"
   }
  }
 },
 "nbformat": 4,
 "nbformat_minor": 2
}
