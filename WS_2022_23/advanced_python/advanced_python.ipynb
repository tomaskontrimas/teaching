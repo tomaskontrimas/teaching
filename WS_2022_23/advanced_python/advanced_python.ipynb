{
 "cells": [
  {
   "cell_type": "markdown",
   "metadata": {
    "slideshow": {
     "slide_type": "slide"
    }
   },
   "source": [
    "# Advanced Python Programming\n",
    "\n",
    "Dr. Martin Wolf, Tomas Kontrimas\n",
    "\n",
    "Advanced Python Programming, WS 2022/23"
   ]
  },
  {
   "cell_type": "code",
   "execution_count": 1,
   "metadata": {
    "slideshow": {
     "slide_type": "fragment"
    }
   },
   "outputs": [
    {
     "data": {
      "text/plain": [
       "'Hello advanced world!'"
      ]
     },
     "execution_count": 1,
     "metadata": {},
     "output_type": "execute_result"
    }
   ],
   "source": [
    "str('Hello advanced world!')"
   ]
  },
  {
   "cell_type": "markdown",
   "metadata": {
    "slideshow": {
     "slide_type": "slide"
    }
   },
   "source": [
    "## Why do we need to be able to develop software, in particular in physics?"
   ]
  },
  {
   "cell_type": "markdown",
   "metadata": {
    "slideshow": {
     "slide_type": "subslide"
    }
   },
   "source": [
    "* For most of our professional time we work with ...\n",
    "\n",
    "    * data taking\n",
    "    * data simulation\n",
    "    * data management\n",
    "    * data selection\n",
    "    * data analysis\n",
    "    \n",
    "* All of the above needs software that is ...\n",
    "\n",
    "    * efficient\n",
    "    * modular\n",
    "    * well maintainable\n",
    "    * scalable"
   ]
  },
  {
   "cell_type": "markdown",
   "metadata": {
    "slideshow": {
     "slide_type": "subslide"
    }
   },
   "source": [
    "**Example: Trigger rate of the IceCube Neutrino Detector at South Pole:**\n",
    "\n",
    "![Trigger rate of the Icecube Neutrino Detector at South Pole](figures/icecube_trigger_rate.png)"
   ]
  },
  {
   "cell_type": "markdown",
   "metadata": {
    "slideshow": {
     "slide_type": "slide"
    }
   },
   "source": [
    "# Overview\n",
    "\n",
    "* Learning objectives of this course\n",
    "* Technical prerequisites of this Course\n",
    "* Jupyter Notebooks & virtual Python environments\n",
    "* The basics of Python\n",
    "* Data types in Python\n",
    "* Python as a calculator\n",
    "* String formatting\n",
    "* Loops and Conditions\n",
    "* List comprehension\n",
    "* Working with files\n",
    "* Functions\n",
    "* Lambda functions\n",
    "* Exceptions\n",
    "* Decorators\n",
    "* Classes\n",
    "* Properties\n",
    "* Class methods\n",
    "* Static methods\n",
    "* PEP8 Coding Style\n",
    "* Numpy\n",
    "* Matplotlib"
   ]
  },
  {
   "cell_type": "markdown",
   "metadata": {
    "slideshow": {
     "slide_type": "slide"
    }
   },
   "source": [
    "## Learning objectives of this course\n",
    "\n",
    "* understanding of the concepts of object-oriented programming\n",
    "* working with version-control systems like `git` and `github.com`\n",
    "* basic understanding of an IceCube neutrino point-source search\n",
    "* performing a neutrino point-source search with the `SkyLLH` likelihood software framework"
   ]
  },
  {
   "cell_type": "markdown",
   "metadata": {
    "slideshow": {
     "slide_type": "slide"
    }
   },
   "source": [
    "## Technical Prerequisites Of This Course\n",
    "\n",
    "* computer with Python and Jupyter support\n",
    "\n",
    "    - Linux, Windows, Mac\n",
    "    \n",
    "* *github.com* account"
   ]
  },
  {
   "cell_type": "markdown",
   "metadata": {
    "slideshow": {
     "slide_type": "slide"
    }
   },
   "source": [
    "## Jupyter Notebook and virtual Python environments"
   ]
  },
  {
   "cell_type": "markdown",
   "metadata": {
    "slideshow": {
     "slide_type": "subslide"
    }
   },
   "source": [
    "This shows the installation of Jupyter and Python virtual environments on Linux (Ubuntu).\n",
    "\n",
    "First, let's install Jupyter via `apt-get`:\n",
    "\n",
    "```bash\n",
    "sudo apt-get install python3-notebook python3-ipykernel\n",
    "```\n",
    "\n",
    "For this course, I recommend to setup a dedicated virtual Python 3 environment:\n",
    "    \n",
    "```bash\n",
    "sudo apt-get install virtualenvwrapper\n",
    "source /usr/share/virtualenvwrapper/virtualenvwrapper.sh\n",
    "```\n",
    "  \n",
    "The environment is created via:\n",
    "  \n",
    "```bash\n",
    "mkvirtualenv -p /usr/bin/python3 --system-site-packages adv-py3-course\n",
    "pip install -U astropy matplotlib numpy scipy\n",
    "```\n",
    "\n",
    "The final step is to add the virtual Python environment to Jupyter Notebook:\n",
    "\n",
    "```bash\n",
    "python -m ipykernel install --user \\\n",
    "    --name adv-py3-course --display-name \"Python 3 (adv-py3-course)\"\n",
    "```"
   ]
  },
  {
   "cell_type": "markdown",
   "metadata": {
    "slideshow": {
     "slide_type": "subslide"
    }
   },
   "source": [
    "I further recommend to put the\n",
    "\n",
    "```bash\n",
    "source /usr/share/virtualenvwrapper/virtualenvwrapper.sh\n",
    "```\n",
    "\n",
    "line into your `.profile` and launch a new terminal window.\n",
    "\n",
    "You can start a Jupyter Notebook via:\n",
    "\n",
    "```bash\n",
    "jupyter notebook\n",
    "```\n",
    "\n",
    "and create a new `py3-astro` notebook.\n",
    "\n",
    "For executing Python scripts, you can activate the `py3-astro` environment via:\n",
    "\n",
    "```bash\n",
    "workon py3-astro\n",
    "```\n",
    "\n",
    "and deactivate it via:\n",
    "\n",
    "```bash\n",
    "deactivate\n",
    "```"
   ]
  },
  {
   "cell_type": "markdown",
   "metadata": {
    "slideshow": {
     "slide_type": "slide"
    }
   },
   "source": [
    "## The basics of Python"
   ]
  },
  {
   "cell_type": "markdown",
   "metadata": {
    "slideshow": {
     "slide_type": "subslide"
    }
   },
   "source": [
    "Python is an interpreted (no compilation) and loosely typed programming language."
   ]
  },
  {
   "cell_type": "code",
   "execution_count": 1,
   "metadata": {
    "slideshow": {
     "slide_type": "skip"
    }
   },
   "outputs": [],
   "source": [
    "%matplotlib notebook"
   ]
  },
  {
   "cell_type": "code",
   "execution_count": 2,
   "metadata": {
    "slideshow": {
     "slide_type": "fragment"
    }
   },
   "outputs": [],
   "source": [
    "# Comments start with '#'."
   ]
  },
  {
   "cell_type": "code",
   "execution_count": 3,
   "metadata": {
    "slideshow": {
     "slide_type": "fragment"
    }
   },
   "outputs": [],
   "source": [
    "# Import modules.\n",
    "import os\n",
    "\n",
    "import matplotlib.pyplot\n",
    "import numpy as np"
   ]
  },
  {
   "cell_type": "code",
   "execution_count": 4,
   "metadata": {
    "slideshow": {
     "slide_type": "fragment"
    }
   },
   "outputs": [],
   "source": [
    "# Import only specific functions from a module.\n",
    "from __future__ import print_function, division"
   ]
  },
  {
   "cell_type": "code",
   "execution_count": 5,
   "metadata": {
    "slideshow": {
     "slide_type": "fragment"
    }
   },
   "outputs": [],
   "source": [
    "# Remember: never ever do 'from foo import *'"
   ]
  },
  {
   "cell_type": "code",
   "execution_count": 6,
   "metadata": {
    "slideshow": {
     "slide_type": "fragment"
    }
   },
   "outputs": [],
   "source": [
    "# Declare a variable.\n",
    "a = 5.\n",
    "a = \"Hello World!\""
   ]
  },
  {
   "cell_type": "markdown",
   "metadata": {
    "slideshow": {
     "slide_type": "slide"
    }
   },
   "source": [
    "## Data types"
   ]
  },
  {
   "cell_type": "markdown",
   "metadata": {
    "slideshow": {
     "slide_type": "subslide"
    }
   },
   "source": [
    "* Numeric types:  \n",
    "  `int, float, complex`\n",
    "* Sequence types:  \n",
    "  `str, unicode, list, tuple, bytearray, buffer`\n",
    "* Set types:  \n",
    "  `set, frozenset`\n",
    "* Map types:  \n",
    "  `dict`\n",
    "* Boolean types:\n",
    "  `bool`\n",
    "* The None type object: `None`\n",
    "* Mutable data types like `list` and `dict` are copied by reference.\n",
    "* Immutable data types like `int` and `float` are copied by value.\n",
    "* Full list:  \n",
    "  <https://docs.python.org/3.7/library/stdtypes.html#>"
   ]
  },
  {
   "cell_type": "markdown",
   "metadata": {
    "slideshow": {
     "slide_type": "slide"
    }
   },
   "source": [
    "## Python as a calculator"
   ]
  },
  {
   "cell_type": "code",
   "execution_count": 7,
   "metadata": {
    "slideshow": {
     "slide_type": "subslide"
    }
   },
   "outputs": [
    {
     "name": "stdout",
     "output_type": "stream",
     "text": [
      "5.  + 5. = 10.0\n",
      "10. - 5. = 5.0\n"
     ]
    }
   ],
   "source": [
    "# Addition and substraction\n",
    "print(\"5.  + 5. =\", 5. + 5.)\n",
    "print(\"10. - 5. =\", 10. - 5.)"
   ]
  },
  {
   "cell_type": "code",
   "execution_count": 8,
   "metadata": {
    "slideshow": {
     "slide_type": "fragment"
    }
   },
   "outputs": [
    {
     "name": "stdout",
     "output_type": "stream",
     "text": [
      "5.  * 5. = 25.0\n",
      "25. / 5. = 5.0\n"
     ]
    }
   ],
   "source": [
    "# Multiplication and division\n",
    "print(\"5.  * 5. =\", 5. * 5.)\n",
    "print(\"25. / 5. =\", 25. / 5.)"
   ]
  },
  {
   "cell_type": "code",
   "execution_count": 9,
   "metadata": {
    "slideshow": {
     "slide_type": "fragment"
    }
   },
   "outputs": [
    {
     "name": "stdout",
     "output_type": "stream",
     "text": [
      "25. % 4. = 1.0\n",
      "5.**2    = 25.0\n"
     ]
    }
   ],
   "source": [
    "# Modulo and exponentiation\n",
    "print(\"25. % 4. =\", 25. % 4.)\n",
    "print(\"5.**2    =\", 5.**2)"
   ]
  },
  {
   "cell_type": "code",
   "execution_count": 10,
   "metadata": {
    "slideshow": {
     "slide_type": "subslide"
    }
   },
   "outputs": [
    {
     "name": "stdout",
     "output_type": "stream",
     "text": [
      "a + 5. = 10.0\n"
     ]
    }
   ],
   "source": [
    "# Do calculations with variables.\n",
    "a = 5.\n",
    "print(\"a + 5. =\", a + 5.)"
   ]
  },
  {
   "cell_type": "code",
   "execution_count": 11,
   "metadata": {
    "slideshow": {
     "slide_type": "fragment"
    }
   },
   "outputs": [
    {
     "name": "stdout",
     "output_type": "stream",
     "text": [
      "c = a + b = 9.0\n"
     ]
    }
   ],
   "source": [
    "b = 4.\n",
    "c = a + b\n",
    "print(\"c = a + b =\", c)"
   ]
  },
  {
   "cell_type": "code",
   "execution_count": 12,
   "metadata": {
    "slideshow": {
     "slide_type": "fragment"
    }
   },
   "outputs": [
    {
     "name": "stdout",
     "output_type": "stream",
     "text": [
      "a = 10.0\n"
     ]
    }
   ],
   "source": [
    "# In-place modifications\n",
    "a += 5.\n",
    "print(\"a =\", a)"
   ]
  },
  {
   "cell_type": "code",
   "execution_count": 13,
   "metadata": {
    "slideshow": {
     "slide_type": "fragment"
    }
   },
   "outputs": [
    {
     "name": "stdout",
     "output_type": "stream",
     "text": [
      "exp(2.5)   = 12.1824939607\n",
      "sin(pi/2.) = 1.0\n"
     ]
    }
   ],
   "source": [
    "# Call mathematical functions like sin, exp, log, ...\n",
    "# Instead of NumPy, you can also use the 'math' module.\n",
    "print(\"exp(2.5)   =\", np.exp(2.5))\n",
    "print(\"sin(pi/2.) =\", np.sin(np.pi/2.))"
   ]
  },
  {
   "cell_type": "markdown",
   "metadata": {
    "slideshow": {
     "slide_type": "slide"
    }
   },
   "source": [
    "## String formatting"
   ]
  },
  {
   "cell_type": "markdown",
   "metadata": {
    "slideshow": {
     "slide_type": "subslide"
    }
   },
   "source": [
    "General form:\n",
    "\n",
    "```\n",
    "[fill][align][sign][#][0][width][,][.precision][type]\n",
    "```\n",
    "\n",
    "See:  \n",
    "<https://docs.python.org/2.7/library/string.html#formatspec>"
   ]
  },
  {
   "cell_type": "code",
   "execution_count": 14,
   "metadata": {
    "slideshow": {
     "slide_type": "fragment"
    }
   },
   "outputs": [
    {
     "name": "stdout",
     "output_type": "stream",
     "text": [
      "     +3.14\n",
      "0000000003\n"
     ]
    }
   ],
   "source": [
    "# Some examples\n",
    "print(\"{:>+10.2f}\".format(np.pi))\n",
    "print(\"{:010d}\".format(3))"
   ]
  },
  {
   "cell_type": "code",
   "execution_count": 15,
   "metadata": {
    "slideshow": {
     "slide_type": "fragment"
    }
   },
   "outputs": [
    {
     "name": "stdout",
     "output_type": "stream",
     "text": [
      "0, 1, 2, 3\n",
      "4\n"
     ]
    }
   ],
   "source": [
    "# Some more examples\n",
    "s = \"{0}, {1[0]}, {1[1]}, {2[a]}\"\n",
    "print(s.format(0, [1, 2], {\"a\": 3}))\n",
    "print(\"{key}\".format(key=4))"
   ]
  },
  {
   "cell_type": "markdown",
   "metadata": {
    "slideshow": {
     "slide_type": "slide"
    }
   },
   "source": [
    "## Loops and Conditions"
   ]
  },
  {
   "cell_type": "code",
   "execution_count": 16,
   "metadata": {
    "slideshow": {
     "slide_type": "subslide"
    }
   },
   "outputs": [
    {
     "name": "stdout",
     "output_type": "stream",
     "text": [
      "Skip 0.\n",
      "1 is an odd  number.\n",
      "2 is an even number.\n"
     ]
    }
   ],
   "source": [
    "# Example for-loop with conditions\n",
    "for i in range(3):\n",
    "    if i == 0:\n",
    "        print(\"Skip 0.\")\n",
    "    elif i % 2 > 0:\n",
    "        print(\"{} is an odd  number.\".format(i))\n",
    "    else:\n",
    "        print(\"{} is an even number.\".format(i))"
   ]
  },
  {
   "cell_type": "code",
   "execution_count": 17,
   "metadata": {
    "slideshow": {
     "slide_type": "fragment"
    }
   },
   "outputs": [],
   "source": [
    "# Example while-loop\n",
    "d = {\"a\": 0, \"b\": 1}\n",
    "\n",
    "while len(d) > 0:\n",
    "    d.popitem()"
   ]
  },
  {
   "cell_type": "markdown",
   "metadata": {
    "slideshow": {
     "slide_type": "fragment"
    }
   },
   "source": [
    "* You can break out of a loop via `break`.\n",
    "* Iterations can be skipped via `continue`.\n",
    "* Remember that Python does not really know about scopes."
   ]
  },
  {
   "cell_type": "markdown",
   "metadata": {
    "slideshow": {
     "slide_type": "slide"
    }
   },
   "source": [
    "## List comprehension"
   ]
  },
  {
   "cell_type": "markdown",
   "metadata": {
    "slideshow": {
     "slide_type": "subslide"
    }
   },
   "source": [
    "An easy way to create iterables from existing ones."
   ]
  },
  {
   "cell_type": "code",
   "execution_count": 18,
   "metadata": {
    "slideshow": {
     "slide_type": "fragment"
    }
   },
   "outputs": [],
   "source": [
    "# List comprehension examples\n",
    "l = [i**2 for i in range(10)]\n",
    "l = [10. / i for i in range(10) if i > 0]\n",
    "l = [10. / i if i > 0 else np.inf for n in range(10)]\n",
    "l = [[a*i for a in [1, 2]] for i in range(1, 11)]"
   ]
  },
  {
   "cell_type": "code",
   "execution_count": 19,
   "metadata": {
    "slideshow": {
     "slide_type": "fragment"
    }
   },
   "outputs": [],
   "source": [
    "# The same works for dictionaries.\n",
    "d = {\"a\": 2., \"b\": 3.}\n",
    "d = {k: v**2 for k, v in d.items()}"
   ]
  },
  {
   "cell_type": "code",
   "execution_count": 20,
   "metadata": {
    "slideshow": {
     "slide_type": "fragment"
    }
   },
   "outputs": [],
   "source": [
    "# And of course sets\n",
    "s = {i**2 for i in range(10)}"
   ]
  },
  {
   "cell_type": "code",
   "execution_count": 21,
   "metadata": {
    "slideshow": {
     "slide_type": "fragment"
    }
   },
   "outputs": [
    {
     "name": "stdout",
     "output_type": "stream",
     "text": [
      "285\n"
     ]
    }
   ],
   "source": [
    "# Some generator magic\n",
    "g = (i**2 for i in range(10))\n",
    "r = sum(g)\n",
    "\n",
    "# We can also do this in one line.\n",
    "print(sum(i**2 for i in range(10)))"
   ]
  },
  {
   "cell_type": "markdown",
   "metadata": {
    "slideshow": {
     "slide_type": "slide"
    }
   },
   "source": [
    "## Working with files"
   ]
  },
  {
   "cell_type": "code",
   "execution_count": 22,
   "metadata": {
    "slideshow": {
     "slide_type": "subslide"
    }
   },
   "outputs": [],
   "source": [
    "# Create a text file and give it some input.\n",
    "with open(\"example.txt\", \"w\") as stream:\n",
    "    stream.write(\"This is a line.\\n\")\n",
    "    stream.write(\"This is another line.\")"
   ]
  },
  {
   "cell_type": "code",
   "execution_count": 23,
   "metadata": {
    "slideshow": {
     "slide_type": "fragment"
    }
   },
   "outputs": [
    {
     "name": "stdout",
     "output_type": "stream",
     "text": [
      "This is a line.\n",
      "This is another line.\n"
     ]
    }
   ],
   "source": [
    "# Read the content of the text file.\n",
    "with open(\"example.txt\", \"r\") as stream:\n",
    "    lines = stream.readlines()\n",
    "    \n",
    "print(\"\".join(lines))"
   ]
  },
  {
   "cell_type": "code",
   "execution_count": 24,
   "metadata": {
    "slideshow": {
     "slide_type": "skip"
    }
   },
   "outputs": [],
   "source": [
    "os.remove(\"example.txt\")"
   ]
  },
  {
   "cell_type": "markdown",
   "metadata": {
    "slideshow": {
     "slide_type": "slide"
    }
   },
   "source": [
    "## Functions"
   ]
  },
  {
   "cell_type": "code",
   "execution_count": 25,
   "metadata": {
    "slideshow": {
     "slide_type": "subslide"
    }
   },
   "outputs": [],
   "source": [
    "# A simple function that takes two arguments.\n",
    "def power(a, e=2.):\n",
    "    r\"\"\"Exponentiation\n",
    "    \n",
    "    Calculate: ``a**e``.\n",
    "    \n",
    "    Parameters\n",
    "    ----------\n",
    "    a : float\n",
    "        Some number\n",
    "    e : float, optional\n",
    "        Exponent\n",
    "        \n",
    "    Returns\n",
    "    -------\n",
    "    float\n",
    "        Result of ``a**e``\n",
    "    \n",
    "    \"\"\"\n",
    "    return a**e"
   ]
  },
  {
   "cell_type": "code",
   "execution_count": 26,
   "metadata": {
    "slideshow": {
     "slide_type": "fragment"
    }
   },
   "outputs": [
    {
     "name": "stdout",
     "output_type": "stream",
     "text": [
      "5.**2 = 25.0\n"
     ]
    }
   ],
   "source": [
    "print(\"5.**2 =\", power(5.))"
   ]
  },
  {
   "cell_type": "code",
   "execution_count": 27,
   "metadata": {
    "slideshow": {
     "slide_type": "subslide"
    }
   },
   "outputs": [],
   "source": [
    "# Alternative ways to call the function\n",
    "results = [\n",
    "    power(5., 2.),\n",
    "    power(5., e=2.),\n",
    "    power(a=5., e=2.),\n",
    "    power(e=2., a=5.),\n",
    "    power(*[5., 2.]),\n",
    "    power(**{\"a\": 5., \"e\": 2.})\n",
    "    ]"
   ]
  },
  {
   "cell_type": "code",
   "execution_count": 28,
   "metadata": {
    "slideshow": {
     "slide_type": "fragment"
    }
   },
   "outputs": [
    {
     "name": "stdout",
     "output_type": "stream",
     "text": [
      "Results: 25.0, 25.0, 25.0, 25.0, 25.0, 25.0\n"
     ]
    }
   ],
   "source": [
    "print(\"Results:\", \", \".join(\"{}\".format(r) for r in results))"
   ]
  },
  {
   "cell_type": "code",
   "execution_count": 29,
   "metadata": {
    "slideshow": {
     "slide_type": "fragment"
    }
   },
   "outputs": [],
   "source": [
    "# General syntax\n",
    "def func(*args, **kwargs):\n",
    "    pass"
   ]
  },
  {
   "cell_type": "markdown",
   "metadata": {
    "slideshow": {
     "slide_type": "fragment"
    }
   },
   "source": [
    "A few words about doc strings:\n",
    "\n",
    "* **Do write** them because they help to better understand your code.\n",
    "* I reommend the NumPy style:  \n",
    "  <https://sphinxcontrib-napoleon.readthedocs.io/en/latest/example_numpy.html>"
   ]
  },
  {
   "cell_type": "markdown",
   "metadata": {
    "slideshow": {
     "slide_type": "slide"
    }
   },
   "source": [
    "## Lambda functions"
   ]
  },
  {
   "cell_type": "markdown",
   "metadata": {
    "slideshow": {
     "slide_type": "subslide"
    }
   },
   "source": [
    "Lambdas are unnamed in-line functions."
   ]
  },
  {
   "cell_type": "code",
   "execution_count": 30,
   "metadata": {
    "slideshow": {
     "slide_type": "fragment"
    }
   },
   "outputs": [
    {
     "name": "stdout",
     "output_type": "stream",
     "text": [
      "['S', 'g', 'i', 'n', 'r', 't']\n",
      "['g', 'i', 'n', 'r', 'S', 't']\n"
     ]
    }
   ],
   "source": [
    "# Example for lambda usage\n",
    "print(sorted(\"String\"))\n",
    "print(sorted(\"String\", key=lambda s: s.lower()))"
   ]
  },
  {
   "cell_type": "code",
   "execution_count": 31,
   "metadata": {
    "slideshow": {
     "slide_type": "fragment"
    }
   },
   "outputs": [
    {
     "name": "stdout",
     "output_type": "stream",
     "text": [
      "5**2 = 25.0\n"
     ]
    }
   ],
   "source": [
    "# A lambda function can be assigned to a variable.\n",
    "square = lambda x: x**2\n",
    "print(\"5**2 =\", square(5.))"
   ]
  },
  {
   "cell_type": "markdown",
   "metadata": {
    "slideshow": {
     "slide_type": "slide"
    }
   },
   "source": [
    "## Exceptions"
   ]
  },
  {
   "cell_type": "code",
   "execution_count": 32,
   "metadata": {
    "slideshow": {
     "slide_type": "subslide"
    }
   },
   "outputs": [],
   "source": [
    "# Write a function that can raise an exception.\n",
    "def devision(a, b):\n",
    "    r\"\"\"Divide `a` by `b`.\n",
    "    \n",
    "    Parameters\n",
    "    ----------\n",
    "    a,b : float\n",
    "        Nominator and denominator\n",
    "        \n",
    "    Returns\n",
    "    -------\n",
    "    float\n",
    "        The result of ``a/b``\n",
    "        \n",
    "    Raises\n",
    "    ------\n",
    "    ValueError\n",
    "        If the denominator `b` is zero.\n",
    "    \n",
    "    \"\"\"\n",
    "    if np.fabs(b) > 0.:\n",
    "        return a / b\n",
    "    else:\n",
    "        raise ValueError(\"The denominator should not be zero.\")"
   ]
  },
  {
   "cell_type": "code",
   "execution_count": 33,
   "metadata": {
    "slideshow": {
     "slide_type": "subslide"
    }
   },
   "outputs": [
    {
     "name": "stdout",
     "output_type": "stream",
     "text": [
      "The denominator should not be zero.\n",
      "The result is inf.\n"
     ]
    }
   ],
   "source": [
    "# Catch the exception.\n",
    "try:\n",
    "    r = devision(5., 0.)\n",
    "except ValueError as e:\n",
    "    print(e)\n",
    "    r = np.inf\n",
    "finally:\n",
    "    print(\"The result is {}.\".format(r))"
   ]
  },
  {
   "cell_type": "markdown",
   "metadata": {
    "slideshow": {
     "slide_type": "fragment"
    }
   },
   "source": [
    "A full list of built-in exceptions can be found here:  \n",
    "<https://docs.python.org/2/library/exceptions.html>"
   ]
  },
  {
   "cell_type": "markdown",
   "metadata": {
    "slideshow": {
     "slide_type": "slide"
    }
   },
   "source": [
    "## Decorators"
   ]
  },
  {
   "cell_type": "markdown",
   "metadata": {
    "slideshow": {
     "slide_type": "subslide"
    }
   },
   "source": [
    "Decorators are syntactic sugar for functions that are 'decorating' other functions."
   ]
  },
  {
   "cell_type": "code",
   "execution_count": 34,
   "metadata": {
    "slideshow": {
     "slide_type": "fragment"
    }
   },
   "outputs": [],
   "source": [
    "# Example of a simple decorating function\n",
    "def paragraph(f):\n",
    "    return lambda name: \"<p>{}</p>\".format(f(name))"
   ]
  },
  {
   "cell_type": "code",
   "execution_count": 35,
   "metadata": {
    "slideshow": {
     "slide_type": "fragment"
    }
   },
   "outputs": [],
   "source": [
    "@paragraph\n",
    "def greet(name):\n",
    "    return \"Hello {}, how are you?\".format(name)"
   ]
  },
  {
   "cell_type": "code",
   "execution_count": 36,
   "metadata": {
    "slideshow": {
     "slide_type": "fragment"
    }
   },
   "outputs": [
    {
     "name": "stdout",
     "output_type": "stream",
     "text": [
      "<p>Hello John, how are you?</p>\n"
     ]
    }
   ],
   "source": [
    "print(greet(\"John\"))"
   ]
  },
  {
   "cell_type": "markdown",
   "metadata": {
    "slideshow": {
     "slide_type": "slide"
    }
   },
   "source": [
    "## Classes"
   ]
  },
  {
   "cell_type": "markdown",
   "metadata": {
    "slideshow": {
     "slide_type": "subslide"
    }
   },
   "source": [
    "Python supports object-oriented programming."
   ]
  },
  {
   "cell_type": "code",
   "execution_count": 37,
   "metadata": {
    "slideshow": {
     "slide_type": "fragment"
    }
   },
   "outputs": [],
   "source": [
    "# A simple class with two attributes\n",
    "class Direction(object):\n",
    "    r\"\"\"Direction\n",
    "    \n",
    "    Directional vector in spherical coordinates \n",
    "    \n",
    "    Attributes\n",
    "    ----------\n",
    "    azimuth : float\n",
    "        Azimuth angle in rad\n",
    "    zenith : float\n",
    "        Zenith angle in rad\n",
    "    \n",
    "    \"\"\"\n",
    "    def __init__(self, azimuth, zenith):\n",
    "        self.azimuth = azimuth\n",
    "        self.zenith = zenith\n",
    "        \n",
    "    def __str__(self):\n",
    "        return \"({d.azimuth}, {d.zenith})\".format(d=self)"
   ]
  },
  {
   "cell_type": "code",
   "execution_count": 38,
   "metadata": {
    "slideshow": {
     "slide_type": "fragment"
    }
   },
   "outputs": [
    {
     "name": "stdout",
     "output_type": "stream",
     "text": [
      "Direction: (1.0471975511965976, 1.5707963267948966)\n"
     ]
    }
   ],
   "source": [
    "d = Direction(np.pi/3., np.pi/2.)\n",
    "print(\"Direction:\", d)"
   ]
  },
  {
   "cell_type": "markdown",
   "metadata": {
    "slideshow": {
     "slide_type": "slide"
    }
   },
   "source": [
    "## Properties"
   ]
  },
  {
   "cell_type": "markdown",
   "metadata": {
    "slideshow": {
     "slide_type": "subslide"
    }
   },
   "source": [
    "Properties allow for example to implement get/set methods for attributes."
   ]
  },
  {
   "cell_type": "code",
   "execution_count": 39,
   "metadata": {
    "slideshow": {
     "slide_type": "fragment"
    }
   },
   "outputs": [],
   "source": [
    "class A(object):\n",
    "    r\"\"\"A class with property\n",
    "    \n",
    "    \"\"\"\n",
    "    def __init__(self):\n",
    "        self._a = 0\n",
    "    \n",
    "    @property\n",
    "    def a(self):\n",
    "        r\"\"\"int: A positive number\n",
    "        \"\"\"\n",
    "        return self._a\n",
    "    \n",
    "    @a.setter\n",
    "    def a(self, val):\n",
    "        if val >= 0:\n",
    "            self._a = val\n",
    "        else:\n",
    "            raise ValueError(\"Expect a positive number.\")"
   ]
  },
  {
   "cell_type": "markdown",
   "metadata": {
    "slideshow": {
     "slide_type": "slide"
    }
   },
   "source": [
    "## Class methods"
   ]
  },
  {
   "cell_type": "markdown",
   "metadata": {
    "slideshow": {
     "slide_type": "subslide"
    }
   },
   "source": [
    "Class methods allow for example to implement more than one constructor."
   ]
  },
  {
   "cell_type": "code",
   "execution_count": 40,
   "metadata": {
    "slideshow": {
     "slide_type": "fragment"
    }
   },
   "outputs": [],
   "source": [
    "class A(object):\n",
    "    r\"\"\"A class with class method\n",
    "    \n",
    "    \"\"\"\n",
    "    def __init__(self, a, b):\n",
    "        self.a = a\n",
    "        self.b = b\n",
    "        \n",
    "    def __str__(self):\n",
    "        return \"a = {o.a}, b = {o.b}\".format(o=self)\n",
    "    \n",
    "    @classmethod\n",
    "    def from_tuple(cls, t):\n",
    "        return cls(t[0], t[1])"
   ]
  },
  {
   "cell_type": "code",
   "execution_count": 41,
   "metadata": {
    "slideshow": {
     "slide_type": "fragment"
    }
   },
   "outputs": [
    {
     "name": "stdout",
     "output_type": "stream",
     "text": [
      "a = 1.0, b = 2.0\n"
     ]
    }
   ],
   "source": [
    "a = A.from_tuple((1., 2.))\n",
    "print(a)"
   ]
  },
  {
   "cell_type": "markdown",
   "metadata": {
    "slideshow": {
     "slide_type": "slide"
    }
   },
   "source": [
    "## Static methods"
   ]
  },
  {
   "cell_type": "code",
   "execution_count": 42,
   "metadata": {
    "slideshow": {
     "slide_type": "subslide"
    }
   },
   "outputs": [],
   "source": [
    "class Angle(object):\n",
    "    r\"\"\"A class with a static method\n",
    "    \n",
    "    \"\"\"\n",
    "    def __init__(self, value=0.):\n",
    "        self.value = value\n",
    "    \n",
    "    @staticmethod\n",
    "    def deg2rad(angle):\n",
    "        return angle * np.pi / 180."
   ]
  },
  {
   "cell_type": "code",
   "execution_count": 43,
   "metadata": {
    "slideshow": {
     "slide_type": "fragment"
    }
   },
   "outputs": [
    {
     "name": "stdout",
     "output_type": "stream",
     "text": [
      "30deg = 0.52rad\n"
     ]
    }
   ],
   "source": [
    "print(\"30deg = {:.2f}rad\".format(Angle.deg2rad(30.)))"
   ]
  },
  {
   "cell_type": "code",
   "execution_count": 44,
   "metadata": {
    "slideshow": {
     "slide_type": "fragment"
    }
   },
   "outputs": [
    {
     "name": "stdout",
     "output_type": "stream",
     "text": [
      "30deg = 0.52rad\n"
     ]
    }
   ],
   "source": [
    "a = Angle()\n",
    "print(\"30deg = {:.2f}rad\".format(a.deg2rad(30.)))"
   ]
  },
  {
   "cell_type": "markdown",
   "metadata": {
    "slideshow": {
     "slide_type": "slide"
    }
   },
   "source": [
    "## PEP8 Coding style"
   ]
  },
  {
   "cell_type": "markdown",
   "metadata": {
    "slideshow": {
     "slide_type": "subslide"
    }
   },
   "source": [
    "Please stick to the 'official' style guide for Python code:  \n",
    "<https://www.python.org/dev/peps/pep-0008/>"
   ]
  },
  {
   "cell_type": "markdown",
   "metadata": {
    "slideshow": {
     "slide_type": "slide"
    }
   },
   "source": [
    "## NumPy"
   ]
  },
  {
   "cell_type": "markdown",
   "metadata": {
    "slideshow": {
     "slide_type": "subslide"
    }
   },
   "source": [
    "From the [NumPy webpage](http://www.numpy.org/):\n",
    "\n",
    "> NumPy is the fundamental package for scientific computing with Python.\n",
    "> It contains among other things:\n",
    ">\n",
    "> * a powerful N-dimensional array object\n",
    "> * sophisticated (broadcasting) functions\n",
    "> * tools for integrating C/C++ and Fortran code\n",
    "> * useful linear algebra, Fourier transform, and random number capabilities\n",
    ">\n",
    "> Besides its obvious scientific uses, NumPy can also be used as an efficient\n",
    "> multi-dimensional container of generic data. Arbitrary data-types can be defined.\n",
    "> This allows NumPy to seamlessly and speedily integrate with a wide variety of databases.\n",
    "\n",
    "NumPy tutorial (pay special attention to the section about broadcasting rules):  \n",
    "<https://docs.scipy.org/doc/numpy/user/quickstart.html>"
   ]
  },
  {
   "cell_type": "markdown",
   "metadata": {
    "slideshow": {
     "slide_type": "slide"
    }
   },
   "source": [
    "## Matplotlib"
   ]
  },
  {
   "cell_type": "markdown",
   "metadata": {
    "slideshow": {
     "slide_type": "subslide"
    }
   },
   "source": [
    "From the [Matplotlib webpage](https://matplotlib.org/):\n",
    "\n",
    "> Matplotlib is a Python 2D plotting library which produces publication quality figures\n",
    "> in a variety of hardcopy formats and interactive environments across platforms."
   ]
  },
  {
   "cell_type": "code",
   "execution_count": 45,
   "metadata": {
    "slideshow": {
     "slide_type": "fragment"
    }
   },
   "outputs": [],
   "source": [
    "# Call this magic function in the first line of your Jupyter notebook:\n",
    "# %matplotlib notebook"
   ]
  },
  {
   "cell_type": "code",
   "execution_count": 46,
   "metadata": {
    "slideshow": {
     "slide_type": "fragment"
    }
   },
   "outputs": [],
   "source": [
    "# Change the plotting style.\n",
    "# You can also define your own style sheets.\n",
    "matplotlib.style.use([\"seaborn-notebook\", \"seaborn-ticks\"])"
   ]
  },
  {
   "cell_type": "code",
   "execution_count": 47,
   "metadata": {
    "slideshow": {
     "slide_type": "subslide"
    }
   },
   "outputs": [
    {
     "data": {
      "application/javascript": [
       "/* Put everything inside the global mpl namespace */\n",
       "window.mpl = {};\n",
       "\n",
       "\n",
       "mpl.get_websocket_type = function() {\n",
       "    if (typeof(WebSocket) !== 'undefined') {\n",
       "        return WebSocket;\n",
       "    } else if (typeof(MozWebSocket) !== 'undefined') {\n",
       "        return MozWebSocket;\n",
       "    } else {\n",
       "        alert('Your browser does not have WebSocket support.' +\n",
       "              'Please try Chrome, Safari or Firefox ≥ 6. ' +\n",
       "              'Firefox 4 and 5 are also supported but you ' +\n",
       "              'have to enable WebSockets in about:config.');\n",
       "    };\n",
       "}\n",
       "\n",
       "mpl.figure = function(figure_id, websocket, ondownload, parent_element) {\n",
       "    this.id = figure_id;\n",
       "\n",
       "    this.ws = websocket;\n",
       "\n",
       "    this.supports_binary = (this.ws.binaryType != undefined);\n",
       "\n",
       "    if (!this.supports_binary) {\n",
       "        var warnings = document.getElementById(\"mpl-warnings\");\n",
       "        if (warnings) {\n",
       "            warnings.style.display = 'block';\n",
       "            warnings.textContent = (\n",
       "                \"This browser does not support binary websocket messages. \" +\n",
       "                    \"Performance may be slow.\");\n",
       "        }\n",
       "    }\n",
       "\n",
       "    this.imageObj = new Image();\n",
       "\n",
       "    this.context = undefined;\n",
       "    this.message = undefined;\n",
       "    this.canvas = undefined;\n",
       "    this.rubberband_canvas = undefined;\n",
       "    this.rubberband_context = undefined;\n",
       "    this.format_dropdown = undefined;\n",
       "\n",
       "    this.image_mode = 'full';\n",
       "\n",
       "    this.root = $('<div/>');\n",
       "    this._root_extra_style(this.root)\n",
       "    this.root.attr('style', 'display: inline-block');\n",
       "\n",
       "    $(parent_element).append(this.root);\n",
       "\n",
       "    this._init_header(this);\n",
       "    this._init_canvas(this);\n",
       "    this._init_toolbar(this);\n",
       "\n",
       "    var fig = this;\n",
       "\n",
       "    this.waiting = false;\n",
       "\n",
       "    this.ws.onopen =  function () {\n",
       "            fig.send_message(\"supports_binary\", {value: fig.supports_binary});\n",
       "            fig.send_message(\"send_image_mode\", {});\n",
       "            if (mpl.ratio != 1) {\n",
       "                fig.send_message(\"set_dpi_ratio\", {'dpi_ratio': mpl.ratio});\n",
       "            }\n",
       "            fig.send_message(\"refresh\", {});\n",
       "        }\n",
       "\n",
       "    this.imageObj.onload = function() {\n",
       "            if (fig.image_mode == 'full') {\n",
       "                // Full images could contain transparency (where diff images\n",
       "                // almost always do), so we need to clear the canvas so that\n",
       "                // there is no ghosting.\n",
       "                fig.context.clearRect(0, 0, fig.canvas.width, fig.canvas.height);\n",
       "            }\n",
       "            fig.context.drawImage(fig.imageObj, 0, 0);\n",
       "        };\n",
       "\n",
       "    this.imageObj.onunload = function() {\n",
       "        fig.ws.close();\n",
       "    }\n",
       "\n",
       "    this.ws.onmessage = this._make_on_message_function(this);\n",
       "\n",
       "    this.ondownload = ondownload;\n",
       "}\n",
       "\n",
       "mpl.figure.prototype._init_header = function() {\n",
       "    var titlebar = $(\n",
       "        '<div class=\"ui-dialog-titlebar ui-widget-header ui-corner-all ' +\n",
       "        'ui-helper-clearfix\"/>');\n",
       "    var titletext = $(\n",
       "        '<div class=\"ui-dialog-title\" style=\"width: 100%; ' +\n",
       "        'text-align: center; padding: 3px;\"/>');\n",
       "    titlebar.append(titletext)\n",
       "    this.root.append(titlebar);\n",
       "    this.header = titletext[0];\n",
       "}\n",
       "\n",
       "\n",
       "\n",
       "mpl.figure.prototype._canvas_extra_style = function(canvas_div) {\n",
       "\n",
       "}\n",
       "\n",
       "\n",
       "mpl.figure.prototype._root_extra_style = function(canvas_div) {\n",
       "\n",
       "}\n",
       "\n",
       "mpl.figure.prototype._init_canvas = function() {\n",
       "    var fig = this;\n",
       "\n",
       "    var canvas_div = $('<div/>');\n",
       "\n",
       "    canvas_div.attr('style', 'position: relative; clear: both; outline: 0');\n",
       "\n",
       "    function canvas_keyboard_event(event) {\n",
       "        return fig.key_event(event, event['data']);\n",
       "    }\n",
       "\n",
       "    canvas_div.keydown('key_press', canvas_keyboard_event);\n",
       "    canvas_div.keyup('key_release', canvas_keyboard_event);\n",
       "    this.canvas_div = canvas_div\n",
       "    this._canvas_extra_style(canvas_div)\n",
       "    this.root.append(canvas_div);\n",
       "\n",
       "    var canvas = $('<canvas/>');\n",
       "    canvas.addClass('mpl-canvas');\n",
       "    canvas.attr('style', \"left: 0; top: 0; z-index: 0; outline: 0\")\n",
       "\n",
       "    this.canvas = canvas[0];\n",
       "    this.context = canvas[0].getContext(\"2d\");\n",
       "\n",
       "    var backingStore = this.context.backingStorePixelRatio ||\n",
       "\tthis.context.webkitBackingStorePixelRatio ||\n",
       "\tthis.context.mozBackingStorePixelRatio ||\n",
       "\tthis.context.msBackingStorePixelRatio ||\n",
       "\tthis.context.oBackingStorePixelRatio ||\n",
       "\tthis.context.backingStorePixelRatio || 1;\n",
       "\n",
       "    mpl.ratio = (window.devicePixelRatio || 1) / backingStore;\n",
       "\n",
       "    var rubberband = $('<canvas/>');\n",
       "    rubberband.attr('style', \"position: absolute; left: 0; top: 0; z-index: 1;\")\n",
       "\n",
       "    var pass_mouse_events = true;\n",
       "\n",
       "    canvas_div.resizable({\n",
       "        start: function(event, ui) {\n",
       "            pass_mouse_events = false;\n",
       "        },\n",
       "        resize: function(event, ui) {\n",
       "            fig.request_resize(ui.size.width, ui.size.height);\n",
       "        },\n",
       "        stop: function(event, ui) {\n",
       "            pass_mouse_events = true;\n",
       "            fig.request_resize(ui.size.width, ui.size.height);\n",
       "        },\n",
       "    });\n",
       "\n",
       "    function mouse_event_fn(event) {\n",
       "        if (pass_mouse_events)\n",
       "            return fig.mouse_event(event, event['data']);\n",
       "    }\n",
       "\n",
       "    rubberband.mousedown('button_press', mouse_event_fn);\n",
       "    rubberband.mouseup('button_release', mouse_event_fn);\n",
       "    // Throttle sequential mouse events to 1 every 20ms.\n",
       "    rubberband.mousemove('motion_notify', mouse_event_fn);\n",
       "\n",
       "    rubberband.mouseenter('figure_enter', mouse_event_fn);\n",
       "    rubberband.mouseleave('figure_leave', mouse_event_fn);\n",
       "\n",
       "    canvas_div.on(\"wheel\", function (event) {\n",
       "        event = event.originalEvent;\n",
       "        event['data'] = 'scroll'\n",
       "        if (event.deltaY < 0) {\n",
       "            event.step = 1;\n",
       "        } else {\n",
       "            event.step = -1;\n",
       "        }\n",
       "        mouse_event_fn(event);\n",
       "    });\n",
       "\n",
       "    canvas_div.append(canvas);\n",
       "    canvas_div.append(rubberband);\n",
       "\n",
       "    this.rubberband = rubberband;\n",
       "    this.rubberband_canvas = rubberband[0];\n",
       "    this.rubberband_context = rubberband[0].getContext(\"2d\");\n",
       "    this.rubberband_context.strokeStyle = \"#000000\";\n",
       "\n",
       "    this._resize_canvas = function(width, height) {\n",
       "        // Keep the size of the canvas, canvas container, and rubber band\n",
       "        // canvas in synch.\n",
       "        canvas_div.css('width', width)\n",
       "        canvas_div.css('height', height)\n",
       "\n",
       "        canvas.attr('width', width * mpl.ratio);\n",
       "        canvas.attr('height', height * mpl.ratio);\n",
       "        canvas.attr('style', 'width: ' + width + 'px; height: ' + height + 'px;');\n",
       "\n",
       "        rubberband.attr('width', width);\n",
       "        rubberband.attr('height', height);\n",
       "    }\n",
       "\n",
       "    // Set the figure to an initial 600x600px, this will subsequently be updated\n",
       "    // upon first draw.\n",
       "    this._resize_canvas(600, 600);\n",
       "\n",
       "    // Disable right mouse context menu.\n",
       "    $(this.rubberband_canvas).bind(\"contextmenu\",function(e){\n",
       "        return false;\n",
       "    });\n",
       "\n",
       "    function set_focus () {\n",
       "        canvas.focus();\n",
       "        canvas_div.focus();\n",
       "    }\n",
       "\n",
       "    window.setTimeout(set_focus, 100);\n",
       "}\n",
       "\n",
       "mpl.figure.prototype._init_toolbar = function() {\n",
       "    var fig = this;\n",
       "\n",
       "    var nav_element = $('<div/>')\n",
       "    nav_element.attr('style', 'width: 100%');\n",
       "    this.root.append(nav_element);\n",
       "\n",
       "    // Define a callback function for later on.\n",
       "    function toolbar_event(event) {\n",
       "        return fig.toolbar_button_onclick(event['data']);\n",
       "    }\n",
       "    function toolbar_mouse_event(event) {\n",
       "        return fig.toolbar_button_onmouseover(event['data']);\n",
       "    }\n",
       "\n",
       "    for(var toolbar_ind in mpl.toolbar_items) {\n",
       "        var name = mpl.toolbar_items[toolbar_ind][0];\n",
       "        var tooltip = mpl.toolbar_items[toolbar_ind][1];\n",
       "        var image = mpl.toolbar_items[toolbar_ind][2];\n",
       "        var method_name = mpl.toolbar_items[toolbar_ind][3];\n",
       "\n",
       "        if (!name) {\n",
       "            // put a spacer in here.\n",
       "            continue;\n",
       "        }\n",
       "        var button = $('<button/>');\n",
       "        button.addClass('ui-button ui-widget ui-state-default ui-corner-all ' +\n",
       "                        'ui-button-icon-only');\n",
       "        button.attr('role', 'button');\n",
       "        button.attr('aria-disabled', 'false');\n",
       "        button.click(method_name, toolbar_event);\n",
       "        button.mouseover(tooltip, toolbar_mouse_event);\n",
       "\n",
       "        var icon_img = $('<span/>');\n",
       "        icon_img.addClass('ui-button-icon-primary ui-icon');\n",
       "        icon_img.addClass(image);\n",
       "        icon_img.addClass('ui-corner-all');\n",
       "\n",
       "        var tooltip_span = $('<span/>');\n",
       "        tooltip_span.addClass('ui-button-text');\n",
       "        tooltip_span.html(tooltip);\n",
       "\n",
       "        button.append(icon_img);\n",
       "        button.append(tooltip_span);\n",
       "\n",
       "        nav_element.append(button);\n",
       "    }\n",
       "\n",
       "    var fmt_picker_span = $('<span/>');\n",
       "\n",
       "    var fmt_picker = $('<select/>');\n",
       "    fmt_picker.addClass('mpl-toolbar-option ui-widget ui-widget-content');\n",
       "    fmt_picker_span.append(fmt_picker);\n",
       "    nav_element.append(fmt_picker_span);\n",
       "    this.format_dropdown = fmt_picker[0];\n",
       "\n",
       "    for (var ind in mpl.extensions) {\n",
       "        var fmt = mpl.extensions[ind];\n",
       "        var option = $(\n",
       "            '<option/>', {selected: fmt === mpl.default_extension}).html(fmt);\n",
       "        fmt_picker.append(option)\n",
       "    }\n",
       "\n",
       "    // Add hover states to the ui-buttons\n",
       "    $( \".ui-button\" ).hover(\n",
       "        function() { $(this).addClass(\"ui-state-hover\");},\n",
       "        function() { $(this).removeClass(\"ui-state-hover\");}\n",
       "    );\n",
       "\n",
       "    var status_bar = $('<span class=\"mpl-message\"/>');\n",
       "    nav_element.append(status_bar);\n",
       "    this.message = status_bar[0];\n",
       "}\n",
       "\n",
       "mpl.figure.prototype.request_resize = function(x_pixels, y_pixels) {\n",
       "    // Request matplotlib to resize the figure. Matplotlib will then trigger a resize in the client,\n",
       "    // which will in turn request a refresh of the image.\n",
       "    this.send_message('resize', {'width': x_pixels, 'height': y_pixels});\n",
       "}\n",
       "\n",
       "mpl.figure.prototype.send_message = function(type, properties) {\n",
       "    properties['type'] = type;\n",
       "    properties['figure_id'] = this.id;\n",
       "    this.ws.send(JSON.stringify(properties));\n",
       "}\n",
       "\n",
       "mpl.figure.prototype.send_draw_message = function() {\n",
       "    if (!this.waiting) {\n",
       "        this.waiting = true;\n",
       "        this.ws.send(JSON.stringify({type: \"draw\", figure_id: this.id}));\n",
       "    }\n",
       "}\n",
       "\n",
       "\n",
       "mpl.figure.prototype.handle_save = function(fig, msg) {\n",
       "    var format_dropdown = fig.format_dropdown;\n",
       "    var format = format_dropdown.options[format_dropdown.selectedIndex].value;\n",
       "    fig.ondownload(fig, format);\n",
       "}\n",
       "\n",
       "\n",
       "mpl.figure.prototype.handle_resize = function(fig, msg) {\n",
       "    var size = msg['size'];\n",
       "    if (size[0] != fig.canvas.width || size[1] != fig.canvas.height) {\n",
       "        fig._resize_canvas(size[0], size[1]);\n",
       "        fig.send_message(\"refresh\", {});\n",
       "    };\n",
       "}\n",
       "\n",
       "mpl.figure.prototype.handle_rubberband = function(fig, msg) {\n",
       "    var x0 = msg['x0'] / mpl.ratio;\n",
       "    var y0 = (fig.canvas.height - msg['y0']) / mpl.ratio;\n",
       "    var x1 = msg['x1'] / mpl.ratio;\n",
       "    var y1 = (fig.canvas.height - msg['y1']) / mpl.ratio;\n",
       "    x0 = Math.floor(x0) + 0.5;\n",
       "    y0 = Math.floor(y0) + 0.5;\n",
       "    x1 = Math.floor(x1) + 0.5;\n",
       "    y1 = Math.floor(y1) + 0.5;\n",
       "    var min_x = Math.min(x0, x1);\n",
       "    var min_y = Math.min(y0, y1);\n",
       "    var width = Math.abs(x1 - x0);\n",
       "    var height = Math.abs(y1 - y0);\n",
       "\n",
       "    fig.rubberband_context.clearRect(\n",
       "        0, 0, fig.canvas.width, fig.canvas.height);\n",
       "\n",
       "    fig.rubberband_context.strokeRect(min_x, min_y, width, height);\n",
       "}\n",
       "\n",
       "mpl.figure.prototype.handle_figure_label = function(fig, msg) {\n",
       "    // Updates the figure title.\n",
       "    fig.header.textContent = msg['label'];\n",
       "}\n",
       "\n",
       "mpl.figure.prototype.handle_cursor = function(fig, msg) {\n",
       "    var cursor = msg['cursor'];\n",
       "    switch(cursor)\n",
       "    {\n",
       "    case 0:\n",
       "        cursor = 'pointer';\n",
       "        break;\n",
       "    case 1:\n",
       "        cursor = 'default';\n",
       "        break;\n",
       "    case 2:\n",
       "        cursor = 'crosshair';\n",
       "        break;\n",
       "    case 3:\n",
       "        cursor = 'move';\n",
       "        break;\n",
       "    }\n",
       "    fig.rubberband_canvas.style.cursor = cursor;\n",
       "}\n",
       "\n",
       "mpl.figure.prototype.handle_message = function(fig, msg) {\n",
       "    fig.message.textContent = msg['message'];\n",
       "}\n",
       "\n",
       "mpl.figure.prototype.handle_draw = function(fig, msg) {\n",
       "    // Request the server to send over a new figure.\n",
       "    fig.send_draw_message();\n",
       "}\n",
       "\n",
       "mpl.figure.prototype.handle_image_mode = function(fig, msg) {\n",
       "    fig.image_mode = msg['mode'];\n",
       "}\n",
       "\n",
       "mpl.figure.prototype.updated_canvas_event = function() {\n",
       "    // Called whenever the canvas gets updated.\n",
       "    this.send_message(\"ack\", {});\n",
       "}\n",
       "\n",
       "// A function to construct a web socket function for onmessage handling.\n",
       "// Called in the figure constructor.\n",
       "mpl.figure.prototype._make_on_message_function = function(fig) {\n",
       "    return function socket_on_message(evt) {\n",
       "        if (evt.data instanceof Blob) {\n",
       "            /* FIXME: We get \"Resource interpreted as Image but\n",
       "             * transferred with MIME type text/plain:\" errors on\n",
       "             * Chrome.  But how to set the MIME type?  It doesn't seem\n",
       "             * to be part of the websocket stream */\n",
       "            evt.data.type = \"image/png\";\n",
       "\n",
       "            /* Free the memory for the previous frames */\n",
       "            if (fig.imageObj.src) {\n",
       "                (window.URL || window.webkitURL).revokeObjectURL(\n",
       "                    fig.imageObj.src);\n",
       "            }\n",
       "\n",
       "            fig.imageObj.src = (window.URL || window.webkitURL).createObjectURL(\n",
       "                evt.data);\n",
       "            fig.updated_canvas_event();\n",
       "            fig.waiting = false;\n",
       "            return;\n",
       "        }\n",
       "        else if (typeof evt.data === 'string' && evt.data.slice(0, 21) == \"data:image/png;base64\") {\n",
       "            fig.imageObj.src = evt.data;\n",
       "            fig.updated_canvas_event();\n",
       "            fig.waiting = false;\n",
       "            return;\n",
       "        }\n",
       "\n",
       "        var msg = JSON.parse(evt.data);\n",
       "        var msg_type = msg['type'];\n",
       "\n",
       "        // Call the  \"handle_{type}\" callback, which takes\n",
       "        // the figure and JSON message as its only arguments.\n",
       "        try {\n",
       "            var callback = fig[\"handle_\" + msg_type];\n",
       "        } catch (e) {\n",
       "            console.log(\"No handler for the '\" + msg_type + \"' message type: \", msg);\n",
       "            return;\n",
       "        }\n",
       "\n",
       "        if (callback) {\n",
       "            try {\n",
       "                // console.log(\"Handling '\" + msg_type + \"' message: \", msg);\n",
       "                callback(fig, msg);\n",
       "            } catch (e) {\n",
       "                console.log(\"Exception inside the 'handler_\" + msg_type + \"' callback:\", e, e.stack, msg);\n",
       "            }\n",
       "        }\n",
       "    };\n",
       "}\n",
       "\n",
       "// from http://stackoverflow.com/questions/1114465/getting-mouse-location-in-canvas\n",
       "mpl.findpos = function(e) {\n",
       "    //this section is from http://www.quirksmode.org/js/events_properties.html\n",
       "    var targ;\n",
       "    if (!e)\n",
       "        e = window.event;\n",
       "    if (e.target)\n",
       "        targ = e.target;\n",
       "    else if (e.srcElement)\n",
       "        targ = e.srcElement;\n",
       "    if (targ.nodeType == 3) // defeat Safari bug\n",
       "        targ = targ.parentNode;\n",
       "\n",
       "    // jQuery normalizes the pageX and pageY\n",
       "    // pageX,Y are the mouse positions relative to the document\n",
       "    // offset() returns the position of the element relative to the document\n",
       "    var x = e.pageX - $(targ).offset().left;\n",
       "    var y = e.pageY - $(targ).offset().top;\n",
       "\n",
       "    return {\"x\": x, \"y\": y};\n",
       "};\n",
       "\n",
       "/*\n",
       " * return a copy of an object with only non-object keys\n",
       " * we need this to avoid circular references\n",
       " * http://stackoverflow.com/a/24161582/3208463\n",
       " */\n",
       "function simpleKeys (original) {\n",
       "  return Object.keys(original).reduce(function (obj, key) {\n",
       "    if (typeof original[key] !== 'object')\n",
       "        obj[key] = original[key]\n",
       "    return obj;\n",
       "  }, {});\n",
       "}\n",
       "\n",
       "mpl.figure.prototype.mouse_event = function(event, name) {\n",
       "    var canvas_pos = mpl.findpos(event)\n",
       "\n",
       "    if (name === 'button_press')\n",
       "    {\n",
       "        this.canvas.focus();\n",
       "        this.canvas_div.focus();\n",
       "    }\n",
       "\n",
       "    var x = canvas_pos.x * mpl.ratio;\n",
       "    var y = canvas_pos.y * mpl.ratio;\n",
       "\n",
       "    this.send_message(name, {x: x, y: y, button: event.button,\n",
       "                             step: event.step,\n",
       "                             guiEvent: simpleKeys(event)});\n",
       "\n",
       "    /* This prevents the web browser from automatically changing to\n",
       "     * the text insertion cursor when the button is pressed.  We want\n",
       "     * to control all of the cursor setting manually through the\n",
       "     * 'cursor' event from matplotlib */\n",
       "    event.preventDefault();\n",
       "    return false;\n",
       "}\n",
       "\n",
       "mpl.figure.prototype._key_event_extra = function(event, name) {\n",
       "    // Handle any extra behaviour associated with a key event\n",
       "}\n",
       "\n",
       "mpl.figure.prototype.key_event = function(event, name) {\n",
       "\n",
       "    // Prevent repeat events\n",
       "    if (name == 'key_press')\n",
       "    {\n",
       "        if (event.which === this._key)\n",
       "            return;\n",
       "        else\n",
       "            this._key = event.which;\n",
       "    }\n",
       "    if (name == 'key_release')\n",
       "        this._key = null;\n",
       "\n",
       "    var value = '';\n",
       "    if (event.ctrlKey && event.which != 17)\n",
       "        value += \"ctrl+\";\n",
       "    if (event.altKey && event.which != 18)\n",
       "        value += \"alt+\";\n",
       "    if (event.shiftKey && event.which != 16)\n",
       "        value += \"shift+\";\n",
       "\n",
       "    value += 'k';\n",
       "    value += event.which.toString();\n",
       "\n",
       "    this._key_event_extra(event, name);\n",
       "\n",
       "    this.send_message(name, {key: value,\n",
       "                             guiEvent: simpleKeys(event)});\n",
       "    return false;\n",
       "}\n",
       "\n",
       "mpl.figure.prototype.toolbar_button_onclick = function(name) {\n",
       "    if (name == 'download') {\n",
       "        this.handle_save(this, null);\n",
       "    } else {\n",
       "        this.send_message(\"toolbar_button\", {name: name});\n",
       "    }\n",
       "};\n",
       "\n",
       "mpl.figure.prototype.toolbar_button_onmouseover = function(tooltip) {\n",
       "    this.message.textContent = tooltip;\n",
       "};\n",
       "mpl.toolbar_items = [[\"Home\", \"Reset original view\", \"fa fa-home icon-home\", \"home\"], [\"Back\", \"Back to  previous view\", \"fa fa-arrow-left icon-arrow-left\", \"back\"], [\"Forward\", \"Forward to next view\", \"fa fa-arrow-right icon-arrow-right\", \"forward\"], [\"\", \"\", \"\", \"\"], [\"Pan\", \"Pan axes with left mouse, zoom with right\", \"fa fa-arrows icon-move\", \"pan\"], [\"Zoom\", \"Zoom to rectangle\", \"fa fa-square-o icon-check-empty\", \"zoom\"], [\"\", \"\", \"\", \"\"], [\"Download\", \"Download plot\", \"fa fa-floppy-o icon-save\", \"download\"]];\n",
       "\n",
       "mpl.extensions = [\"eps\", \"jpeg\", \"pdf\", \"png\", \"ps\", \"raw\", \"svg\", \"tif\"];\n",
       "\n",
       "mpl.default_extension = \"png\";var comm_websocket_adapter = function(comm) {\n",
       "    // Create a \"websocket\"-like object which calls the given IPython comm\n",
       "    // object with the appropriate methods. Currently this is a non binary\n",
       "    // socket, so there is still some room for performance tuning.\n",
       "    var ws = {};\n",
       "\n",
       "    ws.close = function() {\n",
       "        comm.close()\n",
       "    };\n",
       "    ws.send = function(m) {\n",
       "        //console.log('sending', m);\n",
       "        comm.send(m);\n",
       "    };\n",
       "    // Register the callback with on_msg.\n",
       "    comm.on_msg(function(msg) {\n",
       "        //console.log('receiving', msg['content']['data'], msg);\n",
       "        // Pass the mpl event to the overriden (by mpl) onmessage function.\n",
       "        ws.onmessage(msg['content']['data'])\n",
       "    });\n",
       "    return ws;\n",
       "}\n",
       "\n",
       "mpl.mpl_figure_comm = function(comm, msg) {\n",
       "    // This is the function which gets called when the mpl process\n",
       "    // starts-up an IPython Comm through the \"matplotlib\" channel.\n",
       "\n",
       "    var id = msg.content.data.id;\n",
       "    // Get hold of the div created by the display call when the Comm\n",
       "    // socket was opened in Python.\n",
       "    var element = $(\"#\" + id);\n",
       "    var ws_proxy = comm_websocket_adapter(comm)\n",
       "\n",
       "    function ondownload(figure, format) {\n",
       "        window.open(figure.imageObj.src);\n",
       "    }\n",
       "\n",
       "    var fig = new mpl.figure(id, ws_proxy,\n",
       "                           ondownload,\n",
       "                           element.get(0));\n",
       "\n",
       "    // Call onopen now - mpl needs it, as it is assuming we've passed it a real\n",
       "    // web socket which is closed, not our websocket->open comm proxy.\n",
       "    ws_proxy.onopen();\n",
       "\n",
       "    fig.parent_element = element.get(0);\n",
       "    fig.cell_info = mpl.find_output_cell(\"<div id='\" + id + \"'></div>\");\n",
       "    if (!fig.cell_info) {\n",
       "        console.error(\"Failed to find cell for figure\", id, fig);\n",
       "        return;\n",
       "    }\n",
       "\n",
       "    var output_index = fig.cell_info[2]\n",
       "    var cell = fig.cell_info[0];\n",
       "\n",
       "};\n",
       "\n",
       "mpl.figure.prototype.handle_close = function(fig, msg) {\n",
       "    var width = fig.canvas.width/mpl.ratio\n",
       "    fig.root.unbind('remove')\n",
       "\n",
       "    // Update the output cell to use the data from the current canvas.\n",
       "    fig.push_to_output();\n",
       "    var dataURL = fig.canvas.toDataURL();\n",
       "    // Re-enable the keyboard manager in IPython - without this line, in FF,\n",
       "    // the notebook keyboard shortcuts fail.\n",
       "    IPython.keyboard_manager.enable()\n",
       "    $(fig.parent_element).html('<img src=\"' + dataURL + '\" width=\"' + width + '\">');\n",
       "    fig.close_ws(fig, msg);\n",
       "}\n",
       "\n",
       "mpl.figure.prototype.close_ws = function(fig, msg){\n",
       "    fig.send_message('closing', msg);\n",
       "    // fig.ws.close()\n",
       "}\n",
       "\n",
       "mpl.figure.prototype.push_to_output = function(remove_interactive) {\n",
       "    // Turn the data on the canvas into data in the output cell.\n",
       "    var width = this.canvas.width/mpl.ratio\n",
       "    var dataURL = this.canvas.toDataURL();\n",
       "    this.cell_info[1]['text/html'] = '<img src=\"' + dataURL + '\" width=\"' + width + '\">';\n",
       "}\n",
       "\n",
       "mpl.figure.prototype.updated_canvas_event = function() {\n",
       "    // Tell IPython that the notebook contents must change.\n",
       "    IPython.notebook.set_dirty(true);\n",
       "    this.send_message(\"ack\", {});\n",
       "    var fig = this;\n",
       "    // Wait a second, then push the new image to the DOM so\n",
       "    // that it is saved nicely (might be nice to debounce this).\n",
       "    setTimeout(function () { fig.push_to_output() }, 1000);\n",
       "}\n",
       "\n",
       "mpl.figure.prototype._init_toolbar = function() {\n",
       "    var fig = this;\n",
       "\n",
       "    var nav_element = $('<div/>')\n",
       "    nav_element.attr('style', 'width: 100%');\n",
       "    this.root.append(nav_element);\n",
       "\n",
       "    // Define a callback function for later on.\n",
       "    function toolbar_event(event) {\n",
       "        return fig.toolbar_button_onclick(event['data']);\n",
       "    }\n",
       "    function toolbar_mouse_event(event) {\n",
       "        return fig.toolbar_button_onmouseover(event['data']);\n",
       "    }\n",
       "\n",
       "    for(var toolbar_ind in mpl.toolbar_items){\n",
       "        var name = mpl.toolbar_items[toolbar_ind][0];\n",
       "        var tooltip = mpl.toolbar_items[toolbar_ind][1];\n",
       "        var image = mpl.toolbar_items[toolbar_ind][2];\n",
       "        var method_name = mpl.toolbar_items[toolbar_ind][3];\n",
       "\n",
       "        if (!name) { continue; };\n",
       "\n",
       "        var button = $('<button class=\"btn btn-default\" href=\"#\" title=\"' + name + '\"><i class=\"fa ' + image + ' fa-lg\"></i></button>');\n",
       "        button.click(method_name, toolbar_event);\n",
       "        button.mouseover(tooltip, toolbar_mouse_event);\n",
       "        nav_element.append(button);\n",
       "    }\n",
       "\n",
       "    // Add the status bar.\n",
       "    var status_bar = $('<span class=\"mpl-message\" style=\"text-align:right; float: right;\"/>');\n",
       "    nav_element.append(status_bar);\n",
       "    this.message = status_bar[0];\n",
       "\n",
       "    // Add the close button to the window.\n",
       "    var buttongrp = $('<div class=\"btn-group inline pull-right\"></div>');\n",
       "    var button = $('<button class=\"btn btn-mini btn-primary\" href=\"#\" title=\"Stop Interaction\"><i class=\"fa fa-power-off icon-remove icon-large\"></i></button>');\n",
       "    button.click(function (evt) { fig.handle_close(fig, {}); } );\n",
       "    button.mouseover('Stop Interaction', toolbar_mouse_event);\n",
       "    buttongrp.append(button);\n",
       "    var titlebar = this.root.find($('.ui-dialog-titlebar'));\n",
       "    titlebar.prepend(buttongrp);\n",
       "}\n",
       "\n",
       "mpl.figure.prototype._root_extra_style = function(el){\n",
       "    var fig = this\n",
       "    el.on(\"remove\", function(){\n",
       "\tfig.close_ws(fig, {});\n",
       "    });\n",
       "}\n",
       "\n",
       "mpl.figure.prototype._canvas_extra_style = function(el){\n",
       "    // this is important to make the div 'focusable\n",
       "    el.attr('tabindex', 0)\n",
       "    // reach out to IPython and tell the keyboard manager to turn it's self\n",
       "    // off when our div gets focus\n",
       "\n",
       "    // location in version 3\n",
       "    if (IPython.notebook.keyboard_manager) {\n",
       "        IPython.notebook.keyboard_manager.register_events(el);\n",
       "    }\n",
       "    else {\n",
       "        // location in version 2\n",
       "        IPython.keyboard_manager.register_events(el);\n",
       "    }\n",
       "\n",
       "}\n",
       "\n",
       "mpl.figure.prototype._key_event_extra = function(event, name) {\n",
       "    var manager = IPython.notebook.keyboard_manager;\n",
       "    if (!manager)\n",
       "        manager = IPython.keyboard_manager;\n",
       "\n",
       "    // Check for shift+enter\n",
       "    if (event.shiftKey && event.which == 13) {\n",
       "        this.canvas_div.blur();\n",
       "        event.shiftKey = false;\n",
       "        // Send a \"J\" for go to next cell\n",
       "        event.which = 74;\n",
       "        event.keyCode = 74;\n",
       "        manager.command_mode();\n",
       "        manager.handle_keydown(event);\n",
       "    }\n",
       "}\n",
       "\n",
       "mpl.figure.prototype.handle_save = function(fig, msg) {\n",
       "    fig.ondownload(fig, null);\n",
       "}\n",
       "\n",
       "\n",
       "mpl.find_output_cell = function(html_output) {\n",
       "    // Return the cell and output element which can be found *uniquely* in the notebook.\n",
       "    // Note - this is a bit hacky, but it is done because the \"notebook_saving.Notebook\"\n",
       "    // IPython event is triggered only after the cells have been serialised, which for\n",
       "    // our purposes (turning an active figure into a static one), is too late.\n",
       "    var cells = IPython.notebook.get_cells();\n",
       "    var ncells = cells.length;\n",
       "    for (var i=0; i<ncells; i++) {\n",
       "        var cell = cells[i];\n",
       "        if (cell.cell_type === 'code'){\n",
       "            for (var j=0; j<cell.output_area.outputs.length; j++) {\n",
       "                var data = cell.output_area.outputs[j];\n",
       "                if (data.data) {\n",
       "                    // IPython >= 3 moved mimebundle to data attribute of output\n",
       "                    data = data.data;\n",
       "                }\n",
       "                if (data['text/html'] == html_output) {\n",
       "                    return [cell, data, j];\n",
       "                }\n",
       "            }\n",
       "        }\n",
       "    }\n",
       "}\n",
       "\n",
       "// Register the function which deals with the matplotlib target/channel.\n",
       "// The kernel may be null if the page has been refreshed.\n",
       "if (IPython.notebook.kernel != null) {\n",
       "    IPython.notebook.kernel.comm_manager.register_target('matplotlib', mpl.mpl_figure_comm);\n",
       "}\n"
      ],
      "text/plain": [
       "<IPython.core.display.Javascript object>"
      ]
     },
     "metadata": {},
     "output_type": "display_data"
    },
    {
     "data": {
      "text/html": [
       "<img src=\"data:image/png;base64,iVBORw0KGgoAAAANSUhEUgAAAyAAAAImCAYAAACrXu7BAAAgAElEQVR4nOzdeXgc1Z3vf2Xm97tz752Ze+fOhJtnAknJUp0DxgZrwBCxxyyBBMgyhBAGQpJhwBkIJIFJyvuCl2CDIWACOOwOm21WpyTLli3v8m7Li7zvq2zJslZLanX39/4hudwWsiXZ3Tp9ut+v56knQepWfyy3pfrUt6pORgYAAAAAAAAAAAAAAAAAAAAAAAAAAAAAAAAAAAAAAAAAAAAAAAAAAAAAAAAAAAAAAAAAAAAAAAAAAAAAAAAAAAAAAAAAAAAAAAAAAIgL13VvVUod1lp/2MFDv+S67hilVJlS6rjWerbjOD26JSQAAAAA+ymlfqe13qK1XtRRAXFd9zda64NKqRzXdf+XUmqS1nptRkbGl7opLgAAAACbKaUez8rK+t9Kqbc7KiBKqVLXdX994r/PO++8v9Nah7Kzs69OfFIAAAAAKaOjApKZmfnflVJRrfV1bZ63USn1WOITAgAAAEgZHRUQrfX5WmtxXbdXm48vUko91dnXcRznn13Xvay9TWtdq5Rq1FrvZGNjY2NjY2NjY7NpU0o1KKWqzmWfPK2cSwHRWo/s7OtorUdoreV024UXXig33ngjG1u3bf363Si5194gl+VeJ72vuEb0v1wlKic3IdtFl10ll155jfS96jq55vpvGv+zs7GxsbGxscVv69mzpyilGs5lnzytdFRAXNf9G6VURCl1fezHtdabXdd9tLOvc6YJiFJq/w033CBAolXWNcnUFXvl399aLmpwvjie3+528dAZcvcrxfLElBIZOb1Uni/cIm8u2ikfrdwnhaVlsnRHhSzaVi756w7KB8v2yKT522V8wSYZ8ul6eeS9VXLzhHnSY0D7X9vxfLlyTKEM/Wy9LN5WLs3hiOlvCwAAOAc33nijaK13nss+eVrp5EXoJa7r/ubEf19wwQX/qJQKZ2VlXRGPDFrrnTfeeKPp9w5S1JGaRpm8ZLfc99pSyRqY94UykDNyptz/+lL5ff4mmV5yQHaW10kkEj3n1z3eFJZVeypl8pLd4n20Vu54caG4g9p//d9OK5E5m8okRBkBAMA6FJAuaq+AtJ52tfnEWh9Kqf5a60Na6z6td856Vym1NF4ZKCBIhI0Hq+WJKSXt7vRfP75IxuZvlNV7KuNSNjqrrrFZ/LUH5dH3VsnFQ2d8Idc3xsyWV+Ztl6rjoW7LBAAAzg0FpJOUUo2tW6R1a1RKNWZkZGRkZmZmaq0lMzPzohOP11qPUEodVkodV0rlua57QbyyUEAQL9FoVOZuPiz3vbb0Czv3tz4/X56btUU2HqyWaLT7SsfpNITCMntjmfzX1BLpM3LmF04BGzF9g+w9Wm86JgAA6AAFxEIUEJyrhlBYPly+R26eMO+UHXk9OF8GfrJOtpbVmI54RqFwRAo2HJK7Xyk+JX+PAb7857srZdWeStMRAQDAaVBALEQBwdmKRqPy2Zr9kjt29ik77pePmiUvzN4qR+uaTEfsspK9x+SX76/+wvUqP31zmWw7XGs6HgAAaIMCYiEKCM7Gmr3H5Ad/XHTKTvotz82TKcv3SkMobDreOdtXWS+j/VLpNawg+PNlD8yT4Z9vkGP19hUrAABSFQXEQhQQdMWhqgb5zYdrTikeN4wvkoINh5Li2o54q2kIyfiCTafcNrjPyJnyTvEubuELAEASoIBYiAKCzmgIheXF2VvloiEn7x7Ve1iBTJq/XRqb7Z94dGTv0Xp55N1VpxSvmyfMk/lbjpiOBgBAWqOAWIgCgo6s2lMpN4wvCna8Mwf4MuDjdVJe22g6WrdbuqNCvvPCglOKyK8+WM2tewEAMIQCYiEKCE4nFI7IhJmbT1lV/J5JxVJ6oNp0NKPCkah8uHyPXD5qVvB9yR07WxZvKzcdDQCAtEMBsRAFBO3ZfqRW7py4MNjB7jWsQKat3JeS13mcreqGkDwxpeSUachTfylNiYvwASCeXnzxRbn77rtP+/lvfetbMnXq1C5/3d69e8uiRYvOJZrs27dPtNayffv2c/o6nRGPvKczZswYycnJkbFjxybk67dn//790rt3b9m5c2e3vWZ7KCAWooAgVjQalXeKd8mFQ05edH33q8UsyncG+esOSk7MYoa3PDdPNhyoMh0LALrFz3/+c+ndu7f07t1bevbsKRdeeGHw371795b9+/d3WEC628yZM2X37t0i0r0FJFFqa2tFay2FhYUJP1BYXFws69atS+hrdBUFxEIUEJxQVt0gP3ljWbAjrQbly6T52yUcYerRkcPVDfLTN09+79xBefLyXL53ANLL6YpGshWQ22+/XebPny8iqVFA9u/f321/hocffljef//9hL9OV1BALEQBgYjIyt1H5fJRhcEO9K3Pz5eNB9P7Wo+uikajMnnJ7lOmRz9/a7lUN3CBOoD00FEBee+99+Tqq6+Wvn37ytNPPx18vl+/fsFO7erVq+WHP/yh5OTkyJVXXilDhgyRpqb211/SWgdFYs6cOXLHHXdInz595JprrpEJEya0Ow248847RWstvXr1kgEDBgQFpLCwUH7wgx/IpZdeKj/+8Y/l0KFDwXMKCgrktttuk0svvVRuv/12+fzzz0/7PThTjti899xzj7z66qvy5JNPSk5Ojlx//fWSl5cXfJ0DBw5I//79JScnR6677joZOnSo1NXVfeH1du7cKb169Qr+TE899VS7fw9XX321fPzxxyIi8sQTT8ioUaNkzJgx0rdvX8nNzZW33noreOzRo0fl0UcflZycHLn66qvlueeek2g0Kv379xettVx88cXywAMPfKG8VVVVyW9/+1u55pprJDc3Vx577DEpL2+5PnLXrl2itZbi4uLg+3Pvvfee8n0+WxQQC1FA8OHyPeIOOrny92if6xjOxY4jtfLdmOtnbnx2ruw4wirqAFLfmQrIlVdeKZMmTZKmpiYpKioSrbVs3LhRRE4tILfccotMnDhRwuGwHD16VP7t3/5N3n333XZf78QOfSgUkj59+shHH30k0WhUDhw4ILfddpsUFRWd8XkiJycg/fv3lyNHjkhFRYXcdtttMnr0aBER2b59u+Tk5EhxcbE0NzfLsmXLpE+fPlJSUvKFr9tRjtjXvf/+++W6666TRYsWSSQSkQkTJsgVV1wRlJV77rlHRo0aJcePH5fy8nK5//77ZdiwYe3+edoWgY4KiOd5kpubK5999pmEw2H54IMP5OKLL5ajR4+KiMjjjz8uv/zlL6W2tlYOHDgg/fr1kw8++OALf1dtX/fRRx+Vn/3sZ1JRUSHV1dXyyCOPyI9+9KN2v881NTVy6623Bt/nc0EBsRAFJH2FwhEZ/vmGYEf54qEzpGDDuR+JgEhjc1h+N23tyTVThhfI3M2HTccCYKnqhpCs3lPZbdvZTm7PVECuueaaUyYSffv2DY74x+7UXn311TJp0qTgcZHI6Rd9PbFDX1dXJz179hTf97v0PJGTO8bz5s0LPj9mzBh58MEHRURk7Nix8sQTT5zy/AEDBsiIESO+8HU7ytG2gDz++OPB5zZu3ChaaykvL5dNmzZJz549pbHx5O3uly9fLjk5Oe3+ec6mgNx1113B56qrq0VrLSUlJVJVVSUXXXSRlJaWBp8vKSkJrvs4XQE5duyYXHjhhbJmzZrgeZs2bRKttezbt6/d7/Po0aOD7/O5oIBYiAKSnirrmuTePy0JdpCvHTdHNh+qMR0rpUSjUXl78S7JGtgyXeoxwJdJ87dzJzEAXVLdEJJLhheccse9RG+XDC84qxJypgLywx/+8JSPxe4Qx+7Ufvrpp9K7d2/59re/LePGjZPNmzef9vVid+hfeeUV6dmzp/zgBz+QF198Ufbu3dup57V3Dcgzzzwj999/v4iI/OIXv5CePXuecmF9r169pH///u1+7TPlaFtAxo0bF3xu+/btwc76rFmzRGt9ymueuMj/xJQi1tkUkNjy09jYKFprWbp0qZSWlorWWqqq2r+ZyukKyInnVVZWBo+tr68XrbUsWbIkeOy2bdva/T6fCwqIhSgg6WfToWq5dtyc4BfNvX9aIpV17Z9fi3O3eFu59Im5S9avP1zDKW4AOi1VCsiZdohjd2pFWq5BmDp1qvTv318uvvhiKSwsbPf1YnfoRVqum5g8ebLcd999pz1Nqu3zOiogjzzyiIwcObIzf/wOc7QtIM8880zwnNgCUlhYeNppR3s6U0CuuuqqUwrIr3/96+Bz7RWQY8eOtftaHRWQ2OedKCBLly7t8Pt8LiggFqKApJfC0jLpOXRG8Etm+OcbpDl8+jE14mNPRb1867n5wff9uxMXyuGaBtOxAFgiFU7B6mwBaXuEf9CgQfKLX/yi3deL3aGPPfIuIvLTn/5URo0a1eHzOtoxfvrpp+W+++475fmHDh2ScLj9A0lnytHZArJlyxbRWp8yPamtrf3C1z6h7Z9h0qRJ8v3vfz/4fENDg1x00UWdKiBVVVVfOJWquLhYZs2aJSKnLyDV1dVy0UUXyerVq4PnnTit7ODBgxQQnIoCkj4+WrkvOB3IHZQnU5affjyN+KtrbJaHJ68ISsgN44tYXwVASjnXAnLw4EHp1auXzJ07VyKRiBw7dkzuu+8+GTNmTLuvd2KHftWqVXLZZZfJmjVrJBqNSllZmXzrW9+St99+u93nXXLJJfLGG29IdXV1hzvG27dvl549e8onn3wioVBINm7cKNdee63k5+d/4et2lKOzBUSk5SL0X/ziF1JZWSnV1dXyxBNPyEMPPdTun6ftn2HWrFnSp08fOXDggIiITJw4Ufr06dOpAiIi8thjj8l//Md/SFVVlRw8eFBuvvnm4EYAJy7QP3bs2Bde9/HHH5ef//znUllZKZWVldK/f3/5yU9+0m7Gtt/nsrIyufXWW8946tzpUEAsRAFJD28u2hns+F46Yqas2PXFc0iReJFIVMYXbAr+Lr4xZrZsLePaGwCpIR4TkLy8vOA2rbm5ueJ5ntTWtn8nwdgd+j//+c9yyy23yKWXXirXXHONjBkzRpqbm9t93pgxY+TSSy+Vxx57rFNH5vPz8+W2226T3r17S79+/eTNN9887ffgTDm6UkD2798vDz/8sOTk5Mjll18ujz32WLvXf4h8cee+ublZnnjiCbnqqqvk9ttvl/fff1/uuOOOYLX5jgpIRUWFPPLII8FteJ955png+sU333xT+vTpI3fdddcXXvfo0aPy2GOPSU5Ojlx11VXy5JNPBlObjr7P57IeCwXEEkqpe5VS01u3+tzc3C7/ZcMO0WhUni/cEuzwXjG6kIvNk8BrC3YEfyc5I2fK2n3tn2sLAADOjAJiISYgqSsSicqI6Sdvs3vtuDmyp4JTfpLFlOV7pceAk7dALt5eYToSAADWoYBYiAKSmprDEXliSklQPm55bp6UVXPRc7LJX3cwWARSDc6XwtIy05EAALAKBcRCFJDU0xAKy0PvnLzY+bsvLeI2u0lswdYjctGQljuTZQ3Mk09W7zMdCQAAa1BALEQBSS2NzWH56ZvLgvLxb68tkbrG9i/CQ/JYubvylPv8T1tJCQEAoDMoIBaigKSO5nBE+k9eGezEPvTOCha8s8jGg9Vy+ajCYNX0v6w9YDoSAABJjwJiIQpIaghHovKrD1YH5ePBt5dLiAUGrbOlrEZyWldNzx6YxzUhAAB0gAJiIQqI/aLRqAz4eG1QPu57bSmTD4ut318lvVtPx1KD8mXh1nLTkQAASFoUEAtRQOwWjZ56q90fvrJY6pu45sN2K3dXSs+hLRemXzRkhixn4UgAANpFAbEQBcRusatq3zlxodQ0hExHQpws3l4uenC+OJ4vvYYVSMleFisEAKAtCoiFKCD2eqloW1A+bn1+vhyr51a7qaZo8+FgnZBLR8yUjQerTUcCACCpUEAsRAGx0+TiXUH56PfsXDlS02g6EhJkxvqDkjWwpYRcPmqW7K6oMx0JAICkQQGxEAXEPoWlZdJjQEv5uHbcHDlYddx0JCTYp6v3S2br33m/Z+Yy7QIAoBUFxEIUELus21cVrJqdM3Km7CznaHi6eH3hzmDqdfcrxdLYzJ3OAACggFiIAmKP/ceOS9/RLQvVqcH5soI7I6WVaDQqwz8/ecezxz9YLdFo1HQsAACMooBYiAJih+qGkNzy3Lxg53N6Catkp6NwJCoPvr08eB88O3Oz6UgAABhFAbEQBST5hcIRue+1pcFO58tzt5uOBIPqm5rljhcXBu+HKcv3mo4EAIAxFBALUUCSWzQald9OKwl2Ngd8vJbTbiCHaxrk6t/PEcfzJXtgHqulAwDSFgXEQhSQ5DZxztagfPzkjWUSCkdMR0KS2FJWI72HFYjj+dJ7WIFsPlRjOhIAAN2OAmIhCkjyml5y4JSFBlnlHG0t2lYu2a1rhFw1draU17IeDAAgvVBALEQBSU4bD1YHt9u9ckwha33gtKau2BsU1R+9WsyUDACQViggFqKAJJ9j9U1y3bii4Ha7JXuPmY6EJDfaLw1KyMjppabjAADQbSggllBK3auUmt661efm5pp+76BVOBKVB95Yxh2O0CXN4Yjc+6clwfvm09X7TUcCAKBbUEAsxAQkuYwv2BTsRA76ZJ3pOLBIRW1jcGesC4fky4YDVaYjAQCQcBQQC1FAkseM9YeC8vGvLy+WpmbO5UfXrNtXJWpwvjieL9c8PUcq65pMRwIAIKEoIBaigCSHbYdr5OKhLRed9x1dKGXVDaYjwVLTVu4Liuz9ry+VcIR1YwAAqYsCYiEKiHnVDSHp98zcYFG5FbuOmo4Eyw37bH1QQn6fv8l0HAAAEoYCYiEKiFmRSFQefHtFsLM4uXiX6UhIAaFwRH74yuLgfZW37qDpSAAAJAQFxEIUELP+OHdbsJP4X1NLJBrldBnEx+GaBrlyTKE4ni89h86QHUdqTUcCACDuKCAWooCYs3J3pWS1rmJ9+4sLpCEUNh0JKWbVnspgpfRv/2GBNDbzHgMApBYKiIUoIGZU1YeCW6b2GlYguyvqTEdCivrT/B3BlG345xtMxwEAIK4oIBaigHS/aDQq/SevDHYKPy85YDoSUlgkEpWfvXlyccuZGw6ZjgQAQNxQQCxEAel+k4t3BTuDv5u21nQcpIGK2ka5YnTL9SCXjpgp+48dNx0JAIC4oIBYiALSvUoPVAcLxd00YZ4cb+KcfHSPxdvLJXNAS/G96+XF0hxmoUsAgP0oIBaigHSfusZm6fdsy3ofenC+bD5UYzoS0syEWVuC6dszBZtNxwEA4JxRQCxEAek+T04tCXb+3lu6x3QcpKHmcETufqVYHM+XzAG+LNpWbjoSAADnhAJiIQpI9/hk9b6gfDzy7irW+4AxB6uOS5+RM8XxfOk7ulCO1DSajgQAwFmjgFiIApJ4u8rrpOfQGeJ4vlw7bo5UN4RMR0KaKywtCwrxT95YRiEGAFiLAmIhCkhiNYcj8oM/LhLH8yV7YJ6s2XvMdCRARERGTi8NSsjk4l2m4wAAcFYoIBaigCTWS0Xbgp28l4q2mY4DBBqbw/Kt5+aL4/ly4ZB82XGk1nQkAAC6jAJiIQpI4qzfXyXZA/PE8Xz5/h8XcdtTJJ0NB6rEHdTyHv3eS7xHAQD2oYBYiAKSGA2hk0eXLxoyQ3aW15mOBLQrdko3cc5W03EAAOgSCoiFKCCJMTZvI+fXwwrhSFT+9eXFwXVK6/dXmY4EAECnUUAsRAGJv6U7KoIVp+9/fSl3GELS21VeJxcNablT280T5klDKGw6EgAAnUIBsRAFJL5qG5vlmqfniOP5csnwAjlU1WA6EtApf16yO5jajfZLTccBAKBTKCCWUErdq5Sa3rrV5+bmmn7vpAzvo7XBTtxna/abjgN0WjQalQfeWBaskr5kR4XpSAAAdIgCYiEmIPEze+PJxd0eeY/VzmGfsuoGuXREyyrp1zw9R2pYNBMAkOQoIBaigMTH0bomuXxUoTieL31HF0plXZPpSMBZmV5yICjSv5u21nQcAADOiAJiIQpIfPz6wzXBTlvRpsOm4wDn5Jfvrw7ezwu2HjEdBwCA06KAWIgCcu6KNh0Odtb+a2qJ6TjAOausa5LLR80KTsWqa2w2HQkAgHZRQCxEATk3NQ0huWrs7ODUq6p6zplHavDXHgyK9YjpG0zHAQCgXRQQC1FAzs2QT9cHO2kz1h8yHQeIm2g0Kg+9syK4K9bK3ZWmIwEA8AUUEAtRQM7e0h0VQfn4z3dXmo4DxF1ZdYP0Hl4gjufLTRPmSWMzCxQCAJILBcRCFJCz0xAKyzefmSuO58ulI2bK4RoWHERq+nD5nqBoPztzs+k4AACcggJiIQrI2fl9/qZgp2zayn2m4wAJE41G5d4/LRHH8yV7YJ6UHqg2HQkAgAAFxEIUkK5bt69KsgbmieP58pM3lrHgIFLenop6uXBIvjieL3e8uFCawxHTkQAAEBEKiJUoIF0TCkfktj8sEMfzpefQGbKvst50JKBbvLZgRzD1e3XedtNxAAAQEQqIlSggXTNxztZgJ+ztxbtMxwG6TTgSle++tEgczxc9OF92HKk1HQkAAAqIjSggnbf9SK2oQS2nodz18mKJRDj1CullS1mNuINaTj/80avFnH4IADCOAmIhCkjnxF6Iqwbly7bDHP1Fenq+cEswBfyIGzAAAAyjgFiIAtI5n63ZH+x0TZi1xXQcwJjG5rD0a70F9WVPzZJj9U2mIwEA0hgFxEIUkI5V1Yfk8lGzxPF8uX58kTSEWIwN6W3RtvKgkA/4eJ3pOACANEYBsRAFpGODP10X7GzN33LEdBwgKfzqg9XBv4uVu4+ajgMASFMUEAtRQM5szd5jkjmgZSfr0fdWmY4DJI0jNY3Se3iBOJ4vtz4/n7VBAABGUEAsRAE5veZwRL7zQsuaH72HFUhZdYPpSEBSmbxkdzAFeW3BDtNxAABpiAJiIQrI6b2xcCdrfgBnELs2SM+hM+TAseOmIwEA0gwFxEIUkPYdqmqQi4fOEMfz5Y4XF0qYNT+Adq3fXyU9Wk9TfHjyCtNxAABphgJiCaXUvUqp6a1bfW5urun3TtJ55N1V4ni+ZA7wZe2+Y6bjAEltxPQNwbRw9sYy03EAAGmEAmIhJiBfVLT5cLAzNeyz9abjAEmvpiEkV44pFMfz5erfz5HjTdyqGgDQPSggFqKAnKohFJbrxhWJ4/nSd3ShVDeETEcCrJC37mBQ3J+escl0HABAmqCAWIgCcqoXZm8NdqI+LzlgOg5gjWg0Kg+8sUwczxd3UJ7sLK8zHQkAkAYoIBaigJy0r7JeLhySL47ny48nLZFolAvPga7YWV4nalDLv6GfvbnMdBwAQBqggFiIAnLSiQvPswbmyaZD1abjAFZ6esamYIo4ZxMXpAMAEosCYiEKSIvF28qDnabhn28wHQewVl1jc3BB+g3ji6SxmQvSAQCJQwGxEAVEJBSOyC3PzRPH8+VfnpolVfVceA6ci8/W7A8K/UtF20zHAQCkMAqIhSggp654/sGyPabjANaLRqNy9yvF4ni+XDRkhhysYoV0AEBiUEAslO4FpLy2UXoPLxDH8+XOiQslwornQFxsOHByhfTH3l9tOg4AIEVRQCyU7gXkd9PWBtOPVXsqTccBUsrgT9cF/76W7qgwHQcAkIIoIBZK5wJSsveYZLYeoX1iSonpOEDKqaxrkj4jZ4rj+XLr8/OlORwxHQkAkGIoIBZK1wISiUTley8tEsfzpdewAjlc02A6EpCS/rxkdzAFmVy8y3QcAECKoYBYKF0LyNQVe4Odoj/N32E6DpCywpGofPsPC8TxfLl0xEw5WtdkOhIAIIVQQCyUjgWkpiEkl49qWafgxmfnSlMzp4UAibR819Gg8A/6ZJ3pOACAFEIBsVA6FpBxMSs1z99yxHQcIC08/sFqcTxfegzwZUtZjek4AIAUQQGxULoVkL1H60UNzhfH8+Xnby03HQdIGweOHRfd+m/vJ28sMx0HAJAiKCAWSrcC8uh7q8TxfMkamCfbDnMUFuhOz87cHEwfizYfNh0HAJACKCAWSqcCsnL3yfPQh3223nQcIO3UNTbLFaNbrr+6acI8CXFbXgDAOaKAdFJmZmamUqpAKVWvlDqilBqXkZHxV20fp5T6uVIqqpRqjN169OjxlXhlSZcCEolE5butt929ZHiBVHInHsCIKTF3oHuH2/ICAM4RBaRzvqSUWqOUevfrX//6/+nRo8eFWutdWusn2z7Qdd3fKKVmJTJMuhSQz9bsD3Z6XlvAbXcBUyKRqHznhZbb8uaMnClVx0OmIwEALEYB6YSsrKwrlFKRCy644B9PfEwp1V8ptbXtY5VST2mtP0xknnQoIMebwnLV2NnieL7cML6I2+4ChhVvrwgOCIz2S03HAQBYjALSCa1lY0fsx7TWV2qt5ctf/vLfx37cdd2JWuuVWuuVSqlqpdTq7Ozsb3f1NR3H+WfXdS9rb1NK7b/hhhtMv3cS6sXZW4OdnYINh0zHASAiD72zQhzPF3dQnuwqrzMdBwBgKQpIJyilBmutV8R+LDs729Vai9Y6K/bjWusRWusZWus+X/nKV/7Wdd3faK1DSqmeXXnN1q8jp9v69u1r+r2TMGXVDdJz6AxxPF/umVQs0WjUdCQAIrKrvE7cQXnieL48PHmF6TgAAEtRQDrhTAXEcZweHT1fa73cdd0xXXnNdJ6A/NfUEnE8XzIH+LLhQJXpOABijPpLaTCdLN5eYToOAMBCFJBO0Fo/1Pab5LpurtZazjvvvL/rxPOnKKXeiGOelL0GZP3+Kskc0LJz89tpJabjAGij6nhIckbOFMfz5TsvLJBIhAklAKBrKCCdoJTKUUpFzj///H+K+djjSqnSto/VWg/UWt/c5vklSqnB8cqTqgUkGo3KjyctEcfzpefQGXK4usF0JADteHvxrmAKMnXFXtNxAACWoYB0klJqiVLq/czMzKWPGEYAACAASURBVH/Iysq6RGt90HXd/8zIyMjQWm/Oysq6tvX/T2j9b+W67t+4rvuE1rpOa31+vLKkagGZs6ks2Kl5cfZW03EAnEYoHJEbn50rjufLN8bMloZQ2HQkAIBFKCCd5LruBUqpPKXUcaXUYdd1h5/4nNZasrOzb2v9z/+mlHpea31QKVWttV6olPpGPLOkYgFpDkfk5gnzxPF8uXJMoRxvYocGSGaFpScPGPxx7jbTcQAAFqGAWCgVC8iHy/cEOzNTlnNKB5DsotGo3P1qsTieL72HFcjRuibTkQAAlqCAWCjVCkh9U7NcOaZQHM+XW56bJ2EuagWssHpPZXDgYMT0DabjAAAsQQGxUKoVkIlzTi46OGdTmek4ALrgkXdXBYsT7q5gcUIAQMcoIBZKpQJSUdsovYYVsOggYKld5XWSPbBlccJH31tlOg4AwAIUEAulUgEZ/vmGYPpRsveY6TgAzgL/jgEAXUEBsVCqFJDYI6e/fH+16TgAzlLsJPNHrzLJBACcGQXEQqlSQGLPHd9TUW86DoBz8FLRNq7lAgB0CgXEQqlQQGLvnjNyeqnpOADO0fGmcHA3u5snzJPmcMR0JABAkqKAWMj2AhKNRuXuV1rXDxheIJWsHwCkhCnL9wYHFj5cvsd0HABAkqKAWMj2AjIrZgXll+duNx0HQJyEI1G55bl54ni+XDmmUOqbmk1HAgAkIQqIhWwuIM3hiNw0oWUHJXfsbGkIhU1HAhBHRZsOBwcYJs7ZajoOACAJUUAsZHMBmbLi5CkaU1bsNR0HQJxFo1G5Z1LrKZbDOMUSAPBFFBAL2VpAGkJhufr3c4KLVMMRbtUJpKJVMTeZGJu30XQcAECSoYBYyNYC8vrCncFOScGGQ6bjAEigh95ZIY7nix6cL4eqGkzHAQAkEQqIhWwsIDUNIfmXp2aJ4/nyvZcWsVAZkOK2lNVI5oCWAw4DPl5nOg4AIIlQQCxkYwF5btaWYPqxeHu56TgAusETU0rE8XzJGpgnO47Umo4DAEgSFBAL2VZAKmob5eKhM8TxfLn/9aWm4wDoJnuP1osalC+O58sj760yHQcAkCQoIJZQSt2rlJreutXn5uaafu902sjppcH0Y92+KtNxAHSjEdM38O8fAHAKCoiFbJqA7KvkCCiQzsqZgAIA2qCAWMimAvLkVM4BB9LdBK4BAwDEoIBYyJYCsrWsRnoEd8FZazoOAENqGkKSM3Imd8EDAIgIBcRKthSQhyefXAfgYNVx03EAGPTagh2sAwQAEBEKiJVsKCCrWQkZQIyGUFiuGjtbHM+XmybMk3CEKQgApCsKiIVsKCD3/mmJOJ4vvYcXyLH6JtNxACSBKSv2Bgcmpq7YazoOAMAQCoiFkr2ALN5WHuxkvDh7q+k4AJJEczgiNz47VxzPl2ueniNNzRHTkQAABlBALJTMBSQajcoP/rhIHM+Xf3lqltQ2NpuOBCCJ/GXtgeAAxZ+X7DYdBwBgAAXEQslcQOZsKgt2Ll5bsMN0HABJJhKJym1/WCCO58uVYwqlIRQ2HQkA0M0oIBZK1gISiUTlOy+wYwHgzApLOVABAOmMAmKhZC0geesOBjsVkzm1AsBpRKNR+d5LLadqXvbULKnjVE0ASCsUEAslYwEJR6Jy04R5XFwKoFMWbj15s4qXiraZjgMA6EYUEAslYwH5eNU+bq8JoNOi0ajcM6lYHM+XS4YXSNXxkOlIAIBuQgGxULIVkFA4IteNKxLH86Xfs3OlOcz0A0DHVuw6Ghy4eHbmZtNxAADdhAJioWQrIO8t3RPsREwvOWA6DgCL/PTNZeJ4vlw8dIZU1DaajgMA6AYUEAslUwFpCIUld+xscTxfbn1+vkQiUdORAFhk3b6q4ADGaL/UdBwAQDeggFgomQrIGwt3BjsPs0rLTMcBYKH+k1eK4/miB+dLWXWD6TgAgASjgFgoWQpIfVOzXD5qljieL999aZFEo0w/AHTdlrIayRzQciBjyKfrTccBACQYBcRCyVJA/jh3WzD9WLD1iOk4ACz2qw9Wi+P54g7Kk71H603HAQAkEAXEQslQQGoaQtJn5ExxPF/ufrWY6QeAc7KrvE6yBuaJ4/nifbTWdBwAQAJRQCyUDAXkxdlbg+nHkh0VRrMASA2/nVYijudL1sA82V1RZzoOACBBKCCWUErdq5Sa3rrV5+bmGnvTVB0PySXDC8TxfLn3T0uM5QCQWvYerZfs1inIk1NLTMcBACQIBcRCpicgzxduCaYfy3cdNZYDQOoZ8PHaYAqys5wpCACkIgqIhUwWkKr6kPQe1jL9uP/1pUYyAEhd+yrrxR3UMgX5zYdrTMcBACQABcRCJgvIszM3B9OPVXsqjWQAkNoGf7pOHM+XHgN82X6k1nQcAECcUUAsZKqAVNY1Sa/W6cfP3lzW7a8PID0crDoualC+OJ4vj3+w2nQcAECcUUAsZKqAjJuxKZh+lOw91u2vDyB9DP98gzieL5kDfNlaVmM6DgAgjiggFjJRQCpqG6Xn0BnieL48+Pbybn1tAOmnrLpB9OCWKcgj760yHQcAEEcUEAuZKCBj8zYG04/1+6u69bUBpKen/lIa/NzZdKjadBwAQJxQQCzU3QXkSE2jXDSkZfrx8OQV3fa6ANLbkZpGuXBIyxTkF39eaToOACBOKCAW6u4CMirmKOTGgxyFBNB9xsRMXzccYPoKAKmAAmKh7iwgh2POw/7PdzkCCaB7xV5/9h/vMIEFgFRAAbFQdxaQEdNP3olm8yHuRAOg+z0dcwe+dfuYggCA7SggFuquAhI7/XiUu9AAMKSyrkkuDu7CxxQEAGxHAbFQdxWQ2OnHFu7DD8Cg2HWIuBMfANiNAmKh7iggTD8AJJOjMVMQrgUBALtRQCzUHQVk5PRSph8AksrTTEEAICVQQCyU6AJymBWIASSho3VN3BELAFIABcRCiS4gsdMP7nwFIJkwBQEA+1FALJTIAnK4hukHgOQVOwV5iCkIAFiJAmKhRBaQp2JWPWf6ASAZ/T6fKQgA2IwCYqFEFZBTph/vMv0AkJxiV0dnCgIA9qGAWChRBYTpBwBbxE5BNhxgCgIANqGAWCgRBeRwTYNcOKRl+vGf766M69cGgHirqG2Ui4a0TEEenswUBABsQgGxhFLqXqXU9NatPjc3N65vhFEx049Nh6rj+rUBIBHG5m9kCgIAFqKAWCjeExCmHwBsxBQEAOxEAbFQvAvIaJ/pBwA7xU5BSg/w8wsAbEABsVA8C0h5zBHE/pOZfgCwS+wUhAkuANiBAmKheBYQ7iQDwHaxU1zu4AcAyY8CYqF4FZDYFYX/g3vpA7BU7BpGv3x/tek4AIAOUEAsFK8CMr6A1YQBpIYR0zeI4/mSOcCXbYeZggBAMqOAWCgeBeRYfZP0GlYgjufLv7+1PE5vJwAwo6y6QVTrFORXHzAFAYBkRgGxUDwKyIRZW4Lpx5q9x+L0dgIAc4Z9tl4cz5ceA3zZcaTWdBwAwGlQQCx0rgWk6nhIeg9vmX488MayOL6dAMCcg1XHRQ1qmYI8MaXEdBwAwGlQQCx0rgXkhdlbg+nHyt2VcXw7AYBZgz5ZJ47nS9bAPNldUWc6DgCgHRQQC51LAalpCMmlI2aK4/ly/+tL4/x2AgCz9lXWizsoTxzPl99OYwoCAMmIAmKhcykgLxVtC6Yfy3cdjfPbCQDMG/DxWnE8X7IH5sneo/Wm4wAA2qCAWOhsC0htY7P0Gdky/fjxpCUJeDsBgHl7j9ZL1sCWKciAj9eZjgMAaIMCYqGzLSCvzNseTD+W7KhIwNsJAJLDf00tEcfzxR2UJ/uPHTcdBwAQgwJiobMpIPVNzXLZU7PE8Xy5+9XiBL2dACA57Cqvkx4DWg64DPl0vek4AIAYFBALnU0BeW3BjmD6sWhbeYLeTgCQPH7z4RpxPF/UoHw5VNVgOg4AoBUFxEJdLSANobBcPqpQHM+Xf315sUSj0QS+pQAgOWw/UiuZrVOQ4Z9vMB0HANCKAmKhrhaQtxbtDKYfczcfTuDbCQCSyy/fXy2O54senC+Ha5iCAEAyoIBYqCsFpLE5LN8YM1scz5c7Jy5k+gEgrWw+VBMcgBmTt9F0HACAUECs1JUC8u7S3cEv31mlZQl+OwFA8uk/eaU4ni89h86Qo3VNpuMAQNqjgFioswUkFI7INU/PEcfz5bY/LGD6ASAtbThQFRyIGV+wyXQcAEh7FBBLKKXuVUpNb93qc3NzO/zLnbJib/BLN3/dwW54OwFAcnrw7eXieL70GlYgVfUh03EAIK1RQCzUmQlIczgi148vEsfz5Zbn5kkkwvQDQPoq2XssOCDz3KwtpuMAQFqjgFioMwXkk9X7gl+2n63Z301vJwBIXj95Y5k4ni+XDC+QmgamIABgipUF5Pzzz/8npdRdSqnxWuvJSqlpSqlXXdf9TVZWVl/T+RKtowISjkTlxmfniuP50u+ZuRJm+gEAsmLX0eDAzEtF20zHAYC0ZVUBcV33m1rrT7XWTUqpqNZ6t9Z6pdZ6kVKqVGtd2/rxnUqpwa7r/i/TmROhowLyl7UHgl+y01bu68a3EwAktx9PWiKO50vOyJlS19hsOg4ApCVrCohSapZSqlop9bZS6vbMzMx/aOdhX3Jdt5dS6ndKqVVa6wqt9Xe6PWyCnamARCJRufX5+eJ4vlw3rkhC4Ug3v6UAIHkVb68IDtBMmr/ddBwASEs2FZDBWVlZ/7uLz7leKXVHojKZcqYCMmP9oeCX6wfL9nTz2wkAkls0GpUfvrJYHM+Xy0fNkuNNYdORACDtWFNAcNLpCkg0GpXvvLBAHM+Xq38/R5qamX4AQFvztxwJDtS8sXCn6TgAkHasLCBKqUlZWVlfN53DlNMVkDmbyoJfqpOLd3X/uwkALBCNRuW7Ly0Sx/PlyjGF0hBiCgIA3cnWAvKG1rrWdd0/OY7To83neiql3jSVrTu0V0Ci0ah8r/UX6hWj+YUKAGcye+PJAzZ/XrLbdBwASCtWFpCMjIy/cl33UaXUsdY7Yr2llHpcKfUrpdRcrXW56YCJ1F4BWbi1PPhl+jqnFADAGbU9ZZUbdgBA97GygLQWjnDrLXhnK6Xma61DSqmI1nqx1vpm0xkTqb0CcverxeJ4vlz2FBdVAkBnzFh/MDhwM2X5XtNxACBt2FpAqrTWD8V+LDs721VKfaKU2p+dnd3bVLbu0LaALN1x8raSL8/ltpIA0BmRSFRueW6eOJ4v148vkmamIADQLawsIFrrQ67rfq+9zyml/qCU2tDdmbpT2wJy32tLxfF86TNyptSysBYAdNpna/YHB3A+Xb3fdBwASAtWFhCl1AtKqdKvfe1rX237uezs7NuUUo0mcnWX2AKyak9l8MvzhdlbDb+dAMAu4UhU+j0zVxzPl5smzJNIJGo6EgCkPCsLyJe//OW/V0qVaK3rtNZ/zM7O/r5SKic7O/tGpdQypdRW0xkTKbaA/Pyt5eJ4vvQeViBVx0OG304AYJ9pK/cFB3L8tQdNxwGAlGdlAcnIyMj4yle+8rdKqVFKqf1KqahSKtL6v/XZ2dnfN50vkU4UkPX7q4Jfms8UbDb9XgIAK4XCEbnm6TnieL7c+vx8iUaZggBAIllbQGK5rputlLolKyvrpszMzH8wnSfRThSQhyevEMfzpefQGXK0rsn0ewkArPXe0j3BAZ1ZpWWm4wBASkuJApJutNY7r7uhX/DLcmzeRtPvIwCwWmNzWHLHzhbH8+XOiQuZggBAAllTQLTWv3Rd92+6+Jw+8VoTJDMzM1MpVaCUqldKHVFKjcvIyPir9h7buiDiHqVUg1Jqmeu6l8Ujwwla6519rrxWHM8XPThfDtc0mH4fAYD13lq0MziwM3fzYdNxACBl2VRAliulyrTWz7mue1VGRsb/397jvva1r33Vdd0Htdaztda1Sqm74vDyX1JKrVFKvfv1r3/9//To0eNCrfUurfWT7eT8gda6Njs7u99Xv/rV/+m67jCt9aGvfOUrfxuHHCdeY6fKyRXH82X45xtMv4cAICU0hMJy+ahCcTxf/vXlxUxBACBBrCkgGRkZGUqpf1VKzW+92LxRa71Oaz1Ha52vlCrWWh9qvRj9iOu6z/bo0eMr8XjdrKysK5RSkQsuuOAfY7L0b+9uW0qpPKXUH2I+9CWt9QGl1L/FI0tGxskCogbly6Eqph8AEC9/mr8jmIIs3l5uOg4ApKR+NhWQExzH6aG1fkgp9apS6nOl1Eyl1Ada6xFKqVsyTjMdOVutZWNH7Me01ldqreXLX/7y37f5+CHXdX/S5mP5WusJXXlNx3H+2XXdy9rblFL7VU6uDPpknen3DwCklPqmZskZOVMcz5cfT1piOg4ApJxoNCqXXHGNfQWkuymlBmutV8R+LDs729Vai9Y6K/bjWutmpdTtbZ7/rtZ6cldeU2s9ovXrt7/l5Mq+ynrT7yEASDkvFW0LpiArdh01HQcAUsq8LUdE5eRaW0D+Ojs7+2rXdX+ktX6g7RbPFzpTAXEcp0fsx7XWofYKiOu673TlNTuagFx3/Q2m3z8AkJJqGkJyyfACcTxfHnhjmek4AJAyotGo3PXyYjsLiOu6l2mtd8csPth2i8Tz9bTWD7X9Jrmum6u1lvPOO+/v2jz2QNsC1Hr3rGfimCdYCR0AEH/PzdoSTEFK9h4zHQcAUsLi7eXieL6dBUQptUwptT4rK+smx3H++fzzz/+ntlucXy9HKRWJ/bpKqceVUqVtH6u1/kwp9ULMh/669aL4u+OVhwICAIl1rL5JLh46QxzPlwffXmE6DgCkhHv/tEQcz5cLL7vKvgKita7TWn+nO19TKbVEKfV+ZmbmP2RlZV2itT7ouu5/tubZnJWVdW1GRkZGdnb2bSduw3veeef9nVJqnFJqT2Zm5n+PVxYKCAAk3tMzNgVTkNID1abjAIDVVu4+GvxM7XvVdfYVEKXU6uzs7Hu68zVd172g9Ra7x5VSh13XHX7ic1pryc7Ovi0m3y9OLESotV7oum6veGahgABA4lXUNsqFQ/LF8Xx55N1VpuMAgNUeeGOZOJ4vvYcXyDf7WXgbXtd1b1BKlWRmZl5kOosJFBAA6B5P/aVUHM+XzAG+bDtcYzoOAFhp7b5jwfRjwszNdi1EeIJSar3WulwpFVZK7W1dkDB2W2s6YyJRQACgexyubhA1uGUK8qsPVpuOAwBW+o93Vojj+XLx0BlyrL7J2gLytlLqrTNtpjMmEgUEALrP0M/Wi+P50mOAL7vK60zHAQCrbDxYHUw/fp+/SUTEzgKS7iggANB99h87Lu6gPHE8X347rcR0HACwyiPvrWq589WQfCmvbRQRCoiVKCAA0L28j9aK4/mSPTBP9h6tNx0HAKyw7XCNZA5omX6MnF4afJwCYiEKCAB0rz0V9ZI1sGUKMuiTdabjAIAVfv3hmpaFBwfnS1l1Q/BxawqI1romOzv78tb/X6u1rjndppSqNp03kSggAND9fjOl9RfpoHw5VNXQ8RMAII3trqiTHq3TjyGfrj/lc9YUENd1h3/ta1/7akZGRobWeoTrusPPtJnOm0gUEADoftsO1wanEoyYvsF0HABIar+bdvLU1X2Vp566ak0B6chXv/rV/5mdne1mZGR8yXSWRKOAAIAZj7ZeTKkH58uRmkbTcQAgKe2rrJfs1tNWfzdt7Rc+b2UBUUr9V5uVyK9TSh1TSkWUUttd1802mS/RKCAAYMamQydvJzk2b6PpOACQlAZ/uk4cz5esgXmyu+KLty+3soBorTe7rvtgzH+v1FovUkrdoZRaqrWeajJfolFAAMCchye3LKjVc+gMOVrXZDoOACSVQ1UNoga1LOD6mw/XtPsYKwuIUqredd0bMjIyMrTW5yulolrr6zIyMjKys7O/r7U+ZDZhYlFAAMCc9furginI+IJNpuMAQFIZ/vkGcTxfMgf4su1wbbuPsbKAaK0rXNe9s/X/P6C1rsnIyPjrjIyMDNd1v6mUOm40YIJRQADArH9/a7k4ni+9hhVIVX3IdBwASAqHaxpED26Zfvzy/dWnfZytBSRfa71YKXW7Umq91nrKic+5rvugUmqbyXyJRgEBALPW7D0WTEGeL9xiOg4AJIUxeRuDn42bD9Wc9nFWFhDXdS9WSu1oPfVqV1ZWljrxOaXULNd13zGZL9EoIABg3v2vLxXH8+WS4QVS08AUBEB6q6htlIuGzBDH86X/5JVnfKyVBeSE888//5/afiwrK+sS13XPM5Gnu1BAAMC85buOBkf6XiraZjoOABg1bsam4Gfi+v1VZ3ys1QUkXVFAACA53DOpWBzPl5yRM6Wusdl0HAAw4lh9k/QaViCO58u/v7W8w8dTQCyhlLpXKTW9davPzc3thrcTAOBMFm8vD474TZq/3XQcADDiuVlbgp+Fa/Ye6/DxFBALMQEBgOQQjUblrpcXi+P5cvmoWXK8KWw6EgB0q+qGkPQe3jL9+Mkbyzr1HAqIhSggAJA85m05Ehz5e2PhTtNxAKBbTZyzNfgZuGLX0U49hwJiIQoIACSPaDQq3524UBzPlyvHFEpDiCkIgPRQ19gsOSNniuP58uNJSzr9PAqIhSggAJBcCkvLgiOAk4t3mY4DAN3i1Xnbg599i7eXd/p5FBALUUAAILlEo1H59h8WiOP5ctXY2dLUHDEdCQAS6nhTWC57apY4ni93vbxYotFop59LAbEQBQQAks+M9YeCI4HvL9tjOg4AJNRrC3YEP/MWbD3SpedSQCxEAQGA5BOJROXW5+eL4/lyzdNzJBRmCgIgNTWEwtJ3dKE4ni/f/+OiLk0/RCggVqKAAEBy8tceDI4ITlmx13QcAEiItxbtDH7WFW0+3OXnU0AsRAEBgOQUiUTl5gnzxPF8uX58kTQzBQGQYhpCYblyTMv0486JC7s8/RChgFiJAgIAyeuzNfuDI4MfrdxnOg4AxNXk4l3Bz7jZG8vO6mtQQCxEAQGA5BWORKXfs3PF8Xz55jNzJRzp+tFBAEhGjc1hyR07WxzPl++8sOCsph8iFBArUUAAILl9snpfcITwszX7TccBgLh4b+me4GdbwYZDZ/11KCAWooAAQHJrDkfkhvFF4ni+3DRhHlMQANYLhSNy9e/niOP5cuvz8yVyDj/XKCAWooAAQPKbumJvcKTwL2sPmI4DAOdkyvKTP9Py1x08p69FAbEQBQQAkl8oHJFrx7UcLbzluXnndLQQAEwKhSNy3biiuP08o4BYiAICAHb4YNmeuB0xBABTpq08eV3b9JJzn+hSQCxEAQEAOzQ1x++caQAwoTkckW8+03Jnvxufjc+d/SggFqKAAIA93l26Oy53jQEAEz5dfXJto09Xx+eufhQQC1FAAMAe8bpvPgB0t0Sta0QBsRAFBADsErty8KzSs1s5GAC622drTk4/Pl61L25flwJiIQoIANilsTks3xjDFASAPWKnHzeML5LmcCRuX5sCYgml1L1KqemtW31ubm7c3gQAgMR7hykIAIvETj8+Whm/6YcIBcRKTEAAwD4NoZNTkNtfZAoCIHmFI1G5MUHTDxEKiJUoIABgp9gpSCFTEABJKnb6MS3O0w8RCoiVKCAAYKeGUFiuHFPIFARA0oqdflyfgOmHCAXEShQQALDX24tPTkFmb2QKAiC5fF5yIKHTDxEKiJUoIABgr9gpyB0vLmQKAiBphCNRuWnCvIROP0QoIFaigACA3ZiCAEhGsdOPqSv2Jux1KCAWooAAgN2YggBINt01/RChgFiJAgIA9ntr0c7gSOOcTUxBAJg1PWb6MSWB0w8RCoiVKCAAYL+GUFiuGN0yBblzIlMQAOaEI1G5uXX6cd24IgklcPohQgGxEgUEAFIDUxAAyaA7px8iFBArUUAAIDXETkG4FgSACbHXflw7bk7Cpx8iFBArUUAAIHXE3hFrFqujA+hmsaueJ/LOV7EoIBaigABA6mgIhSV37GxxPF++/QdWRwfQfZrDEen3TMuq5zck+M5XsSggFqKAAEBqmbxkd3AEcsb6Q6bjAEgTH6/aF/zs+XhVYlY9bw8FxEIUEABILY3NYbn693PE8Xy59fn5EokwBQGQWM3hiFw/vkgcz5d+z87ttumHCAXEShQQAEg97y/bExyJ9NceNB0HQIqbsmJv8DPnszX7u/W1KSAWooAAQOoJhSNy7biWKcjNE+ZJmCkIgAQJhSNyzdPmft5QQCxEAQGA1GTyiCSA9GF64koBsRAFBABSU9tzspmCAIi3puaI8WvOKCAWooAAQOr6aOXJu9J8srr77koDID38+ZS77pm53owCYiEKCACkLlP35QeQ+tquO2TqjnsUEAtRQAAgtZlYmRhA6nt78a7gZ8us0jJjOSggllBK3auUmt661efm5hp70wAAEiscicpNE+aJ4/ly7bg5EmIKAuAcNYTCcsXoQnE8X+54caFEo+auMaOAWIgJCACkvr+sPRAcqXx/2R7TcQBY7vWFO4OfKUWbDhvNQgGxEAUEAFJfJBKVW5+fL47ny1VjZ0tjc9h0JACWqmtslsuemiWO58v3XlpkdPohQgGxEgUEANJDwYZDwRHLtxbtNB0HgKVeKtoW/CxZuLXcdBwKiI0oIACQHqLRqNw5caE4ni+XjyqU401MQQB0TdXxkFwyvEAcz5d7JhUbn36IUECsRAEBgPQxb8uR4MjlK/O2m44DwDITZm4OfoYs33XUdBwRoYBYiQICAOkjGo3KD19ZLI7nS5+RM6WmIWQ6EgBLHK1rkouHzhDH8+WBN5aZjhOggFiIAgIA6WXpjorgCObzhVtMxwFgiTF5G4OfHev2VZmOE6CAWIgCAgDp5/7Xl4rj+dJ7WIFU1jWZjgMgyR2ubhA9OF8cz5eHJ68wHecUFBALUUAAIP2s2XssOJL5+/xNpuMASHJDP1svjudL5gBfNh+qMR3nCiXH0gAAIABJREFUFBQQC1FAACA9Pfj2CnE8Xy4cki+HaxpMxwGQpPZV1os7KE8cz5fHP1htOs4XUEAsRAEBgPS08WB1MAUZ/vkG03EAJKnfTisRx/Mla2Ce7CyvMx3nCyggFqKAAED6evS9VeJ4vqhB+XLg2HHTcQAkmR1HaiVrYMv043fT1pqO0y4KiIUoIACQvrYfqZUeA1qmIAM+Ts6dCwDmPPb+6uAgxf4kPUhBAbEQBQQA0tuTU0+eXrErCU+vAGDGpkPVktl6gGLYZ+tNxzktCoiFKCAAkN72Hk3uC0wBmHHKjSqqk/dGFRQQC1FAAAAnbrHpeL5sOJA8C4wBMGPl7qPW3KqbAmIhCggA4HBNg1w0ZIY4ni8/e3OZ6TgADIpGo3L3K8XieL5cMrxAqupDpiOdEQXEQhQQAICIyDMFm4Mjnst2HjUdB4AhRZsPBz8L/jh3m+k4HaKAWIgCAgAQEaluCEmfkTPF8Xy56+XFEo1GTUcC0M0ikah8+w8LxPF8uWJ0oRxvCpuO1CEKiIUoIACAEybN3x4c+Zy9scx0HADd7POSA8HPgD8v2W06TqdQQCxEAQEAnNAQCss3xswWx/PlW8/Nl3CEKQiQLkLhiFw/vkgcz5frxxdJKBwxHalTKCCWUErdq5Sa3rrV5+bmmn7vAACSxPvL9gRHQD9Zvc90HADd5M9Ldgf/9j8vOWA6TqdRQCzEBAQAEKs5HJF+z8wVx/Pl2nFzpKnZjqOgAM7e8aawXDG6UBzPl2//YYFELJp+UkAsRAEBALTlrz0YHAl9p3iX6TgAEuzluSev/yrafNh0nC6hgFiIAgIAaCsSicrtL7bcCefyUYVS19hsOhKABKmqD8klwwvE8Xy5+9Vi6+6ARwGxEAUEANCe+VuOBEdEJ87ZajoOgAR5esam4N/6yt32rQFEAbEQBQQA0J5oNCo/nrREHM+X3sMKpLKuyXQkAHFWVt0gFw7JF8fz5cG3V5iOc1YoIBaigAAATmf1nsrgyOhTfyk1HQdAnA34eK04ni+ZA3zZfKjGdJyzQgGxEAUEAHAmv/jzSnE8X9xBebL3aL3pOADiZGtZjfQY0HKA4cmpJabjnDUKiIUoIACAM9lxpFayB+aJ4/ny2PurTccBECcPvr1cHM8XPThfDhw7bjrOWaOAWIgCAgDoyNDP1genYq3bV2U6DoBztHRHRfBv+ukZm0zHOScUEAtRQAAAHSmvbZSLh84Qx/Plx5OWWHebTgAnRaNR+e5Li8TxfMkZOVOqG0KmI50TCoiFKCAAgM54cfZWaxcqA3BS7EKjry/caTrOOaOAWIgCAgDojPqmZrlidKE4ni/fem6+hCNMQQDbNDVH5PrxReJ4vlw7bo40NodNRzpnFBALUUAAAJ31wbI9wZHTKSv2mo4DoIveWrQz+Df8eckB03HiggJiIQoIAKCzmsMRuWnCPHE8X74xZrYcb7L/6CmQLqobQvIvT80Sx/PlzokLJZIiU0wKiIUoIACArigsLQuOoL5UtM10HACdNL5gU/Bvd/H2ctNx4oYCYiEKCACgK6LRqNz9arE4ni+9hhVIRW2j6UgAOnCw6rjowfnieL787M1lpuPEFQXEQhQQAEBXrdl7LDiSOvzzDabjAOjAb6eViOP50mOAL5sP1ZiOE1cUEAtRQAAAZ+OR91aJ4/mSPTBPdpbXmY4D4DQ2HaqWHgNaDhj8dlqJ6ThxRwHphPPPP/+ftNYfaq1rlFLHtNavX3DBBf+jvcdmZ2f301qLUqoxdtNaXxmvPBQQAMDZ2F1RJ+6gPHE8Xx56Z4XpOADaEY1G5b7Xlorj+XLhkHw5WHXcdKS4o4B0glLqc611UY8ePb6itT5fa73Cdd2J7T1Wa/0DpdTWROahgAAAztaov5QGp2IVb68wHQdAG7M3nrxpxIRZW0zHSQgKSAeys7P/r1IqqpTKOfEx13Vv1VrXZmRk/Le2j3dd99+VUksTmYkCAgA4W1XHQ5IzcqY4ni/feWEBixMCSSQUjki/Z+eK4/ly5ZhCqW9qNh0pISggHWgtG6GMjIy/OvGx7Ozs/6u1lqysrEvaPl5r/aRSaqtSar5SqlopVaq1fqCrr+s4zj+7rntZe5tSav8NN9xg+r0DALDUO8W7WJwQSEKxiw5OW7nPdJyEoYB0wHXd+7TW5W0+/P9prSU7O/vGto9XSvVXSs3TWl93wQUX/A+t9Y+VUmGt9c1deV2t9QittZxu69u3r+n3DgDAUrGLE/YdXSh1jal5lBWwSVV9SPq0TifveDF1Fh1sDwUkIyNDa/2AUirc3qa1/ukZCki/Tn79qUqp97qSiQkIACCRijYdPnme+czNpuP8v/buPT6q+s7/+PjrY7e73f31t7utS4vQSTLn83WpWMUrpVqrVWtr12191LZutdvabVfpbu2vv+5jABUEREtVRAqo64Wq4K31hgMEEiCEgNxB7hBuASKEcAm5ZzJzPr8/mJwEBElgku98Z17Px+M8HuSQB76T853xvM+c8/0COW/k9Pbns5buOGQ7TreigJyGiNxgjGkNhUKfaNuXl5f3OWOMep53QSf/jbHGmLnpysQzIACAs+X7vt7xXPtMO5VHsm+mHcAV2w/UaWTosRnq7n55he043Y4CchrnnXfeZ0Qk6XnegLZ9nufdIiI1oVDoL078fmPMzyORyA867kvNovVsujJRQAAA6bB5X22w1sC9r66yHQfIWT/743INR2Mqw2bqroPZv0YPBaQTRORVESnJz8/vlZ+fHxaR9SIytu3vjTFz20qHiPyXiFRFIpFLQ6HQXxhjfmiMiXued0m68lBAAADpMuyttcFtH6t3H7EdB8g5i8qrg9fgmBkbbcfpERSQTigoKPg/IvKKMabOGHM4tQZIMAWvMWaXiNyd+vIcEbnfGLPLGFMvIiuNMd9KZx4KCAAgXarrmrX/8EINR2N66+RF6vvZ++ArkGkSSV9vGl+q4WhMB4yao0eb4rYj9QgKiIMoIACAdHqqZFtwBfa9DyptxwFyxmvLKoLX3kvv77Idp8dQQBxEAQEApFNza0KvGjtXw9GYDnpkrjbFE7YjAVmvtimulz1UpOFoTG8YV6KtiaTtSD2GAuIgCggAIN1mrP0wuBL7ZPFW23GArPfwjI3Ba65kywHbcXoUBcRBFBAAQLr5vq8/fOb9YFrePYcbbEcCsta2A3XqDTs27e7P/rjMdpweRwFxEAUEANAdNu+r1YLUWgT3TM3+tQgAG3zf1zufX3ps2t37cmPa3RNRQBxEAQEAdJcR764PbgspK6+2HQfIOnM27A9eY48WbrYdxwoKiIMoIACA7lLTGNcBo+YED8bGc+jBWKC7NcUTevXYeRqOxnTgw8Xa0NJqO5IVFBAHUUAAAN3p1aXtU4M+v3CH7ThA1phQvDV4bU1fk7tTXlNAHEQBAQB0p2TS13/+w0INR2Paf0ShVtc1244EOK/ySKOef/9MDUdj+v2nF+f0op8UEAdRQAAA3W1VxeHgSu1//2mN7TiA8wZPW6nhaEzzh8R044dHbcexigLiIAoIAKAn/L831gQlZPXuI7bjAM5atK06eC0Nf2ed7TjWUUAcRAEBAPSEqtomvWB4oYajMb1lYpkmk7l7ywhwploTSb1x3AINR2N68cjZWtMQtx3JOgqIgyggAICe8mzp9uDK7evLd9uOAzhnStmO4DU0bUmF7TgZgQLiIAoIAKCnxBNJ/frjJRqOxvSSUXO4egt0wYHaZr1wxLFPEW+eUKoJPkVUVQqIkyggAICetHBr+/3rw95aazsO4Ixfv7Y6eO2s2HXYdpyMQQFxEAUEANDT/vOVVRqOxjRvSExXVXAiBZzOovL24j7kzQ9sx8koFBAHUUAAAD2t6miT9k89kP7N8aXaygrpwCk1tyb02sfmazga0wGj5uiRhhbbkTIKBcQRInK7iExPbQ0DBw60PXYAADnmxcU7gyu6z7FCOnBKHVc8/9OKPbbjZBwKiIP4BAQAYEOiwwrpX3xgln5Y02g7EpBxdlbXq9zHiucfhwLiIAoIAMCWtXtqNH/IsSu790xdYTsOkFF839c7nlui4WhMvWEztLyq1nakjEQBcRAFBABg04h31we3l8zbVGU7DpAx3vugMnht/L5wk+04GYsC4iAKCADApqNNcb38oSINR2N61di52tiSsB0JsK62w+viK7/jdfFxKCAOooAAAGybvqb9Su+jhZttxwGs45PBzqOAOIgCAgCwjXvdgXYdn426+2WejTodCoiDKCAAgEzQcbaf255erMkks/0g97QmkswO10UUEAdRQAAAmeLJDusdTFtSYTsO0OP+Z8H24DXwbOl223GcQAFxEAUEAJApWlqTeuO4BRqOxrT/8EKu/iKn7Kyu1/PvP/Yp4C0TyzTBp4CdQgFxEAUEAJBJVu8+Etz/fteUZSy8hpzg+77+4JnFwXNQm/fxHFRnUUAcRAEBAGSa0e9tCG5DeWf1XttxgG73ytKKYMyPm7PFdhynUEAcRAEBAGSahpZWvXrsPA1HYzpg1Bw9WNdsOxLQbT6sadT+wws1HI3pDeNKtLmVNT+6ggLiIAoIACATLSqvDq4I/+rVVbbjAN3C9329a8oyDUdjmjckpqsqDtuO5BwKiIMoIACATBX98wdBCSneuN92HCDt3u2wCOeo9zbYjuMkCoiDKCAAgExV0xjXyx8q0nA0pleOKdajTXHbkYC0OVTfogNGzdFwNKZXjZ2rDS2ttiM5iQLiIAoIACCTzV6/L7hCPPSttbbjAGlz76urgrFdVl5tO46zKCAOooAAADLdL6etDE7UFm87aDsOcNbmbtofjOnonz+wHcdpFBAHUUAAAJmuuq5ZLxo5O7hVpa6ZW1XgrpqGuF45pljD0Zhe/lCR1jRya+HZoIA4iAICAHDB26v2BleMh7zJrVhw16863Ho1ZwOTK5wtCoiDKCAAABf4vq/3TF0RnLjN21RlOxLQZe990D7r1W/fWGM7TlaggDiIAgIAcMWh+ha9dPSxWbEue6hID9e32I4EdFrV0abgVsJBj8zVWmZ1SwsKiCNE5HYRmZ7aGgYOHGh77AAA0CkdH94dPHWl+r5vOxJwWr7v67+9sDRYcJDJFNKHAuIgPgEBALhmyJvtCxS+s3qv7TjAaU1dsisYs6NZcDCtKCAOooAAAFxT19yqV42dq+FoTC8cUagf1jTajgSc0s7qev2n+2dpOBrT6x8v0aZ4wnakrEIBcRAFBADgoqU7DmnekGNXlO94bokmk9yKhcyTSPp66+RFGo7GNDJ0hq7bW2M7UtahgDiIAgIAcNXDMzcGt7W8uHin7TjAR0yaXx6M0QnFW23HyUoUEAdRQAAArmpuTeiN4xZoOBrT8++fqdsP1NmOBAQ2VB5Vb9gMDUdjesvEMm1NJG1HykoUEAdRQAAALut4kvfPf1ioLa2c5MG+xpaE3jCuhHLcAyggDqKAAABcN3n+NmYYQkbpOFPbS9we2K0oIA6igAAAXJdM+nrHc0uCE765m/bbjoQcNn1N+2rnv3hpOWvVdDMKiIMoIACAbHCgtjlYJf3ikbN1X02T7UjIQRUHG7T/8MJgtfOaBlY7724UEAdRQAAA2aJ064Fgat7vP71YE0zNix7U0prUW/6wUMPRmBYMnaHLdx6yHSknUEAcRAEBAGSTsbM2Bbe/PFG0xXYc5JAxM9qnhZ44r9x2nJxBAXEQBQQAkE3iiaR+d1KZhqMxzR8S0/e3H7QdCTlg3uaqoHz86FkWxuxJFBAHUUAAANlmz+EGvXDEsfvwrxhTpIfqW2xHQhbbf7RJB4yao+FoTC8dPUerann+qCdRQBxEAQEAZKNZ6z4Mrkj/dMoyZiJCt0gkff3hM+8HY23BlgO2I+UcCoiDKCAAgGz1wDvrghPDZxZssx0HWeiJoi3BGHtk5ibbcXISBcRBFBAAQLZqiif0pvGlwaxEi7ZV246ELDJ30/5g1rXvTCrTeCJpO1JOooA4iAICAMhmO6vrg+dBBoyao3uPNNqOhCywo7pe+6fG1SWj5mgl48oaCoiDKCAAgGw3b3NVcKX62xMWalM8YTsSHFbf3KrXP14SfLLGTGt2UUAcRAEBAOSCCcVbg3v1f/P6Gh5KxxnxfV/vmboiGEvPLdxhO1LOo4A4iAICAMgFyaSvP39xeXDi+OLinbYjwUGT528LxtC9r66iyGYACoiDKCAAgFxR2xTX6x6br+FoTCNDZ+iynYdsR4JDSrce0PzUrXzfHF+qjS3cypcJKCAOooAAAHJJeVWdXjC8MLVoXJHuq2HROJze7kMNetHI2RqOxvSikbN196EG25GQQgFxhIjcLiLTU1vDwIEDbY8dAAB6TOH6fcFtNN+ZVKbNrVzJxqk1trRP55w/JKalW1lsMJNQQBzEJyAAgFz02OzNPJSO00omfR08dWUwVibPZ0HLTEMBcRAFBACQixJJX386ZVlwYvlk8VbbkZCBHp65MRgjg6eupKhmIAqIgyggAIBcVdfcGtxaE47G9K1Ve2xHQgZ5+f1dwdj4l4llrB+ToSggDqKAAABy2Yc1jXrlmGINR2PqDWNRORwzb1NVMOPVVWPnanVds+1IOAUKiIMoIACAXLeh8qh+8YFZGo7G9MIRhVpeVWs7EixaX1kTjIcvPThby6vqbEfCx6CAOIgCAgCA6vzNVVowdIaGozH9yu/m6oFarnjnog9rGvWKMUUajsZUhs3UJXwilvEoIA6igAAAcMy0JRXBPf+3TCxjobkcU9sU1288sSAYA2+v2ms7EjqBAuIgCggAAO0embkpOAH9xUvLNZFk1qNcEE8k9c7nlwbHfgKzojmDAuIgCggAAO2SSV8HT2tf92HoW2uZejXLJZO+/vq11cEx/+0brAvjEgqIgyggAAAcryme0O89tSg4IR393gZOSLOU7/s65M21wbH+0bNLNJ5I2o6FLqCAOIgCAgDARx1tiuvNE9rXCHl89mbbkZBmvu/rqPc2BMf41smLtL651XYsdBEFxEEUEAAATu5QfYveMK4kOEGdPH+b7UhIo8dmbw6O7bcnLNSjTXHbkXAGKCAOooAAAHBqVUeb9JrfzwtOVP+4aKftSEiDSfPLg2N647gFeri+xXYknCEKiIMoIAAAfLy9Rxp10CNzgxPW15ftth0JZ2FK2Y7gWH7t0flaVdtkOxLOAgXEQRQQAABOb9fBer38oWML1OUNiem7ayptR8IZeH3Z7qB8DHpkrlYeabQdCWeJAuIgCggAAJ2zdX+tDhg1R8PRmBYMnUEJcczry3dr3pBj5eOKMUW662C97UhIAwqIgyggAAB03rq9NXrhiMLgk5CpS3bZjoROeLZ0e/DJxyWj5mh5Va3tSEgTCoiDKCAAAHTNur01eknqk5BwNKaT5pfbjoRT8H1fHy1sn+3qyjHFunU/5SObUEAcRAEBAKDrth+o0y8/XByc2D48cyOLFWaYZNLXB95ZFxyja34/T3cfarAdC2lGAXEQBQQAgDNTeaRRr31sfnCCO+TNDzSRpIRkgngiqfe+uio4Nt94YgGzXWUpCoiDKCAAAJy56rpm/daT7SumD562Ultak7Zj5bSmeELvmrLsuBXOaxpYZDBbUUAcISK3i8j01NYwcOBA22MHAABnHW2K621PLQ5OeH/8/FKta261HSsn1TTE9ftPtx+LO55bog0tHItsRgFxEJ+AAABw9hpbEvqTF5YGJ743jCthmtceVl5Vq197tP2WuMFTV2pza8J2LHQzCoiDKCAAAKRHPJHU37y+JjgBvmjkbC0rr7YdKycUb9yvFwwvDH739729ludxcgQFxEEUEAAA0sf3fX22dLvmpxa8Kxg6Q18o28EMWd3E932dNL88WGAwMnSGvvw+a7PkEgqIgyggAACkX8mWA8GCheFoTP/7T2u4HSjNGlsS+l+vtM90NWDUHF2y/aDtWOhhFBAHUUAAAOgeO6rr9boO0/R+d1IZU8GmSeWRRr15QvvsYzeNL9U9h1njIxdRQBxEAQEAoPscbYrrTztMCXvFmCJduJXnQs7G3E379dLRc4572JyZrnIXBcRBFBAAALpXIunr2FmbghPmcDSmD05fr01xbsnqivrmVh3y5trjfo8TirfyfE2Oo4A4iAICAEDPKFy/TweMar9y//XHS3Td3hrbsZywYtdh/erv5wW/u8seKtL5m6tsx0IGoIA4iAICAEDPqaptOu6WrMjQGTpxXrm2Jlg9/WTiiaQ+NntzMKtYOBrTu19eoYfrW2xHQ4aggDiIAgIAQM/yfV+nLanQf7p/VnBSfevkRSxceILyqjr99oSFwe+o//BCfXPlHm65wnEoIA6igAAAYMfO6nr9zqSy4ATb3DdTH5+9OecfqK5tiuvDMzeqDJsZ/G5ue3oxs1zhpCggDqKAAABgT2siqROKt2pk6IzgZPvKMcX61qo9msyxlbwTSV9fW1ahl44uCn4XMmymPrNgG6ua45QoIA6igAAAYN+W/bV6x3NLjpvh6V8mlunKisO2o/WIJdsP6reeLD3u579ryjLdfqDOdjRkOAqIgyggAABkBt/3tWjDfv3ao/OPOxG/99VVWnmk0Xa8blFxsEHvmbriuJ/3+sdLdMGWA7ajwREUEAdRQAAAyCwtrUl9tnS79h9ReNxsWb9+bbWur8yOaXtX7z6ig6et1IIOt55dNHK2vrh4JzOCoUsoIA6igAAAkJkO1jXr0LfWHjcFbTga09v/532dt6nKuWdEEklfC9fv0+89tei4nycydIY+OH29Hmlgal10HQXEQRQQAAAy247qer3/7XV6/v0zjztx//rjJfrK0oqMX1G9vrlVX1y8U6/psJBgOBrTLz4wSx+cvl53H2J2K5w5CoiDKCAAALjhcH2LTpxXrpc9VHTciXy/B2bp4Kkr9d01lVrbFLcdU1VVaxrj+taqPfqLl5Z/pDgNfLhYny7ZpjWNmZEVbqOAdFJBQcFlIrJNRJac7ntF5F4RqRCRJhFZ6nneJenMQgEBAMAtza0JfWP5bv3GEwuOO7Fvm7b2p1OW6evLduuhHl4t/EBts05bUqF3Pr/0uGmF27abJ5TqO6v3apxnPJBGFJBO8DzvRyKy2xgz63QFxBjzXWNMXSQSubZ3796f8jxvuDFmX69evf4mXXkoIAAAuMn3fV2y/aCOeHe9Dny4+CMn/AVDZ+hN40v1t2+s0SllO3T5zkNa35yeRQ5rm+K6dMchfX7hDv3N62v0G08s+MizKuFoTL/yu7k6+r0NumLXYVYwR7eggHSC53k/69u3b29jzIOnKyAiMkNExnfYdY4xplJE/jVdeSggAAC4z/d9XbP7iP5u1qaPTOPbccsbEtNrH5uvv5y2UkdO36Dji7bqC2U79M2Ve7Row35dtvOQrq+s0aU7DmnRhv365xV79IWyHfpE0RZ9cPp6HTx15cf++23Ppjw2e7Ou21tD6UC3o4B0QWcKiDFmn+d5d56wb6Yx5vGu/LfC4fDnPc+75GSbMaalX79+et1117GxsbGxsbFlyXb1NdfqZYOu1i9d8RXtd+kglYsHdtvW79JBetEVV+nlg76qV19zrfWfnS23tn79+qmINJ3J+XjO6WQBaRWRmzvuE5GpxpiXuvrfMsboqTYRSYpIhTFmBxtbpm+pZ6KOMGbZXNkYs2wubYxXNtc2EWkWkeZwOPz5MzknzwrGmB+LSOJkmzHmxx2+rzMFJH6yAuJ53otdyfRxn4CIyL8aYzTdD7cD3SX1yR1jFs5gzMIljFe4hjHbBZ0sIJUdS0soFAqJSKGIPJquHBw0uIYxC9cwZuESxitcw5jtgk4WkHdE5MkOuz4hIgc8z7stXTk4aHANYxauYczCJYxXuIYx2wWnKiDGmM0FBQVXhUKhUCQSucmkpuE999xz/1ZExopIRV5e3l+lKwcHDa5hzMI1jFm4hPEK1zBmO8EYsyX1sExCRPy2B2fy8/PDqb/XSCRyU9v3i8jdbQsRGmMWep53QTrzcNDgGsYsXMOYhUsYr3ANY9ZBHDS4hjEL1zBm4RLGK1zDmHUQBw2uYczCNYxZuITxCtcwZh0UDoc/b4x5MKfnToZTGLNwDWMWLmG8wjWMWQAAAAAAAAAAAAAAAAAAAAAAAAAAAAAAAAAAAAAAAAAAAAAAAAAAAAAAAAAAAABwnud5g40xO0WkWURWGmOutp0JAAD0jM9+9rP/2xizXETWiMg6Y8zPbWcCTsUYM9QYs9wYUyciB4wx7+Tn559vOxe6IBKJ/MAYE/c8799FpJ+IjDfG1BcUFHzBdjbgZESknzHmsIhsF5E1xph6ESmxnQsAHPaJ3r17fyoUCoV69+79KWPMjvPOO+8ztkMBJyMihSLyE8/zLjDGXCQiMRGp6NWr19/YzoZOEpGlIvJUx33GmE3GmEdsZQJOR0RmFxQUXJj687a8vLy/sp0JOBljzGZjjJ5sE5Ff2c4HnKhPnz7/ICIVvXv3/iwXfOACz/POTb2nfjUU4n3XBX8pIgljzHc77hSRJ0Vkga1QwOkYY3aGQqG/TN02sMV2HuBUUidwGolErsvLy/tcJBLpa4xp9Tzve57nfdJ2PqBNXl7e3xljPhCRRs/zftm2nws+yHSRSMRLvc/2D4V43814ffv27Z06QIM67jfGDOOkDpnK87xPi8jG1J+/bIx523Ym4FQikci1qf/xfTIUCoVE5GJjjObn5/eynQ04mfz8/F7GmEVtY5QLPshw54jIdGPMwrYdvO9muLYC4nnelzvuF5H7jDGbbeUCPo7neV8WkT+n/nyXiIy1nQk4FRH5lYhs6PD1T0TkgM1MwOmIyFOe593GBR9kOmPMJGPMLs/z+rTt430383ELFpzjed7PjDEjQ6FgEoW1ffr0+QfbuYCTMcY8Z4x5re3r1EQfxTYzASfKz8/v5Xnep0Oh4FPmDfn5+V/CYp0hAAADI0lEQVTigg8ymed5fxCRPeFwOL/jft53HZB6CH3yCfs28hA6AJw9Y8wyY8ywtq9FpMQYM85mJuBEkUjk0tRD5h8YY9Z6nndPKMQFH2Ssc4wxE40xlQUFBXLiX/K+64AO0/DelZqG9wljTH1+fn7YdjYAcNz/EpEGEfl22w4R2S0i99oMBQAuE5HJIlLjed41eXl5n2vb+vTp89ch3nfdkVqIcJcxpkVEVrZNYwZkolNNrde22c4HtCkoKBBjjHZcV0lE3hORI7zPAsCZ+Zgpdn/C+y6AbhGJRPqKSEnqVsG1nufdZjsTALjsdBd2uOADAMhp4XD48yJycSgUCkUikX8Ukb2sfgoA6cFFHgAATsMYszYSifS1nQMAsgEXeQAA+BgFBQWXich62zkAIFtxkQcAgJTzzjvvMyKyMRKJDLKdBQCyERd5AABI8TzvkyJS6nnenbazAEA24iIPAADtzhGRV40xD9oOAgDZiIs8AAB0UFBQcJWI+CKypm0rKCi40HYuAMgSXOQBAAAA0DO4yAMAAAAAAAAAAAAAAAAAAAAAAAAAAAAAAAAAAAAAAAAAAAAAAAAAAAAAAAAAAAAAAAAAAAAAAAAAAAAAyHie531aRJ4Ukf0ictTzvBdDodAnROR5Y8yztvMBAAAAyBLnnnvu34rIGmPMJhG5VUT+Q0R8Y8x/ikhDOBzOt50RAAAAQJYQkdEi0hiJRPp22LdSRGpE5Hmb2QAAAABkGWNMpYg8fcK+ucaYVs/zIrZyAQAAAMgykUjEM8aoiNzacb+IlKaeAwEAAACA9PA870ZjjHqed0nbvlQpafU879c2swEAAADIMsaY640xaoy5vm2fiLyVKiX/12Y2AAAAAFnmC1/4wt+LSKMxZnkkEvmmiIw3xnwoIu+LSInneV+0nREAAABAFklNvbvNGBMXkY3GmItE5AZjzCER+aPtfAAAAAAAAAAAAAAAAAAAAAAAAAAAAAAAAAAAAAAAAAAAAAAAAAAAAAAAAAAAAAAAAAAAAAAAAAAAAAAAAAAAAAAAAAAAAAAAAAAAAAAAAAAAAAAAAABg3/8HZ9CNlhTjnzsAAAAASUVORK5CYII=\" width=\"800\">"
      ],
      "text/plain": [
       "<IPython.core.display.HTML object>"
      ]
     },
     "metadata": {},
     "output_type": "display_data"
    }
   ],
   "source": [
    "# Example: the final plot looks like this:\n",
    "fig = matplotlib.pyplot.figure()"
   ]
  },
  {
   "cell_type": "code",
   "execution_count": 48,
   "metadata": {
    "slideshow": {
     "slide_type": "subslide"
    }
   },
   "outputs": [],
   "source": [
    "# Split the figure into an array of fields: ncols x nrows.\n",
    "grid = matplotlib.pyplot.GridSpec(ncols=1, nrows=1)"
   ]
  },
  {
   "cell_type": "code",
   "execution_count": 49,
   "metadata": {
    "slideshow": {
     "slide_type": "fragment"
    }
   },
   "outputs": [],
   "source": [
    "# Add a subplot by specifying column and row.\n",
    "# You can also use slicing here for combining fields.\n",
    "ax = fig.add_subplot(grid[0, 0])"
   ]
  },
  {
   "cell_type": "code",
   "execution_count": 50,
   "metadata": {
    "slideshow": {
     "slide_type": "fragment"
    }
   },
   "outputs": [],
   "source": [
    "# Input data\n",
    "xval = np.linspace(0., 2.*np.pi, 101)\n",
    "yval = np.sin(xval)"
   ]
  },
  {
   "cell_type": "code",
   "execution_count": 51,
   "metadata": {
    "slideshow": {
     "slide_type": "fragment"
    }
   },
   "outputs": [
    {
     "data": {
      "text/plain": [
       "[<matplotlib.lines.Line2D at 0x7f0ff9aa05f8>]"
      ]
     },
     "execution_count": 51,
     "metadata": {},
     "output_type": "execute_result"
    }
   ],
   "source": [
    "# Plot the input data:\n",
    "# Combine the data points with a solid line.\n",
    "ax.plot(xval, yval, \"-\", label=\"This is the sine function.\")"
   ]
  },
  {
   "cell_type": "code",
   "execution_count": 52,
   "metadata": {
    "slideshow": {
     "slide_type": "subslide"
    }
   },
   "outputs": [
    {
     "data": {
      "text/plain": [
       "(-1.0, 1.0)"
      ]
     },
     "execution_count": 52,
     "metadata": {},
     "output_type": "execute_result"
    }
   ],
   "source": [
    "# Axes formatting\n",
    "ax.set_xlim(xval[0], xval[-1])\n",
    "ax.set_ylim(-1., 1.)"
   ]
  },
  {
   "cell_type": "code",
   "execution_count": 53,
   "metadata": {
    "slideshow": {
     "slide_type": "fragment"
    }
   },
   "outputs": [],
   "source": [
    "ax.xaxis.set_major_locator(matplotlib.ticker.LinearLocator(numticks=5))"
   ]
  },
  {
   "cell_type": "code",
   "execution_count": 54,
   "metadata": {
    "slideshow": {
     "slide_type": "fragment"
    }
   },
   "outputs": [],
   "source": [
    "ax.xaxis.set_major_formatter(matplotlib.ticker.FixedFormatter(\n",
    "    [\"$0$\", r\"$\\frac{\\pi}{2}$\", r\"$\\pi$\", r\"$\\frac{3\\pi}{2}$\", r\"$2\\pi$\"]))"
   ]
  },
  {
   "cell_type": "code",
   "execution_count": 55,
   "metadata": {
    "slideshow": {
     "slide_type": "fragment"
    }
   },
   "outputs": [],
   "source": [
    "# For linear ticks, Matplotlib is pretty good in figuring out the location \n",
    "# of minor ticks.\n",
    "ax.yaxis.set_major_locator(matplotlib.ticker.LinearLocator(numticks=5))\n",
    "ax.yaxis.set_minor_locator(matplotlib.ticker.AutoMinorLocator())"
   ]
  },
  {
   "cell_type": "code",
   "execution_count": 56,
   "metadata": {
    "slideshow": {
     "slide_type": "fragment"
    }
   },
   "outputs": [
    {
     "data": {
      "text/plain": [
       "Text(0,0.5,'$\\\\sin(\\\\alpha)$')"
      ]
     },
     "execution_count": 56,
     "metadata": {},
     "output_type": "execute_result"
    }
   ],
   "source": [
    "# Labels\n",
    "ax.set_xlabel(r\"$\\alpha$\")\n",
    "ax.set_ylabel(r\"$\\sin(\\alpha)$\")"
   ]
  },
  {
   "cell_type": "code",
   "execution_count": 57,
   "metadata": {
    "slideshow": {
     "slide_type": "fragment"
    }
   },
   "outputs": [
    {
     "data": {
      "text/plain": [
       "<matplotlib.legend.Legend at 0x7f0ff9aa0550>"
      ]
     },
     "execution_count": 57,
     "metadata": {},
     "output_type": "execute_result"
    }
   ],
   "source": [
    "# Legend\n",
    "ax.legend(loc=\"upper right\")"
   ]
  },
  {
   "cell_type": "code",
   "execution_count": 58,
   "metadata": {
    "slideshow": {
     "slide_type": "subslide"
    }
   },
   "outputs": [],
   "source": [
    "# Shrink the axes in order to fit in the labels.\n",
    "grid.tight_layout(fig)"
   ]
  },
  {
   "cell_type": "code",
   "execution_count": 59,
   "metadata": {
    "slideshow": {
     "slide_type": "fragment"
    }
   },
   "outputs": [],
   "source": [
    "# Save the figure.\n",
    "fig.savefig(\"example.pdf\")"
   ]
  },
  {
   "cell_type": "code",
   "execution_count": 60,
   "metadata": {
    "slideshow": {
     "slide_type": "skip"
    }
   },
   "outputs": [],
   "source": [
    "os.remove(\"example.pdf\")"
   ]
  }
 ],
 "metadata": {
  "celltoolbar": "Slideshow",
  "kernelspec": {
   "display_name": "Python 3 (adv-py3-course)",
   "language": "python",
   "name": "adv-py3-course"
  },
  "language_info": {
   "codemirror_mode": {
    "name": "ipython",
    "version": 3
   },
   "file_extension": ".py",
   "mimetype": "text/x-python",
   "name": "python",
   "nbconvert_exporter": "python",
   "pygments_lexer": "ipython3",
   "version": "3.8.10"
  }
 },
 "nbformat": 4,
 "nbformat_minor": 2
}
