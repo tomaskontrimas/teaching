{
 "cells": [
  {
   "cell_type": "markdown",
   "metadata": {
    "slideshow": {
     "slide_type": "slide"
    }
   },
   "source": [
    "# Advanced Python Programming\n",
    "\n",
    "Dr. Martin Wolf, Tomas Kontrimas\n",
    "\n",
    "Advanced Python Programming, WS 2022/23"
   ]
  },
  {
   "cell_type": "code",
   "execution_count": 1,
   "metadata": {
    "slideshow": {
     "slide_type": "fragment"
    }
   },
   "outputs": [
    {
     "name": "stdout",
     "output_type": "stream",
     "text": [
      "Hello World\n"
     ]
    }
   ],
   "source": [
    "class Word:\n",
    "    def __init__(self, word):\n",
    "        self.word = word\n",
    "    def __add__(self, rhs):\n",
    "        return Word(self.word + ' ' + str(rhs))\n",
    "    def __str__(self):\n",
    "        return self.word\n",
    "    \n",
    "hello = Word('Hello')\n",
    "world = Word('World')\n",
    "print(hello + world)"
   ]
  },
  {
   "cell_type": "markdown",
   "metadata": {
    "slideshow": {
     "slide_type": "slide"
    }
   },
   "source": [
    "# Learning objectives of this course\n",
    "\n",
    "* Understanding the concepts of object-oriented programming (OOP), in particular in Python\n",
    "* Understanding inheritance in OOP\n",
    "* Some useful software packages for data processing and plotting\n",
    "* Working with version-control systems like `git` and `github.com`"
   ]
  },
  {
   "cell_type": "markdown",
   "metadata": {
    "slideshow": {
     "slide_type": "slide"
    }
   },
   "source": [
    "# Technical Prerequisites Of This Course\n",
    "\n",
    "* Computer with Python and Jupyter Notebook support\n",
    "\n",
    "    - Linux, Windows, Mac\n",
    "    \n",
    "* Alternatively, create and use Jupyter notebooks on google: https://colab.research.google.com\n",
    "    \n",
    "* *github.com* account"
   ]
  },
  {
   "cell_type": "markdown",
   "metadata": {
    "slideshow": {
     "slide_type": "slide"
    }
   },
   "source": [
    "# Why do we need to be able to develop software, in particular in physics?"
   ]
  },
  {
   "cell_type": "markdown",
   "metadata": {
    "slideshow": {
     "slide_type": "subslide"
    }
   },
   "source": [
    "* For most of our professional time we work with ...\n",
    "\n",
    "    * data taking\n",
    "    * data simulation\n",
    "    * data management\n",
    "    * data selection\n",
    "    * data analysis\n",
    "    \n",
    "* All of the above needs software that is ...\n",
    "\n",
    "    * efficient\n",
    "    * modular\n",
    "    * well maintainable\n",
    "    * scalable"
   ]
  },
  {
   "cell_type": "markdown",
   "metadata": {
    "slideshow": {
     "slide_type": "subslide"
    }
   },
   "source": [
    "**Example: Trigger rate of the IceCube Neutrino Detector at South Pole:**\n",
    "\n",
    "![Trigger rate of the Icecube Neutrino Detector at South Pole](figures/icecube_trigger_rate.png)"
   ]
  },
  {
   "cell_type": "markdown",
   "metadata": {
    "slideshow": {
     "slide_type": "slide"
    }
   },
   "source": [
    "# Overview\n",
    "\n",
    "DON'T PANIC!  \n",
    "Just read the instructions:\n",
    "<https://docs.python.org/3/>\n",
    "\n",
    "## Intro and course setup\n",
    "* Jupyter Notebook and virtual Python environments on your own computer\n",
    "* Jupyter Notebook on Google Colab"
   ]
  },
  {
   "cell_type": "markdown",
   "metadata": {
    "slideshow": {
     "slide_type": "subslide"
    }
   },
   "source": [
    "## The basics of Python (recap)\n",
    "* Data types in Python\n",
    "* Python as a calculator\n",
    "* String formatting\n",
    "* Loops and Conditions\n",
    "* List comprehension\n",
    "* Working with files\n",
    "* Functions\n",
    "* Lambda functions\n",
    "* Exceptions\n",
    "* Decorators\n",
    "* PEP8 Coding Style\n",
    "* Common pitfalls\n",
    "\n",
    "## Object-Oriented Programming (OOP)\n",
    "* Classes\n",
    "* Properties\n",
    "* Class methods\n",
    "* Static methods\n",
    "* Operator methods\n",
    "* Inheritance\n",
    "* Multiple inheritance\n",
    "* Abstract base classes\n",
    "* Iterator protocol\n",
    "* Generators"
   ]
  },
  {
   "cell_type": "markdown",
   "metadata": {
    "slideshow": {
     "slide_type": "subslide"
    }
   },
   "source": [
    "## Advanced packages\n",
    "* `numpy` for data processing\n",
    "* `pandas` for structural data processing\n",
    "* `matplotlib` for plotting\n",
    "\n",
    "## Working with version control systems (git)\n",
    "* What is a version control system?\n",
    "* What is `git`?\n",
    "* Cloning a repository\n",
    "* Working with branches\n",
    "* Commiting code changes\n",
    "* Merging two branches\n",
    "* Resolving merge conflicts\n",
    "* Pull requests on github.com"
   ]
  },
  {
   "cell_type": "markdown",
   "metadata": {
    "slideshow": {
     "slide_type": "slide"
    }
   },
   "source": [
    "# Jupyter Notebook and virtual Python environments on your own computer"
   ]
  },
  {
   "cell_type": "markdown",
   "metadata": {
    "slideshow": {
     "slide_type": "subslide"
    }
   },
   "source": [
    "This shows the installation of Jupyter and Python virtual environments on Linux (Ubuntu).\n",
    "\n",
    "First, let's install Jupyter via `apt-get`:\n",
    "\n",
    "```bash\n",
    "sudo apt-get install python3-notebook python3-ipykernel\n",
    "```\n",
    "\n",
    "For this course, I recommend to setup a dedicated virtual Python 3 environment:\n",
    "    \n",
    "```bash\n",
    "sudo apt-get install virtualenvwrapper\n",
    "source /usr/share/virtualenvwrapper/virtualenvwrapper.sh\n",
    "```\n",
    "  \n",
    "The environment is created via:\n",
    "  \n",
    "```bash\n",
    "mkvirtualenv -p /usr/bin/python3 --system-site-packages adv-py3-course\n",
    "pip install -U astropy matplotlib numpy scipy\n",
    "```\n",
    "\n",
    "The final step is to add the virtual Python environment to Jupyter Notebook:\n",
    "\n",
    "```bash\n",
    "python -m ipykernel install --user \\\n",
    "    --name adv-py3-course --display-name \"Python 3 (adv-py3-course)\"\n",
    "```"
   ]
  },
  {
   "cell_type": "markdown",
   "metadata": {
    "slideshow": {
     "slide_type": "subslide"
    }
   },
   "source": [
    "I further recommend to put the\n",
    "\n",
    "```bash\n",
    "source /usr/share/virtualenvwrapper/virtualenvwrapper.sh\n",
    "```\n",
    "\n",
    "line into your `.profile` and launch a new terminal window.\n",
    "\n",
    "You can start a Jupyter Notebook via:\n",
    "\n",
    "```bash\n",
    "jupyter notebook\n",
    "```\n",
    "\n",
    "and create a new `py3-astro` notebook.\n",
    "\n",
    "For executing Python scripts, you can activate the `py3-astro` environment via:\n",
    "\n",
    "```bash\n",
    "workon py3-astro\n",
    "```\n",
    "\n",
    "and deactivate it via:\n",
    "\n",
    "```bash\n",
    "deactivate\n",
    "```"
   ]
  },
  {
   "cell_type": "markdown",
   "metadata": {
    "slideshow": {
     "slide_type": "slide"
    }
   },
   "source": [
    "# Jupyter Notebook on Google Colab"
   ]
  },
  {
   "cell_type": "markdown",
   "metadata": {
    "slideshow": {
     "slide_type": "fragment"
    }
   },
   "source": [
    "* Goto https://colab.research.google.com and create a new notebook\n",
    "* To install new packages, type `!pip install <package>`"
   ]
  },
  {
   "cell_type": "markdown",
   "metadata": {
    "slideshow": {
     "slide_type": "slide"
    }
   },
   "source": [
    "# The basics of Python"
   ]
  },
  {
   "cell_type": "markdown",
   "metadata": {
    "slideshow": {
     "slide_type": "subslide"
    }
   },
   "source": [
    "* Python is an interpreted (no compilation) and loosely typed programming language.\n",
    "* The latest major version of Python is **Python3**. Don't use Python2 anymore!"
   ]
  },
  {
   "cell_type": "code",
   "execution_count": 2,
   "metadata": {
    "slideshow": {
     "slide_type": "skip"
    }
   },
   "outputs": [],
   "source": [
    "%matplotlib notebook"
   ]
  },
  {
   "cell_type": "code",
   "execution_count": 3,
   "metadata": {
    "slideshow": {
     "slide_type": "fragment"
    }
   },
   "outputs": [],
   "source": [
    "# Comments start with '#'."
   ]
  },
  {
   "cell_type": "code",
   "execution_count": 4,
   "metadata": {
    "slideshow": {
     "slide_type": "fragment"
    }
   },
   "outputs": [],
   "source": [
    "# Import modules.\n",
    "import os\n",
    "\n",
    "import matplotlib.pyplot\n",
    "import numpy as np"
   ]
  },
  {
   "cell_type": "code",
   "execution_count": 5,
   "metadata": {
    "slideshow": {
     "slide_type": "fragment"
    }
   },
   "outputs": [],
   "source": [
    "# Import only specific functions from a module.\n",
    "from __future__ import print_function, division"
   ]
  },
  {
   "cell_type": "code",
   "execution_count": 6,
   "metadata": {
    "slideshow": {
     "slide_type": "fragment"
    }
   },
   "outputs": [],
   "source": [
    "# Remember: never ever do 'from foo import *'"
   ]
  },
  {
   "cell_type": "code",
   "execution_count": 7,
   "metadata": {
    "slideshow": {
     "slide_type": "fragment"
    }
   },
   "outputs": [],
   "source": [
    "# Declare a variable.\n",
    "a = 5.\n",
    "a = \"Hello World!\""
   ]
  },
  {
   "cell_type": "markdown",
   "metadata": {
    "slideshow": {
     "slide_type": "slide"
    }
   },
   "source": [
    "## Data types"
   ]
  },
  {
   "cell_type": "markdown",
   "metadata": {
    "slideshow": {
     "slide_type": "subslide"
    }
   },
   "source": [
    "* Numeric types:  \n",
    "  `int, float, complex`\n",
    "* Sequence types:  \n",
    "  `str, unicode, list, tuple, bytearray, buffer`\n",
    "* Set types:  \n",
    "  `set, frozenset`\n",
    "* Map types:  \n",
    "  `dict`\n",
    "* Boolean types:\n",
    "  `bool`\n",
    "* The None type object: `None`\n",
    "* Mutable data types like `list` and `dict` are copied by reference.\n",
    "* Immutable data types like `int` and `float` are copied by value.\n",
    "* Full list:  \n",
    "  <https://docs.python.org/3.7/library/stdtypes.html#>"
   ]
  },
  {
   "cell_type": "markdown",
   "metadata": {
    "slideshow": {
     "slide_type": "slide"
    }
   },
   "source": [
    "## Python as a calculator"
   ]
  },
  {
   "cell_type": "code",
   "execution_count": 8,
   "metadata": {
    "slideshow": {
     "slide_type": "subslide"
    }
   },
   "outputs": [
    {
     "name": "stdout",
     "output_type": "stream",
     "text": [
      "5.  + 5. = 10.0\n",
      "10. - 5. = 5.0\n"
     ]
    }
   ],
   "source": [
    "# Addition and substraction\n",
    "print(\"5.  + 5. =\", 5. + 5.)\n",
    "print(\"10. - 5. =\", 10. - 5.)"
   ]
  },
  {
   "cell_type": "code",
   "execution_count": 9,
   "metadata": {
    "slideshow": {
     "slide_type": "fragment"
    }
   },
   "outputs": [
    {
     "name": "stdout",
     "output_type": "stream",
     "text": [
      "5.  * 5. = 25.0\n",
      "25. / 5. = 5.0\n"
     ]
    }
   ],
   "source": [
    "# Multiplication and division\n",
    "print(\"5.  * 5. =\", 5. * 5.)\n",
    "print(\"25. / 5. =\", 25. / 5.)"
   ]
  },
  {
   "cell_type": "code",
   "execution_count": 10,
   "metadata": {
    "slideshow": {
     "slide_type": "fragment"
    }
   },
   "outputs": [
    {
     "name": "stdout",
     "output_type": "stream",
     "text": [
      "25. % 4. = 1.0\n",
      "5.**2    = 25.0\n"
     ]
    }
   ],
   "source": [
    "# Modulo and exponentiation\n",
    "print(\"25. % 4. =\", 25. % 4.)\n",
    "print(\"5.**2    =\", 5.**2)"
   ]
  },
  {
   "cell_type": "code",
   "execution_count": 11,
   "metadata": {
    "slideshow": {
     "slide_type": "subslide"
    }
   },
   "outputs": [
    {
     "name": "stdout",
     "output_type": "stream",
     "text": [
      "a + 5. = 10.0\n"
     ]
    }
   ],
   "source": [
    "# Do calculations with variables.\n",
    "a = 5.\n",
    "print(\"a + 5. =\", a + 5.)"
   ]
  },
  {
   "cell_type": "code",
   "execution_count": 12,
   "metadata": {
    "slideshow": {
     "slide_type": "fragment"
    }
   },
   "outputs": [
    {
     "name": "stdout",
     "output_type": "stream",
     "text": [
      "c = a + b = 9.0\n"
     ]
    }
   ],
   "source": [
    "b = 4.\n",
    "c = a + b\n",
    "print(\"c = a + b =\", c)"
   ]
  },
  {
   "cell_type": "code",
   "execution_count": 13,
   "metadata": {
    "slideshow": {
     "slide_type": "fragment"
    }
   },
   "outputs": [
    {
     "name": "stdout",
     "output_type": "stream",
     "text": [
      "a = 10.0\n"
     ]
    }
   ],
   "source": [
    "# In-place modifications\n",
    "a += 5.\n",
    "print(\"a =\", a)"
   ]
  },
  {
   "cell_type": "code",
   "execution_count": 14,
   "metadata": {
    "slideshow": {
     "slide_type": "fragment"
    }
   },
   "outputs": [
    {
     "name": "stdout",
     "output_type": "stream",
     "text": [
      "exp(2.5)   = 12.182493960703473\n",
      "sin(pi/2.) = 1.0\n"
     ]
    }
   ],
   "source": [
    "# Call mathematical functions like sin, exp, log, ...\n",
    "# Instead of NumPy, you can also use the 'math' module.\n",
    "print(\"exp(2.5)   =\", np.exp(2.5))\n",
    "print(\"sin(pi/2.) =\", np.sin(np.pi/2.))"
   ]
  },
  {
   "cell_type": "markdown",
   "metadata": {
    "slideshow": {
     "slide_type": "slide"
    }
   },
   "source": [
    "## String formatting"
   ]
  },
  {
   "cell_type": "markdown",
   "metadata": {
    "slideshow": {
     "slide_type": "subslide"
    }
   },
   "source": [
    "General form:\n",
    "\n",
    "```\n",
    "[fill][align][sign][#][0][width][,][.precision][type]\n",
    "```\n",
    "\n",
    "See:  \n",
    "<https://docs.python.org/3/library/string.html#format-string-syntax>"
   ]
  },
  {
   "cell_type": "code",
   "execution_count": 15,
   "metadata": {
    "slideshow": {
     "slide_type": "fragment"
    }
   },
   "outputs": [
    {
     "name": "stdout",
     "output_type": "stream",
     "text": [
      "     +3.14\n",
      "0000000003\n"
     ]
    }
   ],
   "source": [
    "# Some examples\n",
    "print(\"{:>+10.2f}\".format(np.pi))\n",
    "print(\"{:010d}\".format(3))"
   ]
  },
  {
   "cell_type": "code",
   "execution_count": 16,
   "metadata": {
    "slideshow": {
     "slide_type": "fragment"
    }
   },
   "outputs": [
    {
     "name": "stdout",
     "output_type": "stream",
     "text": [
      "0, 1, 2, 3\n",
      "4\n"
     ]
    }
   ],
   "source": [
    "# Some more examples\n",
    "s = \"{0}, {1[0]}, {1[1]}, {2[a]}\"\n",
    "print(s.format(0, [1, 2], {\"a\": 3}))\n",
    "print(\"{key}\".format(key=4))"
   ]
  },
  {
   "cell_type": "markdown",
   "metadata": {
    "slideshow": {
     "slide_type": "subslide"
    }
   },
   "source": [
    "F-string (formatted string literal) introduced in Python 3.6 supports the same sting formatting form as `.format()`.\n",
    "They can embed Python expressions directly inside them using `f\"string example {expression:format}\"` syntax."
   ]
  },
  {
   "cell_type": "code",
   "execution_count": 17,
   "metadata": {
    "slideshow": {
     "slide_type": "fragment"
    }
   },
   "outputs": [
    {
     "name": "stdout",
     "output_type": "stream",
     "text": [
      "a = 10.5\n",
      "a = 10\n",
      "Evaluate some code: 25.00\n",
      "Evaluate some more code: 3\n"
     ]
    }
   ],
   "source": [
    "# f-string examples\n",
    "a = 10.5\n",
    "print(f\"a = {a}\")\n",
    "print(f\"a = {a:.0f}\")\n",
    "print(f\"Evaluate some code: {5*5:.2f}\")\n",
    "print(f\"Evaluate some more code: {np.sqrt(9):.0f}\")"
   ]
  },
  {
   "cell_type": "markdown",
   "metadata": {
    "slideshow": {
     "slide_type": "slide"
    }
   },
   "source": [
    "## Loops and Conditions"
   ]
  },
  {
   "cell_type": "code",
   "execution_count": 18,
   "metadata": {
    "slideshow": {
     "slide_type": "subslide"
    }
   },
   "outputs": [
    {
     "name": "stdout",
     "output_type": "stream",
     "text": [
      "Skip 0.\n",
      "1 is an odd  number.\n",
      "2 is an even number.\n"
     ]
    }
   ],
   "source": [
    "# Example for-loop with conditions\n",
    "for i in range(3):\n",
    "    if i == 0:\n",
    "        print(\"Skip 0.\")\n",
    "    elif i % 2 > 0:\n",
    "        print(\"{} is an odd  number.\".format(i))\n",
    "    else:\n",
    "        print(\"{} is an even number.\".format(i))"
   ]
  },
  {
   "cell_type": "code",
   "execution_count": 19,
   "metadata": {
    "slideshow": {
     "slide_type": "fragment"
    }
   },
   "outputs": [],
   "source": [
    "# Example while-loop\n",
    "d = {\"a\": 0, \"b\": 1}\n",
    "\n",
    "while len(d) > 0:\n",
    "    d.popitem()"
   ]
  },
  {
   "cell_type": "markdown",
   "metadata": {
    "slideshow": {
     "slide_type": "fragment"
    }
   },
   "source": [
    "* You can break out of a loop via `break`.\n",
    "* Iterations can be skipped via `continue`.\n",
    "* Remember that Python does not really know about scopes."
   ]
  },
  {
   "cell_type": "markdown",
   "metadata": {
    "slideshow": {
     "slide_type": "slide"
    }
   },
   "source": [
    "## List comprehension"
   ]
  },
  {
   "cell_type": "markdown",
   "metadata": {
    "slideshow": {
     "slide_type": "subslide"
    }
   },
   "source": [
    "An easy way to create iterables from existing ones."
   ]
  },
  {
   "cell_type": "code",
   "execution_count": 20,
   "metadata": {
    "slideshow": {
     "slide_type": "fragment"
    }
   },
   "outputs": [],
   "source": [
    "# List comprehension examples\n",
    "l = [i**2 for i in range(10)]\n",
    "l = [10. / i for i in range(10) if i > 0]\n",
    "l = [10. / i if i > 0 else np.inf for n in range(10)]\n",
    "l = [[a*i for a in [1, 2]] for i in range(1, 11)]"
   ]
  },
  {
   "cell_type": "code",
   "execution_count": 21,
   "metadata": {
    "slideshow": {
     "slide_type": "fragment"
    }
   },
   "outputs": [],
   "source": [
    "# The same works for dictionaries.\n",
    "d = {\"a\": 2., \"b\": 3.}\n",
    "d = {k: v**2 for k, v in d.items()}"
   ]
  },
  {
   "cell_type": "code",
   "execution_count": 22,
   "metadata": {
    "slideshow": {
     "slide_type": "fragment"
    }
   },
   "outputs": [],
   "source": [
    "# And of course sets\n",
    "s = {i**2 for i in range(10)}"
   ]
  },
  {
   "cell_type": "code",
   "execution_count": 23,
   "metadata": {
    "slideshow": {
     "slide_type": "fragment"
    }
   },
   "outputs": [
    {
     "name": "stdout",
     "output_type": "stream",
     "text": [
      "285\n"
     ]
    }
   ],
   "source": [
    "# Some generator magic\n",
    "g = (i**2 for i in range(10))\n",
    "r = sum(g)\n",
    "\n",
    "# We can also do this in one line.\n",
    "print(sum(i**2 for i in range(10)))"
   ]
  },
  {
   "cell_type": "markdown",
   "metadata": {
    "slideshow": {
     "slide_type": "slide"
    }
   },
   "source": [
    "## Working with files"
   ]
  },
  {
   "cell_type": "code",
   "execution_count": 24,
   "metadata": {
    "slideshow": {
     "slide_type": "subslide"
    }
   },
   "outputs": [],
   "source": [
    "# Create a text file and give it some input.\n",
    "with open(\"example.txt\", \"w\") as stream:\n",
    "    stream.write(\"This is a line.\\n\")\n",
    "    stream.write(\"This is another line.\")"
   ]
  },
  {
   "cell_type": "code",
   "execution_count": 25,
   "metadata": {
    "slideshow": {
     "slide_type": "fragment"
    }
   },
   "outputs": [
    {
     "name": "stdout",
     "output_type": "stream",
     "text": [
      "This is a line.\n",
      "This is another line.\n"
     ]
    }
   ],
   "source": [
    "# Read the content of the text file.\n",
    "with open(\"example.txt\", \"r\") as stream:\n",
    "    lines = stream.readlines()\n",
    "    \n",
    "print(\"\".join(lines))"
   ]
  },
  {
   "cell_type": "code",
   "execution_count": 26,
   "metadata": {
    "slideshow": {
     "slide_type": "skip"
    }
   },
   "outputs": [],
   "source": [
    "os.remove(\"example.txt\")"
   ]
  },
  {
   "cell_type": "markdown",
   "metadata": {
    "slideshow": {
     "slide_type": "slide"
    }
   },
   "source": [
    "## Functions"
   ]
  },
  {
   "cell_type": "code",
   "execution_count": 27,
   "metadata": {
    "slideshow": {
     "slide_type": "subslide"
    }
   },
   "outputs": [],
   "source": [
    "# A simple function that takes two arguments.\n",
    "def power(a, e=2.):\n",
    "    r\"\"\"Exponentiation\n",
    "    \n",
    "    Calculate: ``a**e``.\n",
    "    \n",
    "    Parameters\n",
    "    ----------\n",
    "    a : float\n",
    "        Some number\n",
    "    e : float, optional\n",
    "        Exponent\n",
    "        \n",
    "    Returns\n",
    "    -------\n",
    "    float\n",
    "        Result of ``a**e``\n",
    "    \n",
    "    \"\"\"\n",
    "    return a**e"
   ]
  },
  {
   "cell_type": "code",
   "execution_count": 28,
   "metadata": {
    "slideshow": {
     "slide_type": "fragment"
    }
   },
   "outputs": [
    {
     "name": "stdout",
     "output_type": "stream",
     "text": [
      "5.**2 = 25.0\n"
     ]
    }
   ],
   "source": [
    "print(\"5.**2 =\", power(5.))"
   ]
  },
  {
   "cell_type": "code",
   "execution_count": 29,
   "metadata": {
    "slideshow": {
     "slide_type": "subslide"
    }
   },
   "outputs": [],
   "source": [
    "# Alternative ways to call the function\n",
    "results = [\n",
    "    power(5., 2.),\n",
    "    power(5., e=2.),\n",
    "    power(a=5., e=2.),\n",
    "    power(e=2., a=5.),\n",
    "    power(*[5., 2.]),\n",
    "    power(**{\"a\": 5., \"e\": 2.})\n",
    "    ]"
   ]
  },
  {
   "cell_type": "code",
   "execution_count": 30,
   "metadata": {
    "slideshow": {
     "slide_type": "fragment"
    }
   },
   "outputs": [
    {
     "name": "stdout",
     "output_type": "stream",
     "text": [
      "Results: 25.0, 25.0, 25.0, 25.0, 25.0, 25.0\n"
     ]
    }
   ],
   "source": [
    "print(\"Results:\", \", \".join(\"{}\".format(r) for r in results))"
   ]
  },
  {
   "cell_type": "code",
   "execution_count": 31,
   "metadata": {
    "slideshow": {
     "slide_type": "fragment"
    }
   },
   "outputs": [],
   "source": [
    "# General syntax\n",
    "def func(*args, **kwargs):\n",
    "    print(f'args: {args}')\n",
    "    print(f'kwargs: {kwargs}')"
   ]
  },
  {
   "cell_type": "code",
   "execution_count": 32,
   "metadata": {
    "slideshow": {
     "slide_type": "fragment"
    }
   },
   "outputs": [
    {
     "name": "stdout",
     "output_type": "stream",
     "text": [
      "args: (3, 'a')\n",
      "kwargs: {'a': 2, 'b': '1'}\n"
     ]
    }
   ],
   "source": [
    "func(3 ,'a', a=2, b='1')"
   ]
  },
  {
   "cell_type": "markdown",
   "metadata": {
    "slideshow": {
     "slide_type": "fragment"
    }
   },
   "source": [
    "A few words about doc strings:\n",
    "\n",
    "* **Do write** them because they help to better understand your code.\n",
    "* We recommend the NumPy style:  \n",
    "  <https://sphinxcontrib-napoleon.readthedocs.io/en/latest/example_numpy.html>"
   ]
  },
  {
   "cell_type": "markdown",
   "metadata": {
    "slideshow": {
     "slide_type": "slide"
    }
   },
   "source": [
    "## Lambda functions"
   ]
  },
  {
   "cell_type": "markdown",
   "metadata": {
    "slideshow": {
     "slide_type": "subslide"
    }
   },
   "source": [
    "Lambdas are unnamed in-line functions."
   ]
  },
  {
   "cell_type": "code",
   "execution_count": 33,
   "metadata": {
    "slideshow": {
     "slide_type": "fragment"
    }
   },
   "outputs": [
    {
     "name": "stdout",
     "output_type": "stream",
     "text": [
      "['S', 'g', 'i', 'n', 'r', 't']\n",
      "['g', 'i', 'n', 'r', 'S', 't']\n"
     ]
    }
   ],
   "source": [
    "# Example for lambda usage\n",
    "print(sorted(\"String\"))\n",
    "print(sorted(\"String\", key=lambda s: s.lower()))"
   ]
  },
  {
   "cell_type": "code",
   "execution_count": 34,
   "metadata": {
    "slideshow": {
     "slide_type": "fragment"
    }
   },
   "outputs": [
    {
     "name": "stdout",
     "output_type": "stream",
     "text": [
      "5**2 = 25.0\n"
     ]
    }
   ],
   "source": [
    "# A lambda function can be assigned to a variable.\n",
    "square = lambda x: x**2\n",
    "print(\"5**2 =\", square(5.))"
   ]
  },
  {
   "cell_type": "markdown",
   "metadata": {
    "slideshow": {
     "slide_type": "slide"
    }
   },
   "source": [
    "## Exceptions"
   ]
  },
  {
   "cell_type": "code",
   "execution_count": 35,
   "metadata": {
    "slideshow": {
     "slide_type": "subslide"
    }
   },
   "outputs": [],
   "source": [
    "# Write a function that can raise an exception.\n",
    "def division(a, b):\n",
    "    r\"\"\"Divide `a` by `b`.\n",
    "    \n",
    "    Parameters\n",
    "    ----------\n",
    "    a,b : float\n",
    "        Nominator and denominator\n",
    "        \n",
    "    Returns\n",
    "    -------\n",
    "    float\n",
    "        The result of ``a/b``\n",
    "        \n",
    "    Raises\n",
    "    ------\n",
    "    ValueError\n",
    "        If the denominator `b` is zero.\n",
    "    \"\"\"\n",
    "    if np.fabs(b) > 0.:\n",
    "        return a / b\n",
    "    else:\n",
    "        raise ValueError(\"The denominator should not be zero.\")"
   ]
  },
  {
   "cell_type": "code",
   "execution_count": 36,
   "metadata": {
    "slideshow": {
     "slide_type": "subslide"
    }
   },
   "outputs": [
    {
     "name": "stdout",
     "output_type": "stream",
     "text": [
      "The denominator should not be zero.\n",
      "The result is inf.\n"
     ]
    }
   ],
   "source": [
    "# Catch the exception.\n",
    "try:\n",
    "    r = division(5., 0.)\n",
    "except ValueError as e:\n",
    "    print(e)\n",
    "    r = np.inf\n",
    "finally:\n",
    "    print(\"The result is {}.\".format(r))"
   ]
  },
  {
   "cell_type": "markdown",
   "metadata": {
    "slideshow": {
     "slide_type": "fragment"
    }
   },
   "source": [
    "A full list of built-in exceptions can be found here:  \n",
    "<https://docs.python.org/3/library/exceptions.html>"
   ]
  },
  {
   "cell_type": "markdown",
   "metadata": {
    "slideshow": {
     "slide_type": "fragment"
    }
   },
   "source": [
    "The most common exception types that one wants to raise are:\n",
    "* `TypeError`\n",
    "* `ValueError`\n",
    "* `NameError`\n",
    "* `IndexError`\n",
    "* `KeyError`\n",
    "* `NotImplementedError`"
   ]
  },
  {
   "cell_type": "markdown",
   "metadata": {
    "slideshow": {
     "slide_type": "slide"
    }
   },
   "source": [
    "## Decorators"
   ]
  },
  {
   "cell_type": "markdown",
   "metadata": {
    "slideshow": {
     "slide_type": "subslide"
    }
   },
   "source": [
    "Decorators are syntactic sugar for functions that are *decorating* other functions.\n",
    "\n",
    "* Decorator functions take a **callable** as argument.\n",
    "* Decorator functions should call the given callable argument."
   ]
  },
  {
   "cell_type": "code",
   "execution_count": 37,
   "metadata": {
    "slideshow": {
     "slide_type": "fragment"
    }
   },
   "outputs": [],
   "source": [
    "# Example of a simple decorating function.\n",
    "def paragraph(f):\n",
    "    return lambda name: \"<p>{}</p>\".format(f(name))"
   ]
  },
  {
   "cell_type": "code",
   "execution_count": 38,
   "metadata": {
    "slideshow": {
     "slide_type": "fragment"
    }
   },
   "outputs": [],
   "source": [
    "@paragraph\n",
    "def greet(name):\n",
    "    return \"Hello {}, how are you?\".format(name)"
   ]
  },
  {
   "cell_type": "code",
   "execution_count": 39,
   "metadata": {
    "slideshow": {
     "slide_type": "fragment"
    }
   },
   "outputs": [
    {
     "name": "stdout",
     "output_type": "stream",
     "text": [
      "<p>Hello John, how are you?</p>\n"
     ]
    }
   ],
   "source": [
    "print(greet(\"John\"))"
   ]
  },
  {
   "cell_type": "markdown",
   "metadata": {
    "slideshow": {
     "slide_type": "slide"
    }
   },
   "source": [
    "## PEP8 Coding style"
   ]
  },
  {
   "cell_type": "markdown",
   "metadata": {
    "slideshow": {
     "slide_type": "fragment"
    }
   },
   "source": [
    "Please stick to the 'official' style guide for Python code:  \n",
    "<https://www.python.org/dev/peps/pep-0008/>\n",
    "\n",
    "Useful software tools:\n",
    "- [flake8](https://flake8.pycqa.org/en/latest/) is a popular linter for python. It checks against PEP8 coding style and for programming errors.\n",
    "- [black](https://black.readthedocs.io/en/stable/index.html) is the uncompromising Python code formatter. It automatically formats code to conform to the PEP8 compliant coding style."
   ]
  },
  {
   "cell_type": "markdown",
   "metadata": {
    "slideshow": {
     "slide_type": "slide"
    }
   },
   "source": [
    "## Common pitfalls\n",
    "\n",
    "The Python language has some particular properties that might lead to some not-so obvious pitfalls."
   ]
  },
  {
   "cell_type": "markdown",
   "metadata": {
    "slideshow": {
     "slide_type": "subslide"
    }
   },
   "source": [
    "* Objects are passed by reference (not by copy!)\n",
    "    * except scalar data types like int, float, complex"
   ]
  },
  {
   "cell_type": "code",
   "execution_count": 40,
   "metadata": {
    "slideshow": {
     "slide_type": "fragment"
    }
   },
   "outputs": [
    {
     "name": "stdout",
     "output_type": "stream",
     "text": [
      "42\n"
     ]
    }
   ],
   "source": [
    "a = 42\n",
    "def f(b):\n",
    "    b = 11\n",
    "f(a)\n",
    "print(a)"
   ]
  },
  {
   "cell_type": "markdown",
   "metadata": {
    "slideshow": {
     "slide_type": "fragment"
    }
   },
   "source": [
    "The scalar variable is passed as copy."
   ]
  },
  {
   "cell_type": "code",
   "execution_count": 41,
   "metadata": {
    "slideshow": {
     "slide_type": "fragment"
    }
   },
   "outputs": [
    {
     "name": "stdout",
     "output_type": "stream",
     "text": [
      "[42, 11]\n"
     ]
    }
   ],
   "source": [
    "a = [42]\n",
    "def f(b):\n",
    "    c = b\n",
    "    c.append(11)\n",
    "f(a)\n",
    "print(a)"
   ]
  },
  {
   "cell_type": "markdown",
   "metadata": {
    "slideshow": {
     "slide_type": "fragment"
    }
   },
   "source": [
    "The list `a` is passed as reference. Hence, `b` referes to the same object `a` in memory. The same applies for name changes of variables. `c` refers to the same object as `b`."
   ]
  },
  {
   "cell_type": "markdown",
   "metadata": {
    "slideshow": {
     "slide_type": "subslide"
    }
   },
   "source": [
    "* Function keyword argument default values are instanciated only once\n",
    "    * lists as keyword argument default values can be tricky"
   ]
  },
  {
   "cell_type": "code",
   "execution_count": 42,
   "metadata": {
    "slideshow": {
     "slide_type": "fragment"
    }
   },
   "outputs": [],
   "source": [
    "def f(a=[0]):\n",
    "    # Append a new element with the value as\n",
    "    # the maximum of all list values plus 1.\n",
    "    a.append(max(a) + 1)\n",
    "    return a"
   ]
  },
  {
   "cell_type": "code",
   "execution_count": 43,
   "metadata": {
    "slideshow": {
     "slide_type": "fragment"
    }
   },
   "outputs": [
    {
     "name": "stdout",
     "output_type": "stream",
     "text": [
      "[0, 1]\n"
     ]
    }
   ],
   "source": [
    "print(f())"
   ]
  },
  {
   "cell_type": "code",
   "execution_count": 44,
   "metadata": {
    "slideshow": {
     "slide_type": "fragment"
    }
   },
   "outputs": [
    {
     "name": "stdout",
     "output_type": "stream",
     "text": [
      "[0, 1, 2]\n"
     ]
    }
   ],
   "source": [
    "print(f())"
   ]
  },
  {
   "cell_type": "markdown",
   "metadata": {
    "slideshow": {
     "slide_type": "fragment"
    }
   },
   "source": [
    "The function changes the one-and-only list object that was instantiated as default keyword argument value."
   ]
  },
  {
   "cell_type": "markdown",
   "metadata": {
    "slideshow": {
     "slide_type": "slide"
    }
   },
   "source": [
    "## Object-Oriented Programming (OOP)"
   ]
  },
  {
   "cell_type": "markdown",
   "metadata": {
    "slideshow": {
     "slide_type": "subslide"
    }
   },
   "source": [
    "From Wikipedia:\n",
    "    \n",
    "    Object-oriented programming (OOP) is a programming paradigm based on the concept of \"objects\", which can\n",
    "    contain data and code: data in the form of fields (often known as attributes or properties), and code,\n",
    "    in the form of procedures (often known as methods).\n",
    "\n",
    "In contrast to sequential global programming, object-oriented programming allows to encapsulate sets of functionalities into classes.\n",
    "\n",
    "Classes can be instantiated as **instances**, i.e. objects of a particular class."
   ]
  },
  {
   "cell_type": "markdown",
   "metadata": {
    "slideshow": {
     "slide_type": "fragment"
    }
   },
   "source": [
    "Example:\n",
    "\n",
    "Given class `Animal`, the object `cat` and object `dog` could be instances of class `Animal`. \n",
    "\n",
    "The class `Animal` can have data fields, i.e. properties, like `name`, and `color`."
   ]
  },
  {
   "cell_type": "markdown",
   "metadata": {
    "slideshow": {
     "slide_type": "slide"
    }
   },
   "source": [
    "## Classes"
   ]
  },
  {
   "cell_type": "markdown",
   "metadata": {
    "slideshow": {
     "slide_type": "fragment"
    }
   },
   "source": [
    "* A class is an object in Python, i.e. a **class object**.\n",
    "* A class always has a **constructor**.\n",
    "* A class can have **attributes**.\n",
    "    * In Python everything is accessible, i.e. **public**.\n",
    "    * Convention: Private attributes start with an underscore (`_`). \n",
    "* A class can have **instance methods** (functions of the class available to an instance of the class).\n",
    "* A class can have **class methods** (functions of the class available to the class object and an instance of the class).\n",
    "* A class can have **special methods** like `__str__`.\n",
    "* Classes can be derived from other classes (one or many) (see inheritance)."
   ]
  },
  {
   "cell_type": "code",
   "execution_count": 45,
   "metadata": {
    "slideshow": {
     "slide_type": "fragment"
    }
   },
   "outputs": [],
   "source": [
    "# A not very useful class.\n",
    "class MyClass(object):\n",
    "    pass"
   ]
  },
  {
   "cell_type": "code",
   "execution_count": 46,
   "metadata": {
    "slideshow": {
     "slide_type": "fragment"
    }
   },
   "outputs": [
    {
     "data": {
      "text/plain": [
       "['__class__',\n",
       " '__delattr__',\n",
       " '__dict__',\n",
       " '__dir__',\n",
       " '__doc__',\n",
       " '__eq__',\n",
       " '__format__',\n",
       " '__ge__',\n",
       " '__getattribute__',\n",
       " '__gt__',\n",
       " '__hash__',\n",
       " '__init__',\n",
       " '__init_subclass__',\n",
       " '__le__',\n",
       " '__lt__',\n",
       " '__module__',\n",
       " '__ne__',\n",
       " '__new__',\n",
       " '__reduce__',\n",
       " '__reduce_ex__',\n",
       " '__repr__',\n",
       " '__setattr__',\n",
       " '__sizeof__',\n",
       " '__str__',\n",
       " '__subclasshook__',\n",
       " '__weakref__']"
      ]
     },
     "execution_count": 46,
     "metadata": {},
     "output_type": "execute_result"
    }
   ],
   "source": [
    "# MyClass is a class object!\n",
    "# Let's look at its attributes:\n",
    "dir(MyClass)"
   ]
  },
  {
   "cell_type": "code",
   "execution_count": 47,
   "metadata": {
    "slideshow": {
     "slide_type": "subslide"
    }
   },
   "outputs": [],
   "source": [
    "# A simple class with a constructor, two attributes, and a special method.\n",
    "class Direction(object):\n",
    "    r\"\"\"Direction\n",
    "    \n",
    "    Directional vector in spherical coordinates \n",
    "    \n",
    "    Attributes\n",
    "    ----------\n",
    "    azimuth : float\n",
    "        Azimuth angle in rad\n",
    "    zenith : float\n",
    "        Zenith angle in rad\n",
    "    \n",
    "    \"\"\"\n",
    "    def __init__(self, azimuth, zenith):\n",
    "        \"\"\"This is the constructor method.\n",
    "        \"\"\"\n",
    "        self.azimuth = azimuth\n",
    "        self.zenith = zenith\n",
    "        \n",
    "    def __str__(self):\n",
    "        \"\"\"This is a special class method to generate output for `str(obj)`.\n",
    "        \"\"\"\n",
    "        return f\"({self.azimuth}, {self.zenith})\""
   ]
  },
  {
   "cell_type": "code",
   "execution_count": 48,
   "metadata": {
    "slideshow": {
     "slide_type": "fragment"
    }
   },
   "outputs": [
    {
     "name": "stdout",
     "output_type": "stream",
     "text": [
      "Direction: (1.0471975511965976, 1.5707963267948966)\n"
     ]
    }
   ],
   "source": [
    "d = Direction(np.pi/3., np.pi/2.)\n",
    "print(\"Direction:\", d)"
   ]
  },
  {
   "cell_type": "markdown",
   "metadata": {
    "slideshow": {
     "slide_type": "slide"
    }
   },
   "source": [
    "## Properties"
   ]
  },
  {
   "cell_type": "markdown",
   "metadata": {
    "slideshow": {
     "slide_type": "subslide"
    }
   },
   "source": [
    "* Properties tie data attributes to setter, getter, deleter methods.\n",
    "    * Allows for data attribute control"
   ]
  },
  {
   "cell_type": "code",
   "execution_count": 49,
   "metadata": {
    "slideshow": {
     "slide_type": "fragment"
    }
   },
   "outputs": [],
   "source": [
    "class A(object):\n",
    "    r\"\"\"Class `A` with the property `a`, which must be a positive number.\n",
    "    \"\"\"\n",
    "    def __init__(self):\n",
    "        self._a = 0\n",
    "    \n",
    "    @property\n",
    "    def a(self):\n",
    "        r\"\"\"int: A positive number\n",
    "        \"\"\"\n",
    "        return self._a\n",
    "    \n",
    "    @a.setter\n",
    "    def a(self, val):\n",
    "        if val >= 0:\n",
    "            self._a = val\n",
    "        else:\n",
    "            raise ValueError(\n",
    "                \"Expect a positive number.\")"
   ]
  },
  {
   "cell_type": "code",
   "execution_count": 50,
   "metadata": {
    "slideshow": {
     "slide_type": "fragment"
    }
   },
   "outputs": [
    {
     "name": "stdout",
     "output_type": "stream",
     "text": [
      "42\n"
     ]
    }
   ],
   "source": [
    "a = A()\n",
    "a.a = 42\n",
    "print(a.a)"
   ]
  },
  {
   "cell_type": "code",
   "execution_count": 51,
   "metadata": {
    "slideshow": {
     "slide_type": "fragment"
    }
   },
   "outputs": [
    {
     "ename": "ValueError",
     "evalue": "Expect a positive number.",
     "output_type": "error",
     "traceback": [
      "\u001b[0;31m---------------------------------------------------------------------------\u001b[0m",
      "\u001b[0;31mValueError\u001b[0m                                Traceback (most recent call last)",
      "\u001b[0;32m<ipython-input-51-9af0c80ce669>\u001b[0m in \u001b[0;36m<module>\u001b[0;34m\u001b[0m\n\u001b[0;32m----> 1\u001b[0;31m \u001b[0ma\u001b[0m\u001b[0;34m.\u001b[0m\u001b[0ma\u001b[0m \u001b[0;34m=\u001b[0m \u001b[0;34m-\u001b[0m\u001b[0;36m1\u001b[0m\u001b[0;34m\u001b[0m\u001b[0;34m\u001b[0m\u001b[0m\n\u001b[0m",
      "\u001b[0;32m<ipython-input-49-82114fcdf6c8>\u001b[0m in \u001b[0;36ma\u001b[0;34m(self, val)\u001b[0m\n\u001b[1;32m     16\u001b[0m             \u001b[0mself\u001b[0m\u001b[0;34m.\u001b[0m\u001b[0m_a\u001b[0m \u001b[0;34m=\u001b[0m \u001b[0mval\u001b[0m\u001b[0;34m\u001b[0m\u001b[0;34m\u001b[0m\u001b[0m\n\u001b[1;32m     17\u001b[0m         \u001b[0;32melse\u001b[0m\u001b[0;34m:\u001b[0m\u001b[0;34m\u001b[0m\u001b[0;34m\u001b[0m\u001b[0m\n\u001b[0;32m---> 18\u001b[0;31m             raise ValueError(\n\u001b[0m\u001b[1;32m     19\u001b[0m                 \"Expect a positive number.\")\n",
      "\u001b[0;31mValueError\u001b[0m: Expect a positive number."
     ]
    }
   ],
   "source": [
    "a.a = -1"
   ]
  },
  {
   "cell_type": "markdown",
   "metadata": {
    "slideshow": {
     "slide_type": "slide"
    }
   },
   "source": [
    "## Instance methods"
   ]
  },
  {
   "cell_type": "markdown",
   "metadata": {
    "slideshow": {
     "slide_type": "fragment"
    }
   },
   "source": [
    "Instance methods have the reference `self` to the class instance as first argument. By definition the constructor method is an instance method as well."
   ]
  },
  {
   "cell_type": "code",
   "execution_count": null,
   "metadata": {
    "slideshow": {
     "slide_type": "fragment"
    }
   },
   "outputs": [],
   "source": [
    "class A(object):\n",
    "    r\"\"\"A class with an instance method.\n",
    "    \"\"\"\n",
    "    def __init__(self, a):\n",
    "        self.a = a\n",
    "\n",
    "a = A(42)\n",
    "print(a.a)"
   ]
  },
  {
   "cell_type": "markdown",
   "metadata": {
    "slideshow": {
     "slide_type": "slide"
    }
   },
   "source": [
    "## The @classmethod decorator"
   ]
  },
  {
   "cell_type": "markdown",
   "metadata": {
    "slideshow": {
     "slide_type": "subslide"
    }
   },
   "source": [
    "The `@classmethod` decorator defines **class methods**. Class methods have a reference to a class object as first argument, i.e. a reference to the class object of the class instance itself. This allows for example to implement more than one constructor for a class."
   ]
  },
  {
   "cell_type": "code",
   "execution_count": null,
   "metadata": {
    "slideshow": {
     "slide_type": "fragment"
    }
   },
   "outputs": [],
   "source": [
    "class A(object):\n",
    "    r\"\"\"A class with class method.\n",
    "    \n",
    "    \"\"\"\n",
    "    def __init__(self, a, b):\n",
    "        self.a = a\n",
    "        self.b = b\n",
    "        \n",
    "    def __str__(self):\n",
    "        return \"a = {o.a}, b = {o.b}\".format(o=self)\n",
    "    \n",
    "    @classmethod\n",
    "    def from_tuple(cls, t):\n",
    "        return cls(t[0], t[1])"
   ]
  },
  {
   "cell_type": "code",
   "execution_count": null,
   "metadata": {
    "slideshow": {
     "slide_type": "fragment"
    }
   },
   "outputs": [],
   "source": [
    "a = A.from_tuple((1., 2.))\n",
    "print(a)"
   ]
  },
  {
   "cell_type": "markdown",
   "metadata": {
    "slideshow": {
     "slide_type": "slide"
    }
   },
   "source": [
    "## The @staticmethod decorator"
   ]
  },
  {
   "cell_type": "markdown",
   "metadata": {
    "slideshow": {
     "slide_type": "subslide"
    }
   },
   "source": [
    "The `@staticmethod` decorator defines static methods. Static methods can have no arguments at all. Static methods live inside the namespace of a class object. They can be called either from the class object or an instance of the class."
   ]
  },
  {
   "cell_type": "code",
   "execution_count": null,
   "metadata": {
    "slideshow": {
     "slide_type": "fragment"
    }
   },
   "outputs": [],
   "source": [
    "class Angle(object):\n",
    "    r\"\"\"A class with a static method\n",
    "    \n",
    "    \"\"\"\n",
    "    def __init__(self, value=0.):\n",
    "        self.value = value\n",
    "    \n",
    "    @staticmethod\n",
    "    def deg2rad(angle):\n",
    "        return angle * np.pi / 180."
   ]
  },
  {
   "cell_type": "code",
   "execution_count": null,
   "metadata": {
    "slideshow": {
     "slide_type": "fragment"
    }
   },
   "outputs": [],
   "source": [
    "print(\"30deg = {:.2f}rad\".format(Angle.deg2rad(30.)))"
   ]
  },
  {
   "cell_type": "code",
   "execution_count": null,
   "metadata": {
    "slideshow": {
     "slide_type": "fragment"
    }
   },
   "outputs": [],
   "source": [
    "a = Angle()\n",
    "print(\"30deg = {:.2f}rad\".format(a.deg2rad(30.)))"
   ]
  },
  {
   "cell_type": "markdown",
   "metadata": {
    "slideshow": {
     "slide_type": "slide"
    }
   },
   "source": [
    "## Operator methods\n",
    "\n",
    "* Python classes define magic methods for implementing operators, like `+`, `-`, `*`, etc.\n",
    "* See [emulating numeric types](https://docs.python.org/3/reference/datamodel.html#emulating-numeric-types) for a full list of possible operators.\n",
    "* Binary arithmetic operators:\n",
    "    \n",
    "    * `+`: `__add__(self, rhs)`\n",
    "    * `-`: `__sub__(self, rhs)`\n",
    "    * `*`: `__mul__(self, rhs)`\n",
    "    * `/`: `__div__(self, rhs)`\n",
    "    * `@`: `__matmul__(self, rhs)`\n",
    "    * `%`: `__mod__(self, rhs)`\n",
    "    * `&`: `__and__(self, rhs)`\n",
    "    * `|`: `__or__(self, rhs)`\n",
    "* Reflected (swapped) binary operators use `__r<op>__(self, lhs)`, e.g. `__radd__(self, lhs)`."
   ]
  },
  {
   "cell_type": "code",
   "execution_count": null,
   "metadata": {
    "slideshow": {
     "slide_type": "subslide"
    }
   },
   "outputs": [],
   "source": [
    "# Example for addition operator:\n",
    "class Text(object):\n",
    "    def __init__(self, value):\n",
    "        self.value = value\n",
    "    def __add__(self, rhs):\n",
    "        return Text(self.value + str(rhs))\n",
    "    def __str__(self):\n",
    "        return self.value\n",
    "    \n",
    "t1 = Text('Hello')\n",
    "t2 = Text(' ')\n",
    "t3 = Text('World')\n",
    "\n",
    "print(t1 + t2 + t3)\n",
    "print(t1 + ' ' + t3)\n",
    "print('Hello' + t2 + t3)"
   ]
  },
  {
   "cell_type": "markdown",
   "metadata": {
    "slideshow": {
     "slide_type": "subslide"
    }
   },
   "source": [
    "The last expression `print('Hello' + t2 + t3)` can be supported via a reflected add operator:"
   ]
  },
  {
   "cell_type": "code",
   "execution_count": null,
   "metadata": {
    "slideshow": {
     "slide_type": "fragment"
    }
   },
   "outputs": [],
   "source": [
    "# Example for addition operator with reflected addition operator:\n",
    "class Text(object):\n",
    "    def __init__(self, value):\n",
    "        self.value = value\n",
    "    def __add__(self, rhs):\n",
    "        return Text(self.value + str(rhs))\n",
    "    def __radd__(self, lhs):\n",
    "        return Text(str(lhs) + self.value)\n",
    "    def __str__(self):\n",
    "        return self.value\n",
    "    \n",
    "t2 = Text(' ')\n",
    "t3 = Text('World')\n",
    "\n",
    "print('Hello' + t2 + t3)"
   ]
  },
  {
   "cell_type": "markdown",
   "metadata": {
    "slideshow": {
     "slide_type": "subslide"
    }
   },
   "source": [
    "* Rich comparison operators and their corresponding magic class methods:\n",
    "    * `>`: `__gt__(self, rhs)`\n",
    "    * `>=`: `__ge__(self, rhs)`\n",
    "    * `<`: `__lt__(self, rhs)`\n",
    "    * `<=`: `__le__(self, rhs)`\n",
    "    * `==`: `__eq__(self, rhs)`\n",
    "    * `!=`: `__ne__(self, rhs)`\n",
    "    * Should return `True` or `False`.\n",
    "* Augmented arithmetic assignments (in-place operators): `__i<op>__(self, rhs)`, e.g. `__iadd__(self, rhs)`.\n",
    "    * `+=`: `__iadd__(self, rhs)`\n",
    "    * `-=`: `__isub__(self, rhs)`\n",
    "    * `*=`: `__imul__(self, rhs)`\n",
    "    * Should return the object itself."
   ]
  },
  {
   "cell_type": "markdown",
   "metadata": {
    "slideshow": {
     "slide_type": "slide"
    }
   },
   "source": [
    "## Inheritance"
   ]
  },
  {
   "cell_type": "markdown",
   "metadata": {
    "slideshow": {
     "slide_type": "subslide"
    }
   },
   "source": [
    "In order to evolve classes in OOP, **inheritance** exists. Classes can be **derived** from **base classes** and **inherit** their properties and methods. This way code can be reused and development time can be saved.\n",
    "\n",
    "* Methods can be overwritten by derived classes.\n",
    "* The `super()` function can be used to call methods of the parent class."
   ]
  },
  {
   "cell_type": "code",
   "execution_count": null,
   "metadata": {
    "slideshow": {
     "slide_type": "fragment"
    }
   },
   "outputs": [],
   "source": [
    "class Animal(object):\n",
    "    \"\"\"This is the base class.\n",
    "    \"\"\"\n",
    "    def __init__(self, species, age):\n",
    "        self.species = species\n",
    "        self.age = age\n",
    "        \n",
    "    # Instance method.\n",
    "    def description(self):\n",
    "        print(f'{self.species} is {self.age} years old')\n",
    "\n",
    "    @property\n",
    "    def age(self):\n",
    "        return self._age\n",
    "    @age.setter\n",
    "    def age(self, age):\n",
    "        if age >= 0:\n",
    "            self._age = age\n",
    "        else:\n",
    "            raise ValueError(\n",
    "                f'Provided {age} age has to be a positive number.')"
   ]
  },
  {
   "cell_type": "code",
   "execution_count": null,
   "metadata": {
    "slideshow": {
     "slide_type": "fragment"
    }
   },
   "outputs": [],
   "source": [
    "class Dog(Animal):\n",
    "    \"\"\"The Dog class is derived from the base class `Animal`.\n",
    "    \"\"\"\n",
    "    def __init__(self, age):\n",
    "        # Call the constructor of the parent class.\n",
    "        # This first creates an animal object, which is then extended.\n",
    "        super().__init__('dog', age)\n",
    "        \n",
    "class Cat(Animal):\n",
    "    def __init__(self, age):\n",
    "        super().__init__('cat', age)\n",
    "    \n",
    "    def description(self):\n",
    "        \"\"\"This methods overwrites the parent's description method.\n",
    "        \"\"\"\n",
    "        print(f'I am a {self.species}')"
   ]
  },
  {
   "cell_type": "code",
   "execution_count": null,
   "metadata": {
    "slideshow": {
     "slide_type": "fragment"
    }
   },
   "outputs": [],
   "source": [
    "dog = Dog(5)\n",
    "dog.description()"
   ]
  },
  {
   "cell_type": "code",
   "execution_count": null,
   "metadata": {
    "slideshow": {
     "slide_type": "fragment"
    }
   },
   "outputs": [],
   "source": [
    "cat = Cat(6)\n",
    "cat.description()"
   ]
  },
  {
   "cell_type": "code",
   "execution_count": null,
   "metadata": {
    "slideshow": {
     "slide_type": "fragment"
    }
   },
   "outputs": [],
   "source": [
    "print(type(cat))\n",
    "print(type(cat.age))\n",
    "print(type(cat.description))"
   ]
  },
  {
   "cell_type": "markdown",
   "metadata": {
    "slideshow": {
     "slide_type": "subslide"
    }
   },
   "source": [
    "### isinstance and issubclass"
   ]
  },
  {
   "cell_type": "markdown",
   "metadata": {
    "slideshow": {
     "slide_type": "fragment"
    }
   },
   "source": [
    "To check if an instance is of some class we can use the built-in function `isinstance()` which takes two arguments, an instance object and a class object and returns `True` if the given class is anywhere in the inheritance chain of the instance's class:"
   ]
  },
  {
   "cell_type": "code",
   "execution_count": null,
   "metadata": {
    "slideshow": {
     "slide_type": "fragment"
    }
   },
   "outputs": [],
   "source": [
    "print(isinstance(cat, Cat))\n",
    "print(isinstance(cat, Dog))\n",
    "print(isinstance(cat, Animal))"
   ]
  },
  {
   "cell_type": "markdown",
   "metadata": {
    "slideshow": {
     "slide_type": "fragment"
    }
   },
   "source": [
    "We can also check if the given class is a subclass of another class with the built-in function `issublass()`."
   ]
  },
  {
   "cell_type": "code",
   "execution_count": null,
   "metadata": {
    "slideshow": {
     "slide_type": "fragment"
    }
   },
   "outputs": [],
   "source": [
    "print(issubclass(Cat, Animal))\n",
    "print(issubclass(Cat, Cat))\n",
    "print(issubclass(Cat, Dog))"
   ]
  },
  {
   "cell_type": "markdown",
   "metadata": {
    "slideshow": {
     "slide_type": "fragment"
    }
   },
   "source": [
    "## Multiple inheritance"
   ]
  },
  {
   "cell_type": "markdown",
   "metadata": {
    "slideshow": {
     "slide_type": "fragment"
    }
   },
   "source": [
    "* A class can be derived from more than one base class.\n",
    "* The parent class constructor should always be called.\n",
    "* Additional argumets `*args` and keyword arguments `**kwargs` need to be passed on to the parent."
   ]
  },
  {
   "cell_type": "code",
   "execution_count": null,
   "metadata": {
    "slideshow": {
     "slide_type": "fragment"
    }
   },
   "outputs": [],
   "source": [
    "class IsPuppy(object):\n",
    "    def __init__(self, *args, **kwargs):\n",
    "        # We need to call the parent's constructor\n",
    "        # to call the constructor of ALL base classes of a derived class. \n",
    "        super().__init__(*args, **kwargs)\n",
    "\n",
    "    def description(self):\n",
    "        print(f'I am a puppy.')\n",
    "        \n",
    "class Puppy(Dog, IsPuppy):\n",
    "    def __init__(self, age):\n",
    "        super().__init__(age)"
   ]
  },
  {
   "cell_type": "code",
   "execution_count": null,
   "metadata": {
    "slideshow": {
     "slide_type": "fragment"
    }
   },
   "outputs": [],
   "source": [
    "puppy_dog = Puppy(1)\n",
    "puppy_dog.description()"
   ]
  },
  {
   "cell_type": "markdown",
   "metadata": {
    "slideshow": {
     "slide_type": "fragment"
    }
   },
   "source": [
    "Python determines which description to call using *Method Resolution Order (MRO)*. We can check the order using the `mro()` method:"
   ]
  },
  {
   "cell_type": "code",
   "execution_count": null,
   "metadata": {
    "slideshow": {
     "slide_type": "fragment"
    }
   },
   "outputs": [],
   "source": [
    "print(Puppy.mro())"
   ]
  },
  {
   "cell_type": "markdown",
   "metadata": {
    "slideshow": {
     "slide_type": "subslide"
    }
   },
   "source": [
    "Changing the MRO to call `IsPuppy`'s description first."
   ]
  },
  {
   "cell_type": "code",
   "execution_count": null,
   "metadata": {
    "slideshow": {
     "slide_type": "fragment"
    }
   },
   "outputs": [],
   "source": [
    "class Puppy(IsPuppy, Dog):\n",
    "    def __init__(self, age):\n",
    "        super().__init__(age)"
   ]
  },
  {
   "cell_type": "code",
   "execution_count": null,
   "metadata": {
    "slideshow": {
     "slide_type": "fragment"
    }
   },
   "outputs": [],
   "source": [
    "print(Puppy.mro())\n",
    "\n",
    "puppy_dog = Puppy(1)\n",
    "puppy_dog.description()"
   ]
  },
  {
   "cell_type": "markdown",
   "metadata": {
    "slideshow": {
     "slide_type": "slide"
    }
   },
   "source": [
    "## Abstract Base Classes"
   ]
  },
  {
   "cell_type": "markdown",
   "metadata": {
    "slideshow": {
     "slide_type": "fragment"
    }
   },
   "source": [
    "* Abstract base classes can be used to define **interfaces**.\n",
    "* Methods can be declared *abstract* and must be implemented by derived classes before a class can be instantiated.\n",
    "* The `abc` package provides abstract base class functionality.\n",
    "    * See https://docs.python.org/3/library/abc.html\n",
    "* Abstract base classes are defined by setting the class's `metaclass` keyword with `metaclass=abs.ABCMeta`.\n",
    "* Abstract methods (instance methods, class methods, properties) are defined with `@abstractmethod` decorator."
   ]
  },
  {
   "cell_type": "code",
   "execution_count": null,
   "metadata": {
    "slideshow": {
     "slide_type": "subslide"
    }
   },
   "outputs": [],
   "source": [
    "import abc\n",
    "\n",
    "class AnimalBase(object, metaclass=abc.ABCMeta):\n",
    "    def __init__(self, species, age):\n",
    "        self.species = species\n",
    "        self.age = age\n",
    "\n",
    "    # Abstract instance method.\n",
    "    @abc.abstractmethod\n",
    "    def description(self):\n",
    "        # We use `pass` as a placeholder for the\n",
    "        # implementation by the derived class.\n",
    "        pass\n",
    "\n",
    "    # Define age property with abstract setter method.\n",
    "    @property\n",
    "    def age(self):\n",
    "        return self._age\n",
    "    @age.setter\n",
    "    @abc.abstractmethod\n",
    "    def age(self, age):\n",
    "        pass"
   ]
  },
  {
   "cell_type": "markdown",
   "metadata": {
    "slideshow": {
     "slide_type": "fragment"
    }
   },
   "source": [
    "Class derived from `abc.ABCMeta` cannot be instantiated unless all of its abstract methods and properties are implemented."
   ]
  },
  {
   "cell_type": "code",
   "execution_count": null,
   "metadata": {
    "slideshow": {
     "slide_type": "fragment"
    }
   },
   "outputs": [],
   "source": [
    "class Dog(AnimalBase):\n",
    "    def __init__(self, age):\n",
    "        super().__init__('dog', age)"
   ]
  },
  {
   "cell_type": "code",
   "execution_count": null,
   "metadata": {
    "slideshow": {
     "slide_type": "fragment"
    }
   },
   "outputs": [],
   "source": [
    "dog = Dog(5)\n",
    "dog.description()"
   ]
  },
  {
   "cell_type": "markdown",
   "metadata": {
    "slideshow": {
     "slide_type": "fragment"
    }
   },
   "source": [
    "Lets fix it by implementing the `description` and `age` methods."
   ]
  },
  {
   "cell_type": "code",
   "execution_count": null,
   "metadata": {
    "slideshow": {
     "slide_type": "fragment"
    }
   },
   "outputs": [],
   "source": [
    "class Dog(AnimalBase):\n",
    "    def __init__(self, age):\n",
    "      super().__init__('dog', age)\n",
    "\n",
    "    # Implement the description instance method.\n",
    "    def description(self):\n",
    "        print('I am the implementation of the description instance method.')\n",
    "        print(f'The {self.species} is of age {self.age}.')\n",
    "    \n",
    "    # Implement the setter method of the age property.\n",
    "    @AnimalBase.age.setter\n",
    "    def age(self, age):\n",
    "        if age < 0:\n",
    "            print(f'Provided {age} age has to be positive number.')\n",
    "            self._age = None\n",
    "        else:\n",
    "            self._age = age"
   ]
  },
  {
   "cell_type": "code",
   "execution_count": null,
   "metadata": {
    "slideshow": {
     "slide_type": "fragment"
    }
   },
   "outputs": [],
   "source": [
    "dog = Dog(-5)\n",
    "dog.description()"
   ]
  },
  {
   "cell_type": "code",
   "execution_count": null,
   "metadata": {
    "slideshow": {
     "slide_type": "fragment"
    }
   },
   "outputs": [],
   "source": [
    "dog = Dog(2)\n",
    "dog.description()"
   ]
  },
  {
   "cell_type": "markdown",
   "metadata": {
    "slideshow": {
     "slide_type": "slide"
    }
   },
   "source": [
    "## Iterator protocol"
   ]
  },
  {
   "cell_type": "markdown",
   "metadata": {
    "slideshow": {
     "slide_type": "fragment"
    }
   },
   "source": [
    "If a class implements a container, the iterator protocol can be used to iterate over the items of the container. See <https://docs.python.org/3/library/stdtypes.html#iterator-types> for details.\n",
    "\n",
    "The interator protocol consists of two special instance methods: `__iter__` and `__next__`.\n",
    "\n",
    "The `__iter__` instance method must return the iterator object, usually the class instance itself.\n",
    "\n",
    "The `iter()` built-in function can be used to get an iterator of an object.\n",
    "\n",
    "The `__next__` instance method must return the next element of the container. If it raises the `StopIteration` exception, the iteration stops."
   ]
  },
  {
   "cell_type": "code",
   "execution_count": null,
   "metadata": {
    "slideshow": {
     "slide_type": "subslide"
    }
   },
   "outputs": [],
   "source": [
    "# Example of a container with the iterator protocol supported.\n",
    "class MyBox(object):\n",
    "    def __init__(self, items):\n",
    "        self.items = items\n",
    "    def __iter__(self):\n",
    "        return MyBoxIterator(self)\n",
    "\n",
    "# We define an iterator class that knows how to iterate through\n",
    "# the items of the box.\n",
    "class MyBoxIterator(object):\n",
    "    def __init__(self, box):\n",
    "        self.box = box\n",
    "        # The index attribute points to the next item in the box.\n",
    "        self.index = 0\n",
    "    def __iter__(self):\n",
    "        return self\n",
    "    def __next__(self):\n",
    "        # Check if we reached the end of the item sequence.\n",
    "        if self.index == len(self.box.items):\n",
    "            raise StopIteration()\n",
    "        self.index += 1\n",
    "        return self.box.items[self.index-1]"
   ]
  },
  {
   "cell_type": "code",
   "execution_count": null,
   "metadata": {
    "slideshow": {
     "slide_type": "fragment"
    }
   },
   "outputs": [],
   "source": [
    "box = MyBox([8, 'a', 42, 'hello'])\n",
    "for item in box:\n",
    "    print(item)"
   ]
  },
  {
   "cell_type": "markdown",
   "metadata": {
    "slideshow": {
     "slide_type": "subslide"
    }
   },
   "source": [
    "Our box class uses a sequence for storing the items. Sequences have iterators already implemented in Python, hence we can simplify the previous example by utilizing the iterator of the item sequence using the `iter()` built-in function."
   ]
  },
  {
   "cell_type": "code",
   "execution_count": null,
   "metadata": {
    "slideshow": {
     "slide_type": "fragment"
    }
   },
   "outputs": [],
   "source": [
    "class MySimpleBox(object):\n",
    "    def __init__(self, items):\n",
    "        self.items = items\n",
    "    def __iter__(self):\n",
    "        return iter(self.items)"
   ]
  },
  {
   "cell_type": "code",
   "execution_count": null,
   "metadata": {},
   "outputs": [],
   "source": [
    "box = MySimpleBox([8, 'a', 42, 'hello'])\n",
    "for item in box:\n",
    "    print(item)"
   ]
  },
  {
   "cell_type": "markdown",
   "metadata": {
    "slideshow": {
     "slide_type": "slide"
    }
   },
   "source": [
    "## Generators"
   ]
  },
  {
   "cell_type": "markdown",
   "metadata": {
    "slideshow": {
     "slide_type": "fragment"
    }
   },
   "source": [
    "### Recap:\n",
    "\n",
    "There are a couple of useful extra functions for loops (also called generators). The two most common generators are:\n",
    "\n",
    "*   `range(start (default=0), stop, stepsize (default=1))` -> creates a counting iterable, ie. 0, 1, 2, 3, ... stop. For a large number of iterations, range is much more memory-efficient than looping over the corresponding list of [0, 1, 2, ...], because the items are generated on the fly. \n",
    "*   `enumerate(iterable)` -> returns the index and the value of an iterable\n",
    "\n",
    "For more info on where generators are useful and how to write your own generator functions, see e.g. https://realpython.com/introduction-to-python-generators/\n"
   ]
  },
  {
   "cell_type": "markdown",
   "metadata": {
    "slideshow": {
     "slide_type": "slide"
    }
   },
   "source": [
    "### Generator function\n",
    "A function which returns a generator iterator. It looks like a normal function except that it contains `yield` expressions for producing a series of values usable in a for-loop or that can be retrieved one at a time with the `next()` function."
   ]
  },
  {
   "cell_type": "code",
   "execution_count": null,
   "metadata": {
    "slideshow": {
     "slide_type": "fragment"
    }
   },
   "outputs": [],
   "source": [
    "def custom_range_generator(n):\n",
    "    i = 0\n",
    "    while i < n:\n",
    "        yield i\n",
    "        i += 1"
   ]
  },
  {
   "cell_type": "code",
   "execution_count": null,
   "metadata": {
    "slideshow": {
     "slide_type": "subslide"
    }
   },
   "outputs": [],
   "source": [
    "range_generator = custom_range_generator(5)\n",
    "print(\"next():\", next(range_generator))\n",
    "print(\"type:\", type(range_generator))\n",
    "print(\"list remaining numbers:\", list(range_generator))"
   ]
  },
  {
   "cell_type": "code",
   "execution_count": null,
   "metadata": {
    "slideshow": {
     "slide_type": "fragment"
    }
   },
   "outputs": [],
   "source": [
    "# We have to create the generator again as we exhausted its items by calling\n",
    "# `list` function earlier.\n",
    "range_generator = custom_range_generator(5)\n",
    "# Example in for loops\n",
    "for i in range_generator:\n",
    "    print(i)"
   ]
  },
  {
   "cell_type": "markdown",
   "metadata": {
    "slideshow": {
     "slide_type": "slide"
    }
   },
   "source": [
    "# Advanced packages"
   ]
  },
  {
   "cell_type": "markdown",
   "metadata": {
    "slideshow": {
     "slide_type": "slide"
    }
   },
   "source": [
    "## NumPy"
   ]
  },
  {
   "cell_type": "markdown",
   "metadata": {
    "slideshow": {
     "slide_type": "subslide"
    }
   },
   "source": [
    "From the [NumPy webpage](http://www.numpy.org/):\n",
    "\n",
    "> NumPy is the fundamental package for scientific computing with Python.\n",
    "> It contains among other things:\n",
    ">\n",
    "> * a powerful N-dimensional array object\n",
    "> * sophisticated (broadcasting) functions\n",
    "> * tools for integrating C/C++ and Fortran code\n",
    "> * useful linear algebra, Fourier transform, and random number capabilities\n",
    ">\n",
    "> Besides its obvious scientific uses, NumPy can also be used as an efficient\n",
    "> multi-dimensional container of generic data. Arbitrary data-types can be defined.\n",
    "> This allows NumPy to seamlessly and speedily integrate with a wide variety of databases.\n",
    "\n",
    "NumPy tutorial (pay special attention to the section about broadcasting rules):  \n",
    "<https://docs.scipy.org/doc/numpy/user/quickstart.html>"
   ]
  },
  {
   "cell_type": "markdown",
   "metadata": {
    "slideshow": {
     "slide_type": "subslide"
    }
   },
   "source": [
    "### Broadcasting of numpy arrays\n",
    "\n",
    "Two numpy arrays of different dimensions can be used in an expression by broadcasting the array elements of the smaller dimensional array by repeatedly prepending a dimension of length 1 to smaller array to allow element-wise operation:"
   ]
  },
  {
   "cell_type": "code",
   "execution_count": 65,
   "metadata": {
    "slideshow": {
     "slide_type": "fragment"
    }
   },
   "outputs": [
    {
     "name": "stdout",
     "output_type": "stream",
     "text": [
      "shape of a: (2, 3)\n",
      "shape of b: (3,)\n",
      "shape of c: (2, 3)\n",
      "[[ 8 10 12]\n",
      " [11 13 15]]\n"
     ]
    }
   ],
   "source": [
    "a = np.array([[1,2,3], [4,5,6]])\n",
    "b = np.array([7,8,9])\n",
    "c = a + b\n",
    "print('shape of a:', a.shape)\n",
    "print('shape of b:', b.shape)\n",
    "print('shape of c:', c.shape)\n",
    "print(c)"
   ]
  },
  {
   "cell_type": "markdown",
   "metadata": {
    "slideshow": {
     "slide_type": "subslide"
    }
   },
   "source": [
    "### Indexing / Slicing of numpy arrays\n",
    "\n",
    "Elements of a numpy arrays can be accessed via indexing or slicing:"
   ]
  },
  {
   "cell_type": "code",
   "execution_count": 76,
   "metadata": {
    "slideshow": {
     "slide_type": "fragment"
    }
   },
   "outputs": [
    {
     "name": "stdout",
     "output_type": "stream",
     "text": [
      "3\n",
      "[1 5 6]\n"
     ]
    }
   ],
   "source": [
    "# Access by index (indices start with 0!):\n",
    "print(a[0,2])\n",
    "print(a[ [0,1,1], [0,1,2] ])"
   ]
  },
  {
   "cell_type": "code",
   "execution_count": 95,
   "metadata": {
    "slideshow": {
     "slide_type": "fragment"
    }
   },
   "outputs": [
    {
     "name": "stdout",
     "output_type": "stream",
     "text": [
      "[0 1 2 3 4 5 6 7 8 9]\n",
      "[3 4 5 6]\n",
      "[3 5]\n",
      "[7 5]\n"
     ]
    }
   ],
   "source": [
    "# Access by slice: start:end:step:\n",
    "# Note: The start index is included, but the end index is excluded!\n",
    "a = np.arange(0, 10)\n",
    "print(a)\n",
    "print(a[3:7])\n",
    "print(a[3:7:2])\n",
    "# Step can be negative to reverse the slice.\n",
    "print(a[7:3:-2])"
   ]
  },
  {
   "cell_type": "markdown",
   "metadata": {
    "slideshow": {
     "slide_type": "slide"
    }
   },
   "source": [
    "## Matplotlib"
   ]
  },
  {
   "cell_type": "markdown",
   "metadata": {
    "slideshow": {
     "slide_type": "subslide"
    }
   },
   "source": [
    "From the [Matplotlib webpage](https://matplotlib.org/):\n",
    "\n",
    "> Matplotlib is a Python 2D plotting library which produces publication quality figures\n",
    "> in a variety of hardcopy formats and interactive environments across platforms."
   ]
  },
  {
   "cell_type": "code",
   "execution_count": null,
   "metadata": {
    "slideshow": {
     "slide_type": "fragment"
    }
   },
   "outputs": [],
   "source": [
    "# Call this magic function in the first line of your Jupyter notebook:\n",
    "# %matplotlib notebook"
   ]
  },
  {
   "cell_type": "code",
   "execution_count": null,
   "metadata": {
    "slideshow": {
     "slide_type": "subslide"
    }
   },
   "outputs": [],
   "source": [
    "# Example: the final plot looks like this:\n",
    "fig = matplotlib.pyplot.figure()"
   ]
  },
  {
   "cell_type": "code",
   "execution_count": null,
   "metadata": {
    "slideshow": {
     "slide_type": "subslide"
    }
   },
   "outputs": [],
   "source": [
    "# Split the figure into an array of fields: ncols x nrows.\n",
    "grid = matplotlib.pyplot.GridSpec(ncols=1, nrows=1)"
   ]
  },
  {
   "cell_type": "code",
   "execution_count": null,
   "metadata": {
    "slideshow": {
     "slide_type": "fragment"
    }
   },
   "outputs": [],
   "source": [
    "# Add a subplot by specifying column and row.\n",
    "# You can also use slicing here for combining fields.\n",
    "ax = fig.add_subplot(grid[0, 0])"
   ]
  },
  {
   "cell_type": "code",
   "execution_count": null,
   "metadata": {
    "slideshow": {
     "slide_type": "fragment"
    }
   },
   "outputs": [],
   "source": [
    "# Input data\n",
    "xval = np.linspace(0., 2.*np.pi, 101)\n",
    "yval = np.sin(xval)"
   ]
  },
  {
   "cell_type": "code",
   "execution_count": null,
   "metadata": {
    "slideshow": {
     "slide_type": "fragment"
    }
   },
   "outputs": [],
   "source": [
    "# Plot the input data:\n",
    "# Combine the data points with a solid line.\n",
    "ax.plot(xval, yval, \"-\", label=\"This is the sine function.\")"
   ]
  },
  {
   "cell_type": "code",
   "execution_count": null,
   "metadata": {
    "slideshow": {
     "slide_type": "subslide"
    }
   },
   "outputs": [],
   "source": [
    "# Axes formatting\n",
    "ax.set_xlim(xval[0], xval[-1])\n",
    "ax.set_ylim(-1., 1.)"
   ]
  },
  {
   "cell_type": "code",
   "execution_count": null,
   "metadata": {
    "slideshow": {
     "slide_type": "fragment"
    }
   },
   "outputs": [],
   "source": [
    "# Set the major ticks location and format of the x-axis.\n",
    "ax.xaxis.set_major_locator(matplotlib.ticker.FixedLocator([0, np.pi/2, np.pi, 3/2*np.pi, 2*np.pi]))\n",
    "ax.xaxis.set_major_formatter(matplotlib.ticker.FixedFormatter(\n",
    "    [\"$0$\", r\"$\\frac{\\pi}{2}$\", r\"$\\pi$\", r\"$\\frac{3\\pi}{2}$\", r\"$2\\pi$\"]))"
   ]
  },
  {
   "cell_type": "code",
   "execution_count": null,
   "metadata": {
    "slideshow": {
     "slide_type": "fragment"
    }
   },
   "outputs": [],
   "source": [
    "# For linear ticks, Matplotlib is pretty good in figuring out the location \n",
    "# of minor ticks.\n",
    "ax.yaxis.set_major_locator(matplotlib.ticker.LinearLocator(numticks=5))\n",
    "ax.yaxis.set_minor_locator(matplotlib.ticker.AutoMinorLocator())"
   ]
  },
  {
   "cell_type": "code",
   "execution_count": null,
   "metadata": {
    "slideshow": {
     "slide_type": "fragment"
    }
   },
   "outputs": [],
   "source": [
    "# Labels\n",
    "ax.set_xlabel(r\"$\\alpha$\")\n",
    "ax.set_ylabel(r\"$\\sin(\\alpha)$\")"
   ]
  },
  {
   "cell_type": "code",
   "execution_count": null,
   "metadata": {
    "slideshow": {
     "slide_type": "fragment"
    }
   },
   "outputs": [],
   "source": [
    "# Legend\n",
    "ax.legend(loc=\"upper right\")"
   ]
  },
  {
   "cell_type": "code",
   "execution_count": null,
   "metadata": {
    "slideshow": {
     "slide_type": "subslide"
    }
   },
   "outputs": [],
   "source": [
    "# Shrink the axes in order to fit in the labels.\n",
    "grid.tight_layout(fig)"
   ]
  },
  {
   "cell_type": "code",
   "execution_count": null,
   "metadata": {
    "slideshow": {
     "slide_type": "fragment"
    }
   },
   "outputs": [],
   "source": [
    "# Save the figure.\n",
    "fig.savefig(\"example.pdf\")"
   ]
  },
  {
   "cell_type": "code",
   "execution_count": null,
   "metadata": {
    "slideshow": {
     "slide_type": "skip"
    }
   },
   "outputs": [],
   "source": [
    "os.remove(\"example.pdf\")"
   ]
  },
  {
   "cell_type": "markdown",
   "metadata": {
    "slideshow": {
     "slide_type": "slide"
    }
   },
   "source": [
    "# Working with version control systems (git)"
   ]
  },
  {
   "cell_type": "markdown",
   "metadata": {
    "slideshow": {
     "slide_type": "fragment"
    }
   },
   "source": [
    "## What is a version control system?\n",
    "\n",
    "![Version Control](figures/version_control.png)\n",
    "\n",
    "* Allows to keep track of changes (versions) of files.\n",
    "* Tracks the history of a file.\n",
    "* Manages a **repository**, i.e. a collection of files, usually a directory tree.\n",
    "* Allows collaborating on same files by several people.\n",
    "    * Conflict resolution\n",
    "* Allows branching-off from the main development path, i.e. **branches**.\n",
    "    * Branches can be merged"
   ]
  },
  {
   "cell_type": "markdown",
   "metadata": {
    "slideshow": {
     "slide_type": "subslide"
    }
   },
   "source": [
    "## What is `git`?\n",
    "\n",
    "* A version control system developed by the inventor of the Linux kernel, Linus Torvalds.\n",
    "* A decentralized system\n",
    "    * repositories are stored locally on the user's computer\n",
    "    * a central (remote) repository might exists, e.g. github.com"
   ]
  },
  {
   "cell_type": "markdown",
   "metadata": {
    "slideshow": {
     "slide_type": "subslide"
    }
   },
   "source": [
    "## Cloning a repository\n",
    "\n",
    "To clone a repository use the `git clone <repo_url>.git <local_dir>` command:\n",
    "\n",
    "```bash\n",
    "git clone https://github.com/icecube/skyllh.git skyllh\n",
    "```\n",
    "\n",
    "This copies (clones) the **master** branch of the repository from the remote location to the local disk."
   ]
  },
  {
   "cell_type": "markdown",
   "metadata": {
    "slideshow": {
     "slide_type": "subslide"
    }
   },
   "source": [
    "## Working with branches\n",
    "\n",
    "![Git Branches](figures/git_branches.png)\n",
    "\n",
    "* A branch represents an independent line of development.\n",
    "* Always use a new branch when making large code changes, e.g. new feature development or bug fix! \n",
    "\n",
    "### List available branches\n",
    "To list all available remote branches type:\n",
    "\n",
    "```bash\n",
    "git branch -a\n",
    "```"
   ]
  },
  {
   "cell_type": "markdown",
   "metadata": {
    "slideshow": {
     "slide_type": "subslide"
    }
   },
   "source": [
    "### Creating a new branch\n",
    "\n",
    "To work on a new feature or bug fix, one should create a new branch from the *master* branch.\n",
    "\n",
    "* Clone the repository.\n",
    "* Checkout a new branch via the `git checkout -b <branch>` command.\n",
    "\n",
    "```bash\n",
    "git clone https://github.com/icecube/skyllh.git skyllh.my_new_feature\n",
    "cd skyllh.my_new_feature/\n",
    "git checkout -b my_new_feature\n",
    "```\n",
    "\n",
    "After creating the new branch it lives in your local repository. In order to copy it to the remote repository one uses the `git push --set-upstream origin <branch>` command:\n",
    "\n",
    "```bash\n",
    "git push --set-upstream origin my_new_feature\n",
    "```\n",
    "\n",
    "To see on which branch you are currently working on use\n",
    "\n",
    "```bash\n",
    "git branch\n",
    "```\n",
    "to get the list of available branches."
   ]
  },
  {
   "cell_type": "markdown",
   "metadata": {
    "slideshow": {
     "slide_type": "subslide"
    }
   },
   "source": [
    "## Commiting code changes\n",
    "\n",
    "After making code changes, these changes must be committed to the branch as a commit.\n",
    "\n",
    "To see the changed files:\n",
    "\n",
    "```bash\n",
    "git status\n",
    "```\n",
    "\n",
    "To stage a changed file for a commit, use the `git add` command:\n",
    "\n",
    "```bash\n",
    "git add <file>\n",
    "```\n",
    "\n",
    "To commit all staged files:\n",
    "\n",
    "```bash\n",
    "git commit -m \"My commit description\"\n",
    "```\n"
   ]
  },
  {
   "cell_type": "markdown",
   "metadata": {
    "slideshow": {
     "slide_type": "subslide"
    }
   },
   "source": [
    "## Merging two branches\n",
    "\n",
    "After a bug was fixed or a new feature was implemented the development branch needs to be merged with the *master* branch."
   ]
  },
  {
   "cell_type": "markdown",
   "metadata": {
    "slideshow": {
     "slide_type": "fragment"
    }
   },
   "source": [
    "![Merging two branches](figures/git_branch_merge.png)"
   ]
  },
  {
   "cell_type": "markdown",
   "metadata": {
    "slideshow": {
     "slide_type": "subslide"
    }
   },
   "source": [
    "* Make sure to be in the correct receiving branch, e.g. master:\n",
    "\n",
    "```bash\n",
    "git checkout master\n",
    "```\n",
    "\n",
    "* Fetch and pull the latest updates of the receiving branch:\n",
    "\n",
    "```bash\n",
    "git fetch\n",
    "git pull\n",
    "```\n",
    "\n",
    "* Marge the feature branch into the master branch:\n",
    "\n",
    "```bash\n",
    "git merge my_new_feature\n",
    "```\n",
    "\n",
    "* Delete the feature branch:\n",
    "\n",
    "```bash\n",
    "git branch -d my_new_feature\n",
    "```"
   ]
  },
  {
   "cell_type": "markdown",
   "metadata": {
    "slideshow": {
     "slide_type": "subslide"
    }
   },
   "source": [
    "## Resolving merge conflicts\n",
    "\n",
    "* Merge conflicts occur when the **same part of the same file** was **changed by both branches**.\n",
    "* `git merge` will fail before creating the merge commit.\n",
    "* `git status` will tell where merge conflics are."
   ]
  },
  {
   "cell_type": "markdown",
   "metadata": {
    "slideshow": {
     "slide_type": "fragment"
    }
   },
   "source": [
    "```\n",
    "here is some content not affected by the conflict\n",
    "<<<<<<< master\n",
    "this is conflicted text from master\n",
    "=======\n",
    "this is conflicted text from my_new_feature branch\n",
    ">>>>>>> my_new_feature;\n",
    "```"
   ]
  },
  {
   "cell_type": "markdown",
   "metadata": {
    "slideshow": {
     "slide_type": "fragment"
    }
   },
   "source": [
    "* Edit the conflicting files to resolve the conflict.\n",
    "* Stage the changed files with `git add`.\n",
    "* Perform a final merge commit with `git commit`."
   ]
  },
  {
   "cell_type": "markdown",
   "metadata": {
    "slideshow": {
     "slide_type": "subslide"
    }
   },
   "source": [
    "## Pull requests on github.com\n",
    "\n",
    "* *github.com* provides the functionality to create **pull requests**.\n",
    "* Pull requests are branches that **ask to be pulled** into the master branch via a merge operation.\n",
    "* Pull requests can be **code-reviewed** before merging."
   ]
  },
  {
   "cell_type": "code",
   "execution_count": null,
   "metadata": {},
   "outputs": [],
   "source": []
  }
 ],
 "metadata": {
  "celltoolbar": "Slideshow",
  "kernelspec": {
   "display_name": "Python 3 (adv-py3-course)",
   "language": "python",
   "name": "adv-py3-course"
  },
  "language_info": {
   "codemirror_mode": {
    "name": "ipython",
    "version": 3
   },
   "file_extension": ".py",
   "mimetype": "text/x-python",
   "name": "python",
   "nbconvert_exporter": "python",
   "pygments_lexer": "ipython3",
   "version": "3.8.10"
  },
  "vscode": {
   "interpreter": {
    "hash": "e102847df13f8d4f78ffc3ddea38cd104aed51a5e856d7b4f01bdb1a8bbde3be"
   }
  }
 },
 "nbformat": 4,
 "nbformat_minor": 2
}
