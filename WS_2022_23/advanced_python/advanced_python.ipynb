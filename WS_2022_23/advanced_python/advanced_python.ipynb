{
 "cells": [
  {
   "cell_type": "markdown",
   "metadata": {
    "slideshow": {
     "slide_type": "slide"
    }
   },
   "source": [
    "# Advanced Python Programming\n",
    "\n",
    "Dr. Martin Wolf, Tomas Kontrimas\n",
    "\n",
    "Advanced Python Programming, WS 2022/23"
   ]
  },
  {
   "cell_type": "code",
   "execution_count": 152,
   "metadata": {
    "slideshow": {
     "slide_type": "fragment"
    }
   },
   "outputs": [
    {
     "name": "stdout",
     "output_type": "stream",
     "text": [
      "Hello World\n"
     ]
    }
   ],
   "source": [
    "class Word:\n",
    "    def __init__(self, word):\n",
    "        self.word = word\n",
    "    def __add__(self, rhs):\n",
    "        return Word(self.word + ' ' + str(rhs))\n",
    "    def __str__(self):\n",
    "        return self.word\n",
    "    \n",
    "hello = Word('Hello')\n",
    "world = Word('World')\n",
    "print(hello + world)"
   ]
  },
  {
   "cell_type": "markdown",
   "metadata": {
    "slideshow": {
     "slide_type": "slide"
    }
   },
   "source": [
    "# Learning objectives of this course\n",
    "\n",
    "* Understanding the concepts of object-oriented programming (OOP), in particular in Python\n",
    "* Understanding inheritance in OOP\n",
    "* Some useful software packages for data processing and plotting\n",
    "* Working with version-control systems like `git` and `github.com`"
   ]
  },
  {
   "cell_type": "markdown",
   "metadata": {
    "slideshow": {
     "slide_type": "slide"
    }
   },
   "source": [
    "# Technical Prerequisites Of This Course\n",
    "\n",
    "* Computer with Python and Jupyter Notebook support\n",
    "\n",
    "    - Linux, Windows, Mac\n",
    "    \n",
    "* Alternatively, create and use Jupyter notebooks on google: https://colab.research.google.com\n",
    "    \n",
    "* *github.com* account"
   ]
  },
  {
   "cell_type": "markdown",
   "metadata": {
    "slideshow": {
     "slide_type": "slide"
    }
   },
   "source": [
    "# Why do we need to be able to develop software, in particular in physics?"
   ]
  },
  {
   "cell_type": "markdown",
   "metadata": {
    "slideshow": {
     "slide_type": "subslide"
    }
   },
   "source": [
    "* For most of our professional time we work with ...\n",
    "\n",
    "    * data taking\n",
    "    * data simulation\n",
    "    * data management\n",
    "    * data selection\n",
    "    * data analysis\n",
    "    \n",
    "* All of the above needs software that is ...\n",
    "\n",
    "    * efficient\n",
    "    * modular\n",
    "    * well maintainable\n",
    "    * scalable"
   ]
  },
  {
   "cell_type": "markdown",
   "metadata": {
    "slideshow": {
     "slide_type": "subslide"
    }
   },
   "source": [
    "**Example: Trigger rate of the IceCube Neutrino Detector at South Pole:**\n",
    "\n",
    "![Trigger rate of the Icecube Neutrino Detector at South Pole](figures/icecube_trigger_rate.png)"
   ]
  },
  {
   "cell_type": "markdown",
   "metadata": {
    "slideshow": {
     "slide_type": "slide"
    }
   },
   "source": [
    "# Overview\n",
    "\n",
    "DON'T PANIC!  \n",
    "Just read the instructions:\n",
    "<https://docs.python.org/3/>\n",
    "\n",
    "## Intro and course setup\n",
    "* Jupyter Notebook and virtual Python environments on your own computer\n",
    "* Jupyter Notebook on Google Colab"
   ]
  },
  {
   "cell_type": "markdown",
   "metadata": {
    "slideshow": {
     "slide_type": "subslide"
    }
   },
   "source": [
    "## The basics of Python (recap)\n",
    "* Data types in Python\n",
    "* Python as a calculator\n",
    "* String formatting\n",
    "* Loops and Conditions\n",
    "* List comprehension\n",
    "* Working with files\n",
    "* Functions\n",
    "* Lambda functions\n",
    "* Exceptions\n",
    "* Decorators\n",
    "* PEP8 Coding Style\n",
    "\n",
    "## Object-Oriented Programming (OOP)\n",
    "* Classes\n",
    "* Properties\n",
    "* Class methods\n",
    "* Static methods\n",
    "* Inheritance\n",
    "* Multiple inheritance\n",
    "* Abstract base classes\n",
    "* Iterator interface"
   ]
  },
  {
   "cell_type": "markdown",
   "metadata": {
    "slideshow": {
     "slide_type": "subslide"
    }
   },
   "source": [
    "## Advanced packages\n",
    "* `numpy` for data processing \n",
    "* `matplotlib` for plotting\n",
    "\n",
    "## Working with version control systems (git)\n",
    "* What is a version control system?\n",
    "* Working with `git` and *github.com*"
   ]
  },
  {
   "cell_type": "markdown",
   "metadata": {
    "slideshow": {
     "slide_type": "slide"
    }
   },
   "source": [
    "# Jupyter Notebook and virtual Python environments on your own computer"
   ]
  },
  {
   "cell_type": "markdown",
   "metadata": {
    "slideshow": {
     "slide_type": "subslide"
    }
   },
   "source": [
    "This shows the installation of Jupyter and Python virtual environments on Linux (Ubuntu).\n",
    "\n",
    "First, let's install Jupyter via `apt-get`:\n",
    "\n",
    "```bash\n",
    "sudo apt-get install python3-notebook python3-ipykernel\n",
    "```\n",
    "\n",
    "For this course, I recommend to setup a dedicated virtual Python 3 environment:\n",
    "    \n",
    "```bash\n",
    "sudo apt-get install virtualenvwrapper\n",
    "source /usr/share/virtualenvwrapper/virtualenvwrapper.sh\n",
    "```\n",
    "  \n",
    "The environment is created via:\n",
    "  \n",
    "```bash\n",
    "mkvirtualenv -p /usr/bin/python3 --system-site-packages adv-py3-course\n",
    "pip install -U astropy matplotlib numpy scipy\n",
    "```\n",
    "\n",
    "The final step is to add the virtual Python environment to Jupyter Notebook:\n",
    "\n",
    "```bash\n",
    "python -m ipykernel install --user \\\n",
    "    --name adv-py3-course --display-name \"Python 3 (adv-py3-course)\"\n",
    "```"
   ]
  },
  {
   "cell_type": "markdown",
   "metadata": {
    "slideshow": {
     "slide_type": "subslide"
    }
   },
   "source": [
    "I further recommend to put the\n",
    "\n",
    "```bash\n",
    "source /usr/share/virtualenvwrapper/virtualenvwrapper.sh\n",
    "```\n",
    "\n",
    "line into your `.profile` and launch a new terminal window.\n",
    "\n",
    "You can start a Jupyter Notebook via:\n",
    "\n",
    "```bash\n",
    "jupyter notebook\n",
    "```\n",
    "\n",
    "and create a new `py3-astro` notebook.\n",
    "\n",
    "For executing Python scripts, you can activate the `py3-astro` environment via:\n",
    "\n",
    "```bash\n",
    "workon py3-astro\n",
    "```\n",
    "\n",
    "and deactivate it via:\n",
    "\n",
    "```bash\n",
    "deactivate\n",
    "```"
   ]
  },
  {
   "cell_type": "markdown",
   "metadata": {
    "slideshow": {
     "slide_type": "slide"
    }
   },
   "source": [
    "# Jupyter Notebook on Google Colab"
   ]
  },
  {
   "cell_type": "markdown",
   "metadata": {
    "slideshow": {
     "slide_type": "fragment"
    }
   },
   "source": [
    "* Goto https://colab.research.google.com and create a new notebook\n",
    "* To install new packages, type `!pip install <package>`"
   ]
  },
  {
   "cell_type": "markdown",
   "metadata": {
    "slideshow": {
     "slide_type": "slide"
    }
   },
   "source": [
    "# The basics of Python"
   ]
  },
  {
   "cell_type": "markdown",
   "metadata": {
    "slideshow": {
     "slide_type": "subslide"
    }
   },
   "source": [
    "* Python is an interpreted (no compilation) and loosely typed programming language.\n",
    "* The latest major version of Python is **Python3**. Don't use Python2 anymore!"
   ]
  },
  {
   "cell_type": "code",
   "execution_count": 2,
   "metadata": {
    "slideshow": {
     "slide_type": "skip"
    }
   },
   "outputs": [],
   "source": [
    "%matplotlib notebook"
   ]
  },
  {
   "cell_type": "code",
   "execution_count": 3,
   "metadata": {
    "slideshow": {
     "slide_type": "fragment"
    }
   },
   "outputs": [],
   "source": [
    "# Comments start with '#'."
   ]
  },
  {
   "cell_type": "code",
   "execution_count": 4,
   "metadata": {
    "slideshow": {
     "slide_type": "fragment"
    }
   },
   "outputs": [],
   "source": [
    "# Import modules.\n",
    "import os\n",
    "\n",
    "import matplotlib.pyplot\n",
    "import numpy as np"
   ]
  },
  {
   "cell_type": "code",
   "execution_count": 5,
   "metadata": {
    "slideshow": {
     "slide_type": "fragment"
    }
   },
   "outputs": [],
   "source": [
    "# Import only specific functions from a module.\n",
    "from __future__ import print_function, division"
   ]
  },
  {
   "cell_type": "code",
   "execution_count": 6,
   "metadata": {
    "slideshow": {
     "slide_type": "fragment"
    }
   },
   "outputs": [],
   "source": [
    "# Remember: never ever do 'from foo import *'"
   ]
  },
  {
   "cell_type": "code",
   "execution_count": 7,
   "metadata": {
    "slideshow": {
     "slide_type": "fragment"
    }
   },
   "outputs": [],
   "source": [
    "# Declare a variable.\n",
    "a = 5.\n",
    "a = \"Hello World!\""
   ]
  },
  {
   "cell_type": "markdown",
   "metadata": {
    "slideshow": {
     "slide_type": "slide"
    }
   },
   "source": [
    "## Data types"
   ]
  },
  {
   "cell_type": "markdown",
   "metadata": {
    "slideshow": {
     "slide_type": "subslide"
    }
   },
   "source": [
    "* Numeric types:  \n",
    "  `int, float, complex`\n",
    "* Sequence types:  \n",
    "  `str, unicode, list, tuple, bytearray, buffer`\n",
    "* Set types:  \n",
    "  `set, frozenset`\n",
    "* Map types:  \n",
    "  `dict`\n",
    "* Boolean types:\n",
    "  `bool`\n",
    "* The None type object: `None`\n",
    "* Mutable data types like `list` and `dict` are copied by reference.\n",
    "* Immutable data types like `int` and `float` are copied by value.\n",
    "* Full list:  \n",
    "  <https://docs.python.org/3.7/library/stdtypes.html#>"
   ]
  },
  {
   "cell_type": "markdown",
   "metadata": {
    "slideshow": {
     "slide_type": "slide"
    }
   },
   "source": [
    "## Python as a calculator"
   ]
  },
  {
   "cell_type": "code",
   "execution_count": 8,
   "metadata": {
    "slideshow": {
     "slide_type": "subslide"
    }
   },
   "outputs": [
    {
     "name": "stdout",
     "output_type": "stream",
     "text": [
      "5.  + 5. = 10.0\n",
      "10. - 5. = 5.0\n"
     ]
    }
   ],
   "source": [
    "# Addition and substraction\n",
    "print(\"5.  + 5. =\", 5. + 5.)\n",
    "print(\"10. - 5. =\", 10. - 5.)"
   ]
  },
  {
   "cell_type": "code",
   "execution_count": 9,
   "metadata": {
    "slideshow": {
     "slide_type": "fragment"
    }
   },
   "outputs": [
    {
     "name": "stdout",
     "output_type": "stream",
     "text": [
      "5.  * 5. = 25.0\n",
      "25. / 5. = 5.0\n"
     ]
    }
   ],
   "source": [
    "# Multiplication and division\n",
    "print(\"5.  * 5. =\", 5. * 5.)\n",
    "print(\"25. / 5. =\", 25. / 5.)"
   ]
  },
  {
   "cell_type": "code",
   "execution_count": 10,
   "metadata": {
    "slideshow": {
     "slide_type": "fragment"
    }
   },
   "outputs": [
    {
     "name": "stdout",
     "output_type": "stream",
     "text": [
      "25. % 4. = 1.0\n",
      "5.**2    = 25.0\n"
     ]
    }
   ],
   "source": [
    "# Modulo and exponentiation\n",
    "print(\"25. % 4. =\", 25. % 4.)\n",
    "print(\"5.**2    =\", 5.**2)"
   ]
  },
  {
   "cell_type": "code",
   "execution_count": 11,
   "metadata": {
    "slideshow": {
     "slide_type": "subslide"
    }
   },
   "outputs": [
    {
     "name": "stdout",
     "output_type": "stream",
     "text": [
      "a + 5. = 10.0\n"
     ]
    }
   ],
   "source": [
    "# Do calculations with variables.\n",
    "a = 5.\n",
    "print(\"a + 5. =\", a + 5.)"
   ]
  },
  {
   "cell_type": "code",
   "execution_count": 12,
   "metadata": {
    "slideshow": {
     "slide_type": "fragment"
    }
   },
   "outputs": [
    {
     "name": "stdout",
     "output_type": "stream",
     "text": [
      "c = a + b = 9.0\n"
     ]
    }
   ],
   "source": [
    "b = 4.\n",
    "c = a + b\n",
    "print(\"c = a + b =\", c)"
   ]
  },
  {
   "cell_type": "code",
   "execution_count": 13,
   "metadata": {
    "slideshow": {
     "slide_type": "fragment"
    }
   },
   "outputs": [
    {
     "name": "stdout",
     "output_type": "stream",
     "text": [
      "a = 10.0\n"
     ]
    }
   ],
   "source": [
    "# In-place modifications\n",
    "a += 5.\n",
    "print(\"a =\", a)"
   ]
  },
  {
   "cell_type": "code",
   "execution_count": 14,
   "metadata": {
    "slideshow": {
     "slide_type": "fragment"
    }
   },
   "outputs": [
    {
     "name": "stdout",
     "output_type": "stream",
     "text": [
      "exp(2.5)   = 12.182493960703473\n",
      "sin(pi/2.) = 1.0\n"
     ]
    }
   ],
   "source": [
    "# Call mathematical functions like sin, exp, log, ...\n",
    "# Instead of NumPy, you can also use the 'math' module.\n",
    "print(\"exp(2.5)   =\", np.exp(2.5))\n",
    "print(\"sin(pi/2.) =\", np.sin(np.pi/2.))"
   ]
  },
  {
   "cell_type": "markdown",
   "metadata": {
    "slideshow": {
     "slide_type": "slide"
    }
   },
   "source": [
    "## String formatting"
   ]
  },
  {
   "cell_type": "markdown",
   "metadata": {
    "slideshow": {
     "slide_type": "subslide"
    }
   },
   "source": [
    "General form:\n",
    "\n",
    "```\n",
    "[fill][align][sign][#][0][width][,][.precision][type]\n",
    "```\n",
    "\n",
    "See:  \n",
    "<https://docs.python.org/3/library/string.html#format-string-syntax>"
   ]
  },
  {
   "cell_type": "code",
   "execution_count": 15,
   "metadata": {
    "slideshow": {
     "slide_type": "fragment"
    }
   },
   "outputs": [
    {
     "name": "stdout",
     "output_type": "stream",
     "text": [
      "     +3.14\n",
      "0000000003\n"
     ]
    }
   ],
   "source": [
    "# Some examples\n",
    "print(\"{:>+10.2f}\".format(np.pi))\n",
    "print(\"{:010d}\".format(3))"
   ]
  },
  {
   "cell_type": "code",
   "execution_count": 16,
   "metadata": {
    "slideshow": {
     "slide_type": "fragment"
    }
   },
   "outputs": [
    {
     "name": "stdout",
     "output_type": "stream",
     "text": [
      "0, 1, 2, 3\n",
      "4\n"
     ]
    }
   ],
   "source": [
    "# Some more examples\n",
    "s = \"{0}, {1[0]}, {1[1]}, {2[a]}\"\n",
    "print(s.format(0, [1, 2], {\"a\": 3}))\n",
    "print(\"{key}\".format(key=4))"
   ]
  },
  {
   "cell_type": "markdown",
   "metadata": {
    "slideshow": {
     "slide_type": "slide"
    }
   },
   "source": [
    "## Loops and Conditions"
   ]
  },
  {
   "cell_type": "code",
   "execution_count": 17,
   "metadata": {
    "slideshow": {
     "slide_type": "subslide"
    }
   },
   "outputs": [
    {
     "name": "stdout",
     "output_type": "stream",
     "text": [
      "Skip 0.\n",
      "1 is an odd  number.\n",
      "2 is an even number.\n"
     ]
    }
   ],
   "source": [
    "# Example for-loop with conditions\n",
    "for i in range(3):\n",
    "    if i == 0:\n",
    "        print(\"Skip 0.\")\n",
    "    elif i % 2 > 0:\n",
    "        print(\"{} is an odd  number.\".format(i))\n",
    "    else:\n",
    "        print(\"{} is an even number.\".format(i))"
   ]
  },
  {
   "cell_type": "code",
   "execution_count": 18,
   "metadata": {
    "slideshow": {
     "slide_type": "fragment"
    }
   },
   "outputs": [],
   "source": [
    "# Example while-loop\n",
    "d = {\"a\": 0, \"b\": 1}\n",
    "\n",
    "while len(d) > 0:\n",
    "    d.popitem()"
   ]
  },
  {
   "cell_type": "markdown",
   "metadata": {
    "slideshow": {
     "slide_type": "fragment"
    }
   },
   "source": [
    "* You can break out of a loop via `break`.\n",
    "* Iterations can be skipped via `continue`.\n",
    "* Remember that Python does not really know about scopes."
   ]
  },
  {
   "cell_type": "markdown",
   "metadata": {
    "slideshow": {
     "slide_type": "slide"
    }
   },
   "source": [
    "## List comprehension"
   ]
  },
  {
   "cell_type": "markdown",
   "metadata": {
    "slideshow": {
     "slide_type": "subslide"
    }
   },
   "source": [
    "An easy way to create iterables from existing ones."
   ]
  },
  {
   "cell_type": "code",
   "execution_count": 19,
   "metadata": {
    "slideshow": {
     "slide_type": "fragment"
    }
   },
   "outputs": [],
   "source": [
    "# List comprehension examples\n",
    "l = [i**2 for i in range(10)]\n",
    "l = [10. / i for i in range(10) if i > 0]\n",
    "l = [10. / i if i > 0 else np.inf for n in range(10)]\n",
    "l = [[a*i for a in [1, 2]] for i in range(1, 11)]"
   ]
  },
  {
   "cell_type": "code",
   "execution_count": 20,
   "metadata": {
    "slideshow": {
     "slide_type": "fragment"
    }
   },
   "outputs": [],
   "source": [
    "# The same works for dictionaries.\n",
    "d = {\"a\": 2., \"b\": 3.}\n",
    "d = {k: v**2 for k, v in d.items()}"
   ]
  },
  {
   "cell_type": "code",
   "execution_count": 21,
   "metadata": {
    "slideshow": {
     "slide_type": "fragment"
    }
   },
   "outputs": [],
   "source": [
    "# And of course sets\n",
    "s = {i**2 for i in range(10)}"
   ]
  },
  {
   "cell_type": "code",
   "execution_count": 22,
   "metadata": {
    "slideshow": {
     "slide_type": "fragment"
    }
   },
   "outputs": [
    {
     "name": "stdout",
     "output_type": "stream",
     "text": [
      "285\n"
     ]
    }
   ],
   "source": [
    "# Some generator magic\n",
    "g = (i**2 for i in range(10))\n",
    "r = sum(g)\n",
    "\n",
    "# We can also do this in one line.\n",
    "print(sum(i**2 for i in range(10)))"
   ]
  },
  {
   "cell_type": "markdown",
   "metadata": {
    "slideshow": {
     "slide_type": "slide"
    }
   },
   "source": [
    "## Working with files"
   ]
  },
  {
   "cell_type": "code",
   "execution_count": 23,
   "metadata": {
    "slideshow": {
     "slide_type": "subslide"
    }
   },
   "outputs": [],
   "source": [
    "# Create a text file and give it some input.\n",
    "with open(\"example.txt\", \"w\") as stream:\n",
    "    stream.write(\"This is a line.\\n\")\n",
    "    stream.write(\"This is another line.\")"
   ]
  },
  {
   "cell_type": "code",
   "execution_count": 24,
   "metadata": {
    "slideshow": {
     "slide_type": "fragment"
    }
   },
   "outputs": [
    {
     "name": "stdout",
     "output_type": "stream",
     "text": [
      "This is a line.\n",
      "This is another line.\n"
     ]
    }
   ],
   "source": [
    "# Read the content of the text file.\n",
    "with open(\"example.txt\", \"r\") as stream:\n",
    "    lines = stream.readlines()\n",
    "    \n",
    "print(\"\".join(lines))"
   ]
  },
  {
   "cell_type": "code",
   "execution_count": 25,
   "metadata": {
    "slideshow": {
     "slide_type": "skip"
    }
   },
   "outputs": [],
   "source": [
    "os.remove(\"example.txt\")"
   ]
  },
  {
   "cell_type": "markdown",
   "metadata": {
    "slideshow": {
     "slide_type": "slide"
    }
   },
   "source": [
    "## Functions"
   ]
  },
  {
   "cell_type": "code",
   "execution_count": 26,
   "metadata": {
    "slideshow": {
     "slide_type": "subslide"
    }
   },
   "outputs": [],
   "source": [
    "# A simple function that takes two arguments.\n",
    "def power(a, e=2.):\n",
    "    r\"\"\"Exponentiation\n",
    "    \n",
    "    Calculate: ``a**e``.\n",
    "    \n",
    "    Parameters\n",
    "    ----------\n",
    "    a : float\n",
    "        Some number\n",
    "    e : float, optional\n",
    "        Exponent\n",
    "        \n",
    "    Returns\n",
    "    -------\n",
    "    float\n",
    "        Result of ``a**e``\n",
    "    \n",
    "    \"\"\"\n",
    "    return a**e"
   ]
  },
  {
   "cell_type": "code",
   "execution_count": 27,
   "metadata": {
    "slideshow": {
     "slide_type": "fragment"
    }
   },
   "outputs": [
    {
     "name": "stdout",
     "output_type": "stream",
     "text": [
      "5.**2 = 25.0\n"
     ]
    }
   ],
   "source": [
    "print(\"5.**2 =\", power(5.))"
   ]
  },
  {
   "cell_type": "code",
   "execution_count": 28,
   "metadata": {
    "slideshow": {
     "slide_type": "subslide"
    }
   },
   "outputs": [],
   "source": [
    "# Alternative ways to call the function\n",
    "results = [\n",
    "    power(5., 2.),\n",
    "    power(5., e=2.),\n",
    "    power(a=5., e=2.),\n",
    "    power(e=2., a=5.),\n",
    "    power(*[5., 2.]),\n",
    "    power(**{\"a\": 5., \"e\": 2.})\n",
    "    ]"
   ]
  },
  {
   "cell_type": "code",
   "execution_count": 29,
   "metadata": {
    "slideshow": {
     "slide_type": "fragment"
    }
   },
   "outputs": [
    {
     "name": "stdout",
     "output_type": "stream",
     "text": [
      "Results: 25.0, 25.0, 25.0, 25.0, 25.0, 25.0\n"
     ]
    }
   ],
   "source": [
    "print(\"Results:\", \", \".join(\"{}\".format(r) for r in results))"
   ]
  },
  {
   "cell_type": "code",
   "execution_count": 30,
   "metadata": {
    "slideshow": {
     "slide_type": "fragment"
    }
   },
   "outputs": [],
   "source": [
    "# General syntax\n",
    "def func(*args, **kwargs):\n",
    "    pass"
   ]
  },
  {
   "cell_type": "markdown",
   "metadata": {
    "slideshow": {
     "slide_type": "fragment"
    }
   },
   "source": [
    "A few words about doc strings:\n",
    "\n",
    "* **Do write** them because they help to better understand your code.\n",
    "* We recommend the NumPy style:  \n",
    "  <https://sphinxcontrib-napoleon.readthedocs.io/en/latest/example_numpy.html>"
   ]
  },
  {
   "cell_type": "markdown",
   "metadata": {
    "slideshow": {
     "slide_type": "slide"
    }
   },
   "source": [
    "## Lambda functions"
   ]
  },
  {
   "cell_type": "markdown",
   "metadata": {
    "slideshow": {
     "slide_type": "subslide"
    }
   },
   "source": [
    "Lambdas are unnamed in-line functions."
   ]
  },
  {
   "cell_type": "code",
   "execution_count": 31,
   "metadata": {
    "slideshow": {
     "slide_type": "fragment"
    }
   },
   "outputs": [
    {
     "name": "stdout",
     "output_type": "stream",
     "text": [
      "['S', 'g', 'i', 'n', 'r', 't']\n",
      "['g', 'i', 'n', 'r', 'S', 't']\n"
     ]
    }
   ],
   "source": [
    "# Example for lambda usage\n",
    "print(sorted(\"String\"))\n",
    "print(sorted(\"String\", key=lambda s: s.lower()))"
   ]
  },
  {
   "cell_type": "code",
   "execution_count": 32,
   "metadata": {
    "slideshow": {
     "slide_type": "fragment"
    }
   },
   "outputs": [
    {
     "name": "stdout",
     "output_type": "stream",
     "text": [
      "5**2 = 25.0\n"
     ]
    }
   ],
   "source": [
    "# A lambda function can be assigned to a variable.\n",
    "square = lambda x: x**2\n",
    "print(\"5**2 =\", square(5.))"
   ]
  },
  {
   "cell_type": "markdown",
   "metadata": {
    "slideshow": {
     "slide_type": "slide"
    }
   },
   "source": [
    "## Exceptions"
   ]
  },
  {
   "cell_type": "code",
   "execution_count": 153,
   "metadata": {
    "slideshow": {
     "slide_type": "subslide"
    }
   },
   "outputs": [],
   "source": [
    "# Write a function that can raise an exception.\n",
    "def division(a, b):\n",
    "    r\"\"\"Divide `a` by `b`.\n",
    "    \n",
    "    Parameters\n",
    "    ----------\n",
    "    a,b : float\n",
    "        Nominator and denominator\n",
    "        \n",
    "    Returns\n",
    "    -------\n",
    "    float\n",
    "        The result of ``a/b``\n",
    "        \n",
    "    Raises\n",
    "    ------\n",
    "    ValueError\n",
    "        If the denominator `b` is zero.\n",
    "    \"\"\"\n",
    "    if np.fabs(b) > 0.:\n",
    "        return a / b\n",
    "    else:\n",
    "        raise ValueError(\"The denominator should not be zero.\")"
   ]
  },
  {
   "cell_type": "code",
   "execution_count": 155,
   "metadata": {
    "slideshow": {
     "slide_type": "subslide"
    }
   },
   "outputs": [
    {
     "name": "stdout",
     "output_type": "stream",
     "text": [
      "The denominator should not be zero.\n",
      "The result is inf.\n"
     ]
    }
   ],
   "source": [
    "# Catch the exception.\n",
    "try:\n",
    "    r = division(5., 0.)\n",
    "except ValueError as e:\n",
    "    print(e)\n",
    "    r = np.inf\n",
    "finally:\n",
    "    print(\"The result is {}.\".format(r))"
   ]
  },
  {
   "cell_type": "markdown",
   "metadata": {
    "slideshow": {
     "slide_type": "fragment"
    }
   },
   "source": [
    "A full list of built-in exceptions can be found here:  \n",
    "<https://docs.python.org/3/library/exceptions.html>"
   ]
  },
  {
   "cell_type": "markdown",
   "metadata": {
    "slideshow": {
     "slide_type": "fragment"
    }
   },
   "source": [
    "The most common exception types that one wants to raise are:\n",
    "* `TypeError`\n",
    "* `ValueError`\n",
    "* `NameError`\n",
    "* `IndexError`\n",
    "* `KeyError`\n",
    "* `NotImplementedError`"
   ]
  },
  {
   "cell_type": "markdown",
   "metadata": {
    "slideshow": {
     "slide_type": "slide"
    }
   },
   "source": [
    "## Decorators"
   ]
  },
  {
   "cell_type": "markdown",
   "metadata": {
    "slideshow": {
     "slide_type": "subslide"
    }
   },
   "source": [
    "Decorators are syntactic sugar for functions that are *decorating* other functions.\n",
    "\n",
    "* Decorator functions take a **callable** as argument.\n",
    "* Decorator functions should call the given callable argument."
   ]
  },
  {
   "cell_type": "code",
   "execution_count": 102,
   "metadata": {
    "slideshow": {
     "slide_type": "fragment"
    }
   },
   "outputs": [],
   "source": [
    "# Example of a simple decorating function.\n",
    "def paragraph(f):\n",
    "    return lambda name: \"<p>{}</p>\".format(f(name))"
   ]
  },
  {
   "cell_type": "code",
   "execution_count": 103,
   "metadata": {
    "slideshow": {
     "slide_type": "fragment"
    }
   },
   "outputs": [],
   "source": [
    "@paragraph\n",
    "def greet(name):\n",
    "    return \"Hello {}, how are you?\".format(name)"
   ]
  },
  {
   "cell_type": "code",
   "execution_count": 104,
   "metadata": {
    "slideshow": {
     "slide_type": "fragment"
    }
   },
   "outputs": [
    {
     "name": "stdout",
     "output_type": "stream",
     "text": [
      "<p>Hello John, how are you?</p>\n"
     ]
    }
   ],
   "source": [
    "print(greet(\"John\"))"
   ]
  },
  {
   "cell_type": "markdown",
   "metadata": {
    "slideshow": {
     "slide_type": "slide"
    }
   },
   "source": [
    "## PEP8 Coding style"
   ]
  },
  {
   "cell_type": "markdown",
   "metadata": {
    "slideshow": {
     "slide_type": "fragment"
    }
   },
   "source": [
    "Please stick to the 'official' style guide for Python code:  \n",
    "<https://www.python.org/dev/peps/pep-0008/>"
   ]
  },
  {
   "cell_type": "markdown",
   "metadata": {
    "slideshow": {
     "slide_type": "slide"
    }
   },
   "source": [
    "## Object-Oriented Programming (OOP)"
   ]
  },
  {
   "cell_type": "markdown",
   "metadata": {
    "slideshow": {
     "slide_type": "subslide"
    }
   },
   "source": [
    "From Wikipedia:\n",
    "    \n",
    "    Object-oriented programming (OOP) is a programming paradigm based on the concept of \"objects\", which can\n",
    "    contain data and code: data in the form of fields (often known as attributes or properties), and code,\n",
    "    in the form of procedures (often known as methods).\n",
    "\n",
    "In contrast to sequential global programming, object-oriented programming allows to encapsulate sets of functionalities into classes.\n",
    "\n",
    "Classes can be instantiated as **instances**, i.e. objects of a particular class."
   ]
  },
  {
   "cell_type": "markdown",
   "metadata": {
    "slideshow": {
     "slide_type": "fragment"
    }
   },
   "source": [
    "Example:\n",
    "\n",
    "Given class `Animal`, the object `cat` and object `dog` could be instances of class `Animal`. \n",
    "\n",
    "The class `Animal` can have data fields, i.e. properties, like `name`, and `color`."
   ]
  },
  {
   "cell_type": "markdown",
   "metadata": {
    "slideshow": {
     "slide_type": "slide"
    }
   },
   "source": [
    "## Classes"
   ]
  },
  {
   "cell_type": "markdown",
   "metadata": {
    "slideshow": {
     "slide_type": "fragment"
    }
   },
   "source": [
    "* A class is an object in Python, i.e. a **class object**.\n",
    "* A class always has a **constructor**.\n",
    "* A class can have **attributes**.\n",
    "    * In Python everything is accessible, i.e. public.\n",
    "    * Convention: Private attributes start with an underscore (`_`). \n",
    "* A class can have **instance methods** (functions of the class available to an instance of the class).\n",
    "* A class can have **class methods** (functions of the class available to the class object and an instance of the class).\n",
    "* A class can have **special methods** like `__str__`.\n",
    "* Classes can be derived from other classes (one or many) (see inheritance)."
   ]
  },
  {
   "cell_type": "code",
   "execution_count": 76,
   "metadata": {
    "slideshow": {
     "slide_type": "fragment"
    }
   },
   "outputs": [],
   "source": [
    "# A not very useful class.\n",
    "class MyClass(object):\n",
    "    pass"
   ]
  },
  {
   "cell_type": "code",
   "execution_count": 84,
   "metadata": {
    "slideshow": {
     "slide_type": "fragment"
    }
   },
   "outputs": [
    {
     "data": {
      "text/plain": [
       "['__class__',\n",
       " '__delattr__',\n",
       " '__dict__',\n",
       " '__dir__',\n",
       " '__doc__',\n",
       " '__eq__',\n",
       " '__format__',\n",
       " '__ge__',\n",
       " '__getattribute__',\n",
       " '__gt__',\n",
       " '__hash__',\n",
       " '__init__',\n",
       " '__init_subclass__',\n",
       " '__le__',\n",
       " '__lt__',\n",
       " '__module__',\n",
       " '__ne__',\n",
       " '__new__',\n",
       " '__reduce__',\n",
       " '__reduce_ex__',\n",
       " '__repr__',\n",
       " '__setattr__',\n",
       " '__sizeof__',\n",
       " '__str__',\n",
       " '__subclasshook__',\n",
       " '__weakref__']"
      ]
     },
     "execution_count": 84,
     "metadata": {},
     "output_type": "execute_result"
    }
   ],
   "source": [
    "# MyClass is a class object!\n",
    "# Let's look at its attributes:\n",
    "dir(MyClass)"
   ]
  },
  {
   "cell_type": "code",
   "execution_count": 85,
   "metadata": {
    "slideshow": {
     "slide_type": "subslide"
    }
   },
   "outputs": [],
   "source": [
    "# A simple class with a constructor, two attributes, and a special method.\n",
    "class Direction(object):\n",
    "    r\"\"\"Direction\n",
    "    \n",
    "    Directional vector in spherical coordinates \n",
    "    \n",
    "    Attributes\n",
    "    ----------\n",
    "    azimuth : float\n",
    "        Azimuth angle in rad\n",
    "    zenith : float\n",
    "        Zenith angle in rad\n",
    "    \n",
    "    \"\"\"\n",
    "    def __init__(self, azimuth, zenith):\n",
    "        \"\"\"This is the constructor method.\n",
    "        \"\"\"\n",
    "        self.azimuth = azimuth\n",
    "        self.zenith = zenith\n",
    "        \n",
    "    def __str__(self):\n",
    "        \"\"\"This is a special class method to generate output for `str(obj)`.\n",
    "        \"\"\"\n",
    "        return f\"({self.azimuth}, {self.zenith})\""
   ]
  },
  {
   "cell_type": "code",
   "execution_count": 86,
   "metadata": {
    "slideshow": {
     "slide_type": "fragment"
    }
   },
   "outputs": [
    {
     "name": "stdout",
     "output_type": "stream",
     "text": [
      "Direction: (1.0471975511965976, 1.5707963267948966)\n"
     ]
    }
   ],
   "source": [
    "d = Direction(np.pi/3., np.pi/2.)\n",
    "print(\"Direction:\", d)"
   ]
  },
  {
   "cell_type": "markdown",
   "metadata": {
    "slideshow": {
     "slide_type": "slide"
    }
   },
   "source": [
    "## Properties"
   ]
  },
  {
   "cell_type": "markdown",
   "metadata": {
    "slideshow": {
     "slide_type": "subslide"
    }
   },
   "source": [
    "* Properties tie data attributes to setter, getter, deleter methods.\n",
    "    * Allows for data attribute control"
   ]
  },
  {
   "cell_type": "code",
   "execution_count": 147,
   "metadata": {
    "slideshow": {
     "slide_type": "fragment"
    }
   },
   "outputs": [],
   "source": [
    "class A(object):\n",
    "    r\"\"\"Class `A` with the property `a`, which must be a positive number.\n",
    "    \"\"\"\n",
    "    def __init__(self):\n",
    "        self._a = 0\n",
    "    \n",
    "    @property\n",
    "    def a(self):\n",
    "        r\"\"\"int: A positive number\n",
    "        \"\"\"\n",
    "        return self._a\n",
    "    \n",
    "    @a.setter\n",
    "    def a(self, val):\n",
    "        if val >= 0:\n",
    "            self._a = val\n",
    "        else:\n",
    "            raise ValueError(\n",
    "                \"Expect a positive number.\")"
   ]
  },
  {
   "cell_type": "code",
   "execution_count": 88,
   "metadata": {
    "slideshow": {
     "slide_type": "fragment"
    }
   },
   "outputs": [
    {
     "name": "stdout",
     "output_type": "stream",
     "text": [
      "42\n"
     ]
    }
   ],
   "source": [
    "a = A()\n",
    "a.a = 42\n",
    "print(a.a)"
   ]
  },
  {
   "cell_type": "code",
   "execution_count": 89,
   "metadata": {
    "slideshow": {
     "slide_type": "fragment"
    }
   },
   "outputs": [
    {
     "ename": "ValueError",
     "evalue": "Expect a positive number.",
     "output_type": "error",
     "traceback": [
      "\u001b[0;31m---------------------------------------------------------------------------\u001b[0m",
      "\u001b[0;31mValueError\u001b[0m                                Traceback (most recent call last)",
      "\u001b[0;32m<ipython-input-89-9af0c80ce669>\u001b[0m in \u001b[0;36m<module>\u001b[0;34m\u001b[0m\n\u001b[0;32m----> 1\u001b[0;31m \u001b[0ma\u001b[0m\u001b[0;34m.\u001b[0m\u001b[0ma\u001b[0m \u001b[0;34m=\u001b[0m \u001b[0;34m-\u001b[0m\u001b[0;36m1\u001b[0m\u001b[0;34m\u001b[0m\u001b[0;34m\u001b[0m\u001b[0m\n\u001b[0m",
      "\u001b[0;32m<ipython-input-87-7e030185ebe7>\u001b[0m in \u001b[0;36ma\u001b[0;34m(self, val)\u001b[0m\n\u001b[1;32m     16\u001b[0m             \u001b[0mself\u001b[0m\u001b[0;34m.\u001b[0m\u001b[0m_a\u001b[0m \u001b[0;34m=\u001b[0m \u001b[0mval\u001b[0m\u001b[0;34m\u001b[0m\u001b[0;34m\u001b[0m\u001b[0m\n\u001b[1;32m     17\u001b[0m         \u001b[0;32melse\u001b[0m\u001b[0;34m:\u001b[0m\u001b[0;34m\u001b[0m\u001b[0;34m\u001b[0m\u001b[0m\n\u001b[0;32m---> 18\u001b[0;31m             raise ValueError(\n\u001b[0m\u001b[1;32m     19\u001b[0m                 \"Expect a positive number.\")\n",
      "\u001b[0;31mValueError\u001b[0m: Expect a positive number."
     ]
    }
   ],
   "source": [
    "a.a = -1"
   ]
  },
  {
   "cell_type": "markdown",
   "metadata": {
    "slideshow": {
     "slide_type": "slide"
    }
   },
   "source": [
    "## Instance methods"
   ]
  },
  {
   "cell_type": "markdown",
   "metadata": {
    "slideshow": {
     "slide_type": "fragment"
    }
   },
   "source": [
    "Instance methods have the reference `self` to the class instance as first argument. By definition the constructor method is an instance method as well."
   ]
  },
  {
   "cell_type": "code",
   "execution_count": 72,
   "metadata": {
    "slideshow": {
     "slide_type": "fragment"
    }
   },
   "outputs": [
    {
     "name": "stdout",
     "output_type": "stream",
     "text": [
      "42\n"
     ]
    }
   ],
   "source": [
    "class A(object):\n",
    "    r\"\"\"A class with an instance method.\n",
    "    \"\"\"\n",
    "    def __init__(self, a):\n",
    "        self.a = a\n",
    "\n",
    "a = A(42)\n",
    "print(a.a)"
   ]
  },
  {
   "cell_type": "markdown",
   "metadata": {
    "slideshow": {
     "slide_type": "slide"
    }
   },
   "source": [
    "## The @classmethod decorator"
   ]
  },
  {
   "cell_type": "markdown",
   "metadata": {
    "slideshow": {
     "slide_type": "subslide"
    }
   },
   "source": [
    "The `@classmethod` decorator defines **class methods**. Class methods have a reference to a class object as first argument, i.e. a reference to the class object of the class instance itself. This allows for example to implement more than one constructor for a class."
   ]
  },
  {
   "cell_type": "code",
   "execution_count": 41,
   "metadata": {
    "slideshow": {
     "slide_type": "fragment"
    }
   },
   "outputs": [],
   "source": [
    "class A(object):\n",
    "    r\"\"\"A class with class method.\n",
    "    \n",
    "    \"\"\"\n",
    "    def __init__(self, a, b):\n",
    "        self.a = a\n",
    "        self.b = b\n",
    "        \n",
    "    def __str__(self):\n",
    "        return \"a = {o.a}, b = {o.b}\".format(o=self)\n",
    "    \n",
    "    @classmethod\n",
    "    def from_tuple(cls, t):\n",
    "        return cls(t[0], t[1])"
   ]
  },
  {
   "cell_type": "code",
   "execution_count": 42,
   "metadata": {
    "slideshow": {
     "slide_type": "fragment"
    }
   },
   "outputs": [
    {
     "name": "stdout",
     "output_type": "stream",
     "text": [
      "a = 1.0, b = 2.0\n"
     ]
    }
   ],
   "source": [
    "a = A.from_tuple((1., 2.))\n",
    "print(a)"
   ]
  },
  {
   "cell_type": "markdown",
   "metadata": {
    "slideshow": {
     "slide_type": "slide"
    }
   },
   "source": [
    "## The @staticmethod decorator"
   ]
  },
  {
   "cell_type": "markdown",
   "metadata": {
    "slideshow": {
     "slide_type": "subslide"
    }
   },
   "source": [
    "The `@staticmethod` decorator defines static methods. Static methods can have no arguments at all. Static methods live inside the namespace of a class object. They can be called either from the class object or an instance of the class."
   ]
  },
  {
   "cell_type": "code",
   "execution_count": 43,
   "metadata": {
    "slideshow": {
     "slide_type": "fragment"
    }
   },
   "outputs": [],
   "source": [
    "class Angle(object):\n",
    "    r\"\"\"A class with a static method\n",
    "    \n",
    "    \"\"\"\n",
    "    def __init__(self, value=0.):\n",
    "        self.value = value\n",
    "    \n",
    "    @staticmethod\n",
    "    def deg2rad(angle):\n",
    "        return angle * np.pi / 180."
   ]
  },
  {
   "cell_type": "code",
   "execution_count": 44,
   "metadata": {
    "slideshow": {
     "slide_type": "fragment"
    }
   },
   "outputs": [
    {
     "name": "stdout",
     "output_type": "stream",
     "text": [
      "30deg = 0.52rad\n"
     ]
    }
   ],
   "source": [
    "print(\"30deg = {:.2f}rad\".format(Angle.deg2rad(30.)))"
   ]
  },
  {
   "cell_type": "code",
   "execution_count": 45,
   "metadata": {
    "slideshow": {
     "slide_type": "fragment"
    }
   },
   "outputs": [
    {
     "name": "stdout",
     "output_type": "stream",
     "text": [
      "30deg = 0.52rad\n"
     ]
    }
   ],
   "source": [
    "a = Angle()\n",
    "print(\"30deg = {:.2f}rad\".format(a.deg2rad(30.)))"
   ]
  },
  {
   "cell_type": "markdown",
   "metadata": {
    "slideshow": {
     "slide_type": "slide"
    }
   },
   "source": [
    "## Inheritance"
   ]
  },
  {
   "cell_type": "markdown",
   "metadata": {
    "slideshow": {
     "slide_type": "subslide"
    }
   },
   "source": [
    "In order to evolve classes in OOP, **inheritance** exists. Classes can be **derived** from **base classes** and **inherit** their properties and methods. This way code can be reused and development time can be saved.\n",
    "\n",
    "* Methods can be overwritten by derived classes.\n",
    "* The `super()` function can be used to call methods of the parent class."
   ]
  },
  {
   "cell_type": "code",
   "execution_count": 73,
   "metadata": {
    "slideshow": {
     "slide_type": "fragment"
    }
   },
   "outputs": [],
   "source": [
    "class Animal(object):\n",
    "    \"\"\"This is the base class.\n",
    "    \"\"\"\n",
    "    def __init__(self, species, age):\n",
    "        self.species = species\n",
    "        self.age = age\n",
    "        \n",
    "    # Instance method.\n",
    "    def description(self):\n",
    "        print(f'{self.species} is {self.age} years old')\n",
    "\n",
    "    @property\n",
    "    def age(self):\n",
    "        return self._age\n",
    "    @age.setter\n",
    "    def age(self, age):\n",
    "        if age >= 0:\n",
    "            self._age = age\n",
    "        else:\n",
    "            raise ValueError(\n",
    "                f'Provided {age} age has to be a positive number.')"
   ]
  },
  {
   "cell_type": "code",
   "execution_count": 105,
   "metadata": {
    "slideshow": {
     "slide_type": "fragment"
    }
   },
   "outputs": [],
   "source": [
    "class Dog(Animal):\n",
    "    \"\"\"The Dog class is derived from the base class `Animal`.\n",
    "    \"\"\"\n",
    "    def __init__(self, age):\n",
    "        # Call the constructor of the parent class.\n",
    "        # This first creates an animal object, which is then extended.\n",
    "        super().__init__('dog', age)\n",
    "        \n",
    "class Cat(Animal):\n",
    "    def __init__(self, age):\n",
    "        super().__init__('cat', age)\n",
    "    \n",
    "    def description(self):\n",
    "        \"\"\"This methods overwrites the parent's description method.\n",
    "        \"\"\"\n",
    "        print(f'I am a {self.species}')"
   ]
  },
  {
   "cell_type": "code",
   "execution_count": 106,
   "metadata": {
    "slideshow": {
     "slide_type": "fragment"
    }
   },
   "outputs": [
    {
     "name": "stdout",
     "output_type": "stream",
     "text": [
      "dog is 5 years old\n"
     ]
    }
   ],
   "source": [
    "dog = Dog(5)\n",
    "dog.description()"
   ]
  },
  {
   "cell_type": "code",
   "execution_count": 107,
   "metadata": {
    "slideshow": {
     "slide_type": "fragment"
    }
   },
   "outputs": [
    {
     "name": "stdout",
     "output_type": "stream",
     "text": [
      "I am a cat\n"
     ]
    }
   ],
   "source": [
    "cat = Cat(6)\n",
    "cat.description()"
   ]
  },
  {
   "cell_type": "code",
   "execution_count": 108,
   "metadata": {
    "slideshow": {
     "slide_type": "fragment"
    }
   },
   "outputs": [
    {
     "name": "stdout",
     "output_type": "stream",
     "text": [
      "<class '__main__.Cat'>\n",
      "<class 'int'>\n",
      "<class 'method'>\n"
     ]
    }
   ],
   "source": [
    "print(type(cat))\n",
    "print(type(cat.age))\n",
    "print(type(cat.description))"
   ]
  },
  {
   "cell_type": "markdown",
   "metadata": {
    "slideshow": {
     "slide_type": "subslide"
    }
   },
   "source": [
    "### isinstance and issubclass"
   ]
  },
  {
   "cell_type": "markdown",
   "metadata": {
    "slideshow": {
     "slide_type": "fragment"
    }
   },
   "source": [
    "To check if an instance is of some class we can use the built-in function `isinstance()` which takes two arguments, an instance object and a class object and returns `True` if the given class is anywhere in the inheritance chain of the instance's class:"
   ]
  },
  {
   "cell_type": "code",
   "execution_count": 97,
   "metadata": {
    "slideshow": {
     "slide_type": "fragment"
    }
   },
   "outputs": [
    {
     "name": "stdout",
     "output_type": "stream",
     "text": [
      "True\n",
      "False\n",
      "True\n"
     ]
    }
   ],
   "source": [
    "print(isinstance(cat, Cat))\n",
    "print(isinstance(cat, Dog))\n",
    "print(isinstance(cat, Animal))"
   ]
  },
  {
   "cell_type": "markdown",
   "metadata": {
    "slideshow": {
     "slide_type": "fragment"
    }
   },
   "source": [
    "We can also check if the given class is a subclass of another class with the built-in function `issublass()`."
   ]
  },
  {
   "cell_type": "code",
   "execution_count": 101,
   "metadata": {
    "slideshow": {
     "slide_type": "fragment"
    }
   },
   "outputs": [
    {
     "name": "stdout",
     "output_type": "stream",
     "text": [
      "True\n",
      "True\n",
      "False\n"
     ]
    }
   ],
   "source": [
    "print(issubclass(Cat, Animal))\n",
    "print(issubclass(Cat, Cat))\n",
    "print(issubclass(Cat, Dog))"
   ]
  },
  {
   "cell_type": "markdown",
   "metadata": {
    "slideshow": {
     "slide_type": "fragment"
    }
   },
   "source": [
    "## Multiple inheritance"
   ]
  },
  {
   "cell_type": "markdown",
   "metadata": {
    "slideshow": {
     "slide_type": "fragment"
    }
   },
   "source": [
    "* A class can be derived from more than one base class.\n",
    "* The parent class constructor should always be called.\n",
    "* Additional argumets `*args` and keyword arguments `**kwargs` need to be passed on to the parent."
   ]
  },
  {
   "cell_type": "code",
   "execution_count": 117,
   "metadata": {
    "slideshow": {
     "slide_type": "fragment"
    }
   },
   "outputs": [],
   "source": [
    "class IsPuppy(object):\n",
    "    def __init__(self, *args, **kwargs):\n",
    "        # We need to call the parent's constructor\n",
    "        # to call the constructor of ALL base classes of a derived class. \n",
    "        super().__init__(*args, **kwargs)\n",
    "\n",
    "    def description(self):\n",
    "        print(f'I am a puppy.')\n",
    "        \n",
    "class Puppy(Dog, IsPuppy):\n",
    "    def __init__(self, age):\n",
    "        super().__init__(age)"
   ]
  },
  {
   "cell_type": "code",
   "execution_count": 118,
   "metadata": {
    "slideshow": {
     "slide_type": "fragment"
    }
   },
   "outputs": [
    {
     "name": "stdout",
     "output_type": "stream",
     "text": [
      "dog is 1 years old\n"
     ]
    }
   ],
   "source": [
    "puppy_dog = Puppy(1)\n",
    "puppy_dog.description()"
   ]
  },
  {
   "cell_type": "markdown",
   "metadata": {
    "slideshow": {
     "slide_type": "fragment"
    }
   },
   "source": [
    "Python determines which description to call using *Method Resolution Order (MRO)*. We can check the order using the `mro()` method:"
   ]
  },
  {
   "cell_type": "code",
   "execution_count": 119,
   "metadata": {
    "slideshow": {
     "slide_type": "fragment"
    }
   },
   "outputs": [
    {
     "name": "stdout",
     "output_type": "stream",
     "text": [
      "[<class '__main__.Puppy'>, <class '__main__.Dog'>, <class '__main__.Animal'>, <class '__main__.IsPuppy'>, <class 'object'>]\n"
     ]
    }
   ],
   "source": [
    "print(Puppy.mro())"
   ]
  },
  {
   "cell_type": "markdown",
   "metadata": {
    "slideshow": {
     "slide_type": "subslide"
    }
   },
   "source": [
    "Changing the MRO to call `IsPuppy`'s description first."
   ]
  },
  {
   "cell_type": "code",
   "execution_count": 120,
   "metadata": {
    "slideshow": {
     "slide_type": "fragment"
    }
   },
   "outputs": [],
   "source": [
    "class Puppy(IsPuppy, Dog):\n",
    "    def __init__(self, age):\n",
    "        super().__init__(age)"
   ]
  },
  {
   "cell_type": "code",
   "execution_count": 121,
   "metadata": {
    "slideshow": {
     "slide_type": "fragment"
    }
   },
   "outputs": [
    {
     "name": "stdout",
     "output_type": "stream",
     "text": [
      "[<class '__main__.Puppy'>, <class '__main__.IsPuppy'>, <class '__main__.Dog'>, <class '__main__.Animal'>, <class 'object'>]\n",
      "I am a puppy.\n"
     ]
    }
   ],
   "source": [
    "print(Puppy.mro())\n",
    "\n",
    "puppy_dog = Puppy(1)\n",
    "puppy_dog.description()"
   ]
  },
  {
   "cell_type": "markdown",
   "metadata": {
    "slideshow": {
     "slide_type": "slide"
    }
   },
   "source": [
    "## Abstract Base Classes"
   ]
  },
  {
   "cell_type": "markdown",
   "metadata": {
    "slideshow": {
     "slide_type": "fragment"
    }
   },
   "source": [
    "* Abstract base classes can be used to define **interfaces**.\n",
    "* Methods can be declared *abstract* and must be implemented by derived classes before a class can be instantiated.\n",
    "* The `abc` package provides abstract base class functionality.\n",
    "    * See https://docs.python.org/3/library/abc.html\n",
    "* Abstract base classes are defined by setting the class's `metaclass` keyword with `metaclass=abs.ABCMeta`.\n",
    "* Abstract methods (instance methods, class methods, properties) are defined with `@abstractmethod` decorator."
   ]
  },
  {
   "cell_type": "code",
   "execution_count": 130,
   "metadata": {
    "slideshow": {
     "slide_type": "subslide"
    }
   },
   "outputs": [],
   "source": [
    "import abc\n",
    "\n",
    "class AnimalBase(object, metaclass=abc.ABCMeta):\n",
    "    def __init__(self, species, age):\n",
    "        self.species = species\n",
    "        self.age = age\n",
    "\n",
    "    # Abstract instance method.\n",
    "    @abc.abstractmethod\n",
    "    def description(self):\n",
    "        # We use `pass` as a placeholder for the\n",
    "        # implementation by the derived class.\n",
    "        pass\n",
    "\n",
    "    # Define age property with abstract setter method.\n",
    "    @property\n",
    "    def age(self):\n",
    "        return self._age\n",
    "    @age.setter\n",
    "    @abc.abstractmethod\n",
    "    def age(self, age):\n",
    "        pass"
   ]
  },
  {
   "cell_type": "markdown",
   "metadata": {
    "slideshow": {
     "slide_type": "fragment"
    }
   },
   "source": [
    "Class derived from `abc.ABCMeta` cannot be instantiated unless all of its abstract methods and properties are implemented."
   ]
  },
  {
   "cell_type": "code",
   "execution_count": 131,
   "metadata": {
    "slideshow": {
     "slide_type": "fragment"
    }
   },
   "outputs": [],
   "source": [
    "class Dog(AnimalBase):\n",
    "    def __init__(self, age):\n",
    "        super().__init__('dog', age)"
   ]
  },
  {
   "cell_type": "code",
   "execution_count": 132,
   "metadata": {
    "slideshow": {
     "slide_type": "fragment"
    }
   },
   "outputs": [
    {
     "ename": "TypeError",
     "evalue": "Can't instantiate abstract class Dog with abstract methods age, description",
     "output_type": "error",
     "traceback": [
      "\u001b[0;31m---------------------------------------------------------------------------\u001b[0m",
      "\u001b[0;31mTypeError\u001b[0m                                 Traceback (most recent call last)",
      "\u001b[0;32m<ipython-input-132-8c735f9acb69>\u001b[0m in \u001b[0;36m<module>\u001b[0;34m\u001b[0m\n\u001b[0;32m----> 1\u001b[0;31m \u001b[0mdog\u001b[0m \u001b[0;34m=\u001b[0m \u001b[0mDog\u001b[0m\u001b[0;34m(\u001b[0m\u001b[0;36m5\u001b[0m\u001b[0;34m)\u001b[0m\u001b[0;34m\u001b[0m\u001b[0;34m\u001b[0m\u001b[0m\n\u001b[0m\u001b[1;32m      2\u001b[0m \u001b[0mdog\u001b[0m\u001b[0;34m.\u001b[0m\u001b[0mdescription\u001b[0m\u001b[0;34m(\u001b[0m\u001b[0;34m)\u001b[0m\u001b[0;34m\u001b[0m\u001b[0;34m\u001b[0m\u001b[0m\n",
      "\u001b[0;31mTypeError\u001b[0m: Can't instantiate abstract class Dog with abstract methods age, description"
     ]
    }
   ],
   "source": [
    "dog = Dog(5)\n",
    "dog.description()"
   ]
  },
  {
   "cell_type": "markdown",
   "metadata": {
    "slideshow": {
     "slide_type": "fragment"
    }
   },
   "source": [
    "Lets fix it by implementing the `description` and `age` methods."
   ]
  },
  {
   "cell_type": "code",
   "execution_count": 142,
   "metadata": {
    "slideshow": {
     "slide_type": "fragment"
    }
   },
   "outputs": [],
   "source": [
    "class Dog(AnimalBase):\n",
    "    def __init__(self, age):\n",
    "      super().__init__('dog', age)\n",
    "\n",
    "    # Implement the description instance method.\n",
    "    def description(self):\n",
    "        print('I am the implementation of the description instance method.')\n",
    "        print(f'The {self.species} is of age {self.age}.')\n",
    "    \n",
    "    # Implement the setter method of the age property.\n",
    "    @AnimalBase.age.setter\n",
    "    def age(self, age):\n",
    "        if age < 0:\n",
    "            print(f'Provided {age} age has to be positive number.')\n",
    "            self._age = None\n",
    "        else:\n",
    "            self._age = age"
   ]
  },
  {
   "cell_type": "code",
   "execution_count": 143,
   "metadata": {
    "slideshow": {
     "slide_type": "fragment"
    }
   },
   "outputs": [
    {
     "name": "stdout",
     "output_type": "stream",
     "text": [
      "Provided -5 age has to be positive number.\n",
      "I am the implementation of the description instance method.\n",
      "The dog is of age None.\n"
     ]
    }
   ],
   "source": [
    "dog = Dog(-5)\n",
    "dog.description()"
   ]
  },
  {
   "cell_type": "code",
   "execution_count": 144,
   "metadata": {
    "slideshow": {
     "slide_type": "fragment"
    }
   },
   "outputs": [
    {
     "name": "stdout",
     "output_type": "stream",
     "text": [
      "I am the implementation of the description instance method.\n",
      "The dog is of age 2.\n"
     ]
    }
   ],
   "source": [
    "dog = Dog(2)\n",
    "dog.description()"
   ]
  },
  {
   "cell_type": "markdown",
   "metadata": {
    "slideshow": {
     "slide_type": "slide"
    }
   },
   "source": [
    "## Iterator protocol"
   ]
  },
  {
   "cell_type": "markdown",
   "metadata": {
    "slideshow": {
     "slide_type": "fragment"
    }
   },
   "source": [
    "If a class implements a container, the iterator protocol can be used to iterate over the items of the container. See <https://docs.python.org/3/library/stdtypes.html#iterator-types> for details.\n",
    "\n",
    "The interator protocol consists of two special instance methods: `__iter__` and `__next__`.\n",
    "\n",
    "The `__iter__` instance method must return the iterator object, usually the class instance itself.\n",
    "\n",
    "The `iter()` built-in function can be used to get an iterator of an object.\n",
    "\n",
    "The `__next__` instance method must return the next element of the container. If it raises the `StopIteration` exception, the iteration stops."
   ]
  },
  {
   "cell_type": "code",
   "execution_count": 164,
   "metadata": {
    "slideshow": {
     "slide_type": "subslide"
    }
   },
   "outputs": [],
   "source": [
    "# Example of a container with the iterator protocol supported.\n",
    "class MyBox(object):\n",
    "    def __init__(self, items):\n",
    "        self.items = items\n",
    "    def __iter__(self):\n",
    "        return MyBoxIterator(self)\n",
    "\n",
    "# We define an iterator class that knows how to iterate through\n",
    "# the items of the box.\n",
    "class MyBoxIterator(object):\n",
    "    def __init__(self, box):\n",
    "        self.box = box\n",
    "        # The index attribute points to the next item in the box.\n",
    "        self.index = 0\n",
    "    def __iter__(self):\n",
    "        return self\n",
    "    def __next__(self):\n",
    "        # Check if we reached the end of the item sequence.\n",
    "        if self.index == len(self.box.items):\n",
    "            raise StopIteration()\n",
    "        self.index += 1\n",
    "        return self.box.items[self.index-1]"
   ]
  },
  {
   "cell_type": "code",
   "execution_count": 165,
   "metadata": {
    "slideshow": {
     "slide_type": "fragment"
    }
   },
   "outputs": [
    {
     "name": "stdout",
     "output_type": "stream",
     "text": [
      "8\n",
      "a\n",
      "42\n",
      "hello\n"
     ]
    }
   ],
   "source": [
    "box = MyBox([8, 'a', 42, 'hello'])\n",
    "for item in box:\n",
    "    print(item)"
   ]
  },
  {
   "cell_type": "markdown",
   "metadata": {
    "slideshow": {
     "slide_type": "subslide"
    }
   },
   "source": [
    "Our box class uses a sequence for storing the items. Sequences have iterators already implemented in Python, hence we can simplify the previous example by utilizing the iterator of the item sequence using the `iter()` built-in function."
   ]
  },
  {
   "cell_type": "code",
   "execution_count": 166,
   "metadata": {
    "slideshow": {
     "slide_type": "fragment"
    }
   },
   "outputs": [],
   "source": [
    "class MySimpleBox(object):\n",
    "    def __init__(self, items):\n",
    "        self.items = items\n",
    "    def __iter__(self):\n",
    "        return iter(self.items)"
   ]
  },
  {
   "cell_type": "code",
   "execution_count": 167,
   "metadata": {},
   "outputs": [
    {
     "name": "stdout",
     "output_type": "stream",
     "text": [
      "8\n",
      "a\n",
      "42\n",
      "hello\n"
     ]
    }
   ],
   "source": [
    "box = MySimpleBox([8, 'a', 42, 'hello'])\n",
    "for item in box:\n",
    "    print(item)"
   ]
  },
  {
   "cell_type": "markdown",
   "metadata": {
    "slideshow": {
     "slide_type": "slide"
    }
   },
   "source": [
    "# Advanced packages"
   ]
  },
  {
   "cell_type": "markdown",
   "metadata": {
    "slideshow": {
     "slide_type": "slide"
    }
   },
   "source": [
    "## NumPy"
   ]
  },
  {
   "cell_type": "markdown",
   "metadata": {
    "slideshow": {
     "slide_type": "subslide"
    }
   },
   "source": [
    "From the [NumPy webpage](http://www.numpy.org/):\n",
    "\n",
    "> NumPy is the fundamental package for scientific computing with Python.\n",
    "> It contains among other things:\n",
    ">\n",
    "> * a powerful N-dimensional array object\n",
    "> * sophisticated (broadcasting) functions\n",
    "> * tools for integrating C/C++ and Fortran code\n",
    "> * useful linear algebra, Fourier transform, and random number capabilities\n",
    ">\n",
    "> Besides its obvious scientific uses, NumPy can also be used as an efficient\n",
    "> multi-dimensional container of generic data. Arbitrary data-types can be defined.\n",
    "> This allows NumPy to seamlessly and speedily integrate with a wide variety of databases.\n",
    "\n",
    "NumPy tutorial (pay special attention to the section about broadcasting rules):  \n",
    "<https://docs.scipy.org/doc/numpy/user/quickstart.html>"
   ]
  },
  {
   "cell_type": "markdown",
   "metadata": {
    "slideshow": {
     "slide_type": "slide"
    }
   },
   "source": [
    "## Matplotlib"
   ]
  },
  {
   "cell_type": "markdown",
   "metadata": {
    "slideshow": {
     "slide_type": "subslide"
    }
   },
   "source": [
    "From the [Matplotlib webpage](https://matplotlib.org/):\n",
    "\n",
    "> Matplotlib is a Python 2D plotting library which produces publication quality figures\n",
    "> in a variety of hardcopy formats and interactive environments across platforms."
   ]
  },
  {
   "cell_type": "code",
   "execution_count": 46,
   "metadata": {
    "slideshow": {
     "slide_type": "fragment"
    }
   },
   "outputs": [],
   "source": [
    "# Call this magic function in the first line of your Jupyter notebook:\n",
    "# %matplotlib notebook"
   ]
  },
  {
   "cell_type": "code",
   "execution_count": 47,
   "metadata": {
    "slideshow": {
     "slide_type": "subslide"
    }
   },
   "outputs": [
    {
     "data": {
      "application/javascript": [
       "/* Put everything inside the global mpl namespace */\n",
       "/* global mpl */\n",
       "window.mpl = {};\n",
       "\n",
       "mpl.get_websocket_type = function () {\n",
       "    if (typeof WebSocket !== 'undefined') {\n",
       "        return WebSocket;\n",
       "    } else if (typeof MozWebSocket !== 'undefined') {\n",
       "        return MozWebSocket;\n",
       "    } else {\n",
       "        alert(\n",
       "            'Your browser does not have WebSocket support. ' +\n",
       "                'Please try Chrome, Safari or Firefox ≥ 6. ' +\n",
       "                'Firefox 4 and 5 are also supported but you ' +\n",
       "                'have to enable WebSockets in about:config.'\n",
       "        );\n",
       "    }\n",
       "};\n",
       "\n",
       "mpl.figure = function (figure_id, websocket, ondownload, parent_element) {\n",
       "    this.id = figure_id;\n",
       "\n",
       "    this.ws = websocket;\n",
       "\n",
       "    this.supports_binary = this.ws.binaryType !== undefined;\n",
       "\n",
       "    if (!this.supports_binary) {\n",
       "        var warnings = document.getElementById('mpl-warnings');\n",
       "        if (warnings) {\n",
       "            warnings.style.display = 'block';\n",
       "            warnings.textContent =\n",
       "                'This browser does not support binary websocket messages. ' +\n",
       "                'Performance may be slow.';\n",
       "        }\n",
       "    }\n",
       "\n",
       "    this.imageObj = new Image();\n",
       "\n",
       "    this.context = undefined;\n",
       "    this.message = undefined;\n",
       "    this.canvas = undefined;\n",
       "    this.rubberband_canvas = undefined;\n",
       "    this.rubberband_context = undefined;\n",
       "    this.format_dropdown = undefined;\n",
       "\n",
       "    this.image_mode = 'full';\n",
       "\n",
       "    this.root = document.createElement('div');\n",
       "    this.root.setAttribute('style', 'display: inline-block');\n",
       "    this._root_extra_style(this.root);\n",
       "\n",
       "    parent_element.appendChild(this.root);\n",
       "\n",
       "    this._init_header(this);\n",
       "    this._init_canvas(this);\n",
       "    this._init_toolbar(this);\n",
       "\n",
       "    var fig = this;\n",
       "\n",
       "    this.waiting = false;\n",
       "\n",
       "    this.ws.onopen = function () {\n",
       "        fig.send_message('supports_binary', { value: fig.supports_binary });\n",
       "        fig.send_message('send_image_mode', {});\n",
       "        if (fig.ratio !== 1) {\n",
       "            fig.send_message('set_device_pixel_ratio', {\n",
       "                device_pixel_ratio: fig.ratio,\n",
       "            });\n",
       "        }\n",
       "        fig.send_message('refresh', {});\n",
       "    };\n",
       "\n",
       "    this.imageObj.onload = function () {\n",
       "        if (fig.image_mode === 'full') {\n",
       "            // Full images could contain transparency (where diff images\n",
       "            // almost always do), so we need to clear the canvas so that\n",
       "            // there is no ghosting.\n",
       "            fig.context.clearRect(0, 0, fig.canvas.width, fig.canvas.height);\n",
       "        }\n",
       "        fig.context.drawImage(fig.imageObj, 0, 0);\n",
       "    };\n",
       "\n",
       "    this.imageObj.onunload = function () {\n",
       "        fig.ws.close();\n",
       "    };\n",
       "\n",
       "    this.ws.onmessage = this._make_on_message_function(this);\n",
       "\n",
       "    this.ondownload = ondownload;\n",
       "};\n",
       "\n",
       "mpl.figure.prototype._init_header = function () {\n",
       "    var titlebar = document.createElement('div');\n",
       "    titlebar.classList =\n",
       "        'ui-dialog-titlebar ui-widget-header ui-corner-all ui-helper-clearfix';\n",
       "    var titletext = document.createElement('div');\n",
       "    titletext.classList = 'ui-dialog-title';\n",
       "    titletext.setAttribute(\n",
       "        'style',\n",
       "        'width: 100%; text-align: center; padding: 3px;'\n",
       "    );\n",
       "    titlebar.appendChild(titletext);\n",
       "    this.root.appendChild(titlebar);\n",
       "    this.header = titletext;\n",
       "};\n",
       "\n",
       "mpl.figure.prototype._canvas_extra_style = function (_canvas_div) {};\n",
       "\n",
       "mpl.figure.prototype._root_extra_style = function (_canvas_div) {};\n",
       "\n",
       "mpl.figure.prototype._init_canvas = function () {\n",
       "    var fig = this;\n",
       "\n",
       "    var canvas_div = (this.canvas_div = document.createElement('div'));\n",
       "    canvas_div.setAttribute(\n",
       "        'style',\n",
       "        'border: 1px solid #ddd;' +\n",
       "            'box-sizing: content-box;' +\n",
       "            'clear: both;' +\n",
       "            'min-height: 1px;' +\n",
       "            'min-width: 1px;' +\n",
       "            'outline: 0;' +\n",
       "            'overflow: hidden;' +\n",
       "            'position: relative;' +\n",
       "            'resize: both;'\n",
       "    );\n",
       "\n",
       "    function on_keyboard_event_closure(name) {\n",
       "        return function (event) {\n",
       "            return fig.key_event(event, name);\n",
       "        };\n",
       "    }\n",
       "\n",
       "    canvas_div.addEventListener(\n",
       "        'keydown',\n",
       "        on_keyboard_event_closure('key_press')\n",
       "    );\n",
       "    canvas_div.addEventListener(\n",
       "        'keyup',\n",
       "        on_keyboard_event_closure('key_release')\n",
       "    );\n",
       "\n",
       "    this._canvas_extra_style(canvas_div);\n",
       "    this.root.appendChild(canvas_div);\n",
       "\n",
       "    var canvas = (this.canvas = document.createElement('canvas'));\n",
       "    canvas.classList.add('mpl-canvas');\n",
       "    canvas.setAttribute('style', 'box-sizing: content-box;');\n",
       "\n",
       "    this.context = canvas.getContext('2d');\n",
       "\n",
       "    var backingStore =\n",
       "        this.context.backingStorePixelRatio ||\n",
       "        this.context.webkitBackingStorePixelRatio ||\n",
       "        this.context.mozBackingStorePixelRatio ||\n",
       "        this.context.msBackingStorePixelRatio ||\n",
       "        this.context.oBackingStorePixelRatio ||\n",
       "        this.context.backingStorePixelRatio ||\n",
       "        1;\n",
       "\n",
       "    this.ratio = (window.devicePixelRatio || 1) / backingStore;\n",
       "\n",
       "    var rubberband_canvas = (this.rubberband_canvas = document.createElement(\n",
       "        'canvas'\n",
       "    ));\n",
       "    rubberband_canvas.setAttribute(\n",
       "        'style',\n",
       "        'box-sizing: content-box; position: absolute; left: 0; top: 0; z-index: 1;'\n",
       "    );\n",
       "\n",
       "    // Apply a ponyfill if ResizeObserver is not implemented by browser.\n",
       "    if (this.ResizeObserver === undefined) {\n",
       "        if (window.ResizeObserver !== undefined) {\n",
       "            this.ResizeObserver = window.ResizeObserver;\n",
       "        } else {\n",
       "            var obs = _JSXTOOLS_RESIZE_OBSERVER({});\n",
       "            this.ResizeObserver = obs.ResizeObserver;\n",
       "        }\n",
       "    }\n",
       "\n",
       "    this.resizeObserverInstance = new this.ResizeObserver(function (entries) {\n",
       "        var nentries = entries.length;\n",
       "        for (var i = 0; i < nentries; i++) {\n",
       "            var entry = entries[i];\n",
       "            var width, height;\n",
       "            if (entry.contentBoxSize) {\n",
       "                if (entry.contentBoxSize instanceof Array) {\n",
       "                    // Chrome 84 implements new version of spec.\n",
       "                    width = entry.contentBoxSize[0].inlineSize;\n",
       "                    height = entry.contentBoxSize[0].blockSize;\n",
       "                } else {\n",
       "                    // Firefox implements old version of spec.\n",
       "                    width = entry.contentBoxSize.inlineSize;\n",
       "                    height = entry.contentBoxSize.blockSize;\n",
       "                }\n",
       "            } else {\n",
       "                // Chrome <84 implements even older version of spec.\n",
       "                width = entry.contentRect.width;\n",
       "                height = entry.contentRect.height;\n",
       "            }\n",
       "\n",
       "            // Keep the size of the canvas and rubber band canvas in sync with\n",
       "            // the canvas container.\n",
       "            if (entry.devicePixelContentBoxSize) {\n",
       "                // Chrome 84 implements new version of spec.\n",
       "                canvas.setAttribute(\n",
       "                    'width',\n",
       "                    entry.devicePixelContentBoxSize[0].inlineSize\n",
       "                );\n",
       "                canvas.setAttribute(\n",
       "                    'height',\n",
       "                    entry.devicePixelContentBoxSize[0].blockSize\n",
       "                );\n",
       "            } else {\n",
       "                canvas.setAttribute('width', width * fig.ratio);\n",
       "                canvas.setAttribute('height', height * fig.ratio);\n",
       "            }\n",
       "            canvas.setAttribute(\n",
       "                'style',\n",
       "                'width: ' + width + 'px; height: ' + height + 'px;'\n",
       "            );\n",
       "\n",
       "            rubberband_canvas.setAttribute('width', width);\n",
       "            rubberband_canvas.setAttribute('height', height);\n",
       "\n",
       "            // And update the size in Python. We ignore the initial 0/0 size\n",
       "            // that occurs as the element is placed into the DOM, which should\n",
       "            // otherwise not happen due to the minimum size styling.\n",
       "            if (fig.ws.readyState == 1 && width != 0 && height != 0) {\n",
       "                fig.request_resize(width, height);\n",
       "            }\n",
       "        }\n",
       "    });\n",
       "    this.resizeObserverInstance.observe(canvas_div);\n",
       "\n",
       "    function on_mouse_event_closure(name) {\n",
       "        return function (event) {\n",
       "            return fig.mouse_event(event, name);\n",
       "        };\n",
       "    }\n",
       "\n",
       "    rubberband_canvas.addEventListener(\n",
       "        'mousedown',\n",
       "        on_mouse_event_closure('button_press')\n",
       "    );\n",
       "    rubberband_canvas.addEventListener(\n",
       "        'mouseup',\n",
       "        on_mouse_event_closure('button_release')\n",
       "    );\n",
       "    rubberband_canvas.addEventListener(\n",
       "        'dblclick',\n",
       "        on_mouse_event_closure('dblclick')\n",
       "    );\n",
       "    // Throttle sequential mouse events to 1 every 20ms.\n",
       "    rubberband_canvas.addEventListener(\n",
       "        'mousemove',\n",
       "        on_mouse_event_closure('motion_notify')\n",
       "    );\n",
       "\n",
       "    rubberband_canvas.addEventListener(\n",
       "        'mouseenter',\n",
       "        on_mouse_event_closure('figure_enter')\n",
       "    );\n",
       "    rubberband_canvas.addEventListener(\n",
       "        'mouseleave',\n",
       "        on_mouse_event_closure('figure_leave')\n",
       "    );\n",
       "\n",
       "    canvas_div.addEventListener('wheel', function (event) {\n",
       "        if (event.deltaY < 0) {\n",
       "            event.step = 1;\n",
       "        } else {\n",
       "            event.step = -1;\n",
       "        }\n",
       "        on_mouse_event_closure('scroll')(event);\n",
       "    });\n",
       "\n",
       "    canvas_div.appendChild(canvas);\n",
       "    canvas_div.appendChild(rubberband_canvas);\n",
       "\n",
       "    this.rubberband_context = rubberband_canvas.getContext('2d');\n",
       "    this.rubberband_context.strokeStyle = '#000000';\n",
       "\n",
       "    this._resize_canvas = function (width, height, forward) {\n",
       "        if (forward) {\n",
       "            canvas_div.style.width = width + 'px';\n",
       "            canvas_div.style.height = height + 'px';\n",
       "        }\n",
       "    };\n",
       "\n",
       "    // Disable right mouse context menu.\n",
       "    this.rubberband_canvas.addEventListener('contextmenu', function (_e) {\n",
       "        event.preventDefault();\n",
       "        return false;\n",
       "    });\n",
       "\n",
       "    function set_focus() {\n",
       "        canvas.focus();\n",
       "        canvas_div.focus();\n",
       "    }\n",
       "\n",
       "    window.setTimeout(set_focus, 100);\n",
       "};\n",
       "\n",
       "mpl.figure.prototype._init_toolbar = function () {\n",
       "    var fig = this;\n",
       "\n",
       "    var toolbar = document.createElement('div');\n",
       "    toolbar.classList = 'mpl-toolbar';\n",
       "    this.root.appendChild(toolbar);\n",
       "\n",
       "    function on_click_closure(name) {\n",
       "        return function (_event) {\n",
       "            return fig.toolbar_button_onclick(name);\n",
       "        };\n",
       "    }\n",
       "\n",
       "    function on_mouseover_closure(tooltip) {\n",
       "        return function (event) {\n",
       "            if (!event.currentTarget.disabled) {\n",
       "                return fig.toolbar_button_onmouseover(tooltip);\n",
       "            }\n",
       "        };\n",
       "    }\n",
       "\n",
       "    fig.buttons = {};\n",
       "    var buttonGroup = document.createElement('div');\n",
       "    buttonGroup.classList = 'mpl-button-group';\n",
       "    for (var toolbar_ind in mpl.toolbar_items) {\n",
       "        var name = mpl.toolbar_items[toolbar_ind][0];\n",
       "        var tooltip = mpl.toolbar_items[toolbar_ind][1];\n",
       "        var image = mpl.toolbar_items[toolbar_ind][2];\n",
       "        var method_name = mpl.toolbar_items[toolbar_ind][3];\n",
       "\n",
       "        if (!name) {\n",
       "            /* Instead of a spacer, we start a new button group. */\n",
       "            if (buttonGroup.hasChildNodes()) {\n",
       "                toolbar.appendChild(buttonGroup);\n",
       "            }\n",
       "            buttonGroup = document.createElement('div');\n",
       "            buttonGroup.classList = 'mpl-button-group';\n",
       "            continue;\n",
       "        }\n",
       "\n",
       "        var button = (fig.buttons[name] = document.createElement('button'));\n",
       "        button.classList = 'mpl-widget';\n",
       "        button.setAttribute('role', 'button');\n",
       "        button.setAttribute('aria-disabled', 'false');\n",
       "        button.addEventListener('click', on_click_closure(method_name));\n",
       "        button.addEventListener('mouseover', on_mouseover_closure(tooltip));\n",
       "\n",
       "        var icon_img = document.createElement('img');\n",
       "        icon_img.src = '_images/' + image + '.png';\n",
       "        icon_img.srcset = '_images/' + image + '_large.png 2x';\n",
       "        icon_img.alt = tooltip;\n",
       "        button.appendChild(icon_img);\n",
       "\n",
       "        buttonGroup.appendChild(button);\n",
       "    }\n",
       "\n",
       "    if (buttonGroup.hasChildNodes()) {\n",
       "        toolbar.appendChild(buttonGroup);\n",
       "    }\n",
       "\n",
       "    var fmt_picker = document.createElement('select');\n",
       "    fmt_picker.classList = 'mpl-widget';\n",
       "    toolbar.appendChild(fmt_picker);\n",
       "    this.format_dropdown = fmt_picker;\n",
       "\n",
       "    for (var ind in mpl.extensions) {\n",
       "        var fmt = mpl.extensions[ind];\n",
       "        var option = document.createElement('option');\n",
       "        option.selected = fmt === mpl.default_extension;\n",
       "        option.innerHTML = fmt;\n",
       "        fmt_picker.appendChild(option);\n",
       "    }\n",
       "\n",
       "    var status_bar = document.createElement('span');\n",
       "    status_bar.classList = 'mpl-message';\n",
       "    toolbar.appendChild(status_bar);\n",
       "    this.message = status_bar;\n",
       "};\n",
       "\n",
       "mpl.figure.prototype.request_resize = function (x_pixels, y_pixels) {\n",
       "    // Request matplotlib to resize the figure. Matplotlib will then trigger a resize in the client,\n",
       "    // which will in turn request a refresh of the image.\n",
       "    this.send_message('resize', { width: x_pixels, height: y_pixels });\n",
       "};\n",
       "\n",
       "mpl.figure.prototype.send_message = function (type, properties) {\n",
       "    properties['type'] = type;\n",
       "    properties['figure_id'] = this.id;\n",
       "    this.ws.send(JSON.stringify(properties));\n",
       "};\n",
       "\n",
       "mpl.figure.prototype.send_draw_message = function () {\n",
       "    if (!this.waiting) {\n",
       "        this.waiting = true;\n",
       "        this.ws.send(JSON.stringify({ type: 'draw', figure_id: this.id }));\n",
       "    }\n",
       "};\n",
       "\n",
       "mpl.figure.prototype.handle_save = function (fig, _msg) {\n",
       "    var format_dropdown = fig.format_dropdown;\n",
       "    var format = format_dropdown.options[format_dropdown.selectedIndex].value;\n",
       "    fig.ondownload(fig, format);\n",
       "};\n",
       "\n",
       "mpl.figure.prototype.handle_resize = function (fig, msg) {\n",
       "    var size = msg['size'];\n",
       "    if (size[0] !== fig.canvas.width || size[1] !== fig.canvas.height) {\n",
       "        fig._resize_canvas(size[0], size[1], msg['forward']);\n",
       "        fig.send_message('refresh', {});\n",
       "    }\n",
       "};\n",
       "\n",
       "mpl.figure.prototype.handle_rubberband = function (fig, msg) {\n",
       "    var x0 = msg['x0'] / fig.ratio;\n",
       "    var y0 = (fig.canvas.height - msg['y0']) / fig.ratio;\n",
       "    var x1 = msg['x1'] / fig.ratio;\n",
       "    var y1 = (fig.canvas.height - msg['y1']) / fig.ratio;\n",
       "    x0 = Math.floor(x0) + 0.5;\n",
       "    y0 = Math.floor(y0) + 0.5;\n",
       "    x1 = Math.floor(x1) + 0.5;\n",
       "    y1 = Math.floor(y1) + 0.5;\n",
       "    var min_x = Math.min(x0, x1);\n",
       "    var min_y = Math.min(y0, y1);\n",
       "    var width = Math.abs(x1 - x0);\n",
       "    var height = Math.abs(y1 - y0);\n",
       "\n",
       "    fig.rubberband_context.clearRect(\n",
       "        0,\n",
       "        0,\n",
       "        fig.canvas.width / fig.ratio,\n",
       "        fig.canvas.height / fig.ratio\n",
       "    );\n",
       "\n",
       "    fig.rubberband_context.strokeRect(min_x, min_y, width, height);\n",
       "};\n",
       "\n",
       "mpl.figure.prototype.handle_figure_label = function (fig, msg) {\n",
       "    // Updates the figure title.\n",
       "    fig.header.textContent = msg['label'];\n",
       "};\n",
       "\n",
       "mpl.figure.prototype.handle_cursor = function (fig, msg) {\n",
       "    fig.rubberband_canvas.style.cursor = msg['cursor'];\n",
       "};\n",
       "\n",
       "mpl.figure.prototype.handle_message = function (fig, msg) {\n",
       "    fig.message.textContent = msg['message'];\n",
       "};\n",
       "\n",
       "mpl.figure.prototype.handle_draw = function (fig, _msg) {\n",
       "    // Request the server to send over a new figure.\n",
       "    fig.send_draw_message();\n",
       "};\n",
       "\n",
       "mpl.figure.prototype.handle_image_mode = function (fig, msg) {\n",
       "    fig.image_mode = msg['mode'];\n",
       "};\n",
       "\n",
       "mpl.figure.prototype.handle_history_buttons = function (fig, msg) {\n",
       "    for (var key in msg) {\n",
       "        if (!(key in fig.buttons)) {\n",
       "            continue;\n",
       "        }\n",
       "        fig.buttons[key].disabled = !msg[key];\n",
       "        fig.buttons[key].setAttribute('aria-disabled', !msg[key]);\n",
       "    }\n",
       "};\n",
       "\n",
       "mpl.figure.prototype.handle_navigate_mode = function (fig, msg) {\n",
       "    if (msg['mode'] === 'PAN') {\n",
       "        fig.buttons['Pan'].classList.add('active');\n",
       "        fig.buttons['Zoom'].classList.remove('active');\n",
       "    } else if (msg['mode'] === 'ZOOM') {\n",
       "        fig.buttons['Pan'].classList.remove('active');\n",
       "        fig.buttons['Zoom'].classList.add('active');\n",
       "    } else {\n",
       "        fig.buttons['Pan'].classList.remove('active');\n",
       "        fig.buttons['Zoom'].classList.remove('active');\n",
       "    }\n",
       "};\n",
       "\n",
       "mpl.figure.prototype.updated_canvas_event = function () {\n",
       "    // Called whenever the canvas gets updated.\n",
       "    this.send_message('ack', {});\n",
       "};\n",
       "\n",
       "// A function to construct a web socket function for onmessage handling.\n",
       "// Called in the figure constructor.\n",
       "mpl.figure.prototype._make_on_message_function = function (fig) {\n",
       "    return function socket_on_message(evt) {\n",
       "        if (evt.data instanceof Blob) {\n",
       "            var img = evt.data;\n",
       "            if (img.type !== 'image/png') {\n",
       "                /* FIXME: We get \"Resource interpreted as Image but\n",
       "                 * transferred with MIME type text/plain:\" errors on\n",
       "                 * Chrome.  But how to set the MIME type?  It doesn't seem\n",
       "                 * to be part of the websocket stream */\n",
       "                img.type = 'image/png';\n",
       "            }\n",
       "\n",
       "            /* Free the memory for the previous frames */\n",
       "            if (fig.imageObj.src) {\n",
       "                (window.URL || window.webkitURL).revokeObjectURL(\n",
       "                    fig.imageObj.src\n",
       "                );\n",
       "            }\n",
       "\n",
       "            fig.imageObj.src = (window.URL || window.webkitURL).createObjectURL(\n",
       "                img\n",
       "            );\n",
       "            fig.updated_canvas_event();\n",
       "            fig.waiting = false;\n",
       "            return;\n",
       "        } else if (\n",
       "            typeof evt.data === 'string' &&\n",
       "            evt.data.slice(0, 21) === 'data:image/png;base64'\n",
       "        ) {\n",
       "            fig.imageObj.src = evt.data;\n",
       "            fig.updated_canvas_event();\n",
       "            fig.waiting = false;\n",
       "            return;\n",
       "        }\n",
       "\n",
       "        var msg = JSON.parse(evt.data);\n",
       "        var msg_type = msg['type'];\n",
       "\n",
       "        // Call the  \"handle_{type}\" callback, which takes\n",
       "        // the figure and JSON message as its only arguments.\n",
       "        try {\n",
       "            var callback = fig['handle_' + msg_type];\n",
       "        } catch (e) {\n",
       "            console.log(\n",
       "                \"No handler for the '\" + msg_type + \"' message type: \",\n",
       "                msg\n",
       "            );\n",
       "            return;\n",
       "        }\n",
       "\n",
       "        if (callback) {\n",
       "            try {\n",
       "                // console.log(\"Handling '\" + msg_type + \"' message: \", msg);\n",
       "                callback(fig, msg);\n",
       "            } catch (e) {\n",
       "                console.log(\n",
       "                    \"Exception inside the 'handler_\" + msg_type + \"' callback:\",\n",
       "                    e,\n",
       "                    e.stack,\n",
       "                    msg\n",
       "                );\n",
       "            }\n",
       "        }\n",
       "    };\n",
       "};\n",
       "\n",
       "// from https://stackoverflow.com/questions/1114465/getting-mouse-location-in-canvas\n",
       "mpl.findpos = function (e) {\n",
       "    //this section is from http://www.quirksmode.org/js/events_properties.html\n",
       "    var targ;\n",
       "    if (!e) {\n",
       "        e = window.event;\n",
       "    }\n",
       "    if (e.target) {\n",
       "        targ = e.target;\n",
       "    } else if (e.srcElement) {\n",
       "        targ = e.srcElement;\n",
       "    }\n",
       "    if (targ.nodeType === 3) {\n",
       "        // defeat Safari bug\n",
       "        targ = targ.parentNode;\n",
       "    }\n",
       "\n",
       "    // pageX,Y are the mouse positions relative to the document\n",
       "    var boundingRect = targ.getBoundingClientRect();\n",
       "    var x = e.pageX - (boundingRect.left + document.body.scrollLeft);\n",
       "    var y = e.pageY - (boundingRect.top + document.body.scrollTop);\n",
       "\n",
       "    return { x: x, y: y };\n",
       "};\n",
       "\n",
       "/*\n",
       " * return a copy of an object with only non-object keys\n",
       " * we need this to avoid circular references\n",
       " * https://stackoverflow.com/a/24161582/3208463\n",
       " */\n",
       "function simpleKeys(original) {\n",
       "    return Object.keys(original).reduce(function (obj, key) {\n",
       "        if (typeof original[key] !== 'object') {\n",
       "            obj[key] = original[key];\n",
       "        }\n",
       "        return obj;\n",
       "    }, {});\n",
       "}\n",
       "\n",
       "mpl.figure.prototype.mouse_event = function (event, name) {\n",
       "    var canvas_pos = mpl.findpos(event);\n",
       "\n",
       "    if (name === 'button_press') {\n",
       "        this.canvas.focus();\n",
       "        this.canvas_div.focus();\n",
       "    }\n",
       "\n",
       "    var x = canvas_pos.x * this.ratio;\n",
       "    var y = canvas_pos.y * this.ratio;\n",
       "\n",
       "    this.send_message(name, {\n",
       "        x: x,\n",
       "        y: y,\n",
       "        button: event.button,\n",
       "        step: event.step,\n",
       "        guiEvent: simpleKeys(event),\n",
       "    });\n",
       "\n",
       "    /* This prevents the web browser from automatically changing to\n",
       "     * the text insertion cursor when the button is pressed.  We want\n",
       "     * to control all of the cursor setting manually through the\n",
       "     * 'cursor' event from matplotlib */\n",
       "    event.preventDefault();\n",
       "    return false;\n",
       "};\n",
       "\n",
       "mpl.figure.prototype._key_event_extra = function (_event, _name) {\n",
       "    // Handle any extra behaviour associated with a key event\n",
       "};\n",
       "\n",
       "mpl.figure.prototype.key_event = function (event, name) {\n",
       "    // Prevent repeat events\n",
       "    if (name === 'key_press') {\n",
       "        if (event.key === this._key) {\n",
       "            return;\n",
       "        } else {\n",
       "            this._key = event.key;\n",
       "        }\n",
       "    }\n",
       "    if (name === 'key_release') {\n",
       "        this._key = null;\n",
       "    }\n",
       "\n",
       "    var value = '';\n",
       "    if (event.ctrlKey && event.key !== 'Control') {\n",
       "        value += 'ctrl+';\n",
       "    }\n",
       "    else if (event.altKey && event.key !== 'Alt') {\n",
       "        value += 'alt+';\n",
       "    }\n",
       "    else if (event.shiftKey && event.key !== 'Shift') {\n",
       "        value += 'shift+';\n",
       "    }\n",
       "\n",
       "    value += 'k' + event.key;\n",
       "\n",
       "    this._key_event_extra(event, name);\n",
       "\n",
       "    this.send_message(name, { key: value, guiEvent: simpleKeys(event) });\n",
       "    return false;\n",
       "};\n",
       "\n",
       "mpl.figure.prototype.toolbar_button_onclick = function (name) {\n",
       "    if (name === 'download') {\n",
       "        this.handle_save(this, null);\n",
       "    } else {\n",
       "        this.send_message('toolbar_button', { name: name });\n",
       "    }\n",
       "};\n",
       "\n",
       "mpl.figure.prototype.toolbar_button_onmouseover = function (tooltip) {\n",
       "    this.message.textContent = tooltip;\n",
       "};\n",
       "\n",
       "///////////////// REMAINING CONTENT GENERATED BY embed_js.py /////////////////\n",
       "// prettier-ignore\n",
       "var _JSXTOOLS_RESIZE_OBSERVER=function(A){var t,i=new WeakMap,n=new WeakMap,a=new WeakMap,r=new WeakMap,o=new Set;function s(e){if(!(this instanceof s))throw new TypeError(\"Constructor requires 'new' operator\");i.set(this,e)}function h(){throw new TypeError(\"Function is not a constructor\")}function c(e,t,i,n){e=0 in arguments?Number(arguments[0]):0,t=1 in arguments?Number(arguments[1]):0,i=2 in arguments?Number(arguments[2]):0,n=3 in arguments?Number(arguments[3]):0,this.right=(this.x=this.left=e)+(this.width=i),this.bottom=(this.y=this.top=t)+(this.height=n),Object.freeze(this)}function d(){t=requestAnimationFrame(d);var s=new WeakMap,p=new Set;o.forEach((function(t){r.get(t).forEach((function(i){var r=t instanceof window.SVGElement,o=a.get(t),d=r?0:parseFloat(o.paddingTop),f=r?0:parseFloat(o.paddingRight),l=r?0:parseFloat(o.paddingBottom),u=r?0:parseFloat(o.paddingLeft),g=r?0:parseFloat(o.borderTopWidth),m=r?0:parseFloat(o.borderRightWidth),w=r?0:parseFloat(o.borderBottomWidth),b=u+f,F=d+l,v=(r?0:parseFloat(o.borderLeftWidth))+m,W=g+w,y=r?0:t.offsetHeight-W-t.clientHeight,E=r?0:t.offsetWidth-v-t.clientWidth,R=b+v,z=F+W,M=r?t.width:parseFloat(o.width)-R-E,O=r?t.height:parseFloat(o.height)-z-y;if(n.has(t)){var k=n.get(t);if(k[0]===M&&k[1]===O)return}n.set(t,[M,O]);var S=Object.create(h.prototype);S.target=t,S.contentRect=new c(u,d,M,O),s.has(i)||(s.set(i,[]),p.add(i)),s.get(i).push(S)}))})),p.forEach((function(e){i.get(e).call(e,s.get(e),e)}))}return s.prototype.observe=function(i){if(i instanceof window.Element){r.has(i)||(r.set(i,new Set),o.add(i),a.set(i,window.getComputedStyle(i)));var n=r.get(i);n.has(this)||n.add(this),cancelAnimationFrame(t),t=requestAnimationFrame(d)}},s.prototype.unobserve=function(i){if(i instanceof window.Element&&r.has(i)){var n=r.get(i);n.has(this)&&(n.delete(this),n.size||(r.delete(i),o.delete(i))),n.size||r.delete(i),o.size||cancelAnimationFrame(t)}},A.DOMRectReadOnly=c,A.ResizeObserver=s,A.ResizeObserverEntry=h,A}; // eslint-disable-line\n",
       "mpl.toolbar_items = [[\"Home\", \"Reset original view\", \"fa fa-home\", \"home\"], [\"Back\", \"Back to previous view\", \"fa fa-arrow-left\", \"back\"], [\"Forward\", \"Forward to next view\", \"fa fa-arrow-right\", \"forward\"], [\"\", \"\", \"\", \"\"], [\"Pan\", \"Left button pans, Right button zooms\\nx/y fixes axis, CTRL fixes aspect\", \"fa fa-arrows\", \"pan\"], [\"Zoom\", \"Zoom to rectangle\\nx/y fixes axis\", \"fa fa-square-o\", \"zoom\"], [\"\", \"\", \"\", \"\"], [\"Download\", \"Download plot\", \"fa fa-floppy-o\", \"download\"]];\n",
       "\n",
       "mpl.extensions = [\"eps\", \"jpeg\", \"pgf\", \"pdf\", \"png\", \"ps\", \"raw\", \"svg\", \"tif\", \"webp\"];\n",
       "\n",
       "mpl.default_extension = \"png\";/* global mpl */\n",
       "\n",
       "var comm_websocket_adapter = function (comm) {\n",
       "    // Create a \"websocket\"-like object which calls the given IPython comm\n",
       "    // object with the appropriate methods. Currently this is a non binary\n",
       "    // socket, so there is still some room for performance tuning.\n",
       "    var ws = {};\n",
       "\n",
       "    ws.binaryType = comm.kernel.ws.binaryType;\n",
       "    ws.readyState = comm.kernel.ws.readyState;\n",
       "    function updateReadyState(_event) {\n",
       "        if (comm.kernel.ws) {\n",
       "            ws.readyState = comm.kernel.ws.readyState;\n",
       "        } else {\n",
       "            ws.readyState = 3; // Closed state.\n",
       "        }\n",
       "    }\n",
       "    comm.kernel.ws.addEventListener('open', updateReadyState);\n",
       "    comm.kernel.ws.addEventListener('close', updateReadyState);\n",
       "    comm.kernel.ws.addEventListener('error', updateReadyState);\n",
       "\n",
       "    ws.close = function () {\n",
       "        comm.close();\n",
       "    };\n",
       "    ws.send = function (m) {\n",
       "        //console.log('sending', m);\n",
       "        comm.send(m);\n",
       "    };\n",
       "    // Register the callback with on_msg.\n",
       "    comm.on_msg(function (msg) {\n",
       "        //console.log('receiving', msg['content']['data'], msg);\n",
       "        var data = msg['content']['data'];\n",
       "        if (data['blob'] !== undefined) {\n",
       "            data = {\n",
       "                data: new Blob(msg['buffers'], { type: data['blob'] }),\n",
       "            };\n",
       "        }\n",
       "        // Pass the mpl event to the overridden (by mpl) onmessage function.\n",
       "        ws.onmessage(data);\n",
       "    });\n",
       "    return ws;\n",
       "};\n",
       "\n",
       "mpl.mpl_figure_comm = function (comm, msg) {\n",
       "    // This is the function which gets called when the mpl process\n",
       "    // starts-up an IPython Comm through the \"matplotlib\" channel.\n",
       "\n",
       "    var id = msg.content.data.id;\n",
       "    // Get hold of the div created by the display call when the Comm\n",
       "    // socket was opened in Python.\n",
       "    var element = document.getElementById(id);\n",
       "    var ws_proxy = comm_websocket_adapter(comm);\n",
       "\n",
       "    function ondownload(figure, _format) {\n",
       "        window.open(figure.canvas.toDataURL());\n",
       "    }\n",
       "\n",
       "    var fig = new mpl.figure(id, ws_proxy, ondownload, element);\n",
       "\n",
       "    // Call onopen now - mpl needs it, as it is assuming we've passed it a real\n",
       "    // web socket which is closed, not our websocket->open comm proxy.\n",
       "    ws_proxy.onopen();\n",
       "\n",
       "    fig.parent_element = element;\n",
       "    fig.cell_info = mpl.find_output_cell(\"<div id='\" + id + \"'></div>\");\n",
       "    if (!fig.cell_info) {\n",
       "        console.error('Failed to find cell for figure', id, fig);\n",
       "        return;\n",
       "    }\n",
       "    fig.cell_info[0].output_area.element.on(\n",
       "        'cleared',\n",
       "        { fig: fig },\n",
       "        fig._remove_fig_handler\n",
       "    );\n",
       "};\n",
       "\n",
       "mpl.figure.prototype.handle_close = function (fig, msg) {\n",
       "    var width = fig.canvas.width / fig.ratio;\n",
       "    fig.cell_info[0].output_area.element.off(\n",
       "        'cleared',\n",
       "        fig._remove_fig_handler\n",
       "    );\n",
       "    fig.resizeObserverInstance.unobserve(fig.canvas_div);\n",
       "\n",
       "    // Update the output cell to use the data from the current canvas.\n",
       "    fig.push_to_output();\n",
       "    var dataURL = fig.canvas.toDataURL();\n",
       "    // Re-enable the keyboard manager in IPython - without this line, in FF,\n",
       "    // the notebook keyboard shortcuts fail.\n",
       "    IPython.keyboard_manager.enable();\n",
       "    fig.parent_element.innerHTML =\n",
       "        '<img src=\"' + dataURL + '\" width=\"' + width + '\">';\n",
       "    fig.close_ws(fig, msg);\n",
       "};\n",
       "\n",
       "mpl.figure.prototype.close_ws = function (fig, msg) {\n",
       "    fig.send_message('closing', msg);\n",
       "    // fig.ws.close()\n",
       "};\n",
       "\n",
       "mpl.figure.prototype.push_to_output = function (_remove_interactive) {\n",
       "    // Turn the data on the canvas into data in the output cell.\n",
       "    var width = this.canvas.width / this.ratio;\n",
       "    var dataURL = this.canvas.toDataURL();\n",
       "    this.cell_info[1]['text/html'] =\n",
       "        '<img src=\"' + dataURL + '\" width=\"' + width + '\">';\n",
       "};\n",
       "\n",
       "mpl.figure.prototype.updated_canvas_event = function () {\n",
       "    // Tell IPython that the notebook contents must change.\n",
       "    IPython.notebook.set_dirty(true);\n",
       "    this.send_message('ack', {});\n",
       "    var fig = this;\n",
       "    // Wait a second, then push the new image to the DOM so\n",
       "    // that it is saved nicely (might be nice to debounce this).\n",
       "    setTimeout(function () {\n",
       "        fig.push_to_output();\n",
       "    }, 1000);\n",
       "};\n",
       "\n",
       "mpl.figure.prototype._init_toolbar = function () {\n",
       "    var fig = this;\n",
       "\n",
       "    var toolbar = document.createElement('div');\n",
       "    toolbar.classList = 'btn-toolbar';\n",
       "    this.root.appendChild(toolbar);\n",
       "\n",
       "    function on_click_closure(name) {\n",
       "        return function (_event) {\n",
       "            return fig.toolbar_button_onclick(name);\n",
       "        };\n",
       "    }\n",
       "\n",
       "    function on_mouseover_closure(tooltip) {\n",
       "        return function (event) {\n",
       "            if (!event.currentTarget.disabled) {\n",
       "                return fig.toolbar_button_onmouseover(tooltip);\n",
       "            }\n",
       "        };\n",
       "    }\n",
       "\n",
       "    fig.buttons = {};\n",
       "    var buttonGroup = document.createElement('div');\n",
       "    buttonGroup.classList = 'btn-group';\n",
       "    var button;\n",
       "    for (var toolbar_ind in mpl.toolbar_items) {\n",
       "        var name = mpl.toolbar_items[toolbar_ind][0];\n",
       "        var tooltip = mpl.toolbar_items[toolbar_ind][1];\n",
       "        var image = mpl.toolbar_items[toolbar_ind][2];\n",
       "        var method_name = mpl.toolbar_items[toolbar_ind][3];\n",
       "\n",
       "        if (!name) {\n",
       "            /* Instead of a spacer, we start a new button group. */\n",
       "            if (buttonGroup.hasChildNodes()) {\n",
       "                toolbar.appendChild(buttonGroup);\n",
       "            }\n",
       "            buttonGroup = document.createElement('div');\n",
       "            buttonGroup.classList = 'btn-group';\n",
       "            continue;\n",
       "        }\n",
       "\n",
       "        button = fig.buttons[name] = document.createElement('button');\n",
       "        button.classList = 'btn btn-default';\n",
       "        button.href = '#';\n",
       "        button.title = name;\n",
       "        button.innerHTML = '<i class=\"fa ' + image + ' fa-lg\"></i>';\n",
       "        button.addEventListener('click', on_click_closure(method_name));\n",
       "        button.addEventListener('mouseover', on_mouseover_closure(tooltip));\n",
       "        buttonGroup.appendChild(button);\n",
       "    }\n",
       "\n",
       "    if (buttonGroup.hasChildNodes()) {\n",
       "        toolbar.appendChild(buttonGroup);\n",
       "    }\n",
       "\n",
       "    // Add the status bar.\n",
       "    var status_bar = document.createElement('span');\n",
       "    status_bar.classList = 'mpl-message pull-right';\n",
       "    toolbar.appendChild(status_bar);\n",
       "    this.message = status_bar;\n",
       "\n",
       "    // Add the close button to the window.\n",
       "    var buttongrp = document.createElement('div');\n",
       "    buttongrp.classList = 'btn-group inline pull-right';\n",
       "    button = document.createElement('button');\n",
       "    button.classList = 'btn btn-mini btn-primary';\n",
       "    button.href = '#';\n",
       "    button.title = 'Stop Interaction';\n",
       "    button.innerHTML = '<i class=\"fa fa-power-off icon-remove icon-large\"></i>';\n",
       "    button.addEventListener('click', function (_evt) {\n",
       "        fig.handle_close(fig, {});\n",
       "    });\n",
       "    button.addEventListener(\n",
       "        'mouseover',\n",
       "        on_mouseover_closure('Stop Interaction')\n",
       "    );\n",
       "    buttongrp.appendChild(button);\n",
       "    var titlebar = this.root.querySelector('.ui-dialog-titlebar');\n",
       "    titlebar.insertBefore(buttongrp, titlebar.firstChild);\n",
       "};\n",
       "\n",
       "mpl.figure.prototype._remove_fig_handler = function (event) {\n",
       "    var fig = event.data.fig;\n",
       "    if (event.target !== this) {\n",
       "        // Ignore bubbled events from children.\n",
       "        return;\n",
       "    }\n",
       "    fig.close_ws(fig, {});\n",
       "};\n",
       "\n",
       "mpl.figure.prototype._root_extra_style = function (el) {\n",
       "    el.style.boxSizing = 'content-box'; // override notebook setting of border-box.\n",
       "};\n",
       "\n",
       "mpl.figure.prototype._canvas_extra_style = function (el) {\n",
       "    // this is important to make the div 'focusable\n",
       "    el.setAttribute('tabindex', 0);\n",
       "    // reach out to IPython and tell the keyboard manager to turn it's self\n",
       "    // off when our div gets focus\n",
       "\n",
       "    // location in version 3\n",
       "    if (IPython.notebook.keyboard_manager) {\n",
       "        IPython.notebook.keyboard_manager.register_events(el);\n",
       "    } else {\n",
       "        // location in version 2\n",
       "        IPython.keyboard_manager.register_events(el);\n",
       "    }\n",
       "};\n",
       "\n",
       "mpl.figure.prototype._key_event_extra = function (event, _name) {\n",
       "    // Check for shift+enter\n",
       "    if (event.shiftKey && event.which === 13) {\n",
       "        this.canvas_div.blur();\n",
       "        // select the cell after this one\n",
       "        var index = IPython.notebook.find_cell_index(this.cell_info[0]);\n",
       "        IPython.notebook.select(index + 1);\n",
       "    }\n",
       "};\n",
       "\n",
       "mpl.figure.prototype.handle_save = function (fig, _msg) {\n",
       "    fig.ondownload(fig, null);\n",
       "};\n",
       "\n",
       "mpl.find_output_cell = function (html_output) {\n",
       "    // Return the cell and output element which can be found *uniquely* in the notebook.\n",
       "    // Note - this is a bit hacky, but it is done because the \"notebook_saving.Notebook\"\n",
       "    // IPython event is triggered only after the cells have been serialised, which for\n",
       "    // our purposes (turning an active figure into a static one), is too late.\n",
       "    var cells = IPython.notebook.get_cells();\n",
       "    var ncells = cells.length;\n",
       "    for (var i = 0; i < ncells; i++) {\n",
       "        var cell = cells[i];\n",
       "        if (cell.cell_type === 'code') {\n",
       "            for (var j = 0; j < cell.output_area.outputs.length; j++) {\n",
       "                var data = cell.output_area.outputs[j];\n",
       "                if (data.data) {\n",
       "                    // IPython >= 3 moved mimebundle to data attribute of output\n",
       "                    data = data.data;\n",
       "                }\n",
       "                if (data['text/html'] === html_output) {\n",
       "                    return [cell, data, j];\n",
       "                }\n",
       "            }\n",
       "        }\n",
       "    }\n",
       "};\n",
       "\n",
       "// Register the function which deals with the matplotlib target/channel.\n",
       "// The kernel may be null if the page has been refreshed.\n",
       "if (IPython.notebook.kernel !== null) {\n",
       "    IPython.notebook.kernel.comm_manager.register_target(\n",
       "        'matplotlib',\n",
       "        mpl.mpl_figure_comm\n",
       "    );\n",
       "}\n"
      ],
      "text/plain": [
       "<IPython.core.display.Javascript object>"
      ]
     },
     "metadata": {},
     "output_type": "display_data"
    },
    {
     "data": {
      "text/html": [
       "<img src=\"data:image/png;base64,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\" width=\"640\">"
      ],
      "text/plain": [
       "<IPython.core.display.HTML object>"
      ]
     },
     "metadata": {},
     "output_type": "display_data"
    }
   ],
   "source": [
    "# Example: the final plot looks like this:\n",
    "fig = matplotlib.pyplot.figure()"
   ]
  },
  {
   "cell_type": "code",
   "execution_count": 48,
   "metadata": {
    "slideshow": {
     "slide_type": "subslide"
    }
   },
   "outputs": [],
   "source": [
    "# Split the figure into an array of fields: ncols x nrows.\n",
    "grid = matplotlib.pyplot.GridSpec(ncols=1, nrows=1)"
   ]
  },
  {
   "cell_type": "code",
   "execution_count": 49,
   "metadata": {
    "slideshow": {
     "slide_type": "fragment"
    }
   },
   "outputs": [],
   "source": [
    "# Add a subplot by specifying column and row.\n",
    "# You can also use slicing here for combining fields.\n",
    "ax = fig.add_subplot(grid[0, 0])"
   ]
  },
  {
   "cell_type": "code",
   "execution_count": 50,
   "metadata": {
    "slideshow": {
     "slide_type": "fragment"
    }
   },
   "outputs": [],
   "source": [
    "# Input data\n",
    "xval = np.linspace(0., 2.*np.pi, 101)\n",
    "yval = np.sin(xval)"
   ]
  },
  {
   "cell_type": "code",
   "execution_count": 51,
   "metadata": {
    "slideshow": {
     "slide_type": "fragment"
    }
   },
   "outputs": [
    {
     "data": {
      "text/plain": [
       "[<matplotlib.lines.Line2D at 0x7f54667b2340>]"
      ]
     },
     "execution_count": 51,
     "metadata": {},
     "output_type": "execute_result"
    }
   ],
   "source": [
    "# Plot the input data:\n",
    "# Combine the data points with a solid line.\n",
    "ax.plot(xval, yval, \"-\", label=\"This is the sine function.\")"
   ]
  },
  {
   "cell_type": "code",
   "execution_count": 52,
   "metadata": {
    "slideshow": {
     "slide_type": "subslide"
    }
   },
   "outputs": [
    {
     "data": {
      "text/plain": [
       "(-1.0, 1.0)"
      ]
     },
     "execution_count": 52,
     "metadata": {},
     "output_type": "execute_result"
    }
   ],
   "source": [
    "# Axes formatting\n",
    "ax.set_xlim(xval[0], xval[-1])\n",
    "ax.set_ylim(-1., 1.)"
   ]
  },
  {
   "cell_type": "code",
   "execution_count": 53,
   "metadata": {
    "slideshow": {
     "slide_type": "fragment"
    }
   },
   "outputs": [],
   "source": [
    "# Set the major ticks location and format of the x-axis.\n",
    "ax.xaxis.set_major_locator(matplotlib.ticker.FixedLocator([0, np.pi/2, np.pi, 3/2*np.pi, 2*np.pi]))\n",
    "ax.xaxis.set_major_formatter(matplotlib.ticker.FixedFormatter(\n",
    "    [\"$0$\", r\"$\\frac{\\pi}{2}$\", r\"$\\pi$\", r\"$\\frac{3\\pi}{2}$\", r\"$2\\pi$\"]))"
   ]
  },
  {
   "cell_type": "code",
   "execution_count": 54,
   "metadata": {
    "slideshow": {
     "slide_type": "fragment"
    }
   },
   "outputs": [],
   "source": [
    "# For linear ticks, Matplotlib is pretty good in figuring out the location \n",
    "# of minor ticks.\n",
    "ax.yaxis.set_major_locator(matplotlib.ticker.LinearLocator(numticks=5))\n",
    "ax.yaxis.set_minor_locator(matplotlib.ticker.AutoMinorLocator())"
   ]
  },
  {
   "cell_type": "code",
   "execution_count": 55,
   "metadata": {
    "slideshow": {
     "slide_type": "fragment"
    }
   },
   "outputs": [
    {
     "data": {
      "text/plain": [
       "Text(0, 0.5, '$\\\\sin(\\\\alpha)$')"
      ]
     },
     "execution_count": 55,
     "metadata": {},
     "output_type": "execute_result"
    }
   ],
   "source": [
    "# Labels\n",
    "ax.set_xlabel(r\"$\\alpha$\")\n",
    "ax.set_ylabel(r\"$\\sin(\\alpha)$\")"
   ]
  },
  {
   "cell_type": "code",
   "execution_count": 56,
   "metadata": {
    "slideshow": {
     "slide_type": "fragment"
    }
   },
   "outputs": [
    {
     "data": {
      "text/plain": [
       "<matplotlib.legend.Legend at 0x7f5466758a30>"
      ]
     },
     "execution_count": 56,
     "metadata": {},
     "output_type": "execute_result"
    }
   ],
   "source": [
    "# Legend\n",
    "ax.legend(loc=\"upper right\")"
   ]
  },
  {
   "cell_type": "code",
   "execution_count": 57,
   "metadata": {
    "slideshow": {
     "slide_type": "subslide"
    }
   },
   "outputs": [],
   "source": [
    "# Shrink the axes in order to fit in the labels.\n",
    "grid.tight_layout(fig)"
   ]
  },
  {
   "cell_type": "code",
   "execution_count": 58,
   "metadata": {
    "slideshow": {
     "slide_type": "fragment"
    }
   },
   "outputs": [],
   "source": [
    "# Save the figure.\n",
    "fig.savefig(\"example.pdf\")"
   ]
  },
  {
   "cell_type": "code",
   "execution_count": 59,
   "metadata": {
    "slideshow": {
     "slide_type": "skip"
    }
   },
   "outputs": [],
   "source": [
    "os.remove(\"example.pdf\")"
   ]
  }
 ],
 "metadata": {
  "celltoolbar": "Slideshow",
  "kernelspec": {
   "display_name": "Python 3 (adv-py3-course)",
   "language": "python",
   "name": "adv-py3-course"
  },
  "language_info": {
   "codemirror_mode": {
    "name": "ipython",
    "version": 3
   },
   "file_extension": ".py",
   "mimetype": "text/x-python",
   "name": "python",
   "nbconvert_exporter": "python",
   "pygments_lexer": "ipython3",
   "version": "3.8.10"
  }
 },
 "nbformat": 4,
 "nbformat_minor": 2
}
