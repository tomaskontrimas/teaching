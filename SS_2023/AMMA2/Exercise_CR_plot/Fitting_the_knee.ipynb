{
 "cells": [
  {
   "cell_type": "markdown",
   "id": "26ff0a86-63f1-4fab-9b80-2cec09b2f9ab",
   "metadata": {},
   "source": [
    "# The all-particle spectrum of cosmic rays"
   ]
  },
  {
   "cell_type": "code",
   "execution_count": 1,
   "id": "d4ece0da-761d-4de0-a87b-7c26411ec61a",
   "metadata": {
    "tags": []
   },
   "outputs": [],
   "source": [
    "import numpy\n",
    "import matplotlib\n",
    "from matplotlib import pyplot"
   ]
  },
  {
   "cell_type": "markdown",
   "id": "9f5e4964-47d3-4e2c-8382-1eae3fe89b38",
   "metadata": {
    "tags": []
   },
   "source": [
    "#### We will use a library a former colleague wrote some years ago to collect cosmic rays data from a database.\n",
    "It uses sqlite3, a python package that allows accessing a database using the SQL query language."
   ]
  },
  {
   "cell_type": "code",
   "execution_count": 2,
   "id": "1cac6911-e7ee-4aa7-a9e3-506cd17f66e0",
   "metadata": {
    "tags": []
   },
   "outputs": [],
   "source": [
    "import crdata"
   ]
  },
  {
   "cell_type": "markdown",
   "id": "fcc24863-7ea6-4b2b-aa01-89b7e2b7cb79",
   "metadata": {
    "tags": []
   },
   "source": [
    "Now just some plotting stuff that you can define at beginning of your notebook."
   ]
  },
  {
   "cell_type": "code",
   "execution_count": 3,
   "id": "9ea14215-73e7-49ca-bb57-b07229ac3448",
   "metadata": {
    "tags": []
   },
   "outputs": [],
   "source": [
    "color = matplotlib.cm.tab20c(\n",
    "    matplotlib.colors.Normalize(vmin=0, vmax=14)(range(14))\n",
    ")\n",
    "marker = \"o\""
   ]
  },
  {
   "cell_type": "markdown",
   "id": "1ca211b1-c2b8-44aa-bd9a-d88d960e93cf",
   "metadata": {
    "tags": []
   },
   "source": [
    "You can also have a file.mplstyle with all your favorite settings stored somewhere and simply use it in all your notebooks :)"
   ]
  },
  {
   "cell_type": "code",
   "execution_count": 5,
   "id": "a4343916-615f-4c73-928c-53c8b0666a45",
   "metadata": {
    "tags": []
   },
   "outputs": [],
   "source": [
    "pyplot.style.use('my_plots_latex.mplstyle')"
   ]
  },
  {
   "cell_type": "markdown",
   "id": "faaae674-b781-4c99-a527-7a112decd75f",
   "metadata": {
    "tags": []
   },
   "source": [
    "#### Let's see what can we do with our crdata library"
   ]
  },
  {
   "cell_type": "code",
   "execution_count": 17,
   "id": "b6d7768e-95aa-4193-914d-c2f711dd54a7",
   "metadata": {
    "tags": []
   },
   "outputs": [],
   "source": [
    "db = crdata.CRDataBase()"
   ]
  },
  {
   "cell_type": "code",
   "execution_count": null,
   "id": "8ad82d4d-b120-40b7-8177-10b4d6a6e8b2",
   "metadata": {},
   "outputs": [],
   "source": [
    "db = crdata.CRDataBase"
   ]
  },
  {
   "cell_type": "code",
   "execution_count": 7,
   "id": "69a939af-dec5-43ac-a684-9815731052d5",
   "metadata": {
    "tags": []
   },
   "outputs": [
    {
     "data": {
      "text/plain": [
       "['Auger',\n",
       " 'GAMMA',\n",
       " 'TA SD',\n",
       " 'HAWC',\n",
       " 'IceTop-73',\n",
       " 'KASCADE-Grande',\n",
       " 'KASCADE (QGSJet-I)',\n",
       " 'Tibet-III (QGSJet-01C, HD)',\n",
       " 'HiRes-I',\n",
       " 'HiRes-II',\n",
       " 'HiRes/MIA',\n",
       " 'CREAM-I/III (protons)',\n",
       " 'CREAM-I/III (helium)']"
      ]
     },
     "execution_count": 7,
     "metadata": {},
     "output_type": "execute_result"
    }
   ],
   "source": [
    "db.experiments"
   ]
  },
  {
   "cell_type": "markdown",
   "id": "219705a8-bf0f-4d96-b09d-b786140bf25e",
   "metadata": {
    "tags": []
   },
   "source": [
    "I'll select only some experiments per energy range, just to have a cleaner plot."
   ]
  },
  {
   "cell_type": "code",
   "execution_count": 8,
   "id": "87658d2f-5f9e-4a56-8755-fd14a0164b64",
   "metadata": {
    "tags": []
   },
   "outputs": [],
   "source": [
    "experiments = [\n",
    "    \"AMS02\", \"CREAM-I/III (protons)\", \"HAWC\",\n",
    "    \"Tibet-III (QGSJet-01c, HD)\", \"IceTop-73\", \"GAMMA\", \"KASCADE-Grande\",\n",
    "    \"HiRes-I\", \"HiRes-II\", \"Auger\", \"TA SD\"\n",
    "]"
   ]
  },
  {
   "cell_type": "markdown",
   "id": "9156a5ae-38d7-4273-b629-39aeadaf2f39",
   "metadata": {
    "tags": []
   },
   "source": [
    "Let's request the data for the selected experiments."
   ]
  },
  {
   "cell_type": "code",
   "execution_count": 31,
   "id": "e2695054-bab6-490c-aec0-e95364652e7b",
   "metadata": {
    "tags": []
   },
   "outputs": [],
   "source": [
    "data = {}\n",
    "\n",
    "# For AMS02 data we have to request the data from an external database.\n",
    "# Try to request \"AMS02\" data for hydrogen as function of the \n",
    "data[\"AMS02\"] = db.from_external(\"AMS02\", element=\"H\", energy=\"R\")\n",
    "\n",
    "# And then also for the rest of the experiments...\n",
    "for experiment in experiments[1:]:\n",
    "    data[experiment] = db.request(experiment)"
   ]
  },
  {
   "cell_type": "code",
   "execution_count": 32,
   "id": "0079f2e7-c863-46f8-94b5-e973c338652b",
   "metadata": {},
   "outputs": [
    {
     "data": {
      "text/plain": [
       "{'AMS02': array([(   1.077033, 9.531e+02, [8.3e+00, 8.3e+00], [4.54e+01, 4.54e+01], False),\n",
       "        (   1.242095, 9.180e+02, [4.8e+00, 4.8e+00], [3.44e+01, 3.44e+01], False),\n",
       "        (   1.417145, 8.543e+02, [3.9e+00, 3.9e+00], [2.57e+01, 2.57e+01], False),\n",
       "        ...,\n",
       "        ( 582.46    , 3.800e-04, [2.0e-05, 2.0e-05], [3.00e-05, 3.00e-05], False),\n",
       "        ( 749.72    , 1.900e-04, [1.0e-05, 1.0e-05], [2.00e-05, 2.00e-05], False),\n",
       "        (1010.34    , 8.100e-05, [7.0e-06, 7.0e-06], [1.00e-05, 1.00e-05], False)],\n",
       "       dtype=[('energy', '<f8'), ('flux', '<f8'), ('stat', '<f8', (2,)), ('sys', '<f8', (2,)), ('uplim', '?')]),\n",
       " 'CREAM-I/III (protons)': array([(  1260., 4.07e-05, [5.0e-07, 5.0e-07], [0., 0.], False),\n",
       "        (  2000., 1.21e-05, [2.0e-07, 2.0e-07], [0., 0.], False),\n",
       "        (  3160., 3.72e-06, [7.0e-08, 7.0e-08], [0., 0.], False),\n",
       "        (  5010., 1.14e-06, [3.0e-08, 3.0e-08], [0., 0.], False),\n",
       "        (  7940., 3.46e-07, [2.0e-09, 2.0e-09], [0., 0.], False),\n",
       "        ( 12600., 1.05e-07, [6.0e-09, 6.0e-09], [0., 0.], False),\n",
       "        ( 20000., 3.04e-08, [2.7e-09, 2.7e-09], [0., 0.], False),\n",
       "        ( 31600., 8.20e-09, [1.1e-09, 1.1e-09], [0., 0.], False),\n",
       "        ( 50100., 2.10e-09, [4.0e-10, 5.0e-10], [0., 0.], False),\n",
       "        ( 79400., 6.00e-10, [1.4e-10, 1.6e-10], [0., 0.], False),\n",
       "        (126000., 1.70e-10, [7.0e-11, 8.0e-11], [0., 0.], False),\n",
       "        (200000., 4.40e-11, [2.2e-11, 2.7e-11], [0., 0.], False)],\n",
       "       dtype=[('energy', '<f8'), ('flux', '<f8'), ('stat', '<f8', (2,)), ('sys', '<f8', (2,)), ('uplim', '?')]),\n",
       " 'HAWC': array([( 11220.18454302, 4.7968e-07, [2.0e-11, 2.0e-11], [1.03722081e-07, 7.29443247e-08], False),\n",
       "        ( 14125.37544623, 2.6922e-07, [1.0e-11, 1.0e-11], [5.03491986e-08, 3.31148441e-08], False),\n",
       "        ( 17782.79410039, 1.5163e-07, [1.0e-11, 1.0e-11], [2.63902577e-08, 1.77283558e-08], False),\n",
       "        ( 22387.21138568, 8.4947e-08, [7.0e-12, 7.0e-12], [1.43236982e-08, 1.02463981e-08], False),\n",
       "        ( 28183.82931264, 4.7823e-08, [5.0e-12, 5.0e-12], [7.67618473e-09, 5.70754387e-09], False),\n",
       "        ( 35481.33892336, 2.6761e-08, [3.0e-12, 3.0e-12], [4.34002074e-09, 3.47583443e-09], False),\n",
       "        ( 44668.3592151 , 1.4823e-08, [2.0e-12, 2.0e-12], [2.27951442e-09, 1.88267735e-09], False),\n",
       "        ( 56234.13251903, 8.1839e-09, [1.5e-12, 1.5e-12], [1.27906407e-09, 1.12234835e-09], False),\n",
       "        ( 70794.57843841, 4.4769e-09, [1.0e-12, 1.0e-12], [6.93044768e-10, 6.38884598e-10], False),\n",
       "        ( 89125.09381337, 2.4193e-09, [7.0e-13, 7.0e-13], [3.74664984e-10, 3.64952613e-10], False),\n",
       "        (112201.8454302 , 1.2781e-09, [4.0e-13, 4.0e-13], [1.97828461e-10, 2.05030169e-10], False),\n",
       "        (141253.75446228, 6.7636e-10, [2.7e-13, 2.7e-13], [9.94395580e-11, 1.12011328e-10], False),\n",
       "        (177827.94100389, 3.5835e-10, [1.7e-13, 1.7e-13], [5.20149844e-11, 6.46772734e-11], False),\n",
       "        (223872.11385683, 1.9107e-10, [1.1e-13, 1.1e-13], [2.69382479e-11, 3.80363458e-11], False),\n",
       "        (281838.29312645, 1.0346e-10, [7.0e-14, 7.0e-14], [1.46806676e-11, 2.35913543e-11], False),\n",
       "        (354813.38923358, 5.4882e-11, [4.7e-14, 4.7e-14], [7.82432598e-12, 1.46789877e-11], False),\n",
       "        (446683.59215096, 2.9284e-11, [3.0e-14, 3.0e-14], [4.19643718e-12, 9.93668798e-12], False)],\n",
       "       dtype=[('energy', '<f8'), ('flux', '<f8'), ('stat', '<f8', (2,)), ('sys', '<f8', (2,)), ('uplim', '?')]),\n",
       " 'Tibet-III (QGSJet-01c, HD)': array([(1.12e+05, 9.300e-10, [2.000e-13, 2.000e-13], [0., 0.], False),\n",
       "        (1.41e+05, 5.008e-10, [1.000e-13, 1.000e-13], [0., 0.], False),\n",
       "        (1.78e+05, 2.732e-10, [1.000e-13, 1.000e-13], [0., 0.], False),\n",
       "        (2.24e+05, 1.470e-10, [1.000e-13, 1.000e-13], [0., 0.], False),\n",
       "        (2.82e+05, 7.934e-11, [4.000e-14, 4.000e-14], [0., 0.], False),\n",
       "        (3.55e+05, 4.296e-11, [3.000e-14, 3.000e-14], [0., 0.], False),\n",
       "        (4.47e+05, 2.323e-11, [2.000e-14, 2.000e-14], [0., 0.], False),\n",
       "        (5.62e+05, 1.262e-11, [1.000e-14, 1.000e-14], [0., 0.], False),\n",
       "        (7.08e+05, 6.834e-12, [8.000e-15, 8.000e-15], [0., 0.], False),\n",
       "        (8.91e+05, 3.695e-12, [5.000e-15, 5.000e-15], [0., 0.], False),\n",
       "        (1.12e+06, 2.001e-12, [3.000e-15, 3.000e-15], [0., 0.], False),\n",
       "        (1.41e+06, 1.092e-12, [2.000e-15, 2.000e-15], [0., 0.], False),\n",
       "        (1.78e+06, 5.947e-13, [1.400e-15, 1.400e-15], [0., 0.], False),\n",
       "        (2.24e+06, 3.228e-13, [9.000e-16, 9.000e-16], [0., 0.], False),\n",
       "        (2.82e+06, 1.738e-13, [6.000e-16, 6.000e-16], [0., 0.], False),\n",
       "        (3.55e+06, 9.301e-14, [4.000e-16, 4.000e-16], [0., 0.], False),\n",
       "        (4.47e+06, 4.692e-14, [2.500e-16, 2.500e-16], [0., 0.], False),\n",
       "        (5.62e+06, 2.384e-14, [1.600e-16, 1.600e-16], [0., 0.], False),\n",
       "        (7.08e+06, 1.159e-14, [1.000e-16, 1.000e-16], [0., 0.], False),\n",
       "        (8.91e+06, 5.571e-15, [6.100e-17, 6.100e-17], [0., 0.], False),\n",
       "        (1.12e+07, 2.631e-15, [3.700e-17, 3.700e-17], [0., 0.], False),\n",
       "        (1.41e+07, 1.265e-15, [2.300e-17, 2.300e-17], [0., 0.], False),\n",
       "        (1.78e+07, 6.631e-16, [1.490e-17, 1.490e-17], [0., 0.], False),\n",
       "        (2.24e+07, 3.177e-16, [9.200e-18, 9.200e-18], [0., 0.], False),\n",
       "        (2.82e+07, 1.651e-16, [5.900e-18, 5.900e-18], [0., 0.], False),\n",
       "        (3.55e+07, 8.101e-17, [3.700e-18, 3.700e-18], [0., 0.], False),\n",
       "        (4.47e+07, 3.614e-17, [2.200e-18, 2.200e-18], [0., 0.], False),\n",
       "        (5.62e+07, 2.146e-17, [1.510e-18, 1.510e-18], [0., 0.], False),\n",
       "        (7.08e+07, 9.764e-18, [9.080e-19, 9.080e-19], [0., 0.], False),\n",
       "        (8.91e+07, 4.156e-18, [5.280e-19, 5.280e-19], [0., 0.], False),\n",
       "        (1.12e+08, 2.694e-18, [3.790e-19, 3.790e-19], [0., 0.], False),\n",
       "        (1.41e+08, 1.242e-18, [2.290e-19, 2.290e-19], [0., 0.], False),\n",
       "        (1.78e+08, 5.310e-19, [1.337e-19, 1.337e-19], [0., 0.], False)],\n",
       "       dtype=[('energy', '<f8'), ('flux', '<f8'), ('stat', '<f8', (2,)), ('sys', '<f8', (2,)), ('uplim', '?')]),\n",
       " 'IceTop-73': array([(1.77827941e+06, 5.90177221e-13, [3.37404795e-16, 3.37404795e-16], [4.80801833e-14, 4.09946826e-14], False),\n",
       "        (2.23872114e+06, 3.23845604e-13, [2.23341796e-16, 2.23341796e-16], [2.73370358e-14, 2.33615519e-14], False),\n",
       "        (2.81838293e+06, 1.75206852e-13, [1.41925356e-16, 1.41925356e-16], [1.50795690e-14, 1.30571327e-14], False),\n",
       "        (3.34965439e+06, 1.09563542e-13, [1.19415305e-16, 1.19415305e-16], [9.70249351e-15, 8.53819429e-15], False),\n",
       "        (3.75837404e+06, 7.89969270e-14, [1.06429002e-16, 1.06429002e-16], [7.34360117e-15, 6.11966764e-15], False),\n",
       "        (4.21696503e+06, 5.64861217e-14, [7.11412112e-17, 7.11412112e-17], [5.12216720e-15, 4.48189630e-15], False),\n",
       "        (4.73151259e+06, 4.04521802e-14, [6.34046712e-17, 6.34046712e-17], [3.80428027e-15, 3.29704290e-15], False),\n",
       "        (5.30884444e+06, 2.85749567e-14, [5.65094727e-17, 5.65094727e-17], [2.63710873e-15, 2.35456136e-15], False),\n",
       "        (5.95662144e+06, 2.03135286e-14, [3.35760804e-17, 3.35760804e-17], [1.89704854e-15, 1.67880402e-15], False),\n",
       "        (6.68343918e+06, 1.43369301e-14, [3.29171844e-17, 3.29171844e-17], [1.39000292e-15, 1.20147723e-15], False),\n",
       "        (7.49894209e+06, 1.00840891e-14, [2.53369072e-17, 2.53369072e-17], [9.42799653e-16, 8.58787802e-16], False),\n",
       "        (8.41395142e+06, 7.03117918e-15, [2.02045379e-17, 2.02045379e-17], [6.94085301e-16, 6.14455652e-16], False),\n",
       "        (9.44060876e+06, 4.88104117e-15, [1.58888059e-17, 1.58888059e-17], [4.55479102e-16, 4.33234774e-16], False),\n",
       "        (1.05925373e+07, 3.40711570e-15, [1.22727914e-17, 1.22727914e-17], [3.37973794e-16, 3.04931663e-16], False),\n",
       "        (1.18850223e+07, 2.35422361e-15, [1.00967417e-17, 1.00967417e-17], [2.24652503e-16, 2.12031576e-16], False),\n",
       "        (1.33352143e+07, 1.64451800e-15, [7.49894209e-18, 7.49894209e-18], [1.58227678e-16, 1.41730006e-16], False),\n",
       "        (1.49623566e+07, 1.14754651e-15, [6.01509526e-18, 6.01509526e-18], [1.07603371e-16, 1.04261651e-16], False),\n",
       "        (1.67880402e+07, 8.02356907e-16, [4.76529715e-18, 4.76529715e-18], [7.08837951e-17, 7.08837951e-17], False),\n",
       "        (1.88364909e+07, 5.77602275e-16, [3.71619111e-18, 3.71619111e-18], [5.46810978e-18, 4.88413689e-17], False),\n",
       "        (2.11348904e+07, 4.04733587e-16, [3.02816806e-18, 3.02816806e-18], [3.85145125e-17, 3.67638528e-17], False),\n",
       "        (2.37137371e+07, 2.88229560e-16, [2.40367007e-18, 2.40367007e-18], [2.47957544e-17, 2.43740579e-17], False),\n",
       "        (2.66072506e+07, 2.06785740e-16, [1.91677076e-18, 1.91677076e-18], [1.92052914e-17, 1.87542865e-17], False),\n",
       "        (2.98538262e+07, 1.48490179e-16, [1.54084102e-18, 1.54084102e-18], [1.31641418e-17, 1.28291763e-17], False),\n",
       "        (3.34965439e+07, 1.05772106e-16, [1.22400687e-18, 1.22400687e-18], [9.13527081e-18, 9.25468612e-18], False),\n",
       "        (3.75837404e+07, 7.59903077e-17, [9.84468272e-19, 9.84468272e-19], [6.30591839e-18, 5.98663138e-18], False),\n",
       "        (4.21696503e+07, 5.53715760e-17, [7.82553323e-19, 7.82553323e-19], [4.86131610e-18, 5.07473973e-18], False),\n",
       "        (4.73151259e+07, 4.06846640e-17, [6.34046712e-19, 6.34046712e-19], [4.22697808e-18, 3.17023356e-18], False),\n",
       "        (5.30884444e+07, 2.69173455e-17, [4.89748763e-19, 4.89748763e-19], [2.44874382e-18, 2.58059925e-18], False),\n",
       "        (5.95662144e+07, 1.92390940e-17, [3.86124924e-19, 3.86124924e-19], [1.41019538e-18, 1.67880402e-18], False),\n",
       "        (6.68343918e+07, 1.47199664e-17, [3.23186902e-19, 3.23186902e-19], [1.39598787e-18, 1.08776332e-18], False),\n",
       "        (7.49894209e+07, 1.01947713e-17, [2.54702594e-19, 2.54702594e-19], [8.60121324e-19, 1.21483802e-18], False),\n",
       "        (8.41395142e+07, 7.37822183e-18, [2.04422383e-19, 2.04422383e-19], [7.03593319e-19, 5.28883491e-19], False),\n",
       "        (9.44060876e+07, 5.09077340e-18, [1.59947313e-19, 1.59947313e-19], [3.92983132e-19, 4.40649550e-19], False),\n",
       "        (1.12201845e+08, 3.15502832e-18, [8.19950863e-20, 8.19950863e-20], [2.72722787e-19, 2.91439057e-19], False),\n",
       "        (1.41253754e+08, 1.63110709e-18, [5.23879880e-20, 5.23879880e-20], [1.79110283e-19, 1.42297103e-19], False),\n",
       "        (1.77827941e+08, 6.78745980e-19, [3.03664316e-20, 3.03664316e-20], [5.51094499e-20, 7.25420309e-20], False),\n",
       "        (2.23872114e+08, 3.30501190e-19, [1.88500476e-20, 1.88500476e-20], [3.24292288e-20, 2.82304030e-20], False),\n",
       "        (2.81838293e+08, 1.71871606e-19, [1.21346179e-20, 1.21346179e-20], [1.55053451e-20, 1.44409049e-20], False),\n",
       "        (3.54813389e+08, 6.31599615e-20, [6.53864840e-21, 6.53864840e-21], [7.97602370e-21, 6.36954542e-21], False),\n",
       "        (4.46683592e+08, 3.29092007e-20, [4.20879574e-21, 4.20879574e-21], [2.79840142e-21, 3.89537478e-21], False),\n",
       "        (5.62341325e+08, 1.67140482e-20, [2.67631051e-21, 2.67631051e-21], [3.54944570e-21, 4.43325057e-21], False),\n",
       "        (7.07945784e+08, 7.48927406e-21, [1.59616743e-21, 1.59616743e-21], [8.41872377e-22, 6.11628757e-22], False),\n",
       "        (8.91250938e+08, 5.13772250e-21, [1.17924140e-21, 1.17924140e-21], [4.39831234e-22, 5.13884452e-22], False),\n",
       "        (1.12201845e+09, 1.07395738e-21, [4.80384256e-22, 4.80384256e-22], [2.22812735e-22, 4.27800450e-22], False)],\n",
       "       dtype=[('energy', '<f8'), ('flux', '<f8'), ('stat', '<f8', (2,)), ('sys', '<f8', (2,)), ('uplim', '?')]),\n",
       " 'GAMMA': array([(1.35e+06, 1.20e-12, [1.5e-13, 1.5e-13], [0., 0.], False),\n",
       "        (1.65e+06, 7.04e-13, [6.7e-14, 6.7e-14], [0., 0.], False),\n",
       "        (2.01e+06, 4.09e-13, [3.1e-14, 3.1e-14], [0., 0.], False),\n",
       "        (2.46e+06, 2.29e-13, [1.4e-14, 1.4e-14], [0., 0.], False),\n",
       "        (3.00e+06, 1.33e-13, [7.0e-15, 7.0e-15], [0., 0.], False),\n",
       "        (3.67e+06, 7.58e-14, [2.8e-15, 2.8e-15], [0., 0.], False),\n",
       "        (4.48e+06, 4.36e-14, [5.6e-15, 5.6e-15], [0., 0.], False),\n",
       "        (5.47e+06, 2.49e-14, [3.0e-15, 3.0e-15], [0., 0.], False),\n",
       "        (6.69e+06, 1.36e-14, [1.5e-15, 1.5e-15], [0., 0.], False),\n",
       "        (8.17e+06, 7.43e-15, [7.6e-16, 7.6e-16], [0., 0.], False),\n",
       "        (9.97e+06, 3.96e-15, [3.7e-16, 3.7e-16], [0., 0.], False),\n",
       "        (1.22e+07, 2.15e-15, [2.1e-16, 2.1e-16], [0., 0.], False),\n",
       "        (1.49e+07, 1.14e-15, [1.0e-16, 1.0e-16], [0., 0.], False),\n",
       "        (1.82e+07, 6.15e-16, [5.3e-17, 5.3e-17], [0., 0.], False),\n",
       "        (2.22e+07, 3.51e-16, [2.9e-17, 2.9e-17], [0., 0.], False),\n",
       "        (2.71e+07, 1.92e-16, [1.5e-17, 1.5e-17], [0., 0.], False),\n",
       "        (3.31e+07, 1.09e-16, [9.0e-18, 9.0e-18], [0., 0.], False),\n",
       "        (4.04e+07, 5.51e-17, [4.4e-18, 4.4e-18], [0., 0.], False),\n",
       "        (4.94e+07, 3.07e-17, [2.7e-18, 2.7e-18], [0., 0.], False),\n",
       "        (6.03e+07, 1.98e-17, [1.9e-18, 1.9e-18], [0., 0.], False),\n",
       "        (9.00e+07, 6.61e-18, [4.5e-19, 4.5e-19], [0., 0.], False),\n",
       "        (1.48e+08, 1.24e-18, [1.8e-19, 1.8e-19], [0., 0.], False),\n",
       "        (2.21e+08, 2.76e-19, [6.6e-20, 6.6e-20], [0., 0.], False)],\n",
       "       dtype=[('energy', '<f8'), ('flux', '<f8'), ('stat', '<f8', (2,)), ('sys', '<f8', (2,)), ('uplim', '?')]),\n",
       " 'KASCADE-Grande': array([(1.11e+07, 2.46e-15, [2.00e-17, 2.00e-17], [3.20e-16, 2.70e-16], False),\n",
       "        (1.41e+07, 1.16e-15, [1.00e-17, 1.00e-17], [1.30e-16, 1.30e-16], False),\n",
       "        (1.78e+07, 5.49e-16, [3.00e-18, 3.00e-18], [4.00e-17, 4.30e-17], False),\n",
       "        (2.24e+07, 2.76e-16, [2.00e-18, 2.00e-18], [1.90e-17, 2.20e-17], False),\n",
       "        (2.82e+07, 1.40e-16, [1.00e-18, 1.00e-18], [8.00e-18, 8.00e-18], False),\n",
       "        (3.55e+07, 7.13e-17, [7.00e-19, 7.00e-19], [5.00e-18, 5.00e-18], False),\n",
       "        (4.47e+07, 3.69e-17, [4.00e-19, 4.00e-19], [3.80e-18, 3.80e-18], False),\n",
       "        (5.62e+07, 1.89e-17, [3.00e-19, 3.00e-19], [2.30e-18, 2.30e-18], False),\n",
       "        (7.08e+07, 9.52e-18, [1.70e-19, 1.70e-19], [1.24e-18, 1.24e-18], False),\n",
       "        (8.91e+07, 4.67e-18, [1.10e-19, 1.10e-19], [5.80e-19, 5.80e-19], False),\n",
       "        (1.12e+08, 2.19e-18, [7.00e-20, 7.00e-20], [2.80e-19, 2.80e-19], False),\n",
       "        (1.41e+08, 1.05e-18, [4.00e-20, 4.00e-20], [1.60e-19, 1.60e-19], False),\n",
       "        (1.78e+08, 5.41e-19, [2.60e-20, 2.60e-20], [1.10e-19, 1.10e-19], False),\n",
       "        (2.24e+08, 2.64e-19, [1.60e-20, 1.60e-20], [6.10e-20, 6.10e-20], False),\n",
       "        (2.82e+08, 1.12e-19, [1.00e-20, 1.00e-20], [2.80e-20, 2.80e-20], False),\n",
       "        (3.55e+08, 5.66e-20, [5.90e-21, 5.90e-21], [1.34e-20, 1.34e-20], False),\n",
       "        (5.01e+08, 2.47e-20, [2.30e-21, 2.30e-21], [6.10e-21, 6.10e-21], False),\n",
       "        (7.94e+08, 4.26e-21, [7.50e-22, 7.50e-22], [1.11e-21, 1.11e-21], False),\n",
       "        (1.41e+09, 3.90e-22, [1.36e-22, 1.36e-22], [9.60e-23, 9.60e-23], False)],\n",
       "       dtype=[('energy', '<f8'), ('flux', '<f8'), ('stat', '<f8', (2,)), ('sys', '<f8', (2,)), ('uplim', '?')]),\n",
       " 'HiRes-I': array([(3.54813389e+09, 3.96e-23, [1.670e-24, 1.740e-24], [0., 0.], False),\n",
       "        (4.46683592e+09, 1.70e-23, [8.700e-25, 9.100e-25], [0., 0.], False),\n",
       "        (5.62341325e+09, 8.67e-24, [4.920e-25, 5.200e-25], [0., 0.], False),\n",
       "        (7.07945784e+09, 4.89e-24, [2.990e-25, 3.170e-25], [0., 0.], False),\n",
       "        (8.91250938e+09, 2.11e-24, [1.600e-25, 1.730e-25], [0., 0.], False),\n",
       "        (1.12201845e+10, 1.26e-24, [1.020e-25, 1.110e-25], [0., 0.], False),\n",
       "        (1.41253754e+10, 6.67e-25, [6.160e-26, 6.730e-26], [0., 0.], False),\n",
       "        (1.77827941e+10, 4.35e-25, [4.150e-26, 4.590e-26], [0., 0.], False),\n",
       "        (2.23872114e+10, 1.84e-25, [2.260e-26, 2.580e-26], [0., 0.], False),\n",
       "        (2.81838293e+10, 8.14e-26, [1.282e-26, 1.506e-26], [0., 0.], False),\n",
       "        (3.54813389e+10, 4.73e-26, [8.280e-27, 9.900e-27], [0., 0.], False),\n",
       "        (4.46683592e+10, 1.95e-26, [4.550e-27, 5.740e-27], [0., 0.], False),\n",
       "        (5.62341325e+10, 1.44e-26, [3.360e-27, 4.240e-27], [0., 0.], False),\n",
       "        (7.07945784e+10, 4.17e-27, [1.550e-27, 2.260e-27], [0., 0.], False),\n",
       "        (8.91250938e+10, 8.90e-28, [5.800e-28, 1.160e-27], [0., 0.], False),\n",
       "        (1.12201845e+11, 1.01e-27, [5.400e-28, 9.800e-28], [0., 0.], False),\n",
       "        (1.41253754e+11, 2.60e-28, [2.100e-28, 5.800e-28], [0., 0.], False),\n",
       "        (1.99526231e+11, 0.00e+00, [0.000e+00, 4.000e-29], [0., 0.],  True),\n",
       "        (3.16227766e+11, 0.00e+00, [0.000e+00, 2.000e-29], [0., 0.],  True)],\n",
       "       dtype=[('energy', '<f8'), ('flux', '<f8'), ('stat', '<f8', (2,)), ('sys', '<f8', (2,)), ('uplim', '?')]),\n",
       " 'HiRes-II': array([(1.77827941e+08, 6.467e-19, [1.382e-19, 1.705e-19], [0., 0.], False),\n",
       "        (2.23872114e+08, 2.616e-19, [3.150e-20, 3.530e-20], [0., 0.], False),\n",
       "        (2.81838293e+08, 1.283e-19, [9.500e-21, 1.020e-20], [0., 0.], False),\n",
       "        (3.54813389e+08, 6.250e-20, [3.260e-21, 3.430e-21], [0., 0.], False),\n",
       "        (4.46683592e+08, 3.079e-20, [1.270e-21, 1.330e-21], [0., 0.], False),\n",
       "        (5.62341325e+08, 1.487e-20, [5.400e-22, 5.600e-22], [0., 0.], False),\n",
       "        (7.07945784e+08, 6.754e-21, [2.370e-22, 2.450e-22], [0., 0.], False),\n",
       "        (8.91250938e+08, 3.165e-21, [1.160e-22, 1.210e-22], [0., 0.], False),\n",
       "        (1.12201845e+09, 1.560e-21, [6.000e-23, 6.200e-23], [0., 0.], False),\n",
       "        (1.41253754e+09, 7.026e-22, [3.010e-23, 3.140e-23], [0., 0.], False),\n",
       "        (1.77827941e+09, 3.555e-22, [1.640e-23, 1.710e-23], [0., 0.], False),\n",
       "        (2.23872114e+09, 1.552e-22, [8.400e-24, 8.900e-24], [0., 0.], False),\n",
       "        (2.81838293e+09, 7.171e-23, [4.520e-24, 4.810e-24], [0., 0.], False),\n",
       "        (3.54813389e+09, 3.536e-23, [2.530e-24, 2.730e-24], [0., 0.], False),\n",
       "        (4.46683592e+09, 1.662e-23, [1.410e-24, 1.530e-24], [0., 0.], False),\n",
       "        (5.62341325e+09, 1.058e-23, [9.220e-25, 1.000e-24], [0., 0.], False),\n",
       "        (7.07945784e+09, 4.432e-24, [4.920e-25, 5.470e-25], [0., 0.], False),\n",
       "        (8.91250938e+09, 2.813e-24, [3.270e-25, 3.650e-25], [0., 0.], False),\n",
       "        (1.25892541e+10, 1.016e-24, [1.061e-25, 1.180e-25], [0., 0.], False),\n",
       "        (1.99526231e+10, 3.097e-25, [4.270e-26, 4.850e-26], [0., 0.], False),\n",
       "        (3.16227766e+10, 7.634e-26, [1.559e-26, 1.908e-26], [0., 0.], False),\n",
       "        (5.01187234e+10, 1.964e-26, [5.890e-27, 7.860e-27], [0., 0.], False),\n",
       "        (7.94328235e+10, 1.030e-27, [8.200e-28, 2.360e-27], [0., 0.], False),\n",
       "        (1.25892541e+11, 0.000e+00, [0.000e+00, 3.000e-28], [0., 0.],  True),\n",
       "        (1.99526231e+11, 0.000e+00, [0.000e+00, 1.800e-28], [0., 0.],  True)],\n",
       "       dtype=[('energy', '<f8'), ('flux', '<f8'), ('stat', '<f8', (2,)), ('sys', '<f8', (2,)), ('uplim', '?')]),\n",
       " 'Auger': array([(3.54813389e+08, 5.66494969e-20, [3.04385357e-22, 3.04385357e-22], [0., 0.], False),\n",
       "        (4.46683592e+08, 2.66407815e-20, [1.86261599e-22, 1.86261599e-22], [0., 0.], False),\n",
       "        (5.62341325e+08, 1.23768247e-20, [1.13098570e-22, 1.13098570e-22], [0., 0.], False),\n",
       "        (7.07945784e+08, 5.81965468e-21, [6.92143397e-23, 6.92143397e-23], [0., 0.], False),\n",
       "        (8.91250938e+08, 2.70406447e-21, [4.21878939e-23, 4.21878939e-23], [0., 0.], False),\n",
       "        (1.12201845e+09, 1.20318877e-21, [2.12117723e-23, 2.12117723e-23], [0., 0.], False),\n",
       "        (1.41253754e+09, 5.65648682e-22, [1.15395163e-23, 1.15395163e-23], [0., 0.], False),\n",
       "        (1.77827941e+09, 2.82857687e-22, [6.46692524e-24, 6.46692524e-24], [0., 0.], False),\n",
       "        (2.23872114e+09, 1.22837988e-22, [3.21612186e-24, 3.21612186e-24], [0., 0.], False),\n",
       "        (2.81838293e+09, 6.20923431e-23, [2.31338330e-25, 2.31338330e-25], [0., 0.], False),\n",
       "        (3.54813389e+09, 2.84656676e-23, [1.38664440e-25, 1.38664440e-25], [0., 0.], False),\n",
       "        (4.46683592e+09, 1.35442629e-23, [7.61165187e-26, 7.61165187e-26], [0., 0.], False),\n",
       "        (5.62341325e+09, 6.79302735e-24, [4.81913720e-26, 4.81913720e-26], [0., 0.], False),\n",
       "        (7.07945784e+09, 3.77147524e-24, [3.23471098e-26, 3.23471098e-26], [0., 0.], False),\n",
       "        (8.91250938e+09, 2.10939469e-24, [2.16549562e-26, 2.16549562e-26], [0., 0.], False),\n",
       "        (1.12201845e+10, 1.16753873e-24, [1.44382652e-26, 1.44382652e-26], [0., 0.], False),\n",
       "        (1.41253754e+10, 6.30779694e-25, [9.41567893e-27, 9.41567893e-27], [0., 0.], False),\n",
       "        (1.77827941e+10, 3.13786459e-25, [5.90458391e-27, 5.90458391e-27], [0., 0.], False),\n",
       "        (2.23872114e+10, 1.63932878e-25, [3.78787686e-27, 3.78787686e-27], [0., 0.], False),\n",
       "        (2.81838293e+10, 7.77041322e-26, [2.32757583e-27, 2.32757583e-27], [0., 0.], False),\n",
       "        (3.54813389e+10, 4.00210376e-26, [1.49374295e-27, 1.49374295e-27], [0., 0.], False),\n",
       "        (4.46683592e+10, 1.70142807e-26, [8.86533571e-28, 8.86533571e-28], [0., 0.], False),\n",
       "        (5.62341325e+10, 5.86832205e-27, [4.44569853e-28, 4.44569853e-28], [0., 0.], False),\n",
       "        (7.07945784e+10, 2.10468094e-27, [2.41543920e-28, 2.41543920e-28], [0., 0.], False),\n",
       "        (8.91250938e+10, 4.99298212e-28, [1.18933956e-28, 1.18933956e-28], [0., 0.], False),\n",
       "        (1.12201845e+11, 2.07661469e-28, [6.24766908e-29, 6.24766908e-29], [0., 0.], False),\n",
       "        (1.41253754e+11, 6.83875628e-29, [2.86010097e-29, 4.79279296e-29], [0., 0.], False)],\n",
       "       dtype=[('energy', '<f8'), ('flux', '<f8'), ('stat', '<f8', (2,)), ('sys', '<f8', (2,)), ('uplim', '?')]),\n",
       " 'TA SD': array([(1.77827941e+09, 3.434e-22, [6.8000e-24, 6.8000e-24], [0., 0.], False),\n",
       "        (2.23872114e+09, 1.625e-22, [2.7000e-24, 2.7000e-24], [0., 0.], False),\n",
       "        (2.81838293e+09, 7.378e-23, [1.2400e-24, 1.2400e-24], [0., 0.], False),\n",
       "        (3.54813389e+09, 3.508e-23, [6.3000e-25, 6.3000e-25], [0., 0.], False),\n",
       "        (4.46683592e+09, 1.724e-23, [3.4000e-25, 3.4000e-25], [0., 0.], False),\n",
       "        (5.62341325e+09, 8.445e-24, [1.9400e-25, 1.9400e-25], [0., 0.], False),\n",
       "        (7.07945784e+09, 4.636e-24, [1.1800e-25, 1.1800e-25], [0., 0.], False),\n",
       "        (8.91250938e+09, 2.468e-24, [7.3000e-26, 7.2000e-26], [0., 0.], False),\n",
       "        (1.12201845e+10, 1.376e-24, [5.0000e-26, 5.0000e-26], [0., 0.], False),\n",
       "        (1.41253754e+10, 7.481e-25, [3.3800e-26, 3.3800e-26], [0., 0.], False),\n",
       "        (1.77827941e+10, 4.136e-25, [2.0100e-26, 2.0100e-26], [0., 0.], False),\n",
       "        (2.23872114e+10, 2.111e-25, [1.2600e-26, 1.2600e-26], [0., 0.], False),\n",
       "        (2.81838293e+10, 9.884e-26, [7.6900e-27, 7.6600e-27], [0., 0.], False),\n",
       "        (3.54813389e+10, 5.634e-26, [5.1600e-27, 5.1500e-27], [0., 0.], False),\n",
       "        (4.46683592e+10, 2.720e-26, [3.3000e-27, 3.3000e-27], [0., 0.], False),\n",
       "        (5.62341325e+10, 1.827e-26, [2.4300e-27, 2.4200e-27], [0., 0.], False),\n",
       "        (7.07945784e+10, 7.745e-27, [1.3100e-27, 1.3110e-27], [0., 0.], False),\n",
       "        (8.91250938e+10, 2.475e-27, [7.0900e-28, 8.2000e-28], [0., 0.], False),\n",
       "        (1.12201845e+11, 1.568e-27, [5.0600e-28, 5.9800e-28], [0., 0.], False),\n",
       "        (1.41253754e+11, 1.233e-28, [7.7780e-29, 2.1590e-28], [0., 0.], False),\n",
       "        (1.77827941e+11, 1.931e-28, [1.2166e-28, 2.1730e-28], [0., 0.], False),\n",
       "        (2.23872114e+11, 0.000e+00, [0.0000e+00, 9.8950e-29], [0., 0.],  True)],\n",
       "       dtype=[('energy', '<f8'), ('flux', '<f8'), ('stat', '<f8', (2,)), ('sys', '<f8', (2,)), ('uplim', '?')])}"
      ]
     },
     "execution_count": 32,
     "metadata": {},
     "output_type": "execute_result"
    }
   ],
   "source": [
    "data"
   ]
  },
  {
   "cell_type": "markdown",
   "id": "9c92b3d5-137b-403e-b18a-2c2b69c86fcc",
   "metadata": {
    "tags": []
   },
   "source": [
    "And finally plot the all-particle spectrum!"
   ]
  },
  {
   "cell_type": "code",
   "execution_count": 40,
   "id": "d66655c7-eea8-4958-9b6b-4e3731232490",
   "metadata": {},
   "outputs": [],
   "source": [
    "# Since I want to do the same plot multiple times,\n",
    "# I can have a simple function that makes it easier.\n",
    "\n",
    "# We can give hint to the user about what the type of the\n",
    "# arguments in our functions should .\n",
    "\n",
    "def nice_plots(ax, spectral_index, xlim: tuple, ylim: tuple, title=\"\"):\n",
    "    \n",
    "    # Let's set the axis labels\n",
    "    ax.set_xlabel(\"E [GeV]\", labelpad=10)\n",
    "    if spectral_index != 0.:\n",
    "        ax.set_ylabel(\n",
    "            f\"$E^{{{spectral_index}}}$\" + \n",
    "            \"$\\Phi$ [GeV$^{{-1}}\\,$m$^{{-2}}\\,$sr$^{{-1}}\\,$s$^{{-1}}$]\"\n",
    "        )\n",
    "    else:\n",
    "        ax.set_ylabel(r\"$\\Phi$ [GeV$^{-1}\\,$m$^{-2}\\,$sr$^{-1}\\,$s$^{-1}$]\")\n",
    "        \n",
    "    ax.set_title(str(title))\n",
    "\n",
    "    # How do you show errorbars for each of the datasets in one plot?\n",
    "    for i,experiment in enumerate(data.keys()):\n",
    "        ax.errorbar(\n",
    "            data[experiment]['energy'],\n",
    "            data[experiment]['flux'] * data[experiment]['energy']**spectral_index,\n",
    "            yerr=numpy.sqrt(data[experiment]['stat']**2 + data[experiment]['sys']**2).T * data[experiment]['energy']**spectral_index,\n",
    "            fmt=marker, color=color[i], label=experiment, alpha=.9-(i%3)/3)\n",
    "\n",
    "    # This makes it nicer,\n",
    "    # but you can try to comment this out.\n",
    "    ax.loglog(nonpositive=\"clip\")\n",
    "    ax.set_xlim(xlim)\n",
    "    ax.set_ylim(ylim)"
   ]
  },
  {
   "cell_type": "code",
   "execution_count": 42,
   "id": "0064bdf8-7a6f-41bf-b575-7d83c3aa6f35",
   "metadata": {},
   "outputs": [
    {
     "data": {
      "image/png": "[encoded data removed]",
      "text/plain": [
       "<Figure size 576x468 with 1 Axes>"
      ]
     },
     "metadata": {
      "needs_background": "light"
     },
     "output_type": "display_data"
    }
   ],
   "source": [
    "fig, ax = pyplot.subplots(figsize=(8,6.5))\n",
    "\n",
    "spectral_index = 0\n",
    "xlim = (1, 1e12)\n",
    "ylim = (1e-30, 1e4)\n",
    "\n",
    "# We can have our function doing a nice plot for us now :)\n",
    "nice_plots(ax, spectral_index, xlim, ylim, title=\"All-particle spectrum\")\n",
    "\n",
    "# And add a nice legend:\n",
    "handles, labels = ax.get_legend_handles_labels()\n",
    "legend = ax.legend(handles[:2], labels[:2],\n",
    "                   frameon=False, loc=\"upper right\",\n",
    "                   title=\"Protons:\", fontsize=14)\n",
    "ax.add_artist(legend)\n",
    "legend = ax.legend(handles[2:], labels[2:],\n",
    "                   frameon=False, loc=\"lower left\",\n",
    "                   title=\"All-particle:\", fontsize=14)"
   ]
  },
  {
   "cell_type": "markdown",
   "id": "f3716558-03f7-4717-940e-6e02f214c390",
   "metadata": {
    "tags": []
   },
   "source": [
    "#### Let's have a closer look to the knee and the ankle:"
   ]
  },
  {
   "cell_type": "code",
   "execution_count": null,
   "id": "a39332d6-c717-4b0a-9d44-4ec05a273a1c",
   "metadata": {
    "tags": []
   },
   "outputs": [],
   "source": [
    "# ..."
   ]
  },
  {
   "cell_type": "code",
   "execution_count": null,
   "id": "ba1dcb0a-4e95-49bd-8623-8a6ccc399c70",
   "metadata": {
    "tags": []
   },
   "outputs": [],
   "source": [
    "# ..."
   ]
  },
  {
   "cell_type": "markdown",
   "id": "d2e1c0e0-ffbd-4787-89d5-ac7bed637295",
   "metadata": {},
   "source": [
    "### Let's try first to fit something simple.\n",
    "We can try to take Tibet-III data, which cover the energy region around the knee, and try to fit two power laws and the knee energy."
   ]
  },
  {
   "cell_type": "code",
   "execution_count": null,
   "id": "8f8fd4a5-f271-4d59-95bf-50760e231936",
   "metadata": {},
   "outputs": [],
   "source": [
    "from scipy.optimize import curve_fit"
   ]
  },
  {
   "cell_type": "code",
   "execution_count": null,
   "id": "d9a4f743-f2c8-4c23-9148-302f8e45013a",
   "metadata": {},
   "outputs": [],
   "source": [
    "# Let's take Tibet data, which cover the knee region of the spectrum.\n",
    "experiment = \"Tibet-III (QGSJet-01c, HD)\"\n",
    "exp_energies = data[experiment][\"energy\"]\n",
    "exp_fluxes = data[experiment][\"flux\"]"
   ]
  },
  {
   "cell_type": "code",
   "execution_count": null,
   "id": "7d177ced-7b31-45da-b56b-57e5962a4dfb",
   "metadata": {},
   "outputs": [],
   "source": [
    "# In general linear functions are more stable than exponentials.\n",
    "# We can take advantage of the log-log scale and fit straight lines\n",
    "# instead of power laws.\n",
    "# How would you write it?\n",
    "\n",
    "def fit_func(E, a, b):\n",
    "    y = ...\n",
    "    return y"
   ]
  },
  {
   "cell_type": "code",
   "execution_count": null,
   "id": "b298544f-6840-486f-a385-4357eb46adc6",
   "metadata": {},
   "outputs": [],
   "source": [
    "# Function to calculate the residuals between\n",
    "# the total fitted flux and the experimental data.\n",
    "\n",
    "def residuals(y, flux):\n",
    "    residuals = numpy.sum((flux - y) ** 2)\n",
    "    return residuals"
   ]
  },
  {
   "cell_type": "code",
   "execution_count": null,
   "id": "1b282cfb-9b9b-4bbe-970f-fefde3ed6adc",
   "metadata": {},
   "outputs": [],
   "source": [
    "# I start initializing some empty containers for the ft results.\n",
    "\n",
    "res = []\n",
    "break_energy = []\n",
    "param_low, param_high = [], []\n",
    "\n",
    "spectral_index = 2.5\n",
    "\n",
    "# To find the knee position I fit the 2 straight lines using \n",
    "# different energies as breaking energies.\n",
    "# Then I compute the residuals between the fitted flux and\n",
    "# the data for each set of fit parameters.\n",
    "# Finally, I pick as the knee energy the one for which\n",
    "# the residuals are minimal.\n",
    "for i,ene in enumerate(numpy.log10(exp_energies[4:-4])):\n",
    "    \n",
    "    # Let's start with the low energy part (below the knee).\n",
    "    popt_low, pcov = curve_fit(\n",
    "        ...\n",
    "    )\n",
    "    \n",
    "    # Then another straight line for the spectrum above the knee.\n",
    "    popt_high, pcov = curve_fit(\n",
    "        ...\n",
    "    )\n",
    "    \n",
    "    # Now we can use our function to compute the best fit fluxes\n",
    "    # in both energy ranges. \n",
    "    flux_low = fit_func(\n",
    "        numpy.log10(exp_energies[numpy.log10(exp_energies)<ene]),\n",
    "        *popt_low\n",
    "    )\n",
    "    flux_high = fit_func(\n",
    "        numpy.log10(exp_energies[numpy.log10(exp_energies)>=ene]),\n",
    "        *popt_high\n",
    "    )\n",
    "    # And finally the total flux:\n",
    "    total_flux = numpy.concatenate([flux_low, flux_high])\n",
    "    \n",
    "    # Let's compute the residuals and store all our results.\n",
    "    res.append(residuals(\n",
    "        ...\n",
    "              )\n",
    "    param_low.append(popt_low)\n",
    "    param_high.append(popt_high)\n",
    "    break_energy.append(ene)\n",
    "\n",
    "res = numpy.asarray(res)\n",
    "# How do you find all the fit parameters corresponding\n",
    "# to the minimum of the residuals?\n",
    "idx_best_fit = ...\n",
    "knee_energy = ...\n",
    "\n",
    "print(\n",
    "    \"The energy of the knee is \" +\n",
    "    f\"{10**(knee_energy+9):.2e} eV\"\n",
    ")\n",
    "print(\n",
    "    \"The spectral index of the spectrum below the knee is \" +\n",
    "    f\"{param_low[idx_best_fit][1]-spectral_index:.1f}\"\n",
    ")\n",
    "print(\n",
    "    \"The spectral index of the spectrum above the knee is \" + \n",
    "    f\"{param_high[idx_best_fit][1]-spectral_index:.1f}\"\n",
    ")"
   ]
  },
  {
   "cell_type": "code",
   "execution_count": null,
   "id": "f6aed9df-e89e-4221-bc90-518beb79f6c8",
   "metadata": {},
   "outputs": [],
   "source": [
    "fig, ax = pyplot.subplots(figsize=(8,6.5))\n",
    "\n",
    "spectral_index = 2.5\n",
    "ax.set_xlabel(\"E [GeV]\")\n",
    "ax.set_ylabel(\n",
    "    f\"$E^{{{spectral_index}}}$\" + \n",
    "    f\"$\\Phi$ [GeV$^{{{-1+spectral_index}}}\\,$m$^{{-2}}\\,$sr$^{{-1}}\\,$s$^{{-1}}$]\"\n",
    ")\n",
    "\n",
    "energy = numpy.logspace(4., 9., 1001)\n",
    "\n",
    "ax.plot(\n",
    "    ...\n",
    ")\n",
    "ax.plot(\n",
    "    ...\n",
    ")\n",
    "\n",
    "experiment = \"Tibet-III (QGSJet-01c, HD)\"\n",
    "ax.errorbar(\n",
    "    data[experiment][\"energy\"],\n",
    "    data[experiment][\"flux\"]*data[experiment][\"energy\"]**spectral_index,\n",
    "    numpy.sqrt(\n",
    "        data[experiment][\"stat\"]**2+data[experiment][\"sys\"]**2\n",
    "    ).T * data[experiment][\"energy\"]**spectral_index,\n",
    "    fmt=marker, color=color[3], label=experiment, alpha=1)\n",
    "\n",
    "ax.loglog(nonpositive=\"clip\")\n",
    "ax.set_xlim(1e5, 2e8)\n",
    "ax.set_ylim(1e2, 1e4)\n",
    "\n",
    "ax.legend(frameon=False, loc=\"lower left\", fontsize=18)"
   ]
  },
  {
   "cell_type": "markdown",
   "id": "c73f4b45-3d01-435b-880a-bcb505ea2425",
   "metadata": {},
   "source": [
    "### Lisa told you about the H4a model today. Let's see how well it reproduces the data."
   ]
  },
  {
   "cell_type": "code",
   "execution_count": null,
   "id": "6a2bfea3-a3a3-42d7-b6f4-8bf6e3fe1a49",
   "metadata": {},
   "outputs": [],
   "source": [
    "class Flux(object):\n",
    "    r\"\"\"Flux component of H4a model\n",
    "    \n",
    "    Flux parametrization:\n",
    "    \n",
    "    .. math::\n",
    "    \n",
    "        \\Phi = p_{1} \\times E^{-p_{2} - 1} \\times \\exp(-E / p_{3} / R_{c})\n",
    "        \n",
    "    Attributes\n",
    "    ----------\n",
    "    params : tuple(float)\n",
    "        The three parameters :math:`p_{1}, p_{2}, p_{3}`\n",
    "    cutoff : float\n",
    "        Rigidity cutoff :math:`R_{c}` \n",
    "    \n",
    "    \"\"\"\n",
    "    def __init__(self, params, cutoff):\n",
    "        self.params = params\n",
    "        self.cutoff = cutoff\n",
    "    \n",
    "    # __call__ is a built-in method in python that allows to use the\n",
    "    # instance as if it was a function\n",
    "    #\n",
    "    def __call__(self, energy):\n",
    "        r\"\"\"Calculate the differential flux at the given `energy`.\n",
    "        \n",
    "        Parameters\n",
    "        ----------\n",
    "        energy : array_like\n",
    "            Energy in GeV\n",
    "            \n",
    "        Returns\n",
    "        -------\n",
    "        array_like\n",
    "            Differential flux in m^2 per GeV, s, and sr\n",
    "        \n",
    "        \"\"\"\n",
    "        flux = (\n",
    "            self.params[0] *\n",
    "            numpy.power(energy, -self.params[1] - 1.) *\n",
    "            numpy.exp(-energy / self.params[2] / self.cutoff)\n",
    "            )\n",
    "            \n",
    "        return flux"
   ]
  },
  {
   "cell_type": "code",
   "execution_count": null,
   "id": "37d9caf8-bca5-4311-87f6-890bbddee8a8",
   "metadata": {},
   "outputs": [],
   "source": [
    "class TotalFlux(object):\n",
    "    r\"\"\"H4a model\n",
    "    \n",
    "    Total all-particle primary cosmic-ray flux predicted by the H4a model.\n",
    "    \n",
    "    Attributes\n",
    "    ----------\n",
    "    components : list(Flux)\n",
    "        Flux components; the model consists of three populations of cosmic\n",
    "        rays; the first two have a five component mass composition; the\n",
    "        third population consits of protons only.\n",
    "    \n",
    "    \"\"\"\n",
    "    def __init__(self, components):\n",
    "        self.components = components\n",
    "      \n",
    "    def __call__(self, energy):\n",
    "        r\"\"\"Calculate the differential flux at the given `energy`.\n",
    "        \n",
    "        Parameters\n",
    "        ----------\n",
    "        energy : array_like\n",
    "            Energy in GeV\n",
    "            \n",
    "        Returns\n",
    "        -------\n",
    "        array_like\n",
    "            Differential flux in m^2 per GeV, s, and sr\n",
    "        \n",
    "        \"\"\"\n",
    "        return sum(c(energy)  for c in self.components)"
   ]
  },
  {
   "cell_type": "code",
   "execution_count": null,
   "id": "78310807-2f7d-499e-b1c8-1e3e8c81851c",
   "metadata": {},
   "outputs": [],
   "source": [
    "components = {}\n",
    "\n",
    "# The following values are the ones from \n",
    "# https://www.sciencedirect.com/science/article/pii/S0927650512000497?via%3Dihub"
   ]
  },
  {
   "cell_type": "code",
   "execution_count": null,
   "id": "d5fb2b46-b05d-40c7-b984-b57c04a3dd60",
   "metadata": {},
   "outputs": [],
   "source": [
    "components[\"H\"] = [\n",
    "    Flux(params=(7860., 1.66, 1.), cutoff=4e6),\n",
    "    Flux(params=(20., 1.4, 1.), cutoff=3e7),\n",
    "    Flux(params=(200., 1.6, 1.), cutoff=6e10)\n",
    "    ]"
   ]
  },
  {
   "cell_type": "code",
   "execution_count": null,
   "id": "02e95bc0-06c7-4a67-a91a-51f7e2c8491b",
   "metadata": {},
   "outputs": [],
   "source": [
    "components[\"He\"] = [\n",
    "    Flux(params=(3550., 1.58, 2.), cutoff=4e6),\n",
    "    Flux(params=(20., 1.4, 2.), cutoff=3e7)\n",
    "    ]"
   ]
  },
  {
   "cell_type": "code",
   "execution_count": null,
   "id": "f27adb0b-7c1d-48fa-9ff8-d7cc3172e7a0",
   "metadata": {},
   "outputs": [],
   "source": [
    "components[\"CNO\"] = [\n",
    "    Flux(params=(2200., 1.63, 6.), cutoff=4e6),\n",
    "    Flux(params=(13.4, 1.4, 6.), cutoff=3e7)\n",
    "    ]"
   ]
  },
  {
   "cell_type": "code",
   "execution_count": null,
   "id": "38830177-ff55-4247-b007-3b4e78046cd3",
   "metadata": {},
   "outputs": [],
   "source": [
    "components[\"MgAlSi\"] = [\n",
    "    Flux(params=(1430., 1.67, 14.), cutoff=4e6),\n",
    "    Flux(params=(13.4, 1.4, 14.), cutoff=3e7)\n",
    "    ]"
   ]
  },
  {
   "cell_type": "code",
   "execution_count": null,
   "id": "60ce7b41-4c73-4ef4-8f19-7e7c8c814085",
   "metadata": {},
   "outputs": [],
   "source": [
    "components[\"Fe\"] = [\n",
    "    Flux(params=(2120., 1.63, 26.), cutoff=4e6),\n",
    "    Flux(params=(13.4, 1.4, 26.), cutoff=3e7)\n",
    "    ]"
   ]
  },
  {
   "cell_type": "code",
   "execution_count": null,
   "id": "40fc9680-a5bc-404b-8c8f-d7a4a8f0be0b",
   "metadata": {},
   "outputs": [],
   "source": [
    "h4a = TotalFlux(\n",
    "    components=[c for k in components for c in components[k]])"
   ]
  },
  {
   "cell_type": "code",
   "execution_count": null,
   "id": "60c00715-952c-4202-a123-659b67ace242",
   "metadata": {},
   "outputs": [],
   "source": [
    "# A useful way of building equally spaced sequences of numbers.\n",
    "# In this case on a log scale.\n",
    "energy = numpy.logspace(4., 12., 1001)\n",
    "\n",
    "# h4a is a TotalFlux object, which has a __call__ method\n",
    "# we can use now to compute the flux in our energy range.\n",
    "flux = h4a(energy)"
   ]
  },
  {
   "cell_type": "code",
   "execution_count": null,
   "id": "3facabb8-50b5-472f-8a83-1d091a8d5d7c",
   "metadata": {},
   "outputs": [],
   "source": [
    "fig, ax = pyplot.subplots(figsize=(8,6.5))\n",
    "\n",
    "spectral_index = 0\n",
    "xlim = (1, 1e12)\n",
    "ylim = (1e-30, 1e4)\n",
    "\n",
    "ax.plot(energy, flux * energy**spectral_index, \"-\", color=\"0.15\", label=\"H4a model\", zorder=3)\n",
    "\n",
    "nice_plots(ax, spectral_index, xlim, ylim, title=\"All-particle spectrum\")\n",
    "\n",
    "# A nice legend:\n",
    "handles, labels = ax.get_legend_handles_labels()\n",
    "legend = ax.legend(handles[:1], labels[:1],\n",
    "                   frameon=False, loc=(.55,.9),\n",
    "                   fontsize=16)\n",
    "ax.add_artist(legend)\n",
    "legend = ax.legend(handles[1:3], labels[1:3],\n",
    "                   frameon=False, loc=(.55,.7),\n",
    "                   title=\"Protons:\", fontsize=14)\n",
    "ax.add_artist(legend)\n",
    "legend = ax.legend(handles[3:], labels[3:],\n",
    "                   frameon=False, loc=\"lower left\",\n",
    "                   title=\"All-particle:\", fontsize=14)"
   ]
  },
  {
   "cell_type": "code",
   "execution_count": null,
   "id": "50955fdd-d221-496f-8c09-0435444ca61c",
   "metadata": {},
   "outputs": [],
   "source": [
    "fig, ax = pyplot.subplots(figsize=(8,6.5))\n",
    "\n",
    "spectral_index = 2.5\n",
    "xlim = (3e5, 1e8)\n",
    "ylim = (1e2, 1e4)\n",
    "\n",
    "ax.plot(energy, flux * energy**spectral_index, \"-\", color=\"0.15\", label=\"H4a model\", zorder=3)\n",
    "\n",
    "nice_plots(ax, spectral_index, xlim, ylim, title=\"Knee\")\n",
    "\n",
    "handles, labels = ax.get_legend_handles_labels()\n",
    "legend = ax.legend(handles[:1], labels[:1],\n",
    "                   frameon=False, loc=(.55,.9),\n",
    "                   fontsize=16)\n",
    "ax.add_artist(legend)\n",
    "\n",
    "legend = ax.legend(handles[2:-4], labels[2:-4],\n",
    "          frameon=False, loc=\"lower left\",\n",
    "          fontsize=18)"
   ]
  },
  {
   "cell_type": "code",
   "execution_count": null,
   "id": "d6a0548e-f8f7-47d0-b332-ac20fdb1109d",
   "metadata": {},
   "outputs": [],
   "source": [
    "fig, ax = pyplot.subplots(figsize=(8,6.5))\n",
    "\n",
    "spectral_index = 3.0\n",
    "xlim = (1e8, 1e12)\n",
    "ylim = (1e5, 6e6)\n",
    "\n",
    "ax.plot(energy, flux * energy**spectral_index, \"-\", color=\"0.15\", label=\"H4a model\", zorder=3)\n",
    "\n",
    "nice_plots(ax, spectral_index, xlim, ylim, title=\"Ankle\")\n",
    "\n",
    "handles, labels = ax.get_legend_handles_labels()\n",
    "legend = ax.legend(handles[:1], labels[:1],\n",
    "                   frameon=False, loc=(.55,.9),\n",
    "                   fontsize=16)\n",
    "ax.add_artist(legend)\n",
    "\n",
    "legend = ax.legend(handles[4:], labels[4:],\n",
    "          frameon=False, loc=\"lower left\",\n",
    "          fontsize=18)"
   ]
  },
  {
   "cell_type": "code",
   "execution_count": null,
   "id": "dccc3f68-9c81-4e2d-8168-6ea65864fc57",
   "metadata": {},
   "outputs": [],
   "source": []
  },
  {
   "cell_type": "code",
   "execution_count": null,
   "id": "9e4d54e9-e655-4dce-afe6-2ddaafa04ecf",
   "metadata": {},
   "outputs": [],
   "source": []
  },
  {
   "cell_type": "code",
   "execution_count": null,
   "id": "3e128e78-38c7-42c3-aa46-3f38577ee8fe",
   "metadata": {},
   "outputs": [],
   "source": []
  },
  {
   "cell_type": "code",
   "execution_count": null,
   "id": "fe204aa8-bdd0-4967-8d68-612ae0e83bea",
   "metadata": {},
   "outputs": [],
   "source": []
  },
  {
   "cell_type": "markdown",
   "id": "86847900-c057-43d6-82f5-f3b953acf14e",
   "metadata": {
    "tags": []
   },
   "source": [
    "### If everything was very easy for you so far you can try something sligthly more complicated.\n",
    "Try to fit the function again, but this time using all the measurements you have around t?he knee, not just one dataset.\n",
    "HINT: when looking at different datasets, you may run into more than one flux measurement for the same energy bin. But minimizers will not accept many y-values for the same x-value (because that would break the definition of \"function\".\n",
    "you can try to combine different measurement buy taking the weighted average of different measurement.\n",
    "For simplicity, assume the errors are symmetric and take the largest of the 2 values to be conservative."
   ]
  },
  {
   "cell_type": "code",
   "execution_count": null,
   "id": "cba3d8f2-0ac6-4b02-bb5f-a7287525d3d6",
   "metadata": {},
   "outputs": [],
   "source": []
  }
 ],
 "metadata": {
  "kernelspec": {
   "display_name": "Python 3 (ipykernel)",
   "language": "python",
   "name": "python3"
  },
  "language_info": {
   "codemirror_mode": {
    "name": "ipython",
    "version": 3
   },
   "file_extension": ".py",
   "mimetype": "text/x-python",
   "name": "python",
   "nbconvert_exporter": "python",
   "pygments_lexer": "ipython3",
   "version": "3.9.9"
  }
 },
 "nbformat": 4,
 "nbformat_minor": 5
}
