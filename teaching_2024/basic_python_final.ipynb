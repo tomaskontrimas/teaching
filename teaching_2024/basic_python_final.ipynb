{
 "cells": [
  {
   "cell_type": "code",
   "execution_count": 1,
   "metadata": {
    "slideshow": {
     "slide_type": "skip"
    }
   },
   "outputs": [],
   "source": [
    "%matplotlib notebook"
   ]
  },
  {
   "cell_type": "code",
   "execution_count": 2,
   "metadata": {
    "slideshow": {
     "slide_type": "skip"
    }
   },
   "outputs": [],
   "source": [
    "import matplotlib.pyplot as plt\n",
    "import numpy as np\n",
    "import os"
   ]
  },
  {
   "cell_type": "markdown",
   "metadata": {
    "slideshow": {
     "slide_type": "slide"
    }
   },
   "source": [
    "# Basic Python Programming\n",
    "\n",
    "Tomas Kontrimas\n",
    "\n",
    "Vincent Gousy-Leblanc\n",
    "\n",
    "Basic Python Programming, WS 2024/25\n",
    "With the help of Dr M.Wolf"
   ]
  },
  {
   "cell_type": "markdown",
   "metadata": {
    "slideshow": {
     "slide_type": "slide"
    }
   },
   "source": [
    "# Learning objectives of this course\n",
    "\n",
    "* Running Python on your computer\n",
    "* Basic knowledge of the Python programming language\n",
    "* Understanding the concepts of sequential and functional programming in Python \n",
    "* Some useful software packages for data processing and plotting"
   ]
  },
  {
   "cell_type": "markdown",
   "metadata": {
    "slideshow": {
     "slide_type": "slide"
    }
   },
   "source": [
    "# Technical Prerequisites Of This Course\n",
    "\n",
    "* Computer with Python and Jupyter Notebook support\n",
    "\n",
    "    - Linux, Windows, Mac\n",
    "    \n",
    "* Alternatively, create and use Jupyter notebooks on google: https://colab.research.google.com\n",
    "\n",
    "* *Microsoft Visual Studio Code* is a integrated developer environment (IDE) supporting Python and Jupyter notebooks as well."
   ]
  },
  {
   "cell_type": "markdown",
   "metadata": {
    "slideshow": {
     "slide_type": "slide"
    }
   },
   "source": [
    "# Why do we need to be able to develop software?"
   ]
  },
  {
   "cell_type": "markdown",
   "metadata": {
    "slideshow": {
     "slide_type": "subslide"
    }
   },
   "source": [
    "* For most of our professional time we work with ...\n",
    "\n",
    "    * data taking\n",
    "    * data simulation\n",
    "    * data management\n",
    "    * data selection\n",
    "    * data analysis\n",
    "    * machine learning\n",
    "    \n",
    "* All of the above needs software that is ...\n",
    "\n",
    "    * efficient\n",
    "    * modular\n",
    "    * well maintainable\n",
    "    * scalable\n",
    "    * understandable "
   ]
  },
  {
   "cell_type": "markdown",
   "metadata": {
    "slideshow": {
     "slide_type": "subslide"
    }
   },
   "source": [
    "**Example: Trigger rate of the IceCube Neutrino Detector at South Pole:**\n",
    "\n",
    "![Trigger rate of the Icecube Neutrino Detector at South Pole](https://github.com/martwo/teaching/raw/master/WS_2022_23/advanced_python/figures/icecube_trigger_rate.png)"
   ]
  },
  {
   "cell_type": "markdown",
   "metadata": {
    "slideshow": {
     "slide_type": "slide"
    }
   },
   "source": [
    "# Overview\n"
   ]
  },
  {
   "cell_type": "markdown",
   "metadata": {
    "slideshow": {
     "slide_type": "subslide"
    }
   },
   "source": [
    "## Intro and course setup\n",
    "* Jupyter Notebook and virtual Python environments on your own computer (useful for compatibility of the different libraries)\n",
    "* Jupyter Notebook on Google Colab\n",
    "\n",
    "## The basics of Python\n",
    "### Today (theory and exercices on)\n",
    "* Data types in Python\n",
    "* Python as a calculator\n",
    "* String formatting\n",
    "* Loops and Conditions\n",
    "* List comprehension\n",
    "* Working with files\n",
    "* Functions\n",
    "\n",
    "\n",
    "### Next class\n",
    "* Most common python packages part 1 : numpy and data visualization using matplotlib\n",
    "\n",
    "\n",
    "### Last class \n",
    "* Most common python packages part 2: Panda and scipy\n",
    "* Working with version control systems (git)\n",
    "\n"
   ]
  },
  {
   "cell_type": "markdown",
   "metadata": {
    "slideshow": {
     "slide_type": "subslide"
    }
   },
   "source": [
    "## Advanced basics of Python (next class)\n",
    "* Classes\n",
    "* Properties\n",
    "* Class methods\n",
    "* Static methods\n",
    "* Operator methods\n",
    "* Inheritance\n",
    "* Multiple inheritance\n",
    "* Abstract base classes\n",
    "* Iterator protocol\n",
    "* Context Manager\n",
    "* Generators\n"
   ]
  },
  {
   "cell_type": "markdown",
   "metadata": {},
   "source": [
    "## How to run an 'IPython Notebook' on Google colab \n",
    "\n",
    "* In this tutorial, we will use 'IPython notebooks' (\\*.ipynb). They are an easy and modular way to use Python, somewhere in between Python as a scripting language (executing whole files (\\*.py) of code in one go) and as an interactive language (IPython environment). The code is arranged in 'Cells' that can be executed individually.\n",
    "* To run these notebooks, copy them to your own google drive folder and execute them there. You might need to right-click on the file and then choose 'open with ... colaboratory'. Cells of the notebook can be executed with 'shift + enter'.\n",
    "* To create in general the notebook go to https://colab.research.google.com\n",
    "* To install new packages if needed type `!pip install <package>`"
   ]
  },
  {
   "cell_type": "markdown",
   "metadata": {
    "slideshow": {
     "slide_type": "slide"
    }
   },
   "source": [
    "# Jupyter Notebook and virtual Python environments on your own computer"
   ]
  },
  {
   "cell_type": "markdown",
   "metadata": {
    "slideshow": {
     "slide_type": "subslide"
    }
   },
   "source": [
    "This shows the installation of Jupyter and Python virtual environments on Linux (Ubuntu).\n",
    "\n",
    "First, let's install Jupyter via `apt-get`:\n",
    "\n",
    "```bash\n",
    "sudo apt-get install python3-notebook python3-ipykernel\n",
    "```\n",
    "\n",
    "For this course, I recommend to setup a dedicated virtual Python 3 environment:\n",
    "    \n",
    "```bash\n",
    "sudo apt-get install virtualenvwrapper\n",
    "source /usr/share/virtualenvwrapper/virtualenvwrapper.sh\n",
    "```\n",
    "  \n",
    "The environment is created via:\n",
    "  \n",
    "```bash\n",
    "mkvirtualenv -p /usr/bin/python3 --system-site-packages basic-py3-course\n",
    "pip install -U astropy ipympl matplotlib numpy scipy\n",
    "```\n",
    "\n",
    "The final step is to add the virtual Python environment to Jupyter Notebook:\n",
    "\n",
    "```bash\n",
    "python -m ipykernel install --user \\\n",
    "    --name basic-py3-course --display-name \"Python 3 (basic-py3-course)\"\n",
    "```"
   ]
  },
  {
   "cell_type": "markdown",
   "metadata": {
    "slideshow": {
     "slide_type": "subslide"
    }
   },
   "source": [
    "I further recommend to put the\n",
    "\n",
    "```bash\n",
    "source /usr/share/virtualenvwrapper/virtualenvwrapper.sh\n",
    "```\n",
    "\n",
    "line into your `.profile` and launch a new terminal window.\n",
    "\n",
    "You can start a Jupyter Notebook via:\n",
    "\n",
    "```bash\n",
    "jupyter notebook\n",
    "```\n",
    "\n",
    "and create a new `basic-py3-course` notebook.\n",
    "\n",
    "For executing Python scripts, you can activate the `basic-py3-course` environment via:\n",
    "\n",
    "```bash\n",
    "workon basic-py3-course\n",
    "```\n",
    "\n",
    "and deactivate it via:\n",
    "\n",
    "```bash\n",
    "deactivate\n",
    "```"
   ]
  },
  {
   "cell_type": "markdown",
   "metadata": {
    "slideshow": {
     "slide_type": "slide"
    }
   },
   "source": [
    "# The basics of Python"
   ]
  },
  {
   "cell_type": "markdown",
   "metadata": {
    "slideshow": {
     "slide_type": "subslide"
    }
   },
   "source": [
    "\n",
    "\n",
    "\n",
    "Python is a high-level, general-purpose programming language. Its design philosophy emphasizes code readability with the use of significant indentation. Its language constructs and object-oriented approach aim to help programmers write clear, logical code for small- and large-scale projects.\n",
    "\n",
    "Python is dynamically-typed and garbage-collected. It supports multiple programming paradigms, including structured (particularly procedural), object-oriented and functional programming. It is often described as a \"batteries included\" language due to its comprehensive standard library. [https://en.wikipedia.org/wiki/Python_(programming_language)]\n",
    "\n",
    "The latest major version of Python is **Python3**. Don't use Python2 anymore!\n",
    "\n",
    "See also https://book.pythontips.com/en/latest\n",
    "\n",
    "and www.pythonlikeyoumeanit.com\n",
    "## Lots of tutorials!\n",
    "\n",
    "https://www.w3schools.com/python/"
   ]
  },
  {
   "cell_type": "code",
   "execution_count": 1,
   "metadata": {},
   "outputs": [
    {
     "name": "stdout",
     "output_type": "stream",
     "text": [
      "Hello world!\n"
     ]
    }
   ],
   "source": [
    "def say_something(text):\n",
    "    print(text)\n",
    "\n",
    "say_something('Hello world!')"
   ]
  },
  {
   "cell_type": "code",
   "execution_count": 5,
   "metadata": {
    "slideshow": {
     "slide_type": "subslide"
    }
   },
   "outputs": [],
   "source": [
    "# Comments start with '#'."
   ]
  },
  {
   "cell_type": "code",
   "execution_count": 2,
   "metadata": {
    "slideshow": {
     "slide_type": "fragment"
    }
   },
   "outputs": [],
   "source": [
    "# Import modules.\n",
    "import os\n",
    "\n",
    "import matplotlib.pyplot\n",
    "import numpy as np"
   ]
  },
  {
   "cell_type": "code",
   "execution_count": 7,
   "metadata": {
    "slideshow": {
     "slide_type": "fragment"
    }
   },
   "outputs": [],
   "source": [
    "# Import only specific functions from a module.\n",
    "from scipy import interpolate, stats"
   ]
  },
  {
   "cell_type": "code",
   "execution_count": 8,
   "metadata": {
    "slideshow": {
     "slide_type": "fragment"
    }
   },
   "outputs": [],
   "source": [
    "# Remember: never ever do 'from foo import *'"
   ]
  },
  {
   "cell_type": "code",
   "execution_count": 9,
   "metadata": {
    "slideshow": {
     "slide_type": "fragment"
    }
   },
   "outputs": [],
   "source": [
    "# Declare a variable.\n",
    "a = 5.\n",
    "a = \"Hello World!\""
   ]
  },
  {
   "cell_type": "code",
   "execution_count": null,
   "metadata": {},
   "outputs": [],
   "source": []
  },
  {
   "cell_type": "markdown",
   "metadata": {
    "slideshow": {
     "slide_type": "slide"
    }
   },
   "source": [
    "## Data types and operators"
   ]
  },
  {
   "cell_type": "markdown",
   "metadata": {
    "slideshow": {
     "slide_type": "subslide"
    }
   },
   "source": [
    "* Numeric types:  \n",
    "  `int, float, complex`\n",
    "* Sequence types:  \n",
    "  `str, unicode, list, tuple, bytearray, buffer`\n",
    "* Set types:  \n",
    "  `set, frozenset`\n",
    "* Map types:  \n",
    "  `dict`\n",
    "* Boolean types:\n",
    "  `bool`\n",
    "* The None type object: `None`\n",
    "* Mutable data types like `list` and `dict` are copied by reference.\n",
    "* Immutable data types like `int` and `float` are copied by value.\n",
    "* Full list:  \n",
    "  <https://docs.python.org/3.7/library/stdtypes.html#>"
   ]
  },
  {
   "cell_type": "code",
   "execution_count": 3,
   "metadata": {},
   "outputs": [
    {
     "name": "stdout",
     "output_type": "stream",
     "text": [
      "5 <class 'int'>\n",
      "2.3 <class 'float'>\n",
      "-0.011 <class 'float'>\n",
      "-0.05499999999999999 <class 'float'>\n",
      "4.989 <class 'float'>\n",
      "4.4 <class 'float'>\n",
      "1.1363636363636362 <class 'float'>\n",
      "2 <class 'int'>\n",
      "1 <class 'int'>\n"
     ]
    }
   ],
   "source": [
    "# numbers\n",
    "a = 5 # integer\n",
    "b = 2.3 # floating point number (float)\n",
    "c = -1.1E-2 # also a float, but in scientific notation\n",
    "print(a, type(a))\n",
    "print(b, type(b))\n",
    "print(c, type(c))\n",
    "\n",
    "# type casting\n",
    "d = a * c\n",
    "print(d, type(d)) # be aware of machine precision when using floats!\n",
    "\n",
    "# addition\n",
    "d = a + c\n",
    "print(d, type(d))\n",
    "# addition in-place\n",
    "b += 2.1\n",
    "print(b, type(b)) \n",
    "\n",
    "d = a / b # normal division\n",
    "print(d, type(d))\n",
    "\n",
    "# integer speciality\n",
    "d = a // 2 # integer division\n",
    "print(d, type(d))\n",
    "\n",
    "d = a % 2 # remainder of integer division (modulo)\n",
    "print(d, type(d))"
   ]
  },
  {
   "cell_type": "code",
   "execution_count": 4,
   "metadata": {},
   "outputs": [
    {
     "name": "stdout",
     "output_type": "stream",
     "text": [
      "alice bob\n",
      "alicebob alice-bob\n",
      "ali ce li\n",
      "alice is 28.23 years old\n",
      "alice is 28 years old\n",
      "alice is 2.823e+01 years old\n"
     ]
    }
   ],
   "source": [
    "# strings\n",
    "a = \"alice\"\n",
    "b = \"bob\"\n",
    "print(a, b)\n",
    "\n",
    "# add\n",
    "print(a + b, \"-\".join([a, b]))\n",
    "\n",
    "# slicing\n",
    "print(a[:3], a[3:], a[1:3])\n",
    "\n",
    "# formatting\n",
    "age = 28.2345609\n",
    "print(a, \"is {:1.2f} years old\".format(age))\n",
    "print(a, \"is {:1.0f} years old\".format(age))\n",
    "print(a, f\"is {age:1.3e} years old\")"
   ]
  },
  {
   "cell_type": "code",
   "execution_count": 5,
   "metadata": {},
   "outputs": [
    {
     "name": "stdout",
     "output_type": "stream",
     "text": [
      "True False\n",
      "<class 'bool'> <class 'bool'>\n"
     ]
    }
   ],
   "source": [
    "# bools \n",
    "a = True\n",
    "b = False\n",
    "print(a, b)\n",
    "print(type(a), type(b))"
   ]
  },
  {
   "cell_type": "markdown",
   "metadata": {},
   "source": [
    "## Sequences"
   ]
  },
  {
   "cell_type": "markdown",
   "metadata": {},
   "source": [
    "### lists - mutable"
   ]
  },
  {
   "cell_type": "code",
   "execution_count": 6,
   "metadata": {},
   "outputs": [
    {
     "name": "stdout",
     "output_type": "stream",
     "text": [
      "[1, 2.3, -1000.0] [-2.2, 3, 0.1, 'c']\n",
      "[1, 2.3, -1000.0, -2.2, 3, 0.1, 'c']\n",
      "1\n",
      "-1000.0\n",
      "neu\n",
      "['neu', -2.2, 3]\n",
      "7\n",
      "[0, 1, 2]\n",
      "[1, 2.3, 'neu', -2.2, 3, 0.1, 'c', 1]\n",
      "[1, 2.3, 'neu', -2.2, 3, 0.1, 'c', 1, [2, 'blob']]\n",
      "[1, 2.3, 'neu', -2.2, 3, 0.1, 'c', 1, [2, 'blob'], 'a', 'c']\n",
      "0.1\n",
      "[1, 2.3, 'neu', -2.2, 3, 'c', 1, [2, 'blob'], 'a', 'c']\n"
     ]
    }
   ],
   "source": [
    "# lists\n",
    "a = [1, 2.3, -1E3]\n",
    "b = [-2.2, 3, 0.1, \"c\"]\n",
    "print(a, b)\n",
    "\n",
    "# add\n",
    "c = a + b\n",
    "print(c)\n",
    "\n",
    "# accessing items\n",
    "print(c[0])\n",
    "\n",
    "# re-setting items\n",
    "print(c[2])\n",
    "c[2] = \"neu\"\n",
    "print(c[2])\n",
    "\n",
    "# slicing\n",
    "print(c[2:5])\n",
    "\n",
    "# length\n",
    "print(len(c))\n",
    "\n",
    "# range\n",
    "print(list(range(3)))\n",
    "\n",
    "# append & extend\n",
    "c.append(1)\n",
    "print(c)\n",
    "c.append([2, \"blob\"])\n",
    "print(c)\n",
    "c.extend([\"a\", \"c\"])\n",
    "print(c)\n",
    "\n",
    "# removing ('popping') an item using its index\n",
    "new = c.pop(5)\n",
    "print(new)\n",
    "print(c)\n"
   ]
  },
  {
   "cell_type": "code",
   "execution_count": 3,
   "metadata": {},
   "outputs": [
    {
     "name": "stdout",
     "output_type": "stream",
     "text": [
      "'int' object is not iterable\n",
      "...but I was able to do it another way!\n",
      "['uu', 3.2, 2]\n"
     ]
    }
   ],
   "source": [
    "# catching exceptions\n",
    "a = 2\n",
    "b = [\"uu\", 3.2]\n",
    "\n",
    "try:\n",
    "    b.extend(a)\n",
    "except TypeError as e:\n",
    "    b.append(a)\n",
    "    print(e)\n",
    "    print(\"...but I was able to do it another way!\")\n",
    "print(b)"
   ]
  },
  {
   "cell_type": "markdown",
   "metadata": {},
   "source": [
    "### tuples and strings - immutable"
   ]
  },
  {
   "cell_type": "code",
   "execution_count": 7,
   "metadata": {},
   "outputs": [
    {
     "name": "stdout",
     "output_type": "stream",
     "text": [
      "2.3\n"
     ]
    },
    {
     "ename": "TypeError",
     "evalue": "'tuple' object does not support item assignment",
     "output_type": "error",
     "traceback": [
      "\u001b[0;31m---------------------------------------------------------------------------\u001b[0m",
      "\u001b[0;31mTypeError\u001b[0m                                 Traceback (most recent call last)",
      "Input \u001b[0;32mIn [7]\u001b[0m, in \u001b[0;36m<cell line: 3>\u001b[0;34m()\u001b[0m\n\u001b[1;32m      1\u001b[0m a \u001b[38;5;241m=\u001b[39m (\u001b[38;5;241m1\u001b[39m, \u001b[38;5;241m2\u001b[39m, \u001b[38;5;241m2.3\u001b[39m, \u001b[38;5;124m\"\u001b[39m\u001b[38;5;124mtest\u001b[39m\u001b[38;5;124m\"\u001b[39m)\n\u001b[1;32m      2\u001b[0m \u001b[38;5;28mprint\u001b[39m(a[\u001b[38;5;241m2\u001b[39m])\n\u001b[0;32m----> 3\u001b[0m a[\u001b[38;5;241m2\u001b[39m] \u001b[38;5;241m=\u001b[39m \u001b[38;5;124m\"\u001b[39m\u001b[38;5;124mnew\u001b[39m\u001b[38;5;124m\"\u001b[39m\n",
      "\u001b[0;31mTypeError\u001b[0m: 'tuple' object does not support item assignment"
     ]
    }
   ],
   "source": [
    "a = (1, 2, 2.3, \"test\")\n",
    "print(a[2])\n",
    "a[2] = \"new\""
   ]
  },
  {
   "cell_type": "markdown",
   "metadata": {},
   "source": [
    "s = \"This is a string\"\n",
    "print(s[3:8])\n",
    "s[2] = \"x\""
   ]
  },
  {
   "cell_type": "markdown",
   "metadata": {},
   "source": [
    "### dictionaries - mutable mapping"
   ]
  },
  {
   "cell_type": "code",
   "execution_count": 7,
   "metadata": {},
   "outputs": [
    {
     "name": "stdout",
     "output_type": "stream",
     "text": [
      "{'a': 27, 'key': 2.22, 2: 'int as key'}\n",
      "27 int as key\n",
      "dict_keys(['a', 'key', 2])\n",
      "dict_values([27, 2.22, 'int as key'])\n",
      "{'a': 27, 'key': 2.22, 2: 'int as key', 'new key': (1, 2, 3), 'test': 'test'}\n",
      "27\n",
      "{'key': 2.22, 2: 'int as key', 'new key': (1, 2, 3), 'test': 'test'}\n",
      "2.22\n",
      "{'key': 2.22, 2: 'int as key', 'new key': (1, 2, 3), 'test': 'test'}\n",
      "default value\n"
     ]
    }
   ],
   "source": [
    "# dictionaries consist of a key and value pair\n",
    "a = {\"a\": 27, \"key\": 2.22, 2: \"int as key\"}\n",
    "print(a)\n",
    "print(a[\"a\"], a[2])\n",
    "print(a.keys())\n",
    "print(a.values())\n",
    "\n",
    "# append a new dict\n",
    "a.update({\"new key\": (1, 2, 3), \"test\": \"test\"})\n",
    "print(a)\n",
    "\n",
    "# pop & get\n",
    "b = a.pop(\"a\")\n",
    "print(b) # b contains the value\n",
    "print(a) # key & value are removed from a\n",
    "\n",
    "b = a.get(\"key\")\n",
    "print(b) # b contains value\n",
    "print(a) # key & value are still there\n",
    "\n",
    "b = a.get(\"a\", \"default value\") # \"a\" is already gone??\n",
    "print(b) # ... so the default value appears\n"
   ]
  },
  {
   "cell_type": "code",
   "execution_count": 8,
   "metadata": {},
   "outputs": [
    {
     "ename": "KeyError",
     "evalue": "'a'",
     "output_type": "error",
     "traceback": [
      "\u001b[0;31m---------------------------------------------------------------------------\u001b[0m",
      "\u001b[0;31mKeyError\u001b[0m                                  Traceback (most recent call last)",
      "Input \u001b[0;32mIn [8]\u001b[0m, in \u001b[0;36m<cell line: 1>\u001b[0;34m()\u001b[0m\n\u001b[0;32m----> 1\u001b[0m \u001b[43ma\u001b[49m\u001b[43m[\u001b[49m\u001b[38;5;124;43m\"\u001b[39;49m\u001b[38;5;124;43ma\u001b[39;49m\u001b[38;5;124;43m\"\u001b[39;49m\u001b[43m]\u001b[49m\n",
      "\u001b[0;31mKeyError\u001b[0m: 'a'"
     ]
    }
   ],
   "source": [
    "a[\"a\"] # doesn't work anymore"
   ]
  },
  {
   "cell_type": "code",
   "execution_count": 9,
   "metadata": {},
   "outputs": [
    {
     "ename": "KeyError",
     "evalue": "'2'",
     "output_type": "error",
     "traceback": [
      "\u001b[0;31m---------------------------------------------------------------------------\u001b[0m",
      "\u001b[0;31mKeyError\u001b[0m                                  Traceback (most recent call last)",
      "Input \u001b[0;32mIn [9]\u001b[0m, in \u001b[0;36m<cell line: 1>\u001b[0;34m()\u001b[0m\n\u001b[0;32m----> 1\u001b[0m \u001b[38;5;28mprint\u001b[39m(\u001b[43ma\u001b[49m\u001b[43m[\u001b[49m\u001b[38;5;124;43m\"\u001b[39;49m\u001b[38;5;124;43m2\u001b[39;49m\u001b[38;5;124;43m\"\u001b[39;49m\u001b[43m]\u001b[49m)\n",
      "\u001b[0;31mKeyError\u001b[0m: '2'"
     ]
    }
   ],
   "source": [
    "print(a[\"2\"]) # use the right type"
   ]
  },
  {
   "cell_type": "markdown",
   "metadata": {},
   "source": [
    "## mutable vs. immutable"
   ]
  },
  {
   "cell_type": "code",
   "execution_count": 8,
   "metadata": {},
   "outputs": [
    {
     "name": "stdout",
     "output_type": "stream",
     "text": [
      "[2, 4, 5] 140333105539520\n",
      "[2, 4, 5, 7] [2, 4, 5, 7]\n",
      "True\n",
      "True\n",
      "[2, 4, 7] [2, 4, 7]\n"
     ]
    }
   ],
   "source": [
    "a = [2, 4, 5] # list - mutable\n",
    "print(a, id(a))\n",
    "id_a = id(a)\n",
    "\n",
    "b = a\n",
    "a.append(7)\n",
    "print(a, b)\n",
    "print(id(a) == id(b)) # they are the same object!\n",
    "print(id(a) == id_a) # a is still the same object!\n",
    "\n",
    "b.pop(2)\n",
    "print(a, b)"
   ]
  },
  {
   "cell_type": "code",
   "execution_count": 9,
   "metadata": {},
   "outputs": [
    {
     "name": "stdout",
     "output_type": "stream",
     "text": [
      "(2, 4, 5) 140333372855424\n",
      "True\n",
      "(2, 4, 5, 1) False\n",
      "(2, 4, 5) False\n"
     ]
    }
   ],
   "source": [
    "a = (2, 4, 5) # tuple - immutable\n",
    "print(a, id(a))\n",
    "id_a = id(a)\n",
    "b = a\n",
    "print(id(a) == id(b)) # they are the same object\n",
    "a += (1, )\n",
    "print(a, id(a) == id_a) # we've created a new object here\n",
    "print(b, id(a) == id(b)) # they are not! the same object anymore"
   ]
  },
  {
   "cell_type": "markdown",
   "metadata": {},
   "source": [
    "## Operators"
   ]
  },
  {
   "cell_type": "code",
   "execution_count": 11,
   "metadata": {},
   "outputs": [
    {
     "name": "stdout",
     "output_type": "stream",
     "text": [
      "-3\n",
      "False\n",
      "True\n",
      "False\n",
      "True\n",
      "False\n"
     ]
    }
   ],
   "source": [
    "# operators\n",
    "a = 3\n",
    "b = 4\n",
    "# unary - negative\n",
    "print(-a)\n",
    "\n",
    "# relational\n",
    "print(a==b) # equal\n",
    "print(a!=b) # not equal\n",
    "print(a>b) # greater than\n",
    "print(a<b) # lesser than\n",
    "print(a>=b) # greater or equal than"
   ]
  },
  {
   "cell_type": "code",
   "execution_count": 10,
   "metadata": {},
   "outputs": [
    {
     "name": "stdout",
     "output_type": "stream",
     "text": [
      "False\n",
      "False\n",
      "True\n",
      "True\n"
     ]
    }
   ],
   "source": [
    "# logic\n",
    "a = 3\n",
    "b = 4\n",
    "# logical and\n",
    "print((a==b) & (a>=b))\n",
    "print((a==b) and (a>=b))\n",
    "\n",
    "# logical or\n",
    "print((a>b) | (a!=b))\n",
    "print((a>b) or (a!=b))"
   ]
  },
  {
   "cell_type": "code",
   "execution_count": 13,
   "metadata": {},
   "outputs": [
    {
     "name": "stdout",
     "output_type": "stream",
     "text": [
      "7\n",
      "-1\n",
      "1.3333333333333333\n",
      "1\n",
      "3\n",
      "12\n",
      "64\n"
     ]
    }
   ],
   "source": [
    "# math\n",
    "print(a+b)\n",
    "print(a-b)\n",
    "print(b/a)\n",
    "print(b//a) # floor division\n",
    "print(a%b) # modulo\n",
    "print(a*b)\n",
    "print(b**a) # power"
   ]
  },
  {
   "cell_type": "code",
   "execution_count": 16,
   "metadata": {
    "slideshow": {
     "slide_type": "fragment"
    }
   },
   "outputs": [
    {
     "name": "stdout",
     "output_type": "stream",
     "text": [
      "exp(2.5)   = 12.182493960703473\n",
      "sin(pi/2.) = 1.0\n"
     ]
    }
   ],
   "source": [
    "# Call mathematical functions like sin, exp, log, ...\n",
    "# Instead of NumPy, you can also use the 'math' module.\n",
    "print(\"exp(2.5)   =\", np.exp(2.5))\n",
    "print(\"sin(pi/2.) =\", np.sin(np.pi/2.))"
   ]
  },
  {
   "cell_type": "markdown",
   "metadata": {
    "slideshow": {
     "slide_type": "slide"
    }
   },
   "source": [
    "## String formatting"
   ]
  },
  {
   "cell_type": "markdown",
   "metadata": {
    "slideshow": {
     "slide_type": "subslide"
    }
   },
   "source": [
    "General form:\n",
    "\n",
    "```\n",
    "[fill][align][sign][#][0][width][,][.precision][type]\n",
    "```\n",
    "\n",
    "See:  \n",
    "<https://docs.python.org/3/library/string.html#format-string-syntax>"
   ]
  },
  {
   "cell_type": "code",
   "execution_count": 15,
   "metadata": {
    "slideshow": {
     "slide_type": "fragment"
    }
   },
   "outputs": [
    {
     "name": "stdout",
     "output_type": "stream",
     "text": [
      "     +3.14\n",
      "0000000003\n"
     ]
    }
   ],
   "source": [
    "# Some examples\n",
    "import numpy as np\n",
    "print(\"{:>+10.2f}\".format(np.pi))\n",
    "print(\"{:010d}\".format(3))"
   ]
  },
  {
   "cell_type": "code",
   "execution_count": 16,
   "metadata": {
    "slideshow": {
     "slide_type": "fragment"
    }
   },
   "outputs": [
    {
     "name": "stdout",
     "output_type": "stream",
     "text": [
      "0, 1, 2, 3\n",
      "4\n"
     ]
    }
   ],
   "source": [
    "# Some more examples\n",
    "s = \"{0}, {1[0]}, {1[1]}, {2[a]}\"\n",
    "print(s.format(0, [1, 2], {\"a\": 3}))\n",
    "print(\"{key}\".format(key=4))"
   ]
  },
  {
   "cell_type": "markdown",
   "metadata": {
    "slideshow": {
     "slide_type": "subslide"
    }
   },
   "source": [
    "F-string (formatted string literal) introduced in Python 3.6 supports the same string formatting form as `.format()`.\n",
    "They can embed Python expressions directly inside them using `f\"string example {expression:format}\"` syntax."
   ]
  },
  {
   "cell_type": "code",
   "execution_count": 17,
   "metadata": {
    "slideshow": {
     "slide_type": "fragment"
    }
   },
   "outputs": [
    {
     "name": "stdout",
     "output_type": "stream",
     "text": [
      "a = 10.5\n",
      "a = 10\n",
      "Evaluate some code: 25.00\n",
      "Evaluate some more code: 3\n"
     ]
    }
   ],
   "source": [
    "# f-string examples\n",
    "a = 10.5\n",
    "print(f\"a = {a}\")\n",
    "print(f\"a = {a:.0f}\")\n",
    "print(f\"Evaluate some code: {5*5:.2f}\")\n",
    "print(f\"Evaluate some more code: {np.sqrt(9):.0f}\")"
   ]
  },
  {
   "cell_type": "markdown",
   "metadata": {
    "slideshow": {
     "slide_type": "slide"
    }
   },
   "source": [
    "## Loops and Conditions\n",
    "Conditional blocks, loops, functions, and classes are structured by indentations (usually 'tab' or 4 spaces). Most code editors do that themselves. In general, code after a ':' needs to be indented."
   ]
  },
  {
   "cell_type": "code",
   "execution_count": 11,
   "metadata": {
    "slideshow": {
     "slide_type": "subslide"
    }
   },
   "outputs": [
    {
     "name": "stdout",
     "output_type": "stream",
     "text": [
      "a is smaller than b\n",
      "a is equal to b\n"
     ]
    }
   ],
   "source": [
    "a = 3\n",
    "b = 4\n",
    "if a<b:\n",
    "    print(\"a is smaller than b\")\n",
    "elif a==b:\n",
    "    print(\"a is equal to b\")\n",
    "else:\n",
    "    print(\"a is larger than b\")\n",
    "\n",
    "a = 3\n",
    "b = 3.0\n",
    "\n",
    "if a<b:\n",
    "    if a==2:\n",
    "        print(\"a is smaller than b\")\n",
    "else: \n",
    "    print(\"a is equal to b\")\n",
    "elif a==3:\n",
    "    print(\"a is larger than b\")"
   ]
  },
  {
   "cell_type": "code",
   "execution_count": 19,
   "metadata": {
    "slideshow": {
     "slide_type": "fragment"
    }
   },
   "outputs": [
    {
     "name": "stdout",
     "output_type": "stream",
     "text": [
      "There is an 'e' in Hello!\n",
      "There is an 'ell' in Hello!\n"
     ]
    }
   ],
   "source": [
    "s = \"Hello!\"\n",
    "sub_s = \"ell\"\n",
    "if \"e\" in s:\n",
    "    print(f\"There is an 'e' in {s}\")\n",
    "\n",
    "if sub_s in s:\n",
    "    print(f\"There is an '{sub_s}' in {s}\")\n",
    "    "
   ]
  },
  {
   "cell_type": "markdown",
   "metadata": {},
   "source": [
    "# while loop"
   ]
  },
  {
   "cell_type": "code",
   "execution_count": 20,
   "metadata": {},
   "outputs": [
    {
     "name": "stdout",
     "output_type": "stream",
     "text": [
      "3 is smaller than 5\n",
      "4 is smaller than 5\n",
      "5 is equal to 5\n",
      "8 is larger than 5\n",
      "13.6 is larger than 5\n",
      "23.119999999999997 is larger than 5\n"
     ]
    }
   ],
   "source": [
    "a = 3\n",
    "b = 5\n",
    "# make sure to actually increase a\n",
    "# otherwise you'll get an endless loop\n",
    "while a < 25:\n",
    "    if a<b:\n",
    "        print(f\"{a} is smaller than {b}\")\n",
    "        a += 1\n",
    "        continue\n",
    "        a+=2\n",
    "    elif a==b:\n",
    "        print(f\"{a} is equal to {b}\")\n",
    "        a += 3\n",
    "    else:\n",
    "        print(f\"{a} is larger than {b}\")\n",
    "        a *= 1.7"
   ]
  },
  {
   "cell_type": "markdown",
   "metadata": {},
   "source": [
    "# for loop\n"
   ]
  },
  {
   "cell_type": "code",
   "execution_count": 22,
   "metadata": {},
   "outputs": [
    {
     "name": "stdout",
     "output_type": "stream",
     "text": [
      "2\n",
      "2\n",
      "4\n",
      "6\n",
      "5\n",
      "11\n",
      "final result: 11\n"
     ]
    }
   ],
   "source": [
    "sum = 0\n",
    "for num in [2, 4, 5]:\n",
    "    print(num)\n",
    "    sum += num\n",
    "    print(sum)\n",
    "print(\"final result:\", sum)"
   ]
  },
  {
   "cell_type": "code",
   "execution_count": 23,
   "metadata": {},
   "outputs": [
    {
     "name": "stdout",
     "output_type": "stream",
     "text": [
      "in the 0th iteration, the sum is 2\n",
      "in the 1th iteration, the sum is 6\n",
      "in the 2th iteration, the sum is 11\n"
     ]
    }
   ],
   "source": [
    "sum = 0\n",
    "for index, num in enumerate([2, 4, 5]):\n",
    "    sum += num\n",
    "    print(f\"in the {index}th iteration, the sum is\", sum)"
   ]
  },
  {
   "cell_type": "code",
   "execution_count": null,
   "metadata": {},
   "outputs": [],
   "source": [
    "dct = {\"a\": 2, \"bc\": 2.8, \"test\": -0.1}\n",
    "for key in dct: # iterate over dict keys\n",
    "    print(key, dct[key])"
   ]
  },
  {
   "cell_type": "markdown",
   "metadata": {
    "slideshow": {
     "slide_type": "fragment"
    }
   },
   "source": [
    "* You can break out of a loop via `break`.\n",
    "* Iterations can be skipped via `continue`.\n",
    "* Remember that Python does not really know about scopes."
   ]
  },
  {
   "cell_type": "code",
   "execution_count": 24,
   "metadata": {
    "slideshow": {
     "slide_type": "fragment"
    }
   },
   "outputs": [],
   "source": [
    "for i in range(0,10):\n",
    "    if i == 0:\n",
    "        break\n",
    "else:\n",
    "    print('No 0 found!')"
   ]
  },
  {
   "cell_type": "markdown",
   "metadata": {
    "slideshow": {
     "slide_type": "subslide"
    }
   },
   "source": [
    "## List comprehension"
   ]
  },
  {
   "cell_type": "markdown",
   "metadata": {
    "slideshow": {
     "slide_type": "subslide"
    }
   },
   "source": [
    "An easy way to create iterables from existing ones."
   ]
  },
  {
   "cell_type": "code",
   "execution_count": 28,
   "metadata": {
    "slideshow": {
     "slide_type": "fragment"
    }
   },
   "outputs": [
    {
     "name": "stdout",
     "output_type": "stream",
     "text": [
      "[0, 1, 4, 9, 16, 25, 36, 49, 64, 81]\n",
      "[3.3333333333333335, 2.5, 2.0, 1.6666666666666667, 1.4285714285714286, 1.25, 1.1111111111111112]\n"
     ]
    }
   ],
   "source": [
    "# List comprehension examples\n",
    "l = [i**2 for i in range(10)]\n",
    "print(l)\n",
    "l = [10. / i for i in range(10) if i > 2]\n",
    "print(l)"
   ]
  },
  {
   "cell_type": "code",
   "execution_count": 23,
   "metadata": {
    "slideshow": {
     "slide_type": "fragment"
    }
   },
   "outputs": [],
   "source": [
    "# The same works for dictionaries.\n",
    "d = {\"a\": 2., \"b\": 3.}\n",
    "d = {k: v**2 for k, v in d.items()}"
   ]
  },
  {
   "cell_type": "markdown",
   "metadata": {
    "slideshow": {
     "slide_type": "slide"
    }
   },
   "source": [
    "## Working with files"
   ]
  },
  {
   "cell_type": "code",
   "execution_count": 12,
   "metadata": {
    "slideshow": {
     "slide_type": "subslide"
    }
   },
   "outputs": [],
   "source": [
    "# Create a text file and give it some input.\n",
    "with open(\"example.txt\", \"w\") as stream:\n",
    "    stream.write(\"This is a line.\\n\")\n",
    "    stream.write(\"This is another line.\")"
   ]
  },
  {
   "cell_type": "code",
   "execution_count": 13,
   "metadata": {
    "slideshow": {
     "slide_type": "fragment"
    }
   },
   "outputs": [
    {
     "name": "stdout",
     "output_type": "stream",
     "text": [
      "This is a line.\n",
      "This is another line.\n"
     ]
    }
   ],
   "source": [
    "# Read the content of the text file.\n",
    "with open(\"example.txt\", \"r\") as stream:\n",
    "    lines = stream.readlines()\n",
    "\n",
    "print(\"\".join(lines))"
   ]
  },
  {
   "cell_type": "code",
   "execution_count": 14,
   "metadata": {
    "slideshow": {
     "slide_type": "skip"
    }
   },
   "outputs": [],
   "source": [
    "os.remove(\"example.txt\")"
   ]
  },
  {
   "cell_type": "markdown",
   "metadata": {
    "slideshow": {
     "slide_type": "slide"
    }
   },
   "source": [
    "## Functions"
   ]
  },
  {
   "cell_type": "code",
   "execution_count": 15,
   "metadata": {},
   "outputs": [],
   "source": [
    "# Basic definition\n",
    "def func(*args, **kwargs):\n",
    "    print(f'args: {args}')\n",
    "    print(f'kwargs: {kwargs}')\n",
    "    \n",
    "def name_of_the_function(\n",
    "    parameter_1, # mandatory parameter\n",
    "    parameter_2, # mandatory parameter\n",
    "    default_1=3, # optional parameter\n",
    "    default_2=\"test\", # optional parameter\n",
    "):\n",
    "    \"\"\" Explain here what your function does. \n",
    "    This is called a 'doc string'. With three quotes,\n",
    "    it can run over multiple lines and it is not executed. \n",
    "\n",
    "    This code calculates the quotient of parameter_1 & 2, times\n",
    "    parameter default_1. In addition, it prints default_2.\n",
    "    \n",
    "    Parameters:\n",
    "    -----------\n",
    "    parameter_1 : number\n",
    "        numerator of the division\n",
    "    parameter_2 : number\n",
    "        denomination of the division\n",
    "\n",
    "    Optional Parameters:\n",
    "    --------------------\n",
    "    default_1: int\n",
    "        default: 3, factor of the multiplication\n",
    "    default_2: str\n",
    "        default: 'test', Your favorite word to print in addition to the result\n",
    "\n",
    "    Returns:\n",
    "    --------\n",
    "    default_2 * default_1: str\n",
    "        Your favorite word repeated 'default_1' times\n",
    "    calculation: number\n",
    "        Result of the calculation\n",
    "    \"\"\"\n",
    "    \n",
    "    calculation = (parameter_1 / parameter_2) * default_1\n",
    "    print(f\"The result of the calculation is approx. {calculation:1.3f}.\")\n",
    "    print(\"Also, you wanted me to print this here:\", default_2)\n",
    "\n",
    "    # now we also want to return something from this function\n",
    "    # you can return one or multiple objects\n",
    "\n",
    "    # I don't trust the user of the function, \n",
    "    # so I force default_1 into an int type\n",
    "    return default_2 * int(default_1), calculation"
   ]
  },
  {
   "cell_type": "code",
   "execution_count": 17,
   "metadata": {},
   "outputs": [
    {
     "name": "stdout",
     "output_type": "stream",
     "text": [
      "The result of the calculation is approx. 7.500.\n",
      "Also, you wanted me to print this here: Test!\n",
      "('Test!Test!Test!', 7.5)\n"
     ]
    }
   ],
   "source": [
    "# now we test this super random function\n",
    "return_value_1, return_value_2 = name_of_the_function(\n",
    "    5, 2, default_2=\"Test!\") # we don't need to set default_1\n",
    "print(return_value_1, return_value_2)"
   ]
  },
  {
   "cell_type": "markdown",
   "metadata": {},
   "source": [
    "help(name_of_the_function)"
   ]
  },
  {
   "cell_type": "code",
   "execution_count": 37,
   "metadata": {
    "slideshow": {
     "slide_type": "subslide"
    }
   },
   "outputs": [
    {
     "name": "stdout",
     "output_type": "stream",
     "text": [
      "The result of the calculation is approx. 7.500.\n",
      "Also, you wanted me to print this here: test\n",
      "The result of the calculation is approx. 7.500.\n",
      "Also, you wanted me to print this here: Test!\n",
      "The result of the calculation is approx. 2.500.\n",
      "Also, you wanted me to print this here: Test5\n",
      "[('testtesttest', 7.5), ('Test!Test!Test!', 7.5), ('Test5', 2.5)]\n"
     ]
    }
   ],
   "source": [
    "# Alternative ways to call the function\n",
    "results = [\n",
    "    name_of_the_function(5., 2.),\n",
    "    name_of_the_function(\n",
    "    parameter_1=5, parameter_2=2, default_2=\"Test!\"),\n",
    "    name_of_the_function(parameter_1=5, parameter_2=2,default_1=1, default_2=\"Test5\")\n",
    "]\n",
    "print(results)"
   ]
  },
  {
   "cell_type": "markdown",
   "metadata": {
    "slideshow": {
     "slide_type": "subslide"
    }
   },
   "source": [
    "A few words about doc strings:\n",
    "\n",
    "* **Do write** them because they help to better understand your code.\n",
    "* We recommend the NumPy style:  \n",
    "  <https://sphinxcontrib-napoleon.readthedocs.io/en/latest/example_numpy.html>"
   ]
  },
  {
   "cell_type": "code",
   "execution_count": null,
   "metadata": {},
   "outputs": [],
   "source": []
  },
  {
   "cell_type": "markdown",
   "metadata": {},
   "source": [
    "End of the first day "
   ]
  },
  {
   "cell_type": "markdown",
   "metadata": {
    "slideshow": {
     "slide_type": "slide"
    }
   },
   "source": [
    "# NumPy"
   ]
  },
  {
   "cell_type": "markdown",
   "metadata": {},
   "source": [
    "From the [NumPy webpage](http://www.numpy.org/):\n",
    "\n",
    "> NumPy is the fundamental package for scientific computing with Python.\n",
    "> It contains among other things:\n",
    ">\n",
    "> * a powerful N-dimensional array object\n",
    "> * sophisticated (broadcasting) functions\n",
    "> * tools for integrating C/C++ and Fortran code\n",
    "> * useful linear algebra, Fourier transform, and random number capabilities\n",
    ">\n",
    "> Besides its obvious scientific uses, NumPy can also be used as an efficient\n",
    "> multi-dimensional container of generic data. Arbitrary data-types can be defined.\n",
    "> This allows NumPy to seamlessly and speedily integrate with a wide variety of databases.\n",
    "\n",
    "NumPy tutorial (pay special attention to the section about broadcasting rules):  \n",
    "<https://docs.scipy.org/doc/numpy/user/quickstart.html>"
   ]
  },
  {
   "cell_type": "markdown",
   "metadata": {
    "slideshow": {
     "slide_type": "subslide"
    }
   },
   "source": [
    "## Importing numpy"
   ]
  },
  {
   "cell_type": "code",
   "execution_count": null,
   "metadata": {},
   "outputs": [],
   "source": [
    "import matplotlib.pyplot as plt # for making plots\n",
    "import numpy as np # numpy is usually imported as 'np'\n",
    "import scipy.stats # that package is needed later on"
   ]
  },
  {
   "cell_type": "markdown",
   "metadata": {
    "slideshow": {
     "slide_type": "subslide"
    }
   },
   "source": [
    "## Creating numpy arrays\n",
    "\n",
    "Numpy arrays can be created from any iterable via the ``numpy.array()`` function:"
   ]
  },
  {
   "cell_type": "code",
   "execution_count": null,
   "metadata": {},
   "outputs": [
    {
     "name": "stdout",
     "output_type": "stream",
     "text": [
      "[1, 2, 5, 3, 7, 10, 1, 2, 5, 3, 7, 10, 1, 2, 5, 3, 7, 10]\n",
      "[ 3  6 15  9 21 30]\n"
     ]
    }
   ],
   "source": [
    "a_list = [1, 2, 5, 3, 7, 10]  # A list.\n",
    "arr = np.array(a_list)  # Instantiation of the numpy.ndarray class.\n",
    "print(a_list*3)  # Repeat list 3 times.\n",
    "print(arr*3)  # Multiply every array item with 3."
   ]
  },
  {
   "cell_type": "markdown",
   "metadata": {},
   "source": [
    "### the main argument for numpy\n",
    "\n",
    "it's fast, because its functions are implemented in a very efficient way\n",
    "\n",
    "**Use numpy functions wherever you can, instead of lists & loops!**\n",
    " vectorization to avoid loops\n"
   ]
  },
  {
   "cell_type": "code",
   "execution_count": 38,
   "metadata": {},
   "outputs": [],
   "source": [
    "def list_add(list_1, list_2):\n",
    "    list_3 = []\n",
    "    for l1, l2 in zip(list_1, list_2):\n",
    "        list_3.append(l1+l2)\n",
    "    return list_3"
   ]
  },
  {
   "cell_type": "code",
   "execution_count": 45,
   "metadata": {},
   "outputs": [],
   "source": [
    "a = list(range(5000))\n",
    "b = list(range(1, 5001))"
   ]
  },
  {
   "cell_type": "code",
   "execution_count": 40,
   "metadata": {},
   "outputs": [
    {
     "name": "stdout",
     "output_type": "stream",
     "text": [
      "392 µs ± 2.16 µs per loop (mean ± std. dev. of 7 runs, 1,000 loops each)\n"
     ]
    }
   ],
   "source": [
    "%%timeit\n",
    "list_add(a, b)"
   ]
  },
  {
   "cell_type": "code",
   "execution_count": 53,
   "metadata": {},
   "outputs": [],
   "source": [
    "#can use also list comprehension to speed up the process \n",
    "def list_add_comp(list_1, list_2):\n",
    "    \n",
    "    list_3 = [l1+l2 for l1, l2 in zip(list_1, list_2)]\n",
    "    return list_3"
   ]
  },
  {
   "cell_type": "code",
   "execution_count": 54,
   "metadata": {},
   "outputs": [
    {
     "name": "stdout",
     "output_type": "stream",
     "text": [
      "282 µs ± 756 ns per loop (mean ± std. dev. of 7 runs, 1,000 loops each)\n"
     ]
    }
   ],
   "source": [
    "%%timeit\n",
    "list_add_comp(a, b)"
   ]
  },
  {
   "cell_type": "code",
   "execution_count": 55,
   "metadata": {},
   "outputs": [],
   "source": [
    "a = np.arange(5000)\n",
    "b = np.arange(1, 5001)"
   ]
  },
  {
   "cell_type": "code",
   "execution_count": 56,
   "metadata": {},
   "outputs": [
    {
     "name": "stdout",
     "output_type": "stream",
     "text": [
      "1.52 µs ± 11.1 ns per loop (mean ± std. dev. of 7 runs, 1,000,000 loops each)\n"
     ]
    }
   ],
   "source": [
    "%%timeit\n",
    "a+b"
   ]
  },
  {
   "cell_type": "markdown",
   "metadata": {},
   "source": [
    "### lots of useful functions"
   ]
  },
  {
   "cell_type": "code",
   "execution_count": 43,
   "metadata": {},
   "outputs": [],
   "source": [
    "# type casting: all items in an array must have the same type!\n",
    "# you can pre-define the type when instanciating the array\n",
    "a_list = [1, 1.9, 2.3]\n",
    "a = np.array(a_list, dtype=int)\n",
    "print(a) # the floats were 'cut off' to int precision\n",
    "# you can access the array's type:\n",
    "print(a.dtype)\n"
   ]
  },
  {
   "cell_type": "code",
   "execution_count": null,
   "metadata": {},
   "outputs": [],
   "source": [
    "# if you don't give a type, it will be casted\n",
    "a = np.array(a_list)\n",
    "print(a, a.dtype)"
   ]
  },
  {
   "cell_type": "code",
   "execution_count": null,
   "metadata": {},
   "outputs": [],
   "source": [
    "# Creating 1D and 2D arrays\n",
    "# arrays can have as many dimensions as you like!\n",
    "# (lists can do that, too. but it tends to get messy)\n",
    "\n",
    "a = np.array([[1,2,3], [4,5,6]])\n",
    "b = np.array([4,5,6])\n",
    "print(a[0][1])\n",
    "print(b[1])"
   ]
  },
  {
   "cell_type": "code",
   "execution_count": null,
   "metadata": {},
   "outputs": [],
   "source": [
    "# you can access a couple of important properties like this:\n",
    "print(a.shape, b.shape)\n",
    "print(a.ndim, b.ndim)"
   ]
  },
  {
   "cell_type": "code",
   "execution_count": 57,
   "metadata": {},
   "outputs": [
    {
     "name": "stdout",
     "output_type": "stream",
     "text": [
      "[   1    2    3 ... 4998 4999 5000]\n",
      "[       0        2        6 ... 24975006 24985002 24995000]\n",
      "[       1        4        9 ... 24980004 24990001 25000000]\n",
      "[  -2   -1    0 ... 4995 4996 4997]\n"
     ]
    }
   ],
   "source": [
    "\n",
    "# you can call all kinds of basic mathematical operations on arrays\n",
    "# they are executed element-wise\n",
    "print(b)\n",
    "print(a*b)# normal multiplication is commutative! it's not implemented as matrix multiplication\n",
    "print(b ** 2)\n",
    "print(b - 3)"
   ]
  },
  {
   "cell_type": "code",
   "execution_count": 58,
   "metadata": {},
   "outputs": [
    {
     "name": "stdout",
     "output_type": "stream",
     "text": [
      "[[18 21]\n",
      " [51 60]]\n",
      "[[24 33]\n",
      " [39 54]]\n"
     ]
    }
   ],
   "source": [
    "a = np.array([[1, 2], [4, 5]])\n",
    "b = np.array([[4, 5], [7, 8]])\n",
    "print(a @ b) # this is the equivalent of matrix multiplication\n",
    "print(b @ a) # which is NOT commutating"
   ]
  },
  {
   "cell_type": "code",
   "execution_count": 59,
   "metadata": {},
   "outputs": [
    {
     "name": "stdout",
     "output_type": "stream",
     "text": [
      "[ 0  1  2  3  4  5  6  7  8  9 10 11 12 13 14 15 16 17 18 19]\n",
      "\n",
      "[[ 0  1  2  3]\n",
      " [ 4  5  6  7]\n",
      " [ 8  9 10 11]\n",
      " [12 13 14 15]\n",
      " [16 17 18 19]]\n",
      "\n",
      "[[ 0  1  2  3  4  5  6  7  8  9]\n",
      " [10 11 12 13 14 15 16 17 18 19]]\n",
      "[ 0  1  2  3  4  5  6  7  8  9 10 11 12 13 14 15 16 17 18 19]\n"
     ]
    }
   ],
   "source": [
    "a = np.arange(20) # built-in range function\n",
    "# similar behavior as range(20)! \n",
    "# but it returns an array instead of an iterable\n",
    "print(a)\n",
    "print()\n",
    "# reshape the array into a 2D form\n",
    "a = a.reshape( (5,4) )\n",
    "print(a)\n",
    "print()\n",
    "# reshape into a different 2D form\n",
    "a = a.reshape( (2,10) )\n",
    "print(a)\n",
    "\n",
    "### ... and back to 1D:\n",
    "print(a.flatten())\n"
   ]
  },
  {
   "cell_type": "code",
   "execution_count": null,
   "metadata": {},
   "outputs": [],
   "source": [
    "print(a.reshape((3,3))) # wrong shape doesn't work, unsurprisingly"
   ]
  },
  {
   "cell_type": "code",
   "execution_count": null,
   "metadata": {},
   "outputs": [],
   "source": [
    "# some default array constructors\n",
    "ones = np.ones( (3,4) ) # 1 with given shape\n",
    "zeros = np.zeros_like(ones) # 0 in the same shape as given array\n",
    "print(ones)\n",
    "print(zeros)"
   ]
  },
  {
   "cell_type": "code",
   "execution_count": null,
   "metadata": {},
   "outputs": [],
   "source": [
    "# conventient sequence generators in numpy\n",
    "print(np.arange(10))\n",
    "print(np.linspace(0, 3, 5))\n",
    "print(np.logspace(0, 3, 5))\n",
    "print(np.log10(np.logspace(0, 3, 5)))"
   ]
  },
  {
   "cell_type": "code",
   "execution_count": null,
   "metadata": {},
   "outputs": [],
   "source": [
    "# build-in efficient mathematical functions in numpy\n",
    "rng = np.arange(3)\n",
    "print(rng)\n",
    "print(np.sin(rng))\n",
    "print(np.exp(rng))\n",
    "print(np.power(10, rng))"
   ]
  },
  {
   "cell_type": "code",
   "execution_count": null,
   "metadata": {},
   "outputs": [],
   "source": [
    "# sorting\n",
    "randnr = np.random.randint(0,10,10) # generate some random integers (see below)\n",
    "order = np.argsort(randnr) # returns the indices for sorted array\n",
    "print(randnr)\n",
    "print(order)\n",
    "print(randnr[order])\n",
    "# ... or directly:\n",
    "print(np.sort(randnr))"
   ]
  },
  {
   "cell_type": "code",
   "execution_count": 61,
   "metadata": {},
   "outputs": [
    {
     "name": "stdout",
     "output_type": "stream",
     "text": [
      "[4 8 0 6 7 1 7 6 9 9] [0.   0.25 0.5  0.75 1.   1.25 1.5  1.75 2.   2.25]\n",
      "[8 6 7 7 6 9 9]\n",
      "[0.   0.25 0.   0.75 1.   1.   1.5  1.75 2.   2.25]\n"
     ]
    }
   ],
   "source": [
    "# data cuts and selection\n",
    "a = np.random.randint(0,10,10) #  generate some random integers\n",
    "b = np.arange(10)*1./4\n",
    "print(a, b)\n",
    "# simple mask selection\n",
    "print(a[a>4]) # print all elements of a that are larger than 4\n",
    "print(np.where(a<4, a, b)) # give directly an alternative 'b' if condition is not met\n",
    "# the arrays need to have the same length here!"
   ]
  },
  {
   "cell_type": "code",
   "execution_count": 62,
   "metadata": {},
   "outputs": [
    {
     "data": {
      "text/plain": [
       "57"
      ]
     },
     "execution_count": 62,
     "metadata": {},
     "output_type": "execute_result"
    }
   ],
   "source": [
    "np.sum(a)"
   ]
  },
  {
   "cell_type": "markdown",
   "metadata": {},
   "source": [
    "## Random numbers\n",
    "numpy has a couple of useful random number functions.See [numpy.org/doc/stable/reference/random/index.html](https://numpy.org/doc/stable/reference/random/index.html) for documentation. More elaborate functions can be found in 'scipy.stats' (see below for examples)"
   ]
  },
  {
   "cell_type": "code",
   "execution_count": null,
   "metadata": {},
   "outputs": [],
   "source": [
    "print(np.random.randint(0, 10, size=10)) # random integer\n",
    "print(np.random.uniform(low=10, high=20, size=4)) # random uniform numbers\n",
    "print(np.random.normal( loc=3, scale=5, size=(3,4))) # random normal numbers"
   ]
  },
  {
   "cell_type": "markdown",
   "metadata": {
    "slideshow": {
     "slide_type": "subslide"
    }
   },
   "source": [
    "## Indexing / Slicing of numpy arrays\n",
    "\n",
    "Elements of a numpy arrays can be accessed via indexing or slicing:"
   ]
  },
  {
   "cell_type": "code",
   "execution_count": null,
   "metadata": {},
   "outputs": [
    {
     "name": "stdout",
     "output_type": "stream",
     "text": [
      "3\n",
      "[1 5 6]\n"
     ]
    }
   ],
   "source": [
    "# Access by index (indices start with 0!):\n",
    "print(a[0,2])\n",
    "print(a[ [0,1,1], [0,1,2] ])"
   ]
  },
  {
   "cell_type": "code",
   "execution_count": null,
   "metadata": {},
   "outputs": [
    {
     "name": "stdout",
     "output_type": "stream",
     "text": [
      "[0 1 2 3 4 5 6 7 8 9]\n",
      "[3 4 5 6]\n",
      "[3 5]\n",
      "[7 5]\n"
     ]
    }
   ],
   "source": [
    "# Access by slice: start:end:step:\n",
    "# Note: The start index is included, but the end index is excluded!\n",
    "a = np.arange(0, 10)\n",
    "print(a)\n",
    "print(a[3:7])\n",
    "print(a[3:7:2])\n",
    "# Step can be negative to reverse the slice.\n",
    "print(a[7:3:-2])"
   ]
  },
  {
   "cell_type": "markdown",
   "metadata": {
    "slideshow": {
     "slide_type": "subslide"
    }
   },
   "source": [
    "## Masking of numpy arrays\n",
    "\n",
    "A mask for an array is a boolean array selecting elements of an array."
   ]
  },
  {
   "cell_type": "code",
   "execution_count": null,
   "metadata": {},
   "outputs": [
    {
     "name": "stdout",
     "output_type": "stream",
     "text": [
      "[0 1 2 3 4]\n",
      "[0 3 4]\n"
     ]
    }
   ],
   "source": [
    "a = np.arange(0, 5)\n",
    "mask = np.array([True, False, False, True, True])\n",
    "print(a)\n",
    "print(a[mask])"
   ]
  },
  {
   "cell_type": "code",
   "execution_count": null,
   "metadata": {},
   "outputs": [
    {
     "name": "stdout",
     "output_type": "stream",
     "text": [
      "[ True False False  True  True]\n",
      "[0 3 4]\n"
     ]
    }
   ],
   "source": [
    "mask = (a == 0) | (a > 2)\n",
    "print(mask)\n",
    "print(a[mask])"
   ]
  },
  {
   "cell_type": "markdown",
   "metadata": {},
   "source": [
    "## Random numbers with numpy\n",
    "\n",
    "See [numpy.org/doc/stable/reference/random/index.html](https://numpy.org/doc/stable/reference/random/index.html) for documentation."
   ]
  },
  {
   "cell_type": "code",
   "execution_count": null,
   "metadata": {},
   "outputs": [
    {
     "name": "stdout",
     "output_type": "stream",
     "text": [
      "[0.77395605 0.43887844 0.85859792 0.69736803 0.09417735]\n"
     ]
    },
    {
     "data": {
      "text/plain": [
       "array([[5.87811176, 4.80569851],\n",
       "       [4.93032153, 1.64056816],\n",
       "       [3.25192969, 2.85399012],\n",
       "       [5.63382494, 4.2193256 ],\n",
       "       [5.11380807, 3.21707099]])"
      ]
     },
     "metadata": {},
     "output_type": "display_data"
    }
   ],
   "source": [
    "# Create a random number generator with a seed.\n",
    "rng = np.random.default_rng(42)\n",
    "\n",
    "# Generate next random number(s) in range [0,1).\n",
    "print(rng.random(size=5))\n",
    "\n",
    "# Generate a numpy array with uniform random numbers in the range [1, 6].\n",
    "a, b = 1, 6\n",
    "rng.uniform(a, b, size=(5,2))"
   ]
  },
  {
   "cell_type": "markdown",
   "metadata": {
    "slideshow": {
     "slide_type": "slide"
    }
   },
   "source": [
    "# Matplotlib"
   ]
  },
  {
   "cell_type": "markdown",
   "metadata": {
    "slideshow": {
     "slide_type": "subslide"
    }
   },
   "source": [
    "From the [Matplotlib webpage](https://matplotlib.org/):\n",
    "\n",
    "> Matplotlib is a Python 2D plotting library which produces publication quality figures\n",
    "> in a variety of hardcopy formats and interactive environments across platforms."
   ]
  },
  {
   "cell_type": "code",
   "execution_count": 64,
   "metadata": {
    "slideshow": {
     "slide_type": "fragment"
    }
   },
   "outputs": [],
   "source": [
    "# Call this magic function in the first line of your Jupyter notebook:\n",
    "#%matplotlib notebook\n",
    "# If that doesn't work, use\n",
    "#%matplotlib widget\n",
    "import matplotlib.pyplot as plt"
   ]
  },
  {
   "cell_type": "code",
   "execution_count": 65,
   "metadata": {
    "slideshow": {
     "slide_type": "subslide"
    }
   },
   "outputs": [
    {
     "data": {
      "image/png": "[encoded data removed]",
      "text/plain": [
       "<Figure size 432x288 with 1 Axes>"
      ]
     },
     "metadata": {
      "needs_background": "light"
     },
     "output_type": "display_data"
    }
   ],
   "source": [
    "#simple x-y plot\n",
    "\n",
    "# generate some data to plot\n",
    "# first, the x coordinates\n",
    "xdata = np.arange(10)\n",
    "\n",
    "# use the random functions to variate the y coordinates a bit\n",
    "ydata_1 = np.arange(10) + np.random.normal(scale=1, size=10)\n",
    "ydata_2 = np.arange(10) + np.random.normal(loc=4, scale=1, size=10)\n",
    "\n",
    "# simple x-y plotting function\n",
    "# we need the x and y value,\n",
    "# and optionally we choose a marker, a linestyle and a label for each graph\n",
    "plt.plot(xdata, ydata_1, marker=\"v\", label=\"First set of data\") # don't forget to label your data!\n",
    "plt.plot(xdata, ydata_2, marker=\"o\", linestyle=\"--\", label=\"Second set of data\")\n",
    "# set axis labels\n",
    "plt.xlabel(\"X data / (some unit)\")\n",
    "plt.ylabel(\"Y data / (another unit)\")\n",
    "# set limits for the x-axis\n",
    "plt.xlim(0, 9)\n",
    "# finally, set a title and plot the legend with the labels you've given the data before\n",
    "plt.title(\"Nice plot\")\n",
    "plt.legend(loc=0, fontsize=\"small\")\n",
    "# this line just makes sure that every component of the plot is where it should be \n",
    "# and nothing is lost when saving the graph to a file, but it's optional\n",
    "plt.tight_layout()\n",
    "# file saving\n",
    "plt.savefig(\"nice_plot.png\") # but that does not work that well in colab"
   ]
  },
  {
   "cell_type": "code",
   "execution_count": 66,
   "metadata": {},
   "outputs": [
    {
     "data": {
      "image/png": "[encoded data removed]",
      "text/plain": [
       "<Figure size 432x288 with 1 Axes>"
      ]
     },
     "metadata": {
      "needs_background": "light"
     },
     "output_type": "display_data"
    }
   ],
   "source": [
    "plt.plot(xdata, ydata_1) # don't forget to label your data!\n",
    "plt.plot(xdata, ydata_2)\n",
    "plt.xscale(\"log\")"
   ]
  },
  {
   "cell_type": "code",
   "execution_count": 67,
   "metadata": {},
   "outputs": [
    {
     "data": {
      "image/png": "[encoded data removed]",
      "text/plain": [
       "<Figure size 432x288 with 1 Axes>"
      ]
     },
     "metadata": {
      "needs_background": "light"
     },
     "output_type": "display_data"
    }
   ],
   "source": [
    "# Scatter plot\n",
    "# again, we generate some random data\n",
    "\n",
    "# x and y individually\n",
    "xdata_1 = np.random.normal(size=100)\n",
    "ydata_1 = np.random.normal(loc=2, scale=3, size=100)\n",
    "\n",
    "# x and y in 2D with a covariance matrix\n",
    "xdata_2, ydata_2 = np.random.multivariate_normal(mean=[0, 10], cov=[[1,1], [1,5]], size=100).T\n",
    "# fancy: some random sizes for the markers\n",
    "size_data = np.random.normal(loc=80, scale=30, size=100) # generate different marker sizes for ydata_1\n",
    "\n",
    "# now we plot the individual data points\n",
    "plt.scatter(xdata_1, ydata_1, marker=\"h\", alpha=0.5, s=size_data, label=\"First data set\")\n",
    "plt.scatter(xdata_2, ydata_2, marker=\"v\", alpha=0.5, label=\"Second data set\")\n",
    "plt.legend()\n",
    "plt.xlabel(\"X data / (some unit)\")\n",
    "plt.ylabel(\"Y data / (another unit)\")\n",
    "plt.tight_layout()"
   ]
  },
  {
   "cell_type": "code",
   "execution_count": 68,
   "metadata": {},
   "outputs": [
    {
     "data": {
      "image/png": "[encoded data removed]",
      "text/plain": [
       "<Figure size 432x288 with 2 Axes>"
      ]
     },
     "metadata": {
      "needs_background": "light"
     },
     "output_type": "display_data"
    }
   ],
   "source": [
    "# additional color information\n",
    "\n",
    "# random data\n",
    "xdata = np.random.normal(size=100)\n",
    "ydata = np.random.normal(loc=2, scale=3, size=100)\n",
    "color_data = np.random.normal(loc=80, scale=30, size=100)\n",
    "\n",
    "plt.scatter(xdata, ydata, marker=\"h\", alpha=0.5, c=color_data, cmap=plt.cm.Spectral)\n",
    "cb = plt.colorbar() # show the colorbar\n",
    "cb.ax.set_ylabel(\"Color data\") # label the color axis\n",
    "\n",
    "plt.xlabel(\"X data / (some unit)\")\n",
    "plt.ylabel(\"Y data / (another unit)\")\n",
    "plt.tight_layout()"
   ]
  },
  {
   "cell_type": "code",
   "execution_count": 69,
   "metadata": {},
   "outputs": [
    {
     "data": {
      "text/plain": [
       "<matplotlib.legend.Legend at 0x7f88390b7220>"
      ]
     },
     "execution_count": 69,
     "metadata": {},
     "output_type": "execute_result"
    },
    {
     "data": {
      "image/png": "[encoded data removed]",
      "text/plain": [
       "<Figure size 432x288 with 1 Axes>"
      ]
     },
     "metadata": {
      "needs_background": "light"
     },
     "output_type": "display_data"
    }
   ],
   "source": [
    "# histogram\n",
    "\n",
    "# generate some data\n",
    "data_1 = np.random.exponential(size=100)\n",
    "data_2 = np.random.exponential(scale=2, size=100)\n",
    "# histogrammize the data and plot them in one step\n",
    "plt.hist(data_1, bins=np.linspace(0, 7, 10), label=\"First data set\")\n",
    "plt.hist(data_2, bins=np.linspace(0, 7, 10), label=\"Second data set\")\n",
    "\n",
    "plt.xlabel(\"Random data\")\n",
    "plt.ylabel(\"Frequency\")\n",
    "plt.legend(loc=1)\n",
    "# okay, that's a bit unclear, we can't see much of the first data set"
   ]
  },
  {
   "cell_type": "code",
   "execution_count": 70,
   "metadata": {},
   "outputs": [
    {
     "data": {
      "text/plain": [
       "<matplotlib.legend.Legend at 0x7f8838f7b7f0>"
      ]
     },
     "execution_count": 70,
     "metadata": {},
     "output_type": "execute_result"
    },
    {
     "data": {
      "image/png": "[encoded data removed]",
      "text/plain": [
       "<Figure size 432x288 with 1 Axes>"
      ]
     },
     "metadata": {
      "needs_background": "light"
     },
     "output_type": "display_data"
    }
   ],
   "source": [
    "plt.hist(\n",
    "    [data_1, data_2], # stack the data side by side into one histogram\n",
    "    bins=np.linspace(0, 7, 10), \n",
    "    label=[\"First data set\", \"Second data set\"]\n",
    ")\n",
    "plt.xlabel(\"Random data\")\n",
    "plt.ylabel(\"Frequency\")\n",
    "plt.legend(loc=1)\n",
    "# better!"
   ]
  },
  {
   "cell_type": "code",
   "execution_count": 71,
   "metadata": {},
   "outputs": [
    {
     "data": {
      "text/plain": [
       "<matplotlib.legend.Legend at 0x7f8809b39370>"
      ]
     },
     "execution_count": 71,
     "metadata": {},
     "output_type": "execute_result"
    },
    {
     "data": {
      "image/png": "[encoded data removed]",
      "text/plain": [
       "<Figure size 432x288 with 1 Axes>"
      ]
     },
     "metadata": {
      "needs_background": "light"
     },
     "output_type": "display_data"
    }
   ],
   "source": [
    "plt.hist(\n",
    "    [data_1, data_2], \n",
    "    bins=np.arange(0, 10), \n",
    "    label=[\"First data set\", \"Second data set\"],\n",
    "    histtype=\"barstacked\" # stack the data on top of each other into one histogram\n",
    ")\n",
    "plt.xlabel(\"Random data\")\n",
    "plt.ylabel(\"Frequency\")\n",
    "plt.legend(loc=1)\n",
    "# fancy!"
   ]
  },
  {
   "cell_type": "code",
   "execution_count": 72,
   "metadata": {},
   "outputs": [
    {
     "data": {
      "text/plain": [
       "(array([[3., 0., 1., 2., 0., 1., 3., 6., 3., 0.],\n",
       "        [1., 1., 0., 2., 0., 1., 0., 0., 2., 2.],\n",
       "        [1., 2., 1., 1., 1., 1., 0., 1., 0., 2.],\n",
       "        [2., 0., 1., 1., 0., 3., 0., 3., 1., 0.],\n",
       "        [2., 0., 0., 0., 0., 1., 2., 0., 2., 1.],\n",
       "        [0., 3., 0., 1., 2., 1., 0., 1., 0., 2.],\n",
       "        [2., 1., 0., 2., 1., 0., 0., 1., 2., 0.],\n",
       "        [0., 1., 1., 1., 1., 1., 0., 0., 0., 1.],\n",
       "        [2., 2., 1., 1., 1., 0., 1., 1., 1., 0.],\n",
       "        [0., 1., 0., 2., 2., 1., 2., 0., 0., 0.]]),\n",
       " array([0.00738628, 0.10618009, 0.2049739 , 0.30376771, 0.40256151,\n",
       "        0.50135532, 0.60014913, 0.69894294, 0.79773675, 0.89653056,\n",
       "        0.99532436]),\n",
       " array([0.03781806, 0.13376451, 0.22971096, 0.3256574 , 0.42160385,\n",
       "        0.5175503 , 0.61349675, 0.70944319, 0.80538964, 0.90133609,\n",
       "        0.99728254]),\n",
       " <matplotlib.collections.QuadMesh at 0x7f87f84df5e0>)"
      ]
     },
     "execution_count": 72,
     "metadata": {},
     "output_type": "execute_result"
    },
    {
     "data": {
      "image/png": "[encoded data removed]",
      "text/plain": [
       "<Figure size 432x288 with 1 Axes>"
      ]
     },
     "metadata": {
      "needs_background": "light"
     },
     "output_type": "display_data"
    }
   ],
   "source": [
    "x = np.random.uniform(0, 1, size=100)\n",
    "y = np.random.uniform(0, 1, size=100)\n",
    "plt.hist2d(x, y)"
   ]
  },
  {
   "cell_type": "markdown",
   "metadata": {},
   "source": [
    "End of the second day"
   ]
  },
  {
   "cell_type": "markdown",
   "metadata": {},
   "source": []
  },
  {
   "cell_type": "markdown",
   "metadata": {},
   "source": [
    "# Scipy\n",
    "\n",
    "https://www.scipy.org/index.html\n",
    "\n",
    "\"SciPy (pronounced “Sigh Pie”) is a Python-based ecosystem of open-source software for mathematics, science, and engineering. SciPy is a collection of mathematical algorithms and convenience functions built on the NumPy extension of Python. It adds significant power to the interactive Python session by providing the user with high-level commands and classes for manipulating and visualizing data.\""
   ]
  },
  {
   "cell_type": "markdown",
   "metadata": {},
   "source": [
    "## Interpolations"
   ]
  },
  {
   "cell_type": "code",
   "execution_count": 82,
   "metadata": {},
   "outputs": [
    {
     "name": "stdout",
     "output_type": "stream",
     "text": [
      "1.0377963500742826\n",
      "1.5393975777236688\n",
      "4.07375746156322\n"
     ]
    },
    {
     "data": {
      "text/plain": [
       "<matplotlib.legend.Legend at 0x7f881914fd30>"
      ]
     },
     "execution_count": 82,
     "metadata": {},
     "output_type": "execute_result"
    },
    {
     "data": {
      "image/png": "[encoded data removed]",
      "text/plain": [
       "<Figure size 432x288 with 1 Axes>"
      ]
     },
     "metadata": {
      "needs_background": "light"
     },
     "output_type": "display_data"
    }
   ],
   "source": [
    "from scipy import interpolate\n",
    "# some data points in x and y\n",
    "x = [1,2,3,4,5]\n",
    "y = [1,2,1.5,4,2]\n",
    "\n",
    "# we call some of the Spline classes of the interpolate package of scipy\n",
    "spl = interpolate.UnivariateSpline(x, y, k=3, s=0.1) # this is a smoothing spline\n",
    "spl2 = interpolate.InterpolatedUnivariateSpline(x, y, k=3) # this is an interpolation spline\n",
    "# they return a funcion\n",
    "\n",
    "print(spl(1)) # you can call them like a normal function\n",
    "print(spl(1.2))\n",
    "print(spl(4.2))\n",
    "\n",
    "# ... and we can plot the results\n",
    "# first, the raw data\n",
    "plt.plot(x, y, \"o-\", label=\"data\")\n",
    "\n",
    "# then, we generate some sequential x values to evaluate the splines\n",
    "xi = np.linspace(1,5)\n",
    "# .. then we plot the evaluated splines\n",
    "plt.plot(xi, spl(xi), \"--\", label=\"smoothing spline\") # spline doesn't need to run through data points\n",
    "plt.plot(xi, spl2(xi), \"--\", label=\"interpolated spline\") # spline interpolates between data points, no smoothing\n",
    "plt.legend()"
   ]
  },
  {
   "cell_type": "markdown",
   "metadata": {},
   "source": [
    "## Fit a function to data points\n",
    "This is a x-y data fit using a function y = f(x)\n",
    "Example: Measuring the voltage $U$ at a resistor for different currents $I$.\n",
    "Now you want to infer the resistance $R$."
   ]
  },
  {
   "cell_type": "code",
   "execution_count": 89,
   "metadata": {},
   "outputs": [],
   "source": [
    "from scipy.optimize import curve_fit\n",
    "from scipy import stats"
   ]
  },
  {
   "cell_type": "code",
   "execution_count": 90,
   "metadata": {},
   "outputs": [
    {
     "name": "stdout",
     "output_type": "stream",
     "text": [
      "Help on function curve_fit in module scipy.optimize.minpack:\n",
      "\n",
      "curve_fit(f, xdata, ydata, p0=None, sigma=None, absolute_sigma=False, check_finite=True, bounds=(-inf, inf), method=None, jac=None, **kwargs)\n",
      "    Use non-linear least squares to fit a function, f, to data.\n",
      "    \n",
      "    Assumes ``ydata = f(xdata, *params) + eps``.\n",
      "    \n",
      "    Parameters\n",
      "    ----------\n",
      "    f : callable\n",
      "        The model function, f(x, ...). It must take the independent\n",
      "        variable as the first argument and the parameters to fit as\n",
      "        separate remaining arguments.\n",
      "    xdata : array_like or object\n",
      "        The independent variable where the data is measured.\n",
      "        Should usually be an M-length sequence or an (k,M)-shaped array for\n",
      "        functions with k predictors, but can actually be any object.\n",
      "    ydata : array_like\n",
      "        The dependent data, a length M array - nominally ``f(xdata, ...)``.\n",
      "    p0 : array_like, optional\n",
      "        Initial guess for the parameters (length N). If None, then the\n",
      "        initial values will all be 1 (if the number of parameters for the\n",
      "        function can be determined using introspection, otherwise a\n",
      "        ValueError is raised).\n",
      "    sigma : None or M-length sequence or MxM array, optional\n",
      "        Determines the uncertainty in `ydata`. If we define residuals as\n",
      "        ``r = ydata - f(xdata, *popt)``, then the interpretation of `sigma`\n",
      "        depends on its number of dimensions:\n",
      "    \n",
      "            - A 1-D `sigma` should contain values of standard deviations of\n",
      "              errors in `ydata`. In this case, the optimized function is\n",
      "              ``chisq = sum((r / sigma) ** 2)``.\n",
      "    \n",
      "            - A 2-D `sigma` should contain the covariance matrix of\n",
      "              errors in `ydata`. In this case, the optimized function is\n",
      "              ``chisq = r.T @ inv(sigma) @ r``.\n",
      "    \n",
      "              .. versionadded:: 0.19\n",
      "    \n",
      "        None (default) is equivalent of 1-D `sigma` filled with ones.\n",
      "    absolute_sigma : bool, optional\n",
      "        If True, `sigma` is used in an absolute sense and the estimated parameter\n",
      "        covariance `pcov` reflects these absolute values.\n",
      "    \n",
      "        If False (default), only the relative magnitudes of the `sigma` values matter.\n",
      "        The returned parameter covariance matrix `pcov` is based on scaling\n",
      "        `sigma` by a constant factor. This constant is set by demanding that the\n",
      "        reduced `chisq` for the optimal parameters `popt` when using the\n",
      "        *scaled* `sigma` equals unity. In other words, `sigma` is scaled to\n",
      "        match the sample variance of the residuals after the fit. Default is False.\n",
      "        Mathematically,\n",
      "        ``pcov(absolute_sigma=False) = pcov(absolute_sigma=True) * chisq(popt)/(M-N)``\n",
      "    check_finite : bool, optional\n",
      "        If True, check that the input arrays do not contain nans of infs,\n",
      "        and raise a ValueError if they do. Setting this parameter to\n",
      "        False may silently produce nonsensical results if the input arrays\n",
      "        do contain nans. Default is True.\n",
      "    bounds : 2-tuple of array_like, optional\n",
      "        Lower and upper bounds on parameters. Defaults to no bounds.\n",
      "        Each element of the tuple must be either an array with the length equal\n",
      "        to the number of parameters, or a scalar (in which case the bound is\n",
      "        taken to be the same for all parameters). Use ``np.inf`` with an\n",
      "        appropriate sign to disable bounds on all or some parameters.\n",
      "    \n",
      "        .. versionadded:: 0.17\n",
      "    method : {'lm', 'trf', 'dogbox'}, optional\n",
      "        Method to use for optimization. See `least_squares` for more details.\n",
      "        Default is 'lm' for unconstrained problems and 'trf' if `bounds` are\n",
      "        provided. The method 'lm' won't work when the number of observations\n",
      "        is less than the number of variables, use 'trf' or 'dogbox' in this\n",
      "        case.\n",
      "    \n",
      "        .. versionadded:: 0.17\n",
      "    jac : callable, string or None, optional\n",
      "        Function with signature ``jac(x, ...)`` which computes the Jacobian\n",
      "        matrix of the model function with respect to parameters as a dense\n",
      "        array_like structure. It will be scaled according to provided `sigma`.\n",
      "        If None (default), the Jacobian will be estimated numerically.\n",
      "        String keywords for 'trf' and 'dogbox' methods can be used to select\n",
      "        a finite difference scheme, see `least_squares`.\n",
      "    \n",
      "        .. versionadded:: 0.18\n",
      "    kwargs\n",
      "        Keyword arguments passed to `leastsq` for ``method='lm'`` or\n",
      "        `least_squares` otherwise.\n",
      "    \n",
      "    Returns\n",
      "    -------\n",
      "    popt : array\n",
      "        Optimal values for the parameters so that the sum of the squared\n",
      "        residuals of ``f(xdata, *popt) - ydata`` is minimized.\n",
      "    pcov : 2-D array\n",
      "        The estimated covariance of popt. The diagonals provide the variance\n",
      "        of the parameter estimate. To compute one standard deviation errors\n",
      "        on the parameters use ``perr = np.sqrt(np.diag(pcov))``.\n",
      "    \n",
      "        How the `sigma` parameter affects the estimated covariance\n",
      "        depends on `absolute_sigma` argument, as described above.\n",
      "    \n",
      "        If the Jacobian matrix at the solution doesn't have a full rank, then\n",
      "        'lm' method returns a matrix filled with ``np.inf``, on the other hand\n",
      "        'trf'  and 'dogbox' methods use Moore-Penrose pseudoinverse to compute\n",
      "        the covariance matrix.\n",
      "    \n",
      "    Raises\n",
      "    ------\n",
      "    ValueError\n",
      "        if either `ydata` or `xdata` contain NaNs, or if incompatible options\n",
      "        are used.\n",
      "    \n",
      "    RuntimeError\n",
      "        if the least-squares minimization fails.\n",
      "    \n",
      "    OptimizeWarning\n",
      "        if covariance of the parameters can not be estimated.\n",
      "    \n",
      "    See Also\n",
      "    --------\n",
      "    least_squares : Minimize the sum of squares of nonlinear functions.\n",
      "    scipy.stats.linregress : Calculate a linear least squares regression for\n",
      "                             two sets of measurements.\n",
      "    \n",
      "    Notes\n",
      "    -----\n",
      "    With ``method='lm'``, the algorithm uses the Levenberg-Marquardt algorithm\n",
      "    through `leastsq`. Note that this algorithm can only deal with\n",
      "    unconstrained problems.\n",
      "    \n",
      "    Box constraints can be handled by methods 'trf' and 'dogbox'. Refer to\n",
      "    the docstring of `least_squares` for more information.\n",
      "    \n",
      "    Examples\n",
      "    --------\n",
      "    >>> import matplotlib.pyplot as plt\n",
      "    >>> from scipy.optimize import curve_fit\n",
      "    \n",
      "    >>> def func(x, a, b, c):\n",
      "    ...     return a * np.exp(-b * x) + c\n",
      "    \n",
      "    Define the data to be fit with some noise:\n",
      "    \n",
      "    >>> xdata = np.linspace(0, 4, 50)\n",
      "    >>> y = func(xdata, 2.5, 1.3, 0.5)\n",
      "    >>> rng = np.random.default_rng()\n",
      "    >>> y_noise = 0.2 * rng.normal(size=xdata.size)\n",
      "    >>> ydata = y + y_noise\n",
      "    >>> plt.plot(xdata, ydata, 'b-', label='data')\n",
      "    \n",
      "    Fit for the parameters a, b, c of the function `func`:\n",
      "    \n",
      "    >>> popt, pcov = curve_fit(func, xdata, ydata)\n",
      "    >>> popt\n",
      "    array([2.56274217, 1.37268521, 0.47427475])\n",
      "    >>> plt.plot(xdata, func(xdata, *popt), 'r-',\n",
      "    ...          label='fit: a=%5.3f, b=%5.3f, c=%5.3f' % tuple(popt))\n",
      "    \n",
      "    Constrain the optimization to the region of ``0 <= a <= 3``,\n",
      "    ``0 <= b <= 1`` and ``0 <= c <= 0.5``:\n",
      "    \n",
      "    >>> popt, pcov = curve_fit(func, xdata, ydata, bounds=(0, [3., 1., 0.5]))\n",
      "    >>> popt\n",
      "    array([2.43736712, 1.        , 0.34463856])\n",
      "    >>> plt.plot(xdata, func(xdata, *popt), 'g--',\n",
      "    ...          label='fit: a=%5.3f, b=%5.3f, c=%5.3f' % tuple(popt))\n",
      "    \n",
      "    >>> plt.xlabel('x')\n",
      "    >>> plt.ylabel('y')\n",
      "    >>> plt.legend()\n",
      "    >>> plt.show()\n",
      "\n"
     ]
    }
   ],
   "source": [
    "help(curve_fit)"
   ]
  },
  {
   "cell_type": "code",
   "execution_count": 91,
   "metadata": {},
   "outputs": [],
   "source": [
    "def fit_func(I, R, offset):\n",
    "    ''' U = R * I + offset '''\n",
    "    return R * I + offset"
   ]
  },
  {
   "cell_type": "code",
   "execution_count": 92,
   "metadata": {},
   "outputs": [
    {
     "name": "stdout",
     "output_type": "stream",
     "text": [
      "fit: [2.6166312  5.19687892]\n",
      "covariance: [[ 0.02527654 -0.32934282]\n",
      " [-0.32934282  4.81151509]]\n"
     ]
    },
    {
     "data": {
      "text/plain": [
       "<matplotlib.legend.Legend at 0x7f87c848c0d0>"
      ]
     },
     "execution_count": 92,
     "metadata": {},
     "output_type": "execute_result"
    },
    {
     "data": {
      "image/png": "[encoded data removed]",
      "text/plain": [
       "<Figure size 432x288 with 1 Axes>"
      ]
     },
     "metadata": {
      "needs_background": "light"
     },
     "output_type": "display_data"
    }
   ],
   "source": [
    "# generate some noisy data set\n",
    "num = 10\n",
    "xmin = 3\n",
    "xmax = 20\n",
    "# randomly sampled data in x coordinate\n",
    "# (maybe your control of the current is kind of bad... :D)\n",
    "x = np.random.uniform(xmin, xmax, num)\n",
    "R = 3\n",
    "offset = 0.2\n",
    "# calculate the correponding \"true\" y value\n",
    "# and smear it with a gaussian to add \"noise\" and a sytematic error\n",
    "\n",
    "# **truth \"unzips\" the dictionary to offset=0, R=3\n",
    "y_rand = fit_func(x, R=R, offset=offset) + stats.norm.rvs(loc=0.5, scale=5, size=num)\n",
    "# this noise is represented by the width (scale)\n",
    "# and the sytematic error is represented by the mean (loc)\n",
    "\n",
    "# you also can provide some first guess for the parameters (p0)\n",
    "fit, cov = curve_fit(fit_func, x, y_rand, p0=[1.2, 2.8])\n",
    "# returns fit parameters and covariance\n",
    "print(\"fit:\", fit)\n",
    "print(\"covariance:\", cov)\n",
    "# ideally, you want to achieve small values on the off-diagonal,\n",
    "# because otherwise your parameters are correlated\n",
    "# see further below for a hint how to solve this\n",
    "\n",
    "plt.figure()\n",
    "xspace = np.linspace(0, xmax)\n",
    "plt.plot(\n",
    "    xspace, fit_func(xspace, R=R, offset=offset),\n",
    "     label=\"Truth: R={}, offset={}\".format(R, offset)\n",
    "     )\n",
    "line = plt.plot(\n",
    "    xspace, fit_func(xspace, *fit),\n",
    "     ls=\"--\",\n",
    "      label=f\"Fit: R={fit[0]:1.2f}, offset={fit[1]:1.2f}\"\n",
    "      )\n",
    "plt.scatter(x, y_rand, alpha=0.7, label=\"Smeared data\", color=line[0].get_color())\n",
    "plt.ylabel(\"y\")\n",
    "plt.xlabel(\"x\")\n",
    "plt.legend(loc=2)\n"
   ]
  },
  {
   "cell_type": "markdown",
   "metadata": {},
   "source": [
    "## statistics functions\n",
    "\n",
    "Example: poisson and normal distributions\n",
    "\n",
    "Poisson: $f(k | λ) = λ^k \\cdot \\exp(-λ) / k!$ for k \\in {0, 1,..., ∞}$\n",
    "\n",
    "Normal: $f(x | \\mu, \\sigma) = 1/\\sqrt(2 \\pi σ) \\exp(- (x-\\mu)^2 / 2σ^2  $"
   ]
  },
  {
   "cell_type": "code",
   "execution_count": 93,
   "metadata": {},
   "outputs": [
    {
     "name": "stdout",
     "output_type": "stream",
     "text": [
      "0.04076220397836621\n",
      "0.17120125670913808\n"
     ]
    }
   ],
   "source": [
    "P = stats.poisson(3.2) # generate probability mass function with lambda = 3.2\n",
    "\n",
    "print(P.pmf(0)) # evaluate PMF for k = 0\n",
    "print(P.cdf(1)) # evaluate CDF for k = 1\n"
   ]
  },
  {
   "cell_type": "code",
   "execution_count": 94,
   "metadata": {},
   "outputs": [
    {
     "data": {
      "text/plain": [
       "[<matplotlib.lines.Line2D at 0x7f87c85f38b0>]"
      ]
     },
     "execution_count": 94,
     "metadata": {},
     "output_type": "execute_result"
    },
    {
     "data": {
      "image/png": "[encoded data removed]",
      "text/plain": [
       "<Figure size 432x288 with 1 Axes>"
      ]
     },
     "metadata": {
      "needs_background": "light"
     },
     "output_type": "display_data"
    }
   ],
   "source": [
    "# visualization\n",
    "P = stats.poisson(5)\n",
    "ks = np.arange(15)\n",
    "pmf_viz = P.pmf(ks)\n",
    "\n",
    "plt.plot(ks, pmf_viz, marker=\"o\", lw=0)"
   ]
  },
  {
   "cell_type": "code",
   "execution_count": 95,
   "metadata": {},
   "outputs": [
    {
     "data": {
      "text/plain": [
       "(array([  2.,   9.,  57., 170., 261., 248., 167.,  70.,  15.,   1.]),\n",
       " array([-1.86233271, -0.47364157,  0.91504957,  2.30374071,  3.69243185,\n",
       "         5.08112299,  6.46981413,  7.85850527,  9.24719641, 10.63588755,\n",
       "        12.02457869]),\n",
       " <BarContainer object of 10 artists>)"
      ]
     },
     "execution_count": 95,
     "metadata": {},
     "output_type": "execute_result"
    },
    {
     "data": {
      "image/png": "[encoded data removed]",
      "text/plain": [
       "<Figure size 432x288 with 1 Axes>"
      ]
     },
     "metadata": {
      "needs_background": "light"
     },
     "output_type": "display_data"
    }
   ],
   "source": [
    "# another important function: gaussian!\n",
    "# func.rvs(parameters) gives you random numbers based on func\n",
    "# loc = mean, scale = sigma\n",
    "nums = stats.norm.rvs(loc=5, scale=2, size=1000)\n",
    "# visualization\n",
    "plt.hist(nums)"
   ]
  },
  {
   "cell_type": "markdown",
   "metadata": {},
   "source": [
    "## Fit a PDF to random numbers"
   ]
  },
  {
   "cell_type": "code",
   "execution_count": 96,
   "metadata": {},
   "outputs": [
    {
     "name": "stdout",
     "output_type": "stream",
     "text": [
      "fit parameter:  (5.0293376495675925, 3.044132198744687)\n"
     ]
    },
    {
     "data": {
      "text/plain": [
       "<matplotlib.legend.Legend at 0x7f8800ad7160>"
      ]
     },
     "execution_count": 96,
     "metadata": {},
     "output_type": "execute_result"
    },
    {
     "data": {
      "image/png": "[encoded data removed]",
      "text/plain": [
       "<Figure size 432x288 with 1 Axes>"
      ]
     },
     "metadata": {
      "needs_background": "light"
     },
     "output_type": "display_data"
    }
   ],
   "source": [
    "G = stats.norm # you need the 'un-fixed' function for fitting\n",
    "G_frozen = G(loc=5, scale=3) # this is an 'rv_frozen' function, with fixed parameters\n",
    "\n",
    "rn = G_frozen.rvs(size=1000) # random number generation with 'rvs' function (all stats functions have it)\n",
    "h, edges, _ = plt.hist(rn, label=\"histogram\")\n",
    "fit = G.fit(rn)\n",
    "print(\"fit parameter: \", fit)\n",
    "x = np.linspace(-5, 15)\n",
    "# we need to normalize the pdf to match the counts\n",
    "y = G(*fit).pdf(x) * len(rn) * (edges[1] - edges[0])\n",
    "\n",
    "plt.plot(x, y, \"--\", label=\"Fit\")\n",
    "plt.legend()"
   ]
  },
  {
   "cell_type": "markdown",
   "metadata": {
    "slideshow": {
     "slide_type": "slide"
    }
   },
   "source": [
    "## Pandas"
   ]
  },
  {
   "cell_type": "markdown",
   "metadata": {
    "slideshow": {
     "slide_type": "subslide"
    }
   },
   "source": [
    "The `pandas` package provides userfriendly record arrays as `DataFrame` objects. 1D arrays are represented by `Series` objects.\n",
    "\n",
    "* See [pandas.pydata.org](https://pandas.pydata.org/)\n",
    "* Table rows can be indexed for faster access.\n",
    "* See [The 10 min guide (pandas.pydata.org/docs/user_guide/10min.html)](https://pandas.pydata.org/docs/user_guide/10min.html)"
   ]
  },
  {
   "cell_type": "code",
   "execution_count": 126,
   "metadata": {
    "slideshow": {
     "slide_type": "fragment"
    }
   },
   "outputs": [
    {
     "name": "stdout",
     "output_type": "stream",
     "text": [
      "   A\n",
      "0  1\n",
      "1  2\n",
      "2  3\n"
     ]
    }
   ],
   "source": [
    "import pandas as pd\n",
    "df = pd.DataFrame({'A': [1, 2, 3]})\n",
    "print(df)"
   ]
  },
  {
   "cell_type": "code",
   "execution_count": 127,
   "metadata": {},
   "outputs": [
    {
     "name": "stdout",
     "output_type": "stream",
     "text": [
      "0    1\n",
      "1    2\n",
      "2    3\n",
      "dtype: int64\n"
     ]
    }
   ],
   "source": [
    "arr = pd.Series([1, 2, 3])\n",
    "print(arr)"
   ]
  },
  {
   "cell_type": "markdown",
   "metadata": {
    "slideshow": {
     "slide_type": "subslide"
    }
   },
   "source": [
    "### Viewing DataFrame objects "
   ]
  },
  {
   "cell_type": "code",
   "execution_count": 128,
   "metadata": {
    "slideshow": {
     "slide_type": "subslide"
    }
   },
   "outputs": [
    {
     "data": {
      "text/plain": [
       "A    int64\n",
       "dtype: object"
      ]
     },
     "execution_count": 128,
     "metadata": {},
     "output_type": "execute_result"
    }
   ],
   "source": [
    "# Show data types:\n",
    "df.dtypes"
   ]
  },
  {
   "cell_type": "code",
   "execution_count": 129,
   "metadata": {
    "slideshow": {
     "slide_type": "subslide"
    }
   },
   "outputs": [
    {
     "data": {
      "text/html": [
       "<div>\n",
       "<style scoped>\n",
       "    .dataframe tbody tr th:only-of-type {\n",
       "        vertical-align: middle;\n",
       "    }\n",
       "\n",
       "    .dataframe tbody tr th {\n",
       "        vertical-align: top;\n",
       "    }\n",
       "\n",
       "    .dataframe thead th {\n",
       "        text-align: right;\n",
       "    }\n",
       "</style>\n",
       "<table border=\"1\" class=\"dataframe\">\n",
       "  <thead>\n",
       "    <tr style=\"text-align: right;\">\n",
       "      <th></th>\n",
       "      <th>A</th>\n",
       "    </tr>\n",
       "  </thead>\n",
       "  <tbody>\n",
       "    <tr>\n",
       "      <th>count</th>\n",
       "      <td>3.0</td>\n",
       "    </tr>\n",
       "    <tr>\n",
       "      <th>mean</th>\n",
       "      <td>2.0</td>\n",
       "    </tr>\n",
       "    <tr>\n",
       "      <th>std</th>\n",
       "      <td>1.0</td>\n",
       "    </tr>\n",
       "    <tr>\n",
       "      <th>min</th>\n",
       "      <td>1.0</td>\n",
       "    </tr>\n",
       "    <tr>\n",
       "      <th>25%</th>\n",
       "      <td>1.5</td>\n",
       "    </tr>\n",
       "    <tr>\n",
       "      <th>50%</th>\n",
       "      <td>2.0</td>\n",
       "    </tr>\n",
       "    <tr>\n",
       "      <th>75%</th>\n",
       "      <td>2.5</td>\n",
       "    </tr>\n",
       "    <tr>\n",
       "      <th>max</th>\n",
       "      <td>3.0</td>\n",
       "    </tr>\n",
       "  </tbody>\n",
       "</table>\n",
       "</div>"
      ],
      "text/plain": [
       "         A\n",
       "count  3.0\n",
       "mean   2.0\n",
       "std    1.0\n",
       "min    1.0\n",
       "25%    1.5\n",
       "50%    2.0\n",
       "75%    2.5\n",
       "max    3.0"
      ]
     },
     "execution_count": 129,
     "metadata": {},
     "output_type": "execute_result"
    }
   ],
   "source": [
    "# describe() shows a quick statistic summary of your data:\n",
    "df.describe()"
   ]
  },
  {
   "cell_type": "code",
   "execution_count": 130,
   "metadata": {
    "slideshow": {
     "slide_type": "subslide"
    }
   },
   "outputs": [
    {
     "data": {
      "text/html": [
       "<div>\n",
       "<style scoped>\n",
       "    .dataframe tbody tr th:only-of-type {\n",
       "        vertical-align: middle;\n",
       "    }\n",
       "\n",
       "    .dataframe tbody tr th {\n",
       "        vertical-align: top;\n",
       "    }\n",
       "\n",
       "    .dataframe thead th {\n",
       "        text-align: right;\n",
       "    }\n",
       "</style>\n",
       "<table border=\"1\" class=\"dataframe\">\n",
       "  <thead>\n",
       "    <tr style=\"text-align: right;\">\n",
       "      <th></th>\n",
       "      <th>A</th>\n",
       "    </tr>\n",
       "  </thead>\n",
       "  <tbody>\n",
       "    <tr>\n",
       "      <th>0</th>\n",
       "      <td>1</td>\n",
       "    </tr>\n",
       "    <tr>\n",
       "      <th>1</th>\n",
       "      <td>2</td>\n",
       "    </tr>\n",
       "  </tbody>\n",
       "</table>\n",
       "</div>"
      ],
      "text/plain": [
       "   A\n",
       "0  1\n",
       "1  2"
      ]
     },
     "execution_count": 130,
     "metadata": {},
     "output_type": "execute_result"
    }
   ],
   "source": [
    "# Slicing rows.\n",
    "df[0:2]"
   ]
  },
  {
   "cell_type": "markdown",
   "metadata": {},
   "source": [
    "## Common pitfalls\n",
    "\n",
    "The Python language has some particular properties that might lead to some not-so obvious pitfalls."
   ]
  },
  {
   "cell_type": "markdown",
   "metadata": {},
   "source": [
    "* Objects are passed by reference (not by copy!)\n",
    "    * except scalar data types like int, float, complex"
   ]
  },
  {
   "cell_type": "code",
   "execution_count": null,
   "metadata": {},
   "outputs": [
    {
     "name": "stdout",
     "output_type": "stream",
     "text": [
      "42\n"
     ]
    }
   ],
   "source": [
    "a = 42\n",
    "def f(b):\n",
    "    b = 11\n",
    "f(a)\n",
    "print(a)"
   ]
  },
  {
   "cell_type": "markdown",
   "metadata": {},
   "source": [
    "The scalar variable is passed as copy."
   ]
  },
  {
   "cell_type": "code",
   "execution_count": null,
   "metadata": {},
   "outputs": [
    {
     "name": "stdout",
     "output_type": "stream",
     "text": [
      "[42, 11]\n"
     ]
    }
   ],
   "source": [
    "a = [42]\n",
    "def f(b):\n",
    "    c = b\n",
    "    c.append(11)\n",
    "f(a)\n",
    "print(a)"
   ]
  },
  {
   "cell_type": "markdown",
   "metadata": {},
   "source": [
    "The list `a` is passed as reference. Hence, `b` referes to the same object `a` in memory. The same applies for name changes of variables. `c` refers to the same object as `b`."
   ]
  },
  {
   "cell_type": "markdown",
   "metadata": {},
   "source": [
    "* Function keyword argument default values are instanciated only once\n",
    "    * lists as keyword argument default values can be tricky"
   ]
  },
  {
   "cell_type": "code",
   "execution_count": null,
   "metadata": {},
   "outputs": [],
   "source": [
    "def f(a=[0]):\n",
    "    # Append a new element with the value as\n",
    "    # the maximum of all list values plus 1.\n",
    "    a.append(max(a) + 1)\n",
    "    return a"
   ]
  },
  {
   "cell_type": "code",
   "execution_count": null,
   "metadata": {},
   "outputs": [
    {
     "name": "stdout",
     "output_type": "stream",
     "text": [
      "[0, 1]\n"
     ]
    }
   ],
   "source": [
    "print(f())"
   ]
  },
  {
   "cell_type": "code",
   "execution_count": null,
   "metadata": {},
   "outputs": [
    {
     "name": "stdout",
     "output_type": "stream",
     "text": [
      "[0, 1, 2]\n"
     ]
    }
   ],
   "source": [
    "print(f())"
   ]
  },
  {
   "cell_type": "markdown",
   "metadata": {
    "slideshow": {
     "slide_type": "slide"
    }
   },
   "source": [
    "# Working with version control systems (git)"
   ]
  },
  {
   "cell_type": "markdown",
   "metadata": {
    "slideshow": {
     "slide_type": "subslide"
    }
   },
   "source": [
    "## What is a version control system?\n",
    "\n",
    "![Version Control](https://github.com/martwo/teaching/raw/master/WS_2022_23/advanced_python/figures/version_control.png)\n",
    "\n",
    "* Allows to keep track of changes (versions) of files.\n",
    "* Tracks the history of a file.\n",
    "* Manages a **repository**, i.e. a collection of files, usually a directory tree.\n",
    "* Allows collaborating on same files by several people.\n",
    "    * Conflict resolution\n",
    "* Allows branching-off from the main development path, i.e. **branches**.\n",
    "    * Branches can be merged"
   ]
  },
  {
   "cell_type": "markdown",
   "metadata": {
    "slideshow": {
     "slide_type": "subslide"
    }
   },
   "source": [
    "## What is `git`?\n",
    "\n",
    "* A version control system developed by the inventor of the Linux kernel, Linus Torvalds.\n",
    "* A decentralized system\n",
    "    * repositories are stored locally on the user's computer\n",
    "    * a central (remote) repository might exists, e.g. github.com"
   ]
  },
  {
   "cell_type": "markdown",
   "metadata": {
    "slideshow": {
     "slide_type": "subslide"
    }
   },
   "source": [
    "## Cloning a repository\n",
    "\n",
    "To clone a repository use the `git clone <repo_url>.git <local_dir>` command:\n",
    "\n",
    "```bash\n",
    "git clone https://github.com/icecube/skyllh.git skyllh\n",
    "```\n",
    "\n",
    "This copies (clones) the **master** branch of the repository from the remote location to the local disk."
   ]
  },
  {
   "cell_type": "markdown",
   "metadata": {
    "slideshow": {
     "slide_type": "subslide"
    }
   },
   "source": [
    "## Working with branches\n",
    "\n",
    "![Git Branches](https://github.com/martwo/teaching/raw/master/WS_2022_23/advanced_python/figures/git_branches.png)\n",
    "\n",
    "* A branch represents an independent line of development.\n",
    "* Always use a new branch when making large code changes, e.g. new feature development or bug fix! "
   ]
  },
  {
   "cell_type": "markdown",
   "metadata": {
    "slideshow": {
     "slide_type": "subslide"
    }
   },
   "source": [
    "### List available branches\n",
    "To list all available remote branches type:\n",
    "\n",
    "```bash\n",
    "git branch -a\n",
    "```"
   ]
  },
  {
   "cell_type": "markdown",
   "metadata": {
    "slideshow": {
     "slide_type": "subslide"
    }
   },
   "source": [
    "### Creating a new branch\n",
    "\n",
    "To work on a new feature or bug fix, one should create a new branch from the *master* branch.\n",
    "\n",
    "* Clone the repository.\n",
    "* Checkout a new branch via the `git checkout -b <branch>` command.\n",
    "\n",
    "```bash\n",
    "git clone https://github.com/icecube/skyllh.git skyllh.my_new_feature\n",
    "cd skyllh.my_new_feature/\n",
    "git checkout -b my_new_feature\n",
    "```\n",
    "\n",
    "After creating the new branch it lives in your local repository. In order to copy it to the remote repository one uses the `git push --set-upstream origin <branch>` command:\n",
    "\n",
    "```bash\n",
    "git push --set-upstream origin my_new_feature\n",
    "```\n",
    "\n",
    "To see on which branch you are currently working on use\n",
    "\n",
    "```bash\n",
    "git branch\n",
    "```\n",
    "to get the list of available branches."
   ]
  },
  {
   "cell_type": "markdown",
   "metadata": {
    "slideshow": {
     "slide_type": "subslide"
    }
   },
   "source": [
    "## Commiting code changes\n",
    "\n",
    "After making code changes, these changes must be committed to the branch as a commit.\n",
    "\n",
    "To see the changed files:\n",
    "\n",
    "```bash\n",
    "git status\n",
    "```\n",
    "\n",
    "To see the changes of a file:\n",
    "\n",
    "```bash\n",
    "git diff <file>\n",
    "```\n",
    "\n",
    "To stage a changed file for a commit, use the `git add` command:\n",
    "\n",
    "```bash\n",
    "git add <file>\n",
    "```\n",
    "\n",
    "To commit all staged files:\n",
    "\n",
    "```bash\n",
    "git commit -m \"My commit description\"\n",
    "```\n"
   ]
  },
  {
   "cell_type": "markdown",
   "metadata": {
    "slideshow": {
     "slide_type": "subslide"
    }
   },
   "source": [
    "## Merging two branches\n",
    "\n",
    "After a bug was fixed or a new feature was implemented the development branch needs to be merged with the *master* branch."
   ]
  },
  {
   "cell_type": "markdown",
   "metadata": {
    "slideshow": {
     "slide_type": "fragment"
    }
   },
   "source": [
    "![Merging two branches](https://github.com/martwo/teaching/raw/master/WS_2022_23/advanced_python/figures/git_branch_merge.png)"
   ]
  },
  {
   "cell_type": "markdown",
   "metadata": {
    "slideshow": {
     "slide_type": "subslide"
    }
   },
   "source": [
    "* Make sure to be in the correct receiving branch, e.g. master:\n",
    "\n",
    "```bash\n",
    "git checkout master\n",
    "```\n",
    "\n",
    "* Fetch and pull the latest updates of the receiving branch:\n",
    "\n",
    "```bash\n",
    "git fetch\n",
    "git pull\n",
    "```\n",
    "\n",
    "* Marge the feature branch into the master branch:\n",
    "\n",
    "```bash\n",
    "git merge my_new_feature\n",
    "```\n",
    "\n",
    "* Delete the feature branch:\n",
    "\n",
    "```bash\n",
    "git branch -d my_new_feature\n",
    "```"
   ]
  },
  {
   "cell_type": "markdown",
   "metadata": {
    "slideshow": {
     "slide_type": "subslide"
    }
   },
   "source": [
    "## Resolving merge conflicts\n",
    "\n",
    "* Merge conflicts occur when the **same part of the same file** was **changed by both branches**.\n",
    "* `git merge` will fail before creating the merge commit.\n",
    "* `git status` will tell where merge conflics are."
   ]
  },
  {
   "cell_type": "markdown",
   "metadata": {
    "slideshow": {
     "slide_type": "fragment"
    }
   },
   "source": [
    "```\n",
    "here is some content not affected by the conflict\n",
    "<<<<<<< master\n",
    "this is conflicted text from master\n",
    "=======\n",
    "this is conflicted text from my_new_feature branch\n",
    ">>>>>>> my_new_feature;\n",
    "```"
   ]
  },
  {
   "cell_type": "markdown",
   "metadata": {
    "slideshow": {
     "slide_type": "fragment"
    }
   },
   "source": [
    "* Edit the conflicting files to resolve the conflict.\n",
    "* Stage the changed files with `git add`.\n",
    "* Perform a final merge commit with `git commit`."
   ]
  },
  {
   "cell_type": "markdown",
   "metadata": {
    "slideshow": {
     "slide_type": "subslide"
    }
   },
   "source": [
    "## Pull requests on github.com\n",
    "\n",
    "* *github.com* provides the functionality to create **pull requests**.\n",
    "* Pull requests are branches that **ask to be pulled** into the master branch via a merge operation.\n",
    "* Pull requests can be **code-reviewed** before merging."
   ]
  },
  {
   "cell_type": "markdown",
   "metadata": {
    "slideshow": {
     "slide_type": "slide"
    }
   },
   "source": [
    "# Profiling your Python program"
   ]
  },
  {
   "cell_type": "markdown",
   "metadata": {
    "slideshow": {
     "slide_type": "subslide"
    }
   },
   "source": [
    "* Profilers tell you where your Python programs spends the most time and what memory it uses.\n",
    "* Available profilers and their properties: ![List of profilers](https://raw.githubusercontent.com/plasma-umass/scalene/master/docs/images/profiler-comparison.png)\n",
    "* A good and fast profiler is **scalene**: [github.com/plasma-umass/scalene](https://github.com/plasma-umass/scalene)"
   ]
  },
  {
   "cell_type": "markdown",
   "metadata": {
    "slideshow": {
     "slide_type": "slide"
    }
   },
   "source": [
    "# About this document"
   ]
  },
  {
   "cell_type": "markdown",
   "metadata": {
    "slideshow": {
     "slide_type": "fragment"
    }
   },
   "source": [
    "This notebook can be found on *github.com*:\n",
    "\n",
    "[https://github.com/martwo/teaching/tree/master/WS_2022_23/advanced_python](https://github.com/martwo/teaching/tree/master/WS_2022_23/advanced_python)\n",
    "\n",
    "and can be cloned via:\n",
    "\n",
    "```bash\n",
    "git clone https://github.com/martwo/teaching.git\n",
    "```\n",
    "\n",
    "Converting this notebook into slides and launching a browser window opening them:\n",
    "\n",
    "```bash\n",
    "jupyter nbconvert advanced_python.ipynb --to slides --post serve\n",
    "```"
   ]
  }
 ],
 "metadata": {
  "celltoolbar": "Slideshow",
  "kernelspec": {
   "display_name": "base",
   "language": "python",
   "name": "python3"
  },
  "language_info": {
   "codemirror_mode": {
    "name": "ipython",
    "version": 3
   },
   "file_extension": ".py",
   "mimetype": "text/x-python",
   "name": "python",
   "nbconvert_exporter": "python",
   "pygments_lexer": "ipython3",
   "version": "3.9.12"
  }
 },
 "nbformat": 4,
 "nbformat_minor": 2
}
