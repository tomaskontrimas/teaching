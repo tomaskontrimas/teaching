{
 "cells": [
  {
   "cell_type": "markdown",
   "metadata": {},
   "source": [
    "# Day 3: overview of useful Python packages\n",
    "\n",
    "* `git` and [github.com](https://www.github.com)\n",
    "* `pre-commit`\n",
    "* `ruff` and/or `black`\n",
    "* `mypy`\n",
    "* unit tests\n",
    "* `numba`\n",
    "* `seaborn` and `plotly`"
   ]
  },
  {
   "cell_type": "markdown",
   "metadata": {},
   "source": [
    "## `git`"
   ]
  },
  {
   "cell_type": "markdown",
   "metadata": {},
   "source": [
    "# Working with version control systems (git)"
   ]
  },
  {
   "cell_type": "markdown",
   "metadata": {},
   "source": [
    "## What is a version control system?\n",
    "\n",
    "![Version Control](https://github.com/martwo/teaching/raw/master/WS_2022_23/advanced_python/figures/version_control.png)\n",
    "\n",
    "* Allows to keep track of changes (versions) of files.\n",
    "* Tracks the history of a file.\n",
    "* Manages a **repository**, i.e. a collection of files, usually a directory tree.\n",
    "* Allows collaborating on same files by several people.\n",
    "    * Conflict resolution\n",
    "* Allows branching-off from the main development path, i.e. **branches**.\n",
    "    * Branches can be merged"
   ]
  },
  {
   "cell_type": "markdown",
   "metadata": {},
   "source": [
    "## What is `git`?\n",
    "\n",
    "* A version control system developed by the inventor of the Linux kernel, Linus Torvalds.\n",
    "* A decentralized system\n",
    "    * repositories are stored locally on the user's computer\n",
    "    * a central (remote) repository might exists, e.g. github.com"
   ]
  },
  {
   "cell_type": "markdown",
   "metadata": {},
   "source": [
    "## Cloning a repository\n",
    "\n",
    "To clone a repository use the `git clone <repo_url>.git <local_dir>` command:\n",
    "\n",
    "```bash\n",
    "git clone https://github.com/clagunas/example_project.git example_project\n",
    "```\n",
    "\n",
    "This copies (clones) the **master** branch of the repository from the remote location to the local disk."
   ]
  },
  {
   "cell_type": "markdown",
   "metadata": {},
   "source": [
    "## Working with branches\n",
    "\n",
    "![Git Branches](https://github.com/martwo/teaching/raw/master/WS_2022_23/advanced_python/figures/git_branches.png)\n",
    "\n",
    "* A branch represents an independent line of development.\n",
    "* Always use a new branch when making large code changes, e.g. new feature development or bug fix! "
   ]
  },
  {
   "cell_type": "markdown",
   "metadata": {},
   "source": [
    "### List available branches\n",
    "To list all available remote branches type:\n",
    "\n",
    "```bash\n",
    "git branch -a\n",
    "```"
   ]
  },
  {
   "cell_type": "markdown",
   "metadata": {},
   "source": [
    "### Creating a new branch\n",
    "\n",
    "To work on a new feature or bug fix, one should create a new branch from the *master* branch.\n",
    "\n",
    "* Clone the repository.\n",
    "* Checkout a new branch via the `git checkout -b <branch>` command.\n",
    "\n",
    "```bash\n",
    "git clone https://github.com/clagunas/example_project.git example_project.my_new_feature\n",
    "cd example_project.my_new_feature/\n",
    "git checkout -b my_new_feature\n",
    "```\n",
    "\n",
    "After creating the new branch it lives in your local repository. In order to copy it to the remote repository one uses the `git push --set-upstream origin <branch>` command:\n",
    "\n",
    "```bash\n",
    "git push --set-upstream origin my_new_feature\n",
    "```\n",
    "\n",
    "To see on which branch you are currently working on use\n",
    "\n",
    "```bash\n",
    "git branch\n",
    "```\n",
    "to get the list of available branches."
   ]
  },
  {
   "cell_type": "markdown",
   "metadata": {},
   "source": [
    "## Commiting code changes\n",
    "\n",
    "After making code changes, these changes must be committed to the branch as a commit.\n",
    "\n",
    "To see the changed files:\n",
    "\n",
    "```bash\n",
    "git status\n",
    "```\n",
    "\n",
    "To see the changes of a file:\n",
    "\n",
    "```bash\n",
    "git diff <file>\n",
    "```\n",
    "\n",
    "To stage a changed file for a commit, use the `git add` command:\n",
    "\n",
    "```bash\n",
    "git add <file>\n",
    "```\n",
    "\n",
    "To commit all staged files:\n",
    "\n",
    "```bash\n",
    "git commit -m \"My commit description\"\n",
    "```\n"
   ]
  },
  {
   "cell_type": "markdown",
   "metadata": {},
   "source": [
    "## Merging two branches\n",
    "\n",
    "After a bug was fixed or a new feature was implemented the development branch needs to be merged with the *master* branch."
   ]
  },
  {
   "cell_type": "markdown",
   "metadata": {},
   "source": [
    "![Merging two branches](https://github.com/martwo/teaching/raw/master/WS_2022_23/advanced_python/figures/git_branch_merge.png)"
   ]
  },
  {
   "cell_type": "markdown",
   "metadata": {},
   "source": [
    "* Make sure to be in the correct receiving branch, e.g. master:\n",
    "\n",
    "```bash\n",
    "git checkout master\n",
    "```\n",
    "\n",
    "* Fetch and pull the latest updates of the receiving branch:\n",
    "\n",
    "```bash\n",
    "git fetch\n",
    "git pull --rebase\n",
    "```\n",
    "Note: always do ``git pull --rebase``!\n",
    "\n",
    "* Marge the feature branch into the master branch:\n",
    "\n",
    "```bash\n",
    "git merge my_new_feature\n",
    "```\n",
    "\n",
    "* Delete the feature branch:\n",
    "\n",
    "```bash\n",
    "git branch -d my_new_feature\n",
    "```\n",
    "\n",
    "* Reset the last commit: \n",
    "\n",
    "```bash\n",
    "git reset HEAD^\n",
    "```\n",
    "\n",
    "* Stashing before pulling to temporarily store uncommitted work.\n",
    "\n",
    "```bash\n",
    "git stash save 'some message'\n",
    "```\n",
    "\n",
    "* To restore the stashed work:\n",
    "\n",
    "```bash\n",
    "git stash apply\n",
    "```"
   ]
  },
  {
   "cell_type": "markdown",
   "metadata": {},
   "source": [
    "## Resolving merge conflicts\n",
    "\n",
    "* Merge conflicts occur when the **same part of the same file** was **changed by both branches**.\n",
    "* `git merge` will fail before creating the merge commit.\n",
    "* `git status` will tell where merge conflics are."
   ]
  },
  {
   "cell_type": "markdown",
   "metadata": {},
   "source": [
    "```\n",
    "here is some content not affected by the conflict\n",
    "<<<<<<< master\n",
    "this is conflicted text from master\n",
    "=======\n",
    "this is conflicted text from my_new_feature branch\n",
    ">>>>>>> my_new_feature;\n",
    "```"
   ]
  },
  {
   "cell_type": "markdown",
   "metadata": {},
   "source": [
    "* Edit the conflicting files to resolve the conflict.\n",
    "* Stage the changed files with `git add`.\n",
    "* Perform a final merge commit with `git commit`."
   ]
  },
  {
   "cell_type": "markdown",
   "metadata": {},
   "source": [
    "## Pull requests on github.com\n",
    "\n",
    "* *github.com* provides the functionality to create **pull requests**.\n",
    "* Pull requests are branches that **ask to be pulled** into the master branch via a merge operation.\n",
    "* Pull requests can be **code-reviewed** before merging."
   ]
  },
  {
   "cell_type": "code",
   "execution_count": null,
   "metadata": {},
   "outputs": [],
   "source": []
  },
  {
   "cell_type": "markdown",
   "metadata": {},
   "source": [
    "# `pre-commit`"
   ]
  },
  {
   "cell_type": "markdown",
   "metadata": {},
   "source": [
    "Git hook scripts are useful for identifying and automatically fixing issues before committing code changes.\n",
    "\n",
    "You can install `pre-commit` via `pip install pre-commit`\n",
    "\n",
    "Add a pre-commit configuration file `.pre-commit-config.yaml` to the root of your repository:\n",
    "\n",
    "Example configuration file:\n",
    "\n",
    "```yaml\n",
    "-   repo: https://github.com/pre-commit/pre-commit-hooks\n",
    "    rev: v2.3.0\n",
    "    hooks:\n",
    "    -   id: check-yaml\n",
    "    -   id: end-of-file-fixer\n",
    "    -   id: trailing-whitespace\n",
    "\n",
    "- repo: https://github.com/astral-sh/ruff-pre-commit\n",
    "  # Ruff version.\n",
    "  rev: v0.7.2\n",
    "  hooks:\n",
    "    # Run the linter.\n",
    "    - id: ruff\n",
    "    # Run the formatter.\n",
    "    - id: ruff-format\n",
    "\n",
    "-   repo: https://github.com/psf/black\n",
    "    rev: 22.10.0\n",
    "    hooks:\n",
    "    -   id: black\n",
    "```\n",
    "\n",
    "Run `pre-commit install` locally to set up the git hook scripts. Now `pre-commit` will run automatically on every git commit!"
   ]
  },
  {
   "cell_type": "code",
   "execution_count": null,
   "metadata": {},
   "outputs": [],
   "source": []
  },
  {
   "cell_type": "markdown",
   "metadata": {},
   "source": [
    "# What is numba?\n",
    "\n",
    "- Numba provides decorators to compile specific python funcions\n",
    " \n",
    "- Functions are compiled automatically \"Just-In-Time\" (JIT) into optimised machine code\n",
    "\n",
    "- Functions are entirely python"
   ]
  },
  {
   "cell_type": "markdown",
   "metadata": {},
   "source": [
    "# @jit: just-in-time compilation\n",
    "\n",
    "- A Python function that is decorated with @jit is compiled “just-in-time”, i.e. on the first call of the function\n",
    "\n",
    "- Subsequent calls use the already-complied implementation of the function\n",
    "\n",
    "- Simple Python/Numpy operations will not benefit significantly from @jit \n",
    "\n",
    "- However, complex Numpy operations and loops can benefit greatly!"
   ]
  },
  {
   "cell_type": "code",
   "execution_count": 1,
   "metadata": {},
   "outputs": [],
   "source": [
    "from numba import jit\n",
    "import numpy as np"
   ]
  },
  {
   "cell_type": "code",
   "execution_count": 2,
   "metadata": {},
   "outputs": [],
   "source": [
    "x = np.arange(1.e7)"
   ]
  },
  {
   "cell_type": "code",
   "execution_count": 3,
   "metadata": {},
   "outputs": [],
   "source": [
    "def ident_np(x):\n",
    "    return np.cos(x) ** 2 + np.sin(x) ** 2"
   ]
  },
  {
   "cell_type": "code",
   "execution_count": 4,
   "metadata": {},
   "outputs": [
    {
     "name": "stdout",
     "output_type": "stream",
     "text": [
      "130 ms ± 1.37 ms per loop (mean ± std. dev. of 7 runs, 10 loops each)\n"
     ]
    }
   ],
   "source": [
    "%timeit ident_np(x)"
   ]
  },
  {
   "cell_type": "code",
   "execution_count": 5,
   "metadata": {},
   "outputs": [],
   "source": [
    "@jit\n",
    "def ident_np(x):\n",
    "    return np.cos(x) ** 2 + np.sin(x) ** 2"
   ]
  },
  {
   "cell_type": "code",
   "execution_count": 6,
   "metadata": {},
   "outputs": [
    {
     "name": "stdout",
     "output_type": "stream",
     "text": [
      "76.1 ms ± 185 μs per loop (mean ± std. dev. of 7 runs, 1 loop each)\n"
     ]
    }
   ],
   "source": [
    "%timeit ident_np(x)"
   ]
  },
  {
   "cell_type": "code",
   "execution_count": 7,
   "metadata": {},
   "outputs": [],
   "source": [
    "def ident_loops(x):\n",
    "    r = np.empty_like(x) \n",
    "    for i in range(len(x)):\n",
    "        r[i] = np.cos(x[i]) ** 2 + np.sin(x[i]) ** 2 \n",
    "    return r"
   ]
  },
  {
   "cell_type": "code",
   "execution_count": 8,
   "metadata": {},
   "outputs": [
    {
     "name": "stdout",
     "output_type": "stream",
     "text": [
      "9.39 s ± 39.5 ms per loop (mean ± std. dev. of 7 runs, 1 loop each)\n"
     ]
    }
   ],
   "source": [
    "%timeit ident_loops(x)"
   ]
  },
  {
   "cell_type": "code",
   "execution_count": 9,
   "metadata": {},
   "outputs": [],
   "source": [
    "@jit\n",
    "def ident_loops(x):\n",
    "    r = np.empty_like(x) \n",
    "    for i in range(len(x)):\n",
    "        r[i] = np.cos(x[i]) ** 2 + np.sin(x[i]) ** 2 \n",
    "    return r"
   ]
  },
  {
   "cell_type": "code",
   "execution_count": 10,
   "metadata": {},
   "outputs": [
    {
     "name": "stdout",
     "output_type": "stream",
     "text": [
      "76.2 ms ± 51.9 μs per loop (mean ± std. dev. of 7 runs, 10 loops each)\n"
     ]
    }
   ],
   "source": [
    "%timeit ident_loops(x)"
   ]
  },
  {
   "cell_type": "markdown",
   "metadata": {},
   "source": [
    "# @jit(nopython=True)\n",
    "\n",
    "- @jit will always try to operate in “no-Python mode”, i.e. it generates code that does not access the Python C API\n",
    "\n",
    "- If there are types or functions used in the decorated function that are unknown to Numba, then @jit falls back onto “object mode” (this fall-back is being deprecated)\n",
    "\n",
    "- In “object mode” the optimisations that Numba can provide are limited\n",
    "\n",
    "- One should therefore always strive to achieve “no-Python mode” with the nopython=True argument (or @njit), Numba will raise an error if “no-Python mode” could not be achieved for the function"
   ]
  },
  {
   "cell_type": "code",
   "execution_count": 11,
   "metadata": {},
   "outputs": [],
   "source": [
    "from numba import njit"
   ]
  },
  {
   "cell_type": "code",
   "execution_count": 12,
   "metadata": {},
   "outputs": [],
   "source": [
    "@njit\n",
    "def ident_loops(x):\n",
    "    r = np.empty_like(x) \n",
    "    for i in range(len(x)):\n",
    "        r[i] = np.cos(x[i]) ** 2 + np.sin(x[i]) ** 2 \n",
    "    return r"
   ]
  },
  {
   "cell_type": "code",
   "execution_count": 13,
   "metadata": {},
   "outputs": [
    {
     "name": "stdout",
     "output_type": "stream",
     "text": [
      "77.2 ms ± 989 μs per loop (mean ± std. dev. of 7 runs, 10 loops each)\n"
     ]
    }
   ],
   "source": [
    "%timeit ident_loops(x)"
   ]
  },
  {
   "cell_type": "markdown",
   "metadata": {},
   "source": [
    "# @jit(fastmath=True)\n",
    "\n",
    "- @jit can provide additional performance if you relax the numerical rigour. This is provided by the LLVM compiler, allowing:\n",
    "\n",
    "    - The execution of potentially unsafe floating-point operations.\n",
    "    - Approximations for arithmetic and mathematical functions\n",
    "    - Floating-point reassociation\n",
    "\n",
    "- Fastmath allows the for-loop to be vectorised"
   ]
  },
  {
   "cell_type": "code",
   "execution_count": 16,
   "metadata": {},
   "outputs": [],
   "source": [
    "@njit(fastmath=False)\n",
    "def do_sum_slow(A):\n",
    "    acc = 0. \n",
    "    for x in A:\n",
    "        acc += np.sqrt(x) \n",
    "    return acc"
   ]
  },
  {
   "cell_type": "code",
   "execution_count": 14,
   "metadata": {},
   "outputs": [],
   "source": [
    "@njit(fastmath=True)\n",
    "def do_sum(A):\n",
    "    acc = 0. \n",
    "    for x in A:\n",
    "        acc += np.sqrt(x) \n",
    "    return acc"
   ]
  },
  {
   "cell_type": "code",
   "execution_count": 17,
   "metadata": {},
   "outputs": [
    {
     "name": "stdout",
     "output_type": "stream",
     "text": [
      "9.54 ms ± 19.9 μs per loop (mean ± std. dev. of 7 runs, 100 loops each)\n"
     ]
    }
   ],
   "source": [
    "%timeit do_sum_slow(x)"
   ]
  },
  {
   "cell_type": "code",
   "execution_count": 15,
   "metadata": {},
   "outputs": [
    {
     "name": "stdout",
     "output_type": "stream",
     "text": [
      "6.31 ms ± 41.7 μs per loop (mean ± std. dev. of 7 runs, 100 loops each)\n"
     ]
    }
   ],
   "source": [
    "%timeit do_sum(x)"
   ]
  },
  {
   "cell_type": "markdown",
   "metadata": {},
   "source": [
    "# `@jit(nopython=True, parallel=True)`\n",
    "\n",
    "- @jit can parallelize loops, and certain supported operations \n",
    "\n",
    "- Use `numba.prange` in place of `range` for parallelized for-loop"
   ]
  },
  {
   "cell_type": "code",
   "execution_count": 20,
   "metadata": {},
   "outputs": [],
   "source": [
    "@jit\n",
    "def ident_loops(x):\n",
    "    r = np.empty_like(x) \n",
    "    for i in range(len(x)):\n",
    "        r[i] = np.cos(x[i]) ** 2 + np.sin(x[i]) ** 2 \n",
    "    return r"
   ]
  },
  {
   "cell_type": "code",
   "execution_count": 21,
   "metadata": {},
   "outputs": [
    {
     "name": "stdout",
     "output_type": "stream",
     "text": [
      "76.9 ms ± 403 μs per loop (mean ± std. dev. of 7 runs, 10 loops each)\n"
     ]
    }
   ],
   "source": [
    "%timeit ident_loops(x)"
   ]
  },
  {
   "cell_type": "code",
   "execution_count": 22,
   "metadata": {},
   "outputs": [],
   "source": [
    "from numba import prange"
   ]
  },
  {
   "cell_type": "code",
   "execution_count": 27,
   "metadata": {},
   "outputs": [],
   "source": [
    "@jit(nopython=True)\n",
    "def ident_loops(x):\n",
    "    r = np.empty_like(x) \n",
    "    for i in prange(len(x)):\n",
    "        r[i] = np.cos(x[i]) ** 2 + np.sin(x[i]) ** 2 \n",
    "    return r"
   ]
  },
  {
   "cell_type": "code",
   "execution_count": 28,
   "metadata": {},
   "outputs": [
    {
     "name": "stdout",
     "output_type": "stream",
     "text": [
      "77.1 ms ± 1.13 ms per loop (mean ± std. dev. of 7 runs, 10 loops each)\n"
     ]
    }
   ],
   "source": [
    "%timeit ident_loops(x)"
   ]
  },
  {
   "cell_type": "code",
   "execution_count": 25,
   "metadata": {},
   "outputs": [],
   "source": [
    "@jit(nopython=True, parallel=True)\n",
    "def ident_loops(x):\n",
    "    r = np.empty_like(x) \n",
    "    for i in prange(len(x)):\n",
    "        r[i] = np.cos(x[i]) ** 2 + np.sin(x[i]) ** 2 \n",
    "    return r"
   ]
  },
  {
   "cell_type": "code",
   "execution_count": 26,
   "metadata": {},
   "outputs": [
    {
     "name": "stdout",
     "output_type": "stream",
     "text": [
      "19 ms ± 98.8 μs per loop (mean ± std. dev. of 7 runs, 100 loops each)\n"
     ]
    }
   ],
   "source": [
    "%timeit ident_loops(x)"
   ]
  },
  {
   "cell_type": "markdown",
   "metadata": {},
   "source": [
    "# @vectorize: Creating numpy ufuncs\n",
    "\n",
    "- Universal functions (ufuncs) are the building blocks of Numpy (and Scipy)\n",
    "- Defines how the scalar elements of an array are operated on (e.g. np.sin, np.add...)\n",
    "- Normally creating a Numpy ufunc can be difficult, often requiring C code to be written\n",
    "- The Numba @vectorize decorator provides a straightforward way to create a new ufunc from pure Python, producing optimised compiled code similar to @jit"
   ]
  },
  {
   "cell_type": "code",
   "execution_count": null,
   "metadata": {},
   "outputs": [
    {
     "name": "stdout",
     "output_type": "stream",
     "text": [
      "1.899620907863409\n",
      "[0.98008514 1.68815856 1.80690695 1.         1.55283516]\n",
      "[[1.         0.29192658 0.17317819]\n",
      " [1.70807342 1.         0.88125161]\n",
      " [1.82682181 1.11874839 1.        ]\n",
      " [1.01991486 0.31184144 0.19309305]\n",
      " [1.57275002 0.8646766  0.74592821]]\n"
     ]
    }
   ],
   "source": [
    "from numba import vectorize\n",
    "from math import sin, cos\n",
    "\n",
    "@vectorize\n",
    "def ident_ufunc(x, y):\n",
    "    return cos(x) ** 2 + sin(y) ** 2\n",
    "\n",
    "print(ident_ufunc(3, 5))\n",
    "print(ident_ufunc(3, np.arange(5)))\n",
    "print(ident_ufunc(np.arange(3), np.arange(5)[:, None]))"
   ]
  },
  {
   "cell_type": "markdown",
   "metadata": {},
   "source": [
    "# Summary\n",
    "\n",
    "Numba Pros:\n",
    "\n",
    "- Easily-produced efficient code\n",
    "- Functions are entirely defined in Python\n",
    "- Compilation is automatic and only when needed\n",
    "- Allows Python loops without sacrificing performance\n",
    "\n",
    "Numba Cons:\n",
    "\n",
    "- Cannot utilise unsupported methods (e.g. SciPy)\n",
    "- Steep learning curve\n",
    "\n",
    "When to use Numba:\n",
    "\n",
    "- Calling the same function many times, which applies complex operations on large arrays \n",
    "- In place of wrapping C/C++ code?\n",
    "\n",
    "How to use Numba:\n",
    "\n",
    "- Use @njit to force no-Python mode\n",
    "- Feel free to write Python loops\n",
    "- Replace SciPy-provided mathematical formulae with your own “jitted” versions"
   ]
  }
 ],
 "metadata": {
  "kernelspec": {
   "display_name": ".venv",
   "language": "python",
   "name": "python3"
  },
  "language_info": {
   "codemirror_mode": {
    "name": "ipython",
    "version": 3
   },
   "file_extension": ".py",
   "mimetype": "text/x-python",
   "name": "python",
   "nbconvert_exporter": "python",
   "pygments_lexer": "ipython3",
   "version": "3.11.10"
  }
 },
 "nbformat": 4,
 "nbformat_minor": 2
}
