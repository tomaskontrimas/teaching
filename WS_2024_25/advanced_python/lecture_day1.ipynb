{
 "cells": [
  {
   "cell_type": "markdown",
   "metadata": {},
   "source": [
    "# Advanced Python Programming, WS 2024/25\n",
    "\n",
    "Tomas Kontrimas\n",
    "\n",
    "Tobias Kerscher"
   ]
  },
  {
   "cell_type": "markdown",
   "metadata": {},
   "source": [
    "## Learning objectives of this course\n",
    "\n",
    "* Recap basic Python concepts and learn advanced features\n",
    "* Understand the concepts of object-oriented programming (OOP)\n",
    "* Understand inheritance in OOP\n",
    "* Get an overview of some useful Python packages"
   ]
  },
  {
   "cell_type": "markdown",
   "metadata": {},
   "source": [
    "## Technical Prerequisites Of This Course\n",
    "\n",
    "* Create and use Jupyter notebooks on google: https://colab.research.google.com\n",
    "\n",
    "    - Copy example notebooks to your own google drive and open them with google colab\n",
    "\n",
    "* Alternatively, computer with Python and Jupyter Notebook support\n",
    "\n",
    "    - Linux, Windows, Mac\n",
    "\n",
    "* *Microsoft Visual Studio Code* is a integrated developer environment (IDE) supporting Python and Jupyter notebooks as well\n",
    "\n",
    "* Take a look at **python_info.pdf** file for Python setup tips"
   ]
  },
  {
   "cell_type": "markdown",
   "metadata": {},
   "source": [
    "## Why do we need to be able to develop software in physics?\n",
    "\n",
    "* For most of our professional time we work with ...\n",
    "\n",
    "    * data taking\n",
    "    * data simulation\n",
    "    * data management\n",
    "    * data selection\n",
    "    * data analysis\n",
    "    * data visualization\n",
    "\n",
    "* All of the above needs software that is ...\n",
    "\n",
    "    * efficient\n",
    "    * modular\n",
    "    * well maintainable\n",
    "    * scalable\n",
    "\n",
    "Simulations take a lot of time and computing resources, therefore it is important to write efficient and scalable code.\n",
    "\n",
    "My example over the PhD years:\n",
    "\n",
    "![Computation example](https://github.com/tomaskontrimas/teaching/raw/master/WS_2024_25/advanced_python/cpuhrs.png)"
   ]
  },
  {
   "cell_type": "code",
   "execution_count": null,
   "metadata": {},
   "outputs": [],
   "source": []
  },
  {
   "cell_type": "markdown",
   "metadata": {},
   "source": [
    "# Course overview\n",
    "\n",
    "## Day 1:\n",
    "\n",
    "### Intro and course setup\n",
    "* Jupyter Notebook on Google Colab\n",
    "* Jupyter Notebook and virtual Python environments on your own computer\n",
    "\n",
    "### The basics of Python\n",
    "* Data types in Python\n",
    "* Python as a calculator\n",
    "* String formatting\n",
    "* Loops and Conditions\n",
    "* List comprehension\n",
    "* Working with files\n",
    "* Functions\n",
    "* Lambda functions\n",
    "\n",
    "### Advanced basics of Python\n",
    "* Exceptions\n",
    "* Decorators\n",
    "* Nested functions\n",
    "* PEP8 Coding Style\n",
    "* Common pitfalls\n",
    "\n",
    "### Advanced packages\n",
    "* `numpy` for data processing\n",
    "* `pandas` for structural data processing\n",
    "* `scipy` for scientific calculations\n",
    "* `matplotlib` for plotting\n",
    "\n",
    "\n",
    "## Day 2:\n",
    "\n",
    "### Object-Oriented Programming (OOP)\n",
    "* Classes\n",
    "* Properties\n",
    "* Class methods\n",
    "* Static methods\n",
    "* Operator methods\n",
    "* Inheritance\n",
    "* Multiple inheritance\n",
    "* Abstract base classes\n",
    "* Iterator protocol\n",
    "* Context Manager\n",
    "* Generators\n",
    "\n",
    "\n",
    "## Day 3:\n",
    "\n",
    "Overview of some useful Python packages\n",
    "\n",
    "* `git` and [github.com](https://www.github.com)\n",
    "* `pre-commit`\n",
    "* `ruff` and/or `black`\n",
    "* `mypy`\n",
    "* unit tests\n",
    "* `numba`\n",
    "* `seaborn`"
   ]
  },
  {
   "cell_type": "code",
   "execution_count": null,
   "metadata": {},
   "outputs": [],
   "source": []
  },
  {
   "cell_type": "markdown",
   "metadata": {},
   "source": [
    "# Day 1"
   ]
  },
  {
   "cell_type": "markdown",
   "metadata": {},
   "source": [
    "## Jupyter Notebook on Google Colab\n",
    "\n",
    "* Go to https://colab.research.google.com and create a new notebook\n",
    "* To install new packages, type `!pip install <package>`\n",
    "* *Live demonstration*\n",
    "\n",
    "## Jupyter Notebook with anaconda\n",
    "\n",
    "[Anaconda](https://www.anaconda.com/download) can be installed and an environment can be created. Then all the missing packages can usually be installed after running `conda activate <environment>`.\n",
    "\n",
    "## Why virtual environment are useful\n",
    "* Compatibility between packages version can become an issue \n",
    "    * Python can be \"broken\" if packages require different versions of dependencies\n",
    "* Safer to never touch or modify \"based\" version of python to ensure smooth usage of Python\n",
    "    * Also useful to use for specific applications installation (FreeCad, openGL, openCV, numpy, PyTorch, etc.)"
   ]
  },
  {
   "cell_type": "markdown",
   "metadata": {},
   "source": [
    "# The basics of Python"
   ]
  },
  {
   "cell_type": "markdown",
   "metadata": {},
   "source": [
    "* Python is an interpreted programming language (compilation into byte-code before interpretation).\n",
    "* Python is a loosely typed programming language.\n",
    "* The latest major version of Python is **Python3**. Don't use Python2 anymore!"
   ]
  },
  {
   "cell_type": "code",
   "execution_count": 1,
   "metadata": {},
   "outputs": [],
   "source": [
    "# %matplotlib notebook"
   ]
  },
  {
   "cell_type": "code",
   "execution_count": 2,
   "metadata": {},
   "outputs": [],
   "source": [
    "# Comments start with '#'."
   ]
  },
  {
   "cell_type": "code",
   "execution_count": 3,
   "metadata": {},
   "outputs": [],
   "source": [
    "# Import modules.\n",
    "import os\n",
    "\n",
    "import matplotlib.pyplot\n",
    "import numpy as np"
   ]
  },
  {
   "cell_type": "code",
   "execution_count": 4,
   "metadata": {},
   "outputs": [],
   "source": [
    "# Import only specific functions from a module.\n",
    "from scipy import interpolate, stats"
   ]
  },
  {
   "cell_type": "code",
   "execution_count": 5,
   "metadata": {},
   "outputs": [],
   "source": [
    "# Remember: never ever do 'from foo import *'"
   ]
  },
  {
   "cell_type": "code",
   "execution_count": 6,
   "metadata": {},
   "outputs": [],
   "source": [
    "# Declare a variable.\n",
    "a = 5.0\n",
    "a = \"Hello World!\""
   ]
  },
  {
   "cell_type": "markdown",
   "metadata": {},
   "source": [
    "## Data types"
   ]
  },
  {
   "cell_type": "code",
   "execution_count": 7,
   "metadata": {},
   "outputs": [
    {
     "data": {
      "text/plain": [
       "True"
      ]
     },
     "execution_count": 7,
     "metadata": {},
     "output_type": "execute_result"
    }
   ],
   "source": [
    "a = dict(one=1, two=2, three=3)\n",
    "b = {\"one\": 1, \"two\": 2, \"three\": 3}\n",
    "c = dict({\"three\": 3, \"one\": 1, \"two\": 2})\n",
    "d = dict()\n",
    "d[\"one\"] = 1\n",
    "d[\"two\"] = 2\n",
    "d[\"three\"] = 3\n",
    "a == b == c == d"
   ]
  },
  {
   "cell_type": "code",
   "execution_count": 8,
   "metadata": {},
   "outputs": [
    {
     "name": "stdout",
     "output_type": "stream",
     "text": [
      "{'my_list': [1, 2, 3], 'my_string': 'hello', 'my_number': 3}\n",
      "hello\n"
     ]
    }
   ],
   "source": [
    "a = {\"my_list\": [1, 2, 3], \"my_string\": \"hello\", \"my_number\": 3}\n",
    "print(a)\n",
    "print(a[\"my_string\"])"
   ]
  },
  {
   "cell_type": "code",
   "execution_count": 9,
   "metadata": {},
   "outputs": [
    {
     "name": "stdout",
     "output_type": "stream",
     "text": [
      "[0, 2, 3]\n"
     ]
    },
    {
     "ename": "TypeError",
     "evalue": "'tuple' object does not support item assignment",
     "output_type": "error",
     "traceback": [
      "\u001b[0;31m---------------------------------------------------------------------------\u001b[0m",
      "\u001b[0;31mTypeError\u001b[0m                                 Traceback (most recent call last)",
      "Cell \u001b[0;32mIn[9], line 6\u001b[0m\n\u001b[1;32m      4\u001b[0m a_list[\u001b[38;5;241m0\u001b[39m] \u001b[38;5;241m=\u001b[39m \u001b[38;5;241m0\u001b[39m\n\u001b[1;32m      5\u001b[0m \u001b[38;5;28mprint\u001b[39m(a_list)\n\u001b[0;32m----> 6\u001b[0m \u001b[43ma_tuple\u001b[49m\u001b[43m[\u001b[49m\u001b[38;5;241;43m0\u001b[39;49m\u001b[43m]\u001b[49m \u001b[38;5;241m=\u001b[39m \u001b[38;5;241m0\u001b[39m\n\u001b[1;32m      7\u001b[0m \u001b[38;5;28mprint\u001b[39m(a_tuple)\n",
      "\u001b[0;31mTypeError\u001b[0m: 'tuple' object does not support item assignment"
     ]
    }
   ],
   "source": [
    "a_list = [1, 2, 3]\n",
    "a_tuple = (1, 2, 3)\n",
    "\n",
    "a_list[0] = 0\n",
    "print(a_list)\n",
    "a_tuple[0] = 0\n",
    "print(a_tuple)"
   ]
  },
  {
   "cell_type": "code",
   "execution_count": null,
   "metadata": {},
   "outputs": [
    {
     "name": "stdout",
     "output_type": "stream",
     "text": [
      "[0, 2, 3, 4]\n"
     ]
    },
    {
     "ename": "AttributeError",
     "evalue": "'tuple' object has no attribute 'append'",
     "output_type": "error",
     "traceback": [
      "\u001b[0;31m---------------------------------------------------------------------------\u001b[0m",
      "\u001b[0;31mAttributeError\u001b[0m                            Traceback (most recent call last)",
      "Cell \u001b[0;32mIn[10], line 3\u001b[0m\n\u001b[1;32m      1\u001b[0m a_list\u001b[38;5;241m.\u001b[39mappend(\u001b[38;5;241m4\u001b[39m)\n\u001b[1;32m      2\u001b[0m \u001b[38;5;28mprint\u001b[39m(a_list)\n\u001b[0;32m----> 3\u001b[0m \u001b[43ma_tuple\u001b[49m\u001b[38;5;241;43m.\u001b[39;49m\u001b[43mappend\u001b[49m(\u001b[38;5;241m4\u001b[39m)\n",
      "\u001b[0;31mAttributeError\u001b[0m: 'tuple' object has no attribute 'append'"
     ]
    }
   ],
   "source": [
    "a_list.append(4)\n",
    "print(a_list)\n",
    "a_tuple.append(4)"
   ]
  },
  {
   "cell_type": "code",
   "execution_count": 10,
   "metadata": {},
   "outputs": [
    {
     "data": {
      "text/plain": [
       "{1, 2, 3}"
      ]
     },
     "execution_count": 10,
     "metadata": {},
     "output_type": "execute_result"
    }
   ],
   "source": [
    "a = [1, 2, 2, 1, 3, 3]\n",
    "c = set(a)\n",
    "c"
   ]
  },
  {
   "cell_type": "markdown",
   "metadata": {},
   "source": [
    "## Python as a calculator"
   ]
  },
  {
   "cell_type": "code",
   "execution_count": 11,
   "metadata": {},
   "outputs": [
    {
     "name": "stdout",
     "output_type": "stream",
     "text": [
      "5.  + 5. = 10.0\n",
      "10. - 5. = 5.0\n"
     ]
    }
   ],
   "source": [
    "# Addition and subtraction\n",
    "print(\"5.  + 5. =\", 5.0 + 5.0)\n",
    "print(\"10. - 5. =\", 10.0 - 5.0)"
   ]
  },
  {
   "cell_type": "code",
   "execution_count": 12,
   "metadata": {},
   "outputs": [
    {
     "name": "stdout",
     "output_type": "stream",
     "text": [
      "5.  * 5. = 25.0\n",
      "25. / 5. = 5.0\n",
      "5.3 // 2 = 2.0\n"
     ]
    }
   ],
   "source": [
    "# Multiplication, division, and floor division\n",
    "print(\"5.  * 5. =\", 5.0 * 5.0)\n",
    "print(\"25. / 5. =\", 25.0 / 5.0)\n",
    "print(\"5.3 // 2 =\", 5.3 // 2)"
   ]
  },
  {
   "cell_type": "code",
   "execution_count": 13,
   "metadata": {},
   "outputs": [
    {
     "name": "stdout",
     "output_type": "stream",
     "text": [
      "25. % 4. = 1.0\n",
      "5.**2    = 25.0\n"
     ]
    }
   ],
   "source": [
    "# Modulo and exponentiation\n",
    "print(\"25. % 4. =\", 25.0 % 4.0)\n",
    "print(\"5.**2    =\", 5.0**2)"
   ]
  },
  {
   "cell_type": "code",
   "execution_count": 14,
   "metadata": {},
   "outputs": [
    {
     "name": "stdout",
     "output_type": "stream",
     "text": [
      "a + 5. = 10.0\n"
     ]
    }
   ],
   "source": [
    "# Do calculations with variables.\n",
    "a = 5.0\n",
    "print(\"a + 5. =\", a + 5.0)"
   ]
  },
  {
   "cell_type": "code",
   "execution_count": 15,
   "metadata": {},
   "outputs": [
    {
     "name": "stdout",
     "output_type": "stream",
     "text": [
      "c = a + b = 9.0\n"
     ]
    }
   ],
   "source": [
    "b = 4.0\n",
    "c = a + b\n",
    "print(\"c = a + b =\", c)"
   ]
  },
  {
   "cell_type": "code",
   "execution_count": 16,
   "metadata": {},
   "outputs": [
    {
     "name": "stdout",
     "output_type": "stream",
     "text": [
      "a = 10.0\n"
     ]
    }
   ],
   "source": [
    "# In-place modifications\n",
    "a += 5.0\n",
    "print(\"a =\", a)"
   ]
  },
  {
   "cell_type": "code",
   "execution_count": 17,
   "metadata": {},
   "outputs": [
    {
     "name": "stdout",
     "output_type": "stream",
     "text": [
      "exp(2.5)   = 12.182493960703473\n",
      "sin(pi/2.) = 1.0\n"
     ]
    }
   ],
   "source": [
    "# Call mathematical functions like sin, exp, log, ...\n",
    "# Instead of NumPy, you can also use the 'math' module.\n",
    "print(\"exp(2.5)   =\", np.exp(2.5))\n",
    "print(\"sin(pi/2.) =\", np.sin(np.pi / 2.0))"
   ]
  },
  {
   "cell_type": "markdown",
   "metadata": {},
   "source": [
    "## String formatting"
   ]
  },
  {
   "cell_type": "markdown",
   "metadata": {},
   "source": [
    "General form:\n",
    "\n",
    "```\n",
    "[fill][align][sign][#][0][width][,][.precision][type]\n",
    "```\n",
    "\n",
    "See:  \n",
    "<https://docs.python.org/3/library/string.html#format-string-syntax>"
   ]
  },
  {
   "cell_type": "code",
   "execution_count": 18,
   "metadata": {},
   "outputs": [
    {
     "name": "stdout",
     "output_type": "stream",
     "text": [
      "     +3.14\n",
      "0000000003\n"
     ]
    }
   ],
   "source": [
    "# Some examples\n",
    "print(\"{:>+10.2f}\".format(np.pi))\n",
    "print(\"{:010d}\".format(3))"
   ]
  },
  {
   "cell_type": "code",
   "execution_count": 19,
   "metadata": {},
   "outputs": [
    {
     "name": "stdout",
     "output_type": "stream",
     "text": [
      "0, 1, 2, 3\n",
      "4\n"
     ]
    }
   ],
   "source": [
    "# Some more examples\n",
    "s = \"{0}, {1[0]}, {1[1]}, {2[a]}\"\n",
    "print(s.format(0, [1, 2], {\"a\": 3}))\n",
    "print(\"{key}\".format(key=4))"
   ]
  },
  {
   "cell_type": "markdown",
   "metadata": {},
   "source": [
    "F-string (formatted string literal) introduced in Python 3.6 supports the same string formatting form as `.format()`.\n",
    "They can embed Python expressions directly inside them using `f\"string example {expression:format}\"` syntax."
   ]
  },
  {
   "cell_type": "code",
   "execution_count": 20,
   "metadata": {},
   "outputs": [
    {
     "name": "stdout",
     "output_type": "stream",
     "text": [
      "a = 10.5\n",
      "a = 10\n",
      "Evaluate some code: 25.00\n",
      "Evaluate some more code: 3\n"
     ]
    }
   ],
   "source": [
    "# f-string examples\n",
    "a = 10.5\n",
    "print(f\"a = {a}\")\n",
    "print(f\"a = {a:.0f}\")\n",
    "print(f\"Evaluate some code: {5*5:.2f}\")\n",
    "print(f\"Evaluate some more code: {np.sqrt(9):.0f}\")"
   ]
  },
  {
   "cell_type": "markdown",
   "metadata": {},
   "source": [
    "## Loops and Conditions"
   ]
  },
  {
   "cell_type": "code",
   "execution_count": 21,
   "metadata": {},
   "outputs": [
    {
     "name": "stdout",
     "output_type": "stream",
     "text": [
      "Skip 0.\n",
      "1 is an odd  number.\n",
      "2 is an even number.\n"
     ]
    }
   ],
   "source": [
    "# Example for-loop with conditions\n",
    "for i in range(3):\n",
    "    if i == 0:\n",
    "        print(\"Skip 0.\")\n",
    "    elif i % 2 > 0:\n",
    "        print(\"{} is an odd  number.\".format(i))\n",
    "    else:\n",
    "        print(\"{} is an even number.\".format(i))"
   ]
  },
  {
   "cell_type": "code",
   "execution_count": 22,
   "metadata": {},
   "outputs": [],
   "source": [
    "# Example while-loop\n",
    "d = {\"a\": 0, \"b\": 1}\n",
    "\n",
    "while len(d) > 0:\n",
    "    d.popitem()"
   ]
  },
  {
   "cell_type": "markdown",
   "metadata": {},
   "source": [
    "* You can break out of a loop via `break`.\n",
    "* Iterations can be skipped via `continue`.\n",
    "* Remember that Python does not really know about scopes."
   ]
  },
  {
   "cell_type": "markdown",
   "metadata": {},
   "source": [
    "For loops can have an `else`-block, which gets\n",
    "executed when the loop finished normally, i.e. without\n",
    "encountering a `break`:"
   ]
  },
  {
   "cell_type": "code",
   "execution_count": 23,
   "metadata": {},
   "outputs": [
    {
     "name": "stdout",
     "output_type": "stream",
     "text": [
      "No 0 found!\n"
     ]
    }
   ],
   "source": [
    "for i in [1, 2, 3]:\n",
    "    if i == 0:\n",
    "        break\n",
    "else:\n",
    "    print(\"No 0 found!\")"
   ]
  },
  {
   "cell_type": "code",
   "execution_count": 24,
   "metadata": {},
   "outputs": [],
   "source": [
    "for i in [0, 1, 2, 3]:\n",
    "    if i == 0:\n",
    "        break\n",
    "else:\n",
    "    print(\"No 0 found!\")"
   ]
  },
  {
   "cell_type": "markdown",
   "metadata": {},
   "source": [
    "## List comprehension"
   ]
  },
  {
   "cell_type": "markdown",
   "metadata": {},
   "source": [
    "An easy way to create iterables from existing ones."
   ]
  },
  {
   "cell_type": "code",
   "execution_count": 25,
   "metadata": {},
   "outputs": [],
   "source": [
    "# List comprehension examples\n",
    "l = [i**2 for i in range(10)]\n",
    "l = [10.0 / i for i in range(10) if i > 0]\n",
    "l = [10.0 / i if i > 0 else np.inf for n in range(10)]\n",
    "l = [[a * i for a in [1, 2]] for i in range(1, 11)]"
   ]
  },
  {
   "cell_type": "code",
   "execution_count": 26,
   "metadata": {},
   "outputs": [],
   "source": [
    "# The same works for dictionaries.\n",
    "d = {\"a\": 2.0, \"b\": 3.0}\n",
    "d = {k: v**2 for k, v in d.items()}"
   ]
  },
  {
   "cell_type": "code",
   "execution_count": 27,
   "metadata": {},
   "outputs": [],
   "source": [
    "# And of course sets\n",
    "s = {i**2 for i in range(10)}"
   ]
  },
  {
   "cell_type": "code",
   "execution_count": 28,
   "metadata": {},
   "outputs": [
    {
     "name": "stdout",
     "output_type": "stream",
     "text": [
      "285\n"
     ]
    }
   ],
   "source": [
    "# Some generator magic\n",
    "g = (i**2 for i in range(10))\n",
    "r = sum(g)\n",
    "\n",
    "# We can also do this in one line.\n",
    "print(sum(i**2 for i in range(10)))"
   ]
  },
  {
   "cell_type": "markdown",
   "metadata": {},
   "source": [
    "## Working with files"
   ]
  },
  {
   "cell_type": "code",
   "execution_count": 29,
   "metadata": {},
   "outputs": [],
   "source": [
    "# Create a text file and give it some input.\n",
    "with open(\"example.txt\", \"w\") as stream:\n",
    "    stream.write(\"This is a line.\\n\")\n",
    "    stream.write(\"This is another line.\")"
   ]
  },
  {
   "cell_type": "code",
   "execution_count": 30,
   "metadata": {},
   "outputs": [
    {
     "name": "stdout",
     "output_type": "stream",
     "text": [
      "This is a line.\n",
      "This is another line.\n"
     ]
    }
   ],
   "source": [
    "# Read the content of the text file.\n",
    "with open(\"example.txt\", \"r\") as stream:\n",
    "    lines = stream.readlines()\n",
    "\n",
    "print(\"\".join(lines))"
   ]
  },
  {
   "cell_type": "code",
   "execution_count": 31,
   "metadata": {},
   "outputs": [],
   "source": [
    "os.remove(\"example.txt\")"
   ]
  },
  {
   "cell_type": "markdown",
   "metadata": {},
   "source": [
    "## Random numbers"
   ]
  },
  {
   "cell_type": "code",
   "execution_count": 32,
   "metadata": {},
   "outputs": [
    {
     "name": "stdout",
     "output_type": "stream",
     "text": [
      "0.6394267984578837\n",
      "1.1250537761133348\n"
     ]
    }
   ],
   "source": [
    "import random\n",
    "\n",
    "# Initialize the random number generator with a seed.\n",
    "# Use None as seed for using the current time.\n",
    "random.seed(42)\n",
    "\n",
    "# Return the next floating point number between [0 and 1).\n",
    "print(random.random())\n",
    "\n",
    "# Return a uniformly distributed floating point number in the range [a, b].\n",
    "a = 1\n",
    "b = 6\n",
    "print(random.uniform(a, b))\n",
    "\n",
    "# See numpy how to generate a sequence of random numbers."
   ]
  },
  {
   "cell_type": "markdown",
   "metadata": {},
   "source": [
    "## Functions"
   ]
  },
  {
   "cell_type": "code",
   "execution_count": 33,
   "metadata": {},
   "outputs": [],
   "source": [
    "# A simple function that takes two arguments.\n",
    "def power(a, e=2.0):\n",
    "    r\"\"\"Exponentiation\n",
    "\n",
    "    Calculate: ``a**e``.\n",
    "\n",
    "    Parameters\n",
    "    ----------\n",
    "    a : float\n",
    "        Some number\n",
    "    e : float, optional\n",
    "        Exponent\n",
    "\n",
    "    Returns\n",
    "    -------\n",
    "    float\n",
    "        Result of ``a**e``\n",
    "\n",
    "    \"\"\"\n",
    "    return a**e"
   ]
  },
  {
   "cell_type": "code",
   "execution_count": 34,
   "metadata": {},
   "outputs": [
    {
     "name": "stdout",
     "output_type": "stream",
     "text": [
      "5.**2 = 25.0\n"
     ]
    }
   ],
   "source": [
    "print(\"5.**2 =\", power(5.0))"
   ]
  },
  {
   "cell_type": "code",
   "execution_count": 35,
   "metadata": {},
   "outputs": [],
   "source": [
    "# Alternative ways to call the function\n",
    "results = [\n",
    "    power(5.0, 2.0),\n",
    "    power(5.0, e=2.0),\n",
    "    power(a=5.0, e=2.0),\n",
    "    power(e=2.0, a=5.0),\n",
    "    power(*[5.0, 2.0]),\n",
    "    power(**{\"a\": 5.0, \"e\": 2.0}),\n",
    "]"
   ]
  },
  {
   "cell_type": "code",
   "execution_count": 36,
   "metadata": {},
   "outputs": [
    {
     "name": "stdout",
     "output_type": "stream",
     "text": [
      "Results: 25.0, 25.0, 25.0, 25.0, 25.0, 25.0\n"
     ]
    }
   ],
   "source": [
    "print(\"Results:\", \", \".join(\"{}\".format(r) for r in results))"
   ]
  },
  {
   "cell_type": "code",
   "execution_count": 37,
   "metadata": {},
   "outputs": [],
   "source": [
    "# General syntax\n",
    "def func(*args, **kwargs):\n",
    "    print(f\"args: {args}\")\n",
    "    print(f\"kwargs: {kwargs}\")"
   ]
  },
  {
   "cell_type": "code",
   "execution_count": 38,
   "metadata": {},
   "outputs": [
    {
     "name": "stdout",
     "output_type": "stream",
     "text": [
      "args: (3, 'a')\n",
      "kwargs: {'a': 2, 'b': '1'}\n"
     ]
    }
   ],
   "source": [
    "func(3, \"a\", a=2, b=\"1\")"
   ]
  },
  {
   "cell_type": "markdown",
   "metadata": {},
   "source": [
    "A few words about doc strings:\n",
    "\n",
    "* **Do write** them because they help to better understand your code.\n",
    "* We recommend the NumPy style:  \n",
    "  <https://sphinxcontrib-napoleon.readthedocs.io/en/latest/example_numpy.html>"
   ]
  },
  {
   "cell_type": "markdown",
   "metadata": {},
   "source": [
    "## Lambda functions"
   ]
  },
  {
   "cell_type": "markdown",
   "metadata": {},
   "source": [
    "Lambdas are unnamed in-line functions."
   ]
  },
  {
   "cell_type": "code",
   "execution_count": 39,
   "metadata": {},
   "outputs": [
    {
     "name": "stdout",
     "output_type": "stream",
     "text": [
      "['S', 'g', 'i', 'n', 'r', 't']\n",
      "['g', 'i', 'n', 'r', 'S', 't']\n"
     ]
    }
   ],
   "source": [
    "# Example for lambda usage\n",
    "print(sorted(\"String\"))\n",
    "print(sorted(\"String\", key=lambda s: s.lower()))"
   ]
  },
  {
   "cell_type": "code",
   "execution_count": 40,
   "metadata": {},
   "outputs": [
    {
     "name": "stdout",
     "output_type": "stream",
     "text": [
      "5**2 = 25.0\n"
     ]
    }
   ],
   "source": [
    "# A lambda function can be assigned to a variable.\n",
    "square = lambda x: x**2\n",
    "print(\"5**2 =\", square(5.0))"
   ]
  },
  {
   "cell_type": "markdown",
   "metadata": {},
   "source": [
    "## Exceptions"
   ]
  },
  {
   "cell_type": "code",
   "execution_count": 41,
   "metadata": {},
   "outputs": [],
   "source": [
    "# Write a function that can raise an exception.\n",
    "def division(a, b):\n",
    "    r\"\"\"Divide `a` by `b`.\n",
    "\n",
    "    Parameters\n",
    "    ----------\n",
    "    a,b : float\n",
    "        Nominator and denominator\n",
    "\n",
    "    Returns\n",
    "    -------\n",
    "    float\n",
    "        The result of ``a/b``\n",
    "\n",
    "    Raises\n",
    "    ------\n",
    "    ValueError\n",
    "        If the denominator `b` is zero.\n",
    "    \"\"\"\n",
    "    if np.fabs(b) > 0.0:\n",
    "        return a / b\n",
    "    else:\n",
    "        raise ValueError(\"The denominator should not be zero.\")"
   ]
  },
  {
   "cell_type": "code",
   "execution_count": 42,
   "metadata": {},
   "outputs": [
    {
     "name": "stdout",
     "output_type": "stream",
     "text": [
      "The denominator should not be zero.\n",
      "The result is inf.\n"
     ]
    }
   ],
   "source": [
    "# Catch the exception.\n",
    "try:\n",
    "    r = division(5.0, 0.0)\n",
    "except ValueError as e:\n",
    "    print(e)\n",
    "    r = np.inf\n",
    "finally:\n",
    "    print(\"The result is {}.\".format(r))"
   ]
  },
  {
   "cell_type": "markdown",
   "metadata": {},
   "source": [
    "A full list of built-in exceptions can be found here:  \n",
    "<https://docs.python.org/3/library/exceptions.html>"
   ]
  },
  {
   "cell_type": "markdown",
   "metadata": {},
   "source": [
    "The most common exception types that one wants to raise are:\n",
    "* `TypeError`\n",
    "* `ValueError`\n",
    "* `NameError`\n",
    "* `IndexError`\n",
    "* `KeyError`\n",
    "* `NotImplementedError`"
   ]
  },
  {
   "cell_type": "markdown",
   "metadata": {},
   "source": [
    "## Decorators"
   ]
  },
  {
   "cell_type": "markdown",
   "metadata": {},
   "source": [
    "Decorators are syntactic sugar for functions that are *decorating* other functions.\n",
    "\n",
    "* Decorator functions take a **callable** as argument.\n",
    "* Decorator functions should call the given callable argument."
   ]
  },
  {
   "cell_type": "code",
   "execution_count": 97,
   "metadata": {},
   "outputs": [],
   "source": [
    "# Example of a simple decorating function.\n",
    "def paragraph(f):\n",
    "\n",
    "    # Accepting any number of arguments and keyword arguments.\n",
    "    def wrapper_function(*args, **kwargs):\n",
    "        original_result = f(*args, **kwargs)\n",
    "        return \"<p>{}</p>\".format(original_result)\n",
    "\n",
    "    # Alternative way to define the wrapper function.\n",
    "    # def wrapper_function(name):\n",
    "    #     original_result = f(name)\n",
    "    #     return \"<p>{}</p>\".format(original_result)\n",
    "\n",
    "    return wrapper_function"
   ]
  },
  {
   "cell_type": "code",
   "execution_count": 98,
   "metadata": {},
   "outputs": [],
   "source": [
    "@paragraph\n",
    "def greet(name):\n",
    "    return \"Hello {}, how are you?\".format(name)"
   ]
  },
  {
   "cell_type": "code",
   "execution_count": 99,
   "metadata": {},
   "outputs": [
    {
     "name": "stdout",
     "output_type": "stream",
     "text": [
      "<p>Hello John, how are you?</p>\n"
     ]
    }
   ],
   "source": [
    "print(greet(\"John\"))"
   ]
  },
  {
   "cell_type": "markdown",
   "metadata": {},
   "source": [
    "## Nested functions"
   ]
  },
  {
   "cell_type": "markdown",
   "metadata": {},
   "source": [
    "Python allows to define functions within functions.\n",
    "\n",
    "* Can be used to \"configure\" a function object.\n",
    "* Inner function gets scope of outer function."
   ]
  },
  {
   "cell_type": "code",
   "execution_count": 46,
   "metadata": {},
   "outputs": [
    {
     "name": "stdout",
     "output_type": "stream",
     "text": [
      "I'm feeding my cat with 3 cans of meat.\n"
     ]
    }
   ],
   "source": [
    "def preparing_to_feed_cat(what_to_feed):\n",
    "\n",
    "    def feed_cat(how_much_to_feed):\n",
    "        msg = f\"I'm feeding my cat with {how_much_to_feed} {what_to_feed}.\"\n",
    "        return msg\n",
    "\n",
    "    return feed_cat\n",
    "\n",
    "\n",
    "# Create a function object that knows what to feed the cat with.\n",
    "feed_cat_func = preparing_to_feed_cat(what_to_feed=\"cans of meat\")\n",
    "\n",
    "print(feed_cat_func(how_much_to_feed=3))"
   ]
  },
  {
   "cell_type": "markdown",
   "metadata": {},
   "source": [
    "## Common pitfalls\n",
    "\n",
    "The Python language has some particular properties that might lead to some not-so obvious pitfalls."
   ]
  },
  {
   "cell_type": "markdown",
   "metadata": {},
   "source": [
    "* Objects are passed by reference (not by copy!)\n",
    "    * except scalar data types like int, float, complex"
   ]
  },
  {
   "cell_type": "code",
   "execution_count": 47,
   "metadata": {},
   "outputs": [
    {
     "name": "stdout",
     "output_type": "stream",
     "text": [
      "42\n"
     ]
    }
   ],
   "source": [
    "a = 42\n",
    "\n",
    "\n",
    "def f(b):\n",
    "    b = 11\n",
    "\n",
    "\n",
    "f(a)\n",
    "print(a)"
   ]
  },
  {
   "cell_type": "markdown",
   "metadata": {},
   "source": [
    "The scalar variable is passed as copy."
   ]
  },
  {
   "cell_type": "code",
   "execution_count": 48,
   "metadata": {},
   "outputs": [
    {
     "name": "stdout",
     "output_type": "stream",
     "text": [
      "[42, 11]\n"
     ]
    }
   ],
   "source": [
    "a = [42]\n",
    "\n",
    "\n",
    "def f(b):\n",
    "    c = b\n",
    "    c.append(11)\n",
    "\n",
    "\n",
    "f(a)\n",
    "print(a)"
   ]
  },
  {
   "cell_type": "markdown",
   "metadata": {},
   "source": [
    "The list `a` is passed as reference. Hence, `b` referes to the same object `a` in memory. The same applies for name changes of variables. `c` refers to the same object as `b`.\n",
    "\n",
    "* Function keyword argument default values are instanciated only once\n",
    "* Lists/arrays as keyword argument default values can be tricky"
   ]
  },
  {
   "cell_type": "code",
   "execution_count": 49,
   "metadata": {},
   "outputs": [],
   "source": [
    "def f(a=[0]):\n",
    "    # Append a new element with the value as\n",
    "    # the maximum of all list values plus 1.\n",
    "    a.append(max(a) + 1)\n",
    "    return a"
   ]
  },
  {
   "cell_type": "code",
   "execution_count": 50,
   "metadata": {},
   "outputs": [
    {
     "name": "stdout",
     "output_type": "stream",
     "text": [
      "[0, 1]\n"
     ]
    }
   ],
   "source": [
    "print(f())"
   ]
  },
  {
   "cell_type": "code",
   "execution_count": 51,
   "metadata": {},
   "outputs": [
    {
     "name": "stdout",
     "output_type": "stream",
     "text": [
      "[0, 1, 2]\n"
     ]
    }
   ],
   "source": [
    "print(f())"
   ]
  },
  {
   "cell_type": "markdown",
   "metadata": {},
   "source": [
    "The function changes the one-and-only list object that was instantiated as default keyword argument value."
   ]
  },
  {
   "cell_type": "markdown",
   "metadata": {},
   "source": [
    "# NumPy"
   ]
  },
  {
   "cell_type": "markdown",
   "metadata": {},
   "source": [
    "From the [NumPy webpage](http://www.numpy.org/):\n",
    "\n",
    "> NumPy is the fundamental package for scientific computing with Python.\n",
    "> It contains among other things:\n",
    ">\n",
    "> * a powerful N-dimensional array object\n",
    "> * sophisticated (broadcasting) functions\n",
    "> * tools for integrating C/C++ and Fortran code\n",
    "> * useful linear algebra, Fourier transform, and random number capabilities\n",
    ">\n",
    "> Besides its obvious scientific uses, NumPy can also be used as an efficient\n",
    "> multi-dimensional container of generic data. Arbitrary data-types can be defined.\n",
    "> This allows NumPy to seamlessly and speedily integrate with a wide variety of databases.\n",
    "\n",
    "NumPy tutorial (pay special attention to the section about broadcasting rules):  \n",
    "<https://docs.scipy.org/doc/numpy/user/quickstart.html>"
   ]
  },
  {
   "cell_type": "markdown",
   "metadata": {},
   "source": [
    "## Importing numpy"
   ]
  },
  {
   "cell_type": "code",
   "execution_count": 52,
   "metadata": {},
   "outputs": [],
   "source": [
    "import numpy as np"
   ]
  },
  {
   "cell_type": "markdown",
   "metadata": {},
   "source": [
    "## Creating numpy arrays\n",
    "\n",
    "Numpy arrays can be created from any iterable via the ``numpy.array()`` function:"
   ]
  },
  {
   "cell_type": "code",
   "execution_count": 53,
   "metadata": {},
   "outputs": [
    {
     "name": "stdout",
     "output_type": "stream",
     "text": [
      "[1, 2, 5, 3, 7, 10, 1, 2, 5, 3, 7, 10, 1, 2, 5, 3, 7, 10]\n",
      "[ 3  6 15  9 21 30]\n"
     ]
    }
   ],
   "source": [
    "a_list = [1, 2, 5, 3, 7, 10]  # A list.\n",
    "arr = np.array(a_list)  # Instantiation of the numpy.ndarray class.\n",
    "print(a_list * 3)  # Repeat list 3 times.\n",
    "print(arr * 3)  # Multiply every array item with 3."
   ]
  },
  {
   "cell_type": "markdown",
   "metadata": {},
   "source": [
    "The array's data type can be specified:"
   ]
  },
  {
   "cell_type": "code",
   "execution_count": 54,
   "metadata": {},
   "outputs": [
    {
     "name": "stdout",
     "output_type": "stream",
     "text": [
      "[ 1.  2.  5.  3.  7. 10.]\n",
      "float64\n"
     ]
    }
   ],
   "source": [
    "arr = np.array(a_list, dtype=np.float64)\n",
    "print(arr)\n",
    "print(arr.dtype)"
   ]
  },
  {
   "cell_type": "markdown",
   "metadata": {},
   "source": [
    "Numpy arrays have a dimensionality and a shape:"
   ]
  },
  {
   "cell_type": "code",
   "execution_count": 55,
   "metadata": {},
   "outputs": [
    {
     "name": "stdout",
     "output_type": "stream",
     "text": [
      "[ 1.  2.  5.  3.  7. 10.]\n",
      "arr.ndim=1\n",
      "arr.shape=(6,)\n"
     ]
    }
   ],
   "source": [
    "print(arr)\n",
    "print(f\"arr.ndim={arr.ndim}\")\n",
    "print(f\"arr.shape={arr.shape}\")"
   ]
  },
  {
   "cell_type": "markdown",
   "metadata": {},
   "source": [
    "Numpy arrays can be reshaped:"
   ]
  },
  {
   "cell_type": "code",
   "execution_count": 56,
   "metadata": {},
   "outputs": [
    {
     "name": "stdout",
     "output_type": "stream",
     "text": [
      "[[ 1.  2.]\n",
      " [ 5.  3.]\n",
      " [ 7. 10.]]\n",
      "arr.ndim=2\n",
      "arr.shape=(3, 2)\n"
     ]
    }
   ],
   "source": [
    "arr = arr.reshape((3, 2))\n",
    "print(arr)\n",
    "print(f\"arr.ndim={arr.ndim}\")\n",
    "print(f\"arr.shape={arr.shape}\")"
   ]
  },
  {
   "cell_type": "markdown",
   "metadata": {},
   "source": [
    "## Math functions\n",
    "\n",
    "Numpy provides many math functions to be operated on an entire array:"
   ]
  },
  {
   "cell_type": "code",
   "execution_count": 57,
   "metadata": {},
   "outputs": [
    {
     "name": "stdout",
     "output_type": "stream",
     "text": [
      "arr = [0 1 2]\n",
      "np.sin(arr) = [0.         0.84147098 0.90929743]\n",
      "np.exp(arr) = [1.         2.71828183 7.3890561 ]\n",
      "np.power(10, arr) = [  1  10 100]\n"
     ]
    }
   ],
   "source": [
    "arr = np.arange(3)\n",
    "print(f\"arr = {arr}\")\n",
    "print(f\"np.sin(arr) = {np.sin(arr)}\")\n",
    "print(f\"np.exp(arr) = {np.exp(arr)}\")\n",
    "print(f\"np.power(10, arr) = {np.power(10, arr)}\")"
   ]
  },
  {
   "cell_type": "markdown",
   "metadata": {},
   "source": [
    "## Statistical functions\n",
    "\n",
    "Numpy provides a few useful statistical functions:"
   ]
  },
  {
   "cell_type": "code",
   "execution_count": 58,
   "metadata": {},
   "outputs": [
    {
     "name": "stdout",
     "output_type": "stream",
     "text": [
      "arr = [0 1 2 3 4 5 6 7 8 9]\n",
      "np.mean(arr) = 4.5\n",
      "np.median(arr) = 4.5\n",
      "np.std(arr) = 2.8722813232690143\n"
     ]
    }
   ],
   "source": [
    "arr = np.arange(10)\n",
    "print(f\"arr = {arr}\")\n",
    "print(f\"np.mean(arr) = {np.mean(arr)}\")\n",
    "print(f\"np.median(arr) = {np.median(arr)}\")\n",
    "print(f\"np.std(arr) = {np.std(arr)}\")"
   ]
  },
  {
   "cell_type": "markdown",
   "metadata": {},
   "source": [
    "## Sorting functions\n",
    "\n",
    "Numpy provides several sorting algorithms via the ``numpy.sort`` function:\n",
    "quicksort, heapsort, mergesort, timsort"
   ]
  },
  {
   "cell_type": "code",
   "execution_count": 59,
   "metadata": {},
   "outputs": [
    {
     "name": "stdout",
     "output_type": "stream",
     "text": [
      "sorted_arr = [1 2 3 4 5 6]\n"
     ]
    }
   ],
   "source": [
    "unsorted_arr = np.array([3, 4, 2, 1, 6, 5])\n",
    "sorted_arr = np.sort(unsorted_arr, kind=\"heapsort\")\n",
    "print(f\"sorted_arr = {sorted_arr}\")"
   ]
  },
  {
   "cell_type": "code",
   "execution_count": 60,
   "metadata": {},
   "outputs": [
    {
     "name": "stdout",
     "output_type": "stream",
     "text": [
      "indices_ordering = [3 2 0 1 5 4]\n"
     ]
    }
   ],
   "source": [
    "indices_ordering = np.argsort(unsorted_arr)\n",
    "print(f\"indices_ordering = {indices_ordering}\")"
   ]
  },
  {
   "cell_type": "markdown",
   "metadata": {},
   "source": [
    "## Broadcasting of numpy arrays\n",
    "\n",
    "Two numpy arrays of different dimensions can be used in an expression by broadcasting the array elements of the smaller dimensional array by repeatedly prepending a dimension of length 1 to smaller array to allow element-wise operation:"
   ]
  },
  {
   "cell_type": "code",
   "execution_count": 61,
   "metadata": {},
   "outputs": [
    {
     "name": "stdout",
     "output_type": "stream",
     "text": [
      "shape of a: (2, 3)\n",
      "[[1 2 3]\n",
      " [4 5 6]] \n",
      "\n",
      "shape of b: (3,)\n",
      "[7 8 9] \n",
      "\n",
      "shape of c: (2, 3)\n",
      "[[ 8 10 12]\n",
      " [11 13 15]]\n"
     ]
    }
   ],
   "source": [
    "import numpy as np\n",
    "\n",
    "a = np.array([[1, 2, 3], [4, 5, 6]])\n",
    "b = np.array([7, 8, 9])\n",
    "c = a + b\n",
    "print(\"shape of a:\", a.shape)\n",
    "print(a, \"\\n\")\n",
    "print(\"shape of b:\", b.shape)\n",
    "print(b, \"\\n\")\n",
    "print(\"shape of c:\", c.shape)\n",
    "print(c)"
   ]
  },
  {
   "cell_type": "markdown",
   "metadata": {},
   "source": [
    "## Indexing / Slicing of numpy arrays\n",
    "\n",
    "Elements of a numpy arrays can be accessed via indexing or slicing:"
   ]
  },
  {
   "cell_type": "code",
   "execution_count": 62,
   "metadata": {},
   "outputs": [
    {
     "name": "stdout",
     "output_type": "stream",
     "text": [
      "3\n",
      "[1 5 6]\n"
     ]
    }
   ],
   "source": [
    "# Access by index (indices start with 0!):\n",
    "print(a[0, 2])\n",
    "print(a[[0, 1, 1], [0, 1, 2]])"
   ]
  },
  {
   "cell_type": "code",
   "execution_count": 63,
   "metadata": {},
   "outputs": [
    {
     "name": "stdout",
     "output_type": "stream",
     "text": [
      "[0 1 2 3 4 5 6 7 8 9]\n",
      "[3 4 5 6]\n",
      "[3 5]\n",
      "[7 5]\n"
     ]
    }
   ],
   "source": [
    "# Access by slice: start:end:step:\n",
    "# Note: The start index is included, but the end index is excluded!\n",
    "a = np.arange(0, 10)\n",
    "print(a)\n",
    "print(a[3:7])\n",
    "print(a[3:7:2])\n",
    "# Step can be negative to reverse the slice.\n",
    "print(a[7:3:-2])"
   ]
  },
  {
   "cell_type": "markdown",
   "metadata": {},
   "source": [
    "## Masking of numpy arrays\n",
    "\n",
    "A mask for an array is a boolean array selecting elements of an array."
   ]
  },
  {
   "cell_type": "code",
   "execution_count": 64,
   "metadata": {},
   "outputs": [
    {
     "name": "stdout",
     "output_type": "stream",
     "text": [
      "[0 1 2 3 4]\n",
      "[0 3 4]\n"
     ]
    }
   ],
   "source": [
    "a = np.arange(0, 5)\n",
    "mask = np.array([True, False, False, True, True])\n",
    "print(a)\n",
    "print(a[mask])"
   ]
  },
  {
   "cell_type": "code",
   "execution_count": 65,
   "metadata": {},
   "outputs": [
    {
     "name": "stdout",
     "output_type": "stream",
     "text": [
      "[ True False False  True  True]\n",
      "[0 3 4]\n"
     ]
    }
   ],
   "source": [
    "mask = (a == 0) | (a > 2)\n",
    "print(mask)\n",
    "print(a[mask])"
   ]
  },
  {
   "cell_type": "markdown",
   "metadata": {},
   "source": [
    "## Random numbers with numpy\n",
    "\n",
    "See [numpy.org/doc/stable/reference/random/index.html](https://numpy.org/doc/stable/reference/random/index.html) for documentation."
   ]
  },
  {
   "cell_type": "code",
   "execution_count": 66,
   "metadata": {},
   "outputs": [
    {
     "name": "stdout",
     "output_type": "stream",
     "text": [
      "[0.77395605 0.43887844 0.85859792 0.69736803 0.09417735]\n"
     ]
    },
    {
     "data": {
      "text/plain": [
       "array([[5.87811176, 4.80569851],\n",
       "       [4.93032153, 1.64056816],\n",
       "       [3.25192969, 2.85399012],\n",
       "       [5.63382494, 4.2193256 ],\n",
       "       [5.11380807, 3.21707099]])"
      ]
     },
     "execution_count": 66,
     "metadata": {},
     "output_type": "execute_result"
    }
   ],
   "source": [
    "# Create a random number generator with a seed.\n",
    "rng = np.random.default_rng(42)\n",
    "\n",
    "# Generate next random number(s) in range [0,1).\n",
    "print(rng.random(size=5))\n",
    "\n",
    "# Generate a numpy array with uniform random numbers in the range [1, 6].\n",
    "a, b = 1, 6\n",
    "rng.uniform(a, b, size=(5, 2))"
   ]
  },
  {
   "cell_type": "markdown",
   "metadata": {},
   "source": [
    "Loops can slow down massively\n",
    "http://wiki.scipy.org/Tentative_NumPy_Tutorial\n"
   ]
  },
  {
   "cell_type": "markdown",
   "metadata": {},
   "source": [
    "# Simple Monte Carlo example"
   ]
  },
  {
   "cell_type": "markdown",
   "metadata": {},
   "source": [
    "Example of particles in a box going for equilibrium\n",
    "\n",
    "![Computation example](https://github.com/tomaskontrimas/teaching/raw/master/WS_2024_25/advanced_python/image.png)\n",
    "\n",
    "The number of particles should be given by : \n",
    "\n",
    "$$\n",
    "\\huge{\\delta N_{12} = \\alpha N_{1} \\Delta t}\n",
    "$$\n",
    "\n",
    "And it can be shown that:\n",
    "\n",
    "$$\n",
    "\\huge{\\delta N_{21} = \\alpha N_{2} \\Delta t}\n",
    "$$\n",
    "\n",
    "Equilibrium will be reach when : \n",
    "\n",
    "$$\n",
    "\\huge{N_{1} = N_{2}}\n",
    "$$\n"
   ]
  },
  {
   "cell_type": "code",
   "execution_count": 67,
   "metadata": {},
   "outputs": [
    {
     "name": "stdout",
     "output_type": "stream",
     "text": [
      "Iteration 0: N1=995, N2=5\n",
      "Iteration 1: N1=985, N2=15\n",
      "Iteration 2: N1=974, N2=26\n",
      "Iteration 3: N1=965, N2=35\n",
      "Iteration 4: N1=956, N2=44\n",
      "Iteration 5: N1=945, N2=55\n",
      "Iteration 6: N1=940, N2=60\n",
      "Iteration 7: N1=934, N2=66\n",
      "Iteration 8: N1=929, N2=71\n",
      "Iteration 9: N1=918, N2=82\n",
      "Iteration 10: N1=909, N2=91\n",
      "Iteration 11: N1=899, N2=101\n",
      "Iteration 12: N1=892, N2=108\n",
      "Iteration 13: N1=884, N2=116\n",
      "Iteration 14: N1=876, N2=124\n",
      "Iteration 15: N1=869, N2=131\n",
      "Iteration 16: N1=863, N2=137\n",
      "Iteration 17: N1=852, N2=148\n",
      "Iteration 18: N1=841, N2=159\n",
      "Iteration 19: N1=830, N2=170\n",
      "Iteration 20: N1=824, N2=176\n",
      "Iteration 21: N1=819, N2=181\n",
      "Iteration 22: N1=813, N2=187\n",
      "Iteration 23: N1=804, N2=196\n",
      "Iteration 24: N1=799, N2=201\n",
      "Iteration 25: N1=789, N2=211\n",
      "Iteration 26: N1=786, N2=214\n",
      "Iteration 27: N1=779, N2=221\n",
      "Iteration 28: N1=776, N2=224\n",
      "Iteration 29: N1=768, N2=232\n",
      "Iteration 30: N1=758, N2=242\n",
      "Iteration 31: N1=756, N2=244\n",
      "Iteration 32: N1=754, N2=246\n",
      "Iteration 33: N1=748, N2=252\n",
      "Iteration 34: N1=740, N2=260\n",
      "Iteration 35: N1=738, N2=262\n",
      "Iteration 36: N1=737, N2=263\n",
      "Iteration 37: N1=735, N2=265\n",
      "Iteration 38: N1=727, N2=273\n",
      "Iteration 39: N1=716, N2=284\n",
      "Iteration 40: N1=709, N2=291\n",
      "Iteration 41: N1=706, N2=294\n",
      "Iteration 42: N1=706, N2=294\n",
      "Iteration 43: N1=704, N2=296\n",
      "Iteration 44: N1=697, N2=303\n",
      "Iteration 45: N1=694, N2=306\n",
      "Iteration 46: N1=688, N2=312\n",
      "Iteration 47: N1=688, N2=312\n",
      "Iteration 48: N1=688, N2=312\n",
      "Iteration 49: N1=685, N2=315\n",
      "Iteration 50: N1=677, N2=323\n",
      "Iteration 51: N1=673, N2=327\n",
      "Iteration 52: N1=667, N2=333\n",
      "Iteration 53: N1=663, N2=337\n",
      "Iteration 54: N1=662, N2=338\n",
      "Iteration 55: N1=658, N2=342\n",
      "Iteration 56: N1=654, N2=346\n",
      "Iteration 57: N1=653, N2=347\n",
      "Iteration 58: N1=653, N2=347\n",
      "Iteration 59: N1=645, N2=355\n",
      "Iteration 60: N1=644, N2=356\n",
      "Iteration 61: N1=642, N2=358\n",
      "Iteration 62: N1=633, N2=367\n",
      "Iteration 63: N1=632, N2=368\n",
      "Iteration 64: N1=629, N2=371\n",
      "Iteration 65: N1=632, N2=368\n",
      "Iteration 66: N1=632, N2=368\n",
      "Iteration 67: N1=632, N2=368\n",
      "Iteration 68: N1=630, N2=370\n",
      "Iteration 69: N1=620, N2=380\n",
      "Iteration 70: N1=616, N2=384\n",
      "Iteration 71: N1=611, N2=389\n",
      "Iteration 72: N1=607, N2=393\n",
      "Iteration 73: N1=607, N2=393\n",
      "Iteration 74: N1=603, N2=397\n",
      "Iteration 75: N1=598, N2=402\n",
      "Iteration 76: N1=599, N2=401\n",
      "Iteration 77: N1=592, N2=408\n",
      "Iteration 78: N1=591, N2=409\n",
      "Iteration 79: N1=589, N2=411\n",
      "Iteration 80: N1=587, N2=413\n",
      "Iteration 81: N1=586, N2=414\n",
      "Iteration 82: N1=586, N2=414\n",
      "Iteration 83: N1=585, N2=415\n",
      "Iteration 84: N1=587, N2=413\n",
      "Iteration 85: N1=582, N2=418\n",
      "Iteration 86: N1=582, N2=418\n",
      "Iteration 87: N1=581, N2=419\n",
      "Iteration 88: N1=586, N2=414\n",
      "Iteration 89: N1=588, N2=412\n",
      "Iteration 90: N1=588, N2=412\n",
      "Iteration 91: N1=590, N2=410\n",
      "Iteration 92: N1=589, N2=411\n",
      "Iteration 93: N1=591, N2=409\n",
      "Iteration 94: N1=588, N2=412\n",
      "Iteration 95: N1=584, N2=416\n",
      "Iteration 96: N1=582, N2=418\n",
      "Iteration 97: N1=578, N2=422\n",
      "Iteration 98: N1=580, N2=420\n",
      "Iteration 99: N1=574, N2=426\n",
      "Iteration 100: N1=568, N2=432\n",
      "Iteration 101: N1=570, N2=430\n",
      "Iteration 102: N1=565, N2=435\n",
      "Iteration 103: N1=561, N2=439\n",
      "Iteration 104: N1=556, N2=444\n",
      "Iteration 105: N1=562, N2=438\n",
      "Iteration 106: N1=556, N2=444\n",
      "Iteration 107: N1=550, N2=450\n",
      "Iteration 108: N1=551, N2=449\n",
      "Iteration 109: N1=549, N2=451\n",
      "Iteration 110: N1=550, N2=450\n",
      "Iteration 111: N1=551, N2=449\n",
      "Iteration 112: N1=552, N2=448\n",
      "Iteration 113: N1=547, N2=453\n",
      "Iteration 114: N1=548, N2=452\n",
      "Iteration 115: N1=547, N2=453\n",
      "Iteration 116: N1=544, N2=456\n",
      "Iteration 117: N1=546, N2=454\n",
      "Iteration 118: N1=543, N2=457\n",
      "Iteration 119: N1=542, N2=458\n",
      "Iteration 120: N1=541, N2=459\n",
      "Iteration 121: N1=540, N2=460\n",
      "Iteration 122: N1=539, N2=461\n",
      "Iteration 123: N1=541, N2=459\n",
      "Iteration 124: N1=537, N2=463\n",
      "Iteration 125: N1=532, N2=468\n",
      "Iteration 126: N1=538, N2=462\n",
      "Iteration 127: N1=538, N2=462\n",
      "Iteration 128: N1=534, N2=466\n",
      "Iteration 129: N1=541, N2=459\n",
      "Iteration 130: N1=543, N2=457\n",
      "Iteration 131: N1=542, N2=458\n",
      "Iteration 132: N1=544, N2=456\n",
      "Iteration 133: N1=546, N2=454\n",
      "Iteration 134: N1=553, N2=447\n",
      "Iteration 135: N1=553, N2=447\n",
      "Iteration 136: N1=546, N2=454\n",
      "Iteration 137: N1=549, N2=451\n",
      "Iteration 138: N1=548, N2=452\n",
      "Iteration 139: N1=550, N2=450\n",
      "Iteration 140: N1=549, N2=451\n",
      "Iteration 141: N1=546, N2=454\n",
      "Iteration 142: N1=540, N2=460\n",
      "Iteration 143: N1=540, N2=460\n",
      "Iteration 144: N1=539, N2=461\n",
      "Iteration 145: N1=536, N2=464\n",
      "Iteration 146: N1=530, N2=470\n",
      "Iteration 147: N1=523, N2=477\n",
      "Iteration 148: N1=525, N2=475\n",
      "Iteration 149: N1=522, N2=478\n",
      "Iteration 150: N1=522, N2=478\n",
      "Iteration 151: N1=522, N2=478\n",
      "Iteration 152: N1=524, N2=476\n",
      "Iteration 153: N1=525, N2=475\n",
      "Iteration 154: N1=528, N2=472\n",
      "Iteration 155: N1=526, N2=474\n",
      "Iteration 156: N1=527, N2=473\n",
      "Iteration 157: N1=528, N2=472\n",
      "Iteration 158: N1=530, N2=470\n",
      "Iteration 159: N1=534, N2=466\n",
      "Iteration 160: N1=535, N2=465\n",
      "Iteration 161: N1=531, N2=469\n",
      "Iteration 162: N1=535, N2=465\n",
      "Iteration 163: N1=535, N2=465\n",
      "Iteration 164: N1=532, N2=468\n",
      "Iteration 165: N1=531, N2=469\n",
      "Iteration 166: N1=525, N2=475\n",
      "Iteration 167: N1=525, N2=475\n",
      "Iteration 168: N1=521, N2=479\n",
      "Iteration 169: N1=520, N2=480\n",
      "Iteration 170: N1=516, N2=484\n",
      "Iteration 171: N1=518, N2=482\n",
      "Iteration 172: N1=519, N2=481\n",
      "Iteration 173: N1=518, N2=482\n",
      "Iteration 174: N1=522, N2=478\n",
      "Iteration 175: N1=525, N2=475\n",
      "Iteration 176: N1=524, N2=476\n",
      "Iteration 177: N1=521, N2=479\n",
      "Iteration 178: N1=524, N2=476\n",
      "Iteration 179: N1=519, N2=481\n",
      "Iteration 180: N1=516, N2=484\n",
      "Iteration 181: N1=514, N2=486\n",
      "Iteration 182: N1=519, N2=481\n",
      "Iteration 183: N1=523, N2=477\n",
      "Iteration 184: N1=521, N2=479\n",
      "Iteration 185: N1=520, N2=480\n",
      "Iteration 186: N1=525, N2=475\n",
      "Iteration 187: N1=522, N2=478\n",
      "Iteration 188: N1=523, N2=477\n",
      "Iteration 189: N1=523, N2=477\n",
      "Iteration 190: N1=524, N2=476\n",
      "Iteration 191: N1=518, N2=482\n",
      "Iteration 192: N1=518, N2=482\n",
      "Iteration 193: N1=515, N2=485\n",
      "Iteration 194: N1=515, N2=485\n",
      "Iteration 195: N1=514, N2=486\n",
      "Iteration 196: N1=518, N2=482\n",
      "Iteration 197: N1=520, N2=480\n",
      "Iteration 198: N1=521, N2=479\n",
      "Iteration 199: N1=521, N2=479\n",
      "Iteration 200: N1=517, N2=483\n",
      "Iteration 201: N1=511, N2=489\n",
      "Iteration 202: N1=516, N2=484\n",
      "Iteration 203: N1=513, N2=487\n",
      "Iteration 204: N1=513, N2=487\n",
      "Iteration 205: N1=519, N2=481\n",
      "Iteration 206: N1=522, N2=478\n",
      "Iteration 207: N1=520, N2=480\n",
      "Iteration 208: N1=526, N2=474\n",
      "Iteration 209: N1=525, N2=475\n",
      "Iteration 210: N1=527, N2=473\n",
      "Iteration 211: N1=528, N2=472\n",
      "Iteration 212: N1=523, N2=477\n",
      "Iteration 213: N1=525, N2=475\n",
      "Iteration 214: N1=526, N2=474\n",
      "Iteration 215: N1=529, N2=471\n",
      "Iteration 216: N1=528, N2=472\n",
      "Iteration 217: N1=532, N2=468\n",
      "Iteration 218: N1=532, N2=468\n",
      "Iteration 219: N1=529, N2=471\n",
      "Iteration 220: N1=529, N2=471\n",
      "Iteration 221: N1=533, N2=467\n",
      "Iteration 222: N1=532, N2=468\n",
      "Iteration 223: N1=531, N2=469\n",
      "Iteration 224: N1=532, N2=468\n",
      "Iteration 225: N1=532, N2=468\n",
      "Iteration 226: N1=532, N2=468\n",
      "Iteration 227: N1=532, N2=468\n",
      "Iteration 228: N1=532, N2=468\n",
      "Iteration 229: N1=535, N2=465\n",
      "Iteration 230: N1=534, N2=466\n",
      "Iteration 231: N1=538, N2=462\n",
      "Iteration 232: N1=534, N2=466\n",
      "Iteration 233: N1=539, N2=461\n",
      "Iteration 234: N1=543, N2=457\n",
      "Iteration 235: N1=541, N2=459\n",
      "Iteration 236: N1=538, N2=462\n",
      "Iteration 237: N1=538, N2=462\n",
      "Iteration 238: N1=540, N2=460\n",
      "Iteration 239: N1=539, N2=461\n",
      "Iteration 240: N1=536, N2=464\n",
      "Iteration 241: N1=529, N2=471\n",
      "Iteration 242: N1=526, N2=474\n",
      "Iteration 243: N1=527, N2=473\n",
      "Iteration 244: N1=523, N2=477\n",
      "Iteration 245: N1=524, N2=476\n",
      "Iteration 246: N1=521, N2=479\n",
      "Iteration 247: N1=512, N2=488\n",
      "Iteration 248: N1=513, N2=487\n",
      "Iteration 249: N1=516, N2=484\n",
      "Iteration 250: N1=515, N2=485\n",
      "Iteration 251: N1=523, N2=477\n",
      "Iteration 252: N1=525, N2=475\n",
      "Iteration 253: N1=526, N2=474\n",
      "Iteration 254: N1=533, N2=467\n",
      "Iteration 255: N1=536, N2=464\n",
      "Iteration 256: N1=539, N2=461\n",
      "Iteration 257: N1=539, N2=461\n",
      "Iteration 258: N1=538, N2=462\n",
      "Iteration 259: N1=533, N2=467\n",
      "Iteration 260: N1=533, N2=467\n",
      "Iteration 261: N1=534, N2=466\n",
      "Iteration 262: N1=536, N2=464\n",
      "Iteration 263: N1=539, N2=461\n",
      "Iteration 264: N1=533, N2=467\n",
      "Iteration 265: N1=537, N2=463\n",
      "Iteration 266: N1=541, N2=459\n",
      "Iteration 267: N1=540, N2=460\n",
      "Iteration 268: N1=540, N2=460\n",
      "Iteration 269: N1=542, N2=458\n",
      "Iteration 270: N1=545, N2=455\n",
      "Iteration 271: N1=542, N2=458\n",
      "Iteration 272: N1=546, N2=454\n",
      "Iteration 273: N1=545, N2=455\n",
      "Iteration 274: N1=543, N2=457\n",
      "Iteration 275: N1=539, N2=461\n",
      "Iteration 276: N1=537, N2=463\n",
      "Iteration 277: N1=536, N2=464\n",
      "Iteration 278: N1=532, N2=468\n",
      "Iteration 279: N1=533, N2=467\n",
      "Iteration 280: N1=530, N2=470\n",
      "Iteration 281: N1=533, N2=467\n",
      "Iteration 282: N1=535, N2=465\n",
      "Iteration 283: N1=535, N2=465\n",
      "Iteration 284: N1=539, N2=461\n",
      "Iteration 285: N1=543, N2=457\n",
      "Iteration 286: N1=538, N2=462\n",
      "Iteration 287: N1=536, N2=464\n",
      "Iteration 288: N1=537, N2=463\n",
      "Iteration 289: N1=535, N2=465\n",
      "Iteration 290: N1=538, N2=462\n",
      "Iteration 291: N1=539, N2=461\n",
      "Iteration 292: N1=543, N2=457\n",
      "Iteration 293: N1=539, N2=461\n",
      "Iteration 294: N1=539, N2=461\n",
      "Iteration 295: N1=535, N2=465\n",
      "Iteration 296: N1=538, N2=462\n",
      "Iteration 297: N1=540, N2=460\n",
      "Iteration 298: N1=535, N2=465\n",
      "Iteration 299: N1=535, N2=465\n",
      "Iteration 300: N1=535, N2=465\n",
      "Iteration 301: N1=535, N2=465\n",
      "Iteration 302: N1=539, N2=461\n",
      "Iteration 303: N1=539, N2=461\n",
      "Iteration 304: N1=538, N2=462\n",
      "Iteration 305: N1=535, N2=465\n",
      "Iteration 306: N1=537, N2=463\n",
      "Iteration 307: N1=537, N2=463\n",
      "Iteration 308: N1=537, N2=463\n",
      "Iteration 309: N1=538, N2=462\n",
      "Iteration 310: N1=535, N2=465\n",
      "Iteration 311: N1=530, N2=470\n",
      "Iteration 312: N1=529, N2=471\n",
      "Iteration 313: N1=529, N2=471\n",
      "Iteration 314: N1=526, N2=474\n",
      "Iteration 315: N1=528, N2=472\n",
      "Iteration 316: N1=529, N2=471\n",
      "Iteration 317: N1=533, N2=467\n",
      "Iteration 318: N1=532, N2=468\n",
      "Iteration 319: N1=524, N2=476\n",
      "Iteration 320: N1=525, N2=475\n",
      "Iteration 321: N1=523, N2=477\n",
      "Iteration 322: N1=524, N2=476\n",
      "Iteration 323: N1=517, N2=483\n",
      "Iteration 324: N1=519, N2=481\n",
      "Iteration 325: N1=516, N2=484\n",
      "Iteration 326: N1=519, N2=481\n",
      "Iteration 327: N1=520, N2=480\n",
      "Iteration 328: N1=522, N2=478\n",
      "Iteration 329: N1=523, N2=477\n",
      "Iteration 330: N1=524, N2=476\n",
      "Iteration 331: N1=525, N2=475\n",
      "Iteration 332: N1=525, N2=475\n",
      "Iteration 333: N1=528, N2=472\n",
      "Iteration 334: N1=531, N2=469\n",
      "Iteration 335: N1=525, N2=475\n",
      "Iteration 336: N1=520, N2=480\n",
      "Iteration 337: N1=522, N2=478\n",
      "Iteration 338: N1=523, N2=477\n",
      "Iteration 339: N1=524, N2=476\n",
      "Iteration 340: N1=529, N2=471\n",
      "Iteration 341: N1=528, N2=472\n",
      "Iteration 342: N1=530, N2=470\n",
      "Iteration 343: N1=527, N2=473\n",
      "Iteration 344: N1=524, N2=476\n",
      "Iteration 345: N1=527, N2=473\n",
      "Iteration 346: N1=528, N2=472\n",
      "Iteration 347: N1=528, N2=472\n",
      "Iteration 348: N1=529, N2=471\n",
      "Iteration 349: N1=531, N2=469\n",
      "Iteration 350: N1=525, N2=475\n",
      "Iteration 351: N1=522, N2=478\n",
      "Iteration 352: N1=525, N2=475\n",
      "Iteration 353: N1=529, N2=471\n",
      "Iteration 354: N1=531, N2=469\n",
      "Iteration 355: N1=537, N2=463\n",
      "Iteration 356: N1=539, N2=461\n",
      "Iteration 357: N1=536, N2=464\n",
      "Iteration 358: N1=537, N2=463\n",
      "Iteration 359: N1=542, N2=458\n",
      "Iteration 360: N1=545, N2=455\n",
      "Iteration 361: N1=543, N2=457\n",
      "Iteration 362: N1=541, N2=459\n",
      "Iteration 363: N1=540, N2=460\n",
      "Iteration 364: N1=543, N2=457\n",
      "Iteration 365: N1=542, N2=458\n",
      "Iteration 366: N1=545, N2=455\n",
      "Iteration 367: N1=544, N2=456\n",
      "Iteration 368: N1=544, N2=456\n",
      "Iteration 369: N1=543, N2=457\n",
      "Iteration 370: N1=542, N2=458\n",
      "Iteration 371: N1=540, N2=460\n",
      "Iteration 372: N1=546, N2=454\n",
      "Iteration 373: N1=546, N2=454\n",
      "Iteration 374: N1=540, N2=460\n",
      "Iteration 375: N1=540, N2=460\n",
      "Iteration 376: N1=541, N2=459\n",
      "Iteration 377: N1=539, N2=461\n",
      "Iteration 378: N1=539, N2=461\n",
      "Iteration 379: N1=540, N2=460\n",
      "Iteration 380: N1=537, N2=463\n",
      "Iteration 381: N1=540, N2=460\n",
      "Iteration 382: N1=543, N2=457\n",
      "Iteration 383: N1=543, N2=457\n",
      "Iteration 384: N1=542, N2=458\n",
      "Iteration 385: N1=538, N2=462\n",
      "Iteration 386: N1=537, N2=463\n",
      "Iteration 387: N1=538, N2=462\n",
      "Iteration 388: N1=537, N2=463\n",
      "Iteration 389: N1=537, N2=463\n",
      "Iteration 390: N1=539, N2=461\n",
      "Iteration 391: N1=538, N2=462\n",
      "Iteration 392: N1=540, N2=460\n",
      "Iteration 393: N1=529, N2=471\n",
      "Iteration 394: N1=527, N2=473\n",
      "Iteration 395: N1=529, N2=471\n",
      "Iteration 396: N1=527, N2=473\n",
      "Iteration 397: N1=524, N2=476\n",
      "Iteration 398: N1=520, N2=480\n",
      "Iteration 399: N1=519, N2=481\n",
      "Iteration 400: N1=513, N2=487\n",
      "Iteration 401: N1=517, N2=483\n",
      "Iteration 402: N1=514, N2=486\n",
      "Iteration 403: N1=517, N2=483\n",
      "Iteration 404: N1=517, N2=483\n",
      "Iteration 405: N1=517, N2=483\n",
      "Iteration 406: N1=520, N2=480\n",
      "Iteration 407: N1=520, N2=480\n",
      "Iteration 408: N1=525, N2=475\n",
      "Iteration 409: N1=518, N2=482\n",
      "Iteration 410: N1=518, N2=482\n",
      "Iteration 411: N1=515, N2=485\n",
      "Iteration 412: N1=513, N2=487\n",
      "Iteration 413: N1=514, N2=486\n",
      "Iteration 414: N1=513, N2=487\n",
      "Iteration 415: N1=515, N2=485\n",
      "Iteration 416: N1=512, N2=488\n",
      "Iteration 417: N1=515, N2=485\n",
      "Iteration 418: N1=519, N2=481\n",
      "Iteration 419: N1=517, N2=483\n",
      "Iteration 420: N1=513, N2=487\n",
      "Iteration 421: N1=509, N2=491\n",
      "Iteration 422: N1=510, N2=490\n",
      "Iteration 423: N1=507, N2=493\n",
      "Iteration 424: N1=508, N2=492\n",
      "Iteration 425: N1=507, N2=493\n",
      "Iteration 426: N1=510, N2=490\n",
      "Iteration 427: N1=510, N2=490\n",
      "Iteration 428: N1=513, N2=487\n",
      "Iteration 429: N1=517, N2=483\n",
      "Iteration 430: N1=514, N2=486\n",
      "Iteration 431: N1=513, N2=487\n",
      "Iteration 432: N1=514, N2=486\n",
      "Iteration 433: N1=513, N2=487\n",
      "Iteration 434: N1=510, N2=490\n",
      "Iteration 435: N1=509, N2=491\n",
      "Iteration 436: N1=514, N2=486\n",
      "Iteration 437: N1=517, N2=483\n",
      "Iteration 438: N1=521, N2=479\n",
      "Iteration 439: N1=522, N2=478\n",
      "Iteration 440: N1=520, N2=480\n",
      "Iteration 441: N1=521, N2=479\n",
      "Iteration 442: N1=520, N2=480\n",
      "Iteration 443: N1=517, N2=483\n",
      "Iteration 444: N1=518, N2=482\n",
      "Iteration 445: N1=524, N2=476\n",
      "Iteration 446: N1=530, N2=470\n",
      "Iteration 447: N1=528, N2=472\n",
      "Iteration 448: N1=527, N2=473\n",
      "Iteration 449: N1=525, N2=475\n",
      "Iteration 450: N1=523, N2=477\n",
      "Iteration 451: N1=525, N2=475\n",
      "Iteration 452: N1=525, N2=475\n",
      "Iteration 453: N1=531, N2=469\n",
      "Iteration 454: N1=534, N2=466\n",
      "Iteration 455: N1=535, N2=465\n",
      "Iteration 456: N1=534, N2=466\n",
      "Iteration 457: N1=533, N2=467\n",
      "Iteration 458: N1=532, N2=468\n",
      "Iteration 459: N1=530, N2=470\n",
      "Iteration 460: N1=526, N2=474\n",
      "Iteration 461: N1=527, N2=473\n",
      "Iteration 462: N1=528, N2=472\n",
      "Iteration 463: N1=532, N2=468\n",
      "Iteration 464: N1=532, N2=468\n",
      "Iteration 465: N1=528, N2=472\n",
      "Iteration 466: N1=521, N2=479\n",
      "Iteration 467: N1=519, N2=481\n",
      "Iteration 468: N1=520, N2=480\n",
      "Iteration 469: N1=521, N2=479\n",
      "Iteration 470: N1=523, N2=477\n",
      "Iteration 471: N1=523, N2=477\n",
      "Iteration 472: N1=520, N2=480\n",
      "Iteration 473: N1=520, N2=480\n",
      "Iteration 474: N1=517, N2=483\n",
      "Iteration 475: N1=514, N2=486\n",
      "Iteration 476: N1=516, N2=484\n",
      "Iteration 477: N1=514, N2=486\n",
      "Iteration 478: N1=513, N2=487\n",
      "Iteration 479: N1=518, N2=482\n",
      "Iteration 480: N1=520, N2=480\n",
      "Iteration 481: N1=520, N2=480\n",
      "Iteration 482: N1=524, N2=476\n",
      "Iteration 483: N1=522, N2=478\n",
      "Iteration 484: N1=524, N2=476\n",
      "Iteration 485: N1=526, N2=474\n",
      "Iteration 486: N1=526, N2=474\n",
      "Iteration 487: N1=519, N2=481\n",
      "Iteration 488: N1=521, N2=479\n",
      "Iteration 489: N1=523, N2=477\n",
      "Iteration 490: N1=517, N2=483\n",
      "Iteration 491: N1=519, N2=481\n",
      "Iteration 492: N1=516, N2=484\n",
      "Iteration 493: N1=516, N2=484\n",
      "Iteration 494: N1=515, N2=485\n",
      "Iteration 495: N1=517, N2=483\n",
      "Iteration 496: N1=518, N2=482\n",
      "Iteration 497: N1=515, N2=485\n",
      "Iteration 498: N1=516, N2=484\n",
      "Iteration 499: N1=514, N2=486\n"
     ]
    }
   ],
   "source": [
    "# Simualte mix of particle in a box\n",
    "import numpy as np\n",
    "\n",
    "niter = 500  # Number of time iteration\n",
    "n = 1000  # Total number of particles\n",
    "alpha = 0.01  # Probability for every particle to cross the boundary\n",
    "\n",
    "# Save result of every iteration in the array for plotting.\n",
    "results = np.empty((niter, 2))\n",
    "\n",
    "# Initial conditions every particles starts in box 1\n",
    "n1 = n\n",
    "n2 = n - n1\n",
    "for i in range(niter):\n",
    "    de1a2 = (\n",
    "        np.random.random(n1) <= alpha\n",
    "    ).sum()  # number of particle going from 1 to 2\n",
    "    de2a1 = (\n",
    "        np.random.random(n2) <= alpha\n",
    "    ).sum()  # number of particle going from 2 to 1\n",
    "    # de1a2=np.random.binomial(n1,alpha)\n",
    "    # de2a1=np.random.binomial(n2,alpha)\n",
    "    n1 += de2a1 - de1a2  # new number of particle in 1\n",
    "    n2 += de1a2 - de2a1  # new number of particle in 2\n",
    "    print(\"Iteration {}: N1={}, N2={}\".format(i, n1, n2))\n",
    "    results[i] = (n1, n2)"
   ]
  },
  {
   "cell_type": "code",
   "execution_count": 68,
   "metadata": {},
   "outputs": [
    {
     "data": {
      "image/png": "[encoded data removed]",
      "text/plain": [
       "<Figure size 640x480 with 1 Axes>"
      ]
     },
     "metadata": {},
     "output_type": "display_data"
    }
   ],
   "source": [
    "import matplotlib.pyplot as plt\n",
    "\n",
    "plt.figure()\n",
    "plt.plot(results[:, 0], label=\"Box 1\")\n",
    "plt.plot(results[:, 1], label=\"Box 2\")\n",
    "\n",
    "plt.axhline(n / 2, color=\"gray\", linestyle=\"--\", label=\"Equilibrium\")\n",
    "\n",
    "plt.xlabel(\"Iteration\")\n",
    "plt.ylabel(\"Number of particles\")\n",
    "\n",
    "plt.legend()\n",
    "plt.show()"
   ]
  },
  {
   "cell_type": "markdown",
   "metadata": {},
   "source": []
  },
  {
   "cell_type": "markdown",
   "metadata": {},
   "source": [
    "# Pandas\n",
    "The `pandas` package provides user-friendly record arrays as `DataFrame` objects. 1D arrays are represented by `Series` objects.\n",
    "\n",
    "* See [pandas.pydata.org](https://pandas.pydata.org/)\n",
    "* Table rows can be indexed for faster access.\n",
    "* See [The 10 min guide (pandas.pydata.org/docs/user_guide/10min.html)](https://pandas.pydata.org/docs/user_guide/10min.html)\n"
   ]
  },
  {
   "cell_type": "code",
   "execution_count": 69,
   "metadata": {},
   "outputs": [
    {
     "name": "stdout",
     "output_type": "stream",
     "text": [
      "   A\n",
      "0  1\n",
      "1  2\n",
      "2  3\n"
     ]
    }
   ],
   "source": [
    "import pandas as pd\n",
    "\n",
    "df = pd.DataFrame({\"A\": [1, 2, 3]})\n",
    "print(df)"
   ]
  },
  {
   "cell_type": "code",
   "execution_count": 70,
   "metadata": {},
   "outputs": [
    {
     "name": "stdout",
     "output_type": "stream",
     "text": [
      "0    1\n",
      "1    2\n",
      "2    3\n",
      "dtype: int64\n"
     ]
    }
   ],
   "source": [
    "arr = pd.Series([1, 2, 3])\n",
    "print(arr)"
   ]
  },
  {
   "cell_type": "code",
   "execution_count": 71,
   "metadata": {},
   "outputs": [
    {
     "data": {
      "text/plain": [
       "A    int64\n",
       "dtype: object"
      ]
     },
     "execution_count": 71,
     "metadata": {},
     "output_type": "execute_result"
    }
   ],
   "source": [
    "# Show data types:\n",
    "df.dtypes"
   ]
  },
  {
   "cell_type": "code",
   "execution_count": 72,
   "metadata": {},
   "outputs": [
    {
     "data": {
      "text/html": [
       "<div>\n",
       "<style scoped>\n",
       "    .dataframe tbody tr th:only-of-type {\n",
       "        vertical-align: middle;\n",
       "    }\n",
       "\n",
       "    .dataframe tbody tr th {\n",
       "        vertical-align: top;\n",
       "    }\n",
       "\n",
       "    .dataframe thead th {\n",
       "        text-align: right;\n",
       "    }\n",
       "</style>\n",
       "<table border=\"1\" class=\"dataframe\">\n",
       "  <thead>\n",
       "    <tr style=\"text-align: right;\">\n",
       "      <th></th>\n",
       "      <th>A</th>\n",
       "    </tr>\n",
       "  </thead>\n",
       "  <tbody>\n",
       "    <tr>\n",
       "      <th>count</th>\n",
       "      <td>3.0</td>\n",
       "    </tr>\n",
       "    <tr>\n",
       "      <th>mean</th>\n",
       "      <td>2.0</td>\n",
       "    </tr>\n",
       "    <tr>\n",
       "      <th>std</th>\n",
       "      <td>1.0</td>\n",
       "    </tr>\n",
       "    <tr>\n",
       "      <th>min</th>\n",
       "      <td>1.0</td>\n",
       "    </tr>\n",
       "    <tr>\n",
       "      <th>25%</th>\n",
       "      <td>1.5</td>\n",
       "    </tr>\n",
       "    <tr>\n",
       "      <th>50%</th>\n",
       "      <td>2.0</td>\n",
       "    </tr>\n",
       "    <tr>\n",
       "      <th>75%</th>\n",
       "      <td>2.5</td>\n",
       "    </tr>\n",
       "    <tr>\n",
       "      <th>max</th>\n",
       "      <td>3.0</td>\n",
       "    </tr>\n",
       "  </tbody>\n",
       "</table>\n",
       "</div>"
      ],
      "text/plain": [
       "         A\n",
       "count  3.0\n",
       "mean   2.0\n",
       "std    1.0\n",
       "min    1.0\n",
       "25%    1.5\n",
       "50%    2.0\n",
       "75%    2.5\n",
       "max    3.0"
      ]
     },
     "execution_count": 72,
     "metadata": {},
     "output_type": "execute_result"
    }
   ],
   "source": [
    "# describe() shows a quick statistic summary of your data:\n",
    "df.describe()"
   ]
  },
  {
   "cell_type": "code",
   "execution_count": 73,
   "metadata": {},
   "outputs": [
    {
     "data": {
      "text/html": [
       "<div>\n",
       "<style scoped>\n",
       "    .dataframe tbody tr th:only-of-type {\n",
       "        vertical-align: middle;\n",
       "    }\n",
       "\n",
       "    .dataframe tbody tr th {\n",
       "        vertical-align: top;\n",
       "    }\n",
       "\n",
       "    .dataframe thead th {\n",
       "        text-align: right;\n",
       "    }\n",
       "</style>\n",
       "<table border=\"1\" class=\"dataframe\">\n",
       "  <thead>\n",
       "    <tr style=\"text-align: right;\">\n",
       "      <th></th>\n",
       "      <th>A</th>\n",
       "    </tr>\n",
       "  </thead>\n",
       "  <tbody>\n",
       "    <tr>\n",
       "      <th>0</th>\n",
       "      <td>1</td>\n",
       "    </tr>\n",
       "    <tr>\n",
       "      <th>1</th>\n",
       "      <td>2</td>\n",
       "    </tr>\n",
       "  </tbody>\n",
       "</table>\n",
       "</div>"
      ],
      "text/plain": [
       "   A\n",
       "0  1\n",
       "1  2"
      ]
     },
     "execution_count": 73,
     "metadata": {},
     "output_type": "execute_result"
    }
   ],
   "source": [
    "# Slicing rows.\n",
    "df[0:2]"
   ]
  },
  {
   "cell_type": "markdown",
   "metadata": {},
   "source": [
    "# Scipy"
   ]
  },
  {
   "cell_type": "markdown",
   "metadata": {},
   "source": [
    "Scipy is a package providing functionality for scientific calculations like:\n",
    "\n",
    "- numerical integration\n",
    "- minimization / curve fitting\n",
    "- interpolation, e.g. splines\n",
    "- statistical function, e.g. various probability distributions\n",
    "- ...\n",
    "\n",
    " [Scipy Documentation](https://docs.scipy.org/doc/scipy/tutorial/index.html)"
   ]
  },
  {
   "cell_type": "markdown",
   "metadata": {},
   "source": [
    "## Numerical integration\n",
    "\n",
    "`scipy.integrate.quad(func, a, b[, args, full_output, ...])` provides an integrator for a finite integration of a function.  "
   ]
  },
  {
   "cell_type": "markdown",
   "metadata": {},
   "source": [
    "## Minimization / curve fitting\n",
    "\n",
    "The `scipy.optimize` module provides various functions for optimization purposes, like minimization and curve fitting.\n",
    "\n",
    "- `scipy.optimize.minimize` minimizes a function using various algorithms.\n",
    "\n",
    "- `scipy.optimize.curve_fit(f, xdata, ydata[, p0, sigma, ...]))` fits a function to data."
   ]
  },
  {
   "cell_type": "markdown",
   "metadata": {},
   "source": [
    "## Interpolation\n",
    "\n",
    "The `scipy.interpolate` module provides various interpolation classes, which\n",
    "provide b-spline representations of data points."
   ]
  },
  {
   "cell_type": "markdown",
   "metadata": {},
   "source": [
    "## Statistical functions\n",
    "\n",
    "The `scipy.stats` module provides various functions for statistical quantities\n",
    "and probability distributions."
   ]
  },
  {
   "cell_type": "markdown",
   "metadata": {},
   "source": [
    "# Matplotlib"
   ]
  },
  {
   "cell_type": "markdown",
   "metadata": {},
   "source": [
    "From the [Matplotlib webpage](https://matplotlib.org/):\n",
    "\n",
    "> Matplotlib is a Python 2D plotting library which produces publication quality figures\n",
    "> in a variety of hardcopy formats and interactive environments across platforms."
   ]
  },
  {
   "cell_type": "code",
   "execution_count": 74,
   "metadata": {},
   "outputs": [],
   "source": [
    "# Call this magic function in the first line of your Jupyter notebook:\n",
    "# %matplotlib notebook\n",
    "# If that doesn't work, use\n",
    "# %matplotlib widget"
   ]
  },
  {
   "cell_type": "code",
   "execution_count": 75,
   "metadata": {},
   "outputs": [
    {
     "data": {
      "text/plain": [
       "<Figure size 600x300 with 0 Axes>"
      ]
     },
     "metadata": {},
     "output_type": "display_data"
    }
   ],
   "source": [
    "# Example: the final plot looks like this:\n",
    "import matplotlib\n",
    "\n",
    "fig = matplotlib.pyplot.figure(figsize=(6, 3))"
   ]
  },
  {
   "cell_type": "code",
   "execution_count": 76,
   "metadata": {},
   "outputs": [],
   "source": [
    "# Split the figure into an array of fields: ncols x nrows.\n",
    "grid = matplotlib.pyplot.GridSpec(ncols=1, nrows=1)"
   ]
  },
  {
   "cell_type": "code",
   "execution_count": 77,
   "metadata": {},
   "outputs": [],
   "source": [
    "# Add a subplot by specifying column and row.\n",
    "# You can also use slicing here for combining fields.\n",
    "ax = fig.add_subplot(grid[0, 0])"
   ]
  },
  {
   "cell_type": "code",
   "execution_count": 78,
   "metadata": {},
   "outputs": [],
   "source": [
    "# Input data\n",
    "xval = np.linspace(0.0, 2.0 * np.pi, 101)\n",
    "yval = np.sin(xval)"
   ]
  },
  {
   "cell_type": "code",
   "execution_count": 79,
   "metadata": {},
   "outputs": [
    {
     "data": {
      "text/plain": [
       "[<matplotlib.lines.Line2D at 0x10fef3ed0>]"
      ]
     },
     "execution_count": 79,
     "metadata": {},
     "output_type": "execute_result"
    }
   ],
   "source": [
    "# Plot the input data:\n",
    "# Combine the data points with a solid line.\n",
    "ax.plot(xval, yval, \"-\", label=\"This is the sine function.\")"
   ]
  },
  {
   "cell_type": "code",
   "execution_count": 80,
   "metadata": {},
   "outputs": [
    {
     "data": {
      "text/plain": [
       "(-1.0, 1.0)"
      ]
     },
     "execution_count": 80,
     "metadata": {},
     "output_type": "execute_result"
    }
   ],
   "source": [
    "# Axes formatting\n",
    "ax.set_xlim(xval[0], xval[-1])\n",
    "ax.set_ylim(-1.0, 1.0)"
   ]
  },
  {
   "cell_type": "code",
   "execution_count": 81,
   "metadata": {},
   "outputs": [],
   "source": [
    "# Set the major ticks location and format of the x-axis.\n",
    "ax.xaxis.set_major_locator(\n",
    "    matplotlib.ticker.FixedLocator([0, np.pi / 2, np.pi, 3 / 2 * np.pi, 2 * np.pi])\n",
    ")\n",
    "ax.xaxis.set_major_formatter(\n",
    "    matplotlib.ticker.FixedFormatter(\n",
    "        [\"$0$\", r\"$\\frac{\\pi}{2}$\", r\"$\\pi$\", r\"$\\frac{3\\pi}{2}$\", r\"$2\\pi$\"]\n",
    "    )\n",
    ")"
   ]
  },
  {
   "cell_type": "code",
   "execution_count": 82,
   "metadata": {},
   "outputs": [],
   "source": [
    "# For linear ticks, Matplotlib is pretty good in figuring out the\n",
    "# location of minor ticks.\n",
    "ax.yaxis.set_major_locator(matplotlib.ticker.LinearLocator(numticks=5))\n",
    "ax.yaxis.set_minor_locator(matplotlib.ticker.AutoMinorLocator())"
   ]
  },
  {
   "cell_type": "code",
   "execution_count": 83,
   "metadata": {},
   "outputs": [
    {
     "data": {
      "text/plain": [
       "Text(0, 0.5, '$\\\\sin(\\\\alpha)$')"
      ]
     },
     "execution_count": 83,
     "metadata": {},
     "output_type": "execute_result"
    }
   ],
   "source": [
    "# Labels\n",
    "ax.set_xlabel(r\"$\\alpha$\")\n",
    "ax.set_ylabel(r\"$\\sin(\\alpha)$\")"
   ]
  },
  {
   "cell_type": "code",
   "execution_count": 84,
   "metadata": {},
   "outputs": [
    {
     "data": {
      "text/plain": [
       "<matplotlib.legend.Legend at 0x11c5119d0>"
      ]
     },
     "execution_count": 84,
     "metadata": {},
     "output_type": "execute_result"
    }
   ],
   "source": [
    "# Legend\n",
    "ax.legend(loc=\"upper right\")"
   ]
  },
  {
   "cell_type": "code",
   "execution_count": 85,
   "metadata": {},
   "outputs": [],
   "source": [
    "# Shrink the axes in order to fit in the labels.\n",
    "grid.tight_layout(fig)\n",
    "plt.show()"
   ]
  },
  {
   "cell_type": "code",
   "execution_count": 88,
   "metadata": {},
   "outputs": [],
   "source": [
    "# Save the figure.\n",
    "fig.savefig(\"example.pdf\")"
   ]
  },
  {
   "cell_type": "code",
   "execution_count": 87,
   "metadata": {},
   "outputs": [],
   "source": [
    "os.remove(\"example.pdf\")"
   ]
  }
 ],
 "metadata": {
  "kernelspec": {
   "display_name": ".venv",
   "language": "python",
   "name": "python3"
  },
  "language_info": {
   "codemirror_mode": {
    "name": "ipython",
    "version": 3
   },
   "file_extension": ".py",
   "mimetype": "text/x-python",
   "name": "python",
   "nbconvert_exporter": "python",
   "pygments_lexer": "ipython3",
   "version": "3.11.10"
  }
 },
 "nbformat": 4,
 "nbformat_minor": 2
}
