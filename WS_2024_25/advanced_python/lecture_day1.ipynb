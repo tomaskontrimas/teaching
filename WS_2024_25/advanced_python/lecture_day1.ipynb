{
 "cells": [
  {
   "cell_type": "markdown",
   "metadata": {},
   "source": [
    "# Advanced Python Programming, WS 2024/25\n",
    "\n",
    "Tomas Kontrimas\n",
    "\n",
    "Tobias Kerscher"
   ]
  },
  {
   "cell_type": "markdown",
   "metadata": {},
   "source": [
    "## Learning objectives of this course\n",
    "\n",
    "* Recap basic Python concepts and learn advanced features\n",
    "* Understand the concepts of object-oriented programming (OOP)\n",
    "* Understand inheritance in OOP\n",
    "* Get an overview of some useful Python packages"
   ]
  },
  {
   "cell_type": "markdown",
   "metadata": {},
   "source": [
    "## Technical Prerequisites Of This Course\n",
    "\n",
    "* Create and use Jupyter notebooks on google: https://colab.research.google.com\n",
    "\n",
    "    - Copy example notebooks to your own google drive and open them with google colab\n",
    "\n",
    "* Alternatively, computer with Python and Jupyter Notebook support\n",
    "\n",
    "    - Linux, Windows, Mac\n",
    "\n",
    "* *Microsoft Visual Studio Code* is a integrated developer environment (IDE) supporting Python and Jupyter notebooks as well\n",
    "\n",
    "* Take a look at **python_info.pdf** file for Python setup tips"
   ]
  },
  {
   "cell_type": "markdown",
   "metadata": {},
   "source": [
    "## Why do we need to be able to develop software in physics?\n",
    "\n",
    "* For most of our professional time we work with ...\n",
    "\n",
    "    * data taking\n",
    "    * data simulation\n",
    "    * data management\n",
    "    * data selection\n",
    "    * data analysis\n",
    "    * data visualization\n",
    "\n",
    "* All of the above needs software that is ...\n",
    "\n",
    "    * efficient\n",
    "    * modular\n",
    "    * well maintainable\n",
    "    * scalable\n",
    "\n",
    "Simulations take a lot of time and computing resources, therefore it is important to write efficient and scalable code.\n",
    "\n",
    "My example over the PhD years:\n",
    "\n",
    "![Computation example](https://github.com/tomaskontrimas/teaching/raw/master/WS_2024_25/advanced_python/cpuhrs.png)"
   ]
  },
  {
   "cell_type": "code",
   "execution_count": null,
   "metadata": {},
   "outputs": [],
   "source": []
  },
  {
   "cell_type": "markdown",
   "metadata": {},
   "source": [
    "# Course overview\n",
    "\n",
    "## Day 1:\n",
    "\n",
    "### Intro and course setup\n",
    "* Jupyter Notebook on Google Colab\n",
    "* Jupyter Notebook and virtual Python environments on your own computer\n",
    "\n",
    "### The basics of Python\n",
    "* Data types in Python\n",
    "* Python as a calculator\n",
    "* String formatting\n",
    "* Loops and Conditions\n",
    "* List comprehension\n",
    "* Working with files\n",
    "* Functions\n",
    "* Lambda functions\n",
    "\n",
    "### Advanced basics of Python\n",
    "* Exceptions\n",
    "* Decorators\n",
    "* Nested functions\n",
    "* PEP8 Coding Style\n",
    "* Common pitfalls\n",
    "\n",
    "### Advanced packages\n",
    "* `numpy` for data processing\n",
    "* `pandas` for structural data processing\n",
    "* `scipy` for scientific calculations\n",
    "* `matplotlib` for plotting\n",
    "\n",
    "\n",
    "## Day 2:\n",
    "\n",
    "### Object-Oriented Programming (OOP)\n",
    "* Classes\n",
    "* Properties\n",
    "* Class methods\n",
    "* Static methods\n",
    "* Operator methods\n",
    "* Inheritance\n",
    "* Multiple inheritance\n",
    "* Abstract base classes\n",
    "* Iterator protocol\n",
    "* Context Manager\n",
    "* Generators\n",
    "\n",
    "\n",
    "## Day 3:\n",
    "\n",
    "Overview of some useful Python packages\n",
    "\n",
    "* `git` and [github.com](https://www.github.com)\n",
    "* `pre-commit`\n",
    "* `ruff` and/or `black`\n",
    "* `mypy`\n",
    "* unit tests\n",
    "* `numba`"
   ]
  },
  {
   "cell_type": "code",
   "execution_count": null,
   "metadata": {},
   "outputs": [],
   "source": []
  },
  {
   "cell_type": "markdown",
   "metadata": {},
   "source": [
    "# Day 1"
   ]
  },
  {
   "cell_type": "markdown",
   "metadata": {},
   "source": [
    "## Jupyter Notebook on Google Colab\n",
    "\n",
    "* Go to https://colab.research.google.com and create a new notebook\n",
    "* To install new packages, type `!pip install <package>`\n",
    "* *Live demonstration*\n",
    "\n",
    "## Jupyter Notebook with anaconda\n",
    "\n",
    "[Anaconda](https://www.anaconda.com/download) can be installed and an environment can be created. Then all the missing packages can usually be installed after running `conda activate <environment>`.\n",
    "\n",
    "## Why virtual environment are useful\n",
    "* Compatibility between packages version can become an issue \n",
    "    * Python can be \"broken\" if packages require different versions of dependencies\n",
    "* Safer to never touch or modify \"based\" version of python to ensure smooth usage of Python\n",
    "    * Also useful to use for specific applications installation (FreeCad, openGL, openCV, numpy, PyTorch, etc.)"
   ]
  },
  {
   "cell_type": "markdown",
   "metadata": {},
   "source": [
    "# The basics of Python"
   ]
  },
  {
   "cell_type": "markdown",
   "metadata": {},
   "source": [
    "* Python is an interpreted programming language (compilation into byte-code before interpretation).\n",
    "* Python is a loosely typed programming language.\n",
    "* The latest major version of Python is **Python3**. Don't use Python2 anymore!"
   ]
  },
  {
   "cell_type": "code",
   "execution_count": null,
   "metadata": {},
   "outputs": [],
   "source": [
    "%matplotlib notebook"
   ]
  },
  {
   "cell_type": "code",
   "execution_count": null,
   "metadata": {},
   "outputs": [],
   "source": [
    "# Comments start with '#'."
   ]
  },
  {
   "cell_type": "code",
   "execution_count": null,
   "metadata": {},
   "outputs": [],
   "source": [
    "# Import modules.\n",
    "import os\n",
    "\n",
    "import matplotlib.pyplot\n",
    "import numpy as np"
   ]
  },
  {
   "cell_type": "code",
   "execution_count": null,
   "metadata": {},
   "outputs": [],
   "source": [
    "# Import only specific functions from a module.\n",
    "from scipy import interpolate, stats"
   ]
  },
  {
   "cell_type": "code",
   "execution_count": null,
   "metadata": {},
   "outputs": [],
   "source": [
    "# Remember: never ever do 'from foo import *'"
   ]
  },
  {
   "cell_type": "code",
   "execution_count": null,
   "metadata": {},
   "outputs": [],
   "source": [
    "# Declare a variable.\n",
    "a = 5.0\n",
    "a = \"Hello World!\""
   ]
  },
  {
   "cell_type": "markdown",
   "metadata": {},
   "source": [
    "## Data types"
   ]
  },
  {
   "cell_type": "code",
   "execution_count": null,
   "metadata": {},
   "outputs": [
    {
     "data": {
      "text/plain": [
       "True"
      ]
     },
     "metadata": {},
     "output_type": "display_data"
    }
   ],
   "source": [
    "a = dict(one=1, two=2, three=3)\n",
    "b = {\"one\": 1, \"two\": 2, \"three\": 3}\n",
    "c = dict({\"three\": 3, \"one\": 1, \"two\": 2})\n",
    "d = dict()\n",
    "d[\"one\"] = 1\n",
    "d[\"two\"] = 2\n",
    "d[\"three\"] = 3\n",
    "a == b == c == d"
   ]
  },
  {
   "cell_type": "code",
   "execution_count": null,
   "metadata": {},
   "outputs": [
    {
     "name": "stdout",
     "output_type": "stream",
     "text": [
      "{'my_list': [1, 2, 3], 'my_string': 'hello', 'my_number': 3}\n",
      "hello\n"
     ]
    }
   ],
   "source": [
    "a = {\"my_list\": [1, 2, 3], \"my_string\": \"hello\", \"my_number\": 3}\n",
    "print(a)\n",
    "print(a[\"my_string\"])"
   ]
  },
  {
   "cell_type": "code",
   "execution_count": null,
   "metadata": {},
   "outputs": [
    {
     "name": "stdout",
     "output_type": "stream",
     "text": [
      "[0, 2, 3]\n"
     ]
    },
    {
     "ename": "TypeError",
     "evalue": "'tuple' object does not support item assignment",
     "output_type": "error",
     "traceback": [
      "\u001b[0;31m---------------------------------------------------------------------------\u001b[0m\n",
      "\u001b[0;31mTypeError\u001b[0m                                 Traceback (most recent call last)\n",
      "Cell \u001b[0;32mIn[8], line 6\u001b[0m\n",
      "\u001b[1;32m      4\u001b[0m a_list[\u001b[38;5;241m0\u001b[39m] \u001b[38;5;241m=\u001b[39m \u001b[38;5;241m0\u001b[39m\n",
      "\u001b[1;32m      5\u001b[0m \u001b[38;5;28mprint\u001b[39m(a_list)\n",
      "\u001b[0;32m----> 6\u001b[0m \u001b[43ma_tuple\u001b[49m\u001b[43m[\u001b[49m\u001b[38;5;241;43m0\u001b[39;49m\u001b[43m]\u001b[49m \u001b[38;5;241m=\u001b[39m \u001b[38;5;241m0\u001b[39m\n",
      "\u001b[1;32m      7\u001b[0m \u001b[38;5;28mprint\u001b[39m(a_tuple)\n",
      "\n",
      "\u001b[0;31mTypeError\u001b[0m: 'tuple' object does not support item assignment"
     ]
    }
   ],
   "source": [
    "a_list = [1, 2, 3]\n",
    "a_tuple = (1, 2, 3)\n",
    "\n",
    "a_list[0] = 0\n",
    "print(a_list)\n",
    "a_tuple[0] = 0\n",
    "print(a_tuple)"
   ]
  },
  {
   "cell_type": "code",
   "execution_count": null,
   "metadata": {},
   "outputs": [
    {
     "name": "stdout",
     "output_type": "stream",
     "text": [
      "[0, 2, 3, 4]\n"
     ]
    },
    {
     "ename": "AttributeError",
     "evalue": "'tuple' object has no attribute 'append'",
     "output_type": "error",
     "traceback": [
      "\u001b[0;31m---------------------------------------------------------------------------\u001b[0m\n",
      "\u001b[0;31mAttributeError\u001b[0m                            Traceback (most recent call last)\n",
      "Cell \u001b[0;32mIn[9], line 3\u001b[0m\n",
      "\u001b[1;32m      1\u001b[0m a_list\u001b[38;5;241m.\u001b[39mappend(\u001b[38;5;241m4\u001b[39m)\n",
      "\u001b[1;32m      2\u001b[0m \u001b[38;5;28mprint\u001b[39m(a_list)\n",
      "\u001b[0;32m----> 3\u001b[0m \u001b[43ma_tuple\u001b[49m\u001b[38;5;241;43m.\u001b[39;49m\u001b[43mappend\u001b[49m(\u001b[38;5;241m4\u001b[39m)\n",
      "\n",
      "\u001b[0;31mAttributeError\u001b[0m: 'tuple' object has no attribute 'append'"
     ]
    }
   ],
   "source": [
    "a_list.append(4)\n",
    "print(a_list)\n",
    "a_tuple.append(4)"
   ]
  },
  {
   "cell_type": "code",
   "execution_count": null,
   "metadata": {},
   "outputs": [
    {
     "data": {
      "text/plain": [
       "{1, 2, 3}"
      ]
     },
     "metadata": {},
     "output_type": "display_data"
    }
   ],
   "source": [
    "a = [1, 2, 2, 1, 3, 3]\n",
    "c = set(a)\n",
    "c"
   ]
  },
  {
   "cell_type": "markdown",
   "metadata": {},
   "source": [
    "## Python as a calculator"
   ]
  },
  {
   "cell_type": "code",
   "execution_count": null,
   "metadata": {},
   "outputs": [
    {
     "name": "stdout",
     "output_type": "stream",
     "text": [
      "5.  + 5. = 10.0\n",
      "10. - 5. = 5.0\n"
     ]
    }
   ],
   "source": [
    "# Addition and subtraction\n",
    "print(\"5.  + 5. =\", 5.0 + 5.0)\n",
    "print(\"10. - 5. =\", 10.0 - 5.0)"
   ]
  },
  {
   "cell_type": "code",
   "execution_count": null,
   "metadata": {},
   "outputs": [
    {
     "name": "stdout",
     "output_type": "stream",
     "text": [
      "5.  * 5. = 25.0\n",
      "25. / 5. = 5.0\n",
      "5.3 // 2 = 2.0\n"
     ]
    }
   ],
   "source": [
    "# Multiplication, division, and floor division\n",
    "print(\"5.  * 5. =\", 5.0 * 5.0)\n",
    "print(\"25. / 5. =\", 25.0 / 5.0)\n",
    "print(\"5.3 // 2 =\", 5.3 // 2)"
   ]
  },
  {
   "cell_type": "code",
   "execution_count": null,
   "metadata": {},
   "outputs": [
    {
     "name": "stdout",
     "output_type": "stream",
     "text": [
      "25. % 4. = 1.0\n",
      "5.**2    = 25.0\n"
     ]
    }
   ],
   "source": [
    "# Modulo and exponentiation\n",
    "print(\"25. % 4. =\", 25.0 % 4.0)\n",
    "print(\"5.**2    =\", 5.0**2)"
   ]
  },
  {
   "cell_type": "code",
   "execution_count": null,
   "metadata": {},
   "outputs": [
    {
     "name": "stdout",
     "output_type": "stream",
     "text": [
      "a + 5. = 10.0\n"
     ]
    }
   ],
   "source": [
    "# Do calculations with variables.\n",
    "a = 5.0\n",
    "print(\"a + 5. =\", a + 5.0)"
   ]
  },
  {
   "cell_type": "code",
   "execution_count": null,
   "metadata": {},
   "outputs": [
    {
     "name": "stdout",
     "output_type": "stream",
     "text": [
      "c = a + b = 9.0\n"
     ]
    }
   ],
   "source": [
    "b = 4.0\n",
    "c = a + b\n",
    "print(\"c = a + b =\", c)"
   ]
  },
  {
   "cell_type": "code",
   "execution_count": null,
   "metadata": {},
   "outputs": [
    {
     "name": "stdout",
     "output_type": "stream",
     "text": [
      "a = 10.0\n"
     ]
    }
   ],
   "source": [
    "# In-place modifications\n",
    "a += 5.0\n",
    "print(\"a =\", a)"
   ]
  },
  {
   "cell_type": "code",
   "execution_count": null,
   "metadata": {},
   "outputs": [
    {
     "name": "stdout",
     "output_type": "stream",
     "text": [
      "exp(2.5)   = 12.182493960703473\n",
      "sin(pi/2.) = 1.0\n"
     ]
    }
   ],
   "source": [
    "# Call mathematical functions like sin, exp, log, ...\n",
    "# Instead of NumPy, you can also use the 'math' module.\n",
    "print(\"exp(2.5)   =\", np.exp(2.5))\n",
    "print(\"sin(pi/2.) =\", np.sin(np.pi / 2.0))"
   ]
  },
  {
   "cell_type": "markdown",
   "metadata": {},
   "source": [
    "## String formatting"
   ]
  },
  {
   "cell_type": "markdown",
   "metadata": {},
   "source": [
    "General form:\n",
    "\n",
    "```\n",
    "[fill][align][sign][#][0][width][,][.precision][type]\n",
    "```\n",
    "\n",
    "See:  \n",
    "<https://docs.python.org/3/library/string.html#format-string-syntax>"
   ]
  },
  {
   "cell_type": "code",
   "execution_count": null,
   "metadata": {},
   "outputs": [
    {
     "name": "stdout",
     "output_type": "stream",
     "text": [
      "     +3.14\n",
      "0000000003\n"
     ]
    }
   ],
   "source": [
    "# Some examples\n",
    "print(\"{:>+10.2f}\".format(np.pi))\n",
    "print(\"{:010d}\".format(3))"
   ]
  },
  {
   "cell_type": "code",
   "execution_count": null,
   "metadata": {},
   "outputs": [
    {
     "name": "stdout",
     "output_type": "stream",
     "text": [
      "0, 1, 2, 3\n",
      "4\n"
     ]
    }
   ],
   "source": [
    "# Some more examples\n",
    "s = \"{0}, {1[0]}, {1[1]}, {2[a]}\"\n",
    "print(s.format(0, [1, 2], {\"a\": 3}))\n",
    "print(\"{key}\".format(key=4))"
   ]
  },
  {
   "cell_type": "markdown",
   "metadata": {},
   "source": [
    "F-string (formatted string literal) introduced in Python 3.6 supports the same string formatting form as `.format()`.\n",
    "They can embed Python expressions directly inside them using `f\"string example {expression:format}\"` syntax."
   ]
  },
  {
   "cell_type": "code",
   "execution_count": null,
   "metadata": {},
   "outputs": [
    {
     "name": "stdout",
     "output_type": "stream",
     "text": [
      "a = 10.5\n",
      "a = 10\n",
      "Evaluate some code: 25.00\n",
      "Evaluate some more code: 3\n"
     ]
    }
   ],
   "source": [
    "# f-string examples\n",
    "a = 10.5\n",
    "print(f\"a = {a}\")\n",
    "print(f\"a = {a:.0f}\")\n",
    "print(f\"Evaluate some code: {5*5:.2f}\")\n",
    "print(f\"Evaluate some more code: {np.sqrt(9):.0f}\")"
   ]
  },
  {
   "cell_type": "markdown",
   "metadata": {},
   "source": [
    "## Loops and Conditions"
   ]
  },
  {
   "cell_type": "code",
   "execution_count": null,
   "metadata": {},
   "outputs": [
    {
     "name": "stdout",
     "output_type": "stream",
     "text": [
      "Skip 0.\n",
      "1 is an odd  number.\n",
      "2 is an even number.\n"
     ]
    }
   ],
   "source": [
    "# Example for-loop with conditions\n",
    "for i in range(3):\n",
    "    if i == 0:\n",
    "        print(\"Skip 0.\")\n",
    "    elif i % 2 > 0:\n",
    "        print(\"{} is an odd  number.\".format(i))\n",
    "    else:\n",
    "        print(\"{} is an even number.\".format(i))"
   ]
  },
  {
   "cell_type": "code",
   "execution_count": null,
   "metadata": {},
   "outputs": [],
   "source": [
    "# Example while-loop\n",
    "d = {\"a\": 0, \"b\": 1}\n",
    "\n",
    "while len(d) > 0:\n",
    "    d.popitem()"
   ]
  },
  {
   "cell_type": "markdown",
   "metadata": {},
   "source": [
    "* You can break out of a loop via `break`.\n",
    "* Iterations can be skipped via `continue`.\n",
    "* Remember that Python does not really know about scopes."
   ]
  },
  {
   "cell_type": "markdown",
   "metadata": {},
   "source": [
    "For loops can have an `else`-block, which gets\n",
    "executed when the loop finished normally, i.e. without\n",
    "encountering a `break`:"
   ]
  },
  {
   "cell_type": "code",
   "execution_count": null,
   "metadata": {},
   "outputs": [
    {
     "name": "stdout",
     "output_type": "stream",
     "text": [
      "No 0 found!\n"
     ]
    }
   ],
   "source": [
    "for i in [1, 2, 3]:\n",
    "    if i == 0:\n",
    "        break\n",
    "else:\n",
    "    print(\"No 0 found!\")"
   ]
  },
  {
   "cell_type": "code",
   "execution_count": null,
   "metadata": {},
   "outputs": [],
   "source": [
    "for i in [0, 1, 2, 3]:\n",
    "    if i == 0:\n",
    "        break\n",
    "else:\n",
    "    print(\"No 0 found!\")"
   ]
  },
  {
   "cell_type": "markdown",
   "metadata": {},
   "source": [
    "## List comprehension"
   ]
  },
  {
   "cell_type": "markdown",
   "metadata": {},
   "source": [
    "An easy way to create iterables from existing ones."
   ]
  },
  {
   "cell_type": "code",
   "execution_count": null,
   "metadata": {},
   "outputs": [],
   "source": [
    "# List comprehension examples\n",
    "l = [i**2 for i in range(10)]\n",
    "l = [10.0 / i for i in range(10) if i > 0]\n",
    "l = [10.0 / i if i > 0 else np.inf for n in range(10)]\n",
    "l = [[a * i for a in [1, 2]] for i in range(1, 11)]"
   ]
  },
  {
   "cell_type": "code",
   "execution_count": null,
   "metadata": {},
   "outputs": [],
   "source": [
    "# The same works for dictionaries.\n",
    "d = {\"a\": 2.0, \"b\": 3.0}\n",
    "d = {k: v**2 for k, v in d.items()}"
   ]
  },
  {
   "cell_type": "code",
   "execution_count": null,
   "metadata": {},
   "outputs": [],
   "source": [
    "# And of course sets\n",
    "s = {i**2 for i in range(10)}"
   ]
  },
  {
   "cell_type": "code",
   "execution_count": null,
   "metadata": {},
   "outputs": [
    {
     "name": "stdout",
     "output_type": "stream",
     "text": [
      "285\n"
     ]
    }
   ],
   "source": [
    "# Some generator magic\n",
    "g = (i**2 for i in range(10))\n",
    "r = sum(g)\n",
    "\n",
    "# We can also do this in one line.\n",
    "print(sum(i**2 for i in range(10)))"
   ]
  },
  {
   "cell_type": "markdown",
   "metadata": {},
   "source": [
    "## Working with files"
   ]
  },
  {
   "cell_type": "code",
   "execution_count": null,
   "metadata": {},
   "outputs": [],
   "source": [
    "# Create a text file and give it some input.\n",
    "with open(\"example.txt\", \"w\") as stream:\n",
    "    stream.write(\"This is a line.\\n\")\n",
    "    stream.write(\"This is another line.\")"
   ]
  },
  {
   "cell_type": "code",
   "execution_count": null,
   "metadata": {},
   "outputs": [
    {
     "name": "stdout",
     "output_type": "stream",
     "text": [
      "This is a line.\n",
      "This is another line.\n"
     ]
    }
   ],
   "source": [
    "# Read the content of the text file.\n",
    "with open(\"example.txt\", \"r\") as stream:\n",
    "    lines = stream.readlines()\n",
    "\n",
    "print(\"\".join(lines))"
   ]
  },
  {
   "cell_type": "code",
   "execution_count": null,
   "metadata": {},
   "outputs": [],
   "source": [
    "os.remove(\"example.txt\")"
   ]
  },
  {
   "cell_type": "markdown",
   "metadata": {},
   "source": [
    "## Random numbers"
   ]
  },
  {
   "cell_type": "code",
   "execution_count": null,
   "metadata": {},
   "outputs": [
    {
     "name": "stdout",
     "output_type": "stream",
     "text": [
      "0.6394267984578837\n",
      "1.1250537761133348\n"
     ]
    }
   ],
   "source": [
    "import random\n",
    "\n",
    "# Initialize the random number generator with a seed.\n",
    "# Use None as seed for using the current time.\n",
    "random.seed(42)\n",
    "\n",
    "# Return the next floating point number between [0 and 1).\n",
    "print(random.random())\n",
    "\n",
    "# Return a uniformly distributed floating point number in the range [a, b].\n",
    "a = 1\n",
    "b = 6\n",
    "print(random.uniform(a, b))\n",
    "\n",
    "# See numpy how to generate a sequence of random numbers."
   ]
  },
  {
   "cell_type": "markdown",
   "metadata": {},
   "source": [
    "## Functions"
   ]
  },
  {
   "cell_type": "code",
   "execution_count": null,
   "metadata": {},
   "outputs": [],
   "source": [
    "# A simple function that takes two arguments.\n",
    "def power(a, e=2.0):\n",
    "    r\"\"\"Exponentiation\n",
    "\n",
    "    Calculate: ``a**e``.\n",
    "\n",
    "    Parameters\n",
    "    ----------\n",
    "    a : float\n",
    "        Some number\n",
    "    e : float, optional\n",
    "        Exponent\n",
    "\n",
    "    Returns\n",
    "    -------\n",
    "    float\n",
    "        Result of ``a**e``\n",
    "\n",
    "    \"\"\"\n",
    "    return a**e"
   ]
  },
  {
   "cell_type": "code",
   "execution_count": null,
   "metadata": {},
   "outputs": [
    {
     "name": "stdout",
     "output_type": "stream",
     "text": [
      "5.**2 = 25.0\n"
     ]
    }
   ],
   "source": [
    "print(\"5.**2 =\", power(5.0))"
   ]
  },
  {
   "cell_type": "code",
   "execution_count": null,
   "metadata": {},
   "outputs": [],
   "source": [
    "# Alternative ways to call the function\n",
    "results = [\n",
    "    power(5.0, 2.0),\n",
    "    power(5.0, e=2.0),\n",
    "    power(a=5.0, e=2.0),\n",
    "    power(e=2.0, a=5.0),\n",
    "    power(*[5.0, 2.0]),\n",
    "    power(**{\"a\": 5.0, \"e\": 2.0}),\n",
    "]"
   ]
  },
  {
   "cell_type": "code",
   "execution_count": null,
   "metadata": {},
   "outputs": [
    {
     "name": "stdout",
     "output_type": "stream",
     "text": [
      "Results: 25.0, 25.0, 25.0, 25.0, 25.0, 25.0\n"
     ]
    }
   ],
   "source": [
    "print(\"Results:\", \", \".join(\"{}\".format(r) for r in results))"
   ]
  },
  {
   "cell_type": "code",
   "execution_count": null,
   "metadata": {},
   "outputs": [],
   "source": [
    "# General syntax\n",
    "def func(*args, **kwargs):\n",
    "    print(f\"args: {args}\")\n",
    "    print(f\"kwargs: {kwargs}\")"
   ]
  },
  {
   "cell_type": "code",
   "execution_count": null,
   "metadata": {},
   "outputs": [
    {
     "name": "stdout",
     "output_type": "stream",
     "text": [
      "args: (3, 'a')\n",
      "kwargs: {'a': 2, 'b': '1'}\n"
     ]
    }
   ],
   "source": [
    "func(3, \"a\", a=2, b=\"1\")"
   ]
  },
  {
   "cell_type": "markdown",
   "metadata": {},
   "source": [
    "A few words about doc strings:\n",
    "\n",
    "* **Do write** them because they help to better understand your code.\n",
    "* We recommend the NumPy style:  \n",
    "  <https://sphinxcontrib-napoleon.readthedocs.io/en/latest/example_numpy.html>"
   ]
  },
  {
   "cell_type": "markdown",
   "metadata": {},
   "source": [
    "## Lambda functions"
   ]
  },
  {
   "cell_type": "markdown",
   "metadata": {},
   "source": [
    "Lambdas are unnamed in-line functions."
   ]
  },
  {
   "cell_type": "code",
   "execution_count": null,
   "metadata": {},
   "outputs": [
    {
     "name": "stdout",
     "output_type": "stream",
     "text": [
      "['S', 'g', 'i', 'n', 'r', 't']\n",
      "['g', 'i', 'n', 'r', 'S', 't']\n"
     ]
    }
   ],
   "source": [
    "# Example for lambda usage\n",
    "print(sorted(\"String\"))\n",
    "print(sorted(\"String\", key=lambda s: s.lower()))"
   ]
  },
  {
   "cell_type": "code",
   "execution_count": null,
   "metadata": {},
   "outputs": [
    {
     "name": "stdout",
     "output_type": "stream",
     "text": [
      "5**2 = 25.0\n"
     ]
    }
   ],
   "source": [
    "# A lambda function can be assigned to a variable.\n",
    "square = lambda x: x**2\n",
    "print(\"5**2 =\", square(5.0))"
   ]
  },
  {
   "cell_type": "markdown",
   "metadata": {},
   "source": [
    "## Exceptions"
   ]
  },
  {
   "cell_type": "code",
   "execution_count": null,
   "metadata": {},
   "outputs": [],
   "source": [
    "# Write a function that can raise an exception.\n",
    "def division(a, b):\n",
    "    r\"\"\"Divide `a` by `b`.\n",
    "\n",
    "    Parameters\n",
    "    ----------\n",
    "    a,b : float\n",
    "        Nominator and denominator\n",
    "\n",
    "    Returns\n",
    "    -------\n",
    "    float\n",
    "        The result of ``a/b``\n",
    "\n",
    "    Raises\n",
    "    ------\n",
    "    ValueError\n",
    "        If the denominator `b` is zero.\n",
    "    \"\"\"\n",
    "    if np.fabs(b) > 0.0:\n",
    "        return a / b\n",
    "    else:\n",
    "        raise ValueError(\"The denominator should not be zero.\")"
   ]
  },
  {
   "cell_type": "code",
   "execution_count": null,
   "metadata": {},
   "outputs": [
    {
     "name": "stdout",
     "output_type": "stream",
     "text": [
      "The denominator should not be zero.\n",
      "The result is inf.\n"
     ]
    }
   ],
   "source": [
    "# Catch the exception.\n",
    "try:\n",
    "    r = division(5.0, 0.0)\n",
    "except ValueError as e:\n",
    "    print(e)\n",
    "    r = np.inf\n",
    "finally:\n",
    "    print(\"The result is {}.\".format(r))"
   ]
  },
  {
   "cell_type": "markdown",
   "metadata": {},
   "source": [
    "A full list of built-in exceptions can be found here:  \n",
    "<https://docs.python.org/3/library/exceptions.html>"
   ]
  },
  {
   "cell_type": "markdown",
   "metadata": {},
   "source": [
    "The most common exception types that one wants to raise are:\n",
    "* `TypeError`\n",
    "* `ValueError`\n",
    "* `NameError`\n",
    "* `IndexError`\n",
    "* `KeyError`\n",
    "* `NotImplementedError`"
   ]
  },
  {
   "cell_type": "markdown",
   "metadata": {},
   "source": [
    "## Decorators"
   ]
  },
  {
   "cell_type": "markdown",
   "metadata": {},
   "source": [
    "Decorators are syntactic sugar for functions that are *decorating* other functions.\n",
    "\n",
    "* Decorator functions take a **callable** as argument.\n",
    "* Decorator functions should call the given callable argument."
   ]
  },
  {
   "cell_type": "code",
   "execution_count": null,
   "metadata": {},
   "outputs": [],
   "source": [
    "# Example of a simple decorating function.\n",
    "def paragraph(f):\n",
    "    return lambda name: \"<p>{}</p>\".format(f(name))"
   ]
  },
  {
   "cell_type": "code",
   "execution_count": null,
   "metadata": {},
   "outputs": [],
   "source": [
    "@paragraph\n",
    "def greet(name):\n",
    "    return \"Hello {}, how are you?\".format(name)"
   ]
  },
  {
   "cell_type": "code",
   "execution_count": null,
   "metadata": {},
   "outputs": [
    {
     "name": "stdout",
     "output_type": "stream",
     "text": [
      "<p>Hello John, how are you?</p>\n"
     ]
    }
   ],
   "source": [
    "print(greet(\"John\"))"
   ]
  },
  {
   "cell_type": "markdown",
   "metadata": {},
   "source": [
    "## Nested functions"
   ]
  },
  {
   "cell_type": "markdown",
   "metadata": {},
   "source": [
    "Python allows to define functions within functions.\n",
    "\n",
    "* Can be used to \"configure\" a function object.\n",
    "* Inner function gets scope of outer function."
   ]
  },
  {
   "cell_type": "code",
   "execution_count": null,
   "metadata": {},
   "outputs": [
    {
     "name": "stdout",
     "output_type": "stream",
     "text": [
      "I'm feeding my cat with 3 cans of meat.\n"
     ]
    }
   ],
   "source": [
    "def preparing_to_feed_cat(what_to_feed):\n",
    "\n",
    "    def feed_cat(how_much_to_feed):\n",
    "        msg = f\"I'm feeding my cat with {how_much_to_feed} {what_to_feed}.\"\n",
    "        return msg\n",
    "\n",
    "    return feed_cat\n",
    "\n",
    "\n",
    "# Create a function object that knows what to feed the cat with.\n",
    "feed_cat_func = preparing_to_feed_cat(what_to_feed=\"cans of meat\")\n",
    "\n",
    "print(feed_cat_func(how_much_to_feed=3))"
   ]
  },
  {
   "cell_type": "markdown",
   "metadata": {},
   "source": [
    "## Common pitfalls\n",
    "\n",
    "The Python language has some particular properties that might lead to some not-so obvious pitfalls."
   ]
  },
  {
   "cell_type": "markdown",
   "metadata": {},
   "source": [
    "* Objects are passed by reference (not by copy!)\n",
    "    * except scalar data types like int, float, complex"
   ]
  },
  {
   "cell_type": "code",
   "execution_count": null,
   "metadata": {},
   "outputs": [
    {
     "name": "stdout",
     "output_type": "stream",
     "text": [
      "42\n"
     ]
    }
   ],
   "source": [
    "a = 42\n",
    "\n",
    "\n",
    "def f(b):\n",
    "    b = 11\n",
    "\n",
    "\n",
    "f(a)\n",
    "print(a)"
   ]
  },
  {
   "cell_type": "markdown",
   "metadata": {},
   "source": [
    "The scalar variable is passed as copy."
   ]
  },
  {
   "cell_type": "code",
   "execution_count": null,
   "metadata": {},
   "outputs": [
    {
     "name": "stdout",
     "output_type": "stream",
     "text": [
      "[42, 11]\n"
     ]
    }
   ],
   "source": [
    "a = [42]\n",
    "\n",
    "\n",
    "def f(b):\n",
    "    c = b\n",
    "    c.append(11)\n",
    "\n",
    "\n",
    "f(a)\n",
    "print(a)"
   ]
  },
  {
   "cell_type": "markdown",
   "metadata": {},
   "source": [
    "The list `a` is passed as reference. Hence, `b` referes to the same object `a` in memory. The same applies for name changes of variables. `c` refers to the same object as `b`.\n",
    "\n",
    "* Function keyword argument default values are instanciated only once\n",
    "* Lists/arrays as keyword argument default values can be tricky"
   ]
  },
  {
   "cell_type": "code",
   "execution_count": null,
   "metadata": {},
   "outputs": [],
   "source": [
    "def f(a=[0]):\n",
    "    # Append a new element with the value as\n",
    "    # the maximum of all list values plus 1.\n",
    "    a.append(max(a) + 1)\n",
    "    return a"
   ]
  },
  {
   "cell_type": "code",
   "execution_count": null,
   "metadata": {},
   "outputs": [
    {
     "name": "stdout",
     "output_type": "stream",
     "text": [
      "[0, 1]\n"
     ]
    }
   ],
   "source": [
    "print(f())"
   ]
  },
  {
   "cell_type": "code",
   "execution_count": null,
   "metadata": {},
   "outputs": [
    {
     "name": "stdout",
     "output_type": "stream",
     "text": [
      "[0, 1, 2]\n"
     ]
    }
   ],
   "source": [
    "print(f())"
   ]
  },
  {
   "cell_type": "markdown",
   "metadata": {},
   "source": [
    "The function changes the one-and-only list object that was instantiated as default keyword argument value."
   ]
  },
  {
   "cell_type": "markdown",
   "metadata": {},
   "source": [
    "# NumPy"
   ]
  },
  {
   "cell_type": "markdown",
   "metadata": {},
   "source": [
    "From the [NumPy webpage](http://www.numpy.org/):\n",
    "\n",
    "> NumPy is the fundamental package for scientific computing with Python.\n",
    "> It contains among other things:\n",
    ">\n",
    "> * a powerful N-dimensional array object\n",
    "> * sophisticated (broadcasting) functions\n",
    "> * tools for integrating C/C++ and Fortran code\n",
    "> * useful linear algebra, Fourier transform, and random number capabilities\n",
    ">\n",
    "> Besides its obvious scientific uses, NumPy can also be used as an efficient\n",
    "> multi-dimensional container of generic data. Arbitrary data-types can be defined.\n",
    "> This allows NumPy to seamlessly and speedily integrate with a wide variety of databases.\n",
    "\n",
    "NumPy tutorial (pay special attention to the section about broadcasting rules):  \n",
    "<https://docs.scipy.org/doc/numpy/user/quickstart.html>"
   ]
  },
  {
   "cell_type": "markdown",
   "metadata": {},
   "source": [
    "## Importing numpy"
   ]
  },
  {
   "cell_type": "code",
   "execution_count": null,
   "metadata": {},
   "outputs": [],
   "source": [
    "import numpy as np"
   ]
  },
  {
   "cell_type": "markdown",
   "metadata": {},
   "source": [
    "## Creating numpy arrays\n",
    "\n",
    "Numpy arrays can be created from any iterable via the ``numpy.array()`` function:"
   ]
  },
  {
   "cell_type": "code",
   "execution_count": null,
   "metadata": {},
   "outputs": [
    {
     "name": "stdout",
     "output_type": "stream",
     "text": [
      "[1, 2, 5, 3, 7, 10, 1, 2, 5, 3, 7, 10, 1, 2, 5, 3, 7, 10]\n",
      "[ 3  6 15  9 21 30]\n"
     ]
    }
   ],
   "source": [
    "a_list = [1, 2, 5, 3, 7, 10]  # A list.\n",
    "arr = np.array(a_list)  # Instantiation of the numpy.ndarray class.\n",
    "print(a_list * 3)  # Repeat list 3 times.\n",
    "print(arr * 3)  # Multiply every array item with 3."
   ]
  },
  {
   "cell_type": "markdown",
   "metadata": {},
   "source": [
    "The array's data type can be specified:"
   ]
  },
  {
   "cell_type": "code",
   "execution_count": null,
   "metadata": {},
   "outputs": [
    {
     "name": "stdout",
     "output_type": "stream",
     "text": [
      "[ 1.  2.  5.  3.  7. 10.]\n",
      "float64\n"
     ]
    }
   ],
   "source": [
    "arr = np.array(a_list, dtype=np.float64)\n",
    "print(arr)\n",
    "print(arr.dtype)"
   ]
  },
  {
   "cell_type": "markdown",
   "metadata": {},
   "source": [
    "Numpy arrays have a dimensionality and a shape:"
   ]
  },
  {
   "cell_type": "code",
   "execution_count": null,
   "metadata": {},
   "outputs": [
    {
     "name": "stdout",
     "output_type": "stream",
     "text": [
      "[ 1.  2.  5.  3.  7. 10.]\n",
      "arr.ndim=1\n",
      "arr.shape=(6,)\n"
     ]
    }
   ],
   "source": [
    "print(arr)\n",
    "print(f\"arr.ndim={arr.ndim}\")\n",
    "print(f\"arr.shape={arr.shape}\")"
   ]
  },
  {
   "cell_type": "markdown",
   "metadata": {},
   "source": [
    "Numpy arrays can be reshaped:"
   ]
  },
  {
   "cell_type": "code",
   "execution_count": null,
   "metadata": {},
   "outputs": [
    {
     "name": "stdout",
     "output_type": "stream",
     "text": [
      "[[ 1.  2.]\n",
      " [ 5.  3.]\n",
      " [ 7. 10.]]\n",
      "arr.ndim=2\n",
      "arr.shape=(3, 2)\n"
     ]
    }
   ],
   "source": [
    "arr = arr.reshape((3, 2))\n",
    "print(arr)\n",
    "print(f\"arr.ndim={arr.ndim}\")\n",
    "print(f\"arr.shape={arr.shape}\")"
   ]
  },
  {
   "cell_type": "markdown",
   "metadata": {},
   "source": [
    "## Math functions\n",
    "\n",
    "Numpy provides many math functions to be operated on an entire array:"
   ]
  },
  {
   "cell_type": "code",
   "execution_count": null,
   "metadata": {},
   "outputs": [
    {
     "name": "stdout",
     "output_type": "stream",
     "text": [
      "arr = [0 1 2]\n",
      "np.sin(arr) = [0.         0.84147098 0.90929743]\n",
      "np.exp(arr) = [1.         2.71828183 7.3890561 ]\n",
      "np.power(10, arr) = [  1  10 100]\n"
     ]
    }
   ],
   "source": [
    "arr = np.arange(3)\n",
    "print(f\"arr = {arr}\")\n",
    "print(f\"np.sin(arr) = {np.sin(arr)}\")\n",
    "print(f\"np.exp(arr) = {np.exp(arr)}\")\n",
    "print(f\"np.power(10, arr) = {np.power(10, arr)}\")"
   ]
  },
  {
   "cell_type": "markdown",
   "metadata": {},
   "source": [
    "## Statistical functions\n",
    "\n",
    "Numpy provides a few useful statistical functions:"
   ]
  },
  {
   "cell_type": "code",
   "execution_count": null,
   "metadata": {},
   "outputs": [
    {
     "name": "stdout",
     "output_type": "stream",
     "text": [
      "arr = [0 1 2 3 4 5 6 7 8 9]\n",
      "np.mean(arr) = 4.5\n",
      "np.median(arr) = 4.5\n",
      "np.std(arr) = 2.8722813232690143\n"
     ]
    }
   ],
   "source": [
    "arr = np.arange(10)\n",
    "print(f\"arr = {arr}\")\n",
    "print(f\"np.mean(arr) = {np.mean(arr)}\")\n",
    "print(f\"np.median(arr) = {np.median(arr)}\")\n",
    "print(f\"np.std(arr) = {np.std(arr)}\")"
   ]
  },
  {
   "cell_type": "markdown",
   "metadata": {},
   "source": [
    "## Sorting functions\n",
    "\n",
    "Numpy provides several sorting algorithms via the ``numpy.sort`` function:\n",
    "quicksort, heapsort, mergesort, timsort"
   ]
  },
  {
   "cell_type": "code",
   "execution_count": null,
   "metadata": {},
   "outputs": [
    {
     "name": "stdout",
     "output_type": "stream",
     "text": [
      "sorted_arr = [1 2 3 4 5 6]\n"
     ]
    }
   ],
   "source": [
    "unsorted_arr = np.array([3, 4, 2, 1, 6, 5])\n",
    "sorted_arr = np.sort(unsorted_arr, kind=\"heapsort\")\n",
    "print(f\"sorted_arr = {sorted_arr}\")"
   ]
  },
  {
   "cell_type": "code",
   "execution_count": null,
   "metadata": {},
   "outputs": [
    {
     "name": "stdout",
     "output_type": "stream",
     "text": [
      "indices_ordering = [3 2 0 1 5 4]\n"
     ]
    }
   ],
   "source": [
    "indices_ordering = np.argsort(unsorted_arr)\n",
    "print(f\"indices_ordering = {indices_ordering}\")"
   ]
  },
  {
   "cell_type": "markdown",
   "metadata": {},
   "source": [
    "## Broadcasting of numpy arrays\n",
    "\n",
    "Two numpy arrays of different dimensions can be used in an expression by broadcasting the array elements of the smaller dimensional array by repeatedly prepending a dimension of length 1 to smaller array to allow element-wise operation:"
   ]
  },
  {
   "cell_type": "code",
   "execution_count": 2,
   "metadata": {},
   "outputs": [
    {
     "name": "stdout",
     "output_type": "stream",
     "text": [
      "shape of a: (2, 3)\n",
      "[[1 2 3]\n",
      " [4 5 6]] \n",
      "\n",
      "shape of b: (3,)\n",
      "[7 8 9] \n",
      "\n",
      "shape of c: (2, 3)\n",
      "[[ 8 10 12]\n",
      " [11 13 15]]\n"
     ]
    }
   ],
   "source": [
    "import numpy as np\n",
    "\n",
    "a = np.array([[1, 2, 3], [4, 5, 6]])\n",
    "b = np.array([7, 8, 9])\n",
    "c = a + b\n",
    "print(\"shape of a:\", a.shape)\n",
    "print(a, \"\\n\")\n",
    "print(\"shape of b:\", b.shape)\n",
    "print(b, \"\\n\")\n",
    "print(\"shape of c:\", c.shape)\n",
    "print(c)"
   ]
  },
  {
   "cell_type": "markdown",
   "metadata": {},
   "source": [
    "## Indexing / Slicing of numpy arrays\n",
    "\n",
    "Elements of a numpy arrays can be accessed via indexing or slicing:"
   ]
  },
  {
   "cell_type": "code",
   "execution_count": null,
   "metadata": {},
   "outputs": [
    {
     "name": "stdout",
     "output_type": "stream",
     "text": [
      "3\n",
      "[1 5 6]\n"
     ]
    }
   ],
   "source": [
    "# Access by index (indices start with 0!):\n",
    "print(a[0, 2])\n",
    "print(a[[0, 1, 1], [0, 1, 2]])"
   ]
  },
  {
   "cell_type": "code",
   "execution_count": null,
   "metadata": {},
   "outputs": [
    {
     "name": "stdout",
     "output_type": "stream",
     "text": [
      "[0 1 2 3 4 5 6 7 8 9]\n",
      "[3 4 5 6]\n",
      "[3 5]\n",
      "[7 5]\n"
     ]
    }
   ],
   "source": [
    "# Access by slice: start:end:step:\n",
    "# Note: The start index is included, but the end index is excluded!\n",
    "a = np.arange(0, 10)\n",
    "print(a)\n",
    "print(a[3:7])\n",
    "print(a[3:7:2])\n",
    "# Step can be negative to reverse the slice.\n",
    "print(a[7:3:-2])"
   ]
  },
  {
   "cell_type": "markdown",
   "metadata": {},
   "source": [
    "## Masking of numpy arrays\n",
    "\n",
    "A mask for an array is a boolean array selecting elements of an array."
   ]
  },
  {
   "cell_type": "code",
   "execution_count": null,
   "metadata": {},
   "outputs": [
    {
     "name": "stdout",
     "output_type": "stream",
     "text": [
      "[0 1 2 3 4]\n",
      "[0 3 4]\n"
     ]
    }
   ],
   "source": [
    "a = np.arange(0, 5)\n",
    "mask = np.array([True, False, False, True, True])\n",
    "print(a)\n",
    "print(a[mask])"
   ]
  },
  {
   "cell_type": "code",
   "execution_count": null,
   "metadata": {},
   "outputs": [
    {
     "name": "stdout",
     "output_type": "stream",
     "text": [
      "[ True False False  True  True]\n",
      "[0 3 4]\n"
     ]
    }
   ],
   "source": [
    "mask = (a == 0) | (a > 2)\n",
    "print(mask)\n",
    "print(a[mask])"
   ]
  },
  {
   "cell_type": "markdown",
   "metadata": {},
   "source": [
    "## Random numbers with numpy\n",
    "\n",
    "See [numpy.org/doc/stable/reference/random/index.html](https://numpy.org/doc/stable/reference/random/index.html) for documentation."
   ]
  },
  {
   "cell_type": "code",
   "execution_count": null,
   "metadata": {},
   "outputs": [
    {
     "name": "stdout",
     "output_type": "stream",
     "text": [
      "[0.77395605 0.43887844 0.85859792 0.69736803 0.09417735]\n"
     ]
    },
    {
     "data": {
      "text/plain": [
       "array([[5.87811176, 4.80569851],\n",
       "       [4.93032153, 1.64056816],\n",
       "       [3.25192969, 2.85399012],\n",
       "       [5.63382494, 4.2193256 ],\n",
       "       [5.11380807, 3.21707099]])"
      ]
     },
     "metadata": {},
     "output_type": "display_data"
    }
   ],
   "source": [
    "# Create a random number generator with a seed.\n",
    "rng = np.random.default_rng(42)\n",
    "\n",
    "# Generate next random number(s) in range [0,1).\n",
    "print(rng.random(size=5))\n",
    "\n",
    "# Generate a numpy array with uniform random numbers in the range [1, 6].\n",
    "a, b = 1, 6\n",
    "rng.uniform(a, b, size=(5, 2))"
   ]
  },
  {
   "cell_type": "markdown",
   "metadata": {},
   "source": [
    "Loops can slow down massively\n",
    "http://wiki.scipy.org/Tentative_NumPy_Tutorial\n"
   ]
  },
  {
   "cell_type": "markdown",
   "metadata": {},
   "source": [
    "# Simple Monte Carlo example"
   ]
  },
  {
   "cell_type": "markdown",
   "metadata": {},
   "source": [
    "Example of particles in a box going for equilibrium\n",
    "\n",
    "![Computation example](https://github.com/tomaskontrimas/teaching/raw/master/WS_2024_25/advanced_python/image.png)\n",
    "\n",
    "The number of particles should be given by : \n",
    "\n",
    "$$\n",
    "\\huge{\\delta N_{12} = \\alpha N_{1} \\Delta t}\n",
    "$$\n",
    "\n",
    "And it can be shown that:\n",
    "\n",
    "$$\n",
    "\\huge{\\delta N_{21} = \\alpha N_{2} \\Delta t}\n",
    "$$\n",
    "\n",
    "Equilibrium will be reach when : \n",
    "\n",
    "$$\n",
    "\\huge{N_{1} = N_{2}}\n",
    "$$\n"
   ]
  },
  {
   "cell_type": "code",
   "execution_count": null,
   "metadata": {},
   "outputs": [
    {
     "name": "stdout",
     "output_type": "stream",
     "text": [
      "Iteration 0: N1=988, N2=12\n",
      "Iteration 1: N1=979, N2=21\n",
      "Iteration 2: N1=969, N2=31\n",
      "Iteration 3: N1=953, N2=47\n",
      "Iteration 4: N1=943, N2=57\n",
      "Iteration 5: N1=933, N2=67\n",
      "Iteration 6: N1=922, N2=78\n",
      "Iteration 7: N1=908, N2=92\n",
      "Iteration 8: N1=899, N2=101\n",
      "Iteration 9: N1=890, N2=110\n",
      "Iteration 10: N1=876, N2=124\n",
      "Iteration 11: N1=870, N2=130\n",
      "Iteration 12: N1=861, N2=139\n",
      "Iteration 13: N1=854, N2=146\n",
      "Iteration 14: N1=850, N2=150\n",
      "Iteration 15: N1=839, N2=161\n",
      "Iteration 16: N1=835, N2=165\n",
      "Iteration 17: N1=831, N2=169\n",
      "Iteration 18: N1=822, N2=178\n",
      "Iteration 19: N1=819, N2=181\n",
      "Iteration 20: N1=811, N2=189\n",
      "Iteration 21: N1=808, N2=192\n",
      "Iteration 22: N1=801, N2=199\n",
      "Iteration 23: N1=793, N2=207\n",
      "Iteration 24: N1=789, N2=211\n",
      "Iteration 25: N1=787, N2=213\n",
      "Iteration 26: N1=779, N2=221\n",
      "Iteration 27: N1=776, N2=224\n",
      "Iteration 28: N1=776, N2=224\n",
      "Iteration 29: N1=771, N2=229\n",
      "Iteration 30: N1=767, N2=233\n",
      "Iteration 31: N1=762, N2=238\n",
      "Iteration 32: N1=759, N2=241\n",
      "Iteration 33: N1=752, N2=248\n",
      "Iteration 34: N1=747, N2=253\n",
      "Iteration 35: N1=743, N2=257\n",
      "Iteration 36: N1=732, N2=268\n",
      "Iteration 37: N1=721, N2=279\n",
      "Iteration 38: N1=716, N2=284\n",
      "Iteration 39: N1=713, N2=287\n",
      "Iteration 40: N1=708, N2=292\n",
      "Iteration 41: N1=703, N2=297\n",
      "Iteration 42: N1=699, N2=301\n",
      "Iteration 43: N1=693, N2=307\n",
      "Iteration 44: N1=688, N2=312\n",
      "Iteration 45: N1=688, N2=312\n",
      "Iteration 46: N1=688, N2=312\n",
      "Iteration 47: N1=684, N2=316\n",
      "Iteration 48: N1=679, N2=321\n",
      "Iteration 49: N1=671, N2=329\n",
      "Iteration 50: N1=666, N2=334\n",
      "Iteration 51: N1=668, N2=332\n",
      "Iteration 52: N1=663, N2=337\n",
      "Iteration 53: N1=658, N2=342\n",
      "Iteration 54: N1=650, N2=350\n",
      "Iteration 55: N1=644, N2=356\n",
      "Iteration 56: N1=635, N2=365\n",
      "Iteration 57: N1=635, N2=365\n",
      "Iteration 58: N1=629, N2=371\n",
      "Iteration 59: N1=630, N2=370\n",
      "Iteration 60: N1=631, N2=369\n",
      "Iteration 61: N1=626, N2=374\n",
      "Iteration 62: N1=622, N2=378\n",
      "Iteration 63: N1=617, N2=383\n",
      "Iteration 64: N1=620, N2=380\n",
      "Iteration 65: N1=617, N2=383\n",
      "Iteration 66: N1=619, N2=381\n",
      "Iteration 67: N1=615, N2=385\n",
      "Iteration 68: N1=614, N2=386\n",
      "Iteration 69: N1=616, N2=384\n",
      "Iteration 70: N1=616, N2=384\n",
      "Iteration 71: N1=606, N2=394\n",
      "Iteration 72: N1=609, N2=391\n",
      "Iteration 73: N1=608, N2=392\n",
      "Iteration 74: N1=605, N2=395\n",
      "Iteration 75: N1=603, N2=397\n",
      "Iteration 76: N1=601, N2=399\n",
      "Iteration 77: N1=597, N2=403\n",
      "Iteration 78: N1=593, N2=407\n",
      "Iteration 79: N1=591, N2=409\n",
      "Iteration 80: N1=591, N2=409\n",
      "Iteration 81: N1=588, N2=412\n",
      "Iteration 82: N1=585, N2=415\n",
      "Iteration 83: N1=580, N2=420\n",
      "Iteration 84: N1=577, N2=423\n",
      "Iteration 85: N1=573, N2=427\n",
      "Iteration 86: N1=567, N2=433\n",
      "Iteration 87: N1=569, N2=431\n",
      "Iteration 88: N1=567, N2=433\n",
      "Iteration 89: N1=568, N2=432\n",
      "Iteration 90: N1=565, N2=435\n",
      "Iteration 91: N1=563, N2=437\n",
      "Iteration 92: N1=564, N2=436\n",
      "Iteration 93: N1=563, N2=437\n",
      "Iteration 94: N1=563, N2=437\n",
      "Iteration 95: N1=559, N2=441\n",
      "Iteration 96: N1=555, N2=445\n",
      "Iteration 97: N1=557, N2=443\n",
      "Iteration 98: N1=553, N2=447\n",
      "Iteration 99: N1=554, N2=446\n",
      "Iteration 100: N1=553, N2=447\n",
      "Iteration 101: N1=547, N2=453\n",
      "Iteration 102: N1=547, N2=453\n",
      "Iteration 103: N1=545, N2=455\n",
      "Iteration 104: N1=549, N2=451\n",
      "Iteration 105: N1=548, N2=452\n",
      "Iteration 106: N1=548, N2=452\n",
      "Iteration 107: N1=546, N2=454\n",
      "Iteration 108: N1=538, N2=462\n",
      "Iteration 109: N1=535, N2=465\n",
      "Iteration 110: N1=532, N2=468\n",
      "Iteration 111: N1=533, N2=467\n",
      "Iteration 112: N1=534, N2=466\n",
      "Iteration 113: N1=535, N2=465\n",
      "Iteration 114: N1=533, N2=467\n",
      "Iteration 115: N1=532, N2=468\n",
      "Iteration 116: N1=530, N2=470\n",
      "Iteration 117: N1=529, N2=471\n",
      "Iteration 118: N1=529, N2=471\n",
      "Iteration 119: N1=528, N2=472\n",
      "Iteration 120: N1=531, N2=469\n",
      "Iteration 121: N1=534, N2=466\n",
      "Iteration 122: N1=534, N2=466\n",
      "Iteration 123: N1=540, N2=460\n",
      "Iteration 124: N1=543, N2=457\n",
      "Iteration 125: N1=548, N2=452\n",
      "Iteration 126: N1=547, N2=453\n",
      "Iteration 127: N1=545, N2=455\n",
      "Iteration 128: N1=545, N2=455\n",
      "Iteration 129: N1=544, N2=456\n",
      "Iteration 130: N1=541, N2=459\n",
      "Iteration 131: N1=533, N2=467\n",
      "Iteration 132: N1=537, N2=463\n",
      "Iteration 133: N1=541, N2=459\n",
      "Iteration 134: N1=541, N2=459\n",
      "Iteration 135: N1=537, N2=463\n",
      "Iteration 136: N1=531, N2=469\n",
      "Iteration 137: N1=531, N2=469\n",
      "Iteration 138: N1=530, N2=470\n",
      "Iteration 139: N1=525, N2=475\n",
      "Iteration 140: N1=529, N2=471\n",
      "Iteration 141: N1=529, N2=471\n",
      "Iteration 142: N1=530, N2=470\n",
      "Iteration 143: N1=533, N2=467\n",
      "Iteration 144: N1=532, N2=468\n",
      "Iteration 145: N1=530, N2=470\n",
      "Iteration 146: N1=524, N2=476\n",
      "Iteration 147: N1=518, N2=482\n",
      "Iteration 148: N1=511, N2=489\n",
      "Iteration 149: N1=507, N2=493\n",
      "Iteration 150: N1=506, N2=494\n",
      "Iteration 151: N1=506, N2=494\n",
      "Iteration 152: N1=505, N2=495\n",
      "Iteration 153: N1=507, N2=493\n",
      "Iteration 154: N1=505, N2=495\n",
      "Iteration 155: N1=511, N2=489\n",
      "Iteration 156: N1=507, N2=493\n",
      "Iteration 157: N1=510, N2=490\n",
      "Iteration 158: N1=514, N2=486\n",
      "Iteration 159: N1=514, N2=486\n",
      "Iteration 160: N1=513, N2=487\n",
      "Iteration 161: N1=510, N2=490\n",
      "Iteration 162: N1=517, N2=483\n",
      "Iteration 163: N1=515, N2=485\n",
      "Iteration 164: N1=518, N2=482\n",
      "Iteration 165: N1=522, N2=478\n",
      "Iteration 166: N1=522, N2=478\n",
      "Iteration 167: N1=519, N2=481\n",
      "Iteration 168: N1=520, N2=480\n",
      "Iteration 169: N1=517, N2=483\n",
      "Iteration 170: N1=519, N2=481\n",
      "Iteration 171: N1=518, N2=482\n",
      "Iteration 172: N1=513, N2=487\n",
      "Iteration 173: N1=507, N2=493\n",
      "Iteration 174: N1=503, N2=497\n",
      "Iteration 175: N1=506, N2=494\n",
      "Iteration 176: N1=511, N2=489\n",
      "Iteration 177: N1=514, N2=486\n",
      "Iteration 178: N1=512, N2=488\n",
      "Iteration 179: N1=508, N2=492\n",
      "Iteration 180: N1=510, N2=490\n",
      "Iteration 181: N1=512, N2=488\n",
      "Iteration 182: N1=516, N2=484\n",
      "Iteration 183: N1=510, N2=490\n",
      "Iteration 184: N1=512, N2=488\n",
      "Iteration 185: N1=516, N2=484\n",
      "Iteration 186: N1=514, N2=486\n",
      "Iteration 187: N1=508, N2=492\n",
      "Iteration 188: N1=509, N2=491\n",
      "Iteration 189: N1=507, N2=493\n",
      "Iteration 190: N1=505, N2=495\n",
      "Iteration 191: N1=501, N2=499\n",
      "Iteration 192: N1=496, N2=504\n",
      "Iteration 193: N1=498, N2=502\n",
      "Iteration 194: N1=499, N2=501\n",
      "Iteration 195: N1=495, N2=505\n",
      "Iteration 196: N1=494, N2=506\n",
      "Iteration 197: N1=493, N2=507\n",
      "Iteration 198: N1=489, N2=511\n",
      "Iteration 199: N1=489, N2=511\n"
     ]
    }
   ],
   "source": [
    "# Simualte mix of particle in a box\n",
    "import numpy as np\n",
    "\n",
    "niter = 200  # Number of time iteration\n",
    "n = 1000  # Total number of particles\n",
    "alpha = 0.01  # Probability for every particle to cross the boundary\n",
    "\n",
    "# Initial conditions every particles starts in box 1\n",
    "n1 = n\n",
    "n2 = n - n1\n",
    "for i in range(niter):\n",
    "    de1a2 = (\n",
    "        np.random.random(n1) <= alpha\n",
    "    ).sum()  # number of particle going from 1 to 2\n",
    "    de2a1 = (\n",
    "        np.random.random(n2) <= alpha\n",
    "    ).sum()  # number of particle going from 2 to 1\n",
    "    # de1a2=np.random.binomial(n1,alpha)\n",
    "    # de2a1=np.random.binomial(n2,alpha)\n",
    "    n1 += de2a1 - de1a2  # new number of particle in 1\n",
    "    n2 += de1a2 - de2a1  # new number of particle in 2\n",
    "    print(\"Iteration {}: N1={}, N2={}\".format(i, n1, n2))"
   ]
  },
  {
   "cell_type": "markdown",
   "metadata": {},
   "source": []
  },
  {
   "cell_type": "markdown",
   "metadata": {},
   "source": [
    "# Pandas\n",
    "The `pandas` package provides user-friendly record arrays as `DataFrame` objects. 1D arrays are represented by `Series` objects.\n",
    "\n",
    "* See [pandas.pydata.org](https://pandas.pydata.org/)\n",
    "* Table rows can be indexed for faster access.\n",
    "* See [The 10 min guide (pandas.pydata.org/docs/user_guide/10min.html)](https://pandas.pydata.org/docs/user_guide/10min.html)\n"
   ]
  },
  {
   "cell_type": "code",
   "execution_count": null,
   "metadata": {},
   "outputs": [
    {
     "name": "stdout",
     "output_type": "stream",
     "text": [
      "   A\n",
      "0  1\n",
      "1  2\n",
      "2  3\n"
     ]
    }
   ],
   "source": [
    "import pandas as pd\n",
    "\n",
    "df = pd.DataFrame({\"A\": [1, 2, 3]})\n",
    "print(df)"
   ]
  },
  {
   "cell_type": "code",
   "execution_count": null,
   "metadata": {},
   "outputs": [
    {
     "name": "stdout",
     "output_type": "stream",
     "text": [
      "0    1\n",
      "1    2\n",
      "2    3\n",
      "dtype: int64\n"
     ]
    }
   ],
   "source": [
    "arr = pd.Series([1, 2, 3])\n",
    "print(arr)"
   ]
  },
  {
   "cell_type": "code",
   "execution_count": null,
   "metadata": {},
   "outputs": [
    {
     "data": {
      "text/plain": [
       "A    int64\n",
       "dtype: object"
      ]
     },
     "metadata": {},
     "output_type": "display_data"
    }
   ],
   "source": [
    "# Show data types:\n",
    "df.dtypes"
   ]
  },
  {
   "cell_type": "code",
   "execution_count": null,
   "metadata": {},
   "outputs": [
    {
     "data": {
      "text/html": [
       "<div>\n",
       "<style scoped>\n",
       "    .dataframe tbody tr th:only-of-type {\n",
       "        vertical-align: middle;\n",
       "    }\n",
       "\n",
       "    .dataframe tbody tr th {\n",
       "        vertical-align: top;\n",
       "    }\n",
       "\n",
       "    .dataframe thead th {\n",
       "        text-align: right;\n",
       "    }\n",
       "</style>\n",
       "<table border=\"1\" class=\"dataframe\">\n",
       "  <thead>\n",
       "    <tr style=\"text-align: right;\">\n",
       "      <th></th>\n",
       "      <th>A</th>\n",
       "    </tr>\n",
       "  </thead>\n",
       "  <tbody>\n",
       "    <tr>\n",
       "      <th>count</th>\n",
       "      <td>3.0</td>\n",
       "    </tr>\n",
       "    <tr>\n",
       "      <th>mean</th>\n",
       "      <td>2.0</td>\n",
       "    </tr>\n",
       "    <tr>\n",
       "      <th>std</th>\n",
       "      <td>1.0</td>\n",
       "    </tr>\n",
       "    <tr>\n",
       "      <th>min</th>\n",
       "      <td>1.0</td>\n",
       "    </tr>\n",
       "    <tr>\n",
       "      <th>25%</th>\n",
       "      <td>1.5</td>\n",
       "    </tr>\n",
       "    <tr>\n",
       "      <th>50%</th>\n",
       "      <td>2.0</td>\n",
       "    </tr>\n",
       "    <tr>\n",
       "      <th>75%</th>\n",
       "      <td>2.5</td>\n",
       "    </tr>\n",
       "    <tr>\n",
       "      <th>max</th>\n",
       "      <td>3.0</td>\n",
       "    </tr>\n",
       "  </tbody>\n",
       "</table>\n",
       "</div>"
      ],
      "text/plain": [
       "         A\n",
       "count  3.0\n",
       "mean   2.0\n",
       "std    1.0\n",
       "min    1.0\n",
       "25%    1.5\n",
       "50%    2.0\n",
       "75%    2.5\n",
       "max    3.0"
      ]
     },
     "metadata": {},
     "output_type": "display_data"
    }
   ],
   "source": [
    "# describe() shows a quick statistic summary of your data:\n",
    "df.describe()"
   ]
  },
  {
   "cell_type": "code",
   "execution_count": null,
   "metadata": {},
   "outputs": [
    {
     "data": {
      "text/html": [
       "<div>\n",
       "<style scoped>\n",
       "    .dataframe tbody tr th:only-of-type {\n",
       "        vertical-align: middle;\n",
       "    }\n",
       "\n",
       "    .dataframe tbody tr th {\n",
       "        vertical-align: top;\n",
       "    }\n",
       "\n",
       "    .dataframe thead th {\n",
       "        text-align: right;\n",
       "    }\n",
       "</style>\n",
       "<table border=\"1\" class=\"dataframe\">\n",
       "  <thead>\n",
       "    <tr style=\"text-align: right;\">\n",
       "      <th></th>\n",
       "      <th>A</th>\n",
       "    </tr>\n",
       "  </thead>\n",
       "  <tbody>\n",
       "    <tr>\n",
       "      <th>0</th>\n",
       "      <td>1</td>\n",
       "    </tr>\n",
       "    <tr>\n",
       "      <th>1</th>\n",
       "      <td>2</td>\n",
       "    </tr>\n",
       "  </tbody>\n",
       "</table>\n",
       "</div>"
      ],
      "text/plain": [
       "   A\n",
       "0  1\n",
       "1  2"
      ]
     },
     "metadata": {},
     "output_type": "display_data"
    }
   ],
   "source": [
    "# Slicing rows.\n",
    "df[0:2]"
   ]
  },
  {
   "cell_type": "markdown",
   "metadata": {},
   "source": [
    "# Scipy"
   ]
  },
  {
   "cell_type": "markdown",
   "metadata": {},
   "source": [
    "Scipy is a package providing functionality for scientific calculations like:\n",
    "\n",
    "- numerical integration\n",
    "- minimization / curve fitting\n",
    "- interpolation, e.g. splines\n",
    "- statistical function, e.g. various probability distributions\n",
    "- ...\n",
    "\n",
    " [Scipy Documentation](https://docs.scipy.org/doc/scipy/tutorial/index.html)"
   ]
  },
  {
   "cell_type": "markdown",
   "metadata": {},
   "source": [
    "## Numerical integration\n",
    "\n",
    "`scipy.integrate.quad(func, a, b[, args, full_output, ...])` provides an integrator for a finite integration of a function.  "
   ]
  },
  {
   "cell_type": "markdown",
   "metadata": {},
   "source": [
    "## Minimization / curve fitting\n",
    "\n",
    "The `scipy.optimize` module provides various functions for optimization purposes, like minimization and curve fitting.\n",
    "\n",
    "- `scipy.optimize.minimize` minimizes a function using various algorithms.\n",
    "\n",
    "- `scipy.optimize.curve_fit(f, xdata, ydata[, p0, sigma, ...]))` fits a function to data."
   ]
  },
  {
   "cell_type": "markdown",
   "metadata": {},
   "source": [
    "## Interpolation\n",
    "\n",
    "The `scipy.interpolate` module provides various interpolation classes, which\n",
    "provide b-spline representations of data points."
   ]
  },
  {
   "cell_type": "markdown",
   "metadata": {},
   "source": [
    "## Statistical functions\n",
    "\n",
    "The `scipy.stats` module provides various functions for statistical quantities\n",
    "and probability distributions."
   ]
  },
  {
   "cell_type": "markdown",
   "metadata": {},
   "source": [
    "# Matplotlib"
   ]
  },
  {
   "cell_type": "markdown",
   "metadata": {},
   "source": [
    "From the [Matplotlib webpage](https://matplotlib.org/):\n",
    "\n",
    "> Matplotlib is a Python 2D plotting library which produces publication quality figures\n",
    "> in a variety of hardcopy formats and interactive environments across platforms."
   ]
  },
  {
   "cell_type": "code",
   "execution_count": null,
   "metadata": {},
   "outputs": [],
   "source": [
    "# Call this magic function in the first line of your Jupyter notebook:\n",
    "# %matplotlib notebook\n",
    "# If that doesn't work, use\n",
    "# %matplotlib widget"
   ]
  },
  {
   "cell_type": "code",
   "execution_count": null,
   "metadata": {},
   "outputs": [
    {
     "data": {
      "application/javascript": "/* Put everything inside the global mpl namespace */\n/* global mpl */\nwindow.mpl = {};\n\nmpl.get_websocket_type = function () {\n    if (typeof WebSocket !== 'undefined') {\n        return WebSocket;\n    } else if (typeof MozWebSocket !== 'undefined') {\n        return MozWebSocket;\n    } else {\n        alert(\n            'Your browser does not have WebSocket support. ' +\n                'Please try Chrome, Safari or Firefox ≥ 6. ' +\n                'Firefox 4 and 5 are also supported but you ' +\n                'have to enable WebSockets in about:config.'\n        );\n    }\n};\n\nmpl.figure = function (figure_id, websocket, ondownload, parent_element) {\n    this.id = figure_id;\n\n    this.ws = websocket;\n\n    this.supports_binary = this.ws.binaryType !== undefined;\n\n    if (!this.supports_binary) {\n        var warnings = document.getElementById('mpl-warnings');\n        if (warnings) {\n            warnings.style.display = 'block';\n            warnings.textContent =\n                'This browser does not support binary websocket messages. ' +\n                'Performance may be slow.';\n        }\n    }\n\n    this.imageObj = new Image();\n\n    this.context = undefined;\n    this.message = undefined;\n    this.canvas = undefined;\n    this.rubberband_canvas = undefined;\n    this.rubberband_context = undefined;\n    this.format_dropdown = undefined;\n\n    this.image_mode = 'full';\n\n    this.root = document.createElement('div');\n    this.root.setAttribute('style', 'display: inline-block');\n    this._root_extra_style(this.root);\n\n    parent_element.appendChild(this.root);\n\n    this._init_header(this);\n    this._init_canvas(this);\n    this._init_toolbar(this);\n\n    var fig = this;\n\n    this.waiting = false;\n\n    this.ws.onopen = function () {\n        fig.send_message('supports_binary', { value: fig.supports_binary });\n        fig.send_message('send_image_mode', {});\n        if (fig.ratio !== 1) {\n            fig.send_message('set_device_pixel_ratio', {\n                device_pixel_ratio: fig.ratio,\n            });\n        }\n        fig.send_message('refresh', {});\n    };\n\n    this.imageObj.onload = function () {\n        if (fig.image_mode === 'full') {\n            // Full images could contain transparency (where diff images\n            // almost always do), so we need to clear the canvas so that\n            // there is no ghosting.\n            fig.context.clearRect(0, 0, fig.canvas.width, fig.canvas.height);\n        }\n        fig.context.drawImage(fig.imageObj, 0, 0);\n    };\n\n    this.imageObj.onunload = function () {\n        fig.ws.close();\n    };\n\n    this.ws.onmessage = this._make_on_message_function(this);\n\n    this.ondownload = ondownload;\n};\n\nmpl.figure.prototype._init_header = function () {\n    var titlebar = document.createElement('div');\n    titlebar.classList =\n        'ui-dialog-titlebar ui-widget-header ui-corner-all ui-helper-clearfix';\n    var titletext = document.createElement('div');\n    titletext.classList = 'ui-dialog-title';\n    titletext.setAttribute(\n        'style',\n        'width: 100%; text-align: center; padding: 3px;'\n    );\n    titlebar.appendChild(titletext);\n    this.root.appendChild(titlebar);\n    this.header = titletext;\n};\n\nmpl.figure.prototype._canvas_extra_style = function (_canvas_div) {};\n\nmpl.figure.prototype._root_extra_style = function (_canvas_div) {};\n\nmpl.figure.prototype._init_canvas = function () {\n    var fig = this;\n\n    var canvas_div = (this.canvas_div = document.createElement('div'));\n    canvas_div.setAttribute('tabindex', '0');\n    canvas_div.setAttribute(\n        'style',\n        'border: 1px solid #ddd;' +\n            'box-sizing: content-box;' +\n            'clear: both;' +\n            'min-height: 1px;' +\n            'min-width: 1px;' +\n            'outline: 0;' +\n            'overflow: hidden;' +\n            'position: relative;' +\n            'resize: both;' +\n            'z-index: 2;'\n    );\n\n    function on_keyboard_event_closure(name) {\n        return function (event) {\n            return fig.key_event(event, name);\n        };\n    }\n\n    canvas_div.addEventListener(\n        'keydown',\n        on_keyboard_event_closure('key_press')\n    );\n    canvas_div.addEventListener(\n        'keyup',\n        on_keyboard_event_closure('key_release')\n    );\n\n    this._canvas_extra_style(canvas_div);\n    this.root.appendChild(canvas_div);\n\n    var canvas = (this.canvas = document.createElement('canvas'));\n    canvas.classList.add('mpl-canvas');\n    canvas.setAttribute(\n        'style',\n        'box-sizing: content-box;' +\n            'pointer-events: none;' +\n            'position: relative;' +\n            'z-index: 0;'\n    );\n\n    this.context = canvas.getContext('2d');\n\n    var backingStore =\n        this.context.backingStorePixelRatio ||\n        this.context.webkitBackingStorePixelRatio ||\n        this.context.mozBackingStorePixelRatio ||\n        this.context.msBackingStorePixelRatio ||\n        this.context.oBackingStorePixelRatio ||\n        this.context.backingStorePixelRatio ||\n        1;\n\n    this.ratio = (window.devicePixelRatio || 1) / backingStore;\n\n    var rubberband_canvas = (this.rubberband_canvas = document.createElement(\n        'canvas'\n    ));\n    rubberband_canvas.setAttribute(\n        'style',\n        'box-sizing: content-box;' +\n            'left: 0;' +\n            'pointer-events: none;' +\n            'position: absolute;' +\n            'top: 0;' +\n            'z-index: 1;'\n    );\n\n    // Apply a ponyfill if ResizeObserver is not implemented by browser.\n    if (this.ResizeObserver === undefined) {\n        if (window.ResizeObserver !== undefined) {\n            this.ResizeObserver = window.ResizeObserver;\n        } else {\n            var obs = _JSXTOOLS_RESIZE_OBSERVER({});\n            this.ResizeObserver = obs.ResizeObserver;\n        }\n    }\n\n    this.resizeObserverInstance = new this.ResizeObserver(function (entries) {\n        var nentries = entries.length;\n        for (var i = 0; i < nentries; i++) {\n            var entry = entries[i];\n            var width, height;\n            if (entry.contentBoxSize) {\n                if (entry.contentBoxSize instanceof Array) {\n                    // Chrome 84 implements new version of spec.\n                    width = entry.contentBoxSize[0].inlineSize;\n                    height = entry.contentBoxSize[0].blockSize;\n                } else {\n                    // Firefox implements old version of spec.\n                    width = entry.contentBoxSize.inlineSize;\n                    height = entry.contentBoxSize.blockSize;\n                }\n            } else {\n                // Chrome <84 implements even older version of spec.\n                width = entry.contentRect.width;\n                height = entry.contentRect.height;\n            }\n\n            // Keep the size of the canvas and rubber band canvas in sync with\n            // the canvas container.\n            if (entry.devicePixelContentBoxSize) {\n                // Chrome 84 implements new version of spec.\n                canvas.setAttribute(\n                    'width',\n                    entry.devicePixelContentBoxSize[0].inlineSize\n                );\n                canvas.setAttribute(\n                    'height',\n                    entry.devicePixelContentBoxSize[0].blockSize\n                );\n            } else {\n                canvas.setAttribute('width', width * fig.ratio);\n                canvas.setAttribute('height', height * fig.ratio);\n            }\n            /* This rescales the canvas back to display pixels, so that it\n             * appears correct on HiDPI screens. */\n            canvas.style.width = width + 'px';\n            canvas.style.height = height + 'px';\n\n            rubberband_canvas.setAttribute('width', width);\n            rubberband_canvas.setAttribute('height', height);\n\n            // And update the size in Python. We ignore the initial 0/0 size\n            // that occurs as the element is placed into the DOM, which should\n            // otherwise not happen due to the minimum size styling.\n            if (fig.ws.readyState == 1 && width != 0 && height != 0) {\n                fig.request_resize(width, height);\n            }\n        }\n    });\n    this.resizeObserverInstance.observe(canvas_div);\n\n    function on_mouse_event_closure(name) {\n        /* User Agent sniffing is bad, but WebKit is busted:\n         * https://bugs.webkit.org/show_bug.cgi?id=144526\n         * https://bugs.webkit.org/show_bug.cgi?id=181818\n         * The worst that happens here is that they get an extra browser\n         * selection when dragging, if this check fails to catch them.\n         */\n        var UA = navigator.userAgent;\n        var isWebKit = /AppleWebKit/.test(UA) && !/Chrome/.test(UA);\n        if(isWebKit) {\n            return function (event) {\n                /* This prevents the web browser from automatically changing to\n                 * the text insertion cursor when the button is pressed. We\n                 * want to control all of the cursor setting manually through\n                 * the 'cursor' event from matplotlib */\n                event.preventDefault()\n                return fig.mouse_event(event, name);\n            };\n        } else {\n            return function (event) {\n                return fig.mouse_event(event, name);\n            };\n        }\n    }\n\n    canvas_div.addEventListener(\n        'mousedown',\n        on_mouse_event_closure('button_press')\n    );\n    canvas_div.addEventListener(\n        'mouseup',\n        on_mouse_event_closure('button_release')\n    );\n    canvas_div.addEventListener(\n        'dblclick',\n        on_mouse_event_closure('dblclick')\n    );\n    // Throttle sequential mouse events to 1 every 20ms.\n    canvas_div.addEventListener(\n        'mousemove',\n        on_mouse_event_closure('motion_notify')\n    );\n\n    canvas_div.addEventListener(\n        'mouseenter',\n        on_mouse_event_closure('figure_enter')\n    );\n    canvas_div.addEventListener(\n        'mouseleave',\n        on_mouse_event_closure('figure_leave')\n    );\n\n    canvas_div.addEventListener('wheel', function (event) {\n        if (event.deltaY < 0) {\n            event.step = 1;\n        } else {\n            event.step = -1;\n        }\n        on_mouse_event_closure('scroll')(event);\n    });\n\n    canvas_div.appendChild(canvas);\n    canvas_div.appendChild(rubberband_canvas);\n\n    this.rubberband_context = rubberband_canvas.getContext('2d');\n    this.rubberband_context.strokeStyle = '#000000';\n\n    this._resize_canvas = function (width, height, forward) {\n        if (forward) {\n            canvas_div.style.width = width + 'px';\n            canvas_div.style.height = height + 'px';\n        }\n    };\n\n    // Disable right mouse context menu.\n    canvas_div.addEventListener('contextmenu', function (_e) {\n        event.preventDefault();\n        return false;\n    });\n\n    function set_focus() {\n        canvas.focus();\n        canvas_div.focus();\n    }\n\n    window.setTimeout(set_focus, 100);\n};\n\nmpl.figure.prototype._init_toolbar = function () {\n    var fig = this;\n\n    var toolbar = document.createElement('div');\n    toolbar.classList = 'mpl-toolbar';\n    this.root.appendChild(toolbar);\n\n    function on_click_closure(name) {\n        return function (_event) {\n            return fig.toolbar_button_onclick(name);\n        };\n    }\n\n    function on_mouseover_closure(tooltip) {\n        return function (event) {\n            if (!event.currentTarget.disabled) {\n                return fig.toolbar_button_onmouseover(tooltip);\n            }\n        };\n    }\n\n    fig.buttons = {};\n    var buttonGroup = document.createElement('div');\n    buttonGroup.classList = 'mpl-button-group';\n    for (var toolbar_ind in mpl.toolbar_items) {\n        var name = mpl.toolbar_items[toolbar_ind][0];\n        var tooltip = mpl.toolbar_items[toolbar_ind][1];\n        var image = mpl.toolbar_items[toolbar_ind][2];\n        var method_name = mpl.toolbar_items[toolbar_ind][3];\n\n        if (!name) {\n            /* Instead of a spacer, we start a new button group. */\n            if (buttonGroup.hasChildNodes()) {\n                toolbar.appendChild(buttonGroup);\n            }\n            buttonGroup = document.createElement('div');\n            buttonGroup.classList = 'mpl-button-group';\n            continue;\n        }\n\n        var button = (fig.buttons[name] = document.createElement('button'));\n        button.classList = 'mpl-widget';\n        button.setAttribute('role', 'button');\n        button.setAttribute('aria-disabled', 'false');\n        button.addEventListener('click', on_click_closure(method_name));\n        button.addEventListener('mouseover', on_mouseover_closure(tooltip));\n\n        var icon_img = document.createElement('img');\n        icon_img.src = '_images/' + image + '.png';\n        icon_img.srcset = '_images/' + image + '_large.png 2x';\n        icon_img.alt = tooltip;\n        button.appendChild(icon_img);\n\n        buttonGroup.appendChild(button);\n    }\n\n    if (buttonGroup.hasChildNodes()) {\n        toolbar.appendChild(buttonGroup);\n    }\n\n    var fmt_picker = document.createElement('select');\n    fmt_picker.classList = 'mpl-widget';\n    toolbar.appendChild(fmt_picker);\n    this.format_dropdown = fmt_picker;\n\n    for (var ind in mpl.extensions) {\n        var fmt = mpl.extensions[ind];\n        var option = document.createElement('option');\n        option.selected = fmt === mpl.default_extension;\n        option.innerHTML = fmt;\n        fmt_picker.appendChild(option);\n    }\n\n    var status_bar = document.createElement('span');\n    status_bar.classList = 'mpl-message';\n    toolbar.appendChild(status_bar);\n    this.message = status_bar;\n};\n\nmpl.figure.prototype.request_resize = function (x_pixels, y_pixels) {\n    // Request matplotlib to resize the figure. Matplotlib will then trigger a resize in the client,\n    // which will in turn request a refresh of the image.\n    this.send_message('resize', { width: x_pixels, height: y_pixels });\n};\n\nmpl.figure.prototype.send_message = function (type, properties) {\n    properties['type'] = type;\n    properties['figure_id'] = this.id;\n    this.ws.send(JSON.stringify(properties));\n};\n\nmpl.figure.prototype.send_draw_message = function () {\n    if (!this.waiting) {\n        this.waiting = true;\n        this.ws.send(JSON.stringify({ type: 'draw', figure_id: this.id }));\n    }\n};\n\nmpl.figure.prototype.handle_save = function (fig, _msg) {\n    var format_dropdown = fig.format_dropdown;\n    var format = format_dropdown.options[format_dropdown.selectedIndex].value;\n    fig.ondownload(fig, format);\n};\n\nmpl.figure.prototype.handle_resize = function (fig, msg) {\n    var size = msg['size'];\n    if (size[0] !== fig.canvas.width || size[1] !== fig.canvas.height) {\n        fig._resize_canvas(size[0], size[1], msg['forward']);\n        fig.send_message('refresh', {});\n    }\n};\n\nmpl.figure.prototype.handle_rubberband = function (fig, msg) {\n    var x0 = msg['x0'] / fig.ratio;\n    var y0 = (fig.canvas.height - msg['y0']) / fig.ratio;\n    var x1 = msg['x1'] / fig.ratio;\n    var y1 = (fig.canvas.height - msg['y1']) / fig.ratio;\n    x0 = Math.floor(x0) + 0.5;\n    y0 = Math.floor(y0) + 0.5;\n    x1 = Math.floor(x1) + 0.5;\n    y1 = Math.floor(y1) + 0.5;\n    var min_x = Math.min(x0, x1);\n    var min_y = Math.min(y0, y1);\n    var width = Math.abs(x1 - x0);\n    var height = Math.abs(y1 - y0);\n\n    fig.rubberband_context.clearRect(\n        0,\n        0,\n        fig.canvas.width / fig.ratio,\n        fig.canvas.height / fig.ratio\n    );\n\n    fig.rubberband_context.strokeRect(min_x, min_y, width, height);\n};\n\nmpl.figure.prototype.handle_figure_label = function (fig, msg) {\n    // Updates the figure title.\n    fig.header.textContent = msg['label'];\n};\n\nmpl.figure.prototype.handle_cursor = function (fig, msg) {\n    fig.canvas_div.style.cursor = msg['cursor'];\n};\n\nmpl.figure.prototype.handle_message = function (fig, msg) {\n    fig.message.textContent = msg['message'];\n};\n\nmpl.figure.prototype.handle_draw = function (fig, _msg) {\n    // Request the server to send over a new figure.\n    fig.send_draw_message();\n};\n\nmpl.figure.prototype.handle_image_mode = function (fig, msg) {\n    fig.image_mode = msg['mode'];\n};\n\nmpl.figure.prototype.handle_history_buttons = function (fig, msg) {\n    for (var key in msg) {\n        if (!(key in fig.buttons)) {\n            continue;\n        }\n        fig.buttons[key].disabled = !msg[key];\n        fig.buttons[key].setAttribute('aria-disabled', !msg[key]);\n    }\n};\n\nmpl.figure.prototype.handle_navigate_mode = function (fig, msg) {\n    if (msg['mode'] === 'PAN') {\n        fig.buttons['Pan'].classList.add('active');\n        fig.buttons['Zoom'].classList.remove('active');\n    } else if (msg['mode'] === 'ZOOM') {\n        fig.buttons['Pan'].classList.remove('active');\n        fig.buttons['Zoom'].classList.add('active');\n    } else {\n        fig.buttons['Pan'].classList.remove('active');\n        fig.buttons['Zoom'].classList.remove('active');\n    }\n};\n\nmpl.figure.prototype.updated_canvas_event = function () {\n    // Called whenever the canvas gets updated.\n    this.send_message('ack', {});\n};\n\n// A function to construct a web socket function for onmessage handling.\n// Called in the figure constructor.\nmpl.figure.prototype._make_on_message_function = function (fig) {\n    return function socket_on_message(evt) {\n        if (evt.data instanceof Blob) {\n            var img = evt.data;\n            if (img.type !== 'image/png') {\n                /* FIXME: We get \"Resource interpreted as Image but\n                 * transferred with MIME type text/plain:\" errors on\n                 * Chrome.  But how to set the MIME type?  It doesn't seem\n                 * to be part of the websocket stream */\n                img.type = 'image/png';\n            }\n\n            /* Free the memory for the previous frames */\n            if (fig.imageObj.src) {\n                (window.URL || window.webkitURL).revokeObjectURL(\n                    fig.imageObj.src\n                );\n            }\n\n            fig.imageObj.src = (window.URL || window.webkitURL).createObjectURL(\n                img\n            );\n            fig.updated_canvas_event();\n            fig.waiting = false;\n            return;\n        } else if (\n            typeof evt.data === 'string' &&\n            evt.data.slice(0, 21) === 'data:image/png;base64'\n        ) {\n            fig.imageObj.src = evt.data;\n            fig.updated_canvas_event();\n            fig.waiting = false;\n            return;\n        }\n\n        var msg = JSON.parse(evt.data);\n        var msg_type = msg['type'];\n\n        // Call the  \"handle_{type}\" callback, which takes\n        // the figure and JSON message as its only arguments.\n        try {\n            var callback = fig['handle_' + msg_type];\n        } catch (e) {\n            console.log(\n                \"No handler for the '\" + msg_type + \"' message type: \",\n                msg\n            );\n            return;\n        }\n\n        if (callback) {\n            try {\n                // console.log(\"Handling '\" + msg_type + \"' message: \", msg);\n                callback(fig, msg);\n            } catch (e) {\n                console.log(\n                    \"Exception inside the 'handler_\" + msg_type + \"' callback:\",\n                    e,\n                    e.stack,\n                    msg\n                );\n            }\n        }\n    };\n};\n\nfunction getModifiers(event) {\n    var mods = [];\n    if (event.ctrlKey) {\n        mods.push('ctrl');\n    }\n    if (event.altKey) {\n        mods.push('alt');\n    }\n    if (event.shiftKey) {\n        mods.push('shift');\n    }\n    if (event.metaKey) {\n        mods.push('meta');\n    }\n    return mods;\n}\n\n/*\n * return a copy of an object with only non-object keys\n * we need this to avoid circular references\n * https://stackoverflow.com/a/24161582/3208463\n */\nfunction simpleKeys(original) {\n    return Object.keys(original).reduce(function (obj, key) {\n        if (typeof original[key] !== 'object') {\n            obj[key] = original[key];\n        }\n        return obj;\n    }, {});\n}\n\nmpl.figure.prototype.mouse_event = function (event, name) {\n    if (name === 'button_press') {\n        this.canvas.focus();\n        this.canvas_div.focus();\n    }\n\n    // from https://stackoverflow.com/q/1114465\n    var boundingRect = this.canvas.getBoundingClientRect();\n    var x = (event.clientX - boundingRect.left) * this.ratio;\n    var y = (event.clientY - boundingRect.top) * this.ratio;\n\n    this.send_message(name, {\n        x: x,\n        y: y,\n        button: event.button,\n        step: event.step,\n        modifiers: getModifiers(event),\n        guiEvent: simpleKeys(event),\n    });\n\n    return false;\n};\n\nmpl.figure.prototype._key_event_extra = function (_event, _name) {\n    // Handle any extra behaviour associated with a key event\n};\n\nmpl.figure.prototype.key_event = function (event, name) {\n    // Prevent repeat events\n    if (name === 'key_press') {\n        if (event.key === this._key) {\n            return;\n        } else {\n            this._key = event.key;\n        }\n    }\n    if (name === 'key_release') {\n        this._key = null;\n    }\n\n    var value = '';\n    if (event.ctrlKey && event.key !== 'Control') {\n        value += 'ctrl+';\n    }\n    else if (event.altKey && event.key !== 'Alt') {\n        value += 'alt+';\n    }\n    else if (event.shiftKey && event.key !== 'Shift') {\n        value += 'shift+';\n    }\n\n    value += 'k' + event.key;\n\n    this._key_event_extra(event, name);\n\n    this.send_message(name, { key: value, guiEvent: simpleKeys(event) });\n    return false;\n};\n\nmpl.figure.prototype.toolbar_button_onclick = function (name) {\n    if (name === 'download') {\n        this.handle_save(this, null);\n    } else {\n        this.send_message('toolbar_button', { name: name });\n    }\n};\n\nmpl.figure.prototype.toolbar_button_onmouseover = function (tooltip) {\n    this.message.textContent = tooltip;\n};\n\n///////////////// REMAINING CONTENT GENERATED BY embed_js.py /////////////////\n// prettier-ignore\nvar _JSXTOOLS_RESIZE_OBSERVER=function(A){var t,i=new WeakMap,n=new WeakMap,a=new WeakMap,r=new WeakMap,o=new Set;function s(e){if(!(this instanceof s))throw new TypeError(\"Constructor requires 'new' operator\");i.set(this,e)}function h(){throw new TypeError(\"Function is not a constructor\")}function c(e,t,i,n){e=0 in arguments?Number(arguments[0]):0,t=1 in arguments?Number(arguments[1]):0,i=2 in arguments?Number(arguments[2]):0,n=3 in arguments?Number(arguments[3]):0,this.right=(this.x=this.left=e)+(this.width=i),this.bottom=(this.y=this.top=t)+(this.height=n),Object.freeze(this)}function d(){t=requestAnimationFrame(d);var s=new WeakMap,p=new Set;o.forEach((function(t){r.get(t).forEach((function(i){var r=t instanceof window.SVGElement,o=a.get(t),d=r?0:parseFloat(o.paddingTop),f=r?0:parseFloat(o.paddingRight),l=r?0:parseFloat(o.paddingBottom),u=r?0:parseFloat(o.paddingLeft),g=r?0:parseFloat(o.borderTopWidth),m=r?0:parseFloat(o.borderRightWidth),w=r?0:parseFloat(o.borderBottomWidth),b=u+f,F=d+l,v=(r?0:parseFloat(o.borderLeftWidth))+m,W=g+w,y=r?0:t.offsetHeight-W-t.clientHeight,E=r?0:t.offsetWidth-v-t.clientWidth,R=b+v,z=F+W,M=r?t.width:parseFloat(o.width)-R-E,O=r?t.height:parseFloat(o.height)-z-y;if(n.has(t)){var k=n.get(t);if(k[0]===M&&k[1]===O)return}n.set(t,[M,O]);var S=Object.create(h.prototype);S.target=t,S.contentRect=new c(u,d,M,O),s.has(i)||(s.set(i,[]),p.add(i)),s.get(i).push(S)}))})),p.forEach((function(e){i.get(e).call(e,s.get(e),e)}))}return s.prototype.observe=function(i){if(i instanceof window.Element){r.has(i)||(r.set(i,new Set),o.add(i),a.set(i,window.getComputedStyle(i)));var n=r.get(i);n.has(this)||n.add(this),cancelAnimationFrame(t),t=requestAnimationFrame(d)}},s.prototype.unobserve=function(i){if(i instanceof window.Element&&r.has(i)){var n=r.get(i);n.has(this)&&(n.delete(this),n.size||(r.delete(i),o.delete(i))),n.size||r.delete(i),o.size||cancelAnimationFrame(t)}},A.DOMRectReadOnly=c,A.ResizeObserver=s,A.ResizeObserverEntry=h,A}; // eslint-disable-line\nmpl.toolbar_items = [[\"Home\", \"Reset original view\", \"fa fa-home\", \"home\"], [\"Back\", \"Back to previous view\", \"fa fa-arrow-left\", \"back\"], [\"Forward\", \"Forward to next view\", \"fa fa-arrow-right\", \"forward\"], [\"\", \"\", \"\", \"\"], [\"Pan\", \"Left button pans, Right button zooms\\nx/y fixes axis, CTRL fixes aspect\", \"fa fa-arrows\", \"pan\"], [\"Zoom\", \"Zoom to rectangle\\nx/y fixes axis\", \"fa fa-square-o\", \"zoom\"], [\"\", \"\", \"\", \"\"], [\"Download\", \"Download plot\", \"fa fa-floppy-o\", \"download\"]];\n\nmpl.extensions = [\"eps\", \"jpeg\", \"pgf\", \"pdf\", \"png\", \"ps\", \"raw\", \"svg\", \"tif\", \"webp\"];\n\nmpl.default_extension = \"png\";/* global mpl */\n\nvar comm_websocket_adapter = function (comm) {\n    // Create a \"websocket\"-like object which calls the given IPython comm\n    // object with the appropriate methods. Currently this is a non binary\n    // socket, so there is still some room for performance tuning.\n    var ws = {};\n\n    ws.binaryType = comm.kernel.ws.binaryType;\n    ws.readyState = comm.kernel.ws.readyState;\n    function updateReadyState(_event) {\n        if (comm.kernel.ws) {\n            ws.readyState = comm.kernel.ws.readyState;\n        } else {\n            ws.readyState = 3; // Closed state.\n        }\n    }\n    comm.kernel.ws.addEventListener('open', updateReadyState);\n    comm.kernel.ws.addEventListener('close', updateReadyState);\n    comm.kernel.ws.addEventListener('error', updateReadyState);\n\n    ws.close = function () {\n        comm.close();\n    };\n    ws.send = function (m) {\n        //console.log('sending', m);\n        comm.send(m);\n    };\n    // Register the callback with on_msg.\n    comm.on_msg(function (msg) {\n        //console.log('receiving', msg['content']['data'], msg);\n        var data = msg['content']['data'];\n        if (data['blob'] !== undefined) {\n            data = {\n                data: new Blob(msg['buffers'], { type: data['blob'] }),\n            };\n        }\n        // Pass the mpl event to the overridden (by mpl) onmessage function.\n        ws.onmessage(data);\n    });\n    return ws;\n};\n\nmpl.mpl_figure_comm = function (comm, msg) {\n    // This is the function which gets called when the mpl process\n    // starts-up an IPython Comm through the \"matplotlib\" channel.\n\n    var id = msg.content.data.id;\n    // Get hold of the div created by the display call when the Comm\n    // socket was opened in Python.\n    var element = document.getElementById(id);\n    var ws_proxy = comm_websocket_adapter(comm);\n\n    function ondownload(figure, _format) {\n        window.open(figure.canvas.toDataURL());\n    }\n\n    var fig = new mpl.figure(id, ws_proxy, ondownload, element);\n\n    // Call onopen now - mpl needs it, as it is assuming we've passed it a real\n    // web socket which is closed, not our websocket->open comm proxy.\n    ws_proxy.onopen();\n\n    fig.parent_element = element;\n    fig.cell_info = mpl.find_output_cell(\"<div id='\" + id + \"'></div>\");\n    if (!fig.cell_info) {\n        console.error('Failed to find cell for figure', id, fig);\n        return;\n    }\n    fig.cell_info[0].output_area.element.on(\n        'cleared',\n        { fig: fig },\n        fig._remove_fig_handler\n    );\n};\n\nmpl.figure.prototype.handle_close = function (fig, msg) {\n    var width = fig.canvas.width / fig.ratio;\n    fig.cell_info[0].output_area.element.off(\n        'cleared',\n        fig._remove_fig_handler\n    );\n    fig.resizeObserverInstance.unobserve(fig.canvas_div);\n\n    // Update the output cell to use the data from the current canvas.\n    fig.push_to_output();\n    var dataURL = fig.canvas.toDataURL();\n    // Re-enable the keyboard manager in IPython - without this line, in FF,\n    // the notebook keyboard shortcuts fail.\n    IPython.keyboard_manager.enable();\n    fig.parent_element.innerHTML =\n        '<img src=\"' + dataURL + '\" width=\"' + width + '\">';\n    fig.close_ws(fig, msg);\n};\n\nmpl.figure.prototype.close_ws = function (fig, msg) {\n    fig.send_message('closing', msg);\n    // fig.ws.close()\n};\n\nmpl.figure.prototype.push_to_output = function (_remove_interactive) {\n    // Turn the data on the canvas into data in the output cell.\n    var width = this.canvas.width / this.ratio;\n    var dataURL = this.canvas.toDataURL();\n    this.cell_info[1]['text/html'] =\n        '<img src=\"' + dataURL + '\" width=\"' + width + '\">';\n};\n\nmpl.figure.prototype.updated_canvas_event = function () {\n    // Tell IPython that the notebook contents must change.\n    IPython.notebook.set_dirty(true);\n    this.send_message('ack', {});\n    var fig = this;\n    // Wait a second, then push the new image to the DOM so\n    // that it is saved nicely (might be nice to debounce this).\n    setTimeout(function () {\n        fig.push_to_output();\n    }, 1000);\n};\n\nmpl.figure.prototype._init_toolbar = function () {\n    var fig = this;\n\n    var toolbar = document.createElement('div');\n    toolbar.classList = 'btn-toolbar';\n    this.root.appendChild(toolbar);\n\n    function on_click_closure(name) {\n        return function (_event) {\n            return fig.toolbar_button_onclick(name);\n        };\n    }\n\n    function on_mouseover_closure(tooltip) {\n        return function (event) {\n            if (!event.currentTarget.disabled) {\n                return fig.toolbar_button_onmouseover(tooltip);\n            }\n        };\n    }\n\n    fig.buttons = {};\n    var buttonGroup = document.createElement('div');\n    buttonGroup.classList = 'btn-group';\n    var button;\n    for (var toolbar_ind in mpl.toolbar_items) {\n        var name = mpl.toolbar_items[toolbar_ind][0];\n        var tooltip = mpl.toolbar_items[toolbar_ind][1];\n        var image = mpl.toolbar_items[toolbar_ind][2];\n        var method_name = mpl.toolbar_items[toolbar_ind][3];\n\n        if (!name) {\n            /* Instead of a spacer, we start a new button group. */\n            if (buttonGroup.hasChildNodes()) {\n                toolbar.appendChild(buttonGroup);\n            }\n            buttonGroup = document.createElement('div');\n            buttonGroup.classList = 'btn-group';\n            continue;\n        }\n\n        button = fig.buttons[name] = document.createElement('button');\n        button.classList = 'btn btn-default';\n        button.href = '#';\n        button.title = name;\n        button.innerHTML = '<i class=\"fa ' + image + ' fa-lg\"></i>';\n        button.addEventListener('click', on_click_closure(method_name));\n        button.addEventListener('mouseover', on_mouseover_closure(tooltip));\n        buttonGroup.appendChild(button);\n    }\n\n    if (buttonGroup.hasChildNodes()) {\n        toolbar.appendChild(buttonGroup);\n    }\n\n    // Add the status bar.\n    var status_bar = document.createElement('span');\n    status_bar.classList = 'mpl-message pull-right';\n    toolbar.appendChild(status_bar);\n    this.message = status_bar;\n\n    // Add the close button to the window.\n    var buttongrp = document.createElement('div');\n    buttongrp.classList = 'btn-group inline pull-right';\n    button = document.createElement('button');\n    button.classList = 'btn btn-mini btn-primary';\n    button.href = '#';\n    button.title = 'Stop Interaction';\n    button.innerHTML = '<i class=\"fa fa-power-off icon-remove icon-large\"></i>';\n    button.addEventListener('click', function (_evt) {\n        fig.handle_close(fig, {});\n    });\n    button.addEventListener(\n        'mouseover',\n        on_mouseover_closure('Stop Interaction')\n    );\n    buttongrp.appendChild(button);\n    var titlebar = this.root.querySelector('.ui-dialog-titlebar');\n    titlebar.insertBefore(buttongrp, titlebar.firstChild);\n};\n\nmpl.figure.prototype._remove_fig_handler = function (event) {\n    var fig = event.data.fig;\n    if (event.target !== this) {\n        // Ignore bubbled events from children.\n        return;\n    }\n    fig.close_ws(fig, {});\n};\n\nmpl.figure.prototype._root_extra_style = function (el) {\n    el.style.boxSizing = 'content-box'; // override notebook setting of border-box.\n};\n\nmpl.figure.prototype._canvas_extra_style = function (el) {\n    // this is important to make the div 'focusable\n    el.setAttribute('tabindex', 0);\n    // reach out to IPython and tell the keyboard manager to turn it's self\n    // off when our div gets focus\n\n    // location in version 3\n    if (IPython.notebook.keyboard_manager) {\n        IPython.notebook.keyboard_manager.register_events(el);\n    } else {\n        // location in version 2\n        IPython.keyboard_manager.register_events(el);\n    }\n};\n\nmpl.figure.prototype._key_event_extra = function (event, _name) {\n    // Check for shift+enter\n    if (event.shiftKey && event.which === 13) {\n        this.canvas_div.blur();\n        // select the cell after this one\n        var index = IPython.notebook.find_cell_index(this.cell_info[0]);\n        IPython.notebook.select(index + 1);\n    }\n};\n\nmpl.figure.prototype.handle_save = function (fig, _msg) {\n    fig.ondownload(fig, null);\n};\n\nmpl.find_output_cell = function (html_output) {\n    // Return the cell and output element which can be found *uniquely* in the notebook.\n    // Note - this is a bit hacky, but it is done because the \"notebook_saving.Notebook\"\n    // IPython event is triggered only after the cells have been serialised, which for\n    // our purposes (turning an active figure into a static one), is too late.\n    var cells = IPython.notebook.get_cells();\n    var ncells = cells.length;\n    for (var i = 0; i < ncells; i++) {\n        var cell = cells[i];\n        if (cell.cell_type === 'code') {\n            for (var j = 0; j < cell.output_area.outputs.length; j++) {\n                var data = cell.output_area.outputs[j];\n                if (data.data) {\n                    // IPython >= 3 moved mimebundle to data attribute of output\n                    data = data.data;\n                }\n                if (data['text/html'] === html_output) {\n                    return [cell, data, j];\n                }\n            }\n        }\n    }\n};\n\n// Register the function which deals with the matplotlib target/channel.\n// The kernel may be null if the page has been refreshed.\nif (IPython.notebook.kernel !== null) {\n    IPython.notebook.kernel.comm_manager.register_target(\n        'matplotlib',\n        mpl.mpl_figure_comm\n    );\n}\n",
      "text/plain": [
       "<IPython.core.display.Javascript object>"
      ]
     },
     "metadata": {},
     "output_type": "display_data"
    },
    {
     "data": {
      "text/html": [
       "<img src=\"data:image/png;base64,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\" width=\"600\">"
      ],
      "text/plain": [
       "<IPython.core.display.HTML object>"
      ]
     },
     "metadata": {},
     "output_type": "display_data"
    }
   ],
   "source": [
    "# Example: the final plot looks like this:\n",
    "import matplotlib\n",
    "\n",
    "fig = matplotlib.pyplot.figure(figsize=(6, 3))"
   ]
  },
  {
   "cell_type": "code",
   "execution_count": null,
   "metadata": {},
   "outputs": [],
   "source": [
    "# Split the figure into an array of fields: ncols x nrows.\n",
    "grid = matplotlib.pyplot.GridSpec(ncols=1, nrows=1)"
   ]
  },
  {
   "cell_type": "code",
   "execution_count": null,
   "metadata": {},
   "outputs": [],
   "source": [
    "# Add a subplot by specifying column and row.\n",
    "# You can also use slicing here for combining fields.\n",
    "ax = fig.add_subplot(grid[0, 0])"
   ]
  },
  {
   "cell_type": "code",
   "execution_count": null,
   "metadata": {},
   "outputs": [],
   "source": [
    "# Input data\n",
    "xval = np.linspace(0.0, 2.0 * np.pi, 101)\n",
    "yval = np.sin(xval)"
   ]
  },
  {
   "cell_type": "code",
   "execution_count": null,
   "metadata": {},
   "outputs": [
    {
     "data": {
      "text/plain": [
       "[<matplotlib.lines.Line2D at 0x7f506aa4f7f0>]"
      ]
     },
     "metadata": {},
     "output_type": "display_data"
    }
   ],
   "source": [
    "# Plot the input data:\n",
    "# Combine the data points with a solid line.\n",
    "ax.plot(xval, yval, \"-\", label=\"This is the sine function.\")"
   ]
  },
  {
   "cell_type": "code",
   "execution_count": null,
   "metadata": {},
   "outputs": [
    {
     "data": {
      "text/plain": [
       "(-1.0, 1.0)"
      ]
     },
     "metadata": {},
     "output_type": "display_data"
    }
   ],
   "source": [
    "# Axes formatting\n",
    "ax.set_xlim(xval[0], xval[-1])\n",
    "ax.set_ylim(-1.0, 1.0)"
   ]
  },
  {
   "cell_type": "code",
   "execution_count": null,
   "metadata": {},
   "outputs": [],
   "source": [
    "# Set the major ticks location and format of the x-axis.\n",
    "ax.xaxis.set_major_locator(\n",
    "    matplotlib.ticker.FixedLocator([0, np.pi / 2, np.pi, 3 / 2 * np.pi, 2 * np.pi])\n",
    ")\n",
    "ax.xaxis.set_major_formatter(\n",
    "    matplotlib.ticker.FixedFormatter(\n",
    "        [\"$0$\", r\"$\\frac{\\pi}{2}$\", r\"$\\pi$\", r\"$\\frac{3\\pi}{2}$\", r\"$2\\pi$\"]\n",
    "    )\n",
    ")"
   ]
  },
  {
   "cell_type": "code",
   "execution_count": null,
   "metadata": {},
   "outputs": [],
   "source": [
    "# For linear ticks, Matplotlib is pretty good in figuring out the\n",
    "# location of minor ticks.\n",
    "ax.yaxis.set_major_locator(matplotlib.ticker.LinearLocator(numticks=5))\n",
    "ax.yaxis.set_minor_locator(matplotlib.ticker.AutoMinorLocator())"
   ]
  },
  {
   "cell_type": "code",
   "execution_count": null,
   "metadata": {},
   "outputs": [
    {
     "data": {
      "text/plain": [
       "Text(26.097222222222214, 0.5, '$\\\\sin(\\\\alpha)$')"
      ]
     },
     "metadata": {},
     "output_type": "display_data"
    }
   ],
   "source": [
    "# Labels\n",
    "ax.set_xlabel(r\"$\\alpha$\")\n",
    "ax.set_ylabel(r\"$\\sin(\\alpha)$\")"
   ]
  },
  {
   "cell_type": "code",
   "execution_count": null,
   "metadata": {},
   "outputs": [
    {
     "data": {
      "text/plain": [
       "<matplotlib.legend.Legend at 0x7f506aa18640>"
      ]
     },
     "metadata": {},
     "output_type": "display_data"
    }
   ],
   "source": [
    "# Legend\n",
    "ax.legend(loc=\"upper right\")"
   ]
  },
  {
   "cell_type": "code",
   "execution_count": null,
   "metadata": {},
   "outputs": [],
   "source": [
    "# Shrink the axes in order to fit in the labels.\n",
    "grid.tight_layout(fig)\n",
    "plt.show()"
   ]
  },
  {
   "cell_type": "code",
   "execution_count": null,
   "metadata": {},
   "outputs": [],
   "source": [
    "# Save the figure.\n",
    "fig.savefig(\"example.pdf\")"
   ]
  },
  {
   "cell_type": "code",
   "execution_count": null,
   "metadata": {},
   "outputs": [],
   "source": [
    "os.remove(\"example.pdf\")"
   ]
  }
 ],
 "metadata": {
  "kernelspec": {
   "display_name": ".venv",
   "language": "python",
   "name": "python3"
  },
  "language_info": {
   "codemirror_mode": {
    "name": "ipython",
    "version": 3
   },
   "file_extension": ".py",
   "mimetype": "text/x-python",
   "name": "python",
   "nbconvert_exporter": "python",
   "pygments_lexer": "ipython3",
   "version": "3.11.10"
  }
 },
 "nbformat": 4,
 "nbformat_minor": 2
}
