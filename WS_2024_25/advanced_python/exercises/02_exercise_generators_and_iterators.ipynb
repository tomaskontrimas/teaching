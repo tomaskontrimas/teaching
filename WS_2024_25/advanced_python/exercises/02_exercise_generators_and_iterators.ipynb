{
 "cells": [
  {
   "cell_type": "markdown",
   "metadata": {
    "id": "Nq9yncPnP9xN"
   },
   "source": [
    "# Exercise: Generators and iterators\n",
    "\n",
    "## About\n",
    "This excersise trains you about Python generators and iterators.\n",
    "\n",
    "## Tasks\n",
    "\n",
    "1. Execute the following generator example and note the difference in memory usage between standard and lazy evaluations.\n",
    "\n",
    "  [Learing objectives: generators, generator comprehension]\n",
    "\n",
    "2. Create your own iterator object behaving like an earlier generator example.\n",
    "\n",
    "  [Learing objectives: iterators]"
   ]
  },
  {
   "cell_type": "markdown",
   "metadata": {
    "id": "E5OzjnM7bREm"
   },
   "source": [
    "## 1. Generator example"
   ]
  },
  {
   "cell_type": "markdown",
   "metadata": {
    "id": "qgx5OcEecAkq"
   },
   "source": [
    "Assume we are writing a monte-carlo event generator that produces very large objects."
   ]
  },
  {
   "cell_type": "code",
   "execution_count": null,
   "metadata": {
    "colab": {
     "base_uri": "https://localhost:8080/"
    },
    "executionInfo": {
     "elapsed": 443,
     "status": "ok",
     "timestamp": 1666361908855,
     "user": {
      "displayName": "Tomas Kontrimas",
      "userId": "13639993128393726277"
     },
     "user_tz": -120
    },
    "id": "gmwW6AULbUzB",
    "outputId": "3646c835-6499-4647-8ca9-3e9130ee402f"
   },
   "outputs": [
    {
     "name": "stdout",
     "output_type": "stream",
     "text": [
      "Size in Mb:  76.29\n"
     ]
    }
   ],
   "source": [
    "import numpy as np\n",
    "import sys\n",
    "\n",
    "def make_event():\n",
    "    huge_readout = np.random.uniform(size=10000000)\n",
    "    return huge_readout\n",
    "\n",
    "event = make_event()\n",
    "print(f\"Size in Mb: {sys.getsizeof(event)/1024**2 : .2f}\")"
   ]
  },
  {
   "cell_type": "markdown",
   "metadata": {
    "id": "jjMYVwOscVOx"
   },
   "source": [
    "Now assume that we want to generate 100 events and calculate some summary statistic for each event. If we would loop over our `make_event` function and collect the resulting events in a list, we would quickly run out of memory."
   ]
  },
  {
   "cell_type": "code",
   "execution_count": null,
   "metadata": {
    "colab": {
     "base_uri": "https://localhost:8080/"
    },
    "executionInfo": {
     "elapsed": 1424,
     "status": "ok",
     "timestamp": 1666361910277,
     "user": {
      "displayName": "Tomas Kontrimas",
      "userId": "13639993128393726277"
     },
     "user_tz": -120
    },
    "id": "exCnV4oTcRk8",
    "outputId": "d80e5491-4dd2-4e2e-aae5-5c7577b23f28"
   },
   "outputs": [
    {
     "name": "stdout",
     "output_type": "stream",
     "text": [
      "Size in Mb:  762.94\n",
      "Median of summary_stats: 4999987.67\n"
     ]
    }
   ],
   "source": [
    "def summary_stat(event):\n",
    "    return np.sum(event)\n",
    "\n",
    "n_events = 10\n",
    "# this will blow up your memory with e.g. `n_events = 100`\n",
    "events = [make_event() for i in range(n_events)]\n",
    "print(f\"Size in Mb: {len(events) * sys.getsizeof(event)/1024**2 : .2f}\")\n",
    "\n",
    "summary_stats = [summary_stat(event) for event in events]\n",
    "print(f\"Median of summary_stats: {np.median(summary_stats):.2f}\")"
   ]
  },
  {
   "cell_type": "markdown",
   "metadata": {
    "id": "nPOKc6t6cpFl"
   },
   "source": [
    "We can solve this issue by e.g. using a generator."
   ]
  },
  {
   "cell_type": "code",
   "execution_count": null,
   "metadata": {
    "colab": {
     "base_uri": "https://localhost:8080/"
    },
    "executionInfo": {
     "elapsed": 13309,
     "status": "ok",
     "timestamp": 1666361923583,
     "user": {
      "displayName": "Tomas Kontrimas",
      "userId": "13639993128393726277"
     },
     "user_tz": -120
    },
    "id": "ukuoe_aLcsKB",
    "outputId": "f48241e4-a123-4301-9393-9bd8a2a9e03d"
   },
   "outputs": [
    {
     "name": "stdout",
     "output_type": "stream",
     "text": [
      "Size in **bytes**:  128.00\n",
      "Median of summary_stats: 5000038.29\n"
     ]
    }
   ],
   "source": [
    "def make_events(n_events):\n",
    "    for i in range(n_events):\n",
    "        yield make_event()\n",
    "\n",
    "n_events = 100\n",
    "generator = make_events(n_events)\n",
    "print(f\"Size in **bytes**: {sys.getsizeof(generator): .2f}\")\n",
    "\n",
    "summary_stats = [summary_stat(event) for event in generator]\n",
    "print(f\"Median of summary_stats: {np.median(summary_stats):.2f}\")"
   ]
  },
  {
   "cell_type": "markdown",
   "metadata": {
    "id": "_3YXYm73mph8"
   },
   "source": [
    "Achieve the same functionality as `make_events` function by using generator comprehension."
   ]
  },
  {
   "cell_type": "code",
   "execution_count": null,
   "metadata": {
    "colab": {
     "base_uri": "https://localhost:8080/"
    },
    "executionInfo": {
     "elapsed": 11784,
     "status": "ok",
     "timestamp": 1666361935364,
     "user": {
      "displayName": "Tomas Kontrimas",
      "userId": "13639993128393726277"
     },
     "user_tz": -120
    },
    "id": "E_BcXqCUc7bq",
    "outputId": "f20b01d0-cd00-403e-d4df-1ac0655af334"
   },
   "outputs": [
    {
     "name": "stdout",
     "output_type": "stream",
     "text": [
      "Size in **bytes**:  128.00\n",
      "Median of summary_stats: 4999949.47\n"
     ]
    }
   ],
   "source": [
    "n_events = 100\n",
    "\n",
    "# Note that we use round brackets for generator comprehension\n",
    "# in comparison to square brackets for list comprehension.\n",
    "generator =  # Write generator comprehension here.\n",
    "print(f\"Size in **bytes**: {sys.getsizeof(generator): .2f}\")\n",
    "\n",
    "summary_stats = [summary_stat(event) for event in generator]\n",
    "print(f\"Median of summary_stats: {np.median(summary_stats):.2f}\")"
   ]
  },
  {
   "cell_type": "markdown",
   "metadata": {
    "id": "Yc_rmQ-VoW-D"
   },
   "source": [
    "## 2. Iterator exercise\n",
    "\n",
    "Create your own iterator object behaving like an earlier generator example."
   ]
  },
  {
   "cell_type": "code",
   "execution_count": null,
   "metadata": {
    "id": "Bawa2IgEm7sc"
   },
   "outputs": [],
   "source": [
    "# Initial code example.\n",
    "# Replace pass statements with your code.\n",
    "\n",
    "class MakeEvents:\n",
    "    def __init__(self, n_events):\n",
    "        pass\n",
    "\n",
    "    def __iter__(self):\n",
    "        pass\n",
    "\n",
    "    def __next__(self):\n",
    "        pass"
   ]
  },
  {
   "cell_type": "markdown",
   "metadata": {
    "id": "Rtioko-IqTMJ"
   },
   "source": [
    "Use the following cell to test your iterator."
   ]
  },
  {
   "cell_type": "code",
   "execution_count": null,
   "metadata": {
    "colab": {
     "base_uri": "https://localhost:8080/"
    },
    "executionInfo": {
     "elapsed": 12064,
     "status": "ok",
     "timestamp": 1666361947425,
     "user": {
      "displayName": "Tomas Kontrimas",
      "userId": "13639993128393726277"
     },
     "user_tz": -120
    },
    "id": "3LbjlbSmosCD",
    "outputId": "4501fb32-080b-4887-a79a-e78f2f76bfd1"
   },
   "outputs": [
    {
     "name": "stdout",
     "output_type": "stream",
     "text": [
      "Median of summary_stats: 4999996.25\n"
     ]
    }
   ],
   "source": [
    "n_events = 100\n",
    "\n",
    "iterator = MakeEvents(n_events)\n",
    "\n",
    "summary_stats = [summary_stat(event) for event in iterator]\n",
    "print(f\"Median of summary_stats: {np.median(summary_stats):.2f}\")\n",
    "\n",
    "# Additional check if the iterator produces correct number of events.\n",
    "if len(summary_stats) != n_events:\n",
    "    raise ValueError(\"Length of generated events in `summary_stats` is not equal to `n_events`!\")"
   ]
  }
 ],
 "metadata": {
  "colab": {
   "authorship_tag": "ABX9TyMuXU/eiat9hWQCHAEyKK9J",
   "collapsed_sections": [],
   "provenance": []
  },
  "kernelspec": {
   "display_name": "Python 3",
   "name": "python3"
  },
  "language_info": {
   "name": "python"
  }
 },
 "nbformat": 4,
 "nbformat_minor": 0
}
