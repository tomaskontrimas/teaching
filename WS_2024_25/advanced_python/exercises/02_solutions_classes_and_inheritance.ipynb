{
 "cells": [
  {
   "cell_type": "markdown",
   "metadata": {
    "id": "dWzonhQl7kS-"
   },
   "source": [
    "# Exercise: Classes and inheritance\n",
    "## About\n",
    "This excersise trains you about Python classes and inheritance."
   ]
  },
  {
   "cell_type": "markdown",
   "metadata": {
    "id": "nvq3mBYIBWEa"
   },
   "source": [
    "## Tasks"
   ]
  },
  {
   "cell_type": "markdown",
   "metadata": {
    "id": "167EnQPW86aq"
   },
   "source": [
    "1. Develop a class hierarchy for a car. It should have an abstract base class, e.g. `Vehicle`, properties like manufacturer, color, position, speed, etc., and a `drive(self, dt)` instance method that will move the car on a straight line.\n",
    "\n",
    "  [Learing objectives: basic classes, inheritance, properties, methods]"
   ]
  },
  {
   "cell_type": "markdown",
   "metadata": {
    "id": "EIOWnIG89t0h"
   },
   "source": [
    "2. Design a descriptive class that the car class can inherit from, e.g. `CanTow` specifying that the car is able to tow a trailer. Give the towing descriptive class properties and methods for instance for hitching and unhitching a trailer.\n",
    "\n",
    "  [Learing objectives: multiple inheritance]"
   ]
  },
  {
   "cell_type": "markdown",
   "metadata": {
    "id": "51NNu0Ff_HdX"
   },
   "source": [
    "3. Design a `Trailer` class and support the expressions `car + trailer` and `car += trailer` for hitching the trailer to the car. Make sure that only trailers can be hitched to the car!\n",
    "\n",
    "  [Learing objectives: Operator methods, type checks]"
   ]
  },
  {
   "cell_type": "markdown",
   "metadata": {
    "id": "GQOcpCd1in7g"
   },
   "source": [
    "4. Think of test cases and possible usage errors, like attaching two trailers, etc. Think about how the code should react in such cases.\n",
    "\n",
    "  [Learing objectives: code development, error handling, setting default values]"
   ]
  },
  {
   "cell_type": "markdown",
   "metadata": {
    "id": "232eBtcuQ6fP"
   },
   "source": [
    "# Task 1."
   ]
  },
  {
   "cell_type": "code",
   "execution_count": 1,
   "metadata": {
    "id": "IpfFFzY8RDHT"
   },
   "outputs": [],
   "source": [
    "import abc"
   ]
  },
  {
   "cell_type": "code",
   "execution_count": null,
   "metadata": {
    "id": "2W0WyIYM8hB6"
   },
   "outputs": [],
   "source": [
    "class Vehicle(abc.ABC):\n",
    "    \"\"\"This is an abstract base class for a vehicle.\n",
    "    \"\"\"\n",
    "    def __init__(self, manufacturer, color, speed):\n",
    "        super().__init__()\n",
    "        self.manufacturer = manufacturer\n",
    "        self.color = color\n",
    "        self.position = 0\n",
    "        self.speed = speed\n",
    "\n",
    "    @property\n",
    "    def manufacturer(self):\n",
    "        return self._manufacturer\n",
    "\n",
    "    @manufacturer.setter\n",
    "    def manufacturer(self, manufacturer):\n",
    "        self._manufacturer = manufacturer\n",
    "\n",
    "    @property\n",
    "    def color(self):\n",
    "        return self._color\n",
    "\n",
    "    @color.setter\n",
    "    def color(self, color):\n",
    "        self._color = color\n",
    "\n",
    "    @property\n",
    "    def position(self):\n",
    "        return self._position\n",
    "\n",
    "    @position.setter\n",
    "    def position(self, position):\n",
    "        self._position = position\n",
    "\n",
    "    @property\n",
    "    def speed(self):\n",
    "        return self._speed\n",
    "\n",
    "    @speed.setter\n",
    "    def speed(self, speed):\n",
    "        self._speed = speed\n",
    "\n",
    "    @abc.abstractmethod\n",
    "    def drive(self, dt):\n",
    "        pass"
   ]
  },
  {
   "cell_type": "code",
   "execution_count": 3,
   "metadata": {
    "id": "QFOszI-WSOyw"
   },
   "outputs": [],
   "source": [
    "class Car(Vehicle):\n",
    "    def __init__(self, manufacturer, color, speed):\n",
    "        super().__init__(\n",
    "            manufacturer=manufacturer,\n",
    "            color=color,\n",
    "            speed=speed)\n",
    "\n",
    "    def drive(self, dt):\n",
    "        self.position += self.speed * dt"
   ]
  },
  {
   "cell_type": "code",
   "execution_count": 4,
   "metadata": {
    "id": "yiJVgRrISsq1"
   },
   "outputs": [],
   "source": [
    "car = Car(manufacturer=\"BMW\", color=\"black\", speed=100)"
   ]
  },
  {
   "cell_type": "code",
   "execution_count": 5,
   "metadata": {
    "colab": {
     "base_uri": "https://localhost:8080/"
    },
    "executionInfo": {
     "elapsed": 1,
     "status": "ok",
     "timestamp": 1666623732532,
     "user": {
      "displayName": "Tomas Kontrimas",
      "userId": "13639993128393726277"
     },
     "user_tz": -120
    },
    "id": "46gxrt-GSoBT",
    "outputId": "da69e08a-733a-471a-e218-d2b86943256a"
   },
   "outputs": [
    {
     "name": "stdout",
     "output_type": "stream",
     "text": [
      "Initial car position: 0\n",
      "Driving the car for 1 time unit.\n",
      "Car position: 100\n"
     ]
    }
   ],
   "source": [
    "print(\"Initial car position:\", car.position)\n",
    "\n",
    "print(\"Driving the car for 1 time unit.\")\n",
    "car.drive(dt=1)\n",
    "\n",
    "print(\"Car position:\", car.position)"
   ]
  },
  {
   "cell_type": "markdown",
   "metadata": {
    "id": "vNwNND3RVo71"
   },
   "source": [
    "# Task 2."
   ]
  },
  {
   "cell_type": "code",
   "execution_count": null,
   "metadata": {
    "id": "WIqSK-_6TVCC"
   },
   "outputs": [],
   "source": [
    "class CanTow:\n",
    "    def __init__(self, *args, **kwargs):\n",
    "        super().__init__(*args, **kwargs)\n",
    "\n",
    "        self.trailer = None\n",
    "\n",
    "    @property\n",
    "    def trailer(self):\n",
    "        return self._trailer\n",
    "\n",
    "    @trailer.setter\n",
    "    def trailer(self, obj):\n",
    "        self._trailer = obj\n",
    "\n",
    "    def hitch(self, obj):\n",
    "        if self.trailer is not None:\n",
    "            raise ValueError(\"Can not hitch multiple trailers!\")\n",
    "\n",
    "        self.trailer = obj\n",
    "\n",
    "    def unhitch(self):\n",
    "        self.trailer = None"
   ]
  },
  {
   "cell_type": "code",
   "execution_count": 7,
   "metadata": {
    "id": "ig2Q7hdwUAlJ"
   },
   "outputs": [],
   "source": [
    "class TowCar(Vehicle, CanTow):\n",
    "    def __init__(self, manufacturer, color, speed):\n",
    "        super().__init__(\n",
    "            manufacturer=manufacturer,\n",
    "            color=color,\n",
    "            speed=speed)\n",
    "\n",
    "    def drive(self, dt):\n",
    "        self.position += self.speed * dt"
   ]
  },
  {
   "cell_type": "code",
   "execution_count": 8,
   "metadata": {
    "id": "FO-Y_Pi4ULlx"
   },
   "outputs": [],
   "source": [
    "tow_car = TowCar(manufacturer=\"Honda\", color=\"black\", speed=100)"
   ]
  },
  {
   "cell_type": "code",
   "execution_count": 9,
   "metadata": {
    "colab": {
     "base_uri": "https://localhost:8080/"
    },
    "executionInfo": {
     "elapsed": 2,
     "status": "ok",
     "timestamp": 1666623733112,
     "user": {
      "displayName": "Tomas Kontrimas",
      "userId": "13639993128393726277"
     },
     "user_tz": -120
    },
    "id": "KTkMAoNfUOdu",
    "outputId": "fe3f2466-52cb-4cc9-a8c8-c7943e0f61c5"
   },
   "outputs": [
    {
     "name": "stdout",
     "output_type": "stream",
     "text": [
      "True\n",
      "False\n"
     ]
    }
   ],
   "source": [
    "print(isinstance(tow_car, CanTow))\n",
    "print(isinstance(car, CanTow))"
   ]
  },
  {
   "cell_type": "code",
   "execution_count": 10,
   "metadata": {
    "id": "GkTgM47OUxAb"
   },
   "outputs": [],
   "source": [
    "tow_car.hitch(car)"
   ]
  },
  {
   "cell_type": "code",
   "execution_count": 11,
   "metadata": {
    "colab": {
     "base_uri": "https://localhost:8080/"
    },
    "executionInfo": {
     "elapsed": 287,
     "status": "ok",
     "timestamp": 1666623733646,
     "user": {
      "displayName": "Tomas Kontrimas",
      "userId": "13639993128393726277"
     },
     "user_tz": -120
    },
    "id": "xZcx0yX5XkfE",
    "outputId": "a6c89a4c-20b2-47d6-d32a-4fb7dbfc47da"
   },
   "outputs": [
    {
     "name": "stdout",
     "output_type": "stream",
     "text": [
      "Access hitched car instance\n",
      "<__main__.Car object at 0x7f654a90efb0>\n",
      "BMW\n"
     ]
    }
   ],
   "source": [
    "print(\"Access hitched car instance\")\n",
    "print(tow_car.trailer)\n",
    "print(tow_car.trailer.manufacturer)"
   ]
  },
  {
   "cell_type": "markdown",
   "metadata": {
    "id": "vzheSnTGZMxX"
   },
   "source": [
    "# Task 3."
   ]
  },
  {
   "cell_type": "code",
   "execution_count": 12,
   "metadata": {
    "id": "Vl1wvfiIb1Hx"
   },
   "outputs": [],
   "source": [
    "class Trailer(Vehicle):\n",
    "    def __init__(self, manufacturer, color, speed):\n",
    "        super().__init__(\n",
    "            manufacturer=manufacturer,\n",
    "            color=color,\n",
    "            speed=speed)\n",
    "\n",
    "    def drive(self, dt):\n",
    "        self.position += self.speed * dt"
   ]
  },
  {
   "cell_type": "code",
   "execution_count": null,
   "metadata": {
    "id": "WANgksYkY8sE"
   },
   "outputs": [],
   "source": [
    "class CanTow:\n",
    "    def __init__(self, *args, **kwargs):\n",
    "        super().__init__(*args, **kwargs)\n",
    "\n",
    "        self.trailer = None\n",
    "\n",
    "    @property\n",
    "    def trailer(self):\n",
    "        return self._trailer\n",
    "\n",
    "    @trailer.setter\n",
    "    def trailer(self, obj):\n",
    "        self._trailer = obj\n",
    "\n",
    "    def hitch(self, obj):\n",
    "        # Add a check on `Trailer` class.\n",
    "        if not isinstance(obj, Trailer):\n",
    "            raise ValueError(\"We can only hitch instances of `Trailer` class.\")\n",
    "\n",
    "        if self.trailer is not None:\n",
    "            raise ValueError(\"Can not hitch multiple trailers!\")\n",
    "\n",
    "        self.trailer = obj\n",
    "\n",
    "    def unhitch(self):\n",
    "        self.trailer = None\n",
    "\n",
    "    # Add operator methods.\n",
    "    def __add__(self, rhs):\n",
    "        self.hitch(rhs)\n",
    "        return self\n",
    "\n",
    "    def __iadd__(self, rhs):\n",
    "        self.hitch(rhs)\n",
    "        return self"
   ]
  },
  {
   "cell_type": "code",
   "execution_count": 14,
   "metadata": {
    "id": "k3DKSRw0dRHP"
   },
   "outputs": [],
   "source": [
    "# Have to repeat TowCar definition as CanTow class has changed.\n",
    "class TowCar(Vehicle, CanTow):\n",
    "    def __init__(self, manufacturer, color, speed):\n",
    "        super().__init__(\n",
    "            manufacturer=manufacturer,\n",
    "            color=color,\n",
    "            speed=speed)\n",
    "\n",
    "    def drive(self, dt):\n",
    "        self.position += self.speed * dt"
   ]
  },
  {
   "cell_type": "markdown",
   "metadata": {
    "id": "9FtEHFg0eiEv"
   },
   "source": [
    "Test `__add__` method."
   ]
  },
  {
   "cell_type": "code",
   "execution_count": 15,
   "metadata": {
    "id": "BRdxaN5McWRG"
   },
   "outputs": [],
   "source": [
    "tow_car = TowCar(manufacturer=\"Honda\", color=\"black\", speed=100)\n",
    "trailer = Trailer(manufacturer=\"Trailers_man\", color=\"black\", speed=60)"
   ]
  },
  {
   "cell_type": "code",
   "execution_count": 16,
   "metadata": {
    "colab": {
     "base_uri": "https://localhost:8080/"
    },
    "executionInfo": {
     "elapsed": 2,
     "status": "ok",
     "timestamp": 1666623735076,
     "user": {
      "displayName": "Tomas Kontrimas",
      "userId": "13639993128393726277"
     },
     "user_tz": -120
    },
    "id": "1YWpwYXCda9P",
    "outputId": "d904d33f-2c74-410b-83fa-3cc299539109"
   },
   "outputs": [
    {
     "name": "stdout",
     "output_type": "stream",
     "text": [
      "None\n"
     ]
    }
   ],
   "source": [
    "print(tow_car.trailer)"
   ]
  },
  {
   "cell_type": "code",
   "execution_count": 17,
   "metadata": {
    "id": "oWgYGwtodeLy"
   },
   "outputs": [],
   "source": [
    "tow_car = tow_car + trailer"
   ]
  },
  {
   "cell_type": "code",
   "execution_count": 18,
   "metadata": {
    "colab": {
     "base_uri": "https://localhost:8080/"
    },
    "executionInfo": {
     "elapsed": 2,
     "status": "ok",
     "timestamp": 1666623735813,
     "user": {
      "displayName": "Tomas Kontrimas",
      "userId": "13639993128393726277"
     },
     "user_tz": -120
    },
    "id": "pbPbZwZqdkqa",
    "outputId": "32b7a5fa-5349-41cf-9c8d-72c71dc744af"
   },
   "outputs": [
    {
     "name": "stdout",
     "output_type": "stream",
     "text": [
      "<__main__.TowCar object at 0x7f6539637e20>\n",
      "<__main__.Trailer object at 0x7f6539637b50>\n"
     ]
    }
   ],
   "source": [
    "print(tow_car)\n",
    "print(tow_car.trailer)"
   ]
  },
  {
   "cell_type": "markdown",
   "metadata": {
    "id": "PM-K3dWnem_D"
   },
   "source": [
    "Test `__iadd__` method."
   ]
  },
  {
   "cell_type": "code",
   "execution_count": 19,
   "metadata": {
    "id": "4s9eOdl1dl6o"
   },
   "outputs": [],
   "source": [
    "tow_car = TowCar(manufacturer=\"Honda\", color=\"black\", speed=100)\n",
    "trailer = Trailer(manufacturer=\"Trailers_man\", color=\"black\", speed=60)"
   ]
  },
  {
   "cell_type": "code",
   "execution_count": 20,
   "metadata": {
    "colab": {
     "base_uri": "https://localhost:8080/"
    },
    "executionInfo": {
     "elapsed": 2,
     "status": "ok",
     "timestamp": 1666623737012,
     "user": {
      "displayName": "Tomas Kontrimas",
      "userId": "13639993128393726277"
     },
     "user_tz": -120
    },
    "id": "dKLDEERheSCP",
    "outputId": "8837b51b-7773-45d5-d52e-97ae5529e779"
   },
   "outputs": [
    {
     "name": "stdout",
     "output_type": "stream",
     "text": [
      "None\n"
     ]
    }
   ],
   "source": [
    "print(tow_car.trailer)"
   ]
  },
  {
   "cell_type": "code",
   "execution_count": 21,
   "metadata": {
    "id": "R3rYGy0Jed27"
   },
   "outputs": [],
   "source": [
    "tow_car += trailer"
   ]
  },
  {
   "cell_type": "code",
   "execution_count": 22,
   "metadata": {
    "colab": {
     "base_uri": "https://localhost:8080/"
    },
    "executionInfo": {
     "elapsed": 4,
     "status": "ok",
     "timestamp": 1666623737628,
     "user": {
      "displayName": "Tomas Kontrimas",
      "userId": "13639993128393726277"
     },
     "user_tz": -120
    },
    "id": "ln5t3buKegpk",
    "outputId": "6034eb14-c4c0-43d1-e5d8-61c3161506c4"
   },
   "outputs": [
    {
     "name": "stdout",
     "output_type": "stream",
     "text": [
      "<__main__.TowCar object at 0x7f654a90f670>\n",
      "<__main__.Trailer object at 0x7f6539637dc0>\n"
     ]
    }
   ],
   "source": [
    "print(tow_car)\n",
    "print(tow_car.trailer)"
   ]
  }
 ],
 "metadata": {
  "colab": {
   "collapsed_sections": [],
   "provenance": []
  },
  "kernelspec": {
   "display_name": "Python 3",
   "name": "python3"
  },
  "language_info": {
   "codemirror_mode": {
    "name": "ipython",
    "version": 3
   },
   "file_extension": ".py",
   "mimetype": "text/x-python",
   "name": "python",
   "nbconvert_exporter": "python",
   "pygments_lexer": "ipython3",
   "version": "3.10.12"
  }
 },
 "nbformat": 4,
 "nbformat_minor": 0
}
