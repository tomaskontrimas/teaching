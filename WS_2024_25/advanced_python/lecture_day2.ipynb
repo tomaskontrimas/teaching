{
 "cells": [
  {
   "cell_type": "code",
   "execution_count": 8,
   "metadata": {},
   "outputs": [],
   "source": [
    "import numpy as np"
   ]
  },
  {
   "cell_type": "markdown",
   "metadata": {},
   "source": [
    "# Object-Oriented Programming (OOP)"
   ]
  },
  {
   "cell_type": "markdown",
   "metadata": {},
   "source": [
    "From Wikipedia:\n",
    "    \n",
    "    Object-oriented programming (OOP) is a programming paradigm based on the concept of \"objects\", which can\n",
    "    contain data and code: data in the form of fields (often known as attributes or properties), and code,\n",
    "    in the form of procedures (often known as methods).\n",
    "\n",
    "In contrast to sequential global programming, object-oriented programming allows to encapsulate sets of functionalities into classes.\n",
    "\n",
    "Classes can be instantiated as **instances**, i.e. objects of a particular class."
   ]
  },
  {
   "cell_type": "markdown",
   "metadata": {},
   "source": [
    "Example:\n",
    "\n",
    "Given class `Animal`, the object `cat` and object `dog` could be instances of class `Animal`. \n",
    "\n",
    "The class `Animal` can have data fields, i.e. properties, like `name`, and `color`."
   ]
  },
  {
   "cell_type": "markdown",
   "metadata": {},
   "source": [
    "## Classes"
   ]
  },
  {
   "cell_type": "markdown",
   "metadata": {},
   "source": [
    "* A class is an object in Python, i.e. a **class object**.\n",
    "* A class always has a **constructor**.\n",
    "* A class can have **attributes**.\n",
    "    * In Python everything is accessible, i.e. **public**.\n",
    "    * Convention: Private attributes start with an underscore (`_`). \n",
    "* A class can have **instance methods** (functions of the class available to an instance of the class).\n",
    "* A class can have **class methods** (functions of the class available to the class object and an instance of the class).\n",
    "* A class can have **special methods** like `__str__`.\n",
    "* Classes can be derived from other classes (one or many) (see inheritance)."
   ]
  },
  {
   "cell_type": "code",
   "execution_count": 9,
   "metadata": {},
   "outputs": [],
   "source": [
    "# A not very useful class.\n",
    "class MyClass(object):\n",
    "    pass"
   ]
  },
  {
   "cell_type": "code",
   "execution_count": 10,
   "metadata": {},
   "outputs": [
    {
     "data": {
      "text/plain": [
       "['__class__',\n",
       " '__delattr__',\n",
       " '__dict__',\n",
       " '__dir__',\n",
       " '__doc__',\n",
       " '__eq__',\n",
       " '__format__',\n",
       " '__ge__',\n",
       " '__getattribute__',\n",
       " '__getstate__',\n",
       " '__gt__',\n",
       " '__hash__',\n",
       " '__init__',\n",
       " '__init_subclass__',\n",
       " '__le__',\n",
       " '__lt__',\n",
       " '__module__',\n",
       " '__ne__',\n",
       " '__new__',\n",
       " '__reduce__',\n",
       " '__reduce_ex__',\n",
       " '__repr__',\n",
       " '__setattr__',\n",
       " '__sizeof__',\n",
       " '__str__',\n",
       " '__subclasshook__',\n",
       " '__weakref__']"
      ]
     },
     "execution_count": 10,
     "metadata": {},
     "output_type": "execute_result"
    }
   ],
   "source": [
    "# MyClass is a class object!\n",
    "# Let's look at its attributes:\n",
    "dir(MyClass)"
   ]
  },
  {
   "cell_type": "code",
   "execution_count": 11,
   "metadata": {},
   "outputs": [],
   "source": [
    "# A simple class with a constructor, two attributes, and a\n",
    "# special method.\n",
    "class Direction(object):\n",
    "    r\"\"\"Directional vector in spherical coordinates.\n",
    "\n",
    "    Attributes\n",
    "    ----------\n",
    "    azimuth : float\n",
    "        Azimuth angle in rad\n",
    "    zenith : float\n",
    "        Zenith angle in rad\n",
    "    \"\"\"\n",
    "\n",
    "    def __init__(self, azimuth, zenith):\n",
    "        \"\"\"This is the constructor method.\"\"\"\n",
    "        self.azimuth = azimuth\n",
    "        self.zenith = zenith\n",
    "\n",
    "    def __str__(self):\n",
    "        \"\"\"This is a special class method to generate\n",
    "        output for `str(obj)`.\n",
    "        \"\"\"\n",
    "        return f\"({self.azimuth}, {self.zenith})\""
   ]
  },
  {
   "cell_type": "code",
   "execution_count": 12,
   "metadata": {},
   "outputs": [
    {
     "name": "stdout",
     "output_type": "stream",
     "text": [
      "Direction: (1.0471975511965976, 1.5707963267948966)\n"
     ]
    }
   ],
   "source": [
    "d = Direction(np.pi / 3.0, np.pi / 2.0)\n",
    "print(\"Direction:\", d)"
   ]
  },
  {
   "cell_type": "markdown",
   "metadata": {},
   "source": [
    "## Alternative: Dataclasses\n",
    "\n",
    "Dataclasses module provides a decorator and functions for automatically adding generated special methods such as `__init__()` and `__repr__()` to user-defined classes.\n",
    "\n",
    "The `@dataclass` decorator examines the class to find fields. A field is defined as a class variable that has a type annotation.\n",
    "\n",
    "More information: https://docs.python.org/3/library/dataclasses.html"
   ]
  },
  {
   "cell_type": "code",
   "execution_count": 13,
   "metadata": {},
   "outputs": [],
   "source": [
    "from dataclasses import dataclass\n",
    "\n",
    "@dataclass\n",
    "class DirectionDataClass:\n",
    "    \"\"\"Class for keeping track of an item in inventory.\"\"\"\n",
    "    azimuth: float  # 'azimuth' has no default value\n",
    "    zenith: float = 0.0  # Setting a default value to 0.\n",
    "\n",
    "    def __str__(self):\n",
    "        \"\"\"This is a special class method to generate\n",
    "        output for `str(obj)`.\n",
    "        \"\"\"\n",
    "        return f\"({self.azimuth}, {self.zenith})\""
   ]
  },
  {
   "cell_type": "code",
   "execution_count": 14,
   "metadata": {},
   "outputs": [
    {
     "name": "stdout",
     "output_type": "stream",
     "text": [
      "Direction: (1.0471975511965976, 1.5707963267948966)\n"
     ]
    }
   ],
   "source": [
    "d2 = DirectionDataClass(np.pi / 3.0, np.pi / 2.0)\n",
    "print(\"Direction:\", d2)"
   ]
  },
  {
   "cell_type": "markdown",
   "metadata": {},
   "source": [
    "## Properties"
   ]
  },
  {
   "cell_type": "markdown",
   "metadata": {},
   "source": [
    "* Properties tie data attributes to setter, getter, deleter methods.\n",
    "    * Allows for data attribute control"
   ]
  },
  {
   "cell_type": "code",
   "execution_count": null,
   "metadata": {},
   "outputs": [],
   "source": [
    "class A(object):\n",
    "    r\"\"\"Class `A` with the property `a`,\n",
    "    which must be a positive number.\n",
    "    \"\"\"\n",
    "\n",
    "    def __init__(self):\n",
    "        self._a = 0\n",
    "\n",
    "    @property\n",
    "    def a(self):\n",
    "        r\"\"\"int: A positive number\"\"\"\n",
    "        return self._a\n",
    "\n",
    "    @a.setter\n",
    "    def a(self, val):\n",
    "        if val >= 0:\n",
    "            self._a = val\n",
    "        else:\n",
    "            raise ValueError(\"Expect a positive number.\")"
   ]
  },
  {
   "cell_type": "code",
   "execution_count": null,
   "metadata": {},
   "outputs": [
    {
     "name": "stdout",
     "output_type": "stream",
     "text": [
      "42\n"
     ]
    }
   ],
   "source": [
    "a = A()\n",
    "a.a = 42\n",
    "print(a.a)"
   ]
  },
  {
   "cell_type": "code",
   "execution_count": null,
   "metadata": {},
   "outputs": [
    {
     "ename": "ValueError",
     "evalue": "Expect a positive number.",
     "output_type": "error",
     "traceback": [
      "\u001b[0;31m---------------------------------------------------------------------------\u001b[0m\n",
      "\u001b[0;31mValueError\u001b[0m                                Traceback (most recent call last)\n",
      "\u001b[0;32m<ipython-input-78-9af0c80ce669>\u001b[0m in \u001b[0;36m<module>\u001b[0;34m\u001b[0m\n",
      "\u001b[0;32m----> 1\u001b[0;31m \u001b[0ma\u001b[0m\u001b[0;34m.\u001b[0m\u001b[0ma\u001b[0m \u001b[0;34m=\u001b[0m \u001b[0;34m-\u001b[0m\u001b[0;36m1\u001b[0m\u001b[0;34m\u001b[0m\u001b[0;34m\u001b[0m\u001b[0m\n",
      "\u001b[0m\n",
      "\u001b[0;32m<ipython-input-76-7eed1312c01a>\u001b[0m in \u001b[0;36ma\u001b[0;34m(self, val)\u001b[0m\n",
      "\u001b[1;32m     17\u001b[0m             \u001b[0mself\u001b[0m\u001b[0;34m.\u001b[0m\u001b[0m_a\u001b[0m \u001b[0;34m=\u001b[0m \u001b[0mval\u001b[0m\u001b[0;34m\u001b[0m\u001b[0;34m\u001b[0m\u001b[0m\n",
      "\u001b[1;32m     18\u001b[0m         \u001b[0;32melse\u001b[0m\u001b[0;34m:\u001b[0m\u001b[0;34m\u001b[0m\u001b[0;34m\u001b[0m\u001b[0m\n",
      "\u001b[0;32m---> 19\u001b[0;31m             raise ValueError(\n",
      "\u001b[0m\u001b[1;32m     20\u001b[0m                 \"Expect a positive number.\")\n",
      "\n",
      "\u001b[0;31mValueError\u001b[0m: Expect a positive number."
     ]
    }
   ],
   "source": [
    "a.a = -1"
   ]
  },
  {
   "cell_type": "markdown",
   "metadata": {},
   "source": [
    "## Instance methods"
   ]
  },
  {
   "cell_type": "markdown",
   "metadata": {},
   "source": [
    "Instance methods have the reference `self` to the class instance as first argument. By definition the constructor method is an instance method as well."
   ]
  },
  {
   "cell_type": "code",
   "execution_count": null,
   "metadata": {},
   "outputs": [
    {
     "name": "stdout",
     "output_type": "stream",
     "text": [
      "42\n"
     ]
    }
   ],
   "source": [
    "class A(object):\n",
    "    r\"\"\"A class with an instance method.\"\"\"\n",
    "\n",
    "    def __init__(self, a):\n",
    "        self.a = a\n",
    "\n",
    "\n",
    "a = A(42)\n",
    "print(a.a)"
   ]
  },
  {
   "cell_type": "markdown",
   "metadata": {},
   "source": [
    "## The @classmethod decorator"
   ]
  },
  {
   "cell_type": "markdown",
   "metadata": {},
   "source": [
    "The `@classmethod` decorator defines **class methods**. Class methods have a reference to a class object as first argument, i.e. a reference to the class object of the class instance itself. This allows for example to implement more than one constructor for a class."
   ]
  },
  {
   "cell_type": "code",
   "execution_count": null,
   "metadata": {},
   "outputs": [],
   "source": [
    "class A(object):\n",
    "    r\"\"\"A class with class method.\"\"\"\n",
    "\n",
    "    def __init__(self, a, b):\n",
    "        self.a = a\n",
    "        self.b = b\n",
    "\n",
    "    def __str__(self):\n",
    "        return \"a = {o.a}, b = {o.b}\".format(o=self)\n",
    "\n",
    "    @classmethod\n",
    "    def from_tuple(cls, t):\n",
    "        return cls(t[0], t[1])"
   ]
  },
  {
   "cell_type": "code",
   "execution_count": null,
   "metadata": {},
   "outputs": [
    {
     "name": "stdout",
     "output_type": "stream",
     "text": [
      "a = 1.0, b = 2.0\n"
     ]
    }
   ],
   "source": [
    "a = A.from_tuple((1.0, 2.0))\n",
    "print(a)"
   ]
  },
  {
   "cell_type": "markdown",
   "metadata": {},
   "source": [
    "## The @staticmethod decorator"
   ]
  },
  {
   "cell_type": "markdown",
   "metadata": {},
   "source": [
    "The `@staticmethod` decorator defines static methods. Static methods can have no arguments at all. Static methods live inside the namespace of a class object. They can be called either from the class object or an instance of the class."
   ]
  },
  {
   "cell_type": "code",
   "execution_count": null,
   "metadata": {},
   "outputs": [],
   "source": [
    "class Angle(object):\n",
    "    r\"\"\"A class with a static method\"\"\"\n",
    "\n",
    "    def __init__(self, value=0.0):\n",
    "        self.value = value\n",
    "\n",
    "    @staticmethod\n",
    "    def deg2rad(angle):\n",
    "        return angle * np.pi / 180.0"
   ]
  },
  {
   "cell_type": "code",
   "execution_count": null,
   "metadata": {},
   "outputs": [
    {
     "name": "stdout",
     "output_type": "stream",
     "text": [
      "30deg = 0.52rad\n"
     ]
    }
   ],
   "source": [
    "print(\"30deg = {:.2f}rad\".format(Angle.deg2rad(30.0)))"
   ]
  },
  {
   "cell_type": "code",
   "execution_count": null,
   "metadata": {},
   "outputs": [
    {
     "name": "stdout",
     "output_type": "stream",
     "text": [
      "30deg = 0.52rad\n"
     ]
    }
   ],
   "source": [
    "a = Angle()\n",
    "print(\"30deg = {:.2f}rad\".format(a.deg2rad(30.0)))"
   ]
  },
  {
   "cell_type": "markdown",
   "metadata": {},
   "source": [
    "## Operator methods\n",
    "\n",
    "* Python classes define magic methods for implementing operators, like `+`, `-`, `*`, etc.\n",
    "* See [emulating numeric types](https://docs.python.org/3/reference/datamodel.html#emulating-numeric-types) for a full list of possible operators.\n",
    "* Binary arithmetic operators:\n",
    "    \n",
    "    * `+`: `__add__(self, rhs)`\n",
    "    * `-`: `__sub__(self, rhs)`\n",
    "    * `*`: `__mul__(self, rhs)`\n",
    "    * `/`: `__div__(self, rhs)`\n",
    "    * `@`: `__matmul__(self, rhs)`\n",
    "    * `%`: `__mod__(self, rhs)`\n",
    "    * `&`: `__and__(self, rhs)`\n",
    "    * `|`: `__or__(self, rhs)`\n",
    "* Reflected (swapped) binary operators use `__r<op>__(self, lhs)`, e.g. `__radd__(self, lhs)`."
   ]
  },
  {
   "cell_type": "code",
   "execution_count": null,
   "metadata": {},
   "outputs": [
    {
     "name": "stdout",
     "output_type": "stream",
     "text": [
      "Hello World\n",
      "Hello World\n"
     ]
    },
    {
     "ename": "TypeError",
     "evalue": "can only concatenate str (not \"Text\") to str",
     "output_type": "error",
     "traceback": [
      "\u001b[0;31m---------------------------------------------------------------------------\u001b[0m\n",
      "\u001b[0;31mTypeError\u001b[0m                                 Traceback (most recent call last)\n",
      "\u001b[0;32m<ipython-input-85-4a6eeadbd374>\u001b[0m in \u001b[0;36m<module>\u001b[0;34m\u001b[0m\n",
      "\u001b[1;32m     14\u001b[0m \u001b[0mprint\u001b[0m\u001b[0;34m(\u001b[0m\u001b[0mt1\u001b[0m \u001b[0;34m+\u001b[0m \u001b[0mt2\u001b[0m \u001b[0;34m+\u001b[0m \u001b[0mt3\u001b[0m\u001b[0;34m)\u001b[0m\u001b[0;34m\u001b[0m\u001b[0;34m\u001b[0m\u001b[0m\n",
      "\u001b[1;32m     15\u001b[0m \u001b[0mprint\u001b[0m\u001b[0;34m(\u001b[0m\u001b[0mt1\u001b[0m \u001b[0;34m+\u001b[0m \u001b[0;34m' '\u001b[0m \u001b[0;34m+\u001b[0m \u001b[0mt3\u001b[0m\u001b[0;34m)\u001b[0m\u001b[0;34m\u001b[0m\u001b[0;34m\u001b[0m\u001b[0m\n",
      "\u001b[0;32m---> 16\u001b[0;31m \u001b[0mprint\u001b[0m\u001b[0;34m(\u001b[0m\u001b[0;34m'Hello'\u001b[0m \u001b[0;34m+\u001b[0m \u001b[0mt2\u001b[0m \u001b[0;34m+\u001b[0m \u001b[0mt3\u001b[0m\u001b[0;34m)\u001b[0m\u001b[0;34m\u001b[0m\u001b[0;34m\u001b[0m\u001b[0m\n",
      "\u001b[0m\n",
      "\u001b[0;31mTypeError\u001b[0m: can only concatenate str (not \"Text\") to str"
     ]
    }
   ],
   "source": [
    "# Example for addition operator:\n",
    "class Text(object):\n",
    "    def __init__(self, value):\n",
    "        self.value = value\n",
    "\n",
    "    def __add__(self, rhs):\n",
    "        return Text(self.value + str(rhs))\n",
    "\n",
    "    def __str__(self):\n",
    "        return self.value\n",
    "\n",
    "\n",
    "t1 = Text(\"Hello\")\n",
    "t2 = Text(\" \")\n",
    "t3 = Text(\"World\")\n",
    "\n",
    "print(t1 + t2 + t3)\n",
    "print(t1 + \" \" + t3)\n",
    "print(\"Hello\" + t2 + t3)"
   ]
  },
  {
   "cell_type": "markdown",
   "metadata": {},
   "source": [
    "The last expression `print('Hello' + t2 + t3)` can be supported via a reflected add operator:"
   ]
  },
  {
   "cell_type": "code",
   "execution_count": null,
   "metadata": {},
   "outputs": [
    {
     "name": "stdout",
     "output_type": "stream",
     "text": [
      "Hello World\n"
     ]
    }
   ],
   "source": [
    "# Example for addition operator with reflected addition operator:\n",
    "class Text(object):\n",
    "    def __init__(self, value):\n",
    "        self.value = value\n",
    "\n",
    "    def __add__(self, rhs):\n",
    "        return Text(self.value + str(rhs))\n",
    "\n",
    "    def __radd__(self, lhs):\n",
    "        return Text(str(lhs) + self.value)\n",
    "\n",
    "    def __str__(self):\n",
    "        return self.value\n",
    "\n",
    "\n",
    "t2 = Text(\" \")\n",
    "t3 = Text(\"World\")\n",
    "\n",
    "print(\"Hello\" + t2 + t3)"
   ]
  },
  {
   "cell_type": "markdown",
   "metadata": {},
   "source": [
    "* Rich comparison operators and their corresponding magic class methods:\n",
    "    * `>`: `__gt__(self, rhs)`\n",
    "    * `>=`: `__ge__(self, rhs)`\n",
    "    * `<`: `__lt__(self, rhs)`\n",
    "    * `<=`: `__le__(self, rhs)`\n",
    "    * `==`: `__eq__(self, rhs)`\n",
    "    * `!=`: `__ne__(self, rhs)`\n",
    "    * Should return `True` or `False`.\n",
    "* Augmented arithmetic assignments (in-place operators): `__i<op>__(self, rhs)`, e.g. `__iadd__(self, rhs)`.\n",
    "    * `+=`: `__iadd__(self, rhs)`\n",
    "    * `-=`: `__isub__(self, rhs)`\n",
    "    * `*=`: `__imul__(self, rhs)`\n",
    "    * Should return the object itself."
   ]
  },
  {
   "cell_type": "markdown",
   "metadata": {},
   "source": [
    "## Check for attributes\n",
    "\n",
    "The Python in-built function `hasattr(obj, name)` can be used to check if an object has an attribute of a given name."
   ]
  },
  {
   "cell_type": "code",
   "execution_count": null,
   "metadata": {},
   "outputs": [
    {
     "name": "stdout",
     "output_type": "stream",
     "text": [
      "True\n"
     ]
    }
   ],
   "source": [
    "angle = Angle(42)\n",
    "print(hasattr(angle, \"deg2rad\"))"
   ]
  },
  {
   "cell_type": "markdown",
   "metadata": {},
   "source": [
    "## Propper naming scheme\n",
    "\n",
    "The [PEP8 Style Guide](https://www.python.org/dev/peps/pep-0008/) defines a propper naming scheme for classes, methods names and properties.\n",
    "\n",
    "* Classes use the CapWords convention,  e.g. `MyClass`.\n",
    "* Methods use lowercase, with words separated by underscores, e.g. `print_a_number`.\n",
    "* \"Private\" attributes start with an underscore (`_`), e.g. `_a_private_number`."
   ]
  },
  {
   "cell_type": "markdown",
   "metadata": {},
   "source": [
    "## Inheritance"
   ]
  },
  {
   "cell_type": "markdown",
   "metadata": {},
   "source": [
    "In order to evolve classes in OOP, **inheritance** exists. Classes can be **derived** from **base classes** and **inherit** their properties and methods. This way code can be reused and development time can be saved.\n",
    "\n",
    "* Methods can be overwritten by derived classes.\n",
    "* The `super()` function can be used to call methods of the parent class."
   ]
  },
  {
   "cell_type": "code",
   "execution_count": null,
   "metadata": {},
   "outputs": [],
   "source": [
    "class Animal(object):\n",
    "    \"\"\"This is the base class.\"\"\"\n",
    "\n",
    "    def __init__(self, species, age):\n",
    "        self.species = species\n",
    "        self.age = age\n",
    "\n",
    "    # Instance method.\n",
    "    def description(self):\n",
    "        print(f\"{self.species} is {self.age} years old\")\n",
    "\n",
    "    @property\n",
    "    def age(self):\n",
    "        return self._age\n",
    "\n",
    "    @age.setter\n",
    "    def age(self, age):\n",
    "        if age >= 0:\n",
    "            self._age = age\n",
    "        else:\n",
    "            raise ValueError(f\"Provided {age} age has to be a positive number.\")"
   ]
  },
  {
   "cell_type": "code",
   "execution_count": null,
   "metadata": {},
   "outputs": [],
   "source": [
    "class Dog(Animal):\n",
    "    \"\"\"The Dog class is derived from the base class `Animal`.\"\"\"\n",
    "\n",
    "    def __init__(self, age):\n",
    "        # Call the constructor of the parent class.\n",
    "        # This first creates an animal object, which is then extended.\n",
    "        super().__init__(\"dog\", age)\n",
    "\n",
    "\n",
    "class Cat(Animal):\n",
    "    def __init__(self, age):\n",
    "        super().__init__(\"cat\", age)\n",
    "\n",
    "    def description(self):\n",
    "        \"\"\"This methods overwrites the parent's description method.\"\"\"\n",
    "        print(f\"I am a {self.species}\")"
   ]
  },
  {
   "cell_type": "code",
   "execution_count": null,
   "metadata": {},
   "outputs": [
    {
     "name": "stdout",
     "output_type": "stream",
     "text": [
      "dog is 5 years old\n"
     ]
    }
   ],
   "source": [
    "dog = Dog(5)\n",
    "dog.description()"
   ]
  },
  {
   "cell_type": "code",
   "execution_count": null,
   "metadata": {},
   "outputs": [
    {
     "name": "stdout",
     "output_type": "stream",
     "text": [
      "I am a cat\n"
     ]
    }
   ],
   "source": [
    "cat = Cat(6)\n",
    "cat.description()"
   ]
  },
  {
   "cell_type": "code",
   "execution_count": null,
   "metadata": {},
   "outputs": [
    {
     "name": "stdout",
     "output_type": "stream",
     "text": [
      "<class '__main__.Cat'>\n",
      "<class 'int'>\n",
      "<class 'method'>\n"
     ]
    }
   ],
   "source": [
    "print(type(cat))\n",
    "print(type(cat.age))\n",
    "print(type(cat.description))"
   ]
  },
  {
   "cell_type": "markdown",
   "metadata": {},
   "source": [
    "### isinstance and issubclass"
   ]
  },
  {
   "cell_type": "markdown",
   "metadata": {},
   "source": [
    "To check if an instance is of some class we can use the built-in function `isinstance()` which takes two arguments, an instance object and a class object and returns `True` if the given class is anywhere in the inheritance chain of the instance's class:"
   ]
  },
  {
   "cell_type": "code",
   "execution_count": null,
   "metadata": {},
   "outputs": [
    {
     "name": "stdout",
     "output_type": "stream",
     "text": [
      "True\n",
      "False\n",
      "True\n"
     ]
    }
   ],
   "source": [
    "print(isinstance(cat, Cat))\n",
    "print(isinstance(cat, Dog))\n",
    "print(isinstance(cat, Animal))"
   ]
  },
  {
   "cell_type": "markdown",
   "metadata": {},
   "source": [
    "We can also check if the given class is a subclass of another class with the built-in function `issublass()`."
   ]
  },
  {
   "cell_type": "code",
   "execution_count": null,
   "metadata": {},
   "outputs": [
    {
     "name": "stdout",
     "output_type": "stream",
     "text": [
      "True\n",
      "True\n",
      "False\n"
     ]
    }
   ],
   "source": [
    "print(issubclass(Cat, Animal))\n",
    "print(issubclass(Cat, Cat))\n",
    "print(issubclass(Cat, Dog))"
   ]
  },
  {
   "cell_type": "markdown",
   "metadata": {},
   "source": [
    "## Multiple inheritance"
   ]
  },
  {
   "cell_type": "markdown",
   "metadata": {},
   "source": [
    "* A class can be derived from more than one base class.\n",
    "* The parent class constructor should always be called.\n",
    "* Additional argumets `*args` and keyword arguments `**kwargs` need to be passed on to the parent."
   ]
  },
  {
   "cell_type": "code",
   "execution_count": null,
   "metadata": {},
   "outputs": [],
   "source": [
    "class IsPuppy(object):\n",
    "    def __init__(self, *args, **kwargs):\n",
    "        # We need to call the parent's constructor\n",
    "        # to call the constructor of ALL base classes of a derived class.\n",
    "        super().__init__(*args, **kwargs)\n",
    "\n",
    "    def description(self):\n",
    "        print(f\"I am a puppy.\")\n",
    "\n",
    "\n",
    "class Puppy(Dog, IsPuppy):\n",
    "    def __init__(self, age):\n",
    "        super().__init__(age)"
   ]
  },
  {
   "cell_type": "code",
   "execution_count": null,
   "metadata": {},
   "outputs": [
    {
     "name": "stdout",
     "output_type": "stream",
     "text": [
      "dog is 1 years old\n"
     ]
    }
   ],
   "source": [
    "puppy_dog = Puppy(1)\n",
    "puppy_dog.description()"
   ]
  },
  {
   "cell_type": "markdown",
   "metadata": {},
   "source": [
    "Python determines which description to call using *Method Resolution Order (MRO)*. We can check the order using the `mro()` method:"
   ]
  },
  {
   "cell_type": "code",
   "execution_count": null,
   "metadata": {},
   "outputs": [
    {
     "name": "stdout",
     "output_type": "stream",
     "text": [
      "[<class '__main__.Puppy'>, <class '__main__.Dog'>, <class '__main__.Animal'>, <class '__main__.IsPuppy'>, <class 'object'>]\n"
     ]
    }
   ],
   "source": [
    "print(Puppy.mro())"
   ]
  },
  {
   "cell_type": "markdown",
   "metadata": {},
   "source": [
    "Changing the MRO to call `IsPuppy`'s description first."
   ]
  },
  {
   "cell_type": "code",
   "execution_count": null,
   "metadata": {},
   "outputs": [],
   "source": [
    "class Puppy(IsPuppy, Dog):\n",
    "    def __init__(self, age):\n",
    "        super().__init__(age)"
   ]
  },
  {
   "cell_type": "code",
   "execution_count": null,
   "metadata": {},
   "outputs": [
    {
     "name": "stdout",
     "output_type": "stream",
     "text": [
      "[<class '__main__.Puppy'>, <class '__main__.IsPuppy'>, <class '__main__.Dog'>, <class '__main__.Animal'>, <class 'object'>]\n",
      "I am a puppy.\n"
     ]
    }
   ],
   "source": [
    "print(Puppy.mro())\n",
    "\n",
    "puppy_dog = Puppy(1)\n",
    "puppy_dog.description()"
   ]
  },
  {
   "cell_type": "markdown",
   "metadata": {},
   "source": [
    "## Abstract Base Classes"
   ]
  },
  {
   "cell_type": "markdown",
   "metadata": {},
   "source": [
    "* Abstract base classes can be used to define **interfaces**.\n",
    "* Methods can be declared *abstract* and must be implemented by derived classes before a class can be instantiated.\n",
    "* The `abc` package provides abstract base class functionality.\n",
    "    * See https://docs.python.org/3/library/abc.html\n",
    "* Abstract base classes are defined by setting the class's `metaclass` keyword with `metaclass=abc.ABCMeta`.\n",
    "* Abstract methods (instance methods, class methods, properties) are defined with `@abstractmethod` decorator."
   ]
  },
  {
   "cell_type": "code",
   "execution_count": null,
   "metadata": {},
   "outputs": [],
   "source": [
    "import abc\n",
    "\n",
    "\n",
    "class AnimalBase(object, metaclass=abc.ABCMeta):\n",
    "    def __init__(self, species, age):\n",
    "        self.species = species\n",
    "        self.age = age\n",
    "\n",
    "    # Abstract instance method.\n",
    "    @abc.abstractmethod\n",
    "    def description(self):\n",
    "        # We use `pass` as a placeholder for the\n",
    "        # implementation by the derived class.\n",
    "        pass\n",
    "\n",
    "    # Define age property with abstract setter method.\n",
    "    @property\n",
    "    def age(self):\n",
    "        return self._age\n",
    "\n",
    "    @age.setter\n",
    "    @abc.abstractmethod\n",
    "    def age(self, age):\n",
    "        pass"
   ]
  },
  {
   "cell_type": "markdown",
   "metadata": {},
   "source": [
    "Class derived from `abc.ABCMeta` cannot be instantiated unless all of its abstract methods and properties are implemented."
   ]
  },
  {
   "cell_type": "code",
   "execution_count": null,
   "metadata": {},
   "outputs": [],
   "source": [
    "class Dog(AnimalBase):\n",
    "    def __init__(self, age):\n",
    "        super().__init__(\"dog\", age)"
   ]
  },
  {
   "cell_type": "code",
   "execution_count": null,
   "metadata": {},
   "outputs": [
    {
     "ename": "TypeError",
     "evalue": "Can't instantiate abstract class Dog with abstract methods age, description",
     "output_type": "error",
     "traceback": [
      "\u001b[0;31m---------------------------------------------------------------------------\u001b[0m\n",
      "\u001b[0;31mTypeError\u001b[0m                                 Traceback (most recent call last)\n",
      "\u001b[0;32m<ipython-input-102-8c735f9acb69>\u001b[0m in \u001b[0;36m<module>\u001b[0;34m\u001b[0m\n",
      "\u001b[0;32m----> 1\u001b[0;31m \u001b[0mdog\u001b[0m \u001b[0;34m=\u001b[0m \u001b[0mDog\u001b[0m\u001b[0;34m(\u001b[0m\u001b[0;36m5\u001b[0m\u001b[0;34m)\u001b[0m\u001b[0;34m\u001b[0m\u001b[0;34m\u001b[0m\u001b[0m\n",
      "\u001b[0m\u001b[1;32m      2\u001b[0m \u001b[0mdog\u001b[0m\u001b[0;34m.\u001b[0m\u001b[0mdescription\u001b[0m\u001b[0;34m(\u001b[0m\u001b[0;34m)\u001b[0m\u001b[0;34m\u001b[0m\u001b[0;34m\u001b[0m\u001b[0m\n",
      "\n",
      "\u001b[0;31mTypeError\u001b[0m: Can't instantiate abstract class Dog with abstract methods age, description"
     ]
    }
   ],
   "source": [
    "dog = Dog(5)\n",
    "dog.description()"
   ]
  },
  {
   "cell_type": "markdown",
   "metadata": {},
   "source": [
    "Lets fix it by implementing the `description` and `age` methods."
   ]
  },
  {
   "cell_type": "code",
   "execution_count": null,
   "metadata": {},
   "outputs": [],
   "source": [
    "class Dog(AnimalBase):\n",
    "    def __init__(self, age):\n",
    "        super().__init__(\"dog\", age)\n",
    "\n",
    "    # Implement the description instance method.\n",
    "    def description(self):\n",
    "        print(\"I am the implementation of the description instance method.\")\n",
    "        print(f\"The {self.species} is of age {self.age}.\")\n",
    "\n",
    "    # Implement the setter method of the age property.\n",
    "    @AnimalBase.age.setter\n",
    "    def age(self, age):\n",
    "        if age < 0:\n",
    "            print(f\"Provided {age} age has to be positive number.\")\n",
    "            self._age = None\n",
    "        else:\n",
    "            self._age = age"
   ]
  },
  {
   "cell_type": "code",
   "execution_count": null,
   "metadata": {},
   "outputs": [
    {
     "name": "stdout",
     "output_type": "stream",
     "text": [
      "Provided -5 age has to be positive number.\n",
      "I am the implementation of the description instance method.\n",
      "The dog is of age None.\n"
     ]
    }
   ],
   "source": [
    "dog = Dog(-5)\n",
    "dog.description()"
   ]
  },
  {
   "cell_type": "code",
   "execution_count": null,
   "metadata": {},
   "outputs": [
    {
     "name": "stdout",
     "output_type": "stream",
     "text": [
      "I am the implementation of the description instance method.\n",
      "The dog is of age 2.\n"
     ]
    }
   ],
   "source": [
    "dog = Dog(2)\n",
    "dog.description()"
   ]
  },
  {
   "cell_type": "markdown",
   "metadata": {},
   "source": [
    "## Iterator protocol"
   ]
  },
  {
   "cell_type": "markdown",
   "metadata": {},
   "source": [
    "If a class implements a container, the iterator protocol can be used to iterate over the items of the container. See <https://docs.python.org/3/library/stdtypes.html#iterator-types> for details.\n",
    "\n",
    "The interator protocol consists of two special instance methods: `__iter__` and `__next__`.\n",
    "\n",
    "The `__iter__` instance method must return the iterator object, usually the class instance itself.\n",
    "\n",
    "The `iter()` built-in function can be used to get an iterator of an object.\n",
    "\n",
    "The `__next__` instance method must return the next element of the container. If it raises the `StopIteration` exception, the iteration stops."
   ]
  },
  {
   "cell_type": "code",
   "execution_count": null,
   "metadata": {},
   "outputs": [],
   "source": [
    "# Example of a container with the iterator protocol supported.\n",
    "class MyBox(object):\n",
    "    def __init__(self, items):\n",
    "        self.items = items\n",
    "\n",
    "    def __iter__(self):\n",
    "        return MyBoxIterator(self)\n",
    "\n",
    "\n",
    "# We define an iterator class that knows how to iterate through\n",
    "# the items of the box.\n",
    "class MyBoxIterator(object):\n",
    "    def __init__(self, box):\n",
    "        self.box = box\n",
    "        # The index attribute points to the next item in the box.\n",
    "        self.index = 0\n",
    "\n",
    "    def __iter__(self):\n",
    "        return self\n",
    "\n",
    "    def __next__(self):\n",
    "        # Check if we reached the end of the item sequence.\n",
    "        if self.index == len(self.box.items):\n",
    "            raise StopIteration()\n",
    "        self.index += 1\n",
    "        return self.box.items[self.index - 1]"
   ]
  },
  {
   "cell_type": "code",
   "execution_count": null,
   "metadata": {},
   "outputs": [
    {
     "name": "stdout",
     "output_type": "stream",
     "text": [
      "[8, 'a', 42, 'hello']\n"
     ]
    }
   ],
   "source": [
    "box = MyBox([8, \"a\", 42, \"hello\"])\n",
    "items = [item for item in box]\n",
    "print(items)"
   ]
  },
  {
   "cell_type": "markdown",
   "metadata": {},
   "source": [
    "Our box class uses a sequence for storing the items. Sequences have iterators already implemented in Python, hence we can simplify the previous example by utilizing the iterator of the item sequence using the `iter()` built-in function."
   ]
  },
  {
   "cell_type": "code",
   "execution_count": null,
   "metadata": {},
   "outputs": [],
   "source": [
    "class MySimpleBox(object):\n",
    "    def __init__(self, items):\n",
    "        self.items = items\n",
    "\n",
    "    def __iter__(self):\n",
    "        return iter(self.items)"
   ]
  },
  {
   "cell_type": "code",
   "execution_count": null,
   "metadata": {},
   "outputs": [
    {
     "name": "stdout",
     "output_type": "stream",
     "text": [
      "8\n",
      "a\n",
      "42\n",
      "hello\n"
     ]
    }
   ],
   "source": [
    "box = MySimpleBox([8, \"a\", 42, \"hello\"])\n",
    "for item in box:\n",
    "    print(item)"
   ]
  },
  {
   "cell_type": "markdown",
   "metadata": {},
   "source": [
    "## Context Manager"
   ]
  },
  {
   "cell_type": "markdown",
   "metadata": {},
   "source": [
    "Context managers in Python allow you to allocate and release resources precisely when you want to. The most widely used example of context managers is the `with` statement."
   ]
  },
  {
   "cell_type": "code",
   "execution_count": null,
   "metadata": {},
   "outputs": [],
   "source": [
    "with open(\"myfile.txt\", \"w\") as f:\n",
    "    f.write(\"Hello World!\")"
   ]
  },
  {
   "cell_type": "markdown",
   "metadata": {},
   "source": [
    "This will open the file `myfile.txt` in write mode and **enters a context**. Once the block is finished, the context is exited. In this example the file will be closed automatically on exit.\n",
    "\n",
    "Python implements context managers via two magic class methods:\n",
    "* `__enter__(self)`\n",
    "* `__exit__(self, type, value, traceback)`"
   ]
  },
  {
   "cell_type": "code",
   "execution_count": null,
   "metadata": {},
   "outputs": [
    {
     "name": "stdout",
     "output_type": "stream",
     "text": [
      "Opening file myfile.txt in mode r\n",
      "['Hello World!']\n",
      "Closing file myfile.txt\n"
     ]
    }
   ],
   "source": [
    "class MyFile(object):\n",
    "    def __init__(self, filename, mode):\n",
    "        self.filename = filename\n",
    "        self.mode = mode\n",
    "\n",
    "    def __enter__(self):\n",
    "        print(f\"Opening file {self.filename} in mode {self.mode}\")\n",
    "        self.f = open(self.filename, self.mode)\n",
    "        return self.f\n",
    "\n",
    "    def __exit__(self, type, value, traceback):\n",
    "        print(f\"Closing file {self.filename}\")\n",
    "        self.f.close()\n",
    "\n",
    "\n",
    "myfile = MyFile(\"myfile.txt\", \"r\")\n",
    "\n",
    "with myfile as f:\n",
    "    print(f.readlines())"
   ]
  },
  {
   "cell_type": "markdown",
   "metadata": {},
   "source": [
    "* The `type`, `value`, and `traceback` arguments of the `__exit__` method allows the handling of exceptions.\n",
    "* If an exception is handled by the `__exit__` method, the methods needs to return `True`."
   ]
  },
  {
   "cell_type": "markdown",
   "metadata": {},
   "source": [
    "## Generators"
   ]
  },
  {
   "cell_type": "markdown",
   "metadata": {},
   "source": [
    "### Recap:\n",
    "\n",
    "There are a couple of useful extra functions for loops (also called generators). The two most common generators are:\n",
    "\n",
    "*   `range(start (default=0), stop, stepsize (default=1))` -> creates a counting iterable, ie. 0, 1, 2, 3, ... stop. For a large number of iterations, range is much more memory-efficient than looping over the corresponding list of [0, 1, 2, ...], because the items are generated on the fly. \n",
    "*   `enumerate(iterable)` -> returns the index and the value of an iterable\n",
    "\n",
    "For more info on where generators are useful and how to write your own generator functions, see e.g. https://realpython.com/introduction-to-python-generators/\n"
   ]
  },
  {
   "cell_type": "markdown",
   "metadata": {},
   "source": [
    "### Generator function\n",
    "A function which returns a generator iterator. It looks like a normal function except that it contains `yield` expressions for producing a series of values usable in a for-loop or that can be retrieved one at a time with the `next()` function."
   ]
  },
  {
   "cell_type": "code",
   "execution_count": null,
   "metadata": {},
   "outputs": [],
   "source": [
    "def custom_range_generator(n):\n",
    "    i = 0\n",
    "    while i < n:\n",
    "        yield i\n",
    "        i += 1"
   ]
  },
  {
   "cell_type": "code",
   "execution_count": null,
   "metadata": {},
   "outputs": [
    {
     "name": "stdout",
     "output_type": "stream",
     "text": [
      "next(): 0\n",
      "type: <class 'generator'>\n",
      "list remaining numbers: [1, 2, 3, 4]\n"
     ]
    }
   ],
   "source": [
    "range_generator = custom_range_generator(5)\n",
    "print(\"next():\", next(range_generator))\n",
    "print(\"type:\", type(range_generator))\n",
    "print(\"list remaining numbers:\", list(range_generator))"
   ]
  },
  {
   "cell_type": "code",
   "execution_count": null,
   "metadata": {},
   "outputs": [
    {
     "name": "stdout",
     "output_type": "stream",
     "text": [
      "0\n",
      "1\n",
      "2\n",
      "3\n",
      "4\n"
     ]
    }
   ],
   "source": [
    "# We have to create the generator again as we exhausted its items by calling\n",
    "# `list` function earlier.\n",
    "range_generator = custom_range_generator(5)\n",
    "# Example in for loops\n",
    "for i in range_generator:\n",
    "    print(i)"
   ]
  }
 ],
 "metadata": {
  "kernelspec": {
   "display_name": ".venv",
   "language": "python",
   "name": "python3"
  },
  "language_info": {
   "codemirror_mode": {
    "name": "ipython",
    "version": 3
   },
   "file_extension": ".py",
   "mimetype": "text/x-python",
   "name": "python",
   "nbconvert_exporter": "python",
   "pygments_lexer": "ipython3",
   "version": "3.11.10"
  }
 },
 "nbformat": 4,
 "nbformat_minor": 2
}
