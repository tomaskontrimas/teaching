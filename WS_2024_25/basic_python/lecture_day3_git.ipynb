{
 "cells": [
  {
   "cell_type": "markdown",
   "metadata": {
    "slideshow": {
     "slide_type": "slide"
    }
   },
   "source": [
    "# Working with version control systems (git)"
   ]
  },
  {
   "cell_type": "markdown",
   "metadata": {
    "slideshow": {
     "slide_type": "subslide"
    }
   },
   "source": [
    "## What is a version control system?\n",
    "\n",
    "![Version Control](https://github.com/martwo/teaching/raw/master/WS_2022_23/advanced_python/figures/version_control.png)\n",
    "\n",
    "* Allows to keep track of changes (versions) of files.\n",
    "* Tracks the history of a file.\n",
    "* Manages a **repository**, i.e. a collection of files, usually a directory tree.\n",
    "* Allows collaborating on same files by several people.\n",
    "    * Conflict resolution\n",
    "* Allows branching-off from the main development path, i.e. **branches**.\n",
    "    * Branches can be merged"
   ]
  },
  {
   "cell_type": "markdown",
   "metadata": {
    "slideshow": {
     "slide_type": "subslide"
    }
   },
   "source": [
    "## What is `git`?\n",
    "\n",
    "* A version control system developed by the inventor of the Linux kernel, Linus Torvalds.\n",
    "* A decentralized system\n",
    "    * repositories are stored locally on the user's computer\n",
    "    * a central (remote) repository might exists, e.g. github.com"
   ]
  },
  {
   "cell_type": "markdown",
   "metadata": {
    "slideshow": {
     "slide_type": "subslide"
    }
   },
   "source": [
    "## Cloning a repository\n",
    "\n",
    "To clone a repository use the `git clone <repo_url>.git <local_dir>` command:\n",
    "\n",
    "```bash\n",
    "git clone https://github.com/icecube/skyllh.git skyllh\n",
    "```\n",
    "\n",
    "This copies (clones) the **master** branch of the repository from the remote location to the local disk."
   ]
  },
  {
   "cell_type": "markdown",
   "metadata": {
    "slideshow": {
     "slide_type": "subslide"
    }
   },
   "source": [
    "## Working with branches\n",
    "\n",
    "![Git Branches](https://github.com/martwo/teaching/raw/master/WS_2022_23/advanced_python/figures/git_branches.png)\n",
    "\n",
    "* A branch represents an independent line of development.\n",
    "* Always use a new branch when making large code changes, e.g. new feature development or bug fix! "
   ]
  },
  {
   "cell_type": "markdown",
   "metadata": {
    "slideshow": {
     "slide_type": "subslide"
    }
   },
   "source": [
    "### List available branches\n",
    "To list all available remote branches type:\n",
    "\n",
    "```bash\n",
    "git branch -a\n",
    "```"
   ]
  },
  {
   "cell_type": "markdown",
   "metadata": {
    "slideshow": {
     "slide_type": "subslide"
    }
   },
   "source": [
    "### Creating a new branch\n",
    "\n",
    "To work on a new feature or bug fix, one should create a new branch from the *master* branch.\n",
    "\n",
    "* Clone the repository.\n",
    "* Checkout a new branch via the `git checkout -b <branch>` command.\n",
    "\n",
    "```bash\n",
    "git clone https://github.com/icecube/skyllh.git skyllh.my_new_feature\n",
    "cd skyllh.my_new_feature/\n",
    "git checkout -b my_new_feature\n",
    "```\n",
    "\n",
    "After creating the new branch it lives in your local repository. In order to copy it to the remote repository one uses the `git push --set-upstream origin <branch>` command:\n",
    "\n",
    "```bash\n",
    "git push --set-upstream origin my_new_feature\n",
    "```\n",
    "\n",
    "To see on which branch you are currently working on use\n",
    "\n",
    "```bash\n",
    "git branch\n",
    "```\n",
    "to get the list of available branches."
   ]
  },
  {
   "cell_type": "markdown",
   "metadata": {
    "slideshow": {
     "slide_type": "subslide"
    }
   },
   "source": [
    "## Commiting code changes\n",
    "\n",
    "After making code changes, these changes must be committed to the branch as a commit.\n",
    "\n",
    "To see the changed files:\n",
    "\n",
    "```bash\n",
    "git status\n",
    "```\n",
    "\n",
    "To see the changes of a file:\n",
    "\n",
    "```bash\n",
    "git diff <file>\n",
    "```\n",
    "\n",
    "To stage a changed file for a commit, use the `git add` command:\n",
    "\n",
    "```bash\n",
    "git add <file>\n",
    "```\n",
    "\n",
    "To commit all staged files:\n",
    "\n",
    "```bash\n",
    "git commit -m \"My commit description\"\n",
    "```\n"
   ]
  },
  {
   "cell_type": "markdown",
   "metadata": {
    "slideshow": {
     "slide_type": "subslide"
    }
   },
   "source": [
    "## Merging two branches\n",
    "\n",
    "After a bug was fixed or a new feature was implemented the development branch needs to be merged with the *master* branch."
   ]
  },
  {
   "cell_type": "markdown",
   "metadata": {
    "slideshow": {
     "slide_type": "fragment"
    }
   },
   "source": [
    "![Merging two branches](https://github.com/martwo/teaching/raw/master/WS_2022_23/advanced_python/figures/git_branch_merge.png)"
   ]
  },
  {
   "cell_type": "markdown",
   "metadata": {
    "slideshow": {
     "slide_type": "subslide"
    }
   },
   "source": [
    "* Make sure to be in the correct receiving branch, e.g. master:\n",
    "\n",
    "```bash\n",
    "git checkout master\n",
    "```\n",
    "\n",
    "* Fetch and pull the latest updates of the receiving branch:\n",
    "\n",
    "```bash\n",
    "git fetch\n",
    "git pull\n",
    "```\n",
    "\n",
    "* Marge the feature branch into the master branch:\n",
    "\n",
    "```bash\n",
    "git merge my_new_feature\n",
    "```\n",
    "\n",
    "* Delete the feature branch:\n",
    "\n",
    "```bash\n",
    "git branch -d my_new_feature\n",
    "```"
   ]
  },
  {
   "cell_type": "markdown",
   "metadata": {
    "slideshow": {
     "slide_type": "subslide"
    }
   },
   "source": [
    "## Resolving merge conflicts\n",
    "\n",
    "* Merge conflicts occur when the **same part of the same file** was **changed by both branches**.\n",
    "* `git merge` will fail before creating the merge commit.\n",
    "* `git status` will tell where merge conflics are."
   ]
  },
  {
   "cell_type": "markdown",
   "metadata": {
    "slideshow": {
     "slide_type": "fragment"
    }
   },
   "source": [
    "```\n",
    "here is some content not affected by the conflict\n",
    "<<<<<<< master\n",
    "this is conflicted text from master\n",
    "=======\n",
    "this is conflicted text from my_new_feature branch\n",
    ">>>>>>> my_new_feature;\n",
    "```"
   ]
  },
  {
   "cell_type": "markdown",
   "metadata": {
    "slideshow": {
     "slide_type": "fragment"
    }
   },
   "source": [
    "* Edit the conflicting files to resolve the conflict.\n",
    "* Stage the changed files with `git add`.\n",
    "* Perform a final merge commit with `git commit`."
   ]
  },
  {
   "cell_type": "markdown",
   "metadata": {
    "slideshow": {
     "slide_type": "subslide"
    }
   },
   "source": [
    "## Pull requests on github.com\n",
    "\n",
    "* *github.com* provides the functionality to create **pull requests**.\n",
    "* Pull requests are branches that **ask to be pulled** into the master branch via a merge operation.\n",
    "* Pull requests can be **code-reviewed** before merging."
   ]
  },
  {
   "cell_type": "markdown",
   "metadata": {
    "slideshow": {
     "slide_type": "slide"
    }
   },
   "source": [
    "# Profiling your Python program"
   ]
  },
  {
   "cell_type": "markdown",
   "metadata": {
    "slideshow": {
     "slide_type": "subslide"
    }
   },
   "source": [
    "* Profilers tell you where your Python programs spends the most time and what memory it uses.\n",
    "* Available profilers and their properties: ![List of profilers](https://raw.githubusercontent.com/plasma-umass/scalene/master/docs/images/profiler-comparison.png)\n",
    "* A good and fast profiler is **scalene**: [github.com/plasma-umass/scalene](https://github.com/plasma-umass/scalene)"
   ]
  },
  {
   "cell_type": "markdown",
   "metadata": {
    "slideshow": {
     "slide_type": "slide"
    }
   },
   "source": [
    "# About this document"
   ]
  },
  {
   "cell_type": "markdown",
   "metadata": {
    "slideshow": {
     "slide_type": "fragment"
    }
   },
   "source": [
    "This notebook can be found on *github.com*:\n",
    "\n",
    "[https://github.com/martwo/teaching/tree/master/WS_2022_23/advanced_python](https://github.com/martwo/teaching/tree/master/WS_2022_23/advanced_python)\n",
    "\n",
    "and can be cloned via:\n",
    "\n",
    "```bash\n",
    "git clone https://github.com/martwo/teaching.git\n",
    "```\n",
    "\n",
    "Converting this notebook into slides and launching a browser window opening them:\n",
    "\n",
    "```bash\n",
    "jupyter nbconvert advanced_python.ipynb --to slides --post serve\n",
    "```"
   ]
  }
 ],
 "metadata": {
  "celltoolbar": "Slideshow",
  "kernelspec": {
   "display_name": "base",
   "language": "python",
   "name": "python3"
  },
  "language_info": {
   "codemirror_mode": {
    "name": "ipython",
    "version": 3
   },
   "file_extension": ".py",
   "mimetype": "text/x-python",
   "name": "python",
   "nbconvert_exporter": "python",
   "pygments_lexer": "ipython3",
   "version": "3.9.12"
  }
 },
 "nbformat": 4,
 "nbformat_minor": 2
}
