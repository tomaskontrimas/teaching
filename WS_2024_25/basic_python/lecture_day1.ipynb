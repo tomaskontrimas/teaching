{
 "cells": [
  {
   "cell_type": "code",
   "execution_count": 1,
   "metadata": {
    "slideshow": {
     "slide_type": "skip"
    }
   },
   "outputs": [],
   "source": [
    "%matplotlib notebook"
   ]
  },
  {
   "cell_type": "code",
   "execution_count": 2,
   "metadata": {
    "slideshow": {
     "slide_type": "skip"
    }
   },
   "outputs": [],
   "source": [
    "import matplotlib.pyplot as plt\n",
    "import numpy as np\n",
    "import os"
   ]
  },
  {
   "cell_type": "markdown",
   "metadata": {
    "slideshow": {
     "slide_type": "slide"
    }
   },
   "source": [
    "# Basic Python Programming\n",
    "\n",
    "Tomas Kontrimas\n",
    "\n",
    "Vincent Gousy-Leblanc\n",
    "\n",
    "Basic Python Programming, WS 2024/25\n",
    "With the help of Dr M.Wolf"
   ]
  },
  {
   "cell_type": "markdown",
   "metadata": {
    "slideshow": {
     "slide_type": "slide"
    }
   },
   "source": [
    "# Learning objectives of this course\n",
    "\n",
    "* Running Python on your computer\n",
    "* Basic knowledge of the Python programming language\n",
    "* Understanding the concepts of sequential and functional programming in Python \n",
    "* Some useful software packages for data processing and plotting"
   ]
  },
  {
   "cell_type": "markdown",
   "metadata": {
    "slideshow": {
     "slide_type": "slide"
    }
   },
   "source": [
    "# Technical Prerequisites Of This Course\n",
    "\n",
    "* Computer with Python and Jupyter Notebook support\n",
    "\n",
    "    - Linux, Windows, Mac\n",
    "    \n",
    "* Alternatively, create and use Jupyter notebooks on google: https://colab.research.google.com\n",
    "\n",
    "* *Microsoft Visual Studio Code* is a integrated developer environment (IDE) supporting Python and Jupyter notebooks as well."
   ]
  },
  {
   "cell_type": "markdown",
   "metadata": {
    "slideshow": {
     "slide_type": "slide"
    }
   },
   "source": [
    "# Why do we need to be able to develop software?"
   ]
  },
  {
   "cell_type": "markdown",
   "metadata": {
    "slideshow": {
     "slide_type": "subslide"
    }
   },
   "source": [
    "* For most of our professional time we work with ...\n",
    "\n",
    "    * data taking\n",
    "    * data simulation\n",
    "    * data management\n",
    "    * data selection\n",
    "    * data analysis\n",
    "    * machine learning\n",
    "    \n",
    "* All of the above needs software that is ...\n",
    "\n",
    "    * efficient\n",
    "    * modular\n",
    "    * well maintainable\n",
    "    * scalable\n",
    "    * understandable "
   ]
  },
  {
   "cell_type": "markdown",
   "metadata": {
    "slideshow": {
     "slide_type": "subslide"
    }
   },
   "source": [
    "**Example: Trigger rate of the IceCube Neutrino Detector at South Pole:**\n",
    "\n",
    "![Trigger rate of the Icecube Neutrino Detector at South Pole](https://github.com/martwo/teaching/raw/master/WS_2022_23/advanced_python/figures/icecube_trigger_rate.png)"
   ]
  },
  {
   "cell_type": "markdown",
   "metadata": {
    "slideshow": {
     "slide_type": "slide"
    }
   },
   "source": [
    "# Overview\n"
   ]
  },
  {
   "cell_type": "markdown",
   "metadata": {
    "slideshow": {
     "slide_type": "subslide"
    }
   },
   "source": [
    "## Intro and course setup\n",
    "* Jupyter Notebook and virtual Python environments on your own computer (useful for compatibility of the different libraries)\n",
    "* Jupyter Notebook on Google Colab\n",
    "\n",
    "## The basics of Python\n",
    "### Today (theory and exercices on)\n",
    "* Data types in Python\n",
    "* Python as a calculator\n",
    "* String formatting\n",
    "* Loops and Conditions\n",
    "* List comprehension\n",
    "* Working with files\n",
    "* Functions\n",
    "* Common pitfalls \n",
    "\n",
    "### Next class\n",
    "* Most common python packages part 1 : numpy and data visualization matplotlib\n",
    "\n",
    "\n",
    "### Last class \n",
    "* Most common python packages part 2: Panda and scipy\n",
    "* Working with version control systems (git)\n",
    "\n"
   ]
  },
  {
   "cell_type": "markdown",
   "metadata": {
    "slideshow": {
     "slide_type": "subslide"
    }
   },
   "source": [
    "## Advanced basics of Python (next class)\n",
    "* Classes\n",
    "* Properties\n",
    "* Class methods\n",
    "* Static methods\n",
    "* Operator methods\n",
    "* Inheritance\n",
    "* Multiple inheritance\n",
    "* Abstract base classes\n",
    "* Iterator protocol\n",
    "* Context Manager\n",
    "* Generators\n"
   ]
  },
  {
   "cell_type": "markdown",
   "metadata": {},
   "source": [
    "## How to run an 'IPython Notebook' on Google colab \n",
    "\n",
    "* In this tutorial, we will use 'IPython notebooks' (\\*.ipynb). They are an easy and modular way to use Python, somewhere in between Python as a scripting language (executing whole files (\\*.py) of code in one go) and as an interactive language (IPython environment). The code is arranged in 'Cells' that can be executed individually.\n",
    "* To run these notebooks, copy them to your own google drive folder and execute them there. You might need to right-click on the file and then choose 'open with ... colaboratory'. Cells of the notebook can be executed with 'shift + enter'.\n",
    "* To create in general the notebook go to https://colab.research.google.com\n",
    "* To install new packages if needed type `!pip install <package>`"
   ]
  },
  {
   "cell_type": "markdown",
   "metadata": {
    "slideshow": {
     "slide_type": "slide"
    }
   },
   "source": [
    "# Jupyter Notebook and virtual Python environments on your own computer"
   ]
  },
  {
   "cell_type": "markdown",
   "metadata": {
    "slideshow": {
     "slide_type": "subslide"
    }
   },
   "source": [
    "This shows the installation of Jupyter and Python virtual environments on Linux (Ubuntu).\n",
    "\n",
    "First, let's install Jupyter via `apt-get`:\n",
    "\n",
    "```bash\n",
    "sudo apt-get install python3-notebook python3-ipykernel\n",
    "```\n",
    "\n",
    "For this course, I recommend to setup a dedicated virtual Python 3 environment:\n",
    "    \n",
    "```bash\n",
    "sudo apt-get install virtualenvwrapper\n",
    "source /usr/share/virtualenvwrapper/virtualenvwrapper.sh\n",
    "```\n",
    "  \n",
    "The environment is created via:\n",
    "  \n",
    "```bash\n",
    "mkvirtualenv -p /usr/bin/python3 --system-site-packages basic-py3-course\n",
    "pip install -U astropy ipympl matplotlib numpy scipy\n",
    "```\n",
    "\n",
    "The final step is to add the virtual Python environment to Jupyter Notebook:\n",
    "\n",
    "```bash\n",
    "python -m ipykernel install --user \\\n",
    "    --name basic-py3-course --display-name \"Python 3 (basic-py3-course)\"\n",
    "```"
   ]
  },
  {
   "cell_type": "markdown",
   "metadata": {
    "slideshow": {
     "slide_type": "subslide"
    }
   },
   "source": [
    "I further recommend to put the\n",
    "\n",
    "```bash\n",
    "source /usr/share/virtualenvwrapper/virtualenvwrapper.sh\n",
    "```\n",
    "\n",
    "line into your `.profile` and launch a new terminal window.\n",
    "\n",
    "You can start a Jupyter Notebook via:\n",
    "\n",
    "```bash\n",
    "jupyter notebook\n",
    "```\n",
    "\n",
    "and create a new `basic-py3-course` notebook.\n",
    "\n",
    "For executing Python scripts, you can activate the `basic-py3-course` environment via:\n",
    "\n",
    "```bash\n",
    "workon basic-py3-course\n",
    "```\n",
    "\n",
    "and deactivate it via:\n",
    "\n",
    "```bash\n",
    "deactivate\n",
    "```"
   ]
  },
  {
   "cell_type": "markdown",
   "metadata": {
    "slideshow": {
     "slide_type": "slide"
    }
   },
   "source": [
    "# The basics of Python"
   ]
  },
  {
   "cell_type": "markdown",
   "metadata": {
    "slideshow": {
     "slide_type": "subslide"
    }
   },
   "source": [
    "\n",
    "\n",
    "\n",
    "Python is a high-level, general-purpose programming language. Its design philosophy emphasizes code readability with the use of significant indentation. Its language constructs and object-oriented approach aim to help programmers write clear, logical code for small- and large-scale projects.\n",
    "\n",
    "Python is dynamically-typed and garbage-collected. It supports multiple programming paradigms, including structured (particularly procedural), object-oriented and functional programming. It is often described as a \"batteries included\" language due to its comprehensive standard library. [https://en.wikipedia.org/wiki/Python_(programming_language)]\n",
    "\n",
    "The latest major version of Python is **Python3**. Don't use Python2 anymore!\n",
    "\n",
    "See also https://book.pythontips.com/en/latest\n",
    "\n",
    "and www.pythonlikeyoumeanit.com\n",
    "## Lots of tutorials!\n",
    "\n",
    "https://www.w3schools.com/python/"
   ]
  },
  {
   "cell_type": "code",
   "execution_count": 1,
   "metadata": {},
   "outputs": [
    {
     "name": "stdout",
     "output_type": "stream",
     "text": [
      "Hello world!\n"
     ]
    }
   ],
   "source": [
    "def say_something(text):\n",
    "    print(text)\n",
    "\n",
    "say_something('Hello world!')"
   ]
  },
  {
   "cell_type": "code",
   "execution_count": 5,
   "metadata": {
    "slideshow": {
     "slide_type": "subslide"
    }
   },
   "outputs": [],
   "source": [
    "# Comments start with '#'."
   ]
  },
  {
   "cell_type": "code",
   "execution_count": 6,
   "metadata": {
    "slideshow": {
     "slide_type": "fragment"
    }
   },
   "outputs": [],
   "source": [
    "# Import modules.\n",
    "import os\n",
    "\n",
    "import matplotlib.pyplot\n",
    "import numpy as np"
   ]
  },
  {
   "cell_type": "code",
   "execution_count": 7,
   "metadata": {
    "slideshow": {
     "slide_type": "fragment"
    }
   },
   "outputs": [],
   "source": [
    "# Import only specific functions from a module.\n",
    "from scipy import interpolate, stats"
   ]
  },
  {
   "cell_type": "code",
   "execution_count": 8,
   "metadata": {
    "slideshow": {
     "slide_type": "fragment"
    }
   },
   "outputs": [],
   "source": [
    "# Remember: never ever do 'from foo import *'"
   ]
  },
  {
   "cell_type": "code",
   "execution_count": 9,
   "metadata": {
    "slideshow": {
     "slide_type": "fragment"
    }
   },
   "outputs": [],
   "source": [
    "# Declare a variable.\n",
    "a = 5.\n",
    "a = \"Hello World!\""
   ]
  },
  {
   "cell_type": "code",
   "execution_count": null,
   "metadata": {},
   "outputs": [],
   "source": []
  },
  {
   "cell_type": "markdown",
   "metadata": {
    "slideshow": {
     "slide_type": "slide"
    }
   },
   "source": [
    "## Data types and operators"
   ]
  },
  {
   "cell_type": "markdown",
   "metadata": {
    "slideshow": {
     "slide_type": "subslide"
    }
   },
   "source": [
    "* Numeric types:  \n",
    "  `int, float, complex`\n",
    "* Sequence types:  \n",
    "  `str, unicode, list, tuple, bytearray, buffer`\n",
    "* Set types:  \n",
    "  `set, frozenset`\n",
    "* Map types:  \n",
    "  `dict`\n",
    "* Boolean types:\n",
    "  `bool`\n",
    "* The None type object: `None`\n",
    "* Mutable data types like `list` and `dict` are copied by reference.\n",
    "* Immutable data types like `int` and `float` are copied by value.\n",
    "* Full list:  \n",
    "  <https://docs.python.org/3.7/library/stdtypes.html#>"
   ]
  },
  {
   "cell_type": "code",
   "execution_count": null,
   "metadata": {},
   "outputs": [],
   "source": [
    "# numbers\n",
    "a = 5 # integer\n",
    "b = 2.3 # floating point number (float)\n",
    "c = -1.1E-2 # also a float, but in scientific notation\n",
    "print(a, type(a))\n",
    "print(b, type(b))\n",
    "print(c, type(c))\n",
    "\n",
    "# type casting\n",
    "d = a * c\n",
    "print(d, type(d)) # be aware of machine precision when using floats!\n",
    "\n",
    "# addition\n",
    "d = a + c\n",
    "print(d, type(d))\n",
    "# addition in-place\n",
    "b += 2.1\n",
    "print(b, type(b)) \n",
    "\n",
    "d = a / b # normal division\n",
    "print(d, type(d))\n",
    "\n",
    "# integer speciality\n",
    "d = a // 2 # integer division\n",
    "print(d, type(d))\n",
    "\n",
    "d = a % 2 # remainder of integer division (modulo)\n",
    "print(d, type(d))"
   ]
  },
  {
   "cell_type": "code",
   "execution_count": null,
   "metadata": {},
   "outputs": [],
   "source": [
    "# strings\n",
    "a = \"alice\"\n",
    "b = \"bob\"\n",
    "print(a, b)\n",
    "\n",
    "# add\n",
    "print(a + b, \"-\".join([a, b]))\n",
    "\n",
    "# slicing\n",
    "print(a[:3], a[3:], a[1:3])\n",
    "\n",
    "# formatting\n",
    "age = 28.2345609\n",
    "print(a, \"is {:1.2f} years old\".format(age))\n",
    "print(a, \"is {:1.0f} years old\".format(age))\n",
    "print(a, f\"is {age:1.3e} years old\")"
   ]
  },
  {
   "cell_type": "code",
   "execution_count": null,
   "metadata": {},
   "outputs": [],
   "source": [
    "# bools \n",
    "a = True\n",
    "b = False\n",
    "print(a, b)\n",
    "print(type(a), type(b))"
   ]
  },
  {
   "cell_type": "markdown",
   "metadata": {},
   "source": [
    "## Sequences"
   ]
  },
  {
   "cell_type": "markdown",
   "metadata": {},
   "source": [
    "### lists - mutable"
   ]
  },
  {
   "cell_type": "code",
   "execution_count": 2,
   "metadata": {},
   "outputs": [
    {
     "name": "stdout",
     "output_type": "stream",
     "text": [
      "[1, 2.3, -1000.0] [-2.2, 3, 0.1, 'c']\n",
      "[1, 2.3, -1000.0, -2.2, 3, 0.1, 'c']\n",
      "1\n",
      "-1000.0\n",
      "neu\n",
      "['neu', -2.2, 3]\n",
      "7\n",
      "[0, 1, 2]\n",
      "[1, 2.3, 'neu', -2.2, 3, 0.1, 'c', 1]\n",
      "[1, 2.3, 'neu', -2.2, 3, 0.1, 'c', 1, [2, 'blob']]\n",
      "[1, 2.3, 'neu', -2.2, 3, 0.1, 'c', 1, [2, 'blob'], 'a', 'c']\n",
      "0.1\n",
      "[1, 2.3, 'neu', -2.2, 3, 'c', 1, [2, 'blob'], 'a', 'c']\n"
     ]
    }
   ],
   "source": [
    "# lists\n",
    "a = [1, 2.3, -1E3]\n",
    "b = [-2.2, 3, 0.1, \"c\"]\n",
    "print(a, b)\n",
    "\n",
    "# add\n",
    "c = a + b\n",
    "print(c)\n",
    "\n",
    "# accessing items\n",
    "print(c[0])\n",
    "\n",
    "# re-setting items\n",
    "print(c[2])\n",
    "c[2] = \"neu\"\n",
    "print(c[2])\n",
    "\n",
    "# slicing\n",
    "print(c[2:5])\n",
    "\n",
    "# length\n",
    "print(len(c))\n",
    "\n",
    "# range\n",
    "print(list(range(3)))\n",
    "\n",
    "# append & extend\n",
    "c.append(1)\n",
    "print(c)\n",
    "c.append([2, \"blob\"])\n",
    "print(c)\n",
    "c.extend([\"a\", \"c\"])\n",
    "print(c)\n",
    "\n",
    "# removing ('popping') an item using its index\n",
    "new = c.pop(5)\n",
    "print(new)\n",
    "print(c)\n"
   ]
  },
  {
   "cell_type": "code",
   "execution_count": 3,
   "metadata": {},
   "outputs": [
    {
     "name": "stdout",
     "output_type": "stream",
     "text": [
      "'int' object is not iterable\n",
      "...but I was able to do it another way!\n",
      "['uu', 3.2, 2]\n"
     ]
    }
   ],
   "source": [
    "# catching exceptions\n",
    "a = 2\n",
    "b = [\"uu\", 3.2]\n",
    "\n",
    "try:\n",
    "    b.extend(a)\n",
    "except TypeError as e:\n",
    "    b.append(a)\n",
    "    print(e)\n",
    "    print(\"...but I was able to do it another way!\")\n",
    "print(b)"
   ]
  },
  {
   "cell_type": "markdown",
   "metadata": {},
   "source": [
    "### tuples and strings - immutable"
   ]
  },
  {
   "cell_type": "code",
   "execution_count": null,
   "metadata": {},
   "outputs": [],
   "source": [
    "a = (1, 2, 2.3, \"test\")\n",
    "print(a[2])\n",
    "a[2] = \"new\""
   ]
  },
  {
   "cell_type": "markdown",
   "metadata": {},
   "source": [
    "s = \"This is a string\"\n",
    "print(s[3:8])\n",
    "s[2] = \"x\""
   ]
  },
  {
   "cell_type": "markdown",
   "metadata": {},
   "source": [
    "### dictionaries - mutable mapping"
   ]
  },
  {
   "cell_type": "code",
   "execution_count": 7,
   "metadata": {},
   "outputs": [
    {
     "name": "stdout",
     "output_type": "stream",
     "text": [
      "{'a': 27, 'key': 2.22, 2: 'int as key'}\n",
      "27 int as key\n",
      "dict_keys(['a', 'key', 2])\n",
      "dict_values([27, 2.22, 'int as key'])\n",
      "{'a': 27, 'key': 2.22, 2: 'int as key', 'new key': (1, 2, 3), 'test': 'test'}\n",
      "27\n",
      "{'key': 2.22, 2: 'int as key', 'new key': (1, 2, 3), 'test': 'test'}\n",
      "2.22\n",
      "{'key': 2.22, 2: 'int as key', 'new key': (1, 2, 3), 'test': 'test'}\n",
      "default value\n"
     ]
    }
   ],
   "source": [
    "# dictionaries consist of a key and value pair\n",
    "a = {\"a\": 27, \"key\": 2.22, 2: \"int as key\"}\n",
    "print(a)\n",
    "print(a[\"a\"], a[2])\n",
    "print(a.keys())\n",
    "print(a.values())\n",
    "\n",
    "# append a new dict\n",
    "a.update({\"new key\": (1, 2, 3), \"test\": \"test\"})\n",
    "print(a)\n",
    "\n",
    "# pop & get\n",
    "b = a.pop(\"a\")\n",
    "print(b) # b contains the value\n",
    "print(a) # key & value are removed from a\n",
    "\n",
    "b = a.get(\"key\")\n",
    "print(b) # b contains value\n",
    "print(a) # key & value are still there\n",
    "\n",
    "b = a.get(\"a\", \"default value\") # \"a\" is already gone??\n",
    "print(b) # ... so the default value appears\n"
   ]
  },
  {
   "cell_type": "code",
   "execution_count": 8,
   "metadata": {},
   "outputs": [
    {
     "ename": "KeyError",
     "evalue": "'a'",
     "output_type": "error",
     "traceback": [
      "\u001b[0;31m---------------------------------------------------------------------------\u001b[0m",
      "\u001b[0;31mKeyError\u001b[0m                                  Traceback (most recent call last)",
      "Input \u001b[0;32mIn [8]\u001b[0m, in \u001b[0;36m<cell line: 1>\u001b[0;34m()\u001b[0m\n\u001b[0;32m----> 1\u001b[0m \u001b[43ma\u001b[49m\u001b[43m[\u001b[49m\u001b[38;5;124;43m\"\u001b[39;49m\u001b[38;5;124;43ma\u001b[39;49m\u001b[38;5;124;43m\"\u001b[39;49m\u001b[43m]\u001b[49m\n",
      "\u001b[0;31mKeyError\u001b[0m: 'a'"
     ]
    }
   ],
   "source": [
    "a[\"a\"] # doesn't work anymore"
   ]
  },
  {
   "cell_type": "code",
   "execution_count": 9,
   "metadata": {},
   "outputs": [
    {
     "ename": "KeyError",
     "evalue": "'2'",
     "output_type": "error",
     "traceback": [
      "\u001b[0;31m---------------------------------------------------------------------------\u001b[0m",
      "\u001b[0;31mKeyError\u001b[0m                                  Traceback (most recent call last)",
      "Input \u001b[0;32mIn [9]\u001b[0m, in \u001b[0;36m<cell line: 1>\u001b[0;34m()\u001b[0m\n\u001b[0;32m----> 1\u001b[0m \u001b[38;5;28mprint\u001b[39m(\u001b[43ma\u001b[49m\u001b[43m[\u001b[49m\u001b[38;5;124;43m\"\u001b[39;49m\u001b[38;5;124;43m2\u001b[39;49m\u001b[38;5;124;43m\"\u001b[39;49m\u001b[43m]\u001b[49m)\n",
      "\u001b[0;31mKeyError\u001b[0m: '2'"
     ]
    }
   ],
   "source": [
    "print(a[\"2\"]) # use the right type"
   ]
  },
  {
   "cell_type": "markdown",
   "metadata": {},
   "source": [
    "## mutable vs. immutable"
   ]
  },
  {
   "cell_type": "code",
   "execution_count": null,
   "metadata": {},
   "outputs": [],
   "source": [
    "a = [2, 4, 5] # list - mutable\n",
    "print(a, id(a))\n",
    "id_a = id(a)\n",
    "\n",
    "b = a\n",
    "a.append(7)\n",
    "print(a, b)\n",
    "print(id(a) == id(b)) # they are the same object!\n",
    "print(id(a) == id_a) # a is still the same object!\n",
    "\n",
    "b.pop(2)\n",
    "print(a, b)"
   ]
  },
  {
   "cell_type": "code",
   "execution_count": null,
   "metadata": {},
   "outputs": [],
   "source": [
    "a = (2, 4, 5) # tuple - immutable\n",
    "print(a, id(a))\n",
    "id_a = id(a)\n",
    "b = a\n",
    "print(id(a) == id(b)) # they are the same object\n",
    "a += (1, )\n",
    "print(a, id(a) == id_a) # we've created a new object here\n",
    "print(b, id(a) == id(b)) # they are not! the same object anymore"
   ]
  },
  {
   "cell_type": "markdown",
   "metadata": {},
   "source": [
    "## Operators"
   ]
  },
  {
   "cell_type": "code",
   "execution_count": 11,
   "metadata": {},
   "outputs": [
    {
     "name": "stdout",
     "output_type": "stream",
     "text": [
      "-3\n",
      "False\n",
      "True\n",
      "False\n",
      "True\n",
      "False\n"
     ]
    }
   ],
   "source": [
    "# operators\n",
    "a = 3\n",
    "b = 4\n",
    "# unary - negative\n",
    "print(-a)\n",
    "\n",
    "# relational\n",
    "print(a==b) # equal\n",
    "print(a!=b) # not equal\n",
    "print(a>b) # greater than\n",
    "print(a<b) # lesser than\n",
    "print(a>=b) # greater or equal than"
   ]
  },
  {
   "cell_type": "code",
   "execution_count": 12,
   "metadata": {},
   "outputs": [
    {
     "name": "stdout",
     "output_type": "stream",
     "text": [
      "False\n",
      "False\n",
      "True\n",
      "True\n"
     ]
    }
   ],
   "source": [
    "# logic\n",
    "a = 3\n",
    "b = 4\n",
    "# logical and\n",
    "print((a==b) & (a>=b))\n",
    "print((a==b) and (a>=b))\n",
    "\n",
    "# logical or\n",
    "print((a>b) | (a!=b))\n",
    "print((a>b) or (a!=b))"
   ]
  },
  {
   "cell_type": "code",
   "execution_count": 13,
   "metadata": {},
   "outputs": [
    {
     "name": "stdout",
     "output_type": "stream",
     "text": [
      "7\n",
      "-1\n",
      "1.3333333333333333\n",
      "1\n",
      "3\n",
      "12\n",
      "64\n"
     ]
    }
   ],
   "source": [
    "# math\n",
    "print(a+b)\n",
    "print(a-b)\n",
    "print(b/a)\n",
    "print(b//a) # floor division\n",
    "print(a%b) # modulo\n",
    "print(a*b)\n",
    "print(b**a) # power"
   ]
  },
  {
   "cell_type": "code",
   "execution_count": 16,
   "metadata": {
    "slideshow": {
     "slide_type": "fragment"
    }
   },
   "outputs": [
    {
     "name": "stdout",
     "output_type": "stream",
     "text": [
      "exp(2.5)   = 12.182493960703473\n",
      "sin(pi/2.) = 1.0\n"
     ]
    }
   ],
   "source": [
    "# Call mathematical functions like sin, exp, log, ...\n",
    "# Instead of NumPy, you can also use the 'math' module.\n",
    "print(\"exp(2.5)   =\", np.exp(2.5))\n",
    "print(\"sin(pi/2.) =\", np.sin(np.pi/2.))"
   ]
  },
  {
   "cell_type": "markdown",
   "metadata": {
    "slideshow": {
     "slide_type": "slide"
    }
   },
   "source": [
    "## String formatting"
   ]
  },
  {
   "cell_type": "markdown",
   "metadata": {
    "slideshow": {
     "slide_type": "subslide"
    }
   },
   "source": [
    "General form:\n",
    "\n",
    "```\n",
    "[fill][align][sign][#][0][width][,][.precision][type]\n",
    "```\n",
    "\n",
    "See:  \n",
    "<https://docs.python.org/3/library/string.html#format-string-syntax>"
   ]
  },
  {
   "cell_type": "code",
   "execution_count": 15,
   "metadata": {
    "slideshow": {
     "slide_type": "fragment"
    }
   },
   "outputs": [
    {
     "name": "stdout",
     "output_type": "stream",
     "text": [
      "     +3.14\n",
      "0000000003\n"
     ]
    }
   ],
   "source": [
    "# Some examples\n",
    "import numpy as np\n",
    "print(\"{:>+10.2f}\".format(np.pi))\n",
    "print(\"{:010d}\".format(3))"
   ]
  },
  {
   "cell_type": "code",
   "execution_count": 16,
   "metadata": {
    "slideshow": {
     "slide_type": "fragment"
    }
   },
   "outputs": [
    {
     "name": "stdout",
     "output_type": "stream",
     "text": [
      "0, 1, 2, 3\n",
      "4\n"
     ]
    }
   ],
   "source": [
    "# Some more examples\n",
    "s = \"{0}, {1[0]}, {1[1]}, {2[a]}\"\n",
    "print(s.format(0, [1, 2], {\"a\": 3}))\n",
    "print(\"{key}\".format(key=4))"
   ]
  },
  {
   "cell_type": "markdown",
   "metadata": {
    "slideshow": {
     "slide_type": "subslide"
    }
   },
   "source": [
    "F-string (formatted string literal) introduced in Python 3.6 supports the same string formatting form as `.format()`.\n",
    "They can embed Python expressions directly inside them using `f\"string example {expression:format}\"` syntax."
   ]
  },
  {
   "cell_type": "code",
   "execution_count": 17,
   "metadata": {
    "slideshow": {
     "slide_type": "fragment"
    }
   },
   "outputs": [
    {
     "name": "stdout",
     "output_type": "stream",
     "text": [
      "a = 10.5\n",
      "a = 10\n",
      "Evaluate some code: 25.00\n",
      "Evaluate some more code: 3\n"
     ]
    }
   ],
   "source": [
    "# f-string examples\n",
    "a = 10.5\n",
    "print(f\"a = {a}\")\n",
    "print(f\"a = {a:.0f}\")\n",
    "print(f\"Evaluate some code: {5*5:.2f}\")\n",
    "print(f\"Evaluate some more code: {np.sqrt(9):.0f}\")"
   ]
  },
  {
   "cell_type": "markdown",
   "metadata": {
    "slideshow": {
     "slide_type": "slide"
    }
   },
   "source": [
    "## Loops and Conditions\n",
    "Conditional blocks, loops, functions, and classes are structured by indentations (usually 'tab' or 4 spaces). Most code editors do that themselves. In general, code after a ':' needs to be indented."
   ]
  },
  {
   "cell_type": "code",
   "execution_count": 18,
   "metadata": {
    "slideshow": {
     "slide_type": "subslide"
    }
   },
   "outputs": [
    {
     "name": "stdout",
     "output_type": "stream",
     "text": [
      "a is smaller than b\n",
      "a is equal to b\n"
     ]
    }
   ],
   "source": [
    "a = 3\n",
    "b = 4\n",
    "if a<b:\n",
    "    print(\"a is smaller than b\")\n",
    "elif a==b:\n",
    "    print(\"a is equal to b\")\n",
    "else:\n",
    "    print(\"a is larger than b\")\n",
    "\n",
    "a = 3\n",
    "b = 3.0\n",
    "if a<b:\n",
    "    print(\"a is smaller than b\")\n",
    "elif a==b:\n",
    "    print(\"a is equal to b\")\n",
    "else:\n",
    "    print(\"a is larger than b\")"
   ]
  },
  {
   "cell_type": "code",
   "execution_count": 19,
   "metadata": {
    "slideshow": {
     "slide_type": "fragment"
    }
   },
   "outputs": [
    {
     "name": "stdout",
     "output_type": "stream",
     "text": [
      "There is an 'e' in Hello!\n",
      "There is an 'ell' in Hello!\n"
     ]
    }
   ],
   "source": [
    "s = \"Hello!\"\n",
    "sub_s = \"ell\"\n",
    "if \"e\" in s:\n",
    "    print(f\"There is an 'e' in {s}\")\n",
    "\n",
    "if sub_s in s:\n",
    "    print(f\"There is an '{sub_s}' in {s}\")\n",
    "    "
   ]
  },
  {
   "cell_type": "markdown",
   "metadata": {},
   "source": [
    "# while loop"
   ]
  },
  {
   "cell_type": "code",
   "execution_count": 20,
   "metadata": {},
   "outputs": [
    {
     "name": "stdout",
     "output_type": "stream",
     "text": [
      "3 is smaller than 5\n",
      "4 is smaller than 5\n",
      "5 is equal to 5\n",
      "8 is larger than 5\n",
      "13.6 is larger than 5\n",
      "23.119999999999997 is larger than 5\n"
     ]
    }
   ],
   "source": [
    "a = 3\n",
    "b = 5\n",
    "# make sure to actually increase a\n",
    "# otherwise you'll get an endless loop\n",
    "while a < 25:\n",
    "    if a<b:\n",
    "        print(f\"{a} is smaller than {b}\")\n",
    "        a += 1\n",
    "    elif a==b:\n",
    "        print(f\"{a} is equal to {b}\")\n",
    "        a += 3\n",
    "    else:\n",
    "        print(f\"{a} is larger than {b}\")\n",
    "        a *= 1.7"
   ]
  },
  {
   "cell_type": "markdown",
   "metadata": {},
   "source": [
    "# for loop\n"
   ]
  },
  {
   "cell_type": "code",
   "execution_count": 22,
   "metadata": {},
   "outputs": [
    {
     "name": "stdout",
     "output_type": "stream",
     "text": [
      "2\n",
      "2\n",
      "4\n",
      "6\n",
      "5\n",
      "11\n",
      "final result: 11\n"
     ]
    }
   ],
   "source": [
    "sum = 0\n",
    "for num in [2, 4, 5]:\n",
    "    print(num)\n",
    "    sum += num\n",
    "    print(sum)\n",
    "print(\"final result:\", sum)"
   ]
  },
  {
   "cell_type": "code",
   "execution_count": 23,
   "metadata": {},
   "outputs": [
    {
     "name": "stdout",
     "output_type": "stream",
     "text": [
      "in the 0th iteration, the sum is 2\n",
      "in the 1th iteration, the sum is 6\n",
      "in the 2th iteration, the sum is 11\n"
     ]
    }
   ],
   "source": [
    "sum = 0\n",
    "for index, num in enumerate([2, 4, 5]):\n",
    "    sum += num\n",
    "    print(f\"in the {index}th iteration, the sum is\", sum)"
   ]
  },
  {
   "cell_type": "code",
   "execution_count": null,
   "metadata": {},
   "outputs": [],
   "source": [
    "dct = {\"a\": 2, \"bc\": 2.8, \"test\": -0.1}\n",
    "for key in dct: # iterate over dict keys\n",
    "    print(key, dct[key])"
   ]
  },
  {
   "cell_type": "markdown",
   "metadata": {
    "slideshow": {
     "slide_type": "fragment"
    }
   },
   "source": [
    "* You can break out of a loop via `break`.\n",
    "* Iterations can be skipped via `continue`.\n",
    "* Remember that Python does not really know about scopes."
   ]
  },
  {
   "cell_type": "code",
   "execution_count": 24,
   "metadata": {
    "slideshow": {
     "slide_type": "fragment"
    }
   },
   "outputs": [],
   "source": [
    "for i in range(0,10):\n",
    "    if i == 0:\n",
    "        break\n",
    "else:\n",
    "    print('No 0 found!')"
   ]
  },
  {
   "cell_type": "markdown",
   "metadata": {
    "slideshow": {
     "slide_type": "subslide"
    }
   },
   "source": [
    "## List comprehension"
   ]
  },
  {
   "cell_type": "markdown",
   "metadata": {
    "slideshow": {
     "slide_type": "subslide"
    }
   },
   "source": [
    "An easy way to create iterables from existing ones."
   ]
  },
  {
   "cell_type": "code",
   "execution_count": 28,
   "metadata": {
    "slideshow": {
     "slide_type": "fragment"
    }
   },
   "outputs": [
    {
     "name": "stdout",
     "output_type": "stream",
     "text": [
      "[0, 1, 4, 9, 16, 25, 36, 49, 64, 81]\n",
      "[3.3333333333333335, 2.5, 2.0, 1.6666666666666667, 1.4285714285714286, 1.25, 1.1111111111111112]\n"
     ]
    }
   ],
   "source": [
    "# List comprehension examples\n",
    "l = [i**2 for i in range(10)]\n",
    "print(l)\n",
    "l = [10. / i for i in range(10) if i > 2]\n",
    "print(l)"
   ]
  },
  {
   "cell_type": "code",
   "execution_count": 23,
   "metadata": {
    "slideshow": {
     "slide_type": "fragment"
    }
   },
   "outputs": [],
   "source": [
    "# The same works for dictionaries.\n",
    "d = {\"a\": 2., \"b\": 3.}\n",
    "d = {k: v**2 for k, v in d.items()}"
   ]
  },
  {
   "cell_type": "markdown",
   "metadata": {
    "slideshow": {
     "slide_type": "slide"
    }
   },
   "source": [
    "## Working with files"
   ]
  },
  {
   "cell_type": "code",
   "execution_count": 26,
   "metadata": {
    "slideshow": {
     "slide_type": "subslide"
    }
   },
   "outputs": [],
   "source": [
    "# Create a text file and give it some input.\n",
    "with open(\"example.txt\", \"w\") as stream:\n",
    "    stream.write(\"This is a line.\\n\")\n",
    "    stream.write(\"This is another line.\")"
   ]
  },
  {
   "cell_type": "code",
   "execution_count": 27,
   "metadata": {
    "slideshow": {
     "slide_type": "fragment"
    }
   },
   "outputs": [
    {
     "name": "stdout",
     "output_type": "stream",
     "text": [
      "This is a line.\n",
      "This is another line.\n"
     ]
    }
   ],
   "source": [
    "# Read the content of the text file.\n",
    "with open(\"example.txt\", \"r\") as stream:\n",
    "    lines = stream.readlines()\n",
    "\n",
    "print(\"\".join(lines))"
   ]
  },
  {
   "cell_type": "code",
   "execution_count": 28,
   "metadata": {
    "slideshow": {
     "slide_type": "skip"
    }
   },
   "outputs": [],
   "source": [
    "os.remove(\"example.txt\")"
   ]
  },
  {
   "cell_type": "markdown",
   "metadata": {
    "slideshow": {
     "slide_type": "slide"
    }
   },
   "source": [
    "## Functions"
   ]
  },
  {
   "cell_type": "code",
   "execution_count": 30,
   "metadata": {},
   "outputs": [],
   "source": [
    "# Basic definition\n",
    "def func(*args, **kwargs):\n",
    "    print(f'args: {args}')\n",
    "    print(f'kwargs: {kwargs}')\n",
    "    \n",
    "def name_of_the_function(\n",
    "    parameter_1, # mandatory parameter\n",
    "    parameter_2, # mandatory parameter\n",
    "    default_1=3, # optional parameter\n",
    "    default_2=\"test\", # optional parameter\n",
    "):\n",
    "    \"\"\" Explain here what your function does. \n",
    "    This is called a 'doc string'. With three quotes,\n",
    "    it can run over multiple lines and it is not executed. \n",
    "\n",
    "    This code calculates the quotient of parameter_1 & 2, times\n",
    "    parameter default_1. In addition, it prints default_2.\n",
    "    \n",
    "    Parameters:\n",
    "    -----------\n",
    "    parameter_1 : number\n",
    "        numerator of the division\n",
    "    parameter_2 : number\n",
    "        denomination of the division\n",
    "\n",
    "    Optional Parameters:\n",
    "    --------------------\n",
    "    default_1: int\n",
    "        default: 3, factor of the multiplication\n",
    "    default_2: str\n",
    "        default: 'test', Your favorite word to print in addition to the result\n",
    "\n",
    "    Returns:\n",
    "    --------\n",
    "    default_2 * default_1: str\n",
    "        Your favorite word repeated 'default_1' times\n",
    "    calculation: number\n",
    "        Result of the calculation\n",
    "    \"\"\"\n",
    "    \n",
    "    calculation = (parameter_1 / parameter_2) * default_1\n",
    "    print(f\"The result of the calculation is approx. {calculation:1.3f}.\")\n",
    "    print(\"Also, you wanted me to print this here:\", default_2)\n",
    "\n",
    "    # now we also want to return something from this function\n",
    "    # you can return one or multiple objects\n",
    "\n",
    "    # I don't trust the user of the function, \n",
    "    # so I force default_1 into an int type\n",
    "    return default_2 * int(default_1), calculation"
   ]
  },
  {
   "cell_type": "code",
   "execution_count": 35,
   "metadata": {},
   "outputs": [
    {
     "name": "stdout",
     "output_type": "stream",
     "text": [
      "The result of the calculation is approx. 7.500.\n",
      "Also, you wanted me to print this here: Test!\n",
      "Test!Test!Test! 7.5\n"
     ]
    }
   ],
   "source": [
    "# now we test this super random function\n",
    "return_value_1, return_value_2 = name_of_the_function(\n",
    "    5, 2, default_2=\"Test!\") # we don't need to set default_1\n",
    "print(return_value_1, return_value_2)"
   ]
  },
  {
   "cell_type": "markdown",
   "metadata": {},
   "source": [
    "help(name_of_the_function)"
   ]
  },
  {
   "cell_type": "code",
   "execution_count": 37,
   "metadata": {
    "slideshow": {
     "slide_type": "subslide"
    }
   },
   "outputs": [
    {
     "name": "stdout",
     "output_type": "stream",
     "text": [
      "The result of the calculation is approx. 7.500.\n",
      "Also, you wanted me to print this here: test\n",
      "The result of the calculation is approx. 7.500.\n",
      "Also, you wanted me to print this here: Test!\n",
      "The result of the calculation is approx. 2.500.\n",
      "Also, you wanted me to print this here: Test5\n",
      "[('testtesttest', 7.5), ('Test!Test!Test!', 7.5), ('Test5', 2.5)]\n"
     ]
    }
   ],
   "source": [
    "# Alternative ways to call the function\n",
    "results = [\n",
    "    name_of_the_function(5., 2.),\n",
    "    name_of_the_function(\n",
    "    parameter_1=5, parameter_2=2, default_2=\"Test!\"),\n",
    "    name_of_the_function(parameter_1=5, parameter_2=2,default_1=1, default_2=\"Test5\")\n",
    "]\n",
    "print(results)"
   ]
  },
  {
   "cell_type": "markdown",
   "metadata": {
    "slideshow": {
     "slide_type": "subslide"
    }
   },
   "source": [
    "A few words about doc strings:\n",
    "\n",
    "* **Do write** them because they help to better understand your code.\n",
    "* We recommend the NumPy style:  \n",
    "  <https://sphinxcontrib-napoleon.readthedocs.io/en/latest/example_numpy.html>"
   ]
  },
  {
   "cell_type": "markdown",
   "metadata": {},
   "source": [
    "End of the first day "
   ]
  }
 ],
 "metadata": {
  "celltoolbar": "Slideshow",
  "kernelspec": {
   "display_name": "base",
   "language": "python",
   "name": "python3"
  },
  "language_info": {
   "codemirror_mode": {
    "name": "ipython",
    "version": 3
   },
   "file_extension": ".py",
   "mimetype": "text/x-python",
   "name": "python",
   "nbconvert_exporter": "python",
   "pygments_lexer": "ipython3",
   "version": "3.9.12"
  }
 },
 "nbformat": 4,
 "nbformat_minor": 2
}
