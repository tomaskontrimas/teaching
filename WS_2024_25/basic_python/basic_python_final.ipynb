{
 "cells": [
  {
   "cell_type": "code",
   "execution_count": null,
   "metadata": {
    "slideshow": {
     "slide_type": "skip"
    }
   },
   "outputs": [],
   "source": [
    "%matplotlib notebook"
   ]
  },
  {
   "cell_type": "code",
   "execution_count": null,
   "metadata": {
    "slideshow": {
     "slide_type": "skip"
    }
   },
   "outputs": [],
   "source": [
    "import matplotlib.pyplot as plt\n",
    "import numpy as np\n",
    "import os"
   ]
  },
  {
   "cell_type": "markdown",
   "metadata": {
    "slideshow": {
     "slide_type": "slide"
    }
   },
   "source": [
    "# Basic Python Programming\n",
    "\n",
    "Tomas Kontrimas\n",
    "\n",
    "Vincent Gousy-Leblanc\n",
    "\n",
    "Basic Python Programming, WS 2024/25\n",
    "With the help of Dr M.Wolf"
   ]
  },
  {
   "cell_type": "markdown",
   "metadata": {
    "slideshow": {
     "slide_type": "slide"
    }
   },
   "source": [
    "# Learning objectives of this course\n",
    "\n",
    "* Running Python on your computer\n",
    "* Basic knowledge of the Python programming language\n",
    "* Understanding the concepts of sequential and functional programming in Python \n",
    "* Some useful software packages for data processing and plotting"
   ]
  },
  {
   "cell_type": "markdown",
   "metadata": {
    "slideshow": {
     "slide_type": "slide"
    }
   },
   "source": [
    "# Technical Prerequisites Of This Course\n",
    "\n",
    "* Computer with Python and Jupyter Notebook support\n",
    "\n",
    "    - Linux, Windows, Mac\n",
    "    \n",
    "* Alternatively, create and use Jupyter notebooks on google: https://colab.research.google.com\n",
    "\n",
    "* *Microsoft Visual Studio Code* is a integrated developer environment (IDE) supporting Python and Jupyter notebooks as well."
   ]
  },
  {
   "cell_type": "markdown",
   "metadata": {
    "slideshow": {
     "slide_type": "slide"
    }
   },
   "source": [
    "# Why do we need to be able to develop software?"
   ]
  },
  {
   "cell_type": "markdown",
   "metadata": {
    "slideshow": {
     "slide_type": "subslide"
    }
   },
   "source": [
    "* For most of our professional time we work with ...\n",
    "\n",
    "    * data taking\n",
    "    * data simulation\n",
    "    * data management\n",
    "    * data selection\n",
    "    * data analysis\n",
    "    * machine learning\n",
    "    \n",
    "* All of the above needs software that is ...\n",
    "\n",
    "    * efficient\n",
    "    * modular\n",
    "    * well maintainable\n",
    "    * scalable\n",
    "    * understandable "
   ]
  },
  {
   "cell_type": "markdown",
   "metadata": {
    "slideshow": {
     "slide_type": "subslide"
    }
   },
   "source": [
    "**Example: Trigger rate of the IceCube Neutrino Detector at South Pole:**\n",
    "\n",
    "![Trigger rate of the Icecube Neutrino Detector at South Pole](https://github.com/martwo/teaching/raw/master/WS_2022_23/advanced_python/figures/icecube_trigger_rate.png)"
   ]
  },
  {
   "cell_type": "markdown",
   "metadata": {
    "slideshow": {
     "slide_type": "slide"
    }
   },
   "source": [
    "# Overview\n"
   ]
  },
  {
   "cell_type": "markdown",
   "metadata": {
    "slideshow": {
     "slide_type": "subslide"
    }
   },
   "source": [
    "## Intro and course setup\n",
    "* Jupyter Notebook and virtual Python environments on your own computer (useful for compatibility of the different libraries)\n",
    "* Jupyter Notebook on Google Colab\n",
    "\n",
    "## The basics of Python\n",
    "### Today (theory and exercices on)\n",
    "* Data types in Python\n",
    "* Python as a calculator\n",
    "* String formatting\n",
    "* Loops and Conditions\n",
    "* List comprehension\n",
    "* Working with files\n",
    "* Functions\n",
    "* Common pitfalls \n",
    "\n",
    "### Next class\n",
    "* Most common python packages part 1 : numpy and data visualization matplotlib\n",
    "\n",
    "\n",
    "### Last class \n",
    "* Most common python packages part 2: Panda and scipy\n",
    "* Working with version control systems (git)\n",
    "\n"
   ]
  },
  {
   "cell_type": "markdown",
   "metadata": {
    "slideshow": {
     "slide_type": "subslide"
    }
   },
   "source": [
    "## Advanced basics of Python (next class)\n",
    "* Classes\n",
    "* Properties\n",
    "* Class methods\n",
    "* Static methods\n",
    "* Operator methods\n",
    "* Inheritance\n",
    "* Multiple inheritance\n",
    "* Abstract base classes\n",
    "* Iterator protocol\n",
    "* Context Manager\n",
    "* Generators\n"
   ]
  },
  {
   "cell_type": "markdown",
   "metadata": {},
   "source": [
    "## How to run an 'IPython Notebook' on Google colab \n",
    "\n",
    "* In this tutorial, we will use 'IPython notebooks' (\\*.ipynb). They are an easy and modular way to use Python, somewhere in between Python as a scripting language (executing whole files (\\*.py) of code in one go) and as an interactive language (IPython environment). The code is arranged in 'Cells' that can be executed individually.\n",
    "* To run these notebooks, copy them to your own google drive folder and execute them there. You might need to right-click on the file and then choose 'open with ... colaboratory'. Cells of the notebook can be executed with 'shift + enter'.\n",
    "* To create in general the notebook go to https://colab.research.google.com\n",
    "* To install new packages if needed type `!pip install <package>`"
   ]
  },
  {
   "cell_type": "markdown",
   "metadata": {
    "slideshow": {
     "slide_type": "slide"
    }
   },
   "source": [
    "# Jupyter Notebook and virtual Python environments on your own computer"
   ]
  },
  {
   "cell_type": "markdown",
   "metadata": {
    "slideshow": {
     "slide_type": "subslide"
    }
   },
   "source": [
    "This shows the installation of Jupyter and Python virtual environments on Linux (Ubuntu).\n",
    "\n",
    "First, let's install Jupyter via `apt-get`:\n",
    "\n",
    "```bash\n",
    "sudo apt-get install python3-notebook python3-ipykernel\n",
    "```\n",
    "\n",
    "For this course, I recommend to setup a dedicated virtual Python 3 environment:\n",
    "    \n",
    "```bash\n",
    "sudo apt-get install virtualenvwrapper\n",
    "source /usr/share/virtualenvwrapper/virtualenvwrapper.sh\n",
    "```\n",
    "  \n",
    "The environment is created via:\n",
    "  \n",
    "```bash\n",
    "mkvirtualenv -p /usr/bin/python3 --system-site-packages basic-py3-course\n",
    "pip install -U astropy ipympl matplotlib numpy scipy\n",
    "```\n",
    "\n",
    "The final step is to add the virtual Python environment to Jupyter Notebook:\n",
    "\n",
    "```bash\n",
    "python -m ipykernel install --user \\\n",
    "    --name basic-py3-course --display-name \"Python 3 (basic-py3-course)\"\n",
    "```"
   ]
  },
  {
   "cell_type": "markdown",
   "metadata": {
    "slideshow": {
     "slide_type": "subslide"
    }
   },
   "source": [
    "I further recommend to put the\n",
    "\n",
    "```bash\n",
    "source /usr/share/virtualenvwrapper/virtualenvwrapper.sh\n",
    "```\n",
    "\n",
    "line into your `.profile` and launch a new terminal window.\n",
    "\n",
    "You can start a Jupyter Notebook via:\n",
    "\n",
    "```bash\n",
    "jupyter notebook\n",
    "```\n",
    "\n",
    "and create a new `basic-py3-course` notebook.\n",
    "\n",
    "For executing Python scripts, you can activate the `basic-py3-course` environment via:\n",
    "\n",
    "```bash\n",
    "workon basic-py3-course\n",
    "```\n",
    "\n",
    "and deactivate it via:\n",
    "\n",
    "```bash\n",
    "deactivate\n",
    "```"
   ]
  },
  {
   "cell_type": "markdown",
   "metadata": {
    "slideshow": {
     "slide_type": "slide"
    }
   },
   "source": [
    "# The basics of Python"
   ]
  },
  {
   "cell_type": "markdown",
   "metadata": {
    "slideshow": {
     "slide_type": "subslide"
    }
   },
   "source": [
    "\n",
    "\n",
    "\n",
    "Python is a high-level, general-purpose programming language. Its design philosophy emphasizes code readability with the use of significant indentation. Its language constructs and object-oriented approach aim to help programmers write clear, logical code for small- and large-scale projects.\n",
    "\n",
    "Python is dynamically-typed and garbage-collected. It supports multiple programming paradigms, including structured (particularly procedural), object-oriented and functional programming. It is often described as a \"batteries included\" language due to its comprehensive standard library. [https://en.wikipedia.org/wiki/Python_(programming_language)]\n",
    "\n",
    "The latest major version of Python is **Python3**. Don't use Python2 anymore!\n",
    "\n",
    "See also https://book.pythontips.com/en/latest\n",
    "\n",
    "and www.pythonlikeyoumeanit.com\n",
    "## Lots of tutorials!\n",
    "\n",
    "https://www.w3schools.com/python/"
   ]
  },
  {
   "cell_type": "code",
   "execution_count": null,
   "metadata": {},
   "outputs": [],
   "source": [
    "def say_something(text):\n",
    "    print(text)\n",
    "\n",
    "say_something('Hello world!')"
   ]
  },
  {
   "cell_type": "code",
   "execution_count": null,
   "metadata": {
    "slideshow": {
     "slide_type": "subslide"
    }
   },
   "outputs": [],
   "source": [
    "# Comments start with '#'."
   ]
  },
  {
   "cell_type": "code",
   "execution_count": null,
   "metadata": {
    "slideshow": {
     "slide_type": "fragment"
    }
   },
   "outputs": [],
   "source": [
    "# Import modules.\n",
    "import os\n",
    "\n",
    "import matplotlib.pyplot\n",
    "import numpy as np"
   ]
  },
  {
   "cell_type": "code",
   "execution_count": null,
   "metadata": {
    "slideshow": {
     "slide_type": "fragment"
    }
   },
   "outputs": [],
   "source": [
    "# Import only specific functions from a module.\n",
    "from scipy import interpolate, stats"
   ]
  },
  {
   "cell_type": "code",
   "execution_count": null,
   "metadata": {
    "slideshow": {
     "slide_type": "fragment"
    }
   },
   "outputs": [],
   "source": [
    "# Remember: never ever do 'from foo import *'"
   ]
  },
  {
   "cell_type": "code",
   "execution_count": null,
   "metadata": {
    "slideshow": {
     "slide_type": "fragment"
    }
   },
   "outputs": [],
   "source": [
    "# Declare a variable.\n",
    "a = 5.\n",
    "a = \"Hello World!\""
   ]
  },
  {
   "cell_type": "code",
   "execution_count": null,
   "metadata": {},
   "outputs": [],
   "source": []
  },
  {
   "cell_type": "markdown",
   "metadata": {
    "slideshow": {
     "slide_type": "slide"
    }
   },
   "source": [
    "## Data types and operators"
   ]
  },
  {
   "cell_type": "markdown",
   "metadata": {
    "slideshow": {
     "slide_type": "subslide"
    }
   },
   "source": [
    "* Numeric types:  \n",
    "  `int, float, complex`\n",
    "* Sequence types:  \n",
    "  `str, unicode, list, tuple, bytearray, buffer`\n",
    "* Set types:  \n",
    "  `set, frozenset`\n",
    "* Map types:  \n",
    "  `dict`\n",
    "* Boolean types:\n",
    "  `bool`\n",
    "* The None type object: `None`\n",
    "* Mutable data types like `list` and `dict` are copied by reference.\n",
    "* Immutable data types like `int` and `float` are copied by value.\n",
    "* Full list:  \n",
    "  <https://docs.python.org/3.7/library/stdtypes.html#>"
   ]
  },
  {
   "cell_type": "code",
   "execution_count": null,
   "metadata": {},
   "outputs": [],
   "source": [
    "# numbers\n",
    "a = 5 # integer\n",
    "b = 2.3 # floating point number (float)\n",
    "c = -1.1E-2 # also a float, but in scientific notation\n",
    "print(a, type(a))\n",
    "print(b, type(b))\n",
    "print(c, type(c))\n",
    "\n",
    "# type casting\n",
    "d = a * c\n",
    "print(d, type(d)) # be aware of machine precision when using floats!\n",
    "\n",
    "# addition\n",
    "d = a + c\n",
    "print(d, type(d))\n",
    "# addition in-place\n",
    "b += 2.1\n",
    "print(b, type(b)) \n",
    "\n",
    "d = a / b # normal division\n",
    "print(d, type(d))\n",
    "\n",
    "# integer speciality\n",
    "d = a // 2 # integer division\n",
    "print(d, type(d))\n",
    "\n",
    "d = a % 2 # remainder of integer division (modulo)\n",
    "print(d, type(d))"
   ]
  },
  {
   "cell_type": "code",
   "execution_count": null,
   "metadata": {},
   "outputs": [],
   "source": [
    "# strings\n",
    "a = \"alice\"\n",
    "b = \"bob\"\n",
    "print(a, b)\n",
    "\n",
    "# add\n",
    "print(a + b, \"-\".join([a, b]))\n",
    "\n",
    "# slicing\n",
    "print(a[:3], a[3:], a[1:3])\n",
    "\n",
    "# formatting\n",
    "age = 28.2345609\n",
    "print(a, \"is {:1.2f} years old\".format(age))\n",
    "print(a, \"is {:1.0f} years old\".format(age))\n",
    "print(a, f\"is {age:1.3e} years old\")"
   ]
  },
  {
   "cell_type": "code",
   "execution_count": null,
   "metadata": {},
   "outputs": [],
   "source": [
    "# bools \n",
    "a = True\n",
    "b = False\n",
    "print(a, b)\n",
    "print(type(a), type(b))"
   ]
  },
  {
   "cell_type": "markdown",
   "metadata": {},
   "source": [
    "## Sequences"
   ]
  },
  {
   "cell_type": "markdown",
   "metadata": {},
   "source": [
    "### lists - mutable"
   ]
  },
  {
   "cell_type": "code",
   "execution_count": null,
   "metadata": {},
   "outputs": [],
   "source": [
    "# lists\n",
    "a = [1, 2.3, -1E3]\n",
    "b = [-2.2, 3, 0.1, \"c\"]\n",
    "print(a, b)\n",
    "\n",
    "# add\n",
    "c = a + b\n",
    "print(c)\n",
    "\n",
    "# accessing items\n",
    "print(c[0])\n",
    "\n",
    "# re-setting items\n",
    "print(c[2])\n",
    "c[2] = \"neu\"\n",
    "print(c[2])\n",
    "\n",
    "# slicing\n",
    "print(c[2:5])\n",
    "\n",
    "# length\n",
    "print(len(c))\n",
    "\n",
    "# range\n",
    "print(list(range(3)))\n",
    "\n",
    "# append & extend\n",
    "c.append(1)\n",
    "print(c)\n",
    "c.append([2, \"blob\"])\n",
    "print(c)\n",
    "c.extend([\"a\", \"c\"])\n",
    "print(c)\n",
    "\n",
    "# removing ('popping') an item using its index\n",
    "new = c.pop(5)\n",
    "print(new)\n",
    "print(c)\n"
   ]
  },
  {
   "cell_type": "code",
   "execution_count": null,
   "metadata": {},
   "outputs": [],
   "source": [
    "# catching exceptions\n",
    "a = 2\n",
    "b = [\"uu\", 3.2]\n",
    "\n",
    "try:\n",
    "    b.extend(a)\n",
    "except TypeError as e:\n",
    "    b.append(a)\n",
    "    print(e)\n",
    "    print(\"...but I was able to do it another way!\")\n",
    "print(b)"
   ]
  },
  {
   "cell_type": "markdown",
   "metadata": {},
   "source": [
    "### tuples and strings - immutable"
   ]
  },
  {
   "cell_type": "code",
   "execution_count": null,
   "metadata": {},
   "outputs": [],
   "source": [
    "a = (1, 2, 2.3, \"test\")\n",
    "print(a[2])\n",
    "a[2] = \"new\""
   ]
  },
  {
   "cell_type": "markdown",
   "metadata": {},
   "source": [
    "s = \"This is a string\"\n",
    "print(s[3:8])\n",
    "s[2] = \"x\""
   ]
  },
  {
   "cell_type": "markdown",
   "metadata": {},
   "source": [
    "### dictionaries - mutable mapping"
   ]
  },
  {
   "cell_type": "code",
   "execution_count": null,
   "metadata": {},
   "outputs": [],
   "source": [
    "# dictionaries consist of a key and value pair\n",
    "a = {\"a\": 27, \"key\": 2.22, 2: \"int as key\"}\n",
    "print(a)\n",
    "print(a[\"a\"], a[2])\n",
    "print(a.keys())\n",
    "print(a.values())\n",
    "\n",
    "# append a new dict\n",
    "a.update({\"new key\": (1, 2, 3), \"test\": \"test\"})\n",
    "print(a)\n",
    "\n",
    "# pop & get\n",
    "b = a.pop(\"a\")\n",
    "print(b) # b contains the value\n",
    "print(a) # key & value are removed from a\n",
    "\n",
    "b = a.get(\"key\")\n",
    "print(b) # b contains value\n",
    "print(a) # key & value are still there\n",
    "\n",
    "b = a.get(\"a\", \"default value\") # \"a\" is already gone??\n",
    "print(b) # ... so the default value appears\n"
   ]
  },
  {
   "cell_type": "code",
   "execution_count": null,
   "metadata": {},
   "outputs": [],
   "source": [
    "a[\"a\"] # doesn't work anymore"
   ]
  },
  {
   "cell_type": "code",
   "execution_count": null,
   "metadata": {},
   "outputs": [],
   "source": [
    "print(a[\"2\"]) # use the right type"
   ]
  },
  {
   "cell_type": "markdown",
   "metadata": {},
   "source": [
    "## mutable vs. immutable"
   ]
  },
  {
   "cell_type": "code",
   "execution_count": null,
   "metadata": {},
   "outputs": [],
   "source": [
    "a = [2, 4, 5] # list - mutable\n",
    "print(a, id(a))\n",
    "id_a = id(a)\n",
    "\n",
    "b = a\n",
    "a.append(7)\n",
    "print(a, b)\n",
    "print(id(a) == id(b)) # they are the same object!\n",
    "print(id(a) == id_a) # a is still the same object!\n",
    "\n",
    "b.pop(2)\n",
    "print(a, b)"
   ]
  },
  {
   "cell_type": "code",
   "execution_count": null,
   "metadata": {},
   "outputs": [],
   "source": [
    "a = (2, 4, 5) # tuple - immutable\n",
    "print(a, id(a))\n",
    "id_a = id(a)\n",
    "b = a\n",
    "print(id(a) == id(b)) # they are the same object\n",
    "a += (1, )\n",
    "print(a, id(a) == id_a) # we've created a new object here\n",
    "print(b, id(a) == id(b)) # they are not! the same object anymore"
   ]
  },
  {
   "cell_type": "markdown",
   "metadata": {},
   "source": [
    "## Operators"
   ]
  },
  {
   "cell_type": "code",
   "execution_count": null,
   "metadata": {},
   "outputs": [],
   "source": [
    "# operators\n",
    "a = 3\n",
    "b = 4\n",
    "# unary - negative\n",
    "print(-a)\n",
    "\n",
    "# relational\n",
    "print(a==b) # equal\n",
    "print(a!=b) # not equal\n",
    "print(a>b) # greater than\n",
    "print(a<b) # lesser than\n",
    "print(a>=b) # greater or equal than"
   ]
  },
  {
   "cell_type": "code",
   "execution_count": null,
   "metadata": {},
   "outputs": [],
   "source": [
    "# logic\n",
    "a = 3\n",
    "b = 4\n",
    "# logical and\n",
    "print((a==b) & (a>=b))\n",
    "print((a==b) and (a>=b))\n",
    "\n",
    "# logical or\n",
    "print((a>b) | (a!=b))\n",
    "print((a>b) or (a!=b))"
   ]
  },
  {
   "cell_type": "code",
   "execution_count": null,
   "metadata": {},
   "outputs": [],
   "source": [
    "# math\n",
    "print(a+b)\n",
    "print(a-b)\n",
    "print(b/a)\n",
    "print(b//a) # floor division\n",
    "print(a%b) # modulo\n",
    "print(a*b)\n",
    "print(b**a) # power"
   ]
  },
  {
   "cell_type": "code",
   "execution_count": null,
   "metadata": {
    "slideshow": {
     "slide_type": "fragment"
    }
   },
   "outputs": [],
   "source": [
    "# Call mathematical functions like sin, exp, log, ...\n",
    "# Instead of NumPy, you can also use the 'math' module.\n",
    "print(\"exp(2.5)   =\", np.exp(2.5))\n",
    "print(\"sin(pi/2.) =\", np.sin(np.pi/2.))"
   ]
  },
  {
   "cell_type": "markdown",
   "metadata": {
    "slideshow": {
     "slide_type": "slide"
    }
   },
   "source": [
    "## String formatting"
   ]
  },
  {
   "cell_type": "markdown",
   "metadata": {
    "slideshow": {
     "slide_type": "subslide"
    }
   },
   "source": [
    "General form:\n",
    "\n",
    "```\n",
    "[fill][align][sign][#][0][width][,][.precision][type]\n",
    "```\n",
    "\n",
    "See:  \n",
    "<https://docs.python.org/3/library/string.html#format-string-syntax>"
   ]
  },
  {
   "cell_type": "code",
   "execution_count": null,
   "metadata": {
    "slideshow": {
     "slide_type": "fragment"
    }
   },
   "outputs": [],
   "source": [
    "# Some examples\n",
    "import numpy as np\n",
    "print(\"{:>+10.2f}\".format(np.pi))\n",
    "print(\"{:010d}\".format(3))"
   ]
  },
  {
   "cell_type": "code",
   "execution_count": null,
   "metadata": {
    "slideshow": {
     "slide_type": "fragment"
    }
   },
   "outputs": [],
   "source": [
    "# Some more examples\n",
    "s = \"{0}, {1[0]}, {1[1]}, {2[a]}\"\n",
    "print(s.format(0, [1, 2], {\"a\": 3}))\n",
    "print(\"{key}\".format(key=4))"
   ]
  },
  {
   "cell_type": "markdown",
   "metadata": {
    "slideshow": {
     "slide_type": "subslide"
    }
   },
   "source": [
    "F-string (formatted string literal) introduced in Python 3.6 supports the same string formatting form as `.format()`.\n",
    "They can embed Python expressions directly inside them using `f\"string example {expression:format}\"` syntax."
   ]
  },
  {
   "cell_type": "code",
   "execution_count": null,
   "metadata": {
    "slideshow": {
     "slide_type": "fragment"
    }
   },
   "outputs": [],
   "source": [
    "# f-string examples\n",
    "a = 10.5\n",
    "print(f\"a = {a}\")\n",
    "print(f\"a = {a:.0f}\")\n",
    "print(f\"Evaluate some code: {5*5:.2f}\")\n",
    "print(f\"Evaluate some more code: {np.sqrt(9):.0f}\")"
   ]
  },
  {
   "cell_type": "markdown",
   "metadata": {
    "slideshow": {
     "slide_type": "slide"
    }
   },
   "source": [
    "## Loops and Conditions\n",
    "Conditional blocks, loops, functions, and classes are structured by indentations (usually 'tab' or 4 spaces). Most code editors do that themselves. In general, code after a ':' needs to be indented."
   ]
  },
  {
   "cell_type": "code",
   "execution_count": null,
   "metadata": {
    "slideshow": {
     "slide_type": "subslide"
    }
   },
   "outputs": [],
   "source": [
    "a = 3\n",
    "b = 4\n",
    "if a<b:\n",
    "    print(\"a is smaller than b\")\n",
    "elif a==b:\n",
    "    print(\"a is equal to b\")\n",
    "else:\n",
    "    print(\"a is larger than b\")\n",
    "\n",
    "a = 3\n",
    "b = 3.0\n",
    "if a<b:\n",
    "    print(\"a is smaller than b\")\n",
    "elif a==b:\n",
    "    print(\"a is equal to b\")\n",
    "else:\n",
    "    print(\"a is larger than b\")"
   ]
  },
  {
   "cell_type": "code",
   "execution_count": null,
   "metadata": {
    "slideshow": {
     "slide_type": "fragment"
    }
   },
   "outputs": [],
   "source": [
    "s = \"Hello!\"\n",
    "sub_s = \"ell\"\n",
    "if \"e\" in s:\n",
    "    print(f\"There is an 'e' in {s}\")\n",
    "\n",
    "if sub_s in s:\n",
    "    print(f\"There is an '{sub_s}' in {s}\")\n",
    "    "
   ]
  },
  {
   "cell_type": "markdown",
   "metadata": {},
   "source": [
    "# while loop"
   ]
  },
  {
   "cell_type": "code",
   "execution_count": null,
   "metadata": {},
   "outputs": [],
   "source": [
    "a = 3\n",
    "b = 5\n",
    "# make sure to actually increase a\n",
    "# otherwise you'll get an endless loop\n",
    "while a < 25:\n",
    "    if a<b:\n",
    "        print(f\"{a} is smaller than {b}\")\n",
    "        a += 1\n",
    "    elif a==b:\n",
    "        print(f\"{a} is equal to {b}\")\n",
    "        a += 3\n",
    "    else:\n",
    "        print(f\"{a} is larger than {b}\")\n",
    "        a *= 1.7"
   ]
  },
  {
   "cell_type": "markdown",
   "metadata": {},
   "source": [
    "# for loop\n"
   ]
  },
  {
   "cell_type": "code",
   "execution_count": null,
   "metadata": {},
   "outputs": [],
   "source": [
    "sum = 0\n",
    "for num in [2, 4, 5]:\n",
    "    print(num)\n",
    "    sum += num\n",
    "    print(sum)\n",
    "print(\"final result:\", sum)"
   ]
  },
  {
   "cell_type": "code",
   "execution_count": null,
   "metadata": {},
   "outputs": [],
   "source": [
    "sum = 0\n",
    "for index, num in enumerate([2, 4, 5]):\n",
    "    sum += num\n",
    "    print(f\"in the {index}th iteration, the sum is\", sum)"
   ]
  },
  {
   "cell_type": "code",
   "execution_count": null,
   "metadata": {},
   "outputs": [],
   "source": [
    "dct = {\"a\": 2, \"bc\": 2.8, \"test\": -0.1}\n",
    "for key in dct: # iterate over dict keys\n",
    "    print(key, dct[key])"
   ]
  },
  {
   "cell_type": "markdown",
   "metadata": {
    "slideshow": {
     "slide_type": "fragment"
    }
   },
   "source": [
    "* You can break out of a loop via `break`.\n",
    "* Iterations can be skipped via `continue`.\n",
    "* Remember that Python does not really know about scopes."
   ]
  },
  {
   "cell_type": "code",
   "execution_count": null,
   "metadata": {
    "slideshow": {
     "slide_type": "fragment"
    }
   },
   "outputs": [],
   "source": [
    "for i in range(0,10):\n",
    "    if i == 0:\n",
    "        break\n",
    "else:\n",
    "    print('No 0 found!')"
   ]
  },
  {
   "cell_type": "markdown",
   "metadata": {
    "slideshow": {
     "slide_type": "subslide"
    }
   },
   "source": [
    "## List comprehension"
   ]
  },
  {
   "cell_type": "markdown",
   "metadata": {
    "slideshow": {
     "slide_type": "subslide"
    }
   },
   "source": [
    "An easy way to create iterables from existing ones."
   ]
  },
  {
   "cell_type": "code",
   "execution_count": null,
   "metadata": {
    "slideshow": {
     "slide_type": "fragment"
    }
   },
   "outputs": [],
   "source": [
    "# List comprehension examples\n",
    "l = [i**2 for i in range(10)]\n",
    "print(l)\n",
    "l = [10. / i for i in range(10) if i > 2]\n",
    "print(l)"
   ]
  },
  {
   "cell_type": "code",
   "execution_count": null,
   "metadata": {
    "slideshow": {
     "slide_type": "fragment"
    }
   },
   "outputs": [],
   "source": [
    "# The same works for dictionaries.\n",
    "d = {\"a\": 2., \"b\": 3.}\n",
    "d = {k: v**2 for k, v in d.items()}"
   ]
  },
  {
   "cell_type": "markdown",
   "metadata": {
    "slideshow": {
     "slide_type": "slide"
    }
   },
   "source": [
    "## Working with files"
   ]
  },
  {
   "cell_type": "code",
   "execution_count": null,
   "metadata": {
    "slideshow": {
     "slide_type": "subslide"
    }
   },
   "outputs": [],
   "source": [
    "# Create a text file and give it some input.\n",
    "with open(\"example.txt\", \"w\") as stream:\n",
    "    stream.write(\"This is a line.\\n\")\n",
    "    stream.write(\"This is another line.\")"
   ]
  },
  {
   "cell_type": "code",
   "execution_count": null,
   "metadata": {
    "slideshow": {
     "slide_type": "fragment"
    }
   },
   "outputs": [],
   "source": [
    "# Read the content of the text file.\n",
    "with open(\"example.txt\", \"r\") as stream:\n",
    "    lines = stream.readlines()\n",
    "\n",
    "print(\"\".join(lines))"
   ]
  },
  {
   "cell_type": "code",
   "execution_count": null,
   "metadata": {
    "slideshow": {
     "slide_type": "skip"
    }
   },
   "outputs": [],
   "source": [
    "os.remove(\"example.txt\")"
   ]
  },
  {
   "cell_type": "markdown",
   "metadata": {
    "slideshow": {
     "slide_type": "slide"
    }
   },
   "source": [
    "## Functions"
   ]
  },
  {
   "cell_type": "code",
   "execution_count": null,
   "metadata": {},
   "outputs": [],
   "source": [
    "# Basic definition\n",
    "def func(*args, **kwargs):\n",
    "    print(f'args: {args}')\n",
    "    print(f'kwargs: {kwargs}')\n",
    "    \n",
    "def name_of_the_function(\n",
    "    parameter_1, # mandatory parameter\n",
    "    parameter_2, # mandatory parameter\n",
    "    default_1=3, # optional parameter\n",
    "    default_2=\"test\", # optional parameter\n",
    "):\n",
    "    \"\"\" Explain here what your function does. \n",
    "    This is called a 'doc string'. With three quotes,\n",
    "    it can run over multiple lines and it is not executed. \n",
    "\n",
    "    This code calculates the quotient of parameter_1 & 2, times\n",
    "    parameter default_1. In addition, it prints default_2.\n",
    "    \n",
    "    Parameters:\n",
    "    -----------\n",
    "    parameter_1 : number\n",
    "        numerator of the division\n",
    "    parameter_2 : number\n",
    "        denomination of the division\n",
    "\n",
    "    Optional Parameters:\n",
    "    --------------------\n",
    "    default_1: int\n",
    "        default: 3, factor of the multiplication\n",
    "    default_2: str\n",
    "        default: 'test', Your favorite word to print in addition to the result\n",
    "\n",
    "    Returns:\n",
    "    --------\n",
    "    default_2 * default_1: str\n",
    "        Your favorite word repeated 'default_1' times\n",
    "    calculation: number\n",
    "        Result of the calculation\n",
    "    \"\"\"\n",
    "    \n",
    "    calculation = (parameter_1 / parameter_2) * default_1\n",
    "    print(f\"The result of the calculation is approx. {calculation:1.3f}.\")\n",
    "    print(\"Also, you wanted me to print this here:\", default_2)\n",
    "\n",
    "    # now we also want to return something from this function\n",
    "    # you can return one or multiple objects\n",
    "\n",
    "    # I don't trust the user of the function, \n",
    "    # so I force default_1 into an int type\n",
    "    return default_2 * int(default_1), calculation"
   ]
  },
  {
   "cell_type": "code",
   "execution_count": null,
   "metadata": {},
   "outputs": [],
   "source": [
    "# now we test this super random function\n",
    "return_value_1, return_value_2 = name_of_the_function(\n",
    "    5, 2, default_2=\"Test!\") # we don't need to set default_1\n",
    "print(return_value_1, return_value_2)"
   ]
  },
  {
   "cell_type": "markdown",
   "metadata": {},
   "source": [
    "help(name_of_the_function)"
   ]
  },
  {
   "cell_type": "code",
   "execution_count": null,
   "metadata": {
    "slideshow": {
     "slide_type": "subslide"
    }
   },
   "outputs": [],
   "source": [
    "# Alternative ways to call the function\n",
    "results = [\n",
    "    name_of_the_function(5., 2.),\n",
    "    name_of_the_function(\n",
    "    parameter_1=5, parameter_2=2, default_2=\"Test!\"),\n",
    "    name_of_the_function(parameter_1=5, parameter_2=2,default_1=1, default_2=\"Test5\")\n",
    "]\n",
    "print(results)"
   ]
  },
  {
   "cell_type": "markdown",
   "metadata": {
    "slideshow": {
     "slide_type": "subslide"
    }
   },
   "source": [
    "A few words about doc strings:\n",
    "\n",
    "* **Do write** them because they help to better understand your code.\n",
    "* We recommend the NumPy style:  \n",
    "  <https://sphinxcontrib-napoleon.readthedocs.io/en/latest/example_numpy.html>"
   ]
  },
  {
   "cell_type": "markdown",
   "metadata": {},
   "source": [
    "End of the first day "
   ]
  },
  {
   "cell_type": "code",
   "execution_count": null,
   "metadata": {},
   "outputs": [],
   "source": []
  },
  {
   "cell_type": "code",
   "execution_count": null,
   "metadata": {},
   "outputs": [],
   "source": []
  },
  {
   "cell_type": "markdown",
   "metadata": {},
   "source": [
    "# Lecture day 2\n",
    "\n",
    "## Most common python packages part 1:\n",
    "- numeric computations with `numpy`\n",
    "- data visualization with `matplotlib`\n"
   ]
  },
  {
   "cell_type": "markdown",
   "metadata": {
    "slideshow": {
     "slide_type": "slide"
    }
   },
   "source": [
    "# NumPy"
   ]
  },
  {
   "cell_type": "markdown",
   "metadata": {},
   "source": [
    "From the [NumPy webpage](http://www.numpy.org/):\n",
    "\n",
    "> NumPy is the fundamental package for scientific computing with Python.\n",
    "> It contains among other things:\n",
    ">\n",
    "> * a powerful N-dimensional array object\n",
    "> * sophisticated (broadcasting) functions\n",
    "> * tools for integrating C/C++ and Fortran code\n",
    "> * useful linear algebra, Fourier transform, and random number capabilities\n",
    ">\n",
    "> Besides its obvious scientific uses, NumPy can also be used as an efficient\n",
    "> multi-dimensional container of generic data. Arbitrary data-types can be defined.\n",
    "> This allows NumPy to seamlessly and speedily integrate with a wide variety of databases.\n",
    "\n",
    "NumPy tutorial (pay special attention to the section about broadcasting rules):  \n",
    "<https://numpy.org/doc/stable/user/quickstart.html>"
   ]
  },
  {
   "cell_type": "markdown",
   "metadata": {
    "slideshow": {
     "slide_type": "subslide"
    }
   },
   "source": [
    "## Importing numpy"
   ]
  },
  {
   "cell_type": "code",
   "execution_count": 1,
   "metadata": {},
   "outputs": [],
   "source": [
    "import numpy as np # numpy is usually imported as 'np'"
   ]
  },
  {
   "cell_type": "markdown",
   "metadata": {
    "slideshow": {
     "slide_type": "subslide"
    }
   },
   "source": [
    "## Creating numpy arrays\n",
    "\n",
    "Numpy arrays can be created from any iterable via the ``numpy.array()`` function:"
   ]
  },
  {
   "cell_type": "code",
   "execution_count": 2,
   "metadata": {},
   "outputs": [
    {
     "name": "stdout",
     "output_type": "stream",
     "text": [
      "[1, 2, 5, 3, 7, 10, 1, 2, 5, 3, 7, 10, 1, 2, 5, 3, 7, 10]\n",
      "[ 3  6 15  9 21 30]\n"
     ]
    }
   ],
   "source": [
    "a_list = [1, 2, 5, 3, 7, 10]  # A python list.\n",
    "\n",
    "arr = np.array(a_list)  # Instantiation of the numpy.ndarray class.\n",
    "print(a_list*3)  # Repeat list 3 times.\n",
    "print(arr*3)  # Multiply every array item with 3."
   ]
  },
  {
   "cell_type": "markdown",
   "metadata": {},
   "source": [
    "### The main argument for using numpy\n",
    "\n",
    "It's fast, because its functions are implemented in a very efficient way\n",
    "\n",
    "**Use numpy functions wherever you can, instead of lists & loops!**\n",
    "\n",
    "It provides vectorized functions on data elements, allowing you to avoid slow loop iterations\n"
   ]
  },
  {
   "cell_type": "code",
   "execution_count": 3,
   "metadata": {},
   "outputs": [
    {
     "name": "stdout",
     "output_type": "stream",
     "text": [
      "a=1, b=4\n",
      "\n",
      "a=2, b=5\n",
      "\n",
      "a=3, b=6\n",
      "\n",
      "--------------------\n",
      "a=(1, 4)\n",
      "\n",
      "a=(2, 5)\n",
      "\n",
      "a=(3, 6)\n",
      "\n"
     ]
    }
   ],
   "source": [
    "# Short description of `zip` function:\n",
    "# It takes two or more iterables and returns an iterator that aggregates elements from each iterable.\n",
    "# It stops when the shortest input iterable is exhausted.\n",
    "\n",
    "a_list = [1, 2, 3]\n",
    "b_list = [4, 5, 6]\n",
    "\n",
    "for a, b in zip(a_list, b_list):\n",
    "    print(f\"{a=}, {b=}\")\n",
    "    print()\n",
    "\n",
    "print(\"-\"*20)\n",
    "\n",
    "for a in zip(a_list, b_list):\n",
    "    print(f\"a={a}\") # equivalent to f\"{a=}\"\n",
    "    print()"
   ]
  },
  {
   "cell_type": "code",
   "execution_count": 4,
   "metadata": {},
   "outputs": [],
   "source": [
    "def list_add(list_1, list_2):\n",
    "    list_3 = []\n",
    "    for l1, l2 in zip(list_1, list_2):\n",
    "        list_3.append(l1 + l2)\n",
    "    return list_3"
   ]
  },
  {
   "cell_type": "code",
   "execution_count": 5,
   "metadata": {},
   "outputs": [],
   "source": [
    "a = list(range(5000))\n",
    "b = list(range(1, 5001))"
   ]
  },
  {
   "cell_type": "code",
   "execution_count": 6,
   "metadata": {},
   "outputs": [
    {
     "name": "stdout",
     "output_type": "stream",
     "text": [
      "150 μs ± 2.61 μs per loop (mean ± std. dev. of 7 runs, 10,000 loops each)\n"
     ]
    }
   ],
   "source": [
    "%%timeit\n",
    "list_add(a, b)"
   ]
  },
  {
   "cell_type": "code",
   "execution_count": 7,
   "metadata": {},
   "outputs": [],
   "source": [
    "#can use also list comprehension to speed up the process \n",
    "def list_add_comp(list_1, list_2):\n",
    "\n",
    "    list_3 = [l1 + l2 for l1, l2 in zip(list_1, list_2)]\n",
    "\n",
    "    return list_3\n",
    "\n",
    "# Note that you should try to avoid modyfing the input arguments in functions!\n",
    "# Otherwise, you might get unexpected results."
   ]
  },
  {
   "cell_type": "code",
   "execution_count": 8,
   "metadata": {},
   "outputs": [
    {
     "name": "stdout",
     "output_type": "stream",
     "text": [
      "137 μs ± 5.13 μs per loop (mean ± std. dev. of 7 runs, 10,000 loops each)\n"
     ]
    }
   ],
   "source": [
    "%%timeit\n",
    "list_add_comp(a, b)"
   ]
  },
  {
   "cell_type": "code",
   "execution_count": 9,
   "metadata": {},
   "outputs": [],
   "source": [
    "a = np.arange(5000)\n",
    "b = np.arange(1, 5001)"
   ]
  },
  {
   "cell_type": "code",
   "execution_count": 10,
   "metadata": {},
   "outputs": [
    {
     "name": "stdout",
     "output_type": "stream",
     "text": [
      "987 ns ± 11.6 ns per loop (mean ± std. dev. of 7 runs, 1,000,000 loops each)\n"
     ]
    }
   ],
   "source": [
    "%%timeit\n",
    "a + b"
   ]
  },
  {
   "cell_type": "markdown",
   "metadata": {},
   "source": [
    "### lots of useful functions"
   ]
  },
  {
   "cell_type": "code",
   "execution_count": 11,
   "metadata": {},
   "outputs": [
    {
     "name": "stdout",
     "output_type": "stream",
     "text": [
      "[1 1 2]\n",
      "int64\n"
     ]
    }
   ],
   "source": [
    "# type casting: all items in an array must have the same type!\n",
    "# you can pre-define the type when instanciating the array\n",
    "a_list = [1, 1.9, 2.3]\n",
    "a = np.array(a_list, dtype=int)\n",
    "print(a) # the floats were 'cut off' to int precision\n",
    "# you can access the array's type:\n",
    "print(a.dtype)"
   ]
  },
  {
   "cell_type": "code",
   "execution_count": 12,
   "metadata": {},
   "outputs": [
    {
     "name": "stdout",
     "output_type": "stream",
     "text": [
      "[1.  1.9 2.3] float64\n"
     ]
    }
   ],
   "source": [
    "# if you don't give a type, it will be casted besed on the items type\n",
    "a = np.array(a_list)\n",
    "print(a, a.dtype)"
   ]
  },
  {
   "cell_type": "code",
   "execution_count": 13,
   "metadata": {},
   "outputs": [
    {
     "name": "stdout",
     "output_type": "stream",
     "text": [
      "2\n",
      "5\n"
     ]
    }
   ],
   "source": [
    "# Creating 1D and 2D arrays\n",
    "# arrays can have as many dimensions as you like!\n",
    "# (lists can do that, too. but it tends to get messy)\n",
    "\n",
    "a = np.array([[1, 2, 3], [4, 5, 6]])\n",
    "b = np.array([4, 5, 6])\n",
    "print(a[0][1])\n",
    "print(b[1])"
   ]
  },
  {
   "cell_type": "code",
   "execution_count": 14,
   "metadata": {},
   "outputs": [
    {
     "name": "stdout",
     "output_type": "stream",
     "text": [
      "(2, 3) (3,)\n",
      "2 1\n"
     ]
    }
   ],
   "source": [
    "# you can access a couple of important properties like this:\n",
    "print(a.shape, b.shape)\n",
    "print(a.ndim, b.ndim)"
   ]
  },
  {
   "cell_type": "code",
   "execution_count": 15,
   "metadata": {},
   "outputs": [
    {
     "name": "stdout",
     "output_type": "stream",
     "text": [
      "[4 5 6]\n",
      "[[ 4 10 18]\n",
      " [16 25 36]]\n",
      "[16 25 36]\n",
      "[1 2 3]\n"
     ]
    }
   ],
   "source": [
    "# you can call all kinds of basic mathematical operations on arrays\n",
    "# they are executed element-wise\n",
    "print(b)\n",
    "print(a*b)# normal multiplication is commutative! it's not implemented as matrix multiplication\n",
    "print(b ** 2)\n",
    "print(b - 3)"
   ]
  },
  {
   "cell_type": "code",
   "execution_count": 16,
   "metadata": {},
   "outputs": [
    {
     "name": "stdout",
     "output_type": "stream",
     "text": [
      "[[18 21]\n",
      " [51 60]]\n",
      "[[24 33]\n",
      " [39 54]]\n"
     ]
    }
   ],
   "source": [
    "a = np.array([[1, 2], [4, 5]])\n",
    "b = np.array([[4, 5], [7, 8]])\n",
    "print(a @ b) # this is the equivalent of matrix multiplication\n",
    "print(b @ a) # which is NOT commutating"
   ]
  },
  {
   "cell_type": "code",
   "execution_count": 17,
   "metadata": {},
   "outputs": [
    {
     "name": "stdout",
     "output_type": "stream",
     "text": [
      "[ 0  1  2  3  4  5  6  7  8  9 10 11 12 13 14 15 16 17 18 19]\n",
      "\n",
      "[[ 0  1  2  3]\n",
      " [ 4  5  6  7]\n",
      " [ 8  9 10 11]\n",
      " [12 13 14 15]\n",
      " [16 17 18 19]]\n",
      "\n",
      "[[ 0  1  2  3  4  5  6  7  8  9]\n",
      " [10 11 12 13 14 15 16 17 18 19]]\n",
      "[ 0  1  2  3  4  5  6  7  8  9 10 11 12 13 14 15 16 17 18 19]\n"
     ]
    }
   ],
   "source": [
    "a = np.arange(20) # built-in range function\n",
    "# similar behavior as range(20)! \n",
    "# but it returns an array instead of an iterable\n",
    "print(a)\n",
    "print()\n",
    "# reshape the array into a 2D form\n",
    "a = a.reshape((5, 4))\n",
    "print(a)\n",
    "print()\n",
    "# reshape into a different 2D form\n",
    "a = a.reshape((2, 10))\n",
    "print(a)\n",
    "\n",
    "### ... and back to 1D:\n",
    "print(a.flatten())\n"
   ]
  },
  {
   "cell_type": "code",
   "execution_count": 18,
   "metadata": {},
   "outputs": [
    {
     "ename": "ValueError",
     "evalue": "cannot reshape array of size 20 into shape (3,3)",
     "output_type": "error",
     "traceback": [
      "\u001b[0;31m---------------------------------------------------------------------------\u001b[0m",
      "\u001b[0;31mValueError\u001b[0m                                Traceback (most recent call last)",
      "Cell \u001b[0;32mIn[18], line 1\u001b[0m\n\u001b[0;32m----> 1\u001b[0m \u001b[38;5;28mprint\u001b[39m(\u001b[43ma\u001b[49m\u001b[38;5;241;43m.\u001b[39;49m\u001b[43mreshape\u001b[49m\u001b[43m(\u001b[49m\u001b[43m(\u001b[49m\u001b[38;5;241;43m3\u001b[39;49m\u001b[43m,\u001b[49m\u001b[43m \u001b[49m\u001b[38;5;241;43m3\u001b[39;49m\u001b[43m)\u001b[49m\u001b[43m)\u001b[49m) \u001b[38;5;66;03m# wrong shape doesn't work, unsurprisingly\u001b[39;00m\n",
      "\u001b[0;31mValueError\u001b[0m: cannot reshape array of size 20 into shape (3,3)"
     ]
    }
   ],
   "source": [
    "print(a.reshape((3, 3))) # wrong shape doesn't work, unsurprisingly"
   ]
  },
  {
   "cell_type": "code",
   "execution_count": 21,
   "metadata": {},
   "outputs": [
    {
     "name": "stdout",
     "output_type": "stream",
     "text": [
      "[[1. 1. 1. 1.]\n",
      " [1. 1. 1. 1.]\n",
      " [1. 1. 1. 1.]]\n",
      "[[0. 0. 0. 0.]\n",
      " [0. 0. 0. 0.]\n",
      " [0. 0. 0. 0.]]\n"
     ]
    }
   ],
   "source": [
    "# some default array constructors\n",
    "ones = np.ones((3, 4)) # 1 with given shape\n",
    "zeros = np.zeros_like(ones) # 0 in the same shape as given array\n",
    "print(ones)\n",
    "print(zeros)"
   ]
  },
  {
   "cell_type": "code",
   "execution_count": 22,
   "metadata": {},
   "outputs": [
    {
     "name": "stdout",
     "output_type": "stream",
     "text": [
      "[0 1 2 3 4 5 6 7 8 9]\n",
      "[0.   0.75 1.5  2.25 3.  ]\n",
      "[   1.            5.62341325   31.6227766   177.827941   1000.        ]\n",
      "[0.   0.75 1.5  2.25 3.  ]\n"
     ]
    }
   ],
   "source": [
    "# conventient sequence generators in numpy\n",
    "print(np.arange(10))\n",
    "print(np.linspace(0, 3, 5))\n",
    "print(np.logspace(0, 3, 5))\n",
    "print(np.log10(np.logspace(0, 3, 5)))"
   ]
  },
  {
   "cell_type": "code",
   "execution_count": 23,
   "metadata": {},
   "outputs": [
    {
     "name": "stdout",
     "output_type": "stream",
     "text": [
      "[0 1 2]\n",
      "[0.         0.84147098 0.90929743]\n",
      "[1.         2.71828183 7.3890561 ]\n",
      "[  1  10 100]\n"
     ]
    }
   ],
   "source": [
    "# build-in efficient mathematical functions in numpy\n",
    "rng = np.arange(3)\n",
    "print(rng)\n",
    "print(np.sin(rng))\n",
    "print(np.exp(rng))\n",
    "print(np.power(10, rng))"
   ]
  },
  {
   "cell_type": "code",
   "execution_count": 24,
   "metadata": {},
   "outputs": [
    {
     "name": "stdout",
     "output_type": "stream",
     "text": [
      "[2 9 3 1 2 0 0 6 1 4]\n",
      "[5 6 3 8 0 4 2 9 7 1]\n",
      "[0 0 1 1 2 2 3 4 6 9]\n",
      "[0 0 1 1 2 2 3 4 6 9]\n"
     ]
    }
   ],
   "source": [
    "# sorting\n",
    "randnr = np.random.randint(0, 10, 10) # generate some random integers (see below)\n",
    "order = np.argsort(randnr) # returns the indices for sorted array\n",
    "print(randnr)\n",
    "print(order)\n",
    "print(randnr[order])\n",
    "# ... or directly:\n",
    "print(np.sort(randnr))"
   ]
  },
  {
   "cell_type": "code",
   "execution_count": 45,
   "metadata": {},
   "outputs": [
    {
     "name": "stdout",
     "output_type": "stream",
     "text": [
      "[0 5 2 4 1 7 5 1 4 6] [0.   0.25 0.5  0.75 1.   1.25 1.5  1.75 2.   2.25]\n",
      "\n",
      "[5 7 5 6]\n",
      "[0.   0.25 2.   0.75 1.   1.25 1.5  1.   2.   2.25]\n"
     ]
    }
   ],
   "source": [
    "# data cuts and selection\n",
    "a = np.random.randint(0, 10, 10) #  generate some random integers\n",
    "b = np.arange(10)*1./4\n",
    "print(a, b)\n",
    "print()\n",
    "# simple mask selection\n",
    "print(a[a>4]) # print all elements of a that are larger than 4\n",
    "print(np.where(a<4, a, b)) # give directly an alternative 'b' if condition is not met\n",
    "# the arrays need to have the same length here!"
   ]
  },
  {
   "cell_type": "code",
   "execution_count": 46,
   "metadata": {},
   "outputs": [
    {
     "name": "stdout",
     "output_type": "stream",
     "text": [
      "35\n"
     ]
    }
   ],
   "source": [
    "print(np.sum(a))"
   ]
  },
  {
   "cell_type": "markdown",
   "metadata": {},
   "source": [
    "## Random numbers with numpy\n",
    "\n",
    "numpy has a couple of useful random number functions.\n",
    "See [numpy.org/doc/stable/reference/random/index.html](https://numpy.org/doc/stable/reference/random/index.html) for documentation. More elaborate functions can be found in 'scipy.stats' (see below for examples)"
   ]
  },
  {
   "cell_type": "code",
   "execution_count": 47,
   "metadata": {},
   "outputs": [
    {
     "name": "stdout",
     "output_type": "stream",
     "text": [
      "[6 6 1 2 2 5 2 1 2 3]\n",
      "\n",
      "[12.22365622 19.83040977 18.409862   16.02778053]\n",
      "\n",
      "[[ 2.25087557 10.30982527 11.84346693 -6.12912476]\n",
      " [ 6.44927893 -1.00153906 -2.71117917 11.04553169]\n",
      " [ 5.10376238 -0.32910582  9.33600083  7.41626106]]\n"
     ]
    }
   ],
   "source": [
    "# The `size` parameter is optional and defines the shape of the array.\n",
    "print(np.random.randint(0, 10, size=10)) # random integer\n",
    "print()\n",
    "print(np.random.uniform(low=10, high=20, size=4)) # random uniform numbers\n",
    "print()\n",
    "print(np.random.normal( loc=3, scale=5, size=(3,4))) # random normal numbers"
   ]
  },
  {
   "cell_type": "markdown",
   "metadata": {
    "slideshow": {
     "slide_type": "subslide"
    }
   },
   "source": [
    "## Indexing / Slicing of numpy arrays\n",
    "\n",
    "Elements of a numpy arrays can be accessed via indexing or slicing:"
   ]
  },
  {
   "cell_type": "code",
   "execution_count": 48,
   "metadata": {},
   "outputs": [
    {
     "data": {
      "text/plain": [
       "array([0, 5, 2, 4, 1, 7, 5, 1, 4, 6])"
      ]
     },
     "execution_count": 48,
     "metadata": {},
     "output_type": "execute_result"
    }
   ],
   "source": [
    "a"
   ]
  },
  {
   "cell_type": "code",
   "execution_count": 49,
   "metadata": {},
   "outputs": [
    {
     "name": "stdout",
     "output_type": "stream",
     "text": [
      "0\n"
     ]
    }
   ],
   "source": [
    "# Access by index (indices start with 0!):\n",
    "print(a[0])"
   ]
  },
  {
   "cell_type": "code",
   "execution_count": 50,
   "metadata": {},
   "outputs": [
    {
     "ename": "IndexError",
     "evalue": "too many indices for array: array is 1-dimensional, but 2 were indexed",
     "output_type": "error",
     "traceback": [
      "\u001b[0;31m---------------------------------------------------------------------------\u001b[0m",
      "\u001b[0;31mIndexError\u001b[0m                                Traceback (most recent call last)",
      "Cell \u001b[0;32mIn[50], line 1\u001b[0m\n\u001b[0;32m----> 1\u001b[0m \u001b[38;5;28mprint\u001b[39m(\u001b[43ma\u001b[49m\u001b[43m[\u001b[49m\u001b[38;5;241;43m1\u001b[39;49m\u001b[43m,\u001b[49m\u001b[43m \u001b[49m\u001b[38;5;241;43m2\u001b[39;49m\u001b[43m]\u001b[49m)\n",
      "\u001b[0;31mIndexError\u001b[0m: too many indices for array: array is 1-dimensional, but 2 were indexed"
     ]
    }
   ],
   "source": [
    "print(a[1, 2])"
   ]
  },
  {
   "cell_type": "code",
   "execution_count": 51,
   "metadata": {},
   "outputs": [
    {
     "name": "stdout",
     "output_type": "stream",
     "text": [
      "[[0 5 2 4 1]\n",
      " [7 5 1 4 6]]\n",
      "1\n"
     ]
    }
   ],
   "source": [
    "# Reshape to a 2D array:\n",
    "a = np.reshape(a, (2, 5))\n",
    "\n",
    "print(a)\n",
    "\n",
    "print(a[1, 2])"
   ]
  },
  {
   "cell_type": "code",
   "execution_count": 52,
   "metadata": {},
   "outputs": [
    {
     "name": "stdout",
     "output_type": "stream",
     "text": [
      "[0 1 2 3 4 5 6 7 8 9]\n",
      "[3 4 5 6]\n",
      "[3 5]\n",
      "[7 5]\n"
     ]
    }
   ],
   "source": [
    "# Access by slice: start:end:step:\n",
    "# Note: The start index is included, but the end index is excluded!\n",
    "a = np.arange(0, 10)  # \"shortcut\" of `np.array(range(10))`\n",
    "print(a)\n",
    "print(a[3:7])\n",
    "print(a[3:7:2])\n",
    "# Step can be negative to reverse the slice.\n",
    "print(a[7:3:-2])"
   ]
  },
  {
   "cell_type": "markdown",
   "metadata": {
    "slideshow": {
     "slide_type": "subslide"
    }
   },
   "source": [
    "## Masking of numpy arrays\n",
    "\n",
    "A mask for an array is a boolean array selecting elements of an array."
   ]
  },
  {
   "cell_type": "code",
   "execution_count": 54,
   "metadata": {},
   "outputs": [
    {
     "name": "stdout",
     "output_type": "stream",
     "text": [
      "[0 1 2 3 4]\n",
      "[0 3 4]\n"
     ]
    }
   ],
   "source": [
    "a = np.arange(0, 5)\n",
    "mask = np.array([True, False, False, True, True])\n",
    "print(a)\n",
    "print(a[mask])"
   ]
  },
  {
   "cell_type": "code",
   "execution_count": 57,
   "metadata": {},
   "outputs": [
    {
     "name": "stdout",
     "output_type": "stream",
     "text": [
      "[ True False False  True  True]\n",
      "[0 3 4]\n"
     ]
    }
   ],
   "source": [
    "mask = (a == 0) | (a > 2)\n",
    "print(mask)\n",
    "print(a[mask])"
   ]
  },
  {
   "cell_type": "markdown",
   "metadata": {
    "slideshow": {
     "slide_type": "slide"
    }
   },
   "source": [
    "# Matplotlib"
   ]
  },
  {
   "cell_type": "markdown",
   "metadata": {
    "slideshow": {
     "slide_type": "subslide"
    }
   },
   "source": [
    "From the [Matplotlib webpage](https://matplotlib.org/):\n",
    "\n",
    "> Matplotlib is a Python 2D plotting library which produces publication quality figures\n",
    "> in a variety of hardcopy formats and interactive environments across platforms."
   ]
  },
  {
   "cell_type": "code",
   "execution_count": 58,
   "metadata": {
    "slideshow": {
     "slide_type": "fragment"
    }
   },
   "outputs": [],
   "source": [
    "# Call this magic function in the first line of your Jupyter notebook:\n",
    "#%matplotlib notebook\n",
    "# If that doesn't work, use\n",
    "#%matplotlib widget\n",
    "\n",
    "import matplotlib.pyplot as plt"
   ]
  },
  {
   "cell_type": "code",
   "execution_count": 61,
   "metadata": {
    "slideshow": {
     "slide_type": "subslide"
    }
   },
   "outputs": [
    {
     "data": {
      "image/png": "[encoded data removed]",
      "text/plain": [
       "<Figure size 640x480 with 1 Axes>"
      ]
     },
     "metadata": {},
     "output_type": "display_data"
    }
   ],
   "source": [
    "# Simple x-y plot\n",
    "\n",
    "# generate some data to plot\n",
    "# first, the x coordinates\n",
    "xdata = np.arange(10)\n",
    "\n",
    "# use the random functions to variate the y coordinates a bit\n",
    "ydata_1 = np.arange(10) + np.random.normal(scale=1, size=10)\n",
    "ydata_2 = np.arange(10) + np.random.normal(loc=4, scale=1, size=10)\n",
    "\n",
    "# simple x-y plotting function\n",
    "# we need the x and y value,\n",
    "# and optionally we choose a marker, a linestyle and a label for each graph\n",
    "plt.plot(xdata, ydata_1, marker=\"v\", label=\"First set of data\") # don't forget to label your data!\n",
    "plt.plot(xdata, ydata_2, marker=\"o\", linestyle=\"--\", label=\"Second set of data\")\n",
    "# set axis labels\n",
    "plt.xlabel(\"X data / (some unit)\")\n",
    "plt.ylabel(\"Y data / (another unit)\")\n",
    "# set limits for the x-axis\n",
    "plt.xlim(0, 9)\n",
    "# finally, set a title and plot the legend with the labels you've given the data before\n",
    "plt.title(\"Nice plot\")\n",
    "plt.legend(loc=0, fontsize=\"small\")\n",
    "# this line just makes sure that every component of the plot is where it should be \n",
    "# and nothing is lost when saving the graph to a file, but it's optional\n",
    "plt.tight_layout()\n",
    "# file saving\n",
    "plt.savefig(\"nice_plot.png\", dpi=300) # but that does not work that well in colab\n",
    "plt.savefig(\"nice_plot.pdf\") # but that does not work that well in colab"
   ]
  },
  {
   "cell_type": "code",
   "execution_count": 62,
   "metadata": {},
   "outputs": [
    {
     "data": {
      "image/png": "[encoded data removed]",
      "text/plain": [
       "<Figure size 640x480 with 1 Axes>"
      ]
     },
     "metadata": {},
     "output_type": "display_data"
    }
   ],
   "source": [
    "plt.plot(xdata, ydata_1)\n",
    "plt.plot(xdata, ydata_2)\n",
    "\n",
    "# set the x-axis to a logarithmic scale\n",
    "plt.xscale(\"log\")"
   ]
  },
  {
   "cell_type": "code",
   "execution_count": 63,
   "metadata": {},
   "outputs": [
    {
     "name": "stderr",
     "output_type": "stream",
     "text": [
      "/Users/tomas/teaching/.venv/lib/python3.11/site-packages/matplotlib/collections.py:996: RuntimeWarning: invalid value encountered in sqrt\n",
      "  scale = np.sqrt(self._sizes) * dpi / 72.0 * self._factor\n"
     ]
    },
    {
     "data": {
      "image/png": "[encoded data removed]",
      "text/plain": [
       "<Figure size 640x480 with 1 Axes>"
      ]
     },
     "metadata": {},
     "output_type": "display_data"
    }
   ],
   "source": [
    "# Scatter plot\n",
    "# again, we generate some random data\n",
    "\n",
    "# x and y individually\n",
    "xdata_1 = np.random.normal(size=100)\n",
    "ydata_1 = np.random.normal(loc=2, scale=3, size=100)\n",
    "\n",
    "# x and y in 2D with a covariance matrix\n",
    "xdata_2, ydata_2 = np.random.multivariate_normal(mean=[0, 10], cov=[[1,1], [1,5]], size=100).T\n",
    "# fancy: some random sizes for the markers\n",
    "size_data = np.random.normal(loc=80, scale=30, size=100) # generate different marker sizes for ydata_1\n",
    "\n",
    "# now we plot the individual data points\n",
    "plt.scatter(xdata_1, ydata_1, marker=\"h\", alpha=0.5, s=size_data, label=\"First data set\")\n",
    "plt.scatter(xdata_2, ydata_2, marker=\"v\", alpha=0.5, label=\"Second data set\")\n",
    "plt.legend()\n",
    "plt.xlabel(\"X data / (some unit)\")\n",
    "plt.ylabel(\"Y data / (another unit)\")\n",
    "plt.tight_layout()"
   ]
  },
  {
   "cell_type": "code",
   "execution_count": 64,
   "metadata": {},
   "outputs": [
    {
     "data": {
      "image/png": "[encoded data removed]",
      "text/plain": [
       "<Figure size 640x480 with 2 Axes>"
      ]
     },
     "metadata": {},
     "output_type": "display_data"
    }
   ],
   "source": [
    "# additional color information\n",
    "\n",
    "# random data\n",
    "xdata = np.random.normal(size=100)\n",
    "ydata = np.random.normal(loc=2, scale=3, size=100)\n",
    "color_data = np.random.normal(loc=80, scale=30, size=100)\n",
    "\n",
    "plt.scatter(xdata, ydata, marker=\"h\", alpha=0.5, c=color_data, cmap=plt.cm.Spectral)\n",
    "cb = plt.colorbar() # show the colorbar\n",
    "cb.ax.set_ylabel(\"Color data\") # label the color axis\n",
    "\n",
    "plt.xlabel(\"X data / (some unit)\")\n",
    "plt.ylabel(\"Y data / (another unit)\")\n",
    "plt.tight_layout()"
   ]
  },
  {
   "cell_type": "code",
   "execution_count": 65,
   "metadata": {},
   "outputs": [
    {
     "data": {
      "text/plain": [
       "<matplotlib.legend.Legend at 0x10d824ad0>"
      ]
     },
     "execution_count": 65,
     "metadata": {},
     "output_type": "execute_result"
    },
    {
     "data": {
      "image/png": "[encoded data removed]",
      "text/plain": [
       "<Figure size 640x480 with 1 Axes>"
      ]
     },
     "metadata": {},
     "output_type": "display_data"
    }
   ],
   "source": [
    "# histogram\n",
    "\n",
    "# generate some data\n",
    "data_1 = np.random.exponential(size=100)\n",
    "data_2 = np.random.exponential(scale=2, size=100)\n",
    "# histogrammize the data and plot them in one step\n",
    "plt.hist(data_1, bins=np.linspace(0, 7, 10), label=\"First data set\")\n",
    "plt.hist(data_2, bins=np.linspace(0, 7, 10), label=\"Second data set\")\n",
    "\n",
    "plt.xlabel(\"Random data\")\n",
    "plt.ylabel(\"Frequency\")\n",
    "plt.legend(loc=1)\n",
    "# okay, that's a bit unclear, we can't see much of the first data set"
   ]
  },
  {
   "cell_type": "code",
   "execution_count": 66,
   "metadata": {},
   "outputs": [
    {
     "data": {
      "text/plain": [
       "<matplotlib.legend.Legend at 0x10d8d7e50>"
      ]
     },
     "execution_count": 66,
     "metadata": {},
     "output_type": "execute_result"
    },
    {
     "data": {
      "image/png": "[encoded data removed]",
      "text/plain": [
       "<Figure size 640x480 with 1 Axes>"
      ]
     },
     "metadata": {},
     "output_type": "display_data"
    }
   ],
   "source": [
    "plt.hist(\n",
    "    [data_1, data_2], # stack the data side by side into one histogram\n",
    "    bins=np.linspace(0, 7, 10), \n",
    "    label=[\"First data set\", \"Second data set\"]\n",
    ")\n",
    "plt.xlabel(\"Random data\")\n",
    "plt.ylabel(\"Frequency\")\n",
    "plt.legend(loc=1)\n",
    "# better!"
   ]
  },
  {
   "cell_type": "code",
   "execution_count": 67,
   "metadata": {},
   "outputs": [
    {
     "data": {
      "text/plain": [
       "<matplotlib.legend.Legend at 0x10d954ad0>"
      ]
     },
     "execution_count": 67,
     "metadata": {},
     "output_type": "execute_result"
    },
    {
     "data": {
      "image/png": "[encoded data removed]",
      "text/plain": [
       "<Figure size 640x480 with 1 Axes>"
      ]
     },
     "metadata": {},
     "output_type": "display_data"
    }
   ],
   "source": [
    "plt.hist(\n",
    "    [data_1, data_2], \n",
    "    bins=np.arange(0, 10), \n",
    "    label=[\"First data set\", \"Second data set\"],\n",
    "    histtype=\"barstacked\" # stack the data on top of each other into one histogram\n",
    ")\n",
    "plt.xlabel(\"Random data\")\n",
    "plt.ylabel(\"Frequency\")\n",
    "plt.legend(loc=1)\n",
    "# fancy!"
   ]
  },
  {
   "cell_type": "code",
   "execution_count": 68,
   "metadata": {},
   "outputs": [
    {
     "data": {
      "text/plain": [
       "(array([[4., 0., 0., 0., 1., 2., 2., 0., 0., 1.],\n",
       "        [1., 1., 1., 0., 1., 2., 1., 1., 3., 3.],\n",
       "        [1., 1., 0., 0., 0., 3., 1., 0., 3., 0.],\n",
       "        [1., 2., 1., 1., 1., 1., 0., 0., 2., 1.],\n",
       "        [0., 2., 2., 2., 1., 1., 2., 1., 2., 2.],\n",
       "        [0., 0., 1., 0., 1., 0., 2., 1., 1., 0.],\n",
       "        [0., 0., 1., 0., 1., 1., 2., 0., 1., 2.],\n",
       "        [0., 1., 1., 2., 0., 0., 2., 1., 1., 2.],\n",
       "        [0., 1., 0., 0., 1., 1., 0., 0., 1., 2.],\n",
       "        [3., 1., 2., 2., 0., 0., 1., 3., 0., 0.]]),\n",
       " array([0.01245391, 0.11051256, 0.2085712 , 0.30662985, 0.40468849,\n",
       "        0.50274714, 0.60080579, 0.69886443, 0.79692308, 0.89498172,\n",
       "        0.99304037]),\n",
       " array([0.01778678, 0.11523184, 0.2126769 , 0.31012196, 0.40756702,\n",
       "        0.50501208, 0.60245714, 0.69990221, 0.79734727, 0.89479233,\n",
       "        0.99223739]),\n",
       " <matplotlib.collections.QuadMesh at 0x10da2e990>)"
      ]
     },
     "execution_count": 68,
     "metadata": {},
     "output_type": "execute_result"
    },
    {
     "data": {
      "image/png": "[encoded data removed]",
      "text/plain": [
       "<Figure size 640x480 with 1 Axes>"
      ]
     },
     "metadata": {},
     "output_type": "display_data"
    }
   ],
   "source": [
    "x = np.random.uniform(0, 1, size=100)\n",
    "y = np.random.uniform(0, 1, size=100)\n",
    "plt.hist2d(x, y)"
   ]
  },
  {
   "cell_type": "markdown",
   "metadata": {},
   "source": [
    "End of the second day"
   ]
  },
  {
   "cell_type": "markdown",
   "metadata": {
    "slideshow": {
     "slide_type": "slide"
    }
   },
   "source": [
    "## Pandas"
   ]
  },
  {
   "cell_type": "markdown",
   "metadata": {
    "slideshow": {
     "slide_type": "subslide"
    }
   },
   "source": [
    "The `pandas` package provides userfriendly record arrays as `DataFrame` objects. 1D arrays are represented by `Series` objects.\n",
    "\n",
    "* See [pandas.pydata.org](https://pandas.pydata.org/)\n",
    "* Table rows can be indexed for faster access.\n",
    "* See [The 10 min guide (pandas.pydata.org/docs/user_guide/10min.html)](https://pandas.pydata.org/docs/user_guide/10min.html)"
   ]
  },
  {
   "cell_type": "code",
   "execution_count": null,
   "metadata": {
    "slideshow": {
     "slide_type": "fragment"
    }
   },
   "outputs": [],
   "source": [
    "import pandas as pd\n",
    "df = pd.DataFrame({'A': [1, 2, 3]})\n",
    "print(df)"
   ]
  },
  {
   "cell_type": "code",
   "execution_count": null,
   "metadata": {},
   "outputs": [],
   "source": [
    "arr = pd.Series([1, 2, 3])\n",
    "print(arr)"
   ]
  },
  {
   "cell_type": "markdown",
   "metadata": {
    "slideshow": {
     "slide_type": "subslide"
    }
   },
   "source": [
    "### Viewing DataFrame objects "
   ]
  },
  {
   "cell_type": "code",
   "execution_count": null,
   "metadata": {
    "slideshow": {
     "slide_type": "subslide"
    }
   },
   "outputs": [],
   "source": [
    "# Show data types:\n",
    "df.dtypes"
   ]
  },
  {
   "cell_type": "code",
   "execution_count": null,
   "metadata": {
    "slideshow": {
     "slide_type": "subslide"
    }
   },
   "outputs": [],
   "source": [
    "# describe() shows a quick statistic summary of your data:\n",
    "df.describe()"
   ]
  },
  {
   "cell_type": "code",
   "execution_count": null,
   "metadata": {
    "slideshow": {
     "slide_type": "subslide"
    }
   },
   "outputs": [],
   "source": [
    "# Slicing rows.\n",
    "df[0:2]"
   ]
  },
  {
   "cell_type": "markdown",
   "metadata": {
    "slideshow": {
     "slide_type": "slide"
    }
   },
   "source": [
    "# Working with version control systems (git)"
   ]
  },
  {
   "cell_type": "markdown",
   "metadata": {
    "slideshow": {
     "slide_type": "subslide"
    }
   },
   "source": [
    "## What is a version control system?\n",
    "\n",
    "![Version Control](https://github.com/martwo/teaching/raw/master/WS_2022_23/advanced_python/figures/version_control.png)\n",
    "\n",
    "* Allows to keep track of changes (versions) of files.\n",
    "* Tracks the history of a file.\n",
    "* Manages a **repository**, i.e. a collection of files, usually a directory tree.\n",
    "* Allows collaborating on same files by several people.\n",
    "    * Conflict resolution\n",
    "* Allows branching-off from the main development path, i.e. **branches**.\n",
    "    * Branches can be merged"
   ]
  },
  {
   "cell_type": "markdown",
   "metadata": {
    "slideshow": {
     "slide_type": "subslide"
    }
   },
   "source": [
    "## What is `git`?\n",
    "\n",
    "* A version control system developed by the inventor of the Linux kernel, Linus Torvalds.\n",
    "* A decentralized system\n",
    "    * repositories are stored locally on the user's computer\n",
    "    * a central (remote) repository might exists, e.g. github.com"
   ]
  },
  {
   "cell_type": "markdown",
   "metadata": {
    "slideshow": {
     "slide_type": "subslide"
    }
   },
   "source": [
    "## Cloning a repository\n",
    "\n",
    "To clone a repository use the `git clone <repo_url>.git <local_dir>` command:\n",
    "\n",
    "```bash\n",
    "git clone https://github.com/icecube/skyllh.git skyllh\n",
    "```\n",
    "\n",
    "This copies (clones) the **master** branch of the repository from the remote location to the local disk."
   ]
  },
  {
   "cell_type": "markdown",
   "metadata": {
    "slideshow": {
     "slide_type": "subslide"
    }
   },
   "source": [
    "## Working with branches\n",
    "\n",
    "![Git Branches](https://github.com/martwo/teaching/raw/master/WS_2022_23/advanced_python/figures/git_branches.png)\n",
    "\n",
    "* A branch represents an independent line of development.\n",
    "* Always use a new branch when making large code changes, e.g. new feature development or bug fix! "
   ]
  },
  {
   "cell_type": "markdown",
   "metadata": {
    "slideshow": {
     "slide_type": "subslide"
    }
   },
   "source": [
    "### List available branches\n",
    "To list all available remote branches type:\n",
    "\n",
    "```bash\n",
    "git branch -a\n",
    "```"
   ]
  },
  {
   "cell_type": "markdown",
   "metadata": {
    "slideshow": {
     "slide_type": "subslide"
    }
   },
   "source": [
    "### Creating a new branch\n",
    "\n",
    "To work on a new feature or bug fix, one should create a new branch from the *master* branch.\n",
    "\n",
    "* Clone the repository.\n",
    "* Checkout a new branch via the `git checkout -b <branch>` command.\n",
    "\n",
    "```bash\n",
    "git clone https://github.com/icecube/skyllh.git skyllh.my_new_feature\n",
    "cd skyllh.my_new_feature/\n",
    "git checkout -b my_new_feature\n",
    "```\n",
    "\n",
    "After creating the new branch it lives in your local repository. In order to copy it to the remote repository one uses the `git push --set-upstream origin <branch>` command:\n",
    "\n",
    "```bash\n",
    "git push --set-upstream origin my_new_feature\n",
    "```\n",
    "\n",
    "To see on which branch you are currently working on use\n",
    "\n",
    "```bash\n",
    "git branch\n",
    "```\n",
    "to get the list of available branches."
   ]
  },
  {
   "cell_type": "markdown",
   "metadata": {
    "slideshow": {
     "slide_type": "subslide"
    }
   },
   "source": [
    "## Commiting code changes\n",
    "\n",
    "After making code changes, these changes must be committed to the branch as a commit.\n",
    "\n",
    "To see the changed files:\n",
    "\n",
    "```bash\n",
    "git status\n",
    "```\n",
    "\n",
    "To see the changes of a file:\n",
    "\n",
    "```bash\n",
    "git diff <file>\n",
    "```\n",
    "\n",
    "To stage a changed file for a commit, use the `git add` command:\n",
    "\n",
    "```bash\n",
    "git add <file>\n",
    "```\n",
    "\n",
    "To commit all staged files:\n",
    "\n",
    "```bash\n",
    "git commit -m \"My commit description\"\n",
    "```\n"
   ]
  },
  {
   "cell_type": "markdown",
   "metadata": {
    "slideshow": {
     "slide_type": "subslide"
    }
   },
   "source": [
    "## Merging two branches\n",
    "\n",
    "After a bug was fixed or a new feature was implemented the development branch needs to be merged with the *master* branch."
   ]
  },
  {
   "cell_type": "markdown",
   "metadata": {
    "slideshow": {
     "slide_type": "fragment"
    }
   },
   "source": [
    "![Merging two branches](https://github.com/martwo/teaching/raw/master/WS_2022_23/advanced_python/figures/git_branch_merge.png)"
   ]
  },
  {
   "cell_type": "markdown",
   "metadata": {
    "slideshow": {
     "slide_type": "subslide"
    }
   },
   "source": [
    "* Make sure to be in the correct receiving branch, e.g. master:\n",
    "\n",
    "```bash\n",
    "git checkout master\n",
    "```\n",
    "\n",
    "* Fetch and pull the latest updates of the receiving branch:\n",
    "\n",
    "```bash\n",
    "git fetch\n",
    "git pull\n",
    "```\n",
    "\n",
    "* Marge the feature branch into the master branch:\n",
    "\n",
    "```bash\n",
    "git merge my_new_feature\n",
    "```\n",
    "\n",
    "* Delete the feature branch:\n",
    "\n",
    "```bash\n",
    "git branch -d my_new_feature\n",
    "```"
   ]
  },
  {
   "cell_type": "markdown",
   "metadata": {
    "slideshow": {
     "slide_type": "subslide"
    }
   },
   "source": [
    "## Resolving merge conflicts\n",
    "\n",
    "* Merge conflicts occur when the **same part of the same file** was **changed by both branches**.\n",
    "* `git merge` will fail before creating the merge commit.\n",
    "* `git status` will tell where merge conflics are."
   ]
  },
  {
   "cell_type": "markdown",
   "metadata": {
    "slideshow": {
     "slide_type": "fragment"
    }
   },
   "source": [
    "```\n",
    "here is some content not affected by the conflict\n",
    "<<<<<<< master\n",
    "this is conflicted text from master\n",
    "=======\n",
    "this is conflicted text from my_new_feature branch\n",
    ">>>>>>> my_new_feature;\n",
    "```"
   ]
  },
  {
   "cell_type": "markdown",
   "metadata": {
    "slideshow": {
     "slide_type": "fragment"
    }
   },
   "source": [
    "* Edit the conflicting files to resolve the conflict.\n",
    "* Stage the changed files with `git add`.\n",
    "* Perform a final merge commit with `git commit`."
   ]
  },
  {
   "cell_type": "markdown",
   "metadata": {
    "slideshow": {
     "slide_type": "subslide"
    }
   },
   "source": [
    "## Pull requests on github.com\n",
    "\n",
    "* *github.com* provides the functionality to create **pull requests**.\n",
    "* Pull requests are branches that **ask to be pulled** into the master branch via a merge operation.\n",
    "* Pull requests can be **code-reviewed** before merging."
   ]
  },
  {
   "cell_type": "markdown",
   "metadata": {
    "slideshow": {
     "slide_type": "slide"
    }
   },
   "source": [
    "# Profiling your Python program"
   ]
  },
  {
   "cell_type": "markdown",
   "metadata": {
    "slideshow": {
     "slide_type": "subslide"
    }
   },
   "source": [
    "* Profilers tell you where your Python programs spends the most time and what memory it uses.\n",
    "* Available profilers and their properties: ![List of profilers](https://raw.githubusercontent.com/plasma-umass/scalene/master/docs/images/profiler-comparison.png)\n",
    "* A good and fast profiler is **scalene**: [github.com/plasma-umass/scalene](https://github.com/plasma-umass/scalene)"
   ]
  },
  {
   "cell_type": "markdown",
   "metadata": {
    "slideshow": {
     "slide_type": "slide"
    }
   },
   "source": [
    "# About this document"
   ]
  },
  {
   "cell_type": "markdown",
   "metadata": {
    "slideshow": {
     "slide_type": "fragment"
    }
   },
   "source": [
    "This notebook can be found on *github.com*:\n",
    "\n",
    "[https://github.com/martwo/teaching/tree/master/WS_2022_23/advanced_python](https://github.com/martwo/teaching/tree/master/WS_2022_23/advanced_python)\n",
    "\n",
    "and can be cloned via:\n",
    "\n",
    "```bash\n",
    "git clone https://github.com/martwo/teaching.git\n",
    "```\n",
    "\n",
    "Converting this notebook into slides and launching a browser window opening them:\n",
    "\n",
    "```bash\n",
    "jupyter nbconvert advanced_python.ipynb --to slides --post serve\n",
    "```"
   ]
  }
 ],
 "metadata": {
  "celltoolbar": "Slideshow",
  "kernelspec": {
   "display_name": "base",
   "language": "python",
   "name": "python3"
  },
  "language_info": {
   "codemirror_mode": {
    "name": "ipython",
    "version": 3
   },
   "file_extension": ".py",
   "mimetype": "text/x-python",
   "name": "python",
   "nbconvert_exporter": "python",
   "pygments_lexer": "ipython3",
   "version": "3.11.10"
  }
 },
 "nbformat": 4,
 "nbformat_minor": 2
}
